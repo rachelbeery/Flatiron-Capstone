{
 "cells": [
  {
   "cell_type": "markdown",
   "metadata": {},
   "source": [
    "# Capstone - FEMA Hazard Mitigation Regression Analysis"
   ]
  },
  {
   "cell_type": "markdown",
   "metadata": {},
   "source": [
    "**By Rachel Beery**"
   ]
  },
  {
   "cell_type": "markdown",
   "metadata": {},
   "source": [
    "**For my capstone I want to study community resilency and predict hazard mitigation success. I will be using the OpenFEMA datasets. My project will use time series  supervised learning modeling to predict hazard mitigation success.**"
   ]
  },
  {
   "cell_type": "markdown",
   "metadata": {},
   "source": [
    "**In this project we are using a regression analysis model to understand the ROI of hazard mitigation costs in USD. By understanding these patterns we will then provide recommendations on how to better allocate hazard mitigation funds in the future.**"
   ]
  },
  {
   "cell_type": "markdown",
   "metadata": {},
   "source": [
    "Source: https://www.fema.gov/about/openfema/data-sets"
   ]
  },
  {
   "cell_type": "markdown",
   "metadata": {},
   "source": [
    "### Goals: \n",
    "- Make a linear regression to see if there is a pattern overtime in hazard mitigation.\n",
    "- Make a linear regression to see if there is a pattern overtime in recovery funds.\n",
    "- Somehow bring these two together to see if certain hazard mitigation had more ROI\n",
    "- Make categoricals for years"
   ]
  },
  {
   "cell_type": "markdown",
   "metadata": {},
   "source": [
    "# Data Exploration and Cleaning"
   ]
  },
  {
   "cell_type": "code",
   "execution_count": 1,
   "metadata": {},
   "outputs": [],
   "source": [
    "# We will begin by importing all of the packages we anticipate to use\n",
    "import pandas as pd\n",
    "import pandas.tseries  \n",
    "import numpy as np  \n",
    "\n",
    "import statsmodels.api as sm \n",
    "import itertools\n",
    "\n",
    "import matplotlib.pyplot as plt   \n",
    "from matplotlib.pylab import rcParams \n",
    "%matplotlib inline\n",
    "import matplotlib.ticker as mtick\n",
    "plt.style.use('ggplot') \n",
    "import plotly.express as px\n",
    "import plotly.figure_factory as ff \n",
    "import plotly.graph_objects as go \n",
    "import seaborn as sns  \n",
    "\n",
    "from statsmodels.tsa.arima_model import ARMA\n",
    "from statsmodels.tsa.statespace.sarimax import SARIMAX\n",
    "\n",
    "import warnings\n",
    "warnings.filterwarnings('ignore') \n",
    "\n",
    "import math\n",
    "import scipy.stats as stats\n",
    "\n",
    "from sklearn.preprocessing import StandardScaler\n",
    "import statsmodels.api as sm\n",
    "from scipy import stats\n",
    "import statsmodels.formula.api as smf\n",
    "from statsmodels.stats.outliers_influence import variance_inflation_factor\n",
    "\n",
    "from sklearn.model_selection import train_test_split\n",
    "from sklearn.metrics import mean_squared_error, make_scorer\n",
    "from sklearn.metrics import roc_auc_score\n",
    "from sklearn.model_selection import cross_val_score\n",
    "from sklearn.metrics import r2_score\n",
    "from sklearn.linear_model import LinearRegression\n",
    "from sklearn.linear_model import LogisticRegression\n",
    "from sklearn.feature_selection import VarianceThreshold, SelectFromModel\n",
    "linreg = LinearRegression()\n",
    "\n",
    "from sklearn.model_selection import GridSearchCV, cross_val_score\n",
    "from sklearn.preprocessing import StandardScaler, MinMaxScaler\n",
    "from sklearn.neighbors import KNeighborsClassifier\n",
    "from sklearn.linear_model import LogisticRegression\n",
    "from sklearn.model_selection import train_test_split\n",
    "from sklearn.ensemble import RandomForestClassifier, AdaBoostClassifier, GradientBoostingClassifier\n",
    "from sklearn.pipeline import Pipeline\n",
    "from sklearn.metrics import classification_report, confusion_matrix, precision_score, accuracy_score, recall_score, f1_score, roc_curve, auc\n",
    "from sklearn.preprocessing import OneHotEncoder\n",
    "from sklearn.metrics import plot_confusion_matrix\n",
    "from sklearn.naive_bayes import MultinomialNB\n",
    "from sklearn.tree import DecisionTreeClassifier\n",
    "import xgboost"
   ]
  },
  {
   "cell_type": "code",
   "execution_count": 2,
   "metadata": {},
   "outputs": [],
   "source": [
    "# Setting the display defaults\n",
    "pd.set_option('display.max_columns', 0)\n",
    "# pd.set_option('display.max_rows',)\n",
    "\n",
    "# Turning off scientific notation in pandas\n",
    "pd.set_option('display.float_format', lambda x: '%.3f' % x)"
   ]
  },
  {
   "cell_type": "code",
   "execution_count": 3,
   "metadata": {
    "scrolled": true
   },
   "outputs": [
    {
     "data": {
      "text/html": [
       "<div>\n",
       "<style scoped>\n",
       "    .dataframe tbody tr th:only-of-type {\n",
       "        vertical-align: middle;\n",
       "    }\n",
       "\n",
       "    .dataframe tbody tr th {\n",
       "        vertical-align: top;\n",
       "    }\n",
       "\n",
       "    .dataframe thead th {\n",
       "        text-align: right;\n",
       "    }\n",
       "</style>\n",
       "<table border=\"1\" class=\"dataframe\">\n",
       "  <thead>\n",
       "    <tr style=\"text-align: right;\">\n",
       "      <th></th>\n",
       "      <th>region</th>\n",
       "      <th>stateNumberCode</th>\n",
       "      <th>state</th>\n",
       "      <th>countyCode</th>\n",
       "      <th>county</th>\n",
       "      <th>programArea</th>\n",
       "      <th>projectIdentifier</th>\n",
       "      <th>projectType</th>\n",
       "      <th>projectTitle</th>\n",
       "      <th>projectCounties</th>\n",
       "      <th>numberOfProperties</th>\n",
       "      <th>numberOfFinalProperties</th>\n",
       "      <th>status</th>\n",
       "      <th>subgrantee</th>\n",
       "      <th>costSharePercentage</th>\n",
       "      <th>projectAmount</th>\n",
       "      <th>federalShareObligated</th>\n",
       "      <th>programFy</th>\n",
       "      <th>dateInitiallyApproved</th>\n",
       "      <th>dateApproved</th>\n",
       "      <th>dateClosed</th>\n",
       "      <th>granteeTribalIndicator</th>\n",
       "      <th>grantee</th>\n",
       "      <th>disasterNumber</th>\n",
       "      <th>benefitCostRatio</th>\n",
       "      <th>netValueBenefits</th>\n",
       "      <th>subgranteeTribalIndicator</th>\n",
       "      <th>hash</th>\n",
       "      <th>lastRefresh</th>\n",
       "      <th>id</th>\n",
       "    </tr>\n",
       "  </thead>\n",
       "  <tbody>\n",
       "    <tr>\n",
       "      <td>0</td>\n",
       "      <td>6</td>\n",
       "      <td>48</td>\n",
       "      <td>Texas</td>\n",
       "      <td>167.000</td>\n",
       "      <td>Galveston</td>\n",
       "      <td>HMGP</td>\n",
       "      <td>DR-1999-0061-R</td>\n",
       "      <td>400.1: Utility Protective Measures (Electric, ...</td>\n",
       "      <td>UTMB Elevation of Electrical Services Bldg 9</td>\n",
       "      <td>GALVESTON</td>\n",
       "      <td>0</td>\n",
       "      <td>0</td>\n",
       "      <td>Closed</td>\n",
       "      <td>UNIVERSITY OF TEXAS MEDICAL BRANCH</td>\n",
       "      <td>0.750</td>\n",
       "      <td>402910.000</td>\n",
       "      <td>302181.820</td>\n",
       "      <td>2011</td>\n",
       "      <td>2013-12-10T05:00:00.000Z</td>\n",
       "      <td>2020-02-06T05:00:00.000Z</td>\n",
       "      <td>2020-02-06T05:00:00.000Z</td>\n",
       "      <td>0.000</td>\n",
       "      <td>Statewide</td>\n",
       "      <td>1999.000</td>\n",
       "      <td>4.041</td>\n",
       "      <td>2969310.000</td>\n",
       "      <td>0.000</td>\n",
       "      <td>a959dc8cb69df0bd7f236b2021101501</td>\n",
       "      <td>2020-09-17T18:15:38.772Z</td>\n",
       "      <td>5f63a7ca31a8c6681c9dfd79</td>\n",
       "    </tr>\n",
       "    <tr>\n",
       "      <td>1</td>\n",
       "      <td>5</td>\n",
       "      <td>18</td>\n",
       "      <td>Indiana</td>\n",
       "      <td>21.000</td>\n",
       "      <td>Clay</td>\n",
       "      <td>HMGP</td>\n",
       "      <td>DR-1997-0014-R</td>\n",
       "      <td>200.1: Acquisition of Private Real Property (S...</td>\n",
       "      <td>City of Brazil Phase 2</td>\n",
       "      <td>CLAY</td>\n",
       "      <td>13</td>\n",
       "      <td>6</td>\n",
       "      <td>Closed</td>\n",
       "      <td>Brazil</td>\n",
       "      <td>0.620</td>\n",
       "      <td>366071.000</td>\n",
       "      <td>227383.000</td>\n",
       "      <td>2011</td>\n",
       "      <td>2013-04-09T04:00:00.000Z</td>\n",
       "      <td>2019-11-25T05:00:00.000Z</td>\n",
       "      <td>2019-11-25T05:00:00.000Z</td>\n",
       "      <td>0.000</td>\n",
       "      <td>Statewide</td>\n",
       "      <td>1997.000</td>\n",
       "      <td>1.357</td>\n",
       "      <td>961452.000</td>\n",
       "      <td>0.000</td>\n",
       "      <td>cb8464b16e232b502ef9c8a3d385752b</td>\n",
       "      <td>2020-09-17T18:15:38.771Z</td>\n",
       "      <td>5f63a7ca31a8c6681c9dfd81</td>\n",
       "    </tr>\n",
       "    <tr>\n",
       "      <td>2</td>\n",
       "      <td>7</td>\n",
       "      <td>19</td>\n",
       "      <td>Iowa</td>\n",
       "      <td>153.000</td>\n",
       "      <td>Polk</td>\n",
       "      <td>HMGP</td>\n",
       "      <td>DR-1998-0022-P</td>\n",
       "      <td>91.1: Local Multihazard Mitigation Plan</td>\n",
       "      <td>Polk Countywide Multi-Jurisdiction Multi-Hazar...</td>\n",
       "      <td>POLK</td>\n",
       "      <td>0</td>\n",
       "      <td>0</td>\n",
       "      <td>Closed</td>\n",
       "      <td>Polk (County)</td>\n",
       "      <td>0.750</td>\n",
       "      <td>96965.000</td>\n",
       "      <td>72724.000</td>\n",
       "      <td>2011</td>\n",
       "      <td>2012-05-10T04:00:00.000Z</td>\n",
       "      <td>2015-07-28T04:00:00.000Z</td>\n",
       "      <td>2015-07-29T04:00:00.000Z</td>\n",
       "      <td>0.000</td>\n",
       "      <td>Statewide</td>\n",
       "      <td>1998.000</td>\n",
       "      <td>0.000</td>\n",
       "      <td>0.000</td>\n",
       "      <td>0.000</td>\n",
       "      <td>bd467ece18ecc6c8a40b824175b7f029</td>\n",
       "      <td>2020-09-17T18:15:38.772Z</td>\n",
       "      <td>5f63a7ca31a8c6681c9dfd84</td>\n",
       "    </tr>\n",
       "    <tr>\n",
       "      <td>3</td>\n",
       "      <td>2</td>\n",
       "      <td>36</td>\n",
       "      <td>New York</td>\n",
       "      <td>83.000</td>\n",
       "      <td>Rensselaer</td>\n",
       "      <td>HMGP</td>\n",
       "      <td>DR-4020-0064-F</td>\n",
       "      <td>600.1: Warning Systems (as a Component of a Pl...</td>\n",
       "      <td>Canal Flood Warning System</td>\n",
       "      <td>OSWEGO; ONTARIO; SARATOGA; SCHENECTADY; SCHOHA...</td>\n",
       "      <td>0</td>\n",
       "      <td>0</td>\n",
       "      <td>Closed</td>\n",
       "      <td>THRUWY AUTH/NYS CANAL CORP</td>\n",
       "      <td>1.000</td>\n",
       "      <td>5932500.000</td>\n",
       "      <td>5932500.000</td>\n",
       "      <td>2011</td>\n",
       "      <td>2013-11-12T05:00:00.000Z</td>\n",
       "      <td>2014-11-07T05:00:00.000Z</td>\n",
       "      <td>2018-01-24T05:00:00.000Z</td>\n",
       "      <td>0.000</td>\n",
       "      <td>Statewide</td>\n",
       "      <td>4020.000</td>\n",
       "      <td>0.000</td>\n",
       "      <td>0.000</td>\n",
       "      <td>0.000</td>\n",
       "      <td>ab6774d20b7cd64215ded6135377cc1e</td>\n",
       "      <td>2021-01-19T17:38:38.392Z</td>\n",
       "      <td>5f63a7ca31a8c6681c9dfd87</td>\n",
       "    </tr>\n",
       "    <tr>\n",
       "      <td>4</td>\n",
       "      <td>7</td>\n",
       "      <td>19</td>\n",
       "      <td>Iowa</td>\n",
       "      <td>141.000</td>\n",
       "      <td>O'Brien</td>\n",
       "      <td>HMGP</td>\n",
       "      <td>DR-1998-0013-F</td>\n",
       "      <td>600.1: Warning Systems (as a Component of a Pl...</td>\n",
       "      <td>Sheldon Outdoor Warning Sirens Project</td>\n",
       "      <td>O'BRIEN</td>\n",
       "      <td>0</td>\n",
       "      <td>0</td>\n",
       "      <td>Closed</td>\n",
       "      <td>Sheldon</td>\n",
       "      <td>0.750</td>\n",
       "      <td>34245.000</td>\n",
       "      <td>25683.000</td>\n",
       "      <td>2011</td>\n",
       "      <td>2012-05-03T04:00:00.000Z</td>\n",
       "      <td>2012-05-03T04:00:00.000Z</td>\n",
       "      <td>2013-09-26T04:00:00.000Z</td>\n",
       "      <td>0.000</td>\n",
       "      <td>Statewide</td>\n",
       "      <td>1998.000</td>\n",
       "      <td>0.000</td>\n",
       "      <td>0.000</td>\n",
       "      <td>0.000</td>\n",
       "      <td>62fff845e7929eb2587b530b69ae2f93</td>\n",
       "      <td>2020-09-17T18:15:38.772Z</td>\n",
       "      <td>5f63a7ca31a8c6681c9dfd88</td>\n",
       "    </tr>\n",
       "  </tbody>\n",
       "</table>\n",
       "</div>"
      ],
      "text/plain": [
       "   region  stateNumberCode  ...               lastRefresh                        id\n",
       "0       6               48  ...  2020-09-17T18:15:38.772Z  5f63a7ca31a8c6681c9dfd79\n",
       "1       5               18  ...  2020-09-17T18:15:38.771Z  5f63a7ca31a8c6681c9dfd81\n",
       "2       7               19  ...  2020-09-17T18:15:38.772Z  5f63a7ca31a8c6681c9dfd84\n",
       "3       2               36  ...  2021-01-19T17:38:38.392Z  5f63a7ca31a8c6681c9dfd87\n",
       "4       7               19  ...  2020-09-17T18:15:38.772Z  5f63a7ca31a8c6681c9dfd88\n",
       "\n",
       "[5 rows x 30 columns]"
      ]
     },
     "execution_count": 3,
     "metadata": {},
     "output_type": "execute_result"
    }
   ],
   "source": [
    "#Import data and see the headers\n",
    "df = pd.read_csv(r\"HazardMitigationAssistanceProjects - HazardMitigationAssistanceProjects.csv\")\n",
    "df.head()"
   ]
  },
  {
   "cell_type": "code",
   "execution_count": 4,
   "metadata": {},
   "outputs": [
    {
     "data": {
      "text/plain": [
       "(29628, 30)"
      ]
     },
     "execution_count": 4,
     "metadata": {},
     "output_type": "execute_result"
    }
   ],
   "source": [
    "# How big is this dataset?\n",
    "df.shape"
   ]
  },
  {
   "cell_type": "code",
   "execution_count": 5,
   "metadata": {
    "scrolled": true
   },
   "outputs": [
    {
     "name": "stdout",
     "output_type": "stream",
     "text": [
      "<class 'pandas.core.frame.DataFrame'>\n",
      "RangeIndex: 29628 entries, 0 to 29627\n",
      "Data columns (total 30 columns):\n",
      "region                       29628 non-null int64\n",
      "stateNumberCode              29628 non-null int64\n",
      "state                        29628 non-null object\n",
      "countyCode                   27586 non-null float64\n",
      "county                       27586 non-null object\n",
      "programArea                  29628 non-null object\n",
      "projectIdentifier            29628 non-null object\n",
      "projectType                  29301 non-null object\n",
      "projectTitle                 29450 non-null object\n",
      "projectCounties              27859 non-null object\n",
      "numberOfProperties           29628 non-null int64\n",
      "numberOfFinalProperties      29628 non-null int64\n",
      "status                       29628 non-null object\n",
      "subgrantee                   29133 non-null object\n",
      "costSharePercentage          29608 non-null float64\n",
      "projectAmount                29608 non-null float64\n",
      "federalShareObligated        29628 non-null float64\n",
      "programFy                    29628 non-null int64\n",
      "dateInitiallyApproved        22686 non-null object\n",
      "dateApproved                 29347 non-null object\n",
      "dateClosed                   20393 non-null object\n",
      "granteeTribalIndicator       22692 non-null float64\n",
      "grantee                      22692 non-null object\n",
      "disasterNumber               22942 non-null float64\n",
      "benefitCostRatio             29628 non-null float64\n",
      "netValueBenefits             24707 non-null float64\n",
      "subgranteeTribalIndicator    22692 non-null float64\n",
      "hash                         29628 non-null object\n",
      "lastRefresh                  29628 non-null object\n",
      "id                           29628 non-null object\n",
      "dtypes: float64(9), int64(5), object(16)\n",
      "memory usage: 6.8+ MB\n"
     ]
    }
   ],
   "source": [
    "# Looking to make sure out df is the correct datatypes\n",
    "df.info()"
   ]
  },
  {
   "cell_type": "code",
   "execution_count": 6,
   "metadata": {
    "scrolled": false
   },
   "outputs": [
    {
     "name": "stdout",
     "output_type": "stream",
     "text": [
      "<class 'pandas.core.frame.DataFrame'>\n",
      "RangeIndex: 29628 entries, 0 to 29627\n",
      "Data columns (total 9 columns):\n",
      "region              29628 non-null int64\n",
      "stateNumberCode     29628 non-null int64\n",
      "programArea         29628 non-null object\n",
      "projectAmount       29608 non-null float64\n",
      "programFy           29628 non-null int64\n",
      "dateApproved        29347 non-null object\n",
      "benefitCostRatio    29628 non-null float64\n",
      "netValueBenefits    24707 non-null float64\n",
      "id                  29628 non-null object\n",
      "dtypes: float64(3), int64(3), object(3)\n",
      "memory usage: 2.0+ MB\n"
     ]
    }
   ],
   "source": [
    "df.drop(axis=1, columns=['subgranteeTribalIndicator', 'lastRefresh', \n",
    "                         'granteeTribalIndicator', 'dateInitiallyApproved', \n",
    "                         'dateClosed', 'projectTitle', 'numberOfFinalProperties', 'subgrantee', \n",
    "                         'projectIdentifier', 'projectCounties', 'numberOfProperties',\n",
    "                        'status', 'costSharePercentage', 'federalShareObligated', 'grantee', \n",
    "                         'disasterNumber', 'hash', \n",
    "                         'state','county', 'countyCode', 'projectType'], inplace=True)\n",
    "df.info()"
   ]
  },
  {
   "cell_type": "code",
   "execution_count": 7,
   "metadata": {
    "scrolled": true
   },
   "outputs": [
    {
     "data": {
      "text/plain": [
       "40000.000      186\n",
       "50000.000      184\n",
       "100000.000     139\n",
       "20000.000      120\n",
       "25000.000      119\n",
       "              ... \n",
       "1252647.000      1\n",
       "840671.000       1\n",
       "40254.000        1\n",
       "31066.670        1\n",
       "573403.000       1\n",
       "Name: projectAmount, Length: 24108, dtype: int64"
      ]
     },
     "execution_count": 7,
     "metadata": {},
     "output_type": "execute_result"
    }
   ],
   "source": [
    "df['projectAmount'].fillna(0.0, axis = 0, inplace=True)\n",
    "df['projectAmount'].value_counts()"
   ]
  },
  {
   "cell_type": "code",
   "execution_count": 8,
   "metadata": {},
   "outputs": [
    {
     "data": {
      "text/plain": [
       "<matplotlib.axes._subplots.AxesSubplot at 0x263abba9438>"
      ]
     },
     "execution_count": 8,
     "metadata": {},
     "output_type": "execute_result"
    },
    {
     "data": {
      "image/png": "[encoded data removed]",
      "text/plain": [
       "<Figure size 432x288 with 1 Axes>"
      ]
     },
     "metadata": {
      "needs_background": "light"
     },
     "output_type": "display_data"
    }
   ],
   "source": [
    "sns.distplot(df.projectAmount)"
   ]
  },
  {
   "cell_type": "code",
   "execution_count": 9,
   "metadata": {},
   "outputs": [
    {
     "data": {
      "text/plain": [
       "0.000          14662\n",
       "21420.000        318\n",
       "1.000            152\n",
       "276000.000        96\n",
       "175000.000        36\n",
       "               ...  \n",
       "775151.000         1\n",
       "387575.000         1\n",
       "1222617.000        1\n",
       "3624869.000        1\n",
       "16552.000          1\n",
       "Name: netValueBenefits, Length: 13097, dtype: int64"
      ]
     },
     "execution_count": 9,
     "metadata": {},
     "output_type": "execute_result"
    }
   ],
   "source": [
    "df['netValueBenefits'].fillna(0.0, axis = 0, inplace=True)\n",
    "df['netValueBenefits'].value_counts()"
   ]
  },
  {
   "cell_type": "code",
   "execution_count": 10,
   "metadata": {},
   "outputs": [],
   "source": [
    "# The outliers need to be addressed\n",
    "df = df[(df['projectAmount']>0)]"
   ]
  },
  {
   "cell_type": "code",
   "execution_count": 11,
   "metadata": {
    "scrolled": true
   },
   "outputs": [],
   "source": [
    "#df['countyCode'].fillna(0.0, axis = 0, inplace=True)\n",
    "#df['countyCode'].value_counts()"
   ]
  },
  {
   "cell_type": "code",
   "execution_count": 12,
   "metadata": {
    "scrolled": false
   },
   "outputs": [],
   "source": [
    "#df['countyCode'] = df['countyCode'].astype('int64')"
   ]
  },
  {
   "cell_type": "code",
   "execution_count": 13,
   "metadata": {
    "scrolled": false
   },
   "outputs": [
    {
     "data": {
      "text/html": [
       "<div>\n",
       "<style scoped>\n",
       "    .dataframe tbody tr th:only-of-type {\n",
       "        vertical-align: middle;\n",
       "    }\n",
       "\n",
       "    .dataframe tbody tr th {\n",
       "        vertical-align: top;\n",
       "    }\n",
       "\n",
       "    .dataframe thead th {\n",
       "        text-align: right;\n",
       "    }\n",
       "</style>\n",
       "<table border=\"1\" class=\"dataframe\">\n",
       "  <thead>\n",
       "    <tr style=\"text-align: right;\">\n",
       "      <th></th>\n",
       "      <th>region</th>\n",
       "      <th>stateNumberCode</th>\n",
       "      <th>projectAmount</th>\n",
       "      <th>programFy</th>\n",
       "      <th>benefitCostRatio</th>\n",
       "      <th>netValueBenefits</th>\n",
       "    </tr>\n",
       "  </thead>\n",
       "  <tbody>\n",
       "    <tr>\n",
       "      <td>count</td>\n",
       "      <td>29576.000</td>\n",
       "      <td>29576.000</td>\n",
       "      <td>29576.000</td>\n",
       "      <td>29576.000</td>\n",
       "      <td>29576.000</td>\n",
       "      <td>29576.000</td>\n",
       "    </tr>\n",
       "    <tr>\n",
       "      <td>mean</td>\n",
       "      <td>5.171</td>\n",
       "      <td>27.842</td>\n",
       "      <td>816740.943</td>\n",
       "      <td>2006.725</td>\n",
       "      <td>171.855</td>\n",
       "      <td>8274873.120</td>\n",
       "    </tr>\n",
       "    <tr>\n",
       "      <td>std</td>\n",
       "      <td>2.420</td>\n",
       "      <td>17.185</td>\n",
       "      <td>8025573.698</td>\n",
       "      <td>7.572</td>\n",
       "      <td>20386.572</td>\n",
       "      <td>739378700.544</td>\n",
       "    </tr>\n",
       "    <tr>\n",
       "      <td>min</td>\n",
       "      <td>1.000</td>\n",
       "      <td>1.000</td>\n",
       "      <td>1.000</td>\n",
       "      <td>1989.000</td>\n",
       "      <td>0.000</td>\n",
       "      <td>0.000</td>\n",
       "    </tr>\n",
       "    <tr>\n",
       "      <td>25%</td>\n",
       "      <td>4.000</td>\n",
       "      <td>12.000</td>\n",
       "      <td>37231.500</td>\n",
       "      <td>2001.000</td>\n",
       "      <td>0.000</td>\n",
       "      <td>0.000</td>\n",
       "    </tr>\n",
       "    <tr>\n",
       "      <td>50%</td>\n",
       "      <td>5.000</td>\n",
       "      <td>27.000</td>\n",
       "      <td>115076.000</td>\n",
       "      <td>2008.000</td>\n",
       "      <td>0.846</td>\n",
       "      <td>1.000</td>\n",
       "    </tr>\n",
       "    <tr>\n",
       "      <td>75%</td>\n",
       "      <td>7.000</td>\n",
       "      <td>40.000</td>\n",
       "      <td>420000.000</td>\n",
       "      <td>2013.000</td>\n",
       "      <td>1.665</td>\n",
       "      <td>646332.750</td>\n",
       "    </tr>\n",
       "    <tr>\n",
       "      <td>max</td>\n",
       "      <td>10.000</td>\n",
       "      <td>78.000</td>\n",
       "      <td>729000000.000</td>\n",
       "      <td>2020.000</td>\n",
       "      <td>2479069.620</td>\n",
       "      <td>89843962103.000</td>\n",
       "    </tr>\n",
       "  </tbody>\n",
       "</table>\n",
       "</div>"
      ],
      "text/plain": [
       "         region  stateNumberCode  ...  benefitCostRatio  netValueBenefits\n",
       "count 29576.000        29576.000  ...         29576.000         29576.000\n",
       "mean      5.171           27.842  ...           171.855       8274873.120\n",
       "std       2.420           17.185  ...         20386.572     739378700.544\n",
       "min       1.000            1.000  ...             0.000             0.000\n",
       "25%       4.000           12.000  ...             0.000             0.000\n",
       "50%       5.000           27.000  ...             0.846             1.000\n",
       "75%       7.000           40.000  ...             1.665        646332.750\n",
       "max      10.000           78.000  ...       2479069.620   89843962103.000\n",
       "\n",
       "[8 rows x 6 columns]"
      ]
     },
     "execution_count": 13,
     "metadata": {},
     "output_type": "execute_result"
    }
   ],
   "source": [
    "df.describe()"
   ]
  },
  {
   "cell_type": "code",
   "execution_count": 14,
   "metadata": {
    "scrolled": true
   },
   "outputs": [
    {
     "data": {
      "text/plain": [
       "<matplotlib.axes._subplots.AxesSubplot at 0x263abd0c080>"
      ]
     },
     "execution_count": 14,
     "metadata": {},
     "output_type": "execute_result"
    },
    {
     "data": {
      "image/png": "[encoded data removed]",
      "text/plain": [
       "<Figure size 432x288 with 1 Axes>"
      ]
     },
     "metadata": {
      "needs_background": "light"
     },
     "output_type": "display_data"
    }
   ],
   "source": [
    "sns.distplot(df.benefitCostRatio)"
   ]
  },
  {
   "cell_type": "code",
   "execution_count": 15,
   "metadata": {
    "scrolled": true
   },
   "outputs": [],
   "source": [
    "df['benefitCostRatio'] = df['benefitCostRatio'].astype('int64')\n",
    "df['projectAmount'] = df['projectAmount'].astype('int64')\n",
    "df['netValueBenefits'] = df['netValueBenefits'].astype('int64')"
   ]
  },
  {
   "cell_type": "code",
   "execution_count": 16,
   "metadata": {},
   "outputs": [
    {
     "name": "stdout",
     "output_type": "stream",
     "text": [
      "<class 'pandas.core.frame.DataFrame'>\n",
      "Int64Index: 29576 entries, 0 to 29627\n",
      "Data columns (total 9 columns):\n",
      "region              29576 non-null int64\n",
      "stateNumberCode     29576 non-null int64\n",
      "programArea         29576 non-null object\n",
      "projectAmount       29576 non-null int64\n",
      "programFy           29576 non-null int64\n",
      "dateApproved        29295 non-null object\n",
      "benefitCostRatio    29576 non-null int64\n",
      "netValueBenefits    29576 non-null int64\n",
      "id                  29576 non-null object\n",
      "dtypes: int64(6), object(3)\n",
      "memory usage: 2.3+ MB\n"
     ]
    }
   ],
   "source": [
    "df.info()"
   ]
  },
  {
   "cell_type": "code",
   "execution_count": 17,
   "metadata": {
    "scrolled": true
   },
   "outputs": [
    {
     "data": {
      "text/plain": [
       "<matplotlib.axes._subplots.AxesSubplot at 0x263abe30be0>"
      ]
     },
     "execution_count": 17,
     "metadata": {},
     "output_type": "execute_result"
    },
    {
     "data": {
      "image/png": "[encoded data removed]",
      "text/plain": [
       "<Figure size 432x288 with 1 Axes>"
      ]
     },
     "metadata": {
      "needs_background": "light"
     },
     "output_type": "display_data"
    }
   ],
   "source": [
    "sns.boxplot(x=df['benefitCostRatio'])"
   ]
  },
  {
   "cell_type": "code",
   "execution_count": 18,
   "metadata": {},
   "outputs": [],
   "source": [
    "#df['benefitCostRatio'] = df['benefitCostRatio'] < 500"
   ]
  },
  {
   "cell_type": "code",
   "execution_count": 19,
   "metadata": {
    "scrolled": true
   },
   "outputs": [
    {
     "data": {
      "text/html": [
       "<div>\n",
       "<style scoped>\n",
       "    .dataframe tbody tr th:only-of-type {\n",
       "        vertical-align: middle;\n",
       "    }\n",
       "\n",
       "    .dataframe tbody tr th {\n",
       "        vertical-align: top;\n",
       "    }\n",
       "\n",
       "    .dataframe thead th {\n",
       "        text-align: right;\n",
       "    }\n",
       "</style>\n",
       "<table border=\"1\" class=\"dataframe\">\n",
       "  <thead>\n",
       "    <tr style=\"text-align: right;\">\n",
       "      <th></th>\n",
       "      <th>region</th>\n",
       "      <th>stateNumberCode</th>\n",
       "      <th>programArea</th>\n",
       "      <th>projectAmount</th>\n",
       "      <th>programFy</th>\n",
       "      <th>dateApproved</th>\n",
       "      <th>benefitCostRatio</th>\n",
       "      <th>netValueBenefits</th>\n",
       "      <th>id</th>\n",
       "    </tr>\n",
       "  </thead>\n",
       "  <tbody>\n",
       "    <tr>\n",
       "      <td>0</td>\n",
       "      <td>6</td>\n",
       "      <td>48</td>\n",
       "      <td>HMGP</td>\n",
       "      <td>402910</td>\n",
       "      <td>2011</td>\n",
       "      <td>2020-02-06T05:00:00.000Z</td>\n",
       "      <td>4</td>\n",
       "      <td>2969310</td>\n",
       "      <td>5f63a7ca31a8c6681c9dfd79</td>\n",
       "    </tr>\n",
       "    <tr>\n",
       "      <td>1</td>\n",
       "      <td>5</td>\n",
       "      <td>18</td>\n",
       "      <td>HMGP</td>\n",
       "      <td>366071</td>\n",
       "      <td>2011</td>\n",
       "      <td>2019-11-25T05:00:00.000Z</td>\n",
       "      <td>1</td>\n",
       "      <td>961452</td>\n",
       "      <td>5f63a7ca31a8c6681c9dfd81</td>\n",
       "    </tr>\n",
       "    <tr>\n",
       "      <td>2</td>\n",
       "      <td>7</td>\n",
       "      <td>19</td>\n",
       "      <td>HMGP</td>\n",
       "      <td>96965</td>\n",
       "      <td>2011</td>\n",
       "      <td>2015-07-28T04:00:00.000Z</td>\n",
       "      <td>0</td>\n",
       "      <td>0</td>\n",
       "      <td>5f63a7ca31a8c6681c9dfd84</td>\n",
       "    </tr>\n",
       "    <tr>\n",
       "      <td>3</td>\n",
       "      <td>2</td>\n",
       "      <td>36</td>\n",
       "      <td>HMGP</td>\n",
       "      <td>5932500</td>\n",
       "      <td>2011</td>\n",
       "      <td>2014-11-07T05:00:00.000Z</td>\n",
       "      <td>0</td>\n",
       "      <td>0</td>\n",
       "      <td>5f63a7ca31a8c6681c9dfd87</td>\n",
       "    </tr>\n",
       "    <tr>\n",
       "      <td>4</td>\n",
       "      <td>7</td>\n",
       "      <td>19</td>\n",
       "      <td>HMGP</td>\n",
       "      <td>34245</td>\n",
       "      <td>2011</td>\n",
       "      <td>2012-05-03T04:00:00.000Z</td>\n",
       "      <td>0</td>\n",
       "      <td>0</td>\n",
       "      <td>5f63a7ca31a8c6681c9dfd88</td>\n",
       "    </tr>\n",
       "  </tbody>\n",
       "</table>\n",
       "</div>"
      ],
      "text/plain": [
       "   region  stateNumberCode  ... netValueBenefits                        id\n",
       "0       6               48  ...          2969310  5f63a7ca31a8c6681c9dfd79\n",
       "1       5               18  ...           961452  5f63a7ca31a8c6681c9dfd81\n",
       "2       7               19  ...                0  5f63a7ca31a8c6681c9dfd84\n",
       "3       2               36  ...                0  5f63a7ca31a8c6681c9dfd87\n",
       "4       7               19  ...                0  5f63a7ca31a8c6681c9dfd88\n",
       "\n",
       "[5 rows x 9 columns]"
      ]
     },
     "execution_count": 19,
     "metadata": {},
     "output_type": "execute_result"
    }
   ],
   "source": [
    "df.head()"
   ]
  },
  {
   "cell_type": "code",
   "execution_count": 20,
   "metadata": {
    "scrolled": true
   },
   "outputs": [],
   "source": [
    "df['benefitCostRatio'] = np.clip(df['benefitCostRatio'], a_max=50000, a_min=None)"
   ]
  },
  {
   "cell_type": "code",
   "execution_count": 21,
   "metadata": {
    "scrolled": false
   },
   "outputs": [
    {
     "data": {
      "text/plain": [
       "<matplotlib.axes._subplots.AxesSubplot at 0x263abea68d0>"
      ]
     },
     "execution_count": 21,
     "metadata": {},
     "output_type": "execute_result"
    },
    {
     "data": {
      "image/png": "[encoded data removed]",
      "text/plain": [
       "<Figure size 432x288 with 1 Axes>"
      ]
     },
     "metadata": {
      "needs_background": "light"
     },
     "output_type": "display_data"
    }
   ],
   "source": [
    "sns.distplot(df.benefitCostRatio)"
   ]
  },
  {
   "cell_type": "code",
   "execution_count": 22,
   "metadata": {},
   "outputs": [
    {
     "data": {
      "text/plain": [
       "<matplotlib.axes._subplots.AxesSubplot at 0x263abe99e48>"
      ]
     },
     "execution_count": 22,
     "metadata": {},
     "output_type": "execute_result"
    },
    {
     "data": {
      "image/png": "[encoded data removed]",
      "text/plain": [
       "<Figure size 432x288 with 1 Axes>"
      ]
     },
     "metadata": {
      "needs_background": "light"
     },
     "output_type": "display_data"
    }
   ],
   "source": [
    "sns.boxplot(x=df['benefitCostRatio'])"
   ]
  },
  {
   "cell_type": "code",
   "execution_count": 23,
   "metadata": {},
   "outputs": [],
   "source": [
    "df['benefitCostRatio'] = np.clip(df['benefitCostRatio'], a_max=10000, a_min=None)"
   ]
  },
  {
   "cell_type": "code",
   "execution_count": 24,
   "metadata": {
    "scrolled": true
   },
   "outputs": [
    {
     "data": {
      "text/plain": [
       "<matplotlib.axes._subplots.AxesSubplot at 0x263abf9e3c8>"
      ]
     },
     "execution_count": 24,
     "metadata": {},
     "output_type": "execute_result"
    },
    {
     "data": {
      "image/png": "[encoded data removed]",
      "text/plain": [
       "<Figure size 432x288 with 1 Axes>"
      ]
     },
     "metadata": {
      "needs_background": "light"
     },
     "output_type": "display_data"
    }
   ],
   "source": [
    "sns.boxplot(x=df['benefitCostRatio'])"
   ]
  },
  {
   "cell_type": "code",
   "execution_count": 25,
   "metadata": {},
   "outputs": [
    {
     "name": "stdout",
     "output_type": "stream",
     "text": [
      "region 10\n",
      "stateNumberCode 59\n",
      "programArea 6\n",
      "projectAmount 23949\n",
      "programFy 32\n",
      "dateApproved 11220\n",
      "benefitCostRatio 119\n",
      "netValueBenefits 13068\n",
      "id 29576\n"
     ]
    }
   ],
   "source": [
    "for col in df.columns:\n",
    "    print(col, df[col].nunique())"
   ]
  },
  {
   "cell_type": "code",
   "execution_count": 26,
   "metadata": {},
   "outputs": [],
   "source": [
    "#from scipy import stats\n",
    "#df[(np.abs(stats.zscore(df)) < 3).all(axis=1)]"
   ]
  },
  {
   "cell_type": "code",
   "execution_count": 27,
   "metadata": {},
   "outputs": [
    {
     "data": {
      "text/html": [
       "<div>\n",
       "<style scoped>\n",
       "    .dataframe tbody tr th:only-of-type {\n",
       "        vertical-align: middle;\n",
       "    }\n",
       "\n",
       "    .dataframe tbody tr th {\n",
       "        vertical-align: top;\n",
       "    }\n",
       "\n",
       "    .dataframe thead th {\n",
       "        text-align: right;\n",
       "    }\n",
       "</style>\n",
       "<table border=\"1\" class=\"dataframe\">\n",
       "  <thead>\n",
       "    <tr style=\"text-align: right;\">\n",
       "      <th></th>\n",
       "      <th>region</th>\n",
       "      <th>stateNumberCode</th>\n",
       "      <th>projectAmount</th>\n",
       "      <th>programFy</th>\n",
       "      <th>benefitCostRatio</th>\n",
       "      <th>netValueBenefits</th>\n",
       "    </tr>\n",
       "  </thead>\n",
       "  <tbody>\n",
       "    <tr>\n",
       "      <td>count</td>\n",
       "      <td>29576.000</td>\n",
       "      <td>29576.000</td>\n",
       "      <td>29576.000</td>\n",
       "      <td>29576.000</td>\n",
       "      <td>29576.000</td>\n",
       "      <td>29576.000</td>\n",
       "    </tr>\n",
       "    <tr>\n",
       "      <td>mean</td>\n",
       "      <td>5.171</td>\n",
       "      <td>27.842</td>\n",
       "      <td>816740.910</td>\n",
       "      <td>2006.725</td>\n",
       "      <td>4.051</td>\n",
       "      <td>8274873.120</td>\n",
       "    </tr>\n",
       "    <tr>\n",
       "      <td>std</td>\n",
       "      <td>2.420</td>\n",
       "      <td>17.185</td>\n",
       "      <td>8025573.698</td>\n",
       "      <td>7.572</td>\n",
       "      <td>127.856</td>\n",
       "      <td>739378700.544</td>\n",
       "    </tr>\n",
       "    <tr>\n",
       "      <td>min</td>\n",
       "      <td>1.000</td>\n",
       "      <td>1.000</td>\n",
       "      <td>1.000</td>\n",
       "      <td>1989.000</td>\n",
       "      <td>0.000</td>\n",
       "      <td>0.000</td>\n",
       "    </tr>\n",
       "    <tr>\n",
       "      <td>25%</td>\n",
       "      <td>4.000</td>\n",
       "      <td>12.000</td>\n",
       "      <td>37231.500</td>\n",
       "      <td>2001.000</td>\n",
       "      <td>0.000</td>\n",
       "      <td>0.000</td>\n",
       "    </tr>\n",
       "    <tr>\n",
       "      <td>50%</td>\n",
       "      <td>5.000</td>\n",
       "      <td>27.000</td>\n",
       "      <td>115076.000</td>\n",
       "      <td>2008.000</td>\n",
       "      <td>0.000</td>\n",
       "      <td>1.000</td>\n",
       "    </tr>\n",
       "    <tr>\n",
       "      <td>75%</td>\n",
       "      <td>7.000</td>\n",
       "      <td>40.000</td>\n",
       "      <td>420000.000</td>\n",
       "      <td>2013.000</td>\n",
       "      <td>1.000</td>\n",
       "      <td>646332.750</td>\n",
       "    </tr>\n",
       "    <tr>\n",
       "      <td>max</td>\n",
       "      <td>10.000</td>\n",
       "      <td>78.000</td>\n",
       "      <td>729000000.000</td>\n",
       "      <td>2020.000</td>\n",
       "      <td>10000.000</td>\n",
       "      <td>89843962103.000</td>\n",
       "    </tr>\n",
       "  </tbody>\n",
       "</table>\n",
       "</div>"
      ],
      "text/plain": [
       "         region  stateNumberCode  ...  benefitCostRatio  netValueBenefits\n",
       "count 29576.000        29576.000  ...         29576.000         29576.000\n",
       "mean      5.171           27.842  ...             4.051       8274873.120\n",
       "std       2.420           17.185  ...           127.856     739378700.544\n",
       "min       1.000            1.000  ...             0.000             0.000\n",
       "25%       4.000           12.000  ...             0.000             0.000\n",
       "50%       5.000           27.000  ...             0.000             1.000\n",
       "75%       7.000           40.000  ...             1.000        646332.750\n",
       "max      10.000           78.000  ...         10000.000   89843962103.000\n",
       "\n",
       "[8 rows x 6 columns]"
      ]
     },
     "execution_count": 27,
     "metadata": {},
     "output_type": "execute_result"
    }
   ],
   "source": [
    "df.describe()"
   ]
  },
  {
   "cell_type": "code",
   "execution_count": 28,
   "metadata": {
    "scrolled": false
   },
   "outputs": [
    {
     "data": {
      "text/plain": [
       "<matplotlib.axes._subplots.AxesSubplot at 0x263ac1f9588>"
      ]
     },
     "execution_count": 28,
     "metadata": {},
     "output_type": "execute_result"
    },
    {
     "data": {
      "image/png": "[encoded data removed]",
      "text/plain": [
       "<Figure size 432x288 with 1 Axes>"
      ]
     },
     "metadata": {
      "needs_background": "light"
     },
     "output_type": "display_data"
    }
   ],
   "source": [
    "# Looks like projectAmount has outliers - Let's plot it\n",
    "sns.boxplot(x=df['projectAmount'])"
   ]
  },
  {
   "cell_type": "code",
   "execution_count": 29,
   "metadata": {
    "scrolled": true
   },
   "outputs": [
    {
     "data": {
      "text/plain": [
       "24155929157"
      ]
     },
     "execution_count": 29,
     "metadata": {},
     "output_type": "execute_result"
    }
   ],
   "source": [
    "df['projectAmount'].sum()"
   ]
  },
  {
   "cell_type": "code",
   "execution_count": 30,
   "metadata": {
    "scrolled": true
   },
   "outputs": [
    {
     "data": {
      "text/plain": [
       "115076.0"
      ]
     },
     "execution_count": 30,
     "metadata": {},
     "output_type": "execute_result"
    }
   ],
   "source": [
    "df['projectAmount'].median()"
   ]
  },
  {
   "cell_type": "code",
   "execution_count": 31,
   "metadata": {},
   "outputs": [
    {
     "data": {
      "text/plain": [
       "<matplotlib.axes._subplots.AxesSubplot at 0x263ac275c18>"
      ]
     },
     "execution_count": 31,
     "metadata": {},
     "output_type": "execute_result"
    },
    {
     "data": {
      "image/png": "[encoded data removed]",
      "text/plain": [
       "<Figure size 432x288 with 1 Axes>"
      ]
     },
     "metadata": {
      "needs_background": "light"
     },
     "output_type": "display_data"
    }
   ],
   "source": [
    "sns.distplot(df.projectAmount)"
   ]
  },
  {
   "cell_type": "code",
   "execution_count": 32,
   "metadata": {
    "scrolled": false
   },
   "outputs": [
    {
     "data": {
      "text/plain": [
       "region                0\n",
       "stateNumberCode       0\n",
       "programArea           0\n",
       "projectAmount         0\n",
       "programFy             0\n",
       "dateApproved        281\n",
       "benefitCostRatio      0\n",
       "netValueBenefits      0\n",
       "id                    0\n",
       "dtype: int64"
      ]
     },
     "execution_count": 32,
     "metadata": {},
     "output_type": "execute_result"
    }
   ],
   "source": [
    "# Do we have nulls?\n",
    "df.isna().sum()"
   ]
  },
  {
   "cell_type": "markdown",
   "metadata": {},
   "source": [
    "## Questions we can answer without linear regression"
   ]
  },
  {
   "cell_type": "code",
   "execution_count": 33,
   "metadata": {},
   "outputs": [],
   "source": [
    "# Plotting Price with the categories:\n",
    "#def categorical_plots(df):\n",
    " #   for col in df.select_dtypes('category'):\n",
    "  #      fig, ax = plt.subplots(figsize=(10,6))\n",
    "   #     sns.barplot(x=col, y='benefitCostRatio', data=df, palette=\"colorblind\")\n",
    "    #    ax.set_title(f\"{col} vs projectAmount\", fontsize=30)\n",
    "     #   plt.xticks(rotation=45)\n",
    "      #  plt.show()"
   ]
  },
  {
   "cell_type": "code",
   "execution_count": 34,
   "metadata": {},
   "outputs": [],
   "source": [
    "#categorical_plots(df)"
   ]
  },
  {
   "cell_type": "markdown",
   "metadata": {},
   "source": [
    "As we can see from the following vizuals above SRL () are the most costly hazard mitigation area that is being spent on"
   ]
  },
  {
   "cell_type": "markdown",
   "metadata": {},
   "source": [
    "# Outlier Removal"
   ]
  },
  {
   "cell_type": "code",
   "execution_count": 35,
   "metadata": {},
   "outputs": [],
   "source": [
    "# After researching outlier removal \n",
    "# and exploring our data it is best to do IQR type outlier removal methods\n",
    "\n",
    "#def outliersiqr(data):\n",
    " #   q1 = np.percentile(data, 25)\n",
    "  #    q3 = np.percentile(data, 75)\n",
    "   # iqr = q3 - q1\n",
    "    #threshold = iqr * 1.5\n",
    "    #outliers = (data < q1 - threshold) | (data > q3 + threshold)\n",
    "    #outliers = pd.Series(outliers, index=data.index)\n",
    "    #return outliers"
   ]
  },
  {
   "cell_type": "code",
   "execution_count": 36,
   "metadata": {},
   "outputs": [],
   "source": [
    "# Function to make an outlier column which we will then remove outliers from\n",
    "#def outlierscolumn(df, columns, verbose=True):\n",
    " #   new_df = df.copy()\n",
    "  #  for col in columns:\n",
    "   #     outliers = outliersiqr(new_df[col])\n",
    "    #    if verbose:\n",
    "     #       print(f'{outliers.sum()} outliers found in {col}')\n",
    "      #  new_df[f'{col}_outliers'] = outliers\n",
    "   # return new_df"
   ]
  },
  {
   "cell_type": "code",
   "execution_count": 37,
   "metadata": {},
   "outputs": [],
   "source": [
    "# Feeding in the numerical columns for identifying outliers\n",
    "#num_cols = list(df.select_dtypes('number').columns)\n",
    "\n",
    "# Saving the new dataframe with outlier columns added\n",
    "#df2 = outlierscolumn(df, num_cols)"
   ]
  },
  {
   "cell_type": "code",
   "execution_count": 38,
   "metadata": {
    "scrolled": true
   },
   "outputs": [],
   "source": [
    "#df2.head()"
   ]
  },
  {
   "cell_type": "code",
   "execution_count": 39,
   "metadata": {},
   "outputs": [],
   "source": [
    "# Creating a list of the outlier columns\n",
    "#outliercols = []\n",
    "#for col in df2.columns:\n",
    " #   if 'outliers' in col:\n",
    "  #      outliercols.append(col)\n",
    "#outliercols"
   ]
  },
  {
   "cell_type": "code",
   "execution_count": 40,
   "metadata": {},
   "outputs": [],
   "source": [
    "#df2.shape"
   ]
  },
  {
   "cell_type": "code",
   "execution_count": 41,
   "metadata": {},
   "outputs": [],
   "source": [
    "# Dropping columns that are either continous or boolean (yes or no, has or doesn't have)\n",
    "#df2= df2.drop(columns=['region_outliers', 'stateNumberCode_outliers', 'programFy_outliers'])"
   ]
  },
  {
   "cell_type": "code",
   "execution_count": 42,
   "metadata": {},
   "outputs": [],
   "source": [
    "# Creating a list of the outlier columns\n",
    "#outliercols = []\n",
    "#for col in df2.columns:\n",
    " #   if 'outliers' in col:\n",
    "  #      outliercols.append(col)\n",
    "#outliercols"
   ]
  },
  {
   "cell_type": "code",
   "execution_count": 43,
   "metadata": {},
   "outputs": [],
   "source": [
    "# Filtering the outliers out of my dataframe and returning only the entries\n",
    "# that are not outliers for any of the features\n",
    "#for col in outliercols:\n",
    " #   df2 = df2[(df2[col]==False)]\n",
    "#df2.shape"
   ]
  },
  {
   "cell_type": "code",
   "execution_count": 44,
   "metadata": {},
   "outputs": [],
   "source": [
    "# Dropping the outlier columns that were added\n",
    "#for col in outliercols:\n",
    " #   df2.drop(columns=[col], axis=1, inplace=True)"
   ]
  },
  {
   "cell_type": "code",
   "execution_count": 45,
   "metadata": {
    "scrolled": true
   },
   "outputs": [
    {
     "data": {
      "text/plain": [
       "4     8408\n",
       "6     4163\n",
       "5     2611\n",
       "9     2496\n",
       "7     2430\n",
       "2     2163\n",
       "3     2021\n",
       "1     1964\n",
       "8     1882\n",
       "10    1438\n",
       "Name: region, dtype: int64"
      ]
     },
     "execution_count": 45,
     "metadata": {},
     "output_type": "execute_result"
    }
   ],
   "source": [
    "df.region.value_counts()"
   ]
  },
  {
   "cell_type": "code",
   "execution_count": 46,
   "metadata": {},
   "outputs": [
    {
     "data": {
      "text/plain": [
       "12    2633\n",
       "6     1858\n",
       "1     1646\n",
       "48    1232\n",
       "22    1155\n",
       "40    1153\n",
       "19     997\n",
       "13     940\n",
       "36     842\n",
       "28     842\n",
       "34     839\n",
       "21     735\n",
       "37     725\n",
       "46     615\n",
       "42     596\n",
       "53     590\n",
       "39     542\n",
       "29     539\n",
       "27     527\n",
       "55     522\n",
       "51     511\n",
       "38     504\n",
       "5      472\n",
       "31     456\n",
       "45     453\n",
       "50     448\n",
       "20     438\n",
       "47     434\n",
       "25     433\n",
       "26     417\n",
       "54     384\n",
       "17     372\n",
       "41     369\n",
       "72     353\n",
       "23     349\n",
       "24     339\n",
       "33     337\n",
       "8      270\n",
       "2      267\n",
       "9      265\n",
       "30     265\n",
       "18     231\n",
       "16     212\n",
       "4      162\n",
       "35     151\n",
       "10     144\n",
       "49     143\n",
       "44     132\n",
       "78     129\n",
       "15     112\n",
       "32     109\n",
       "56      85\n",
       "69      82\n",
       "66      75\n",
       "11      47\n",
       "60      45\n",
       "64      39\n",
       "68       7\n",
       "70       7\n",
       "Name: stateNumberCode, dtype: int64"
      ]
     },
     "execution_count": 46,
     "metadata": {},
     "output_type": "execute_result"
    }
   ],
   "source": [
    "df.stateNumberCode.value_counts()"
   ]
  },
  {
   "cell_type": "code",
   "execution_count": 47,
   "metadata": {
    "scrolled": true
   },
   "outputs": [
    {
     "data": {
      "text/plain": [
       "HMGP    22497\n",
       "PDM      3906\n",
       "FMA      2581\n",
       "LPDM      253\n",
       "SRL       241\n",
       "RFC        98\n",
       "Name: programArea, dtype: int64"
      ]
     },
     "execution_count": 47,
     "metadata": {},
     "output_type": "execute_result"
    }
   ],
   "source": [
    "# Very important category as it shows why the mitigation is being done\n",
    "df.programArea.value_counts()"
   ]
  },
  {
   "cell_type": "code",
   "execution_count": 48,
   "metadata": {},
   "outputs": [
    {
     "data": {
      "text/plain": [
       "Text(0.5, 1.0, 'Program Area vs. Benefit Cost Ratio')"
      ]
     },
     "execution_count": 48,
     "metadata": {},
     "output_type": "execute_result"
    },
    {
     "data": {
      "image/png": "[encoded data removed]",
      "text/plain": [
       "<Figure size 432x288 with 1 Axes>"
      ]
     },
     "metadata": {
      "needs_background": "light"
     },
     "output_type": "display_data"
    }
   ],
   "source": [
    "ax = sns.barplot(x=\"programArea\", y=\"benefitCostRatio\", data=df)\n",
    "ax.set_title('Program Area vs. Benefit Cost Ratio', fontsize = 18)"
   ]
  },
  {
   "cell_type": "code",
   "execution_count": 49,
   "metadata": {},
   "outputs": [],
   "source": [
    "#df.projectIdentifier.value_counts()"
   ]
  },
  {
   "cell_type": "code",
   "execution_count": 50,
   "metadata": {},
   "outputs": [
    {
     "data": {
      "text/plain": [
       "40000      188\n",
       "50000      185\n",
       "100000     140\n",
       "25000      120\n",
       "20000      120\n",
       "          ... \n",
       "373756       1\n",
       "140286       1\n",
       "3200000      1\n",
       "23553        1\n",
       "65536        1\n",
       "Name: projectAmount, Length: 23949, dtype: int64"
      ]
     },
     "execution_count": 50,
     "metadata": {},
     "output_type": "execute_result"
    }
   ],
   "source": [
    "df.projectAmount.value_counts()"
   ]
  },
  {
   "cell_type": "code",
   "execution_count": 51,
   "metadata": {
    "scrolled": true
   },
   "outputs": [
    {
     "data": {
      "text/plain": [
       "2011    2311\n",
       "2017    1949\n",
       "2005    1860\n",
       "2008    1681\n",
       "2013    1370\n",
       "1998    1290\n",
       "2009    1285\n",
       "2010    1244\n",
       "2007    1187\n",
       "2004    1182\n",
       "2016    1116\n",
       "2001    1059\n",
       "2003     976\n",
       "2014     972\n",
       "2018     937\n",
       "2015     903\n",
       "1997     903\n",
       "1994     900\n",
       "1996     846\n",
       "2002     817\n",
       "2012     662\n",
       "1999     636\n",
       "2000     597\n",
       "2006     595\n",
       "2019     593\n",
       "1993     420\n",
       "1992     369\n",
       "1995     358\n",
       "1990     241\n",
       "1991     172\n",
       "1989     132\n",
       "2020      13\n",
       "Name: programFy, dtype: int64"
      ]
     },
     "execution_count": 51,
     "metadata": {},
     "output_type": "execute_result"
    }
   ],
   "source": [
    "df.programFy.value_counts()"
   ]
  },
  {
   "cell_type": "code",
   "execution_count": 52,
   "metadata": {},
   "outputs": [],
   "source": [
    "#df = df[(df['projectAmount']>1998)]"
   ]
  },
  {
   "cell_type": "code",
   "execution_count": 53,
   "metadata": {
    "scrolled": true
   },
   "outputs": [
    {
     "data": {
      "text/plain": [
       "0       14965\n",
       "1        8400\n",
       "2        2109\n",
       "3        1157\n",
       "4         680\n",
       "        ...  \n",
       "84          1\n",
       "316         1\n",
       "412         1\n",
       "476         1\n",
       "9131        1\n",
       "Name: benefitCostRatio, Length: 119, dtype: int64"
      ]
     },
     "execution_count": 53,
     "metadata": {},
     "output_type": "execute_result"
    }
   ],
   "source": [
    "df.benefitCostRatio.value_counts()"
   ]
  },
  {
   "cell_type": "code",
   "execution_count": 54,
   "metadata": {},
   "outputs": [
    {
     "data": {
      "text/plain": [
       "0          14641\n",
       "21420        318\n",
       "1            152\n",
       "276000        96\n",
       "552000        36\n",
       "           ...  \n",
       "2159860        1\n",
       "54512          1\n",
       "7570666        1\n",
       "683239         1\n",
       "362649         1\n",
       "Name: netValueBenefits, Length: 13068, dtype: int64"
      ]
     },
     "execution_count": 54,
     "metadata": {},
     "output_type": "execute_result"
    }
   ],
   "source": [
    "df.netValueBenefits.value_counts()"
   ]
  },
  {
   "cell_type": "code",
   "execution_count": 55,
   "metadata": {},
   "outputs": [
    {
     "name": "stdout",
     "output_type": "stream",
     "text": [
      "<class 'pandas.core.frame.DataFrame'>\n",
      "Int64Index: 29576 entries, 0 to 29627\n",
      "Data columns (total 9 columns):\n",
      "region              29576 non-null int64\n",
      "stateNumberCode     29576 non-null int64\n",
      "programArea         29576 non-null object\n",
      "projectAmount       29576 non-null int64\n",
      "programFy           29576 non-null int64\n",
      "dateApproved        29295 non-null object\n",
      "benefitCostRatio    29576 non-null int64\n",
      "netValueBenefits    29576 non-null int64\n",
      "id                  29576 non-null object\n",
      "dtypes: int64(6), object(3)\n",
      "memory usage: 3.5+ MB\n"
     ]
    }
   ],
   "source": [
    "df.info()"
   ]
  },
  {
   "cell_type": "code",
   "execution_count": 56,
   "metadata": {
    "scrolled": false
   },
   "outputs": [
    {
     "name": "stdout",
     "output_type": "stream",
     "text": [
      "region 10\n",
      "stateNumberCode 59\n",
      "programArea 6\n",
      "projectAmount 23949\n",
      "programFy 32\n",
      "dateApproved 11220\n",
      "benefitCostRatio 119\n",
      "netValueBenefits 13068\n",
      "id 29576\n"
     ]
    }
   ],
   "source": [
    "for col in df.columns:\n",
    "    print(col, df[col].nunique())"
   ]
  },
  {
   "cell_type": "markdown",
   "metadata": {},
   "source": [
    "# Data Prep for Modeling"
   ]
  },
  {
   "cell_type": "code",
   "execution_count": 57,
   "metadata": {},
   "outputs": [],
   "source": [
    "#df['region'] = df['region'].astype('category') \n",
    "#df['stateNumberCode'] = df['stateNumberCode'].astype('category') \n",
    "#df['programArea'] = df['programArea'].astype('category')"
   ]
  },
  {
   "cell_type": "code",
   "execution_count": 58,
   "metadata": {
    "scrolled": true
   },
   "outputs": [],
   "source": [
    "# pd.get_dummies(df)"
   ]
  },
  {
   "cell_type": "code",
   "execution_count": 59,
   "metadata": {},
   "outputs": [
    {
     "data": {
      "text/plain": [
       "['HMGP', 'PDM', 'FMA', 'LPDM', 'SRL', 'RFC']"
      ]
     },
     "execution_count": 59,
     "metadata": {},
     "output_type": "execute_result"
    }
   ],
   "source": [
    "# Making a list of the program Areas \n",
    "# We will make vizualizations of these\n",
    "programAreas = list(df['programArea'].value_counts().head(6).index)\n",
    "programAreas"
   ]
  },
  {
   "cell_type": "code",
   "execution_count": 60,
   "metadata": {},
   "outputs": [
    {
     "data": {
      "text/plain": [
       "HMGP    22497\n",
       "PDM      3906\n",
       "FMA      2581\n",
       "LPDM      253\n",
       "SRL       241\n",
       "RFC        98\n",
       "Name: programArea, dtype: int64"
      ]
     },
     "execution_count": 60,
     "metadata": {},
     "output_type": "execute_result"
    }
   ],
   "source": [
    "df = df[df['programArea'].isin(programAreas)]\n",
    "df['programArea'].value_counts()"
   ]
  },
  {
   "cell_type": "code",
   "execution_count": 61,
   "metadata": {
    "scrolled": true
   },
   "outputs": [
    {
     "data": {
      "text/html": [
       "<div>\n",
       "<style scoped>\n",
       "    .dataframe tbody tr th:only-of-type {\n",
       "        vertical-align: middle;\n",
       "    }\n",
       "\n",
       "    .dataframe tbody tr th {\n",
       "        vertical-align: top;\n",
       "    }\n",
       "\n",
       "    .dataframe thead th {\n",
       "        text-align: right;\n",
       "    }\n",
       "</style>\n",
       "<table border=\"1\" class=\"dataframe\">\n",
       "  <thead>\n",
       "    <tr style=\"text-align: right;\">\n",
       "      <th></th>\n",
       "      <th>region</th>\n",
       "      <th>stateNumberCode</th>\n",
       "      <th>programArea</th>\n",
       "      <th>projectAmount</th>\n",
       "      <th>programFy</th>\n",
       "      <th>dateApproved</th>\n",
       "      <th>benefitCostRatio</th>\n",
       "      <th>netValueBenefits</th>\n",
       "      <th>id</th>\n",
       "    </tr>\n",
       "  </thead>\n",
       "  <tbody>\n",
       "    <tr>\n",
       "      <td>0</td>\n",
       "      <td>6</td>\n",
       "      <td>48</td>\n",
       "      <td>HMGP</td>\n",
       "      <td>402910</td>\n",
       "      <td>2011</td>\n",
       "      <td>2020-02-06T05:00:00.000Z</td>\n",
       "      <td>4</td>\n",
       "      <td>2969310</td>\n",
       "      <td>5f63a7ca31a8c6681c9dfd79</td>\n",
       "    </tr>\n",
       "    <tr>\n",
       "      <td>1</td>\n",
       "      <td>5</td>\n",
       "      <td>18</td>\n",
       "      <td>HMGP</td>\n",
       "      <td>366071</td>\n",
       "      <td>2011</td>\n",
       "      <td>2019-11-25T05:00:00.000Z</td>\n",
       "      <td>1</td>\n",
       "      <td>961452</td>\n",
       "      <td>5f63a7ca31a8c6681c9dfd81</td>\n",
       "    </tr>\n",
       "    <tr>\n",
       "      <td>2</td>\n",
       "      <td>7</td>\n",
       "      <td>19</td>\n",
       "      <td>HMGP</td>\n",
       "      <td>96965</td>\n",
       "      <td>2011</td>\n",
       "      <td>2015-07-28T04:00:00.000Z</td>\n",
       "      <td>0</td>\n",
       "      <td>0</td>\n",
       "      <td>5f63a7ca31a8c6681c9dfd84</td>\n",
       "    </tr>\n",
       "    <tr>\n",
       "      <td>3</td>\n",
       "      <td>2</td>\n",
       "      <td>36</td>\n",
       "      <td>HMGP</td>\n",
       "      <td>5932500</td>\n",
       "      <td>2011</td>\n",
       "      <td>2014-11-07T05:00:00.000Z</td>\n",
       "      <td>0</td>\n",
       "      <td>0</td>\n",
       "      <td>5f63a7ca31a8c6681c9dfd87</td>\n",
       "    </tr>\n",
       "    <tr>\n",
       "      <td>4</td>\n",
       "      <td>7</td>\n",
       "      <td>19</td>\n",
       "      <td>HMGP</td>\n",
       "      <td>34245</td>\n",
       "      <td>2011</td>\n",
       "      <td>2012-05-03T04:00:00.000Z</td>\n",
       "      <td>0</td>\n",
       "      <td>0</td>\n",
       "      <td>5f63a7ca31a8c6681c9dfd88</td>\n",
       "    </tr>\n",
       "  </tbody>\n",
       "</table>\n",
       "</div>"
      ],
      "text/plain": [
       "   region  stateNumberCode  ... netValueBenefits                        id\n",
       "0       6               48  ...          2969310  5f63a7ca31a8c6681c9dfd79\n",
       "1       5               18  ...           961452  5f63a7ca31a8c6681c9dfd81\n",
       "2       7               19  ...                0  5f63a7ca31a8c6681c9dfd84\n",
       "3       2               36  ...                0  5f63a7ca31a8c6681c9dfd87\n",
       "4       7               19  ...                0  5f63a7ca31a8c6681c9dfd88\n",
       "\n",
       "[5 rows x 9 columns]"
      ]
     },
     "execution_count": 61,
     "metadata": {},
     "output_type": "execute_result"
    }
   ],
   "source": [
    "df.head()"
   ]
  },
  {
   "cell_type": "code",
   "execution_count": 62,
   "metadata": {},
   "outputs": [],
   "source": [
    "#HMFP = list(df['programArea'].value_counts().head(1).index)\n",
    "#HMFP"
   ]
  },
  {
   "cell_type": "code",
   "execution_count": 63,
   "metadata": {},
   "outputs": [
    {
     "data": {
      "text/plain": [
       "2002-09-27T04:00:00.000Z    82\n",
       "2020-10-26T04:00:00.000Z    56\n",
       "2002-09-17T04:00:00.000Z    45\n",
       "2002-09-30T04:00:00.000Z    44\n",
       "2009-05-14T04:00:00.000Z    39\n",
       "                            ..\n",
       "2014-04-25T16:56:04.000Z     1\n",
       "2014-05-05T23:11:41.000Z     1\n",
       "2009-09-10T21:44:54.000Z     1\n",
       "1996-08-29T04:00:00.000Z     1\n",
       "2010-07-23T01:21:21.000Z     1\n",
       "Name: dateApproved, Length: 11220, dtype: int64"
      ]
     },
     "execution_count": 63,
     "metadata": {},
     "output_type": "execute_result"
    }
   ],
   "source": [
    "df['dateApproved'].value_counts()"
   ]
  },
  {
   "cell_type": "code",
   "execution_count": 64,
   "metadata": {},
   "outputs": [],
   "source": [
    "df['dateApproved'] = df['dateApproved'].str.split('T').str[0]"
   ]
  },
  {
   "cell_type": "code",
   "execution_count": 65,
   "metadata": {},
   "outputs": [
    {
     "data": {
      "text/plain": [
       "2002-09-27    82\n",
       "2020-10-26    56\n",
       "2002-09-17    45\n",
       "2002-09-30    44\n",
       "2009-05-14    40\n",
       "              ..\n",
       "2015-04-28     1\n",
       "2001-09-30     1\n",
       "1992-11-02     1\n",
       "2009-09-28     1\n",
       "2000-05-15     1\n",
       "Name: dateApproved, Length: 6049, dtype: int64"
      ]
     },
     "execution_count": 65,
     "metadata": {},
     "output_type": "execute_result"
    }
   ],
   "source": [
    "df['dateApproved'].value_counts()"
   ]
  },
  {
   "cell_type": "code",
   "execution_count": 66,
   "metadata": {},
   "outputs": [],
   "source": [
    "df['dateApproved'] = pd.to_datetime(df['dateApproved'])"
   ]
  },
  {
   "cell_type": "code",
   "execution_count": 67,
   "metadata": {
    "scrolled": true
   },
   "outputs": [
    {
     "data": {
      "text/html": [
       "<div>\n",
       "<style scoped>\n",
       "    .dataframe tbody tr th:only-of-type {\n",
       "        vertical-align: middle;\n",
       "    }\n",
       "\n",
       "    .dataframe tbody tr th {\n",
       "        vertical-align: top;\n",
       "    }\n",
       "\n",
       "    .dataframe thead th {\n",
       "        text-align: right;\n",
       "    }\n",
       "</style>\n",
       "<table border=\"1\" class=\"dataframe\">\n",
       "  <thead>\n",
       "    <tr style=\"text-align: right;\">\n",
       "      <th></th>\n",
       "      <th>region</th>\n",
       "      <th>stateNumberCode</th>\n",
       "      <th>programArea</th>\n",
       "      <th>projectAmount</th>\n",
       "      <th>programFy</th>\n",
       "      <th>dateApproved</th>\n",
       "      <th>benefitCostRatio</th>\n",
       "      <th>netValueBenefits</th>\n",
       "      <th>id</th>\n",
       "    </tr>\n",
       "    <tr>\n",
       "      <th>date</th>\n",
       "      <th></th>\n",
       "      <th></th>\n",
       "      <th></th>\n",
       "      <th></th>\n",
       "      <th></th>\n",
       "      <th></th>\n",
       "      <th></th>\n",
       "      <th></th>\n",
       "      <th></th>\n",
       "    </tr>\n",
       "  </thead>\n",
       "  <tbody>\n",
       "    <tr>\n",
       "      <td>2020-02-06</td>\n",
       "      <td>6</td>\n",
       "      <td>48</td>\n",
       "      <td>HMGP</td>\n",
       "      <td>402910</td>\n",
       "      <td>2011</td>\n",
       "      <td>2020-02-06</td>\n",
       "      <td>4</td>\n",
       "      <td>2969310</td>\n",
       "      <td>5f63a7ca31a8c6681c9dfd79</td>\n",
       "    </tr>\n",
       "    <tr>\n",
       "      <td>2019-11-25</td>\n",
       "      <td>5</td>\n",
       "      <td>18</td>\n",
       "      <td>HMGP</td>\n",
       "      <td>366071</td>\n",
       "      <td>2011</td>\n",
       "      <td>2019-11-25</td>\n",
       "      <td>1</td>\n",
       "      <td>961452</td>\n",
       "      <td>5f63a7ca31a8c6681c9dfd81</td>\n",
       "    </tr>\n",
       "    <tr>\n",
       "      <td>2015-07-28</td>\n",
       "      <td>7</td>\n",
       "      <td>19</td>\n",
       "      <td>HMGP</td>\n",
       "      <td>96965</td>\n",
       "      <td>2011</td>\n",
       "      <td>2015-07-28</td>\n",
       "      <td>0</td>\n",
       "      <td>0</td>\n",
       "      <td>5f63a7ca31a8c6681c9dfd84</td>\n",
       "    </tr>\n",
       "    <tr>\n",
       "      <td>2014-11-07</td>\n",
       "      <td>2</td>\n",
       "      <td>36</td>\n",
       "      <td>HMGP</td>\n",
       "      <td>5932500</td>\n",
       "      <td>2011</td>\n",
       "      <td>2014-11-07</td>\n",
       "      <td>0</td>\n",
       "      <td>0</td>\n",
       "      <td>5f63a7ca31a8c6681c9dfd87</td>\n",
       "    </tr>\n",
       "    <tr>\n",
       "      <td>2012-05-03</td>\n",
       "      <td>7</td>\n",
       "      <td>19</td>\n",
       "      <td>HMGP</td>\n",
       "      <td>34245</td>\n",
       "      <td>2011</td>\n",
       "      <td>2012-05-03</td>\n",
       "      <td>0</td>\n",
       "      <td>0</td>\n",
       "      <td>5f63a7ca31a8c6681c9dfd88</td>\n",
       "    </tr>\n",
       "    <tr>\n",
       "      <td>...</td>\n",
       "      <td>...</td>\n",
       "      <td>...</td>\n",
       "      <td>...</td>\n",
       "      <td>...</td>\n",
       "      <td>...</td>\n",
       "      <td>...</td>\n",
       "      <td>...</td>\n",
       "      <td>...</td>\n",
       "      <td>...</td>\n",
       "    </tr>\n",
       "    <tr>\n",
       "      <td>2021-01-04</td>\n",
       "      <td>9</td>\n",
       "      <td>6</td>\n",
       "      <td>HMGP</td>\n",
       "      <td>423000</td>\n",
       "      <td>2019</td>\n",
       "      <td>2021-01-04</td>\n",
       "      <td>1</td>\n",
       "      <td>9391485</td>\n",
       "      <td>600324d6a41acb24f2bbc219</td>\n",
       "    </tr>\n",
       "    <tr>\n",
       "      <td>2021-01-15</td>\n",
       "      <td>4</td>\n",
       "      <td>37</td>\n",
       "      <td>HMGP</td>\n",
       "      <td>1708540</td>\n",
       "      <td>2018</td>\n",
       "      <td>2021-01-15</td>\n",
       "      <td>0</td>\n",
       "      <td>0</td>\n",
       "      <td>600324d8a41acb24f2bbd776</td>\n",
       "    </tr>\n",
       "    <tr>\n",
       "      <td>2021-01-13</td>\n",
       "      <td>2</td>\n",
       "      <td>36</td>\n",
       "      <td>HMGP</td>\n",
       "      <td>2882727</td>\n",
       "      <td>2019</td>\n",
       "      <td>2021-01-13</td>\n",
       "      <td>1</td>\n",
       "      <td>2927736</td>\n",
       "      <td>600324d8a41acb24f2bbd779</td>\n",
       "    </tr>\n",
       "    <tr>\n",
       "      <td>2021-01-08</td>\n",
       "      <td>7</td>\n",
       "      <td>29</td>\n",
       "      <td>HMGP</td>\n",
       "      <td>21000</td>\n",
       "      <td>2019</td>\n",
       "      <td>2021-01-08</td>\n",
       "      <td>0</td>\n",
       "      <td>0</td>\n",
       "      <td>600324d8a41acb24f2bbdc0e</td>\n",
       "    </tr>\n",
       "    <tr>\n",
       "      <td>2021-01-14</td>\n",
       "      <td>4</td>\n",
       "      <td>1</td>\n",
       "      <td>HMGP</td>\n",
       "      <td>58216</td>\n",
       "      <td>2019</td>\n",
       "      <td>2021-01-14</td>\n",
       "      <td>0</td>\n",
       "      <td>61869</td>\n",
       "      <td>600324e2a41acb24f2bc4d4b</td>\n",
       "    </tr>\n",
       "  </tbody>\n",
       "</table>\n",
       "<p>29576 rows × 9 columns</p>\n",
       "</div>"
      ],
      "text/plain": [
       "            region  stateNumberCode  ... netValueBenefits                        id\n",
       "date                                 ...                                           \n",
       "2020-02-06       6               48  ...          2969310  5f63a7ca31a8c6681c9dfd79\n",
       "2019-11-25       5               18  ...           961452  5f63a7ca31a8c6681c9dfd81\n",
       "2015-07-28       7               19  ...                0  5f63a7ca31a8c6681c9dfd84\n",
       "2014-11-07       2               36  ...                0  5f63a7ca31a8c6681c9dfd87\n",
       "2012-05-03       7               19  ...                0  5f63a7ca31a8c6681c9dfd88\n",
       "...            ...              ...  ...              ...                       ...\n",
       "2021-01-04       9                6  ...          9391485  600324d6a41acb24f2bbc219\n",
       "2021-01-15       4               37  ...                0  600324d8a41acb24f2bbd776\n",
       "2021-01-13       2               36  ...          2927736  600324d8a41acb24f2bbd779\n",
       "2021-01-08       7               29  ...                0  600324d8a41acb24f2bbdc0e\n",
       "2021-01-14       4                1  ...            61869  600324e2a41acb24f2bc4d4b\n",
       "\n",
       "[29576 rows x 9 columns]"
      ]
     },
     "execution_count": 67,
     "metadata": {},
     "output_type": "execute_result"
    }
   ],
   "source": [
    "# Make Date the index \n",
    "df['date'] = pd.to_datetime(df['dateApproved'])\n",
    "df.set_index('date', inplace=True)\n",
    "df"
   ]
  },
  {
   "cell_type": "code",
   "execution_count": 68,
   "metadata": {
    "scrolled": true
   },
   "outputs": [
    {
     "data": {
      "text/plain": [
       "DatetimeIndex(['2020-02-06', '2019-11-25', '2015-07-28', '2014-11-07',\n",
       "               '2012-05-03', '2017-07-06', '2015-11-09', '2014-09-15',\n",
       "               '2017-04-27', '2016-04-11',\n",
       "               ...\n",
       "               '2021-01-07', '2020-12-04', '2021-01-11', '2021-01-14',\n",
       "               '2021-01-12', '2021-01-04', '2021-01-15', '2021-01-13',\n",
       "               '2021-01-08', '2021-01-14'],\n",
       "              dtype='datetime64[ns]', name='date', length=29576, freq=None)"
      ]
     },
     "execution_count": 68,
     "metadata": {},
     "output_type": "execute_result"
    }
   ],
   "source": [
    "df.index"
   ]
  },
  {
   "cell_type": "code",
   "execution_count": 69,
   "metadata": {},
   "outputs": [
    {
     "data": {
      "text/plain": [
       "programArea  date      \n",
       "FMA          1996-04-01    2\n",
       "             1996-05-01    0\n",
       "             1996-06-01    0\n",
       "             1996-07-01    0\n",
       "             1996-08-01    0\n",
       "                          ..\n",
       "SRL          2016-02-01    0\n",
       "             2016-03-01    0\n",
       "             2016-04-01    0\n",
       "             2016-05-01    0\n",
       "             2016-06-01    1\n",
       "Name: id, Length: 1212, dtype: int64"
      ]
     },
     "execution_count": 69,
     "metadata": {},
     "output_type": "execute_result"
    }
   ],
   "source": [
    "# The 'MS' string groups the data in buckets by start of the month\n",
    "df.groupby(['programArea']).resample('MS').count()['id']"
   ]
  },
  {
   "cell_type": "code",
   "execution_count": 70,
   "metadata": {},
   "outputs": [],
   "source": [
    "freq = 'MS'"
   ]
  },
  {
   "cell_type": "code",
   "execution_count": 71,
   "metadata": {},
   "outputs": [
    {
     "data": {
      "image/png": "[encoded data removed]",
      "text/plain": [
       "<Figure size 432x288 with 1 Axes>"
      ]
     },
     "metadata": {
      "needs_background": "light"
     },
     "output_type": "display_data"
    }
   ],
   "source": [
    "ts_programarea = df.groupby(['programArea']).resample(freq).count()['id']\n",
    "ts_programarea.plot.line(color='red')\n",
    "plt.title('Program Areas by Year')\n",
    "plt.show()"
   ]
  },
  {
   "cell_type": "code",
   "execution_count": 72,
   "metadata": {},
   "outputs": [
    {
     "data": {
      "text/plain": [
       "['HMGP', 'PDM', 'FMA', 'LPDM', 'SRL', 'RFC']"
      ]
     },
     "execution_count": 72,
     "metadata": {},
     "output_type": "execute_result"
    }
   ],
   "source": [
    "programAreas"
   ]
  },
  {
   "cell_type": "code",
   "execution_count": 73,
   "metadata": {
    "scrolled": true
   },
   "outputs": [
    {
     "data": {
      "image/png": "[encoded data removed]",
      "text/plain": [
       "<Figure size 432x288 with 1 Axes>"
      ]
     },
     "metadata": {
      "needs_background": "light"
     },
     "output_type": "display_data"
    },
    {
     "data": {
      "image/png": "[encoded data removed]",
      "text/plain": [
       "<Figure size 432x288 with 1 Axes>"
      ]
     },
     "metadata": {
      "needs_background": "light"
     },
     "output_type": "display_data"
    },
    {
     "data": {
      "image/png": "[encoded data removed]",
      "text/plain": [
       "<Figure size 432x288 with 1 Axes>"
      ]
     },
     "metadata": {
      "needs_background": "light"
     },
     "output_type": "display_data"
    },
    {
     "data": {
      "image/png": "[encoded data removed]",
      "text/plain": [
       "<Figure size 432x288 with 1 Axes>"
      ]
     },
     "metadata": {
      "needs_background": "light"
     },
     "output_type": "display_data"
    },
    {
     "data": {
      "image/png": "[encoded data removed]",
      "text/plain": [
       "<Figure size 432x288 with 1 Axes>"
      ]
     },
     "metadata": {
      "needs_background": "light"
     },
     "output_type": "display_data"
    },
    {
     "data": {
      "image/png": "[encoded data removed]",
      "text/plain": [
       "<Figure size 432x288 with 1 Axes>"
      ]
     },
     "metadata": {
      "needs_background": "light"
     },
     "output_type": "display_data"
    }
   ],
   "source": [
    "progAreas = {}\n",
    "for area in programAreas:\n",
    "    ts = ts_programarea[area].asfreq(freq).rename(area)\n",
    "    plt.figure()\n",
    "    ts.plot(title=area)\n",
    "    progAreas[area] = ts"
   ]
  },
  {
   "cell_type": "code",
   "execution_count": 74,
   "metadata": {},
   "outputs": [
    {
     "data": {
      "text/html": [
       "<div>\n",
       "<style scoped>\n",
       "    .dataframe tbody tr th:only-of-type {\n",
       "        vertical-align: middle;\n",
       "    }\n",
       "\n",
       "    .dataframe tbody tr th {\n",
       "        vertical-align: top;\n",
       "    }\n",
       "\n",
       "    .dataframe thead th {\n",
       "        text-align: right;\n",
       "    }\n",
       "</style>\n",
       "<table border=\"1\" class=\"dataframe\">\n",
       "  <thead>\n",
       "    <tr style=\"text-align: right;\">\n",
       "      <th></th>\n",
       "      <th>HMGP</th>\n",
       "      <th>PDM</th>\n",
       "      <th>FMA</th>\n",
       "      <th>LPDM</th>\n",
       "      <th>SRL</th>\n",
       "      <th>RFC</th>\n",
       "    </tr>\n",
       "    <tr>\n",
       "      <th>date</th>\n",
       "      <th></th>\n",
       "      <th></th>\n",
       "      <th></th>\n",
       "      <th></th>\n",
       "      <th></th>\n",
       "      <th></th>\n",
       "    </tr>\n",
       "  </thead>\n",
       "  <tbody>\n",
       "    <tr>\n",
       "      <td>1990-02-01</td>\n",
       "      <td>1</td>\n",
       "      <td>nan</td>\n",
       "      <td>nan</td>\n",
       "      <td>nan</td>\n",
       "      <td>nan</td>\n",
       "      <td>nan</td>\n",
       "    </tr>\n",
       "    <tr>\n",
       "      <td>1990-03-01</td>\n",
       "      <td>1</td>\n",
       "      <td>nan</td>\n",
       "      <td>nan</td>\n",
       "      <td>nan</td>\n",
       "      <td>nan</td>\n",
       "      <td>nan</td>\n",
       "    </tr>\n",
       "    <tr>\n",
       "      <td>1990-04-01</td>\n",
       "      <td>7</td>\n",
       "      <td>nan</td>\n",
       "      <td>nan</td>\n",
       "      <td>nan</td>\n",
       "      <td>nan</td>\n",
       "      <td>nan</td>\n",
       "    </tr>\n",
       "    <tr>\n",
       "      <td>1990-05-01</td>\n",
       "      <td>0</td>\n",
       "      <td>nan</td>\n",
       "      <td>nan</td>\n",
       "      <td>nan</td>\n",
       "      <td>nan</td>\n",
       "      <td>nan</td>\n",
       "    </tr>\n",
       "    <tr>\n",
       "      <td>1990-06-01</td>\n",
       "      <td>1</td>\n",
       "      <td>nan</td>\n",
       "      <td>nan</td>\n",
       "      <td>nan</td>\n",
       "      <td>nan</td>\n",
       "      <td>nan</td>\n",
       "    </tr>\n",
       "    <tr>\n",
       "      <td>...</td>\n",
       "      <td>...</td>\n",
       "      <td>...</td>\n",
       "      <td>...</td>\n",
       "      <td>...</td>\n",
       "      <td>...</td>\n",
       "      <td>...</td>\n",
       "    </tr>\n",
       "    <tr>\n",
       "      <td>2020-09-01</td>\n",
       "      <td>158</td>\n",
       "      <td>8.000</td>\n",
       "      <td>29.000</td>\n",
       "      <td>nan</td>\n",
       "      <td>nan</td>\n",
       "      <td>nan</td>\n",
       "    </tr>\n",
       "    <tr>\n",
       "      <td>2020-10-01</td>\n",
       "      <td>271</td>\n",
       "      <td>0.000</td>\n",
       "      <td>0.000</td>\n",
       "      <td>nan</td>\n",
       "      <td>nan</td>\n",
       "      <td>nan</td>\n",
       "    </tr>\n",
       "    <tr>\n",
       "      <td>2020-11-01</td>\n",
       "      <td>163</td>\n",
       "      <td>3.000</td>\n",
       "      <td>1.000</td>\n",
       "      <td>nan</td>\n",
       "      <td>nan</td>\n",
       "      <td>nan</td>\n",
       "    </tr>\n",
       "    <tr>\n",
       "      <td>2020-12-01</td>\n",
       "      <td>168</td>\n",
       "      <td>5.000</td>\n",
       "      <td>13.000</td>\n",
       "      <td>nan</td>\n",
       "      <td>nan</td>\n",
       "      <td>nan</td>\n",
       "    </tr>\n",
       "    <tr>\n",
       "      <td>2021-01-01</td>\n",
       "      <td>103</td>\n",
       "      <td>nan</td>\n",
       "      <td>nan</td>\n",
       "      <td>nan</td>\n",
       "      <td>nan</td>\n",
       "      <td>nan</td>\n",
       "    </tr>\n",
       "  </tbody>\n",
       "</table>\n",
       "<p>372 rows × 6 columns</p>\n",
       "</div>"
      ],
      "text/plain": [
       "            HMGP   PDM    FMA  LPDM  SRL  RFC\n",
       "date                                         \n",
       "1990-02-01     1   nan    nan   nan  nan  nan\n",
       "1990-03-01     1   nan    nan   nan  nan  nan\n",
       "1990-04-01     7   nan    nan   nan  nan  nan\n",
       "1990-05-01     0   nan    nan   nan  nan  nan\n",
       "1990-06-01     1   nan    nan   nan  nan  nan\n",
       "...          ...   ...    ...   ...  ...  ...\n",
       "2020-09-01   158 8.000 29.000   nan  nan  nan\n",
       "2020-10-01   271 0.000  0.000   nan  nan  nan\n",
       "2020-11-01   163 3.000  1.000   nan  nan  nan\n",
       "2020-12-01   168 5.000 13.000   nan  nan  nan\n",
       "2021-01-01   103   nan    nan   nan  nan  nan\n",
       "\n",
       "[372 rows x 6 columns]"
      ]
     },
     "execution_count": 74,
     "metadata": {},
     "output_type": "execute_result"
    }
   ],
   "source": [
    "df = pd.DataFrame(progAreas) \n",
    "df"
   ]
  },
  {
   "cell_type": "code",
   "execution_count": 75,
   "metadata": {},
   "outputs": [],
   "source": [
    "df.fillna(0, inplace=True)"
   ]
  },
  {
   "cell_type": "code",
   "execution_count": 76,
   "metadata": {},
   "outputs": [
    {
     "data": {
      "text/plain": [
       "DatetimeIndex(['1990-02-01', '1990-03-01', '1990-04-01', '1990-05-01',\n",
       "               '1990-06-01', '1990-07-01', '1990-08-01', '1990-09-01',\n",
       "               '1990-10-01', '1990-11-01',\n",
       "               ...\n",
       "               '2020-04-01', '2020-05-01', '2020-06-01', '2020-07-01',\n",
       "               '2020-08-01', '2020-09-01', '2020-10-01', '2020-11-01',\n",
       "               '2020-12-01', '2021-01-01'],\n",
       "              dtype='datetime64[ns]', name='date', length=372, freq='MS')"
      ]
     },
     "execution_count": 76,
     "metadata": {},
     "output_type": "execute_result"
    }
   ],
   "source": [
    "df.index"
   ]
  },
  {
   "cell_type": "code",
   "execution_count": 77,
   "metadata": {},
   "outputs": [],
   "source": [
    "df = df.loc['2008-01-01':'2021-01-01']"
   ]
  },
  {
   "cell_type": "markdown",
   "metadata": {},
   "source": [
    "# Time Series Modeling"
   ]
  },
  {
   "cell_type": "markdown",
   "metadata": {},
   "source": [
    "### One of the most common methods used in time series forecasting is known as the ARIMA model, which stands for AutoregRessive Integrated Moving Average. ARIMA is a model that can be fitted to time series data in order to better understand or predict future points in the series."
   ]
  },
  {
   "cell_type": "markdown",
   "metadata": {},
   "source": [
    "# Defining (p,d,q)\n",
    "p = auto-regressive part of model. Incorporates the effect of past values into our model.\n",
    "\n",
    "d = Integrated component of an ARIMA model. Concerned with the amount of differencing as it identifies the number of lag values to subtract from the current observation.  \n",
    "\n",
    "q = Moving average part of the model. Used to set the error of the model as a linear combination of the error values observed at previous time point in the past.\n",
    "\n",
    "ARIMA(p,d,q) = seasonality, trend, and noise in datasets"
   ]
  },
  {
   "cell_type": "code",
   "execution_count": 78,
   "metadata": {},
   "outputs": [],
   "source": [
    "# Define the p, d and q parameters to take any value between 0 and 2\n",
    "p = d = q = range(0, 4)\n",
    "\n",
    "# Generate all different combinations of p, q and q triplets\n",
    "pdq = list(itertools.product(p, d, q))\n",
    "\n",
    "# Generate all different combinations of seasonal p, q and q triplets\n",
    "pdqs = [(x[0], x[1], x[2], 12) for x in list(itertools.product(p, d, q))]"
   ]
  },
  {
   "cell_type": "code",
   "execution_count": 79,
   "metadata": {},
   "outputs": [
    {
     "data": {
      "text/html": [
       "<div>\n",
       "<style scoped>\n",
       "    .dataframe tbody tr th:only-of-type {\n",
       "        vertical-align: middle;\n",
       "    }\n",
       "\n",
       "    .dataframe tbody tr th {\n",
       "        vertical-align: top;\n",
       "    }\n",
       "\n",
       "    .dataframe thead th {\n",
       "        text-align: right;\n",
       "    }\n",
       "</style>\n",
       "<table border=\"1\" class=\"dataframe\">\n",
       "  <thead>\n",
       "    <tr style=\"text-align: right;\">\n",
       "      <th></th>\n",
       "      <th>HMGP</th>\n",
       "      <th>PDM</th>\n",
       "      <th>FMA</th>\n",
       "      <th>LPDM</th>\n",
       "      <th>SRL</th>\n",
       "      <th>RFC</th>\n",
       "    </tr>\n",
       "    <tr>\n",
       "      <th>date</th>\n",
       "      <th></th>\n",
       "      <th></th>\n",
       "      <th></th>\n",
       "      <th></th>\n",
       "      <th></th>\n",
       "      <th></th>\n",
       "    </tr>\n",
       "  </thead>\n",
       "  <tbody>\n",
       "    <tr>\n",
       "      <td>2008-01-01</td>\n",
       "      <td>53</td>\n",
       "      <td>15.000</td>\n",
       "      <td>0.000</td>\n",
       "      <td>0.000</td>\n",
       "      <td>0.000</td>\n",
       "      <td>0.000</td>\n",
       "    </tr>\n",
       "    <tr>\n",
       "      <td>2008-02-01</td>\n",
       "      <td>56</td>\n",
       "      <td>8.000</td>\n",
       "      <td>0.000</td>\n",
       "      <td>0.000</td>\n",
       "      <td>0.000</td>\n",
       "      <td>0.000</td>\n",
       "    </tr>\n",
       "    <tr>\n",
       "      <td>2008-03-01</td>\n",
       "      <td>35</td>\n",
       "      <td>6.000</td>\n",
       "      <td>0.000</td>\n",
       "      <td>0.000</td>\n",
       "      <td>0.000</td>\n",
       "      <td>0.000</td>\n",
       "    </tr>\n",
       "    <tr>\n",
       "      <td>2008-04-01</td>\n",
       "      <td>76</td>\n",
       "      <td>6.000</td>\n",
       "      <td>1.000</td>\n",
       "      <td>0.000</td>\n",
       "      <td>0.000</td>\n",
       "      <td>0.000</td>\n",
       "    </tr>\n",
       "    <tr>\n",
       "      <td>2008-05-01</td>\n",
       "      <td>65</td>\n",
       "      <td>3.000</td>\n",
       "      <td>0.000</td>\n",
       "      <td>0.000</td>\n",
       "      <td>0.000</td>\n",
       "      <td>0.000</td>\n",
       "    </tr>\n",
       "    <tr>\n",
       "      <td>...</td>\n",
       "      <td>...</td>\n",
       "      <td>...</td>\n",
       "      <td>...</td>\n",
       "      <td>...</td>\n",
       "      <td>...</td>\n",
       "      <td>...</td>\n",
       "    </tr>\n",
       "    <tr>\n",
       "      <td>2020-09-01</td>\n",
       "      <td>158</td>\n",
       "      <td>8.000</td>\n",
       "      <td>29.000</td>\n",
       "      <td>0.000</td>\n",
       "      <td>0.000</td>\n",
       "      <td>0.000</td>\n",
       "    </tr>\n",
       "    <tr>\n",
       "      <td>2020-10-01</td>\n",
       "      <td>271</td>\n",
       "      <td>0.000</td>\n",
       "      <td>0.000</td>\n",
       "      <td>0.000</td>\n",
       "      <td>0.000</td>\n",
       "      <td>0.000</td>\n",
       "    </tr>\n",
       "    <tr>\n",
       "      <td>2020-11-01</td>\n",
       "      <td>163</td>\n",
       "      <td>3.000</td>\n",
       "      <td>1.000</td>\n",
       "      <td>0.000</td>\n",
       "      <td>0.000</td>\n",
       "      <td>0.000</td>\n",
       "    </tr>\n",
       "    <tr>\n",
       "      <td>2020-12-01</td>\n",
       "      <td>168</td>\n",
       "      <td>5.000</td>\n",
       "      <td>13.000</td>\n",
       "      <td>0.000</td>\n",
       "      <td>0.000</td>\n",
       "      <td>0.000</td>\n",
       "    </tr>\n",
       "    <tr>\n",
       "      <td>2021-01-01</td>\n",
       "      <td>103</td>\n",
       "      <td>0.000</td>\n",
       "      <td>0.000</td>\n",
       "      <td>0.000</td>\n",
       "      <td>0.000</td>\n",
       "      <td>0.000</td>\n",
       "    </tr>\n",
       "  </tbody>\n",
       "</table>\n",
       "<p>157 rows × 6 columns</p>\n",
       "</div>"
      ],
      "text/plain": [
       "            HMGP    PDM    FMA  LPDM   SRL   RFC\n",
       "date                                            \n",
       "2008-01-01    53 15.000  0.000 0.000 0.000 0.000\n",
       "2008-02-01    56  8.000  0.000 0.000 0.000 0.000\n",
       "2008-03-01    35  6.000  0.000 0.000 0.000 0.000\n",
       "2008-04-01    76  6.000  1.000 0.000 0.000 0.000\n",
       "2008-05-01    65  3.000  0.000 0.000 0.000 0.000\n",
       "...          ...    ...    ...   ...   ...   ...\n",
       "2020-09-01   158  8.000 29.000 0.000 0.000 0.000\n",
       "2020-10-01   271  0.000  0.000 0.000 0.000 0.000\n",
       "2020-11-01   163  3.000  1.000 0.000 0.000 0.000\n",
       "2020-12-01   168  5.000 13.000 0.000 0.000 0.000\n",
       "2021-01-01   103  0.000  0.000 0.000 0.000 0.000\n",
       "\n",
       "[157 rows x 6 columns]"
      ]
     },
     "execution_count": 79,
     "metadata": {},
     "output_type": "execute_result"
    }
   ],
   "source": [
    "df"
   ]
  },
  {
   "cell_type": "code",
   "execution_count": 80,
   "metadata": {},
   "outputs": [
    {
     "data": {
      "text/plain": [
       "date\n",
       "2008-01-01     53\n",
       "2008-02-01     56\n",
       "2008-03-01     35\n",
       "2008-04-01     76\n",
       "2008-05-01     65\n",
       "             ... \n",
       "2020-09-01    158\n",
       "2020-10-01    271\n",
       "2020-11-01    163\n",
       "2020-12-01    168\n",
       "2021-01-01    103\n",
       "Freq: MS, Name: HMGP, Length: 157, dtype: int64"
      ]
     },
     "execution_count": 80,
     "metadata": {},
     "output_type": "execute_result"
    }
   ],
   "source": [
    "ts_HMGP = df['HMGP']\n",
    "ts_HMGP"
   ]
  },
  {
   "cell_type": "code",
   "execution_count": 81,
   "metadata": {},
   "outputs": [
    {
     "data": {
      "text/plain": [
       "date\n",
       "2008-01-01   15.000\n",
       "2008-02-01    8.000\n",
       "2008-03-01    6.000\n",
       "2008-04-01    6.000\n",
       "2008-05-01    3.000\n",
       "              ...  \n",
       "2020-09-01    8.000\n",
       "2020-10-01    0.000\n",
       "2020-11-01    3.000\n",
       "2020-12-01    5.000\n",
       "2021-01-01    0.000\n",
       "Freq: MS, Name: PDM, Length: 157, dtype: float64"
      ]
     },
     "execution_count": 81,
     "metadata": {},
     "output_type": "execute_result"
    }
   ],
   "source": [
    "# Time Series for Hurricanes\n",
    "ts_PDM = df['PDM']\n",
    "ts_PDM"
   ]
  },
  {
   "cell_type": "code",
   "execution_count": 82,
   "metadata": {},
   "outputs": [
    {
     "data": {
      "text/plain": [
       "date\n",
       "2008-01-01    0.000\n",
       "2008-02-01    0.000\n",
       "2008-03-01    0.000\n",
       "2008-04-01    1.000\n",
       "2008-05-01    0.000\n",
       "              ...  \n",
       "2020-09-01   29.000\n",
       "2020-10-01    0.000\n",
       "2020-11-01    1.000\n",
       "2020-12-01   13.000\n",
       "2021-01-01    0.000\n",
       "Freq: MS, Name: FMA, Length: 157, dtype: float64"
      ]
     },
     "execution_count": 82,
     "metadata": {},
     "output_type": "execute_result"
    }
   ],
   "source": [
    "# Time Series for Hurricanes\n",
    "ts_FMA = df['FMA']\n",
    "ts_FMA"
   ]
  },
  {
   "cell_type": "code",
   "execution_count": 83,
   "metadata": {},
   "outputs": [
    {
     "data": {
      "text/plain": [
       "date\n",
       "2008-01-01   0.000\n",
       "2008-02-01   0.000\n",
       "2008-03-01   0.000\n",
       "2008-04-01   0.000\n",
       "2008-05-01   0.000\n",
       "              ... \n",
       "2020-09-01   0.000\n",
       "2020-10-01   0.000\n",
       "2020-11-01   0.000\n",
       "2020-12-01   0.000\n",
       "2021-01-01   0.000\n",
       "Freq: MS, Name: LPDM, Length: 157, dtype: float64"
      ]
     },
     "execution_count": 83,
     "metadata": {},
     "output_type": "execute_result"
    }
   ],
   "source": [
    "# Time Series for Hurricanes\n",
    "ts_LPDM = df['LPDM']\n",
    "ts_LPDM"
   ]
  },
  {
   "cell_type": "code",
   "execution_count": 84,
   "metadata": {},
   "outputs": [
    {
     "data": {
      "text/plain": [
       "date\n",
       "2008-01-01   0.000\n",
       "2008-02-01   0.000\n",
       "2008-03-01   0.000\n",
       "2008-04-01   0.000\n",
       "2008-05-01   0.000\n",
       "              ... \n",
       "2020-09-01   0.000\n",
       "2020-10-01   0.000\n",
       "2020-11-01   0.000\n",
       "2020-12-01   0.000\n",
       "2021-01-01   0.000\n",
       "Freq: MS, Name: SRL, Length: 157, dtype: float64"
      ]
     },
     "execution_count": 84,
     "metadata": {},
     "output_type": "execute_result"
    }
   ],
   "source": [
    "# Time Series for Hurricanes\n",
    "ts_SRL = df['SRL']\n",
    "ts_SRL"
   ]
  },
  {
   "cell_type": "code",
   "execution_count": 85,
   "metadata": {},
   "outputs": [
    {
     "data": {
      "text/plain": [
       "date\n",
       "2008-01-01   0.000\n",
       "2008-02-01   0.000\n",
       "2008-03-01   0.000\n",
       "2008-04-01   0.000\n",
       "2008-05-01   0.000\n",
       "              ... \n",
       "2020-09-01   0.000\n",
       "2020-10-01   0.000\n",
       "2020-11-01   0.000\n",
       "2020-12-01   0.000\n",
       "2021-01-01   0.000\n",
       "Freq: MS, Name: RFC, Length: 157, dtype: float64"
      ]
     },
     "execution_count": 85,
     "metadata": {},
     "output_type": "execute_result"
    }
   ],
   "source": [
    "# Time Series for Hurricanes\n",
    "ts_RFC = df['RFC']\n",
    "ts_RFC"
   ]
  },
  {
   "cell_type": "code",
   "execution_count": null,
   "metadata": {},
   "outputs": [
    {
     "name": "stdout",
     "output_type": "stream",
     "text": [
      "ARIMA (0, 0, 0) x (0, 0, 0, 12)12 : AIC Calculated =672.9951825357386\n",
      "ARIMA (0, 0, 0) x (0, 0, 1, 12)12 : AIC Calculated =672.9951825357386\n",
      "ARIMA (0, 0, 0) x (0, 0, 2, 12)12 : AIC Calculated =672.9951825357386\n",
      "ARIMA (0, 0, 0) x (0, 0, 3, 12)12 : AIC Calculated =672.9951825357386\n",
      "ARIMA (0, 0, 0) x (0, 1, 0, 12)12 : AIC Calculated =672.9951825357386\n",
      "ARIMA (0, 0, 0) x (0, 1, 1, 12)12 : AIC Calculated =672.9951825357386\n",
      "ARIMA (0, 0, 0) x (0, 1, 2, 12)12 : AIC Calculated =672.9951825357386\n",
      "ARIMA (0, 0, 0) x (0, 1, 3, 12)12 : AIC Calculated =672.9951825357386\n",
      "ARIMA (0, 0, 0) x (0, 2, 0, 12)12 : AIC Calculated =672.9951825357386\n",
      "ARIMA (0, 0, 0) x (0, 2, 1, 12)12 : AIC Calculated =672.9951825357386\n",
      "ARIMA (0, 0, 0) x (0, 2, 2, 12)12 : AIC Calculated =672.9951825357386\n",
      "ARIMA (0, 0, 0) x (0, 2, 3, 12)12 : AIC Calculated =672.9951825357386\n",
      "ARIMA (0, 0, 0) x (0, 3, 0, 12)12 : AIC Calculated =672.9951825357386\n",
      "ARIMA (0, 0, 0) x (0, 3, 1, 12)12 : AIC Calculated =672.9951825357386\n",
      "ARIMA (0, 0, 0) x (0, 3, 2, 12)12 : AIC Calculated =672.9951825357386\n",
      "ARIMA (0, 0, 0) x (0, 3, 3, 12)12 : AIC Calculated =672.9951825357386\n",
      "ARIMA (0, 0, 0) x (1, 0, 0, 12)12 : AIC Calculated =672.9951825357386\n",
      "ARIMA (0, 0, 0) x (1, 0, 1, 12)12 : AIC Calculated =672.9951825357386\n",
      "ARIMA (0, 0, 0) x (1, 0, 2, 12)12 : AIC Calculated =672.9951825357386\n",
      "ARIMA (0, 0, 0) x (1, 0, 3, 12)12 : AIC Calculated =672.9951825357386\n",
      "ARIMA (0, 0, 0) x (1, 1, 0, 12)12 : AIC Calculated =672.9951825357386\n",
      "ARIMA (0, 0, 0) x (1, 1, 1, 12)12 : AIC Calculated =672.9951825357386\n",
      "ARIMA (0, 0, 0) x (1, 1, 2, 12)12 : AIC Calculated =672.9951825357386\n",
      "ARIMA (0, 0, 0) x (1, 1, 3, 12)12 : AIC Calculated =672.9951825357386\n",
      "ARIMA (0, 0, 0) x (1, 2, 0, 12)12 : AIC Calculated =672.9951825357386\n",
      "ARIMA (0, 0, 0) x (1, 2, 1, 12)12 : AIC Calculated =672.9951825357386\n",
      "ARIMA (0, 0, 0) x (1, 2, 2, 12)12 : AIC Calculated =672.9951825357386\n",
      "ARIMA (0, 0, 0) x (1, 2, 3, 12)12 : AIC Calculated =672.9951825357386\n",
      "ARIMA (0, 0, 0) x (1, 3, 0, 12)12 : AIC Calculated =672.9951825357386\n",
      "ARIMA (0, 0, 0) x (1, 3, 1, 12)12 : AIC Calculated =672.9951825357386\n",
      "ARIMA (0, 0, 0) x (1, 3, 2, 12)12 : AIC Calculated =672.9951825357386\n",
      "ARIMA (0, 0, 0) x (1, 3, 3, 12)12 : AIC Calculated =672.9951825357386\n",
      "ARIMA (0, 0, 0) x (2, 0, 0, 12)12 : AIC Calculated =672.9951825357386\n",
      "ARIMA (0, 0, 0) x (2, 0, 1, 12)12 : AIC Calculated =672.9951825357386\n",
      "ARIMA (0, 0, 0) x (2, 0, 2, 12)12 : AIC Calculated =672.9951825357386\n",
      "ARIMA (0, 0, 0) x (2, 0, 3, 12)12 : AIC Calculated =672.9951825357386\n",
      "ARIMA (0, 0, 0) x (2, 1, 0, 12)12 : AIC Calculated =672.9951825357386\n",
      "ARIMA (0, 0, 0) x (2, 1, 1, 12)12 : AIC Calculated =672.9951825357386\n",
      "ARIMA (0, 0, 0) x (2, 1, 2, 12)12 : AIC Calculated =672.9951825357386\n",
      "ARIMA (0, 0, 0) x (2, 1, 3, 12)12 : AIC Calculated =672.9951825357386\n",
      "ARIMA (0, 0, 0) x (2, 2, 0, 12)12 : AIC Calculated =672.9951825357386\n",
      "ARIMA (0, 0, 0) x (2, 2, 1, 12)12 : AIC Calculated =672.9951825357386\n",
      "ARIMA (0, 0, 0) x (2, 2, 2, 12)12 : AIC Calculated =672.9951825357386\n",
      "ARIMA (0, 0, 0) x (2, 2, 3, 12)12 : AIC Calculated =672.9951825357386\n",
      "ARIMA (0, 0, 0) x (2, 3, 0, 12)12 : AIC Calculated =672.9951825357386\n",
      "ARIMA (0, 0, 0) x (2, 3, 1, 12)12 : AIC Calculated =672.9951825357386\n",
      "ARIMA (0, 0, 0) x (2, 3, 2, 12)12 : AIC Calculated =672.9951825357386\n",
      "ARIMA (0, 0, 0) x (2, 3, 3, 12)12 : AIC Calculated =672.9951825357386\n",
      "ARIMA (0, 0, 0) x (3, 0, 0, 12)12 : AIC Calculated =672.9951825357386\n",
      "ARIMA (0, 0, 0) x (3, 0, 1, 12)12 : AIC Calculated =672.9951825357386\n",
      "ARIMA (0, 0, 0) x (3, 0, 2, 12)12 : AIC Calculated =672.9951825357386\n",
      "ARIMA (0, 0, 0) x (3, 0, 3, 12)12 : AIC Calculated =672.9951825357386\n",
      "ARIMA (0, 0, 0) x (3, 1, 0, 12)12 : AIC Calculated =672.9951825357386\n",
      "ARIMA (0, 0, 0) x (3, 1, 1, 12)12 : AIC Calculated =672.9951825357386\n",
      "ARIMA (0, 0, 0) x (3, 1, 2, 12)12 : AIC Calculated =672.9951825357386\n",
      "ARIMA (0, 0, 0) x (3, 1, 3, 12)12 : AIC Calculated =672.9951825357386\n",
      "ARIMA (0, 0, 0) x (3, 2, 0, 12)12 : AIC Calculated =672.9951825357386\n",
      "ARIMA (0, 0, 0) x (3, 2, 1, 12)12 : AIC Calculated =672.9951825357386\n",
      "ARIMA (0, 0, 0) x (3, 2, 2, 12)12 : AIC Calculated =672.9951825357386\n",
      "ARIMA (0, 0, 0) x (3, 2, 3, 12)12 : AIC Calculated =672.9951825357386\n",
      "ARIMA (0, 0, 0) x (3, 3, 0, 12)12 : AIC Calculated =672.9951825357386\n",
      "ARIMA (0, 0, 0) x (3, 3, 1, 12)12 : AIC Calculated =672.9951825357386\n",
      "ARIMA (0, 0, 0) x (3, 3, 2, 12)12 : AIC Calculated =672.9951825357386\n",
      "ARIMA (0, 0, 0) x (3, 3, 3, 12)12 : AIC Calculated =672.9951825357386\n",
      "ARIMA (0, 0, 1) x (0, 0, 0, 12)12 : AIC Calculated =665.1431277177464\n",
      "ARIMA (0, 0, 1) x (0, 0, 1, 12)12 : AIC Calculated =665.1431277177464\n",
      "ARIMA (0, 0, 1) x (0, 0, 2, 12)12 : AIC Calculated =665.1431277177464\n",
      "ARIMA (0, 0, 1) x (0, 0, 3, 12)12 : AIC Calculated =665.1431277177464\n",
      "ARIMA (0, 0, 1) x (0, 1, 0, 12)12 : AIC Calculated =665.1431277177464\n",
      "ARIMA (0, 0, 1) x (0, 1, 1, 12)12 : AIC Calculated =665.1431277177464\n",
      "ARIMA (0, 0, 1) x (0, 1, 2, 12)12 : AIC Calculated =665.1431277177464\n",
      "ARIMA (0, 0, 1) x (0, 1, 3, 12)12 : AIC Calculated =665.1431277177464\n",
      "ARIMA (0, 0, 1) x (0, 2, 0, 12)12 : AIC Calculated =665.1431277177464\n",
      "ARIMA (0, 0, 1) x (0, 2, 1, 12)12 : AIC Calculated =665.1431277177464\n",
      "ARIMA (0, 0, 1) x (0, 2, 2, 12)12 : AIC Calculated =665.1431277177464\n",
      "ARIMA (0, 0, 1) x (0, 2, 3, 12)12 : AIC Calculated =665.1431277177464\n",
      "ARIMA (0, 0, 1) x (0, 3, 0, 12)12 : AIC Calculated =665.1431277177464\n",
      "ARIMA (0, 0, 1) x (0, 3, 1, 12)12 : AIC Calculated =665.1431277177464\n",
      "ARIMA (0, 0, 1) x (0, 3, 2, 12)12 : AIC Calculated =665.1431277177464\n",
      "ARIMA (0, 0, 1) x (0, 3, 3, 12)12 : AIC Calculated =665.1431277177464\n",
      "ARIMA (0, 0, 1) x (1, 0, 0, 12)12 : AIC Calculated =665.1431277177464\n",
      "ARIMA (0, 0, 1) x (1, 0, 1, 12)12 : AIC Calculated =665.1431277177464\n",
      "ARIMA (0, 0, 1) x (1, 0, 2, 12)12 : AIC Calculated =665.1431277177464\n",
      "ARIMA (0, 0, 1) x (1, 0, 3, 12)12 : AIC Calculated =665.1431277177464\n",
      "ARIMA (0, 0, 1) x (1, 1, 0, 12)12 : AIC Calculated =665.1431277177464\n",
      "ARIMA (0, 0, 1) x (1, 1, 1, 12)12 : AIC Calculated =665.1431277177464\n",
      "ARIMA (0, 0, 1) x (1, 1, 2, 12)12 : AIC Calculated =665.1431277177464\n",
      "ARIMA (0, 0, 1) x (1, 1, 3, 12)12 : AIC Calculated =665.1431277177464\n",
      "ARIMA (0, 0, 1) x (1, 2, 0, 12)12 : AIC Calculated =665.1431277177464\n",
      "ARIMA (0, 0, 1) x (1, 2, 1, 12)12 : AIC Calculated =665.1431277177464\n",
      "ARIMA (0, 0, 1) x (1, 2, 2, 12)12 : AIC Calculated =665.1431277177464\n",
      "ARIMA (0, 0, 1) x (1, 2, 3, 12)12 : AIC Calculated =665.1431277177464\n",
      "ARIMA (0, 0, 1) x (1, 3, 0, 12)12 : AIC Calculated =665.1431277177464\n",
      "ARIMA (0, 0, 1) x (1, 3, 1, 12)12 : AIC Calculated =665.1431277177464\n",
      "ARIMA (0, 0, 1) x (1, 3, 2, 12)12 : AIC Calculated =665.1431277177464\n",
      "ARIMA (0, 0, 1) x (1, 3, 3, 12)12 : AIC Calculated =665.1431277177464\n",
      "ARIMA (0, 0, 1) x (2, 0, 0, 12)12 : AIC Calculated =665.1431277177464\n",
      "ARIMA (0, 0, 1) x (2, 0, 1, 12)12 : AIC Calculated =665.1431277177464\n",
      "ARIMA (0, 0, 1) x (2, 0, 2, 12)12 : AIC Calculated =665.1431277177464\n",
      "ARIMA (0, 0, 1) x (2, 0, 3, 12)12 : AIC Calculated =665.1431277177464\n",
      "ARIMA (0, 0, 1) x (2, 1, 0, 12)12 : AIC Calculated =665.1431277177464\n",
      "ARIMA (0, 0, 1) x (2, 1, 1, 12)12 : AIC Calculated =665.1431277177464\n",
      "ARIMA (0, 0, 1) x (2, 1, 2, 12)12 : AIC Calculated =665.1431277177464\n",
      "ARIMA (0, 0, 1) x (2, 1, 3, 12)12 : AIC Calculated =665.1431277177464\n",
      "ARIMA (0, 0, 1) x (2, 2, 0, 12)12 : AIC Calculated =665.1431277177464\n",
      "ARIMA (0, 0, 1) x (2, 2, 1, 12)12 : AIC Calculated =665.1431277177464\n",
      "ARIMA (0, 0, 1) x (2, 2, 2, 12)12 : AIC Calculated =665.1431277177464\n",
      "ARIMA (0, 0, 1) x (2, 2, 3, 12)12 : AIC Calculated =665.1431277177464\n",
      "ARIMA (0, 0, 1) x (2, 3, 0, 12)12 : AIC Calculated =665.1431277177464\n",
      "ARIMA (0, 0, 1) x (2, 3, 1, 12)12 : AIC Calculated =665.1431277177464\n",
      "ARIMA (0, 0, 1) x (2, 3, 2, 12)12 : AIC Calculated =665.1431277177464\n",
      "ARIMA (0, 0, 1) x (2, 3, 3, 12)12 : AIC Calculated =665.1431277177464\n",
      "ARIMA (0, 0, 1) x (3, 0, 0, 12)12 : AIC Calculated =665.1431277177464\n",
      "ARIMA (0, 0, 1) x (3, 0, 1, 12)12 : AIC Calculated =665.1431277177464\n",
      "ARIMA (0, 0, 1) x (3, 0, 2, 12)12 : AIC Calculated =665.1431277177464\n",
      "ARIMA (0, 0, 1) x (3, 0, 3, 12)12 : AIC Calculated =665.1431277177464\n",
      "ARIMA (0, 0, 1) x (3, 1, 0, 12)12 : AIC Calculated =665.1431277177464\n",
      "ARIMA (0, 0, 1) x (3, 1, 1, 12)12 : AIC Calculated =665.1431277177464\n",
      "ARIMA (0, 0, 1) x (3, 1, 2, 12)12 : AIC Calculated =665.1431277177464\n",
      "ARIMA (0, 0, 1) x (3, 1, 3, 12)12 : AIC Calculated =665.1431277177464\n",
      "ARIMA (0, 0, 1) x (3, 2, 0, 12)12 : AIC Calculated =665.1431277177464\n",
      "ARIMA (0, 0, 1) x (3, 2, 1, 12)12 : AIC Calculated =665.1431277177464\n",
      "ARIMA (0, 0, 1) x (3, 2, 2, 12)12 : AIC Calculated =665.1431277177464\n"
     ]
    },
    {
     "name": "stdout",
     "output_type": "stream",
     "text": [
      "ARIMA (0, 0, 1) x (3, 2, 3, 12)12 : AIC Calculated =665.1431277177464\n",
      "ARIMA (0, 0, 1) x (3, 3, 0, 12)12 : AIC Calculated =665.1431277177464\n",
      "ARIMA (0, 0, 1) x (3, 3, 1, 12)12 : AIC Calculated =665.1431277177464\n",
      "ARIMA (0, 0, 1) x (3, 3, 2, 12)12 : AIC Calculated =665.1431277177464\n",
      "ARIMA (0, 0, 1) x (3, 3, 3, 12)12 : AIC Calculated =665.1431277177464\n",
      "ARIMA (0, 0, 2) x (0, 0, 0, 12)12 : AIC Calculated =658.1940387653735\n",
      "ARIMA (0, 0, 2) x (0, 0, 1, 12)12 : AIC Calculated =658.1940387653735\n",
      "ARIMA (0, 0, 2) x (0, 0, 2, 12)12 : AIC Calculated =658.1940387653735\n",
      "ARIMA (0, 0, 2) x (0, 0, 3, 12)12 : AIC Calculated =658.1940387653735\n",
      "ARIMA (0, 0, 2) x (0, 1, 0, 12)12 : AIC Calculated =658.1940387653735\n",
      "ARIMA (0, 0, 2) x (0, 1, 1, 12)12 : AIC Calculated =658.1940387653735\n",
      "ARIMA (0, 0, 2) x (0, 1, 2, 12)12 : AIC Calculated =658.1940387653735\n",
      "ARIMA (0, 0, 2) x (0, 1, 3, 12)12 : AIC Calculated =658.1940387653735\n",
      "ARIMA (0, 0, 2) x (0, 2, 0, 12)12 : AIC Calculated =658.1940387653735\n",
      "ARIMA (0, 0, 2) x (0, 2, 1, 12)12 : AIC Calculated =658.1940387653735\n",
      "ARIMA (0, 0, 2) x (0, 2, 2, 12)12 : AIC Calculated =658.1940387653735\n",
      "ARIMA (0, 0, 2) x (0, 2, 3, 12)12 : AIC Calculated =658.1940387653735\n",
      "ARIMA (0, 0, 2) x (0, 3, 0, 12)12 : AIC Calculated =658.1940387653735\n",
      "ARIMA (0, 0, 2) x (0, 3, 1, 12)12 : AIC Calculated =658.1940387653735\n",
      "ARIMA (0, 0, 2) x (0, 3, 2, 12)12 : AIC Calculated =658.1940387653735\n",
      "ARIMA (0, 0, 2) x (0, 3, 3, 12)12 : AIC Calculated =658.1940387653735\n",
      "ARIMA (0, 0, 2) x (1, 0, 0, 12)12 : AIC Calculated =658.1940387653735\n",
      "ARIMA (0, 0, 2) x (1, 0, 1, 12)12 : AIC Calculated =658.1940387653735\n",
      "ARIMA (0, 0, 2) x (1, 0, 2, 12)12 : AIC Calculated =658.1940387653735\n",
      "ARIMA (0, 0, 2) x (1, 0, 3, 12)12 : AIC Calculated =658.1940387653735\n",
      "ARIMA (0, 0, 2) x (1, 1, 0, 12)12 : AIC Calculated =658.1940387653735\n",
      "ARIMA (0, 0, 2) x (1, 1, 1, 12)12 : AIC Calculated =658.1940387653735\n",
      "ARIMA (0, 0, 2) x (1, 1, 2, 12)12 : AIC Calculated =658.1940387653735\n",
      "ARIMA (0, 0, 2) x (1, 1, 3, 12)12 : AIC Calculated =658.1940387653735\n",
      "ARIMA (0, 0, 2) x (1, 2, 0, 12)12 : AIC Calculated =658.1940387653735\n",
      "ARIMA (0, 0, 2) x (1, 2, 1, 12)12 : AIC Calculated =658.1940387653735\n",
      "ARIMA (0, 0, 2) x (1, 2, 2, 12)12 : AIC Calculated =658.1940387653735\n",
      "ARIMA (0, 0, 2) x (1, 2, 3, 12)12 : AIC Calculated =658.1940387653735\n",
      "ARIMA (0, 0, 2) x (1, 3, 0, 12)12 : AIC Calculated =658.1940387653735\n",
      "ARIMA (0, 0, 2) x (1, 3, 1, 12)12 : AIC Calculated =658.1940387653735\n",
      "ARIMA (0, 0, 2) x (1, 3, 2, 12)12 : AIC Calculated =658.1940387653735\n",
      "ARIMA (0, 0, 2) x (1, 3, 3, 12)12 : AIC Calculated =658.1940387653735\n",
      "ARIMA (0, 0, 2) x (2, 0, 0, 12)12 : AIC Calculated =658.1940387653735\n",
      "ARIMA (0, 0, 2) x (2, 0, 1, 12)12 : AIC Calculated =658.1940387653735\n",
      "ARIMA (0, 0, 2) x (2, 0, 2, 12)12 : AIC Calculated =658.1940387653735\n",
      "ARIMA (0, 0, 2) x (2, 0, 3, 12)12 : AIC Calculated =658.1940387653735\n",
      "ARIMA (0, 0, 2) x (2, 1, 0, 12)12 : AIC Calculated =658.1940387653735\n",
      "ARIMA (0, 0, 2) x (2, 1, 1, 12)12 : AIC Calculated =658.1940387653735\n",
      "ARIMA (0, 0, 2) x (2, 1, 2, 12)12 : AIC Calculated =658.1940387653735\n",
      "ARIMA (0, 0, 2) x (2, 1, 3, 12)12 : AIC Calculated =658.1940387653735\n",
      "ARIMA (0, 0, 2) x (2, 2, 0, 12)12 : AIC Calculated =658.1940387653735\n",
      "ARIMA (0, 0, 2) x (2, 2, 1, 12)12 : AIC Calculated =658.1940387653735\n",
      "ARIMA (0, 0, 2) x (2, 2, 2, 12)12 : AIC Calculated =658.1940387653735\n",
      "ARIMA (0, 0, 2) x (2, 2, 3, 12)12 : AIC Calculated =658.1940387653735\n",
      "ARIMA (0, 0, 2) x (2, 3, 0, 12)12 : AIC Calculated =658.1940387653735\n",
      "ARIMA (0, 0, 2) x (2, 3, 1, 12)12 : AIC Calculated =658.1940387653735\n",
      "ARIMA (0, 0, 2) x (2, 3, 2, 12)12 : AIC Calculated =658.1940387653735\n",
      "ARIMA (0, 0, 2) x (2, 3, 3, 12)12 : AIC Calculated =658.1940387653735\n",
      "ARIMA (0, 0, 2) x (3, 0, 0, 12)12 : AIC Calculated =658.1940387653735\n",
      "ARIMA (0, 0, 2) x (3, 0, 1, 12)12 : AIC Calculated =658.1940387653735\n",
      "ARIMA (0, 0, 2) x (3, 0, 2, 12)12 : AIC Calculated =658.1940387653735\n",
      "ARIMA (0, 0, 2) x (3, 0, 3, 12)12 : AIC Calculated =658.1940387653735\n",
      "ARIMA (0, 0, 2) x (3, 1, 0, 12)12 : AIC Calculated =658.1940387653735\n",
      "ARIMA (0, 0, 2) x (3, 1, 1, 12)12 : AIC Calculated =658.1940387653735\n",
      "ARIMA (0, 0, 2) x (3, 1, 2, 12)12 : AIC Calculated =658.1940387653735\n",
      "ARIMA (0, 0, 2) x (3, 1, 3, 12)12 : AIC Calculated =658.1940387653735\n",
      "ARIMA (0, 0, 2) x (3, 2, 0, 12)12 : AIC Calculated =658.1940387653735\n",
      "ARIMA (0, 0, 2) x (3, 2, 1, 12)12 : AIC Calculated =658.1940387653735\n",
      "ARIMA (0, 0, 2) x (3, 2, 2, 12)12 : AIC Calculated =658.1940387653735\n",
      "ARIMA (0, 0, 2) x (3, 2, 3, 12)12 : AIC Calculated =658.1940387653735\n",
      "ARIMA (0, 0, 2) x (3, 3, 0, 12)12 : AIC Calculated =658.1940387653735\n",
      "ARIMA (0, 0, 2) x (3, 3, 1, 12)12 : AIC Calculated =658.1940387653735\n",
      "ARIMA (0, 0, 2) x (3, 3, 2, 12)12 : AIC Calculated =658.1940387653735\n",
      "ARIMA (0, 0, 2) x (3, 3, 3, 12)12 : AIC Calculated =658.1940387653735\n",
      "ARIMA (0, 0, 3) x (0, 0, 0, 12)12 : AIC Calculated =653.5354947538339\n",
      "ARIMA (0, 0, 3) x (0, 0, 1, 12)12 : AIC Calculated =653.5354947538339\n",
      "ARIMA (0, 0, 3) x (0, 0, 2, 12)12 : AIC Calculated =653.5354947538339\n",
      "ARIMA (0, 0, 3) x (0, 0, 3, 12)12 : AIC Calculated =653.5354947538339\n",
      "ARIMA (0, 0, 3) x (0, 1, 0, 12)12 : AIC Calculated =653.5354947538339\n",
      "ARIMA (0, 0, 3) x (0, 1, 1, 12)12 : AIC Calculated =653.5354947538339\n",
      "ARIMA (0, 0, 3) x (0, 1, 2, 12)12 : AIC Calculated =653.5354947538339\n",
      "ARIMA (0, 0, 3) x (0, 1, 3, 12)12 : AIC Calculated =653.5354947538339\n",
      "ARIMA (0, 0, 3) x (0, 2, 0, 12)12 : AIC Calculated =653.5354947538339\n",
      "ARIMA (0, 0, 3) x (0, 2, 1, 12)12 : AIC Calculated =653.5354947538339\n",
      "ARIMA (0, 0, 3) x (0, 2, 2, 12)12 : AIC Calculated =653.5354947538339\n",
      "ARIMA (0, 0, 3) x (0, 2, 3, 12)12 : AIC Calculated =653.5354947538339\n",
      "ARIMA (0, 0, 3) x (0, 3, 0, 12)12 : AIC Calculated =653.5354947538339\n",
      "ARIMA (0, 0, 3) x (0, 3, 1, 12)12 : AIC Calculated =653.5354947538339\n",
      "ARIMA (0, 0, 3) x (0, 3, 2, 12)12 : AIC Calculated =653.5354947538339\n",
      "ARIMA (0, 0, 3) x (0, 3, 3, 12)12 : AIC Calculated =653.5354947538339\n",
      "ARIMA (0, 0, 3) x (1, 0, 0, 12)12 : AIC Calculated =653.5354947538339\n",
      "ARIMA (0, 0, 3) x (1, 0, 1, 12)12 : AIC Calculated =653.5354947538339\n",
      "ARIMA (0, 0, 3) x (1, 0, 2, 12)12 : AIC Calculated =653.5354947538339\n",
      "ARIMA (0, 0, 3) x (1, 0, 3, 12)12 : AIC Calculated =653.5354947538339\n",
      "ARIMA (0, 0, 3) x (1, 1, 0, 12)12 : AIC Calculated =653.5354947538339\n",
      "ARIMA (0, 0, 3) x (1, 1, 1, 12)12 : AIC Calculated =653.5354947538339\n",
      "ARIMA (0, 0, 3) x (1, 1, 2, 12)12 : AIC Calculated =653.5354947538339\n",
      "ARIMA (0, 0, 3) x (1, 1, 3, 12)12 : AIC Calculated =653.5354947538339\n",
      "ARIMA (0, 0, 3) x (1, 2, 0, 12)12 : AIC Calculated =653.5354947538339\n",
      "ARIMA (0, 0, 3) x (1, 2, 1, 12)12 : AIC Calculated =653.5354947538339\n",
      "ARIMA (0, 0, 3) x (1, 2, 2, 12)12 : AIC Calculated =653.5354947538339\n",
      "ARIMA (0, 0, 3) x (1, 2, 3, 12)12 : AIC Calculated =653.5354947538339\n",
      "ARIMA (0, 0, 3) x (1, 3, 0, 12)12 : AIC Calculated =653.5354947538339\n",
      "ARIMA (0, 0, 3) x (1, 3, 1, 12)12 : AIC Calculated =653.5354947538339\n",
      "ARIMA (0, 0, 3) x (1, 3, 2, 12)12 : AIC Calculated =653.5354947538339\n",
      "ARIMA (0, 0, 3) x (1, 3, 3, 12)12 : AIC Calculated =653.5354947538339\n",
      "ARIMA (0, 0, 3) x (2, 0, 0, 12)12 : AIC Calculated =653.5354947538339\n",
      "ARIMA (0, 0, 3) x (2, 0, 1, 12)12 : AIC Calculated =653.5354947538339\n",
      "ARIMA (0, 0, 3) x (2, 0, 2, 12)12 : AIC Calculated =653.5354947538339\n",
      "ARIMA (0, 0, 3) x (2, 0, 3, 12)12 : AIC Calculated =653.5354947538339\n",
      "ARIMA (0, 0, 3) x (2, 1, 0, 12)12 : AIC Calculated =653.5354947538339\n",
      "ARIMA (0, 0, 3) x (2, 1, 1, 12)12 : AIC Calculated =653.5354947538339\n",
      "ARIMA (0, 0, 3) x (2, 1, 2, 12)12 : AIC Calculated =653.5354947538339\n",
      "ARIMA (0, 0, 3) x (2, 1, 3, 12)12 : AIC Calculated =653.5354947538339\n",
      "ARIMA (0, 0, 3) x (2, 2, 0, 12)12 : AIC Calculated =653.5354947538339\n",
      "ARIMA (0, 0, 3) x (2, 2, 1, 12)12 : AIC Calculated =653.5354947538339\n",
      "ARIMA (0, 0, 3) x (2, 2, 2, 12)12 : AIC Calculated =653.5354947538339\n",
      "ARIMA (0, 0, 3) x (2, 2, 3, 12)12 : AIC Calculated =653.5354947538339\n",
      "ARIMA (0, 0, 3) x (2, 3, 0, 12)12 : AIC Calculated =653.5354947538339\n",
      "ARIMA (0, 0, 3) x (2, 3, 1, 12)12 : AIC Calculated =653.5354947538339\n",
      "ARIMA (0, 0, 3) x (2, 3, 2, 12)12 : AIC Calculated =653.5354947538339\n",
      "ARIMA (0, 0, 3) x (2, 3, 3, 12)12 : AIC Calculated =653.5354947538339\n",
      "ARIMA (0, 0, 3) x (3, 0, 0, 12)12 : AIC Calculated =653.5354947538339\n",
      "ARIMA (0, 0, 3) x (3, 0, 1, 12)12 : AIC Calculated =653.5354947538339\n",
      "ARIMA (0, 0, 3) x (3, 0, 2, 12)12 : AIC Calculated =653.5354947538339\n"
     ]
    },
    {
     "name": "stdout",
     "output_type": "stream",
     "text": [
      "ARIMA (0, 0, 3) x (3, 0, 3, 12)12 : AIC Calculated =653.5354947538339\n",
      "ARIMA (0, 0, 3) x (3, 1, 0, 12)12 : AIC Calculated =653.5354947538339\n",
      "ARIMA (0, 0, 3) x (3, 1, 1, 12)12 : AIC Calculated =653.5354947538339\n",
      "ARIMA (0, 0, 3) x (3, 1, 2, 12)12 : AIC Calculated =653.5354947538339\n",
      "ARIMA (0, 0, 3) x (3, 1, 3, 12)12 : AIC Calculated =653.5354947538339\n",
      "ARIMA (0, 0, 3) x (3, 2, 0, 12)12 : AIC Calculated =653.5354947538339\n",
      "ARIMA (0, 0, 3) x (3, 2, 1, 12)12 : AIC Calculated =653.5354947538339\n",
      "ARIMA (0, 0, 3) x (3, 2, 2, 12)12 : AIC Calculated =653.5354947538339\n",
      "ARIMA (0, 0, 3) x (3, 2, 3, 12)12 : AIC Calculated =653.5354947538339\n",
      "ARIMA (0, 0, 3) x (3, 3, 0, 12)12 : AIC Calculated =653.5354947538339\n",
      "ARIMA (0, 0, 3) x (3, 3, 1, 12)12 : AIC Calculated =653.5354947538339\n",
      "ARIMA (0, 0, 3) x (3, 3, 2, 12)12 : AIC Calculated =653.5354947538339\n",
      "ARIMA (0, 0, 3) x (3, 3, 3, 12)12 : AIC Calculated =653.5354947538339\n",
      "ARIMA (0, 1, 0) x (0, 0, 0, 12)12 : AIC Calculated =734.2151516405654\n",
      "ARIMA (0, 1, 0) x (0, 0, 1, 12)12 : AIC Calculated =734.2151516405654\n",
      "ARIMA (0, 1, 0) x (0, 0, 2, 12)12 : AIC Calculated =734.2151516405654\n",
      "ARIMA (0, 1, 0) x (0, 0, 3, 12)12 : AIC Calculated =734.2151516405654\n",
      "ARIMA (0, 1, 0) x (0, 1, 0, 12)12 : AIC Calculated =734.2151516405654\n",
      "ARIMA (0, 1, 0) x (0, 1, 1, 12)12 : AIC Calculated =734.2151516405654\n",
      "ARIMA (0, 1, 0) x (0, 1, 2, 12)12 : AIC Calculated =734.2151516405654\n",
      "ARIMA (0, 1, 0) x (0, 1, 3, 12)12 : AIC Calculated =734.2151516405654\n",
      "ARIMA (0, 1, 0) x (0, 2, 0, 12)12 : AIC Calculated =734.2151516405654\n",
      "ARIMA (0, 1, 0) x (0, 2, 1, 12)12 : AIC Calculated =734.2151516405654\n",
      "ARIMA (0, 1, 0) x (0, 2, 2, 12)12 : AIC Calculated =734.2151516405654\n",
      "ARIMA (0, 1, 0) x (0, 2, 3, 12)12 : AIC Calculated =734.2151516405654\n",
      "ARIMA (0, 1, 0) x (0, 3, 0, 12)12 : AIC Calculated =734.2151516405654\n",
      "ARIMA (0, 1, 0) x (0, 3, 1, 12)12 : AIC Calculated =734.2151516405654\n",
      "ARIMA (0, 1, 0) x (0, 3, 2, 12)12 : AIC Calculated =734.2151516405654\n",
      "ARIMA (0, 1, 0) x (0, 3, 3, 12)12 : AIC Calculated =734.2151516405654\n",
      "ARIMA (0, 1, 0) x (1, 0, 0, 12)12 : AIC Calculated =734.2151516405654\n",
      "ARIMA (0, 1, 0) x (1, 0, 1, 12)12 : AIC Calculated =734.2151516405654\n",
      "ARIMA (0, 1, 0) x (1, 0, 2, 12)12 : AIC Calculated =734.2151516405654\n",
      "ARIMA (0, 1, 0) x (1, 0, 3, 12)12 : AIC Calculated =734.2151516405654\n",
      "ARIMA (0, 1, 0) x (1, 1, 0, 12)12 : AIC Calculated =734.2151516405654\n",
      "ARIMA (0, 1, 0) x (1, 1, 1, 12)12 : AIC Calculated =734.2151516405654\n",
      "ARIMA (0, 1, 0) x (1, 1, 2, 12)12 : AIC Calculated =734.2151516405654\n",
      "ARIMA (0, 1, 0) x (1, 1, 3, 12)12 : AIC Calculated =734.2151516405654\n",
      "ARIMA (0, 1, 0) x (1, 2, 0, 12)12 : AIC Calculated =734.2151516405654\n",
      "ARIMA (0, 1, 0) x (1, 2, 1, 12)12 : AIC Calculated =734.2151516405654\n",
      "ARIMA (0, 1, 0) x (1, 2, 2, 12)12 : AIC Calculated =734.2151516405654\n",
      "ARIMA (0, 1, 0) x (1, 2, 3, 12)12 : AIC Calculated =734.2151516405654\n",
      "ARIMA (0, 1, 0) x (1, 3, 0, 12)12 : AIC Calculated =734.2151516405654\n",
      "ARIMA (0, 1, 0) x (1, 3, 1, 12)12 : AIC Calculated =734.2151516405654\n",
      "ARIMA (0, 1, 0) x (1, 3, 2, 12)12 : AIC Calculated =734.2151516405654\n",
      "ARIMA (0, 1, 0) x (1, 3, 3, 12)12 : AIC Calculated =734.2151516405654\n",
      "ARIMA (0, 1, 0) x (2, 0, 0, 12)12 : AIC Calculated =734.2151516405654\n",
      "ARIMA (0, 1, 0) x (2, 0, 1, 12)12 : AIC Calculated =734.2151516405654\n",
      "ARIMA (0, 1, 0) x (2, 0, 2, 12)12 : AIC Calculated =734.2151516405654\n",
      "ARIMA (0, 1, 0) x (2, 0, 3, 12)12 : AIC Calculated =734.2151516405654\n",
      "ARIMA (0, 1, 0) x (2, 1, 0, 12)12 : AIC Calculated =734.2151516405654\n",
      "ARIMA (0, 1, 0) x (2, 1, 1, 12)12 : AIC Calculated =734.2151516405654\n",
      "ARIMA (0, 1, 0) x (2, 1, 2, 12)12 : AIC Calculated =734.2151516405654\n",
      "ARIMA (0, 1, 0) x (2, 1, 3, 12)12 : AIC Calculated =734.2151516405654\n",
      "ARIMA (0, 1, 0) x (2, 2, 0, 12)12 : AIC Calculated =734.2151516405654\n",
      "ARIMA (0, 1, 0) x (2, 2, 1, 12)12 : AIC Calculated =734.2151516405654\n",
      "ARIMA (0, 1, 0) x (2, 2, 2, 12)12 : AIC Calculated =734.2151516405654\n",
      "ARIMA (0, 1, 0) x (2, 2, 3, 12)12 : AIC Calculated =734.2151516405654\n",
      "ARIMA (0, 1, 0) x (2, 3, 0, 12)12 : AIC Calculated =734.2151516405654\n",
      "ARIMA (0, 1, 0) x (2, 3, 1, 12)12 : AIC Calculated =734.2151516405654\n",
      "ARIMA (0, 1, 0) x (2, 3, 2, 12)12 : AIC Calculated =734.2151516405654\n",
      "ARIMA (0, 1, 0) x (2, 3, 3, 12)12 : AIC Calculated =734.2151516405654\n",
      "ARIMA (0, 1, 0) x (3, 0, 0, 12)12 : AIC Calculated =734.2151516405654\n",
      "ARIMA (0, 1, 0) x (3, 0, 1, 12)12 : AIC Calculated =734.2151516405654\n",
      "ARIMA (0, 1, 0) x (3, 0, 2, 12)12 : AIC Calculated =734.2151516405654\n",
      "ARIMA (0, 1, 0) x (3, 0, 3, 12)12 : AIC Calculated =734.2151516405654\n",
      "ARIMA (0, 1, 0) x (3, 1, 0, 12)12 : AIC Calculated =734.2151516405654\n",
      "ARIMA (0, 1, 0) x (3, 1, 1, 12)12 : AIC Calculated =734.2151516405654\n",
      "ARIMA (0, 1, 0) x (3, 1, 2, 12)12 : AIC Calculated =734.2151516405654\n",
      "ARIMA (0, 1, 0) x (3, 1, 3, 12)12 : AIC Calculated =734.2151516405654\n",
      "ARIMA (0, 1, 0) x (3, 2, 0, 12)12 : AIC Calculated =734.2151516405654\n",
      "ARIMA (0, 1, 0) x (3, 2, 1, 12)12 : AIC Calculated =734.2151516405654\n",
      "ARIMA (0, 1, 0) x (3, 2, 2, 12)12 : AIC Calculated =734.2151516405654\n",
      "ARIMA (0, 1, 0) x (3, 2, 3, 12)12 : AIC Calculated =734.2151516405654\n",
      "ARIMA (0, 1, 0) x (3, 3, 0, 12)12 : AIC Calculated =734.2151516405654\n",
      "ARIMA (0, 1, 0) x (3, 3, 1, 12)12 : AIC Calculated =734.2151516405654\n",
      "ARIMA (0, 1, 0) x (3, 3, 2, 12)12 : AIC Calculated =734.2151516405654\n",
      "ARIMA (0, 1, 0) x (3, 3, 3, 12)12 : AIC Calculated =734.2151516405654\n",
      "ARIMA (0, 1, 1) x (0, 0, 0, 12)12 : AIC Calculated =643.9905643010833\n",
      "ARIMA (0, 1, 1) x (0, 0, 1, 12)12 : AIC Calculated =643.9905643010833\n",
      "ARIMA (0, 1, 1) x (0, 0, 2, 12)12 : AIC Calculated =643.9905643010833\n",
      "ARIMA (0, 1, 1) x (0, 0, 3, 12)12 : AIC Calculated =643.9905643010833\n",
      "ARIMA (0, 1, 1) x (0, 1, 0, 12)12 : AIC Calculated =643.9905643010833\n",
      "ARIMA (0, 1, 1) x (0, 1, 1, 12)12 : AIC Calculated =643.9905643010833\n",
      "ARIMA (0, 1, 1) x (0, 1, 2, 12)12 : AIC Calculated =643.9905643010833\n",
      "ARIMA (0, 1, 1) x (0, 1, 3, 12)12 : AIC Calculated =643.9905643010833\n",
      "ARIMA (0, 1, 1) x (0, 2, 0, 12)12 : AIC Calculated =643.9905643010833\n",
      "ARIMA (0, 1, 1) x (0, 2, 1, 12)12 : AIC Calculated =643.9905643010833\n",
      "ARIMA (0, 1, 1) x (0, 2, 2, 12)12 : AIC Calculated =643.9905643010833\n",
      "ARIMA (0, 1, 1) x (0, 2, 3, 12)12 : AIC Calculated =643.9905643010833\n",
      "ARIMA (0, 1, 1) x (0, 3, 0, 12)12 : AIC Calculated =643.9905643010833\n",
      "ARIMA (0, 1, 1) x (0, 3, 1, 12)12 : AIC Calculated =643.9905643010833\n",
      "ARIMA (0, 1, 1) x (0, 3, 2, 12)12 : AIC Calculated =643.9905643010833\n",
      "ARIMA (0, 1, 1) x (0, 3, 3, 12)12 : AIC Calculated =643.9905643010833\n",
      "ARIMA (0, 1, 1) x (1, 0, 0, 12)12 : AIC Calculated =643.9905643010833\n",
      "ARIMA (0, 1, 1) x (1, 0, 1, 12)12 : AIC Calculated =643.9905643010833\n",
      "ARIMA (0, 1, 1) x (1, 0, 2, 12)12 : AIC Calculated =643.9905643010833\n",
      "ARIMA (0, 1, 1) x (1, 0, 3, 12)12 : AIC Calculated =643.9905643010833\n",
      "ARIMA (0, 1, 1) x (1, 1, 0, 12)12 : AIC Calculated =643.9905643010833\n",
      "ARIMA (0, 1, 1) x (1, 1, 1, 12)12 : AIC Calculated =643.9905643010833\n",
      "ARIMA (0, 1, 1) x (1, 1, 2, 12)12 : AIC Calculated =643.9905643010833\n",
      "ARIMA (0, 1, 1) x (1, 1, 3, 12)12 : AIC Calculated =643.9905643010833\n",
      "ARIMA (0, 1, 1) x (1, 2, 0, 12)12 : AIC Calculated =643.9905643010833\n",
      "ARIMA (0, 1, 1) x (1, 2, 1, 12)12 : AIC Calculated =643.9905643010833\n",
      "ARIMA (0, 1, 1) x (1, 2, 2, 12)12 : AIC Calculated =643.9905643010833\n",
      "ARIMA (0, 1, 1) x (1, 2, 3, 12)12 : AIC Calculated =643.9905643010833\n",
      "ARIMA (0, 1, 1) x (1, 3, 0, 12)12 : AIC Calculated =643.9905643010833\n",
      "ARIMA (0, 1, 1) x (1, 3, 1, 12)12 : AIC Calculated =643.9905643010833\n",
      "ARIMA (0, 1, 1) x (1, 3, 2, 12)12 : AIC Calculated =643.9905643010833\n",
      "ARIMA (0, 1, 1) x (1, 3, 3, 12)12 : AIC Calculated =643.9905643010833\n",
      "ARIMA (0, 1, 1) x (2, 0, 0, 12)12 : AIC Calculated =643.9905643010833\n",
      "ARIMA (0, 1, 1) x (2, 0, 1, 12)12 : AIC Calculated =643.9905643010833\n",
      "ARIMA (0, 1, 1) x (2, 0, 2, 12)12 : AIC Calculated =643.9905643010833\n",
      "ARIMA (0, 1, 1) x (2, 0, 3, 12)12 : AIC Calculated =643.9905643010833\n",
      "ARIMA (0, 1, 1) x (2, 1, 0, 12)12 : AIC Calculated =643.9905643010833\n",
      "ARIMA (0, 1, 1) x (2, 1, 1, 12)12 : AIC Calculated =643.9905643010833\n",
      "ARIMA (0, 1, 1) x (2, 1, 2, 12)12 : AIC Calculated =643.9905643010833\n",
      "ARIMA (0, 1, 1) x (2, 1, 3, 12)12 : AIC Calculated =643.9905643010833\n",
      "ARIMA (0, 1, 1) x (2, 2, 0, 12)12 : AIC Calculated =643.9905643010833\n",
      "ARIMA (0, 1, 1) x (2, 2, 1, 12)12 : AIC Calculated =643.9905643010833\n",
      "ARIMA (0, 1, 1) x (2, 2, 2, 12)12 : AIC Calculated =643.9905643010833\n",
      "ARIMA (0, 1, 1) x (2, 2, 3, 12)12 : AIC Calculated =643.9905643010833\n",
      "ARIMA (0, 1, 1) x (2, 3, 0, 12)12 : AIC Calculated =643.9905643010833\n",
      "ARIMA (0, 1, 1) x (2, 3, 1, 12)12 : AIC Calculated =643.9905643010833\n",
      "ARIMA (0, 1, 1) x (2, 3, 2, 12)12 : AIC Calculated =643.9905643010833\n"
     ]
    },
    {
     "name": "stdout",
     "output_type": "stream",
     "text": [
      "ARIMA (0, 1, 1) x (2, 3, 3, 12)12 : AIC Calculated =643.9905643010833\n",
      "ARIMA (0, 1, 1) x (3, 0, 0, 12)12 : AIC Calculated =643.9905643010833\n",
      "ARIMA (0, 1, 1) x (3, 0, 1, 12)12 : AIC Calculated =643.9905643010833\n",
      "ARIMA (0, 1, 1) x (3, 0, 2, 12)12 : AIC Calculated =643.9905643010833\n",
      "ARIMA (0, 1, 1) x (3, 0, 3, 12)12 : AIC Calculated =643.9905643010833\n",
      "ARIMA (0, 1, 1) x (3, 1, 0, 12)12 : AIC Calculated =643.9905643010833\n",
      "ARIMA (0, 1, 1) x (3, 1, 1, 12)12 : AIC Calculated =643.9905643010833\n",
      "ARIMA (0, 1, 1) x (3, 1, 2, 12)12 : AIC Calculated =643.9905643010833\n",
      "ARIMA (0, 1, 1) x (3, 1, 3, 12)12 : AIC Calculated =643.9905643010833\n",
      "ARIMA (0, 1, 1) x (3, 2, 0, 12)12 : AIC Calculated =643.9905643010833\n",
      "ARIMA (0, 1, 1) x (3, 2, 1, 12)12 : AIC Calculated =643.9905643010833\n",
      "ARIMA (0, 1, 1) x (3, 2, 2, 12)12 : AIC Calculated =643.9905643010833\n",
      "ARIMA (0, 1, 1) x (3, 2, 3, 12)12 : AIC Calculated =643.9905643010833\n",
      "ARIMA (0, 1, 1) x (3, 3, 0, 12)12 : AIC Calculated =643.9905643010833\n",
      "ARIMA (0, 1, 1) x (3, 3, 1, 12)12 : AIC Calculated =643.9905643010833\n",
      "ARIMA (0, 1, 1) x (3, 3, 2, 12)12 : AIC Calculated =643.9905643010833\n",
      "ARIMA (0, 1, 1) x (3, 3, 3, 12)12 : AIC Calculated =643.9905643010833\n",
      "ARIMA (0, 1, 2) x (0, 0, 0, 12)12 : AIC Calculated =641.9798049477351\n",
      "ARIMA (0, 1, 2) x (0, 0, 1, 12)12 : AIC Calculated =641.9798049477351\n",
      "ARIMA (0, 1, 2) x (0, 0, 2, 12)12 : AIC Calculated =641.9798049477351\n",
      "ARIMA (0, 1, 2) x (0, 0, 3, 12)12 : AIC Calculated =641.9798049477351\n",
      "ARIMA (0, 1, 2) x (0, 1, 0, 12)12 : AIC Calculated =641.9798049477351\n",
      "ARIMA (0, 1, 2) x (0, 1, 1, 12)12 : AIC Calculated =641.9798049477351\n",
      "ARIMA (0, 1, 2) x (0, 1, 2, 12)12 : AIC Calculated =641.9798049477351\n",
      "ARIMA (0, 1, 2) x (0, 1, 3, 12)12 : AIC Calculated =641.9798049477351\n",
      "ARIMA (0, 1, 2) x (0, 2, 0, 12)12 : AIC Calculated =641.9798049477351\n",
      "ARIMA (0, 1, 2) x (0, 2, 1, 12)12 : AIC Calculated =641.9798049477351\n",
      "ARIMA (0, 1, 2) x (0, 2, 2, 12)12 : AIC Calculated =641.9798049477351\n",
      "ARIMA (0, 1, 2) x (0, 2, 3, 12)12 : AIC Calculated =641.9798049477351\n",
      "ARIMA (0, 1, 2) x (0, 3, 0, 12)12 : AIC Calculated =641.9798049477351\n",
      "ARIMA (0, 1, 2) x (0, 3, 1, 12)12 : AIC Calculated =641.9798049477351\n",
      "ARIMA (0, 1, 2) x (0, 3, 2, 12)12 : AIC Calculated =641.9798049477351\n",
      "ARIMA (0, 1, 2) x (0, 3, 3, 12)12 : AIC Calculated =641.9798049477351\n",
      "ARIMA (0, 1, 2) x (1, 0, 0, 12)12 : AIC Calculated =641.9798049477351\n",
      "ARIMA (0, 1, 2) x (1, 0, 1, 12)12 : AIC Calculated =641.9798049477351\n",
      "ARIMA (0, 1, 2) x (1, 0, 2, 12)12 : AIC Calculated =641.9798049477351\n",
      "ARIMA (0, 1, 2) x (1, 0, 3, 12)12 : AIC Calculated =641.9798049477351\n",
      "ARIMA (0, 1, 2) x (1, 1, 0, 12)12 : AIC Calculated =641.9798049477351\n",
      "ARIMA (0, 1, 2) x (1, 1, 1, 12)12 : AIC Calculated =641.9798049477351\n",
      "ARIMA (0, 1, 2) x (1, 1, 2, 12)12 : AIC Calculated =641.9798049477351\n",
      "ARIMA (0, 1, 2) x (1, 1, 3, 12)12 : AIC Calculated =641.9798049477351\n",
      "ARIMA (0, 1, 2) x (1, 2, 0, 12)12 : AIC Calculated =641.9798049477351\n",
      "ARIMA (0, 1, 2) x (1, 2, 1, 12)12 : AIC Calculated =641.9798049477351\n",
      "ARIMA (0, 1, 2) x (1, 2, 2, 12)12 : AIC Calculated =641.9798049477351\n",
      "ARIMA (0, 1, 2) x (1, 2, 3, 12)12 : AIC Calculated =641.9798049477351\n",
      "ARIMA (0, 1, 2) x (1, 3, 0, 12)12 : AIC Calculated =641.9798049477351\n",
      "ARIMA (0, 1, 2) x (1, 3, 1, 12)12 : AIC Calculated =641.9798049477351\n",
      "ARIMA (0, 1, 2) x (1, 3, 2, 12)12 : AIC Calculated =641.9798049477351\n",
      "ARIMA (0, 1, 2) x (1, 3, 3, 12)12 : AIC Calculated =641.9798049477351\n",
      "ARIMA (0, 1, 2) x (2, 0, 0, 12)12 : AIC Calculated =641.9798049477351\n",
      "ARIMA (0, 1, 2) x (2, 0, 1, 12)12 : AIC Calculated =641.9798049477351\n",
      "ARIMA (0, 1, 2) x (2, 0, 2, 12)12 : AIC Calculated =641.9798049477351\n",
      "ARIMA (0, 1, 2) x (2, 0, 3, 12)12 : AIC Calculated =641.9798049477351\n",
      "ARIMA (0, 1, 2) x (2, 1, 0, 12)12 : AIC Calculated =641.9798049477351\n",
      "ARIMA (0, 1, 2) x (2, 1, 1, 12)12 : AIC Calculated =641.9798049477351\n",
      "ARIMA (0, 1, 2) x (2, 1, 2, 12)12 : AIC Calculated =641.9798049477351\n",
      "ARIMA (0, 1, 2) x (2, 1, 3, 12)12 : AIC Calculated =641.9798049477351\n",
      "ARIMA (0, 1, 2) x (2, 2, 0, 12)12 : AIC Calculated =641.9798049477351\n",
      "ARIMA (0, 1, 2) x (2, 2, 1, 12)12 : AIC Calculated =641.9798049477351\n",
      "ARIMA (0, 1, 2) x (2, 2, 2, 12)12 : AIC Calculated =641.9798049477351\n",
      "ARIMA (0, 1, 2) x (2, 2, 3, 12)12 : AIC Calculated =641.9798049477351\n",
      "ARIMA (0, 1, 2) x (2, 3, 0, 12)12 : AIC Calculated =641.9798049477351\n",
      "ARIMA (0, 1, 2) x (2, 3, 1, 12)12 : AIC Calculated =641.9798049477351\n",
      "ARIMA (0, 1, 2) x (2, 3, 2, 12)12 : AIC Calculated =641.9798049477351\n",
      "ARIMA (0, 1, 2) x (2, 3, 3, 12)12 : AIC Calculated =641.9798049477351\n",
      "ARIMA (0, 1, 2) x (3, 0, 0, 12)12 : AIC Calculated =641.9798049477351\n",
      "ARIMA (0, 1, 2) x (3, 0, 1, 12)12 : AIC Calculated =641.9798049477351\n",
      "ARIMA (0, 1, 2) x (3, 0, 2, 12)12 : AIC Calculated =641.9798049477351\n",
      "ARIMA (0, 1, 2) x (3, 0, 3, 12)12 : AIC Calculated =641.9798049477351\n",
      "ARIMA (0, 1, 2) x (3, 1, 0, 12)12 : AIC Calculated =641.9798049477351\n",
      "ARIMA (0, 1, 2) x (3, 1, 1, 12)12 : AIC Calculated =641.9798049477351\n",
      "ARIMA (0, 1, 2) x (3, 1, 2, 12)12 : AIC Calculated =641.9798049477351\n",
      "ARIMA (0, 1, 2) x (3, 1, 3, 12)12 : AIC Calculated =641.9798049477351\n",
      "ARIMA (0, 1, 2) x (3, 2, 0, 12)12 : AIC Calculated =641.9798049477351\n",
      "ARIMA (0, 1, 2) x (3, 2, 1, 12)12 : AIC Calculated =641.9798049477351\n",
      "ARIMA (0, 1, 2) x (3, 2, 2, 12)12 : AIC Calculated =641.9798049477351\n",
      "ARIMA (0, 1, 2) x (3, 2, 3, 12)12 : AIC Calculated =641.9798049477351\n",
      "ARIMA (0, 1, 2) x (3, 3, 0, 12)12 : AIC Calculated =641.9798049477351\n",
      "ARIMA (0, 1, 2) x (3, 3, 1, 12)12 : AIC Calculated =641.9798049477351\n",
      "ARIMA (0, 1, 2) x (3, 3, 2, 12)12 : AIC Calculated =641.9798049477351\n",
      "ARIMA (0, 1, 2) x (3, 3, 3, 12)12 : AIC Calculated =641.9798049477351\n",
      "ARIMA (0, 1, 3) x (0, 0, 0, 12)12 : AIC Calculated =639.5759273141996\n",
      "ARIMA (0, 1, 3) x (0, 0, 1, 12)12 : AIC Calculated =639.5759273141996\n",
      "ARIMA (0, 1, 3) x (0, 0, 2, 12)12 : AIC Calculated =639.5759273141996\n",
      "ARIMA (0, 1, 3) x (0, 0, 3, 12)12 : AIC Calculated =639.5759273141996\n",
      "ARIMA (0, 1, 3) x (0, 1, 0, 12)12 : AIC Calculated =639.5759273141996\n",
      "ARIMA (0, 1, 3) x (0, 1, 1, 12)12 : AIC Calculated =639.5759273141996\n",
      "ARIMA (0, 1, 3) x (0, 1, 2, 12)12 : AIC Calculated =639.5759273141996\n",
      "ARIMA (0, 1, 3) x (0, 1, 3, 12)12 : AIC Calculated =639.5759273141996\n",
      "ARIMA (0, 1, 3) x (0, 2, 0, 12)12 : AIC Calculated =639.5759273141996\n",
      "ARIMA (0, 1, 3) x (0, 2, 1, 12)12 : AIC Calculated =639.5759273141996\n",
      "ARIMA (0, 1, 3) x (0, 2, 2, 12)12 : AIC Calculated =639.5759273141996\n",
      "ARIMA (0, 1, 3) x (0, 2, 3, 12)12 : AIC Calculated =639.5759273141996\n",
      "ARIMA (0, 1, 3) x (0, 3, 0, 12)12 : AIC Calculated =639.5759273141996\n",
      "ARIMA (0, 1, 3) x (0, 3, 1, 12)12 : AIC Calculated =639.5759273141996\n",
      "ARIMA (0, 1, 3) x (0, 3, 2, 12)12 : AIC Calculated =639.5759273141996\n",
      "ARIMA (0, 1, 3) x (0, 3, 3, 12)12 : AIC Calculated =639.5759273141996\n",
      "ARIMA (0, 1, 3) x (1, 0, 0, 12)12 : AIC Calculated =639.5759273141996\n",
      "ARIMA (0, 1, 3) x (1, 0, 1, 12)12 : AIC Calculated =639.5759273141996\n",
      "ARIMA (0, 1, 3) x (1, 0, 2, 12)12 : AIC Calculated =639.5759273141996\n",
      "ARIMA (0, 1, 3) x (1, 0, 3, 12)12 : AIC Calculated =639.5759273141996\n",
      "ARIMA (0, 1, 3) x (1, 1, 0, 12)12 : AIC Calculated =639.5759273141996\n",
      "ARIMA (0, 1, 3) x (1, 1, 1, 12)12 : AIC Calculated =639.5759273141996\n",
      "ARIMA (0, 1, 3) x (1, 1, 2, 12)12 : AIC Calculated =639.5759273141996\n",
      "ARIMA (0, 1, 3) x (1, 1, 3, 12)12 : AIC Calculated =639.5759273141996\n",
      "ARIMA (0, 1, 3) x (1, 2, 0, 12)12 : AIC Calculated =639.5759273141996\n",
      "ARIMA (0, 1, 3) x (1, 2, 1, 12)12 : AIC Calculated =639.5759273141996\n",
      "ARIMA (0, 1, 3) x (1, 2, 2, 12)12 : AIC Calculated =639.5759273141996\n",
      "ARIMA (0, 1, 3) x (1, 2, 3, 12)12 : AIC Calculated =639.5759273141996\n",
      "ARIMA (0, 1, 3) x (1, 3, 0, 12)12 : AIC Calculated =639.5759273141996\n",
      "ARIMA (0, 1, 3) x (1, 3, 1, 12)12 : AIC Calculated =639.5759273141996\n",
      "ARIMA (0, 1, 3) x (1, 3, 2, 12)12 : AIC Calculated =639.5759273141996\n",
      "ARIMA (0, 1, 3) x (1, 3, 3, 12)12 : AIC Calculated =639.5759273141996\n",
      "ARIMA (0, 1, 3) x (2, 0, 0, 12)12 : AIC Calculated =639.5759273141996\n",
      "ARIMA (0, 1, 3) x (2, 0, 1, 12)12 : AIC Calculated =639.5759273141996\n",
      "ARIMA (0, 1, 3) x (2, 0, 2, 12)12 : AIC Calculated =639.5759273141996\n",
      "ARIMA (0, 1, 3) x (2, 0, 3, 12)12 : AIC Calculated =639.5759273141996\n",
      "ARIMA (0, 1, 3) x (2, 1, 0, 12)12 : AIC Calculated =639.5759273141996\n",
      "ARIMA (0, 1, 3) x (2, 1, 1, 12)12 : AIC Calculated =639.5759273141996\n",
      "ARIMA (0, 1, 3) x (2, 1, 2, 12)12 : AIC Calculated =639.5759273141996\n"
     ]
    },
    {
     "name": "stdout",
     "output_type": "stream",
     "text": [
      "ARIMA (0, 1, 3) x (2, 1, 3, 12)12 : AIC Calculated =639.5759273141996\n",
      "ARIMA (0, 1, 3) x (2, 2, 0, 12)12 : AIC Calculated =639.5759273141996\n",
      "ARIMA (0, 1, 3) x (2, 2, 1, 12)12 : AIC Calculated =639.5759273141996\n",
      "ARIMA (0, 1, 3) x (2, 2, 2, 12)12 : AIC Calculated =639.5759273141996\n",
      "ARIMA (0, 1, 3) x (2, 2, 3, 12)12 : AIC Calculated =639.5759273141996\n",
      "ARIMA (0, 1, 3) x (2, 3, 0, 12)12 : AIC Calculated =639.5759273141996\n",
      "ARIMA (0, 1, 3) x (2, 3, 1, 12)12 : AIC Calculated =639.5759273141996\n",
      "ARIMA (0, 1, 3) x (2, 3, 2, 12)12 : AIC Calculated =639.5759273141996\n",
      "ARIMA (0, 1, 3) x (2, 3, 3, 12)12 : AIC Calculated =639.5759273141996\n",
      "ARIMA (0, 1, 3) x (3, 0, 0, 12)12 : AIC Calculated =639.5759273141996\n",
      "ARIMA (0, 1, 3) x (3, 0, 1, 12)12 : AIC Calculated =639.5759273141996\n",
      "ARIMA (0, 1, 3) x (3, 0, 2, 12)12 : AIC Calculated =639.5759273141996\n",
      "ARIMA (0, 1, 3) x (3, 0, 3, 12)12 : AIC Calculated =639.5759273141996\n",
      "ARIMA (0, 1, 3) x (3, 1, 0, 12)12 : AIC Calculated =639.5759273141996\n",
      "ARIMA (0, 1, 3) x (3, 1, 1, 12)12 : AIC Calculated =639.5759273141996\n",
      "ARIMA (0, 1, 3) x (3, 1, 2, 12)12 : AIC Calculated =639.5759273141996\n",
      "ARIMA (0, 1, 3) x (3, 1, 3, 12)12 : AIC Calculated =639.5759273141996\n",
      "ARIMA (0, 1, 3) x (3, 2, 0, 12)12 : AIC Calculated =639.5759273141996\n",
      "ARIMA (0, 1, 3) x (3, 2, 1, 12)12 : AIC Calculated =639.5759273141996\n",
      "ARIMA (0, 1, 3) x (3, 2, 2, 12)12 : AIC Calculated =639.5759273141996\n",
      "ARIMA (0, 1, 3) x (3, 2, 3, 12)12 : AIC Calculated =639.5759273141996\n",
      "ARIMA (0, 1, 3) x (3, 3, 0, 12)12 : AIC Calculated =639.5759273141996\n",
      "ARIMA (0, 1, 3) x (3, 3, 1, 12)12 : AIC Calculated =639.5759273141996\n",
      "ARIMA (0, 1, 3) x (3, 3, 2, 12)12 : AIC Calculated =639.5759273141996\n",
      "ARIMA (0, 1, 3) x (3, 3, 3, 12)12 : AIC Calculated =639.5759273141996\n",
      "ARIMA (0, 2, 0) x (0, 0, 0, 12)12 : AIC Calculated =900.7753198308467\n",
      "ARIMA (0, 2, 0) x (0, 0, 1, 12)12 : AIC Calculated =900.7753198308467\n",
      "ARIMA (0, 2, 0) x (0, 0, 2, 12)12 : AIC Calculated =900.7753198308467\n",
      "ARIMA (0, 2, 0) x (0, 0, 3, 12)12 : AIC Calculated =900.7753198308467\n",
      "ARIMA (0, 2, 0) x (0, 1, 0, 12)12 : AIC Calculated =900.7753198308467\n",
      "ARIMA (0, 2, 0) x (0, 1, 1, 12)12 : AIC Calculated =900.7753198308467\n",
      "ARIMA (0, 2, 0) x (0, 1, 2, 12)12 : AIC Calculated =900.7753198308467\n",
      "ARIMA (0, 2, 0) x (0, 1, 3, 12)12 : AIC Calculated =900.7753198308467\n",
      "ARIMA (0, 2, 0) x (0, 2, 0, 12)12 : AIC Calculated =900.7753198308467\n",
      "ARIMA (0, 2, 0) x (0, 2, 1, 12)12 : AIC Calculated =900.7753198308467\n",
      "ARIMA (0, 2, 0) x (0, 2, 2, 12)12 : AIC Calculated =900.7753198308467\n",
      "ARIMA (0, 2, 0) x (0, 2, 3, 12)12 : AIC Calculated =900.7753198308467\n",
      "ARIMA (0, 2, 0) x (0, 3, 0, 12)12 : AIC Calculated =900.7753198308467\n",
      "ARIMA (0, 2, 0) x (0, 3, 1, 12)12 : AIC Calculated =900.7753198308467\n",
      "ARIMA (0, 2, 0) x (0, 3, 2, 12)12 : AIC Calculated =900.7753198308467\n",
      "ARIMA (0, 2, 0) x (0, 3, 3, 12)12 : AIC Calculated =900.7753198308467\n",
      "ARIMA (0, 2, 0) x (1, 0, 0, 12)12 : AIC Calculated =900.7753198308467\n",
      "ARIMA (0, 2, 0) x (1, 0, 1, 12)12 : AIC Calculated =900.7753198308467\n",
      "ARIMA (0, 2, 0) x (1, 0, 2, 12)12 : AIC Calculated =900.7753198308467\n",
      "ARIMA (0, 2, 0) x (1, 0, 3, 12)12 : AIC Calculated =900.7753198308467\n",
      "ARIMA (0, 2, 0) x (1, 1, 0, 12)12 : AIC Calculated =900.7753198308467\n",
      "ARIMA (0, 2, 0) x (1, 1, 1, 12)12 : AIC Calculated =900.7753198308467\n",
      "ARIMA (0, 2, 0) x (1, 1, 2, 12)12 : AIC Calculated =900.7753198308467\n",
      "ARIMA (0, 2, 0) x (1, 1, 3, 12)12 : AIC Calculated =900.7753198308467\n",
      "ARIMA (0, 2, 0) x (1, 2, 0, 12)12 : AIC Calculated =900.7753198308467\n",
      "ARIMA (0, 2, 0) x (1, 2, 1, 12)12 : AIC Calculated =900.7753198308467\n",
      "ARIMA (0, 2, 0) x (1, 2, 2, 12)12 : AIC Calculated =900.7753198308467\n",
      "ARIMA (0, 2, 0) x (1, 2, 3, 12)12 : AIC Calculated =900.7753198308467\n",
      "ARIMA (0, 2, 0) x (1, 3, 0, 12)12 : AIC Calculated =900.7753198308467\n",
      "ARIMA (0, 2, 0) x (1, 3, 1, 12)12 : AIC Calculated =900.7753198308467\n",
      "ARIMA (0, 2, 0) x (1, 3, 2, 12)12 : AIC Calculated =900.7753198308467\n",
      "ARIMA (0, 2, 0) x (1, 3, 3, 12)12 : AIC Calculated =900.7753198308467\n",
      "ARIMA (0, 2, 0) x (2, 0, 0, 12)12 : AIC Calculated =900.7753198308467\n",
      "ARIMA (0, 2, 0) x (2, 0, 1, 12)12 : AIC Calculated =900.7753198308467\n",
      "ARIMA (0, 2, 0) x (2, 0, 2, 12)12 : AIC Calculated =900.7753198308467\n",
      "ARIMA (0, 2, 0) x (2, 0, 3, 12)12 : AIC Calculated =900.7753198308467\n",
      "ARIMA (0, 2, 0) x (2, 1, 0, 12)12 : AIC Calculated =900.7753198308467\n",
      "ARIMA (0, 2, 0) x (2, 1, 1, 12)12 : AIC Calculated =900.7753198308467\n",
      "ARIMA (0, 2, 0) x (2, 1, 2, 12)12 : AIC Calculated =900.7753198308467\n",
      "ARIMA (0, 2, 0) x (2, 1, 3, 12)12 : AIC Calculated =900.7753198308467\n",
      "ARIMA (0, 2, 0) x (2, 2, 0, 12)12 : AIC Calculated =900.7753198308467\n",
      "ARIMA (0, 2, 0) x (2, 2, 1, 12)12 : AIC Calculated =900.7753198308467\n",
      "ARIMA (0, 2, 0) x (2, 2, 2, 12)12 : AIC Calculated =900.7753198308467\n",
      "ARIMA (0, 2, 0) x (2, 2, 3, 12)12 : AIC Calculated =900.7753198308467\n",
      "ARIMA (0, 2, 0) x (2, 3, 0, 12)12 : AIC Calculated =900.7753198308467\n",
      "ARIMA (0, 2, 0) x (2, 3, 1, 12)12 : AIC Calculated =900.7753198308467\n",
      "ARIMA (0, 2, 0) x (2, 3, 2, 12)12 : AIC Calculated =900.7753198308467\n",
      "ARIMA (0, 2, 0) x (2, 3, 3, 12)12 : AIC Calculated =900.7753198308467\n",
      "ARIMA (0, 2, 0) x (3, 0, 0, 12)12 : AIC Calculated =900.7753198308467\n",
      "ARIMA (0, 2, 0) x (3, 0, 1, 12)12 : AIC Calculated =900.7753198308467\n",
      "ARIMA (0, 2, 0) x (3, 0, 2, 12)12 : AIC Calculated =900.7753198308467\n",
      "ARIMA (0, 2, 0) x (3, 0, 3, 12)12 : AIC Calculated =900.7753198308467\n",
      "ARIMA (0, 2, 0) x (3, 1, 0, 12)12 : AIC Calculated =900.7753198308467\n",
      "ARIMA (0, 2, 0) x (3, 1, 1, 12)12 : AIC Calculated =900.7753198308467\n",
      "ARIMA (0, 2, 0) x (3, 1, 2, 12)12 : AIC Calculated =900.7753198308467\n",
      "ARIMA (0, 2, 0) x (3, 1, 3, 12)12 : AIC Calculated =900.7753198308467\n",
      "ARIMA (0, 2, 0) x (3, 2, 0, 12)12 : AIC Calculated =900.7753198308467\n",
      "ARIMA (0, 2, 0) x (3, 2, 1, 12)12 : AIC Calculated =900.7753198308467\n",
      "ARIMA (0, 2, 0) x (3, 2, 2, 12)12 : AIC Calculated =900.7753198308467\n",
      "ARIMA (0, 2, 0) x (3, 2, 3, 12)12 : AIC Calculated =900.7753198308467\n",
      "ARIMA (0, 2, 0) x (3, 3, 0, 12)12 : AIC Calculated =900.7753198308467\n",
      "ARIMA (0, 2, 0) x (3, 3, 1, 12)12 : AIC Calculated =900.7753198308467\n",
      "ARIMA (0, 2, 0) x (3, 3, 2, 12)12 : AIC Calculated =900.7753198308467\n",
      "ARIMA (0, 2, 0) x (3, 3, 3, 12)12 : AIC Calculated =900.7753198308467\n",
      "ARIMA (0, 2, 1) x (0, 0, 0, 12)12 : AIC Calculated =732.7054976732118\n",
      "ARIMA (0, 2, 1) x (0, 0, 1, 12)12 : AIC Calculated =732.7054976732118\n",
      "ARIMA (0, 2, 1) x (0, 0, 2, 12)12 : AIC Calculated =732.7054976732118\n",
      "ARIMA (0, 2, 1) x (0, 0, 3, 12)12 : AIC Calculated =732.7054976732118\n",
      "ARIMA (0, 2, 1) x (0, 1, 0, 12)12 : AIC Calculated =732.7054976732118\n",
      "ARIMA (0, 2, 1) x (0, 1, 1, 12)12 : AIC Calculated =732.7054976732118\n",
      "ARIMA (0, 2, 1) x (0, 1, 2, 12)12 : AIC Calculated =732.7054976732118\n",
      "ARIMA (0, 2, 1) x (0, 1, 3, 12)12 : AIC Calculated =732.7054976732118\n",
      "ARIMA (0, 2, 1) x (0, 2, 0, 12)12 : AIC Calculated =732.7054976732118\n",
      "ARIMA (0, 2, 1) x (0, 2, 1, 12)12 : AIC Calculated =732.7054976732118\n",
      "ARIMA (0, 2, 1) x (0, 2, 2, 12)12 : AIC Calculated =732.7054976732118\n",
      "ARIMA (0, 2, 1) x (0, 2, 3, 12)12 : AIC Calculated =732.7054976732118\n",
      "ARIMA (0, 2, 1) x (0, 3, 0, 12)12 : AIC Calculated =732.7054976732118\n",
      "ARIMA (0, 2, 1) x (0, 3, 1, 12)12 : AIC Calculated =732.7054976732118\n",
      "ARIMA (0, 2, 1) x (0, 3, 2, 12)12 : AIC Calculated =732.7054976732118\n",
      "ARIMA (0, 2, 1) x (0, 3, 3, 12)12 : AIC Calculated =732.7054976732118\n",
      "ARIMA (0, 2, 1) x (1, 0, 0, 12)12 : AIC Calculated =732.7054976732118\n",
      "ARIMA (0, 2, 1) x (1, 0, 1, 12)12 : AIC Calculated =732.7054976732118\n",
      "ARIMA (0, 2, 1) x (1, 0, 2, 12)12 : AIC Calculated =732.7054976732118\n",
      "ARIMA (0, 2, 1) x (1, 0, 3, 12)12 : AIC Calculated =732.7054976732118\n",
      "ARIMA (0, 2, 1) x (1, 1, 0, 12)12 : AIC Calculated =732.7054976732118\n",
      "ARIMA (0, 2, 1) x (1, 1, 1, 12)12 : AIC Calculated =732.7054976732118\n",
      "ARIMA (0, 2, 1) x (1, 1, 2, 12)12 : AIC Calculated =732.7054976732118\n",
      "ARIMA (0, 2, 1) x (1, 1, 3, 12)12 : AIC Calculated =732.7054976732118\n",
      "ARIMA (0, 2, 1) x (1, 2, 0, 12)12 : AIC Calculated =732.7054976732118\n",
      "ARIMA (0, 2, 1) x (1, 2, 1, 12)12 : AIC Calculated =732.7054976732118\n",
      "ARIMA (0, 2, 1) x (1, 2, 2, 12)12 : AIC Calculated =732.7054976732118\n",
      "ARIMA (0, 2, 1) x (1, 2, 3, 12)12 : AIC Calculated =732.7054976732118\n",
      "ARIMA (0, 2, 1) x (1, 3, 0, 12)12 : AIC Calculated =732.7054976732118\n"
     ]
    },
    {
     "name": "stdout",
     "output_type": "stream",
     "text": [
      "ARIMA (0, 2, 1) x (1, 3, 1, 12)12 : AIC Calculated =732.7054976732118\n",
      "ARIMA (0, 2, 1) x (1, 3, 2, 12)12 : AIC Calculated =732.7054976732118\n",
      "ARIMA (0, 2, 1) x (1, 3, 3, 12)12 : AIC Calculated =732.7054976732118\n",
      "ARIMA (0, 2, 1) x (2, 0, 0, 12)12 : AIC Calculated =732.7054976732118\n",
      "ARIMA (0, 2, 1) x (2, 0, 1, 12)12 : AIC Calculated =732.7054976732118\n",
      "ARIMA (0, 2, 1) x (2, 0, 2, 12)12 : AIC Calculated =732.7054976732118\n",
      "ARIMA (0, 2, 1) x (2, 0, 3, 12)12 : AIC Calculated =732.7054976732118\n",
      "ARIMA (0, 2, 1) x (2, 1, 0, 12)12 : AIC Calculated =732.7054976732118\n",
      "ARIMA (0, 2, 1) x (2, 1, 1, 12)12 : AIC Calculated =732.7054976732118\n",
      "ARIMA (0, 2, 1) x (2, 1, 2, 12)12 : AIC Calculated =732.7054976732118\n",
      "ARIMA (0, 2, 1) x (2, 1, 3, 12)12 : AIC Calculated =732.7054976732118\n",
      "ARIMA (0, 2, 1) x (2, 2, 0, 12)12 : AIC Calculated =732.7054976732118\n",
      "ARIMA (0, 2, 1) x (2, 2, 1, 12)12 : AIC Calculated =732.7054976732118\n",
      "ARIMA (0, 2, 1) x (2, 2, 2, 12)12 : AIC Calculated =732.7054976732118\n",
      "ARIMA (0, 2, 1) x (2, 2, 3, 12)12 : AIC Calculated =732.7054976732118\n",
      "ARIMA (0, 2, 1) x (2, 3, 0, 12)12 : AIC Calculated =732.7054976732118\n",
      "ARIMA (0, 2, 1) x (2, 3, 1, 12)12 : AIC Calculated =732.7054976732118\n",
      "ARIMA (0, 2, 1) x (2, 3, 2, 12)12 : AIC Calculated =732.7054976732118\n",
      "ARIMA (0, 2, 1) x (2, 3, 3, 12)12 : AIC Calculated =732.7054976732118\n",
      "ARIMA (0, 2, 1) x (3, 0, 0, 12)12 : AIC Calculated =732.7054976732118\n",
      "ARIMA (0, 2, 1) x (3, 0, 1, 12)12 : AIC Calculated =732.7054976732118\n",
      "ARIMA (0, 2, 1) x (3, 0, 2, 12)12 : AIC Calculated =732.7054976732118\n",
      "ARIMA (0, 2, 1) x (3, 0, 3, 12)12 : AIC Calculated =732.7054976732118\n",
      "ARIMA (0, 2, 1) x (3, 1, 0, 12)12 : AIC Calculated =732.7054976732118\n",
      "ARIMA (0, 2, 1) x (3, 1, 1, 12)12 : AIC Calculated =732.7054976732118\n",
      "ARIMA (0, 2, 1) x (3, 1, 2, 12)12 : AIC Calculated =732.7054976732118\n",
      "ARIMA (0, 2, 1) x (3, 1, 3, 12)12 : AIC Calculated =732.7054976732118\n",
      "ARIMA (0, 2, 1) x (3, 2, 0, 12)12 : AIC Calculated =732.7054976732118\n",
      "ARIMA (0, 2, 1) x (3, 2, 1, 12)12 : AIC Calculated =732.7054976732118\n",
      "ARIMA (0, 2, 1) x (3, 2, 2, 12)12 : AIC Calculated =732.7054976732118\n",
      "ARIMA (0, 2, 1) x (3, 2, 3, 12)12 : AIC Calculated =732.7054976732118\n",
      "ARIMA (0, 2, 1) x (3, 3, 0, 12)12 : AIC Calculated =732.7054976732118\n",
      "ARIMA (0, 2, 1) x (3, 3, 1, 12)12 : AIC Calculated =732.7054976732118\n",
      "ARIMA (0, 2, 1) x (3, 3, 2, 12)12 : AIC Calculated =732.7054976732118\n",
      "ARIMA (0, 2, 1) x (3, 3, 3, 12)12 : AIC Calculated =732.7054976732118\n",
      "ARIMA (0, 2, 2) x (0, 0, 0, 12)12 : AIC Calculated =646.6882981257922\n",
      "ARIMA (0, 2, 2) x (0, 0, 1, 12)12 : AIC Calculated =646.6882981257922\n",
      "ARIMA (0, 2, 2) x (0, 0, 2, 12)12 : AIC Calculated =646.6882981257922\n",
      "ARIMA (0, 2, 2) x (0, 0, 3, 12)12 : AIC Calculated =646.6882981257922\n",
      "ARIMA (0, 2, 2) x (0, 1, 0, 12)12 : AIC Calculated =646.6882981257922\n",
      "ARIMA (0, 2, 2) x (0, 1, 1, 12)12 : AIC Calculated =646.6882981257922\n",
      "ARIMA (0, 2, 2) x (0, 1, 2, 12)12 : AIC Calculated =646.6882981257922\n",
      "ARIMA (0, 2, 2) x (0, 1, 3, 12)12 : AIC Calculated =646.6882981257922\n",
      "ARIMA (0, 2, 2) x (0, 2, 0, 12)12 : AIC Calculated =646.6882981257922\n",
      "ARIMA (0, 2, 2) x (0, 2, 1, 12)12 : AIC Calculated =646.6882981257922\n",
      "ARIMA (0, 2, 2) x (0, 2, 2, 12)12 : AIC Calculated =646.6882981257922\n",
      "ARIMA (0, 2, 2) x (0, 2, 3, 12)12 : AIC Calculated =646.6882981257922\n",
      "ARIMA (0, 2, 2) x (0, 3, 0, 12)12 : AIC Calculated =646.6882981257922\n",
      "ARIMA (0, 2, 2) x (0, 3, 1, 12)12 : AIC Calculated =646.6882981257922\n",
      "ARIMA (0, 2, 2) x (0, 3, 2, 12)12 : AIC Calculated =646.6882981257922\n",
      "ARIMA (0, 2, 2) x (0, 3, 3, 12)12 : AIC Calculated =646.6882981257922\n",
      "ARIMA (0, 2, 2) x (1, 0, 0, 12)12 : AIC Calculated =646.6882981257922\n",
      "ARIMA (0, 2, 2) x (1, 0, 1, 12)12 : AIC Calculated =646.6882981257922\n",
      "ARIMA (0, 2, 2) x (1, 0, 2, 12)12 : AIC Calculated =646.6882981257922\n",
      "ARIMA (0, 2, 2) x (1, 0, 3, 12)12 : AIC Calculated =646.6882981257922\n",
      "ARIMA (0, 2, 2) x (1, 1, 0, 12)12 : AIC Calculated =646.6882981257922\n",
      "ARIMA (0, 2, 2) x (1, 1, 1, 12)12 : AIC Calculated =646.6882981257922\n",
      "ARIMA (0, 2, 2) x (1, 1, 2, 12)12 : AIC Calculated =646.6882981257922\n",
      "ARIMA (0, 2, 2) x (1, 1, 3, 12)12 : AIC Calculated =646.6882981257922\n",
      "ARIMA (0, 2, 2) x (1, 2, 0, 12)12 : AIC Calculated =646.6882981257922\n",
      "ARIMA (0, 2, 2) x (1, 2, 1, 12)12 : AIC Calculated =646.6882981257922\n",
      "ARIMA (0, 2, 2) x (1, 2, 2, 12)12 : AIC Calculated =646.6882981257922\n",
      "ARIMA (0, 2, 2) x (1, 2, 3, 12)12 : AIC Calculated =646.6882981257922\n",
      "ARIMA (0, 2, 2) x (1, 3, 0, 12)12 : AIC Calculated =646.6882981257922\n",
      "ARIMA (0, 2, 2) x (1, 3, 1, 12)12 : AIC Calculated =646.6882981257922\n",
      "ARIMA (0, 2, 2) x (1, 3, 2, 12)12 : AIC Calculated =646.6882981257922\n",
      "ARIMA (0, 2, 2) x (1, 3, 3, 12)12 : AIC Calculated =646.6882981257922\n",
      "ARIMA (0, 2, 2) x (2, 0, 0, 12)12 : AIC Calculated =646.6882981257922\n",
      "ARIMA (0, 2, 2) x (2, 0, 1, 12)12 : AIC Calculated =646.6882981257922\n",
      "ARIMA (0, 2, 2) x (2, 0, 2, 12)12 : AIC Calculated =646.6882981257922\n",
      "ARIMA (0, 2, 2) x (2, 0, 3, 12)12 : AIC Calculated =646.6882981257922\n",
      "ARIMA (0, 2, 2) x (2, 1, 0, 12)12 : AIC Calculated =646.6882981257922\n",
      "ARIMA (0, 2, 2) x (2, 1, 1, 12)12 : AIC Calculated =646.6882981257922\n",
      "ARIMA (0, 2, 2) x (2, 1, 2, 12)12 : AIC Calculated =646.6882981257922\n",
      "ARIMA (0, 2, 2) x (2, 1, 3, 12)12 : AIC Calculated =646.6882981257922\n",
      "ARIMA (0, 2, 2) x (2, 2, 0, 12)12 : AIC Calculated =646.6882981257922\n",
      "ARIMA (0, 2, 2) x (2, 2, 1, 12)12 : AIC Calculated =646.6882981257922\n",
      "ARIMA (0, 2, 2) x (2, 2, 2, 12)12 : AIC Calculated =646.6882981257922\n",
      "ARIMA (0, 2, 2) x (2, 2, 3, 12)12 : AIC Calculated =646.6882981257922\n",
      "ARIMA (0, 2, 2) x (2, 3, 0, 12)12 : AIC Calculated =646.6882981257922\n",
      "ARIMA (0, 2, 2) x (2, 3, 1, 12)12 : AIC Calculated =646.6882981257922\n",
      "ARIMA (0, 2, 2) x (2, 3, 2, 12)12 : AIC Calculated =646.6882981257922\n",
      "ARIMA (0, 2, 2) x (2, 3, 3, 12)12 : AIC Calculated =646.6882981257922\n",
      "ARIMA (0, 2, 2) x (3, 0, 0, 12)12 : AIC Calculated =646.6882981257922\n",
      "ARIMA (0, 2, 2) x (3, 0, 1, 12)12 : AIC Calculated =646.6882981257922\n",
      "ARIMA (0, 2, 2) x (3, 0, 2, 12)12 : AIC Calculated =646.6882981257922\n",
      "ARIMA (0, 2, 2) x (3, 0, 3, 12)12 : AIC Calculated =646.6882981257922\n",
      "ARIMA (0, 2, 2) x (3, 1, 0, 12)12 : AIC Calculated =646.6882981257922\n",
      "ARIMA (0, 2, 2) x (3, 1, 1, 12)12 : AIC Calculated =646.6882981257922\n",
      "ARIMA (0, 2, 2) x (3, 1, 2, 12)12 : AIC Calculated =646.6882981257922\n",
      "ARIMA (0, 2, 2) x (3, 1, 3, 12)12 : AIC Calculated =646.6882981257922\n",
      "ARIMA (0, 2, 2) x (3, 2, 0, 12)12 : AIC Calculated =646.6882981257922\n",
      "ARIMA (0, 2, 2) x (3, 2, 1, 12)12 : AIC Calculated =646.6882981257922\n",
      "ARIMA (0, 2, 2) x (3, 2, 2, 12)12 : AIC Calculated =646.6882981257922\n",
      "ARIMA (0, 2, 2) x (3, 2, 3, 12)12 : AIC Calculated =646.6882981257922\n",
      "ARIMA (0, 2, 2) x (3, 3, 0, 12)12 : AIC Calculated =646.6882981257922\n",
      "ARIMA (0, 2, 2) x (3, 3, 1, 12)12 : AIC Calculated =646.6882981257922\n",
      "ARIMA (0, 2, 2) x (3, 3, 2, 12)12 : AIC Calculated =646.6882981257922\n",
      "ARIMA (0, 2, 2) x (3, 3, 3, 12)12 : AIC Calculated =646.6882981257922\n",
      "ARIMA (0, 2, 3) x (0, 0, 0, 12)12 : AIC Calculated =640.1611666640669\n",
      "ARIMA (0, 2, 3) x (0, 0, 1, 12)12 : AIC Calculated =640.1611666640669\n",
      "ARIMA (0, 2, 3) x (0, 0, 2, 12)12 : AIC Calculated =640.1611666640669\n",
      "ARIMA (0, 2, 3) x (0, 0, 3, 12)12 : AIC Calculated =640.1611666640669\n",
      "ARIMA (0, 2, 3) x (0, 1, 0, 12)12 : AIC Calculated =640.1611666640669\n",
      "ARIMA (0, 2, 3) x (0, 1, 1, 12)12 : AIC Calculated =640.1611666640669\n",
      "ARIMA (0, 2, 3) x (0, 1, 2, 12)12 : AIC Calculated =640.1611666640669\n",
      "ARIMA (0, 2, 3) x (0, 1, 3, 12)12 : AIC Calculated =640.1611666640669\n",
      "ARIMA (0, 2, 3) x (0, 2, 0, 12)12 : AIC Calculated =640.1611666640669\n",
      "ARIMA (0, 2, 3) x (0, 2, 1, 12)12 : AIC Calculated =640.1611666640669\n",
      "ARIMA (0, 2, 3) x (0, 2, 2, 12)12 : AIC Calculated =640.1611666640669\n",
      "ARIMA (0, 2, 3) x (0, 2, 3, 12)12 : AIC Calculated =640.1611666640669\n",
      "ARIMA (0, 2, 3) x (0, 3, 0, 12)12 : AIC Calculated =640.1611666640669\n",
      "ARIMA (0, 2, 3) x (0, 3, 1, 12)12 : AIC Calculated =640.1611666640669\n",
      "ARIMA (0, 2, 3) x (0, 3, 2, 12)12 : AIC Calculated =640.1611666640669\n",
      "ARIMA (0, 2, 3) x (0, 3, 3, 12)12 : AIC Calculated =640.1611666640669\n",
      "ARIMA (0, 2, 3) x (1, 0, 0, 12)12 : AIC Calculated =640.1611666640669\n",
      "ARIMA (0, 2, 3) x (1, 0, 1, 12)12 : AIC Calculated =640.1611666640669\n",
      "ARIMA (0, 2, 3) x (1, 0, 2, 12)12 : AIC Calculated =640.1611666640669\n"
     ]
    },
    {
     "name": "stdout",
     "output_type": "stream",
     "text": [
      "ARIMA (0, 2, 3) x (1, 0, 3, 12)12 : AIC Calculated =640.1611666640669\n",
      "ARIMA (0, 2, 3) x (1, 1, 0, 12)12 : AIC Calculated =640.1611666640669\n",
      "ARIMA (0, 2, 3) x (1, 1, 1, 12)12 : AIC Calculated =640.1611666640669\n",
      "ARIMA (0, 2, 3) x (1, 1, 2, 12)12 : AIC Calculated =640.1611666640669\n",
      "ARIMA (0, 2, 3) x (1, 1, 3, 12)12 : AIC Calculated =640.1611666640669\n",
      "ARIMA (0, 2, 3) x (1, 2, 0, 12)12 : AIC Calculated =640.1611666640669\n",
      "ARIMA (0, 2, 3) x (1, 2, 1, 12)12 : AIC Calculated =640.1611666640669\n",
      "ARIMA (0, 2, 3) x (1, 2, 2, 12)12 : AIC Calculated =640.1611666640669\n",
      "ARIMA (0, 2, 3) x (1, 2, 3, 12)12 : AIC Calculated =640.1611666640669\n",
      "ARIMA (0, 2, 3) x (1, 3, 0, 12)12 : AIC Calculated =640.1611666640669\n",
      "ARIMA (0, 2, 3) x (1, 3, 1, 12)12 : AIC Calculated =640.1611666640669\n",
      "ARIMA (0, 2, 3) x (1, 3, 2, 12)12 : AIC Calculated =640.1611666640669\n",
      "ARIMA (0, 2, 3) x (1, 3, 3, 12)12 : AIC Calculated =640.1611666640669\n",
      "ARIMA (0, 2, 3) x (2, 0, 0, 12)12 : AIC Calculated =640.1611666640669\n",
      "ARIMA (0, 2, 3) x (2, 0, 1, 12)12 : AIC Calculated =640.1611666640669\n",
      "ARIMA (0, 2, 3) x (2, 0, 2, 12)12 : AIC Calculated =640.1611666640669\n",
      "ARIMA (0, 2, 3) x (2, 0, 3, 12)12 : AIC Calculated =640.1611666640669\n",
      "ARIMA (0, 2, 3) x (2, 1, 0, 12)12 : AIC Calculated =640.1611666640669\n",
      "ARIMA (0, 2, 3) x (2, 1, 1, 12)12 : AIC Calculated =640.1611666640669\n",
      "ARIMA (0, 2, 3) x (2, 1, 2, 12)12 : AIC Calculated =640.1611666640669\n",
      "ARIMA (0, 2, 3) x (2, 1, 3, 12)12 : AIC Calculated =640.1611666640669\n",
      "ARIMA (0, 2, 3) x (2, 2, 0, 12)12 : AIC Calculated =640.1611666640669\n",
      "ARIMA (0, 2, 3) x (2, 2, 1, 12)12 : AIC Calculated =640.1611666640669\n",
      "ARIMA (0, 2, 3) x (2, 2, 2, 12)12 : AIC Calculated =640.1611666640669\n",
      "ARIMA (0, 2, 3) x (2, 2, 3, 12)12 : AIC Calculated =640.1611666640669\n",
      "ARIMA (0, 2, 3) x (2, 3, 0, 12)12 : AIC Calculated =640.1611666640669\n",
      "ARIMA (0, 2, 3) x (2, 3, 1, 12)12 : AIC Calculated =640.1611666640669\n",
      "ARIMA (0, 2, 3) x (2, 3, 2, 12)12 : AIC Calculated =640.1611666640669\n",
      "ARIMA (0, 2, 3) x (2, 3, 3, 12)12 : AIC Calculated =640.1611666640669\n",
      "ARIMA (0, 2, 3) x (3, 0, 0, 12)12 : AIC Calculated =640.1611666640669\n",
      "ARIMA (0, 2, 3) x (3, 0, 1, 12)12 : AIC Calculated =640.1611666640669\n",
      "ARIMA (0, 2, 3) x (3, 0, 2, 12)12 : AIC Calculated =640.1611666640669\n",
      "ARIMA (0, 2, 3) x (3, 0, 3, 12)12 : AIC Calculated =640.1611666640669\n",
      "ARIMA (0, 2, 3) x (3, 1, 0, 12)12 : AIC Calculated =640.1611666640669\n",
      "ARIMA (0, 2, 3) x (3, 1, 1, 12)12 : AIC Calculated =640.1611666640669\n",
      "ARIMA (0, 2, 3) x (3, 1, 2, 12)12 : AIC Calculated =640.1611666640669\n",
      "ARIMA (0, 2, 3) x (3, 1, 3, 12)12 : AIC Calculated =640.1611666640669\n",
      "ARIMA (0, 2, 3) x (3, 2, 0, 12)12 : AIC Calculated =640.1611666640669\n",
      "ARIMA (0, 2, 3) x (3, 2, 1, 12)12 : AIC Calculated =640.1611666640669\n",
      "ARIMA (0, 2, 3) x (3, 2, 2, 12)12 : AIC Calculated =640.1611666640669\n",
      "ARIMA (0, 2, 3) x (3, 2, 3, 12)12 : AIC Calculated =640.1611666640669\n",
      "ARIMA (0, 2, 3) x (3, 3, 0, 12)12 : AIC Calculated =640.1611666640669\n",
      "ARIMA (0, 2, 3) x (3, 3, 1, 12)12 : AIC Calculated =640.1611666640669\n",
      "ARIMA (0, 2, 3) x (3, 3, 2, 12)12 : AIC Calculated =640.1611666640669\n",
      "ARIMA (0, 2, 3) x (3, 3, 3, 12)12 : AIC Calculated =640.1611666640669\n",
      "ARIMA (0, 3, 0) x (0, 0, 0, 12)12 : AIC Calculated =1081.4559981100424\n",
      "ARIMA (0, 3, 0) x (0, 0, 1, 12)12 : AIC Calculated =1081.4559981100424\n",
      "ARIMA (0, 3, 0) x (0, 0, 2, 12)12 : AIC Calculated =1081.4559981100424\n",
      "ARIMA (0, 3, 0) x (0, 0, 3, 12)12 : AIC Calculated =1081.4559981100424\n",
      "ARIMA (0, 3, 0) x (0, 1, 0, 12)12 : AIC Calculated =1081.4559981100424\n",
      "ARIMA (0, 3, 0) x (0, 1, 1, 12)12 : AIC Calculated =1081.4559981100424\n",
      "ARIMA (0, 3, 0) x (0, 1, 2, 12)12 : AIC Calculated =1081.4559981100424\n",
      "ARIMA (0, 3, 0) x (0, 1, 3, 12)12 : AIC Calculated =1081.4559981100424\n",
      "ARIMA (0, 3, 0) x (0, 2, 0, 12)12 : AIC Calculated =1081.4559981100424\n",
      "ARIMA (0, 3, 0) x (0, 2, 1, 12)12 : AIC Calculated =1081.4559981100424\n",
      "ARIMA (0, 3, 0) x (0, 2, 2, 12)12 : AIC Calculated =1081.4559981100424\n",
      "ARIMA (0, 3, 0) x (0, 2, 3, 12)12 : AIC Calculated =1081.4559981100424\n",
      "ARIMA (0, 3, 0) x (0, 3, 0, 12)12 : AIC Calculated =1081.4559981100424\n",
      "ARIMA (0, 3, 0) x (0, 3, 1, 12)12 : AIC Calculated =1081.4559981100424\n",
      "ARIMA (0, 3, 0) x (0, 3, 2, 12)12 : AIC Calculated =1081.4559981100424\n",
      "ARIMA (0, 3, 0) x (0, 3, 3, 12)12 : AIC Calculated =1081.4559981100424\n",
      "ARIMA (0, 3, 0) x (1, 0, 0, 12)12 : AIC Calculated =1081.4559981100424\n",
      "ARIMA (0, 3, 0) x (1, 0, 1, 12)12 : AIC Calculated =1081.4559981100424\n",
      "ARIMA (0, 3, 0) x (1, 0, 2, 12)12 : AIC Calculated =1081.4559981100424\n",
      "ARIMA (0, 3, 0) x (1, 0, 3, 12)12 : AIC Calculated =1081.4559981100424\n",
      "ARIMA (0, 3, 0) x (1, 1, 0, 12)12 : AIC Calculated =1081.4559981100424\n",
      "ARIMA (0, 3, 0) x (1, 1, 1, 12)12 : AIC Calculated =1081.4559981100424\n",
      "ARIMA (0, 3, 0) x (1, 1, 2, 12)12 : AIC Calculated =1081.4559981100424\n",
      "ARIMA (0, 3, 0) x (1, 1, 3, 12)12 : AIC Calculated =1081.4559981100424\n",
      "ARIMA (0, 3, 0) x (1, 2, 0, 12)12 : AIC Calculated =1081.4559981100424\n",
      "ARIMA (0, 3, 0) x (1, 2, 1, 12)12 : AIC Calculated =1081.4559981100424\n",
      "ARIMA (0, 3, 0) x (1, 2, 2, 12)12 : AIC Calculated =1081.4559981100424\n",
      "ARIMA (0, 3, 0) x (1, 2, 3, 12)12 : AIC Calculated =1081.4559981100424\n",
      "ARIMA (0, 3, 0) x (1, 3, 0, 12)12 : AIC Calculated =1081.4559981100424\n",
      "ARIMA (0, 3, 0) x (1, 3, 1, 12)12 : AIC Calculated =1081.4559981100424\n",
      "ARIMA (0, 3, 0) x (1, 3, 2, 12)12 : AIC Calculated =1081.4559981100424\n",
      "ARIMA (0, 3, 0) x (1, 3, 3, 12)12 : AIC Calculated =1081.4559981100424\n",
      "ARIMA (0, 3, 0) x (2, 0, 0, 12)12 : AIC Calculated =1081.4559981100424\n",
      "ARIMA (0, 3, 0) x (2, 0, 1, 12)12 : AIC Calculated =1081.4559981100424\n",
      "ARIMA (0, 3, 0) x (2, 0, 2, 12)12 : AIC Calculated =1081.4559981100424\n",
      "ARIMA (0, 3, 0) x (2, 0, 3, 12)12 : AIC Calculated =1081.4559981100424\n",
      "ARIMA (0, 3, 0) x (2, 1, 0, 12)12 : AIC Calculated =1081.4559981100424\n",
      "ARIMA (0, 3, 0) x (2, 1, 1, 12)12 : AIC Calculated =1081.4559981100424\n",
      "ARIMA (0, 3, 0) x (2, 1, 2, 12)12 : AIC Calculated =1081.4559981100424\n",
      "ARIMA (0, 3, 0) x (2, 1, 3, 12)12 : AIC Calculated =1081.4559981100424\n",
      "ARIMA (0, 3, 0) x (2, 2, 0, 12)12 : AIC Calculated =1081.4559981100424\n",
      "ARIMA (0, 3, 0) x (2, 2, 1, 12)12 : AIC Calculated =1081.4559981100424\n",
      "ARIMA (0, 3, 0) x (2, 2, 2, 12)12 : AIC Calculated =1081.4559981100424\n",
      "ARIMA (0, 3, 0) x (2, 2, 3, 12)12 : AIC Calculated =1081.4559981100424\n",
      "ARIMA (0, 3, 0) x (2, 3, 0, 12)12 : AIC Calculated =1081.4559981100424\n",
      "ARIMA (0, 3, 0) x (2, 3, 1, 12)12 : AIC Calculated =1081.4559981100424\n",
      "ARIMA (0, 3, 0) x (2, 3, 2, 12)12 : AIC Calculated =1081.4559981100424\n",
      "ARIMA (0, 3, 0) x (2, 3, 3, 12)12 : AIC Calculated =1081.4559981100424\n",
      "ARIMA (0, 3, 0) x (3, 0, 0, 12)12 : AIC Calculated =1081.4559981100424\n",
      "ARIMA (0, 3, 0) x (3, 0, 1, 12)12 : AIC Calculated =1081.4559981100424\n",
      "ARIMA (0, 3, 0) x (3, 0, 2, 12)12 : AIC Calculated =1081.4559981100424\n",
      "ARIMA (0, 3, 0) x (3, 0, 3, 12)12 : AIC Calculated =1081.4559981100424\n",
      "ARIMA (0, 3, 0) x (3, 1, 0, 12)12 : AIC Calculated =1081.4559981100424\n",
      "ARIMA (0, 3, 0) x (3, 1, 1, 12)12 : AIC Calculated =1081.4559981100424\n",
      "ARIMA (0, 3, 0) x (3, 1, 2, 12)12 : AIC Calculated =1081.4559981100424\n",
      "ARIMA (0, 3, 0) x (3, 1, 3, 12)12 : AIC Calculated =1081.4559981100424\n",
      "ARIMA (0, 3, 0) x (3, 2, 0, 12)12 : AIC Calculated =1081.4559981100424\n",
      "ARIMA (0, 3, 0) x (3, 2, 1, 12)12 : AIC Calculated =1081.4559981100424\n",
      "ARIMA (0, 3, 0) x (3, 2, 2, 12)12 : AIC Calculated =1081.4559981100424\n",
      "ARIMA (0, 3, 0) x (3, 2, 3, 12)12 : AIC Calculated =1081.4559981100424\n",
      "ARIMA (0, 3, 0) x (3, 3, 0, 12)12 : AIC Calculated =1081.4559981100424\n",
      "ARIMA (0, 3, 0) x (3, 3, 1, 12)12 : AIC Calculated =1081.4559981100424\n",
      "ARIMA (0, 3, 0) x (3, 3, 2, 12)12 : AIC Calculated =1081.4559981100424\n",
      "ARIMA (0, 3, 0) x (3, 3, 3, 12)12 : AIC Calculated =1081.4559981100424\n",
      "ARIMA (0, 3, 1) x (0, 0, 0, 12)12 : AIC Calculated =897.0346624307001\n",
      "ARIMA (0, 3, 1) x (0, 0, 1, 12)12 : AIC Calculated =897.0346624307001\n",
      "ARIMA (0, 3, 1) x (0, 0, 2, 12)12 : AIC Calculated =897.0346624307001\n",
      "ARIMA (0, 3, 1) x (0, 0, 3, 12)12 : AIC Calculated =897.0346624307001\n",
      "ARIMA (0, 3, 1) x (0, 1, 0, 12)12 : AIC Calculated =897.0346624307001\n",
      "ARIMA (0, 3, 1) x (0, 1, 1, 12)12 : AIC Calculated =897.0346624307001\n",
      "ARIMA (0, 3, 1) x (0, 1, 2, 12)12 : AIC Calculated =897.0346624307001\n",
      "ARIMA (0, 3, 1) x (0, 1, 3, 12)12 : AIC Calculated =897.0346624307001\n",
      "ARIMA (0, 3, 1) x (0, 2, 0, 12)12 : AIC Calculated =897.0346624307001\n",
      "ARIMA (0, 3, 1) x (0, 2, 1, 12)12 : AIC Calculated =897.0346624307001\n"
     ]
    },
    {
     "name": "stdout",
     "output_type": "stream",
     "text": [
      "ARIMA (0, 3, 1) x (0, 2, 2, 12)12 : AIC Calculated =897.0346624307001\n",
      "ARIMA (0, 3, 1) x (0, 2, 3, 12)12 : AIC Calculated =897.0346624307001\n",
      "ARIMA (0, 3, 1) x (0, 3, 0, 12)12 : AIC Calculated =897.0346624307001\n",
      "ARIMA (0, 3, 1) x (0, 3, 1, 12)12 : AIC Calculated =897.0346624307001\n",
      "ARIMA (0, 3, 1) x (0, 3, 2, 12)12 : AIC Calculated =897.0346624307001\n",
      "ARIMA (0, 3, 1) x (0, 3, 3, 12)12 : AIC Calculated =897.0346624307001\n",
      "ARIMA (0, 3, 1) x (1, 0, 0, 12)12 : AIC Calculated =897.0346624307001\n",
      "ARIMA (0, 3, 1) x (1, 0, 1, 12)12 : AIC Calculated =897.0346624307001\n",
      "ARIMA (0, 3, 1) x (1, 0, 2, 12)12 : AIC Calculated =897.0346624307001\n",
      "ARIMA (0, 3, 1) x (1, 0, 3, 12)12 : AIC Calculated =897.0346624307001\n",
      "ARIMA (0, 3, 1) x (1, 1, 0, 12)12 : AIC Calculated =897.0346624307001\n",
      "ARIMA (0, 3, 1) x (1, 1, 1, 12)12 : AIC Calculated =897.0346624307001\n",
      "ARIMA (0, 3, 1) x (1, 1, 2, 12)12 : AIC Calculated =897.0346624307001\n",
      "ARIMA (0, 3, 1) x (1, 1, 3, 12)12 : AIC Calculated =897.0346624307001\n",
      "ARIMA (0, 3, 1) x (1, 2, 0, 12)12 : AIC Calculated =897.0346624307001\n",
      "ARIMA (0, 3, 1) x (1, 2, 1, 12)12 : AIC Calculated =897.0346624307001\n",
      "ARIMA (0, 3, 1) x (1, 2, 2, 12)12 : AIC Calculated =897.0346624307001\n",
      "ARIMA (0, 3, 1) x (1, 2, 3, 12)12 : AIC Calculated =897.0346624307001\n",
      "ARIMA (0, 3, 1) x (1, 3, 0, 12)12 : AIC Calculated =897.0346624307001\n",
      "ARIMA (0, 3, 1) x (1, 3, 1, 12)12 : AIC Calculated =897.0346624307001\n",
      "ARIMA (0, 3, 1) x (1, 3, 2, 12)12 : AIC Calculated =897.0346624307001\n",
      "ARIMA (0, 3, 1) x (1, 3, 3, 12)12 : AIC Calculated =897.0346624307001\n",
      "ARIMA (0, 3, 1) x (2, 0, 0, 12)12 : AIC Calculated =897.0346624307001\n",
      "ARIMA (0, 3, 1) x (2, 0, 1, 12)12 : AIC Calculated =897.0346624307001\n",
      "ARIMA (0, 3, 1) x (2, 0, 2, 12)12 : AIC Calculated =897.0346624307001\n",
      "ARIMA (0, 3, 1) x (2, 0, 3, 12)12 : AIC Calculated =897.0346624307001\n",
      "ARIMA (0, 3, 1) x (2, 1, 0, 12)12 : AIC Calculated =897.0346624307001\n",
      "ARIMA (0, 3, 1) x (2, 1, 1, 12)12 : AIC Calculated =897.0346624307001\n",
      "ARIMA (0, 3, 1) x (2, 1, 2, 12)12 : AIC Calculated =897.0346624307001\n",
      "ARIMA (0, 3, 1) x (2, 1, 3, 12)12 : AIC Calculated =897.0346624307001\n",
      "ARIMA (0, 3, 1) x (2, 2, 0, 12)12 : AIC Calculated =897.0346624307001\n",
      "ARIMA (0, 3, 1) x (2, 2, 1, 12)12 : AIC Calculated =897.0346624307001\n",
      "ARIMA (0, 3, 1) x (2, 2, 2, 12)12 : AIC Calculated =897.0346624307001\n",
      "ARIMA (0, 3, 1) x (2, 2, 3, 12)12 : AIC Calculated =897.0346624307001\n",
      "ARIMA (0, 3, 1) x (2, 3, 0, 12)12 : AIC Calculated =897.0346624307001\n",
      "ARIMA (0, 3, 1) x (2, 3, 1, 12)12 : AIC Calculated =897.0346624307001\n",
      "ARIMA (0, 3, 1) x (2, 3, 2, 12)12 : AIC Calculated =897.0346624307001\n",
      "ARIMA (0, 3, 1) x (2, 3, 3, 12)12 : AIC Calculated =897.0346624307001\n",
      "ARIMA (0, 3, 1) x (3, 0, 0, 12)12 : AIC Calculated =897.0346624307001\n",
      "ARIMA (0, 3, 1) x (3, 0, 1, 12)12 : AIC Calculated =897.0346624307001\n",
      "ARIMA (0, 3, 1) x (3, 0, 2, 12)12 : AIC Calculated =897.0346624307001\n",
      "ARIMA (0, 3, 1) x (3, 0, 3, 12)12 : AIC Calculated =897.0346624307001\n",
      "ARIMA (0, 3, 1) x (3, 1, 0, 12)12 : AIC Calculated =897.0346624307001\n",
      "ARIMA (0, 3, 1) x (3, 1, 1, 12)12 : AIC Calculated =897.0346624307001\n",
      "ARIMA (0, 3, 1) x (3, 1, 2, 12)12 : AIC Calculated =897.0346624307001\n",
      "ARIMA (0, 3, 1) x (3, 1, 3, 12)12 : AIC Calculated =897.0346624307001\n",
      "ARIMA (0, 3, 1) x (3, 2, 0, 12)12 : AIC Calculated =897.0346624307001\n",
      "ARIMA (0, 3, 1) x (3, 2, 1, 12)12 : AIC Calculated =897.0346624307001\n",
      "ARIMA (0, 3, 1) x (3, 2, 2, 12)12 : AIC Calculated =897.0346624307001\n",
      "ARIMA (0, 3, 1) x (3, 2, 3, 12)12 : AIC Calculated =897.0346624307001\n",
      "ARIMA (0, 3, 1) x (3, 3, 0, 12)12 : AIC Calculated =897.0346624307001\n",
      "ARIMA (0, 3, 1) x (3, 3, 1, 12)12 : AIC Calculated =897.0346624307001\n",
      "ARIMA (0, 3, 1) x (3, 3, 2, 12)12 : AIC Calculated =897.0346624307001\n",
      "ARIMA (0, 3, 1) x (3, 3, 3, 12)12 : AIC Calculated =897.0346624307001\n",
      "ARIMA (0, 3, 2) x (0, 0, 0, 12)12 : AIC Calculated =731.2806890782292\n",
      "ARIMA (0, 3, 2) x (0, 0, 1, 12)12 : AIC Calculated =731.2806890782292\n",
      "ARIMA (0, 3, 2) x (0, 0, 2, 12)12 : AIC Calculated =731.2806890782292\n",
      "ARIMA (0, 3, 2) x (0, 0, 3, 12)12 : AIC Calculated =731.2806890782292\n",
      "ARIMA (0, 3, 2) x (0, 1, 0, 12)12 : AIC Calculated =731.2806890782292\n",
      "ARIMA (0, 3, 2) x (0, 1, 1, 12)12 : AIC Calculated =731.2806890782292\n",
      "ARIMA (0, 3, 2) x (0, 1, 2, 12)12 : AIC Calculated =731.2806890782292\n",
      "ARIMA (0, 3, 2) x (0, 1, 3, 12)12 : AIC Calculated =731.2806890782292\n",
      "ARIMA (0, 3, 2) x (0, 2, 0, 12)12 : AIC Calculated =731.2806890782292\n",
      "ARIMA (0, 3, 2) x (0, 2, 1, 12)12 : AIC Calculated =731.2806890782292\n",
      "ARIMA (0, 3, 2) x (0, 2, 2, 12)12 : AIC Calculated =731.2806890782292\n",
      "ARIMA (0, 3, 2) x (0, 2, 3, 12)12 : AIC Calculated =731.2806890782292\n",
      "ARIMA (0, 3, 2) x (0, 3, 0, 12)12 : AIC Calculated =731.2806890782292\n",
      "ARIMA (0, 3, 2) x (0, 3, 1, 12)12 : AIC Calculated =731.2806890782292\n",
      "ARIMA (0, 3, 2) x (0, 3, 2, 12)12 : AIC Calculated =731.2806890782292\n",
      "ARIMA (0, 3, 2) x (0, 3, 3, 12)12 : AIC Calculated =731.2806890782292\n",
      "ARIMA (0, 3, 2) x (1, 0, 0, 12)12 : AIC Calculated =731.2806890782292\n",
      "ARIMA (0, 3, 2) x (1, 0, 1, 12)12 : AIC Calculated =731.2806890782292\n",
      "ARIMA (0, 3, 2) x (1, 0, 2, 12)12 : AIC Calculated =731.2806890782292\n",
      "ARIMA (0, 3, 2) x (1, 0, 3, 12)12 : AIC Calculated =731.2806890782292\n",
      "ARIMA (0, 3, 2) x (1, 1, 0, 12)12 : AIC Calculated =731.2806890782292\n",
      "ARIMA (0, 3, 2) x (1, 1, 1, 12)12 : AIC Calculated =731.2806890782292\n",
      "ARIMA (0, 3, 2) x (1, 1, 2, 12)12 : AIC Calculated =731.2806890782292\n",
      "ARIMA (0, 3, 2) x (1, 1, 3, 12)12 : AIC Calculated =731.2806890782292\n",
      "ARIMA (0, 3, 2) x (1, 2, 0, 12)12 : AIC Calculated =731.2806890782292\n",
      "ARIMA (0, 3, 2) x (1, 2, 1, 12)12 : AIC Calculated =731.2806890782292\n",
      "ARIMA (0, 3, 2) x (1, 2, 2, 12)12 : AIC Calculated =731.2806890782292\n",
      "ARIMA (0, 3, 2) x (1, 2, 3, 12)12 : AIC Calculated =731.2806890782292\n",
      "ARIMA (0, 3, 2) x (1, 3, 0, 12)12 : AIC Calculated =731.2806890782292\n",
      "ARIMA (0, 3, 2) x (1, 3, 1, 12)12 : AIC Calculated =731.2806890782292\n",
      "ARIMA (0, 3, 2) x (1, 3, 2, 12)12 : AIC Calculated =731.2806890782292\n",
      "ARIMA (0, 3, 2) x (1, 3, 3, 12)12 : AIC Calculated =731.2806890782292\n",
      "ARIMA (0, 3, 2) x (2, 0, 0, 12)12 : AIC Calculated =731.2806890782292\n",
      "ARIMA (0, 3, 2) x (2, 0, 1, 12)12 : AIC Calculated =731.2806890782292\n",
      "ARIMA (0, 3, 2) x (2, 0, 2, 12)12 : AIC Calculated =731.2806890782292\n",
      "ARIMA (0, 3, 2) x (2, 0, 3, 12)12 : AIC Calculated =731.2806890782292\n",
      "ARIMA (0, 3, 2) x (2, 1, 0, 12)12 : AIC Calculated =731.2806890782292\n",
      "ARIMA (0, 3, 2) x (2, 1, 1, 12)12 : AIC Calculated =731.2806890782292\n",
      "ARIMA (0, 3, 2) x (2, 1, 2, 12)12 : AIC Calculated =731.2806890782292\n",
      "ARIMA (0, 3, 2) x (2, 1, 3, 12)12 : AIC Calculated =731.2806890782292\n",
      "ARIMA (0, 3, 2) x (2, 2, 0, 12)12 : AIC Calculated =731.2806890782292\n",
      "ARIMA (0, 3, 2) x (2, 2, 1, 12)12 : AIC Calculated =731.2806890782292\n",
      "ARIMA (0, 3, 2) x (2, 2, 2, 12)12 : AIC Calculated =731.2806890782292\n",
      "ARIMA (0, 3, 2) x (2, 2, 3, 12)12 : AIC Calculated =731.2806890782292\n",
      "ARIMA (0, 3, 2) x (2, 3, 0, 12)12 : AIC Calculated =731.2806890782292\n",
      "ARIMA (0, 3, 2) x (2, 3, 1, 12)12 : AIC Calculated =731.2806890782292\n",
      "ARIMA (0, 3, 2) x (2, 3, 2, 12)12 : AIC Calculated =731.2806890782292\n",
      "ARIMA (0, 3, 2) x (2, 3, 3, 12)12 : AIC Calculated =731.2806890782292\n",
      "ARIMA (0, 3, 2) x (3, 0, 0, 12)12 : AIC Calculated =731.2806890782292\n",
      "ARIMA (0, 3, 2) x (3, 0, 1, 12)12 : AIC Calculated =731.2806890782292\n",
      "ARIMA (0, 3, 2) x (3, 0, 2, 12)12 : AIC Calculated =731.2806890782292\n",
      "ARIMA (0, 3, 2) x (3, 0, 3, 12)12 : AIC Calculated =731.2806890782292\n",
      "ARIMA (0, 3, 2) x (3, 1, 0, 12)12 : AIC Calculated =731.2806890782292\n",
      "ARIMA (0, 3, 2) x (3, 1, 1, 12)12 : AIC Calculated =731.2806890782292\n",
      "ARIMA (0, 3, 2) x (3, 1, 2, 12)12 : AIC Calculated =731.2806890782292\n",
      "ARIMA (0, 3, 2) x (3, 1, 3, 12)12 : AIC Calculated =731.2806890782292\n",
      "ARIMA (0, 3, 2) x (3, 2, 0, 12)12 : AIC Calculated =731.2806890782292\n",
      "ARIMA (0, 3, 2) x (3, 2, 1, 12)12 : AIC Calculated =731.2806890782292\n",
      "ARIMA (0, 3, 2) x (3, 2, 2, 12)12 : AIC Calculated =731.2806890782292\n",
      "ARIMA (0, 3, 2) x (3, 2, 3, 12)12 : AIC Calculated =731.2806890782292\n",
      "ARIMA (0, 3, 2) x (3, 3, 0, 12)12 : AIC Calculated =731.2806890782292\n",
      "ARIMA (0, 3, 2) x (3, 3, 1, 12)12 : AIC Calculated =731.2806890782292\n",
      "ARIMA (0, 3, 2) x (3, 3, 2, 12)12 : AIC Calculated =731.2806890782292\n",
      "ARIMA (0, 3, 2) x (3, 3, 3, 12)12 : AIC Calculated =731.2806890782292\n"
     ]
    },
    {
     "name": "stdout",
     "output_type": "stream",
     "text": [
      "ARIMA (0, 3, 3) x (0, 0, 0, 12)12 : AIC Calculated =646.7125483900147\n",
      "ARIMA (0, 3, 3) x (0, 0, 1, 12)12 : AIC Calculated =646.7125483900147\n",
      "ARIMA (0, 3, 3) x (0, 0, 2, 12)12 : AIC Calculated =646.7125483900147\n",
      "ARIMA (0, 3, 3) x (0, 0, 3, 12)12 : AIC Calculated =646.7125483900147\n",
      "ARIMA (0, 3, 3) x (0, 1, 0, 12)12 : AIC Calculated =646.7125483900147\n",
      "ARIMA (0, 3, 3) x (0, 1, 1, 12)12 : AIC Calculated =646.7125483900147\n",
      "ARIMA (0, 3, 3) x (0, 1, 2, 12)12 : AIC Calculated =646.7125483900147\n",
      "ARIMA (0, 3, 3) x (0, 1, 3, 12)12 : AIC Calculated =646.7125483900147\n",
      "ARIMA (0, 3, 3) x (0, 2, 0, 12)12 : AIC Calculated =646.7125483900147\n",
      "ARIMA (0, 3, 3) x (0, 2, 1, 12)12 : AIC Calculated =646.7125483900147\n",
      "ARIMA (0, 3, 3) x (0, 2, 2, 12)12 : AIC Calculated =646.7125483900147\n",
      "ARIMA (0, 3, 3) x (0, 2, 3, 12)12 : AIC Calculated =646.7125483900147\n",
      "ARIMA (0, 3, 3) x (0, 3, 0, 12)12 : AIC Calculated =646.7125483900147\n",
      "ARIMA (0, 3, 3) x (0, 3, 1, 12)12 : AIC Calculated =646.7125483900147\n",
      "ARIMA (0, 3, 3) x (0, 3, 2, 12)12 : AIC Calculated =646.7125483900147\n",
      "ARIMA (0, 3, 3) x (0, 3, 3, 12)12 : AIC Calculated =646.7125483900147\n",
      "ARIMA (0, 3, 3) x (1, 0, 0, 12)12 : AIC Calculated =646.7125483900147\n",
      "ARIMA (0, 3, 3) x (1, 0, 1, 12)12 : AIC Calculated =646.7125483900147\n",
      "ARIMA (0, 3, 3) x (1, 0, 2, 12)12 : AIC Calculated =646.7125483900147\n",
      "ARIMA (0, 3, 3) x (1, 0, 3, 12)12 : AIC Calculated =646.7125483900147\n",
      "ARIMA (0, 3, 3) x (1, 1, 0, 12)12 : AIC Calculated =646.7125483900147\n",
      "ARIMA (0, 3, 3) x (1, 1, 1, 12)12 : AIC Calculated =646.7125483900147\n",
      "ARIMA (0, 3, 3) x (1, 1, 2, 12)12 : AIC Calculated =646.7125483900147\n",
      "ARIMA (0, 3, 3) x (1, 1, 3, 12)12 : AIC Calculated =646.7125483900147\n",
      "ARIMA (0, 3, 3) x (1, 2, 0, 12)12 : AIC Calculated =646.7125483900147\n",
      "ARIMA (0, 3, 3) x (1, 2, 1, 12)12 : AIC Calculated =646.7125483900147\n",
      "ARIMA (0, 3, 3) x (1, 2, 2, 12)12 : AIC Calculated =646.7125483900147\n",
      "ARIMA (0, 3, 3) x (1, 2, 3, 12)12 : AIC Calculated =646.7125483900147\n",
      "ARIMA (0, 3, 3) x (1, 3, 0, 12)12 : AIC Calculated =646.7125483900147\n",
      "ARIMA (0, 3, 3) x (1, 3, 1, 12)12 : AIC Calculated =646.7125483900147\n",
      "ARIMA (0, 3, 3) x (1, 3, 2, 12)12 : AIC Calculated =646.7125483900147\n",
      "ARIMA (0, 3, 3) x (1, 3, 3, 12)12 : AIC Calculated =646.7125483900147\n",
      "ARIMA (0, 3, 3) x (2, 0, 0, 12)12 : AIC Calculated =646.7125483900147\n",
      "ARIMA (0, 3, 3) x (2, 0, 1, 12)12 : AIC Calculated =646.7125483900147\n",
      "ARIMA (0, 3, 3) x (2, 0, 2, 12)12 : AIC Calculated =646.7125483900147\n",
      "ARIMA (0, 3, 3) x (2, 0, 3, 12)12 : AIC Calculated =646.7125483900147\n",
      "ARIMA (0, 3, 3) x (2, 1, 0, 12)12 : AIC Calculated =646.7125483900147\n",
      "ARIMA (0, 3, 3) x (2, 1, 1, 12)12 : AIC Calculated =646.7125483900147\n",
      "ARIMA (0, 3, 3) x (2, 1, 2, 12)12 : AIC Calculated =646.7125483900147\n",
      "ARIMA (0, 3, 3) x (2, 1, 3, 12)12 : AIC Calculated =646.7125483900147\n",
      "ARIMA (0, 3, 3) x (2, 2, 0, 12)12 : AIC Calculated =646.7125483900147\n",
      "ARIMA (0, 3, 3) x (2, 2, 1, 12)12 : AIC Calculated =646.7125483900147\n",
      "ARIMA (0, 3, 3) x (2, 2, 2, 12)12 : AIC Calculated =646.7125483900147\n",
      "ARIMA (0, 3, 3) x (2, 2, 3, 12)12 : AIC Calculated =646.7125483900147\n",
      "ARIMA (0, 3, 3) x (2, 3, 0, 12)12 : AIC Calculated =646.7125483900147\n",
      "ARIMA (0, 3, 3) x (2, 3, 1, 12)12 : AIC Calculated =646.7125483900147\n",
      "ARIMA (0, 3, 3) x (2, 3, 2, 12)12 : AIC Calculated =646.7125483900147\n",
      "ARIMA (0, 3, 3) x (2, 3, 3, 12)12 : AIC Calculated =646.7125483900147\n",
      "ARIMA (0, 3, 3) x (3, 0, 0, 12)12 : AIC Calculated =646.7125483900147\n",
      "ARIMA (0, 3, 3) x (3, 0, 1, 12)12 : AIC Calculated =646.7125483900147\n",
      "ARIMA (0, 3, 3) x (3, 0, 2, 12)12 : AIC Calculated =646.7125483900147\n",
      "ARIMA (0, 3, 3) x (3, 0, 3, 12)12 : AIC Calculated =646.7125483900147\n",
      "ARIMA (0, 3, 3) x (3, 1, 0, 12)12 : AIC Calculated =646.7125483900147\n",
      "ARIMA (0, 3, 3) x (3, 1, 1, 12)12 : AIC Calculated =646.7125483900147\n",
      "ARIMA (0, 3, 3) x (3, 1, 2, 12)12 : AIC Calculated =646.7125483900147\n",
      "ARIMA (0, 3, 3) x (3, 1, 3, 12)12 : AIC Calculated =646.7125483900147\n",
      "ARIMA (0, 3, 3) x (3, 2, 0, 12)12 : AIC Calculated =646.7125483900147\n",
      "ARIMA (0, 3, 3) x (3, 2, 1, 12)12 : AIC Calculated =646.7125483900147\n",
      "ARIMA (0, 3, 3) x (3, 2, 2, 12)12 : AIC Calculated =646.7125483900147\n",
      "ARIMA (0, 3, 3) x (3, 2, 3, 12)12 : AIC Calculated =646.7125483900147\n",
      "ARIMA (0, 3, 3) x (3, 3, 0, 12)12 : AIC Calculated =646.7125483900147\n",
      "ARIMA (0, 3, 3) x (3, 3, 1, 12)12 : AIC Calculated =646.7125483900147\n",
      "ARIMA (0, 3, 3) x (3, 3, 2, 12)12 : AIC Calculated =646.7125483900147\n",
      "ARIMA (0, 3, 3) x (3, 3, 3, 12)12 : AIC Calculated =646.7125483900147\n",
      "ARIMA (1, 0, 0) x (0, 0, 0, 12)12 : AIC Calculated =665.5935989947461\n",
      "ARIMA (1, 0, 0) x (0, 0, 1, 12)12 : AIC Calculated =665.5935989947461\n",
      "ARIMA (1, 0, 0) x (0, 0, 2, 12)12 : AIC Calculated =665.5935989947461\n",
      "ARIMA (1, 0, 0) x (0, 0, 3, 12)12 : AIC Calculated =665.5935989947461\n",
      "ARIMA (1, 0, 0) x (0, 1, 0, 12)12 : AIC Calculated =665.5935989947461\n",
      "ARIMA (1, 0, 0) x (0, 1, 1, 12)12 : AIC Calculated =665.5935989947461\n",
      "ARIMA (1, 0, 0) x (0, 1, 2, 12)12 : AIC Calculated =665.5935989947461\n",
      "ARIMA (1, 0, 0) x (0, 1, 3, 12)12 : AIC Calculated =665.5935989947461\n",
      "ARIMA (1, 0, 0) x (0, 2, 0, 12)12 : AIC Calculated =665.5935989947461\n",
      "ARIMA (1, 0, 0) x (0, 2, 1, 12)12 : AIC Calculated =665.5935989947461\n",
      "ARIMA (1, 0, 0) x (0, 2, 2, 12)12 : AIC Calculated =665.5935989947461\n",
      "ARIMA (1, 0, 0) x (0, 2, 3, 12)12 : AIC Calculated =665.5935989947461\n",
      "ARIMA (1, 0, 0) x (0, 3, 0, 12)12 : AIC Calculated =665.5935989947461\n",
      "ARIMA (1, 0, 0) x (0, 3, 1, 12)12 : AIC Calculated =665.5935989947461\n",
      "ARIMA (1, 0, 0) x (0, 3, 2, 12)12 : AIC Calculated =665.5935989947461\n",
      "ARIMA (1, 0, 0) x (0, 3, 3, 12)12 : AIC Calculated =665.5935989947461\n",
      "ARIMA (1, 0, 0) x (1, 0, 0, 12)12 : AIC Calculated =665.5935989947461\n",
      "ARIMA (1, 0, 0) x (1, 0, 1, 12)12 : AIC Calculated =665.5935989947461\n",
      "ARIMA (1, 0, 0) x (1, 0, 2, 12)12 : AIC Calculated =665.5935989947461\n",
      "ARIMA (1, 0, 0) x (1, 0, 3, 12)12 : AIC Calculated =665.5935989947461\n",
      "ARIMA (1, 0, 0) x (1, 1, 0, 12)12 : AIC Calculated =665.5935989947461\n",
      "ARIMA (1, 0, 0) x (1, 1, 1, 12)12 : AIC Calculated =665.5935989947461\n",
      "ARIMA (1, 0, 0) x (1, 1, 2, 12)12 : AIC Calculated =665.5935989947461\n",
      "ARIMA (1, 0, 0) x (1, 1, 3, 12)12 : AIC Calculated =665.5935989947461\n",
      "ARIMA (1, 0, 0) x (1, 2, 0, 12)12 : AIC Calculated =665.5935989947461\n",
      "ARIMA (1, 0, 0) x (1, 2, 1, 12)12 : AIC Calculated =665.5935989947461\n",
      "ARIMA (1, 0, 0) x (1, 2, 2, 12)12 : AIC Calculated =665.5935989947461\n",
      "ARIMA (1, 0, 0) x (1, 2, 3, 12)12 : AIC Calculated =665.5935989947461\n",
      "ARIMA (1, 0, 0) x (1, 3, 0, 12)12 : AIC Calculated =665.5935989947461\n",
      "ARIMA (1, 0, 0) x (1, 3, 1, 12)12 : AIC Calculated =665.5935989947461\n",
      "ARIMA (1, 0, 0) x (1, 3, 2, 12)12 : AIC Calculated =665.5935989947461\n",
      "ARIMA (1, 0, 0) x (1, 3, 3, 12)12 : AIC Calculated =665.5935989947461\n",
      "ARIMA (1, 0, 0) x (2, 0, 0, 12)12 : AIC Calculated =665.5935989947461\n",
      "ARIMA (1, 0, 0) x (2, 0, 1, 12)12 : AIC Calculated =665.5935989947461\n",
      "ARIMA (1, 0, 0) x (2, 0, 2, 12)12 : AIC Calculated =665.5935989947461\n",
      "ARIMA (1, 0, 0) x (2, 0, 3, 12)12 : AIC Calculated =665.5935989947461\n",
      "ARIMA (1, 0, 0) x (2, 1, 0, 12)12 : AIC Calculated =665.5935989947461\n",
      "ARIMA (1, 0, 0) x (2, 1, 1, 12)12 : AIC Calculated =665.5935989947461\n",
      "ARIMA (1, 0, 0) x (2, 1, 2, 12)12 : AIC Calculated =665.5935989947461\n",
      "ARIMA (1, 0, 0) x (2, 1, 3, 12)12 : AIC Calculated =665.5935989947461\n",
      "ARIMA (1, 0, 0) x (2, 2, 0, 12)12 : AIC Calculated =665.5935989947461\n",
      "ARIMA (1, 0, 0) x (2, 2, 1, 12)12 : AIC Calculated =665.5935989947461\n",
      "ARIMA (1, 0, 0) x (2, 2, 2, 12)12 : AIC Calculated =665.5935989947461\n",
      "ARIMA (1, 0, 0) x (2, 2, 3, 12)12 : AIC Calculated =665.5935989947461\n",
      "ARIMA (1, 0, 0) x (2, 3, 0, 12)12 : AIC Calculated =665.5935989947461\n",
      "ARIMA (1, 0, 0) x (2, 3, 1, 12)12 : AIC Calculated =665.5935989947461\n",
      "ARIMA (1, 0, 0) x (2, 3, 2, 12)12 : AIC Calculated =665.5935989947461\n",
      "ARIMA (1, 0, 0) x (2, 3, 3, 12)12 : AIC Calculated =665.5935989947461\n",
      "ARIMA (1, 0, 0) x (3, 0, 0, 12)12 : AIC Calculated =665.5935989947461\n",
      "ARIMA (1, 0, 0) x (3, 0, 1, 12)12 : AIC Calculated =665.5935989947461\n",
      "ARIMA (1, 0, 0) x (3, 0, 2, 12)12 : AIC Calculated =665.5935989947461\n",
      "ARIMA (1, 0, 0) x (3, 0, 3, 12)12 : AIC Calculated =665.5935989947461\n",
      "ARIMA (1, 0, 0) x (3, 1, 0, 12)12 : AIC Calculated =665.5935989947461\n",
      "ARIMA (1, 0, 0) x (3, 1, 1, 12)12 : AIC Calculated =665.5935989947461\n",
      "ARIMA (1, 0, 0) x (3, 1, 2, 12)12 : AIC Calculated =665.5935989947461\n",
      "ARIMA (1, 0, 0) x (3, 1, 3, 12)12 : AIC Calculated =665.5935989947461\n",
      "ARIMA (1, 0, 0) x (3, 2, 0, 12)12 : AIC Calculated =665.5935989947461\n",
      "ARIMA (1, 0, 0) x (3, 2, 1, 12)12 : AIC Calculated =665.5935989947461\n",
      "ARIMA (1, 0, 0) x (3, 2, 2, 12)12 : AIC Calculated =665.5935989947461\n",
      "ARIMA (1, 0, 0) x (3, 2, 3, 12)12 : AIC Calculated =665.5935989947461\n",
      "ARIMA (1, 0, 0) x (3, 3, 0, 12)12 : AIC Calculated =665.5935989947461\n",
      "ARIMA (1, 0, 0) x (3, 3, 1, 12)12 : AIC Calculated =665.5935989947461\n",
      "ARIMA (1, 0, 0) x (3, 3, 2, 12)12 : AIC Calculated =665.5935989947461\n",
      "ARIMA (1, 0, 0) x (3, 3, 3, 12)12 : AIC Calculated =665.5935989947461\n"
     ]
    },
    {
     "name": "stdout",
     "output_type": "stream",
     "text": [
      "ARIMA (1, 0, 1) x (0, 0, 0, 12)12 : AIC Calculated =646.6535485393216\n",
      "ARIMA (1, 0, 1) x (0, 0, 1, 12)12 : AIC Calculated =646.6535485393216\n",
      "ARIMA (1, 0, 1) x (0, 0, 2, 12)12 : AIC Calculated =646.6535485393216\n",
      "ARIMA (1, 0, 1) x (0, 0, 3, 12)12 : AIC Calculated =646.6535485393216\n",
      "ARIMA (1, 0, 1) x (0, 1, 0, 12)12 : AIC Calculated =646.6535485393216\n",
      "ARIMA (1, 0, 1) x (0, 1, 1, 12)12 : AIC Calculated =646.6535485393216\n",
      "ARIMA (1, 0, 1) x (0, 1, 2, 12)12 : AIC Calculated =646.6535485393216\n",
      "ARIMA (1, 0, 1) x (0, 1, 3, 12)12 : AIC Calculated =646.6535485393216\n",
      "ARIMA (1, 0, 1) x (0, 2, 0, 12)12 : AIC Calculated =646.6535485393216\n",
      "ARIMA (1, 0, 1) x (0, 2, 1, 12)12 : AIC Calculated =646.6535485393216\n",
      "ARIMA (1, 0, 1) x (0, 2, 2, 12)12 : AIC Calculated =646.6535485393216\n",
      "ARIMA (1, 0, 1) x (0, 2, 3, 12)12 : AIC Calculated =646.6535485393216\n",
      "ARIMA (1, 0, 1) x (0, 3, 0, 12)12 : AIC Calculated =646.6535485393216\n",
      "ARIMA (1, 0, 1) x (0, 3, 1, 12)12 : AIC Calculated =646.6535485393216\n",
      "ARIMA (1, 0, 1) x (0, 3, 2, 12)12 : AIC Calculated =646.6535485393216\n",
      "ARIMA (1, 0, 1) x (0, 3, 3, 12)12 : AIC Calculated =646.6535485393216\n",
      "ARIMA (1, 0, 1) x (1, 0, 0, 12)12 : AIC Calculated =646.6535485393216\n",
      "ARIMA (1, 0, 1) x (1, 0, 1, 12)12 : AIC Calculated =646.6535485393216\n",
      "ARIMA (1, 0, 1) x (1, 0, 2, 12)12 : AIC Calculated =646.6535485393216\n",
      "ARIMA (1, 0, 1) x (1, 0, 3, 12)12 : AIC Calculated =646.6535485393216\n",
      "ARIMA (1, 0, 1) x (1, 1, 0, 12)12 : AIC Calculated =646.6535485393216\n",
      "ARIMA (1, 0, 1) x (1, 1, 1, 12)12 : AIC Calculated =646.6535485393216\n",
      "ARIMA (1, 0, 1) x (1, 1, 2, 12)12 : AIC Calculated =646.6535485393216\n",
      "ARIMA (1, 0, 1) x (1, 1, 3, 12)12 : AIC Calculated =646.6535485393216\n",
      "ARIMA (1, 0, 1) x (1, 2, 0, 12)12 : AIC Calculated =646.6535485393216\n",
      "ARIMA (1, 0, 1) x (1, 2, 1, 12)12 : AIC Calculated =646.6535485393216\n",
      "ARIMA (1, 0, 1) x (1, 2, 2, 12)12 : AIC Calculated =646.6535485393216\n",
      "ARIMA (1, 0, 1) x (1, 2, 3, 12)12 : AIC Calculated =646.6535485393216\n",
      "ARIMA (1, 0, 1) x (1, 3, 0, 12)12 : AIC Calculated =646.6535485393216\n",
      "ARIMA (1, 0, 1) x (1, 3, 1, 12)12 : AIC Calculated =646.6535485393216\n",
      "ARIMA (1, 0, 1) x (1, 3, 2, 12)12 : AIC Calculated =646.6535485393216\n",
      "ARIMA (1, 0, 1) x (1, 3, 3, 12)12 : AIC Calculated =646.6535485393216\n",
      "ARIMA (1, 0, 1) x (2, 0, 0, 12)12 : AIC Calculated =646.6535485393216\n",
      "ARIMA (1, 0, 1) x (2, 0, 1, 12)12 : AIC Calculated =646.6535485393216\n",
      "ARIMA (1, 0, 1) x (2, 0, 2, 12)12 : AIC Calculated =646.6535485393216\n",
      "ARIMA (1, 0, 1) x (2, 0, 3, 12)12 : AIC Calculated =646.6535485393216\n",
      "ARIMA (1, 0, 1) x (2, 1, 0, 12)12 : AIC Calculated =646.6535485393216\n",
      "ARIMA (1, 0, 1) x (2, 1, 1, 12)12 : AIC Calculated =646.6535485393216\n",
      "ARIMA (1, 0, 1) x (2, 1, 2, 12)12 : AIC Calculated =646.6535485393216\n",
      "ARIMA (1, 0, 1) x (2, 1, 3, 12)12 : AIC Calculated =646.6535485393216\n",
      "ARIMA (1, 0, 1) x (2, 2, 0, 12)12 : AIC Calculated =646.6535485393216\n",
      "ARIMA (1, 0, 1) x (2, 2, 1, 12)12 : AIC Calculated =646.6535485393216\n",
      "ARIMA (1, 0, 1) x (2, 2, 2, 12)12 : AIC Calculated =646.6535485393216\n",
      "ARIMA (1, 0, 1) x (2, 2, 3, 12)12 : AIC Calculated =646.6535485393216\n",
      "ARIMA (1, 0, 1) x (2, 3, 0, 12)12 : AIC Calculated =646.6535485393216\n",
      "ARIMA (1, 0, 1) x (2, 3, 1, 12)12 : AIC Calculated =646.6535485393216\n",
      "ARIMA (1, 0, 1) x (2, 3, 2, 12)12 : AIC Calculated =646.6535485393216\n",
      "ARIMA (1, 0, 1) x (2, 3, 3, 12)12 : AIC Calculated =646.6535485393216\n",
      "ARIMA (1, 0, 1) x (3, 0, 0, 12)12 : AIC Calculated =646.6535485393216\n",
      "ARIMA (1, 0, 1) x (3, 0, 1, 12)12 : AIC Calculated =646.6535485393216\n",
      "ARIMA (1, 0, 1) x (3, 0, 2, 12)12 : AIC Calculated =646.6535485393216\n",
      "ARIMA (1, 0, 1) x (3, 0, 3, 12)12 : AIC Calculated =646.6535485393216\n",
      "ARIMA (1, 0, 1) x (3, 1, 0, 12)12 : AIC Calculated =646.6535485393216\n",
      "ARIMA (1, 0, 1) x (3, 1, 1, 12)12 : AIC Calculated =646.6535485393216\n",
      "ARIMA (1, 0, 1) x (3, 1, 2, 12)12 : AIC Calculated =646.6535485393216\n",
      "ARIMA (1, 0, 1) x (3, 1, 3, 12)12 : AIC Calculated =646.6535485393216\n",
      "ARIMA (1, 0, 1) x (3, 2, 0, 12)12 : AIC Calculated =646.6535485393216\n",
      "ARIMA (1, 0, 1) x (3, 2, 1, 12)12 : AIC Calculated =646.6535485393216\n",
      "ARIMA (1, 0, 1) x (3, 2, 2, 12)12 : AIC Calculated =646.6535485393216\n",
      "ARIMA (1, 0, 1) x (3, 2, 3, 12)12 : AIC Calculated =646.6535485393216\n",
      "ARIMA (1, 0, 1) x (3, 3, 0, 12)12 : AIC Calculated =646.6535485393216\n",
      "ARIMA (1, 0, 1) x (3, 3, 1, 12)12 : AIC Calculated =646.6535485393216\n",
      "ARIMA (1, 0, 1) x (3, 3, 2, 12)12 : AIC Calculated =646.6535485393216\n",
      "ARIMA (1, 0, 1) x (3, 3, 3, 12)12 : AIC Calculated =646.6535485393216\n",
      "ARIMA (1, 0, 2) x (0, 0, 0, 12)12 : AIC Calculated =643.9166214212224\n",
      "ARIMA (1, 0, 2) x (0, 0, 1, 12)12 : AIC Calculated =643.9166214212224\n",
      "ARIMA (1, 0, 2) x (0, 0, 2, 12)12 : AIC Calculated =643.9166214212224\n",
      "ARIMA (1, 0, 2) x (0, 0, 3, 12)12 : AIC Calculated =643.9166214212224\n",
      "ARIMA (1, 0, 2) x (0, 1, 0, 12)12 : AIC Calculated =643.9166214212224\n",
      "ARIMA (1, 0, 2) x (0, 1, 1, 12)12 : AIC Calculated =643.9166214212224\n",
      "ARIMA (1, 0, 2) x (0, 1, 2, 12)12 : AIC Calculated =643.9166214212224\n",
      "ARIMA (1, 0, 2) x (0, 1, 3, 12)12 : AIC Calculated =643.9166214212224\n",
      "ARIMA (1, 0, 2) x (0, 2, 0, 12)12 : AIC Calculated =643.9166214212224\n",
      "ARIMA (1, 0, 2) x (0, 2, 1, 12)12 : AIC Calculated =643.9166214212224\n",
      "ARIMA (1, 0, 2) x (0, 2, 2, 12)12 : AIC Calculated =643.9166214212224\n",
      "ARIMA (1, 0, 2) x (0, 2, 3, 12)12 : AIC Calculated =643.9166214212224\n",
      "ARIMA (1, 0, 2) x (0, 3, 0, 12)12 : AIC Calculated =643.9166214212224\n",
      "ARIMA (1, 0, 2) x (0, 3, 1, 12)12 : AIC Calculated =643.9166214212224\n",
      "ARIMA (1, 0, 2) x (0, 3, 2, 12)12 : AIC Calculated =643.9166214212224\n",
      "ARIMA (1, 0, 2) x (0, 3, 3, 12)12 : AIC Calculated =643.9166214212224\n",
      "ARIMA (1, 0, 2) x (1, 0, 0, 12)12 : AIC Calculated =643.9166214212224\n",
      "ARIMA (1, 0, 2) x (1, 0, 1, 12)12 : AIC Calculated =643.9166214212224\n",
      "ARIMA (1, 0, 2) x (1, 0, 2, 12)12 : AIC Calculated =643.9166214212224\n",
      "ARIMA (1, 0, 2) x (1, 0, 3, 12)12 : AIC Calculated =643.9166214212224\n",
      "ARIMA (1, 0, 2) x (1, 1, 0, 12)12 : AIC Calculated =643.9166214212224\n",
      "ARIMA (1, 0, 2) x (1, 1, 1, 12)12 : AIC Calculated =643.9166214212224\n",
      "ARIMA (1, 0, 2) x (1, 1, 2, 12)12 : AIC Calculated =643.9166214212224\n",
      "ARIMA (1, 0, 2) x (1, 1, 3, 12)12 : AIC Calculated =643.9166214212224\n",
      "ARIMA (1, 0, 2) x (1, 2, 0, 12)12 : AIC Calculated =643.9166214212224\n",
      "ARIMA (1, 0, 2) x (1, 2, 1, 12)12 : AIC Calculated =643.9166214212224\n",
      "ARIMA (1, 0, 2) x (1, 2, 2, 12)12 : AIC Calculated =643.9166214212224\n",
      "ARIMA (1, 0, 2) x (1, 2, 3, 12)12 : AIC Calculated =643.9166214212224\n",
      "ARIMA (1, 0, 2) x (1, 3, 0, 12)12 : AIC Calculated =643.9166214212224\n",
      "ARIMA (1, 0, 2) x (1, 3, 1, 12)12 : AIC Calculated =643.9166214212224\n",
      "ARIMA (1, 0, 2) x (1, 3, 2, 12)12 : AIC Calculated =643.9166214212224\n",
      "ARIMA (1, 0, 2) x (1, 3, 3, 12)12 : AIC Calculated =643.9166214212224\n",
      "ARIMA (1, 0, 2) x (2, 0, 0, 12)12 : AIC Calculated =643.9166214212224\n",
      "ARIMA (1, 0, 2) x (2, 0, 1, 12)12 : AIC Calculated =643.9166214212224\n",
      "ARIMA (1, 0, 2) x (2, 0, 2, 12)12 : AIC Calculated =643.9166214212224\n",
      "ARIMA (1, 0, 2) x (2, 0, 3, 12)12 : AIC Calculated =643.9166214212224\n",
      "ARIMA (1, 0, 2) x (2, 1, 0, 12)12 : AIC Calculated =643.9166214212224\n",
      "ARIMA (1, 0, 2) x (2, 1, 1, 12)12 : AIC Calculated =643.9166214212224\n",
      "ARIMA (1, 0, 2) x (2, 1, 2, 12)12 : AIC Calculated =643.9166214212224\n",
      "ARIMA (1, 0, 2) x (2, 1, 3, 12)12 : AIC Calculated =643.9166214212224\n",
      "ARIMA (1, 0, 2) x (2, 2, 0, 12)12 : AIC Calculated =643.9166214212224\n",
      "ARIMA (1, 0, 2) x (2, 2, 1, 12)12 : AIC Calculated =643.9166214212224\n",
      "ARIMA (1, 0, 2) x (2, 2, 2, 12)12 : AIC Calculated =643.9166214212224\n",
      "ARIMA (1, 0, 2) x (2, 2, 3, 12)12 : AIC Calculated =643.9166214212224\n",
      "ARIMA (1, 0, 2) x (2, 3, 0, 12)12 : AIC Calculated =643.9166214212224\n",
      "ARIMA (1, 0, 2) x (2, 3, 1, 12)12 : AIC Calculated =643.9166214212224\n",
      "ARIMA (1, 0, 2) x (2, 3, 2, 12)12 : AIC Calculated =643.9166214212224\n",
      "ARIMA (1, 0, 2) x (2, 3, 3, 12)12 : AIC Calculated =643.9166214212224\n",
      "ARIMA (1, 0, 2) x (3, 0, 0, 12)12 : AIC Calculated =643.9166214212224\n",
      "ARIMA (1, 0, 2) x (3, 0, 1, 12)12 : AIC Calculated =643.9166214212224\n",
      "ARIMA (1, 0, 2) x (3, 0, 2, 12)12 : AIC Calculated =643.9166214212224\n",
      "ARIMA (1, 0, 2) x (3, 0, 3, 12)12 : AIC Calculated =643.9166214212224\n",
      "ARIMA (1, 0, 2) x (3, 1, 0, 12)12 : AIC Calculated =643.9166214212224\n",
      "ARIMA (1, 0, 2) x (3, 1, 1, 12)12 : AIC Calculated =643.9166214212224\n",
      "ARIMA (1, 0, 2) x (3, 1, 2, 12)12 : AIC Calculated =643.9166214212224\n"
     ]
    },
    {
     "name": "stdout",
     "output_type": "stream",
     "text": [
      "ARIMA (1, 0, 2) x (3, 1, 3, 12)12 : AIC Calculated =643.9166214212224\n",
      "ARIMA (1, 0, 2) x (3, 2, 0, 12)12 : AIC Calculated =643.9166214212224\n",
      "ARIMA (1, 0, 2) x (3, 2, 1, 12)12 : AIC Calculated =643.9166214212224\n",
      "ARIMA (1, 0, 2) x (3, 2, 2, 12)12 : AIC Calculated =643.9166214212224\n",
      "ARIMA (1, 0, 2) x (3, 2, 3, 12)12 : AIC Calculated =643.9166214212224\n",
      "ARIMA (1, 0, 2) x (3, 3, 0, 12)12 : AIC Calculated =643.9166214212224\n",
      "ARIMA (1, 0, 2) x (3, 3, 1, 12)12 : AIC Calculated =643.9166214212224\n",
      "ARIMA (1, 0, 2) x (3, 3, 2, 12)12 : AIC Calculated =643.9166214212224\n",
      "ARIMA (1, 0, 2) x (3, 3, 3, 12)12 : AIC Calculated =643.9166214212224\n",
      "ARIMA (1, 0, 3) x (0, 0, 0, 12)12 : AIC Calculated =640.3416415236009\n",
      "ARIMA (1, 0, 3) x (0, 0, 1, 12)12 : AIC Calculated =640.3416415236009\n",
      "ARIMA (1, 0, 3) x (0, 0, 2, 12)12 : AIC Calculated =640.3416415236009\n",
      "ARIMA (1, 0, 3) x (0, 0, 3, 12)12 : AIC Calculated =640.3416415236009\n",
      "ARIMA (1, 0, 3) x (0, 1, 0, 12)12 : AIC Calculated =640.3416415236009\n",
      "ARIMA (1, 0, 3) x (0, 1, 1, 12)12 : AIC Calculated =640.3416415236009\n",
      "ARIMA (1, 0, 3) x (0, 1, 2, 12)12 : AIC Calculated =640.3416415236009\n",
      "ARIMA (1, 0, 3) x (0, 1, 3, 12)12 : AIC Calculated =640.3416415236009\n",
      "ARIMA (1, 0, 3) x (0, 2, 0, 12)12 : AIC Calculated =640.3416415236009\n",
      "ARIMA (1, 0, 3) x (0, 2, 1, 12)12 : AIC Calculated =640.3416415236009\n",
      "ARIMA (1, 0, 3) x (0, 2, 2, 12)12 : AIC Calculated =640.3416415236009\n",
      "ARIMA (1, 0, 3) x (0, 2, 3, 12)12 : AIC Calculated =640.3416415236009\n",
      "ARIMA (1, 0, 3) x (0, 3, 0, 12)12 : AIC Calculated =640.3416415236009\n",
      "ARIMA (1, 0, 3) x (0, 3, 1, 12)12 : AIC Calculated =640.3416415236009\n",
      "ARIMA (1, 0, 3) x (0, 3, 2, 12)12 : AIC Calculated =640.3416415236009\n",
      "ARIMA (1, 0, 3) x (0, 3, 3, 12)12 : AIC Calculated =640.3416415236009\n",
      "ARIMA (1, 0, 3) x (1, 0, 0, 12)12 : AIC Calculated =640.3416415236009\n",
      "ARIMA (1, 0, 3) x (1, 0, 1, 12)12 : AIC Calculated =640.3416415236009\n",
      "ARIMA (1, 0, 3) x (1, 0, 2, 12)12 : AIC Calculated =640.3416415236009\n",
      "ARIMA (1, 0, 3) x (1, 0, 3, 12)12 : AIC Calculated =640.3416415236009\n",
      "ARIMA (1, 0, 3) x (1, 1, 0, 12)12 : AIC Calculated =640.3416415236009\n",
      "ARIMA (1, 0, 3) x (1, 1, 1, 12)12 : AIC Calculated =640.3416415236009\n",
      "ARIMA (1, 0, 3) x (1, 1, 2, 12)12 : AIC Calculated =640.3416415236009\n",
      "ARIMA (1, 0, 3) x (1, 1, 3, 12)12 : AIC Calculated =640.3416415236009\n",
      "ARIMA (1, 0, 3) x (1, 2, 0, 12)12 : AIC Calculated =640.3416415236009\n",
      "ARIMA (1, 0, 3) x (1, 2, 1, 12)12 : AIC Calculated =640.3416415236009\n",
      "ARIMA (1, 0, 3) x (1, 2, 2, 12)12 : AIC Calculated =640.3416415236009\n",
      "ARIMA (1, 0, 3) x (1, 2, 3, 12)12 : AIC Calculated =640.3416415236009\n",
      "ARIMA (1, 0, 3) x (1, 3, 0, 12)12 : AIC Calculated =640.3416415236009\n",
      "ARIMA (1, 0, 3) x (1, 3, 1, 12)12 : AIC Calculated =640.3416415236009\n",
      "ARIMA (1, 0, 3) x (1, 3, 2, 12)12 : AIC Calculated =640.3416415236009\n",
      "ARIMA (1, 0, 3) x (1, 3, 3, 12)12 : AIC Calculated =640.3416415236009\n",
      "ARIMA (1, 0, 3) x (2, 0, 0, 12)12 : AIC Calculated =640.3416415236009\n",
      "ARIMA (1, 0, 3) x (2, 0, 1, 12)12 : AIC Calculated =640.3416415236009\n",
      "ARIMA (1, 0, 3) x (2, 0, 2, 12)12 : AIC Calculated =640.3416415236009\n",
      "ARIMA (1, 0, 3) x (2, 0, 3, 12)12 : AIC Calculated =640.3416415236009\n",
      "ARIMA (1, 0, 3) x (2, 1, 0, 12)12 : AIC Calculated =640.3416415236009\n",
      "ARIMA (1, 0, 3) x (2, 1, 1, 12)12 : AIC Calculated =640.3416415236009\n",
      "ARIMA (1, 0, 3) x (2, 1, 2, 12)12 : AIC Calculated =640.3416415236009\n",
      "ARIMA (1, 0, 3) x (2, 1, 3, 12)12 : AIC Calculated =640.3416415236009\n",
      "ARIMA (1, 0, 3) x (2, 2, 0, 12)12 : AIC Calculated =640.3416415236009\n",
      "ARIMA (1, 0, 3) x (2, 2, 1, 12)12 : AIC Calculated =640.3416415236009\n",
      "ARIMA (1, 0, 3) x (2, 2, 2, 12)12 : AIC Calculated =640.3416415236009\n",
      "ARIMA (1, 0, 3) x (2, 2, 3, 12)12 : AIC Calculated =640.3416415236009\n",
      "ARIMA (1, 0, 3) x (2, 3, 0, 12)12 : AIC Calculated =640.3416415236009\n",
      "ARIMA (1, 0, 3) x (2, 3, 1, 12)12 : AIC Calculated =640.3416415236009\n",
      "ARIMA (1, 0, 3) x (2, 3, 2, 12)12 : AIC Calculated =640.3416415236009\n",
      "ARIMA (1, 0, 3) x (2, 3, 3, 12)12 : AIC Calculated =640.3416415236009\n",
      "ARIMA (1, 0, 3) x (3, 0, 0, 12)12 : AIC Calculated =640.3416415236009\n",
      "ARIMA (1, 0, 3) x (3, 0, 1, 12)12 : AIC Calculated =640.3416415236009\n",
      "ARIMA (1, 0, 3) x (3, 0, 2, 12)12 : AIC Calculated =640.3416415236009\n",
      "ARIMA (1, 0, 3) x (3, 0, 3, 12)12 : AIC Calculated =640.3416415236009\n",
      "ARIMA (1, 0, 3) x (3, 1, 0, 12)12 : AIC Calculated =640.3416415236009\n",
      "ARIMA (1, 0, 3) x (3, 1, 1, 12)12 : AIC Calculated =640.3416415236009\n",
      "ARIMA (1, 0, 3) x (3, 1, 2, 12)12 : AIC Calculated =640.3416415236009\n",
      "ARIMA (1, 0, 3) x (3, 1, 3, 12)12 : AIC Calculated =640.3416415236009\n",
      "ARIMA (1, 0, 3) x (3, 2, 0, 12)12 : AIC Calculated =640.3416415236009\n",
      "ARIMA (1, 0, 3) x (3, 2, 1, 12)12 : AIC Calculated =640.3416415236009\n",
      "ARIMA (1, 0, 3) x (3, 2, 2, 12)12 : AIC Calculated =640.3416415236009\n",
      "ARIMA (1, 0, 3) x (3, 2, 3, 12)12 : AIC Calculated =640.3416415236009\n",
      "ARIMA (1, 0, 3) x (3, 3, 0, 12)12 : AIC Calculated =640.3416415236009\n",
      "ARIMA (1, 0, 3) x (3, 3, 1, 12)12 : AIC Calculated =640.3416415236009\n",
      "ARIMA (1, 0, 3) x (3, 3, 2, 12)12 : AIC Calculated =640.3416415236009\n",
      "ARIMA (1, 0, 3) x (3, 3, 3, 12)12 : AIC Calculated =640.3416415236009\n",
      "ARIMA (1, 1, 0) x (0, 0, 0, 12)12 : AIC Calculated =689.359626198707\n",
      "ARIMA (1, 1, 0) x (0, 0, 1, 12)12 : AIC Calculated =689.359626198707\n",
      "ARIMA (1, 1, 0) x (0, 0, 2, 12)12 : AIC Calculated =689.359626198707\n",
      "ARIMA (1, 1, 0) x (0, 0, 3, 12)12 : AIC Calculated =689.359626198707\n",
      "ARIMA (1, 1, 0) x (0, 1, 0, 12)12 : AIC Calculated =689.359626198707\n",
      "ARIMA (1, 1, 0) x (0, 1, 1, 12)12 : AIC Calculated =689.359626198707\n",
      "ARIMA (1, 1, 0) x (0, 1, 2, 12)12 : AIC Calculated =689.359626198707\n",
      "ARIMA (1, 1, 0) x (0, 1, 3, 12)12 : AIC Calculated =689.359626198707\n",
      "ARIMA (1, 1, 0) x (0, 2, 0, 12)12 : AIC Calculated =689.359626198707\n",
      "ARIMA (1, 1, 0) x (0, 2, 1, 12)12 : AIC Calculated =689.359626198707\n",
      "ARIMA (1, 1, 0) x (0, 2, 2, 12)12 : AIC Calculated =689.359626198707\n",
      "ARIMA (1, 1, 0) x (0, 2, 3, 12)12 : AIC Calculated =689.359626198707\n",
      "ARIMA (1, 1, 0) x (0, 3, 0, 12)12 : AIC Calculated =689.359626198707\n",
      "ARIMA (1, 1, 0) x (0, 3, 1, 12)12 : AIC Calculated =689.359626198707\n",
      "ARIMA (1, 1, 0) x (0, 3, 2, 12)12 : AIC Calculated =689.359626198707\n",
      "ARIMA (1, 1, 0) x (0, 3, 3, 12)12 : AIC Calculated =689.359626198707\n",
      "ARIMA (1, 1, 0) x (1, 0, 0, 12)12 : AIC Calculated =689.359626198707\n",
      "ARIMA (1, 1, 0) x (1, 0, 1, 12)12 : AIC Calculated =689.359626198707\n",
      "ARIMA (1, 1, 0) x (1, 0, 2, 12)12 : AIC Calculated =689.359626198707\n",
      "ARIMA (1, 1, 0) x (1, 0, 3, 12)12 : AIC Calculated =689.359626198707\n",
      "ARIMA (1, 1, 0) x (1, 1, 0, 12)12 : AIC Calculated =689.359626198707\n",
      "ARIMA (1, 1, 0) x (1, 1, 1, 12)12 : AIC Calculated =689.359626198707\n",
      "ARIMA (1, 1, 0) x (1, 1, 2, 12)12 : AIC Calculated =689.359626198707\n",
      "ARIMA (1, 1, 0) x (1, 1, 3, 12)12 : AIC Calculated =689.359626198707\n",
      "ARIMA (1, 1, 0) x (1, 2, 0, 12)12 : AIC Calculated =689.359626198707\n",
      "ARIMA (1, 1, 0) x (1, 2, 1, 12)12 : AIC Calculated =689.359626198707\n",
      "ARIMA (1, 1, 0) x (1, 2, 2, 12)12 : AIC Calculated =689.359626198707\n",
      "ARIMA (1, 1, 0) x (1, 2, 3, 12)12 : AIC Calculated =689.359626198707\n",
      "ARIMA (1, 1, 0) x (1, 3, 0, 12)12 : AIC Calculated =689.359626198707\n",
      "ARIMA (1, 1, 0) x (1, 3, 1, 12)12 : AIC Calculated =689.359626198707\n",
      "ARIMA (1, 1, 0) x (1, 3, 2, 12)12 : AIC Calculated =689.359626198707\n",
      "ARIMA (1, 1, 0) x (1, 3, 3, 12)12 : AIC Calculated =689.359626198707\n",
      "ARIMA (1, 1, 0) x (2, 0, 0, 12)12 : AIC Calculated =689.359626198707\n",
      "ARIMA (1, 1, 0) x (2, 0, 1, 12)12 : AIC Calculated =689.359626198707\n",
      "ARIMA (1, 1, 0) x (2, 0, 2, 12)12 : AIC Calculated =689.359626198707\n",
      "ARIMA (1, 1, 0) x (2, 0, 3, 12)12 : AIC Calculated =689.359626198707\n",
      "ARIMA (1, 1, 0) x (2, 1, 0, 12)12 : AIC Calculated =689.359626198707\n",
      "ARIMA (1, 1, 0) x (2, 1, 1, 12)12 : AIC Calculated =689.359626198707\n",
      "ARIMA (1, 1, 0) x (2, 1, 2, 12)12 : AIC Calculated =689.359626198707\n",
      "ARIMA (1, 1, 0) x (2, 1, 3, 12)12 : AIC Calculated =689.359626198707\n",
      "ARIMA (1, 1, 0) x (2, 2, 0, 12)12 : AIC Calculated =689.359626198707\n",
      "ARIMA (1, 1, 0) x (2, 2, 1, 12)12 : AIC Calculated =689.359626198707\n",
      "ARIMA (1, 1, 0) x (2, 2, 2, 12)12 : AIC Calculated =689.359626198707\n",
      "ARIMA (1, 1, 0) x (2, 2, 3, 12)12 : AIC Calculated =689.359626198707\n",
      "ARIMA (1, 1, 0) x (2, 3, 0, 12)12 : AIC Calculated =689.359626198707\n",
      "ARIMA (1, 1, 0) x (2, 3, 1, 12)12 : AIC Calculated =689.359626198707\n",
      "ARIMA (1, 1, 0) x (2, 3, 2, 12)12 : AIC Calculated =689.359626198707\n",
      "ARIMA (1, 1, 0) x (2, 3, 3, 12)12 : AIC Calculated =689.359626198707\n",
      "ARIMA (1, 1, 0) x (3, 0, 0, 12)12 : AIC Calculated =689.359626198707\n",
      "ARIMA (1, 1, 0) x (3, 0, 1, 12)12 : AIC Calculated =689.359626198707\n",
      "ARIMA (1, 1, 0) x (3, 0, 2, 12)12 : AIC Calculated =689.359626198707\n",
      "ARIMA (1, 1, 0) x (3, 0, 3, 12)12 : AIC Calculated =689.359626198707\n",
      "ARIMA (1, 1, 0) x (3, 1, 0, 12)12 : AIC Calculated =689.359626198707\n",
      "ARIMA (1, 1, 0) x (3, 1, 1, 12)12 : AIC Calculated =689.359626198707\n",
      "ARIMA (1, 1, 0) x (3, 1, 2, 12)12 : AIC Calculated =689.359626198707\n",
      "ARIMA (1, 1, 0) x (3, 1, 3, 12)12 : AIC Calculated =689.359626198707\n",
      "ARIMA (1, 1, 0) x (3, 2, 0, 12)12 : AIC Calculated =689.359626198707\n",
      "ARIMA (1, 1, 0) x (3, 2, 1, 12)12 : AIC Calculated =689.359626198707\n",
      "ARIMA (1, 1, 0) x (3, 2, 2, 12)12 : AIC Calculated =689.359626198707\n",
      "ARIMA (1, 1, 0) x (3, 2, 3, 12)12 : AIC Calculated =689.359626198707\n",
      "ARIMA (1, 1, 0) x (3, 3, 0, 12)12 : AIC Calculated =689.359626198707\n",
      "ARIMA (1, 1, 0) x (3, 3, 1, 12)12 : AIC Calculated =689.359626198707\n",
      "ARIMA (1, 1, 0) x (3, 3, 2, 12)12 : AIC Calculated =689.359626198707\n",
      "ARIMA (1, 1, 0) x (3, 3, 3, 12)12 : AIC Calculated =689.359626198707\n"
     ]
    },
    {
     "name": "stdout",
     "output_type": "stream",
     "text": [
      "ARIMA (1, 1, 1) x (0, 0, 0, 12)12 : AIC Calculated =645.706410060779\n",
      "ARIMA (1, 1, 1) x (0, 0, 1, 12)12 : AIC Calculated =645.706410060779\n",
      "ARIMA (1, 1, 1) x (0, 0, 2, 12)12 : AIC Calculated =645.706410060779\n",
      "ARIMA (1, 1, 1) x (0, 0, 3, 12)12 : AIC Calculated =645.706410060779\n",
      "ARIMA (1, 1, 1) x (0, 1, 0, 12)12 : AIC Calculated =645.706410060779\n",
      "ARIMA (1, 1, 1) x (0, 1, 1, 12)12 : AIC Calculated =645.706410060779\n",
      "ARIMA (1, 1, 1) x (0, 1, 2, 12)12 : AIC Calculated =645.706410060779\n",
      "ARIMA (1, 1, 1) x (0, 1, 3, 12)12 : AIC Calculated =645.706410060779\n",
      "ARIMA (1, 1, 1) x (0, 2, 0, 12)12 : AIC Calculated =645.706410060779\n",
      "ARIMA (1, 1, 1) x (0, 2, 1, 12)12 : AIC Calculated =645.706410060779\n",
      "ARIMA (1, 1, 1) x (0, 2, 2, 12)12 : AIC Calculated =645.706410060779\n",
      "ARIMA (1, 1, 1) x (0, 2, 3, 12)12 : AIC Calculated =645.706410060779\n",
      "ARIMA (1, 1, 1) x (0, 3, 0, 12)12 : AIC Calculated =645.706410060779\n",
      "ARIMA (1, 1, 1) x (0, 3, 1, 12)12 : AIC Calculated =645.706410060779\n",
      "ARIMA (1, 1, 1) x (0, 3, 2, 12)12 : AIC Calculated =645.706410060779\n",
      "ARIMA (1, 1, 1) x (0, 3, 3, 12)12 : AIC Calculated =645.706410060779\n",
      "ARIMA (1, 1, 1) x (1, 0, 0, 12)12 : AIC Calculated =645.706410060779\n",
      "ARIMA (1, 1, 1) x (1, 0, 1, 12)12 : AIC Calculated =645.706410060779\n",
      "ARIMA (1, 1, 1) x (1, 0, 2, 12)12 : AIC Calculated =645.706410060779\n",
      "ARIMA (1, 1, 1) x (1, 0, 3, 12)12 : AIC Calculated =645.706410060779\n",
      "ARIMA (1, 1, 1) x (1, 1, 0, 12)12 : AIC Calculated =645.706410060779\n",
      "ARIMA (1, 1, 1) x (1, 1, 1, 12)12 : AIC Calculated =645.706410060779\n",
      "ARIMA (1, 1, 1) x (1, 1, 2, 12)12 : AIC Calculated =645.706410060779\n",
      "ARIMA (1, 1, 1) x (1, 1, 3, 12)12 : AIC Calculated =645.706410060779\n",
      "ARIMA (1, 1, 1) x (1, 2, 0, 12)12 : AIC Calculated =645.706410060779\n",
      "ARIMA (1, 1, 1) x (1, 2, 1, 12)12 : AIC Calculated =645.706410060779\n",
      "ARIMA (1, 1, 1) x (1, 2, 2, 12)12 : AIC Calculated =645.706410060779\n",
      "ARIMA (1, 1, 1) x (1, 2, 3, 12)12 : AIC Calculated =645.706410060779\n",
      "ARIMA (1, 1, 1) x (1, 3, 0, 12)12 : AIC Calculated =645.706410060779\n",
      "ARIMA (1, 1, 1) x (1, 3, 1, 12)12 : AIC Calculated =645.706410060779\n",
      "ARIMA (1, 1, 1) x (1, 3, 2, 12)12 : AIC Calculated =645.706410060779\n",
      "ARIMA (1, 1, 1) x (1, 3, 3, 12)12 : AIC Calculated =645.706410060779\n",
      "ARIMA (1, 1, 1) x (2, 0, 0, 12)12 : AIC Calculated =645.706410060779\n",
      "ARIMA (1, 1, 1) x (2, 0, 1, 12)12 : AIC Calculated =645.706410060779\n",
      "ARIMA (1, 1, 1) x (2, 0, 2, 12)12 : AIC Calculated =645.706410060779\n",
      "ARIMA (1, 1, 1) x (2, 0, 3, 12)12 : AIC Calculated =645.706410060779\n",
      "ARIMA (1, 1, 1) x (2, 1, 0, 12)12 : AIC Calculated =645.706410060779\n",
      "ARIMA (1, 1, 1) x (2, 1, 1, 12)12 : AIC Calculated =645.706410060779\n",
      "ARIMA (1, 1, 1) x (2, 1, 2, 12)12 : AIC Calculated =645.706410060779\n",
      "ARIMA (1, 1, 1) x (2, 1, 3, 12)12 : AIC Calculated =645.706410060779\n",
      "ARIMA (1, 1, 1) x (2, 2, 0, 12)12 : AIC Calculated =645.706410060779\n",
      "ARIMA (1, 1, 1) x (2, 2, 1, 12)12 : AIC Calculated =645.706410060779\n",
      "ARIMA (1, 1, 1) x (2, 2, 2, 12)12 : AIC Calculated =645.706410060779\n",
      "ARIMA (1, 1, 1) x (2, 2, 3, 12)12 : AIC Calculated =645.706410060779\n",
      "ARIMA (1, 1, 1) x (2, 3, 0, 12)12 : AIC Calculated =645.706410060779\n",
      "ARIMA (1, 1, 1) x (2, 3, 1, 12)12 : AIC Calculated =645.706410060779\n",
      "ARIMA (1, 1, 1) x (2, 3, 2, 12)12 : AIC Calculated =645.706410060779\n",
      "ARIMA (1, 1, 1) x (2, 3, 3, 12)12 : AIC Calculated =645.706410060779\n",
      "ARIMA (1, 1, 1) x (3, 0, 0, 12)12 : AIC Calculated =645.706410060779\n",
      "ARIMA (1, 1, 1) x (3, 0, 1, 12)12 : AIC Calculated =645.706410060779\n",
      "ARIMA (1, 1, 1) x (3, 0, 2, 12)12 : AIC Calculated =645.706410060779\n",
      "ARIMA (1, 1, 1) x (3, 0, 3, 12)12 : AIC Calculated =645.706410060779\n",
      "ARIMA (1, 1, 1) x (3, 1, 0, 12)12 : AIC Calculated =645.706410060779\n",
      "ARIMA (1, 1, 1) x (3, 1, 1, 12)12 : AIC Calculated =645.706410060779\n",
      "ARIMA (1, 1, 1) x (3, 1, 2, 12)12 : AIC Calculated =645.706410060779\n",
      "ARIMA (1, 1, 1) x (3, 1, 3, 12)12 : AIC Calculated =645.706410060779\n",
      "ARIMA (1, 1, 1) x (3, 2, 0, 12)12 : AIC Calculated =645.706410060779\n",
      "ARIMA (1, 1, 1) x (3, 2, 1, 12)12 : AIC Calculated =645.706410060779\n",
      "ARIMA (1, 1, 1) x (3, 2, 2, 12)12 : AIC Calculated =645.706410060779\n",
      "ARIMA (1, 1, 1) x (3, 2, 3, 12)12 : AIC Calculated =645.706410060779\n",
      "ARIMA (1, 1, 1) x (3, 3, 0, 12)12 : AIC Calculated =645.706410060779\n",
      "ARIMA (1, 1, 1) x (3, 3, 1, 12)12 : AIC Calculated =645.706410060779\n",
      "ARIMA (1, 1, 1) x (3, 3, 2, 12)12 : AIC Calculated =645.706410060779\n",
      "ARIMA (1, 1, 1) x (3, 3, 3, 12)12 : AIC Calculated =645.706410060779\n",
      "ARIMA (1, 1, 2) x (0, 0, 0, 12)12 : AIC Calculated =643.6124220097274\n",
      "ARIMA (1, 1, 2) x (0, 0, 1, 12)12 : AIC Calculated =643.6124220097274\n",
      "ARIMA (1, 1, 2) x (0, 0, 2, 12)12 : AIC Calculated =643.6124220097274\n",
      "ARIMA (1, 1, 2) x (0, 0, 3, 12)12 : AIC Calculated =643.6124220097274\n",
      "ARIMA (1, 1, 2) x (0, 1, 0, 12)12 : AIC Calculated =643.6124220097274\n",
      "ARIMA (1, 1, 2) x (0, 1, 1, 12)12 : AIC Calculated =643.6124220097274\n",
      "ARIMA (1, 1, 2) x (0, 1, 2, 12)12 : AIC Calculated =643.6124220097274\n",
      "ARIMA (1, 1, 2) x (0, 1, 3, 12)12 : AIC Calculated =643.6124220097274\n",
      "ARIMA (1, 1, 2) x (0, 2, 0, 12)12 : AIC Calculated =643.6124220097274\n",
      "ARIMA (1, 1, 2) x (0, 2, 1, 12)12 : AIC Calculated =643.6124220097274\n"
     ]
    }
   ],
   "source": [
    "ans = []\n",
    "for comb in pdq:\n",
    "    for combs in pdqs:\n",
    "        try:\n",
    "            mod = sm.tsa.statespace.SARIMAX(ts_RFC,\n",
    "                                            order=comb,\n",
    "                                            enforce_stationarity=False,\n",
    "                                            enforce_invertibility=False)\n",
    "\n",
    "            output = mod.fit()\n",
    "            ans.append([comb, combs, output.aic])\n",
    "            print('ARIMA {} x {}12 : AIC Calculated ={}'.format(comb, combs, output.aic))\n",
    "        except:\n",
    "            continue"
   ]
  },
  {
   "cell_type": "code",
   "execution_count": null,
   "metadata": {},
   "outputs": [],
   "source": [
    "ans_df = pd.DataFrame(ans, columns=['pdq', 'pdqs', 'aic'])\n",
    "ans_df.loc[ans_df['aic'].idxmin()]"
   ]
  },
  {
   "cell_type": "code",
   "execution_count": null,
   "metadata": {},
   "outputs": [],
   "source": [
    "ans_df.head()"
   ]
  },
  {
   "cell_type": "code",
   "execution_count": null,
   "metadata": {},
   "outputs": [],
   "source": [
    "# Plug the optimal parameter values into a new SARIMAX model\n",
    "ARIMA_MODEL = sm.tsa.statespace.SARIMAX(ts_RFC, \n",
    "                                        order=(0, 1, 2), \n",
    "                                        seasonal_order=(0, 0, 0, 12), \n",
    "                                        enforce_stationarity=False, \n",
    "                                        enforce_invertibility=False)\n",
    "\n",
    "# Fit the model and print results\n",
    "output = ARIMA_MODEL.fit()\n",
    "\n",
    "print(output.summary().tables[1])"
   ]
  },
  {
   "cell_type": "code",
   "execution_count": null,
   "metadata": {},
   "outputs": [],
   "source": [
    "# Call plot_diagnostics() on the results calculated above \n",
    "output.plot_diagnostics(figsize=(15, 18))\n",
    "plt.show()"
   ]
  },
  {
   "cell_type": "code",
   "execution_count": null,
   "metadata": {},
   "outputs": [],
   "source": [
    "# Get predictions starting from 01-01-1998 and calculate confidence intervals\n",
    "pred = output.get_prediction(start=pd.to_datetime('2008-01-01'), dynamic=False)\n",
    "pred_conf = pred.conf_int()"
   ]
  },
  {
   "cell_type": "code",
   "execution_count": null,
   "metadata": {},
   "outputs": [],
   "source": [
    "# Plot real vs predicted values along with confidence interval\n",
    "\n",
    "rcParams['figure.figsize'] = 15, 6\n",
    "\n",
    "# Plot observed values\n",
    "ax = ts_RFC['2009':].plot(label='observed')\n",
    "\n",
    "# Plot predicted values\n",
    "pred.predicted_mean.plot(ax=ax, label='One-step ahead Forecast', alpha=0.9)\n",
    "\n",
    "# Plot the range for confidence intervals\n",
    "ax.fill_between(pred_conf.index,\n",
    "                pred_conf.iloc[:, 0],\n",
    "                pred_conf.iloc[:, 1], color='g', alpha=0.5)\n",
    "\n",
    "# Set axes labels\n",
    "ax.set_xlabel('Date')\n",
    "ax.set_ylabel('Levels')\n",
    "plt.legend()\n",
    "\n",
    "plt.show()"
   ]
  },
  {
   "cell_type": "code",
   "execution_count": null,
   "metadata": {},
   "outputs": [],
   "source": [
    "# Get the real and predicted values\n",
    "RFC_forecasted = pred.predicted_mean\n",
    "RFC_truth = ts_RFC['2008-01-01':]\n",
    "\n",
    "# Compute the mean square error\n",
    "mse = ((RFC_forecasted - RFC_truth) ** 2).mean()\n",
    "print('The Mean Squared Error of our forecasts is {}'.format(round(mse, 2)))"
   ]
  },
  {
   "cell_type": "markdown",
   "metadata": {},
   "source": [
    "# Dynamic Forecasting"
   ]
  },
  {
   "cell_type": "code",
   "execution_count": null,
   "metadata": {},
   "outputs": [],
   "source": [
    "# Get dynamic predictions with confidence intervals as above \n",
    "pred_dynamic = output.get_prediction(start=pd.to_datetime('2008-01-01'), dynamic=True, full_results=True)\n",
    "pred_dynamic_conf = pred_dynamic.conf_int()"
   ]
  },
  {
   "cell_type": "code",
   "execution_count": null,
   "metadata": {},
   "outputs": [],
   "source": [
    "# Plot the dynamic forecast with confidence intervals.\n",
    "\n",
    "ax = ts_RFC['2008':].plot(label='observed', figsize=(20, 15))\n",
    "pred_dynamic.predicted_mean.plot(label='Dynamic Forecast', ax=ax)\n",
    "\n",
    "ax.fill_between(pred_dynamic_conf.index,\n",
    "                pred_dynamic_conf.iloc[:, 0],\n",
    "                pred_dynamic_conf.iloc[:, 1], color='g', alpha=.3)\n",
    "\n",
    "ax.fill_betweenx(ax.get_ylim(), pd.to_datetime('2008-01-01'), CO2_forecasted.index[-1], alpha=.1, zorder=-1)\n",
    "\n",
    "ax.set_xlabel('Date')\n",
    "ax.set_ylabel('Levels')\n",
    "\n",
    "plt.legend()\n",
    "plt.show()"
   ]
  },
  {
   "cell_type": "code",
   "execution_count": null,
   "metadata": {},
   "outputs": [],
   "source": [
    "# Extract the predicted and true values of our time series\n",
    "CO2_forecasted = pred_dynamic.predicted_mean\n",
    "CO2_truth = CO2['1998-01-01':]\n",
    "\n",
    "# Compute the mean square error\n",
    "mse = ((CO2_forecasted - CO2_truth) ** 2).mean()\n",
    "print('The Mean Squared Error of our forecasts is {}'.format(round(mse, 2)))"
   ]
  },
  {
   "cell_type": "code",
   "execution_count": null,
   "metadata": {},
   "outputs": [],
   "source": [
    "# Get forecast 500 steps ahead in future\n",
    "prediction = output.get_forecast(steps=500)\n",
    "\n",
    "# Get confidence intervals of forecasts\n",
    "pred_conf = prediction.conf_int()"
   ]
  },
  {
   "cell_type": "code",
   "execution_count": null,
   "metadata": {},
   "outputs": [],
   "source": [
    "# Plot future predictions with confidence intervals\n",
    "ax = CO2.plot(label='observed', figsize=(20, 15))\n",
    "prediction.predicted_mean.plot(ax=ax, label='Forecast')\n",
    "ax.fill_between(pred_conf.index,\n",
    "                pred_conf.iloc[:, 0],\n",
    "                pred_conf.iloc[:, 1], color='k', alpha=0.25)\n",
    "ax.set_xlabel('Date')\n",
    "ax.set_ylabel('CO2 Levels')\n",
    "\n",
    "plt.legend()\n",
    "plt.show()"
   ]
  },
  {
   "cell_type": "code",
   "execution_count": null,
   "metadata": {},
   "outputs": [],
   "source": []
  },
  {
   "cell_type": "code",
   "execution_count": null,
   "metadata": {},
   "outputs": [],
   "source": []
  },
  {
   "cell_type": "code",
   "execution_count": null,
   "metadata": {},
   "outputs": [],
   "source": []
  },
  {
   "cell_type": "code",
   "execution_count": null,
   "metadata": {},
   "outputs": [],
   "source": []
  },
  {
   "cell_type": "markdown",
   "metadata": {},
   "source": [
    "# Conclusions"
   ]
  },
  {
   "cell_type": "markdown",
   "metadata": {},
   "source": [
    "- More funds should be allocated to hazard mitigation in all categories as natural disasters and subsequently recovery are increasing"
   ]
  },
  {
   "cell_type": "markdown",
   "metadata": {},
   "source": [
    "**Less common Natural Disaster Preparedness**\n",
    "\n",
    "- The costs of COVID-19 surpass all categories of natural disaster recovery costs**\n",
    "\n",
    "- Volcanoes were second highest cost even though they are less common natural disaster**\n"
   ]
  }
 ],
 "metadata": {
  "kernelspec": {
   "display_name": "Python [conda env:learn-env] *",
   "language": "python",
   "name": "conda-env-learn-env-py"
  },
  "language_info": {
   "codemirror_mode": {
    "name": "ipython",
    "version": 3
   },
   "file_extension": ".py",
   "mimetype": "text/x-python",
   "name": "python",
   "nbconvert_exporter": "python",
   "pygments_lexer": "ipython3",
   "version": "3.6.9"
  },
  "toc": {
   "base_numbering": 1,
   "nav_menu": {},
   "number_sections": false,
   "sideBar": true,
   "skip_h1_title": false,
   "title_cell": "Table of Contents",
   "title_sidebar": "Contents",
   "toc_cell": false,
   "toc_position": {
    "height": "calc(100% - 180px)",
    "left": "10px",
    "top": "150px",
    "width": "184.188px"
   },
   "toc_section_display": true,
   "toc_window_display": true
  }
 },
 "nbformat": 4,
 "nbformat_minor": 2
}
