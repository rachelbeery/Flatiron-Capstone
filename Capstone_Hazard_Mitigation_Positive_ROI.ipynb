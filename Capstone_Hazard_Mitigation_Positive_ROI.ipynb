{
 "cells": [
  {
   "cell_type": "markdown",
   "metadata": {},
   "source": [
    "# Capstone - FEMA Hazard Mitigation Regression Analysis"
   ]
  },
  {
   "cell_type": "markdown",
   "metadata": {},
   "source": [
    "**By Rachel Beery**"
   ]
  },
  {
   "cell_type": "markdown",
   "metadata": {},
   "source": [
    "**For my capstone I want to study community resilency and predict hazard mitigation success. I will be using the OpenFEMA datasets. My project will use supervised learning linear regression modeling to predict hazard mitigation success.**"
   ]
  },
  {
   "cell_type": "markdown",
   "metadata": {},
   "source": [
    "**In this project we are using a regression analysis model to understand the ROI of hazard mitigation costs in USD. By understanding these patterns we will then provide recommendations on how to better allocate hazard mitigation funds in the future.**"
   ]
  },
  {
   "cell_type": "markdown",
   "metadata": {},
   "source": [
    "Source: https://www.fema.gov/about/openfema/data-sets"
   ]
  },
  {
   "cell_type": "markdown",
   "metadata": {},
   "source": [
    "### Goals: \n",
    "- Make a logistic regression to see what features yield the highest ROI in recovery funding. "
   ]
  },
  {
   "cell_type": "markdown",
   "metadata": {},
   "source": [
    "# Data Exploration and Cleaning"
   ]
  },
  {
   "cell_type": "code",
   "execution_count": 1,
   "metadata": {},
   "outputs": [],
   "source": [
    "# We will begin by importing all of the packages we anticipate to use\n",
    "import pandas as pd\n",
    "import pandas.tseries  \n",
    "import numpy as np  \n",
    "\n",
    "import statsmodels.api as sm \n",
    "import itertools\n",
    "\n",
    "import matplotlib.pyplot as plt   \n",
    "from matplotlib.pylab import rcParams \n",
    "%matplotlib inline\n",
    "import matplotlib.ticker as mtick\n",
    "plt.style.use('ggplot') \n",
    "import plotly.express as px\n",
    "import plotly.figure_factory as ff \n",
    "import plotly.graph_objects as go \n",
    "import seaborn as sns  \n",
    "\n",
    "from statsmodels.tsa.arima_model import ARMA\n",
    "from statsmodels.tsa.statespace.sarimax import SARIMAX\n",
    "\n",
    "import warnings\n",
    "warnings.filterwarnings('ignore') \n",
    "\n",
    "import math\n",
    "import scipy.stats as stats\n",
    "\n",
    "from sklearn.preprocessing import StandardScaler\n",
    "import statsmodels.api as sm\n",
    "from scipy import stats\n",
    "import statsmodels.formula.api as smf\n",
    "from statsmodels.stats.outliers_influence import variance_inflation_factor\n",
    "\n",
    "from sklearn.model_selection import train_test_split\n",
    "from sklearn.metrics import mean_squared_error, make_scorer\n",
    "from sklearn.metrics import roc_auc_score\n",
    "from sklearn.model_selection import cross_val_score\n",
    "from sklearn.metrics import r2_score\n",
    "from sklearn.linear_model import LinearRegression, LogisticRegression, LogisticRegressionCV\n",
    "# CV - why not importing\n",
    "\n",
    "from sklearn.feature_selection import VarianceThreshold, SelectFromModel\n",
    "linreg = LinearRegression()\n",
    "\n",
    "from sklearn.model_selection import GridSearchCV, cross_val_score\n",
    "from sklearn.preprocessing import StandardScaler, MinMaxScaler\n",
    "from sklearn.neighbors import KNeighborsClassifier\n",
    "from sklearn.linear_model import LogisticRegression\n",
    "from sklearn.model_selection import train_test_split\n",
    "from sklearn.ensemble import RandomForestClassifier, AdaBoostClassifier, GradientBoostingClassifier\n",
    "from sklearn.pipeline import Pipeline\n",
    "from sklearn.metrics import classification_report, confusion_matrix, precision_score, accuracy_score, recall_score, f1_score, roc_curve, auc\n",
    "from sklearn.preprocessing import OneHotEncoder\n",
    "from sklearn.metrics import plot_confusion_matrix\n",
    "from sklearn.naive_bayes import GaussianNB, MultinomialNB\n",
    "from sklearn.tree import DecisionTreeClassifier\n",
    "import xgboost"
   ]
  },
  {
   "cell_type": "code",
   "execution_count": 2,
   "metadata": {},
   "outputs": [],
   "source": [
    "# Setting the display defaults\n",
    "pd.set_option('display.max_columns', 0)\n",
    "# pd.set_option('display.max_rows',)\n",
    "\n",
    "# Turning off scientific notation in pandas\n",
    "pd.set_option('display.float_format', lambda x: '%.3f' % x)"
   ]
  },
  {
   "cell_type": "code",
   "execution_count": 3,
   "metadata": {
    "scrolled": false
   },
   "outputs": [
    {
     "data": {
      "text/html": [
       "<div>\n",
       "<style scoped>\n",
       "    .dataframe tbody tr th:only-of-type {\n",
       "        vertical-align: middle;\n",
       "    }\n",
       "\n",
       "    .dataframe tbody tr th {\n",
       "        vertical-align: top;\n",
       "    }\n",
       "\n",
       "    .dataframe thead th {\n",
       "        text-align: right;\n",
       "    }\n",
       "</style>\n",
       "<table border=\"1\" class=\"dataframe\">\n",
       "  <thead>\n",
       "    <tr style=\"text-align: right;\">\n",
       "      <th></th>\n",
       "      <th>region</th>\n",
       "      <th>stateNumberCode</th>\n",
       "      <th>state</th>\n",
       "      <th>countyCode</th>\n",
       "      <th>county</th>\n",
       "      <th>programArea</th>\n",
       "      <th>projectIdentifier</th>\n",
       "      <th>projectType</th>\n",
       "      <th>projectTitle</th>\n",
       "      <th>projectCounties</th>\n",
       "      <th>numberOfProperties</th>\n",
       "      <th>numberOfFinalProperties</th>\n",
       "      <th>status</th>\n",
       "      <th>subgrantee</th>\n",
       "      <th>costSharePercentage</th>\n",
       "      <th>projectAmount</th>\n",
       "      <th>federalShareObligated</th>\n",
       "      <th>programFy</th>\n",
       "      <th>dateInitiallyApproved</th>\n",
       "      <th>dateApproved</th>\n",
       "      <th>dateClosed</th>\n",
       "      <th>granteeTribalIndicator</th>\n",
       "      <th>grantee</th>\n",
       "      <th>disasterNumber</th>\n",
       "      <th>benefitCostRatio</th>\n",
       "      <th>netValueBenefits</th>\n",
       "      <th>subgranteeTribalIndicator</th>\n",
       "      <th>hash</th>\n",
       "      <th>lastRefresh</th>\n",
       "      <th>id</th>\n",
       "    </tr>\n",
       "  </thead>\n",
       "  <tbody>\n",
       "    <tr>\n",
       "      <td>0</td>\n",
       "      <td>6</td>\n",
       "      <td>48</td>\n",
       "      <td>Texas</td>\n",
       "      <td>167.000</td>\n",
       "      <td>Galveston</td>\n",
       "      <td>HMGP</td>\n",
       "      <td>DR-1999-0061-R</td>\n",
       "      <td>400.1: Utility Protective Measures (Electric, ...</td>\n",
       "      <td>UTMB Elevation of Electrical Services Bldg 9</td>\n",
       "      <td>GALVESTON</td>\n",
       "      <td>0</td>\n",
       "      <td>0</td>\n",
       "      <td>Closed</td>\n",
       "      <td>UNIVERSITY OF TEXAS MEDICAL BRANCH</td>\n",
       "      <td>0.750</td>\n",
       "      <td>402910.000</td>\n",
       "      <td>302181.820</td>\n",
       "      <td>2011</td>\n",
       "      <td>2013-12-10T05:00:00.000Z</td>\n",
       "      <td>2020-02-06T05:00:00.000Z</td>\n",
       "      <td>2020-02-06T05:00:00.000Z</td>\n",
       "      <td>0.000</td>\n",
       "      <td>Statewide</td>\n",
       "      <td>1999.000</td>\n",
       "      <td>4.041</td>\n",
       "      <td>2969310.000</td>\n",
       "      <td>0.000</td>\n",
       "      <td>a959dc8cb69df0bd7f236b2021101501</td>\n",
       "      <td>2020-09-17T18:15:38.772Z</td>\n",
       "      <td>5f63a7ca31a8c6681c9dfd79</td>\n",
       "    </tr>\n",
       "    <tr>\n",
       "      <td>1</td>\n",
       "      <td>5</td>\n",
       "      <td>18</td>\n",
       "      <td>Indiana</td>\n",
       "      <td>21.000</td>\n",
       "      <td>Clay</td>\n",
       "      <td>HMGP</td>\n",
       "      <td>DR-1997-0014-R</td>\n",
       "      <td>200.1: Acquisition of Private Real Property (S...</td>\n",
       "      <td>City of Brazil Phase 2</td>\n",
       "      <td>CLAY</td>\n",
       "      <td>13</td>\n",
       "      <td>6</td>\n",
       "      <td>Closed</td>\n",
       "      <td>Brazil</td>\n",
       "      <td>0.620</td>\n",
       "      <td>366071.000</td>\n",
       "      <td>227383.000</td>\n",
       "      <td>2011</td>\n",
       "      <td>2013-04-09T04:00:00.000Z</td>\n",
       "      <td>2019-11-25T05:00:00.000Z</td>\n",
       "      <td>2019-11-25T05:00:00.000Z</td>\n",
       "      <td>0.000</td>\n",
       "      <td>Statewide</td>\n",
       "      <td>1997.000</td>\n",
       "      <td>1.357</td>\n",
       "      <td>961452.000</td>\n",
       "      <td>0.000</td>\n",
       "      <td>cb8464b16e232b502ef9c8a3d385752b</td>\n",
       "      <td>2020-09-17T18:15:38.771Z</td>\n",
       "      <td>5f63a7ca31a8c6681c9dfd81</td>\n",
       "    </tr>\n",
       "    <tr>\n",
       "      <td>2</td>\n",
       "      <td>7</td>\n",
       "      <td>19</td>\n",
       "      <td>Iowa</td>\n",
       "      <td>153.000</td>\n",
       "      <td>Polk</td>\n",
       "      <td>HMGP</td>\n",
       "      <td>DR-1998-0022-P</td>\n",
       "      <td>91.1: Local Multihazard Mitigation Plan</td>\n",
       "      <td>Polk Countywide Multi-Jurisdiction Multi-Hazar...</td>\n",
       "      <td>POLK</td>\n",
       "      <td>0</td>\n",
       "      <td>0</td>\n",
       "      <td>Closed</td>\n",
       "      <td>Polk (County)</td>\n",
       "      <td>0.750</td>\n",
       "      <td>96965.000</td>\n",
       "      <td>72724.000</td>\n",
       "      <td>2011</td>\n",
       "      <td>2012-05-10T04:00:00.000Z</td>\n",
       "      <td>2015-07-28T04:00:00.000Z</td>\n",
       "      <td>2015-07-29T04:00:00.000Z</td>\n",
       "      <td>0.000</td>\n",
       "      <td>Statewide</td>\n",
       "      <td>1998.000</td>\n",
       "      <td>0.000</td>\n",
       "      <td>0.000</td>\n",
       "      <td>0.000</td>\n",
       "      <td>bd467ece18ecc6c8a40b824175b7f029</td>\n",
       "      <td>2020-09-17T18:15:38.772Z</td>\n",
       "      <td>5f63a7ca31a8c6681c9dfd84</td>\n",
       "    </tr>\n",
       "    <tr>\n",
       "      <td>3</td>\n",
       "      <td>2</td>\n",
       "      <td>36</td>\n",
       "      <td>New York</td>\n",
       "      <td>83.000</td>\n",
       "      <td>Rensselaer</td>\n",
       "      <td>HMGP</td>\n",
       "      <td>DR-4020-0064-F</td>\n",
       "      <td>600.1: Warning Systems (as a Component of a Pl...</td>\n",
       "      <td>Canal Flood Warning System</td>\n",
       "      <td>OSWEGO; ONTARIO; SARATOGA; SCHENECTADY; SCHOHA...</td>\n",
       "      <td>0</td>\n",
       "      <td>0</td>\n",
       "      <td>Closed</td>\n",
       "      <td>THRUWY AUTH/NYS CANAL CORP</td>\n",
       "      <td>1.000</td>\n",
       "      <td>5932500.000</td>\n",
       "      <td>5932500.000</td>\n",
       "      <td>2011</td>\n",
       "      <td>2013-11-12T05:00:00.000Z</td>\n",
       "      <td>2014-11-07T05:00:00.000Z</td>\n",
       "      <td>2018-01-24T05:00:00.000Z</td>\n",
       "      <td>0.000</td>\n",
       "      <td>Statewide</td>\n",
       "      <td>4020.000</td>\n",
       "      <td>0.000</td>\n",
       "      <td>0.000</td>\n",
       "      <td>0.000</td>\n",
       "      <td>ab6774d20b7cd64215ded6135377cc1e</td>\n",
       "      <td>2021-01-19T17:38:38.392Z</td>\n",
       "      <td>5f63a7ca31a8c6681c9dfd87</td>\n",
       "    </tr>\n",
       "    <tr>\n",
       "      <td>4</td>\n",
       "      <td>7</td>\n",
       "      <td>19</td>\n",
       "      <td>Iowa</td>\n",
       "      <td>141.000</td>\n",
       "      <td>O'Brien</td>\n",
       "      <td>HMGP</td>\n",
       "      <td>DR-1998-0013-F</td>\n",
       "      <td>600.1: Warning Systems (as a Component of a Pl...</td>\n",
       "      <td>Sheldon Outdoor Warning Sirens Project</td>\n",
       "      <td>O'BRIEN</td>\n",
       "      <td>0</td>\n",
       "      <td>0</td>\n",
       "      <td>Closed</td>\n",
       "      <td>Sheldon</td>\n",
       "      <td>0.750</td>\n",
       "      <td>34245.000</td>\n",
       "      <td>25683.000</td>\n",
       "      <td>2011</td>\n",
       "      <td>2012-05-03T04:00:00.000Z</td>\n",
       "      <td>2012-05-03T04:00:00.000Z</td>\n",
       "      <td>2013-09-26T04:00:00.000Z</td>\n",
       "      <td>0.000</td>\n",
       "      <td>Statewide</td>\n",
       "      <td>1998.000</td>\n",
       "      <td>0.000</td>\n",
       "      <td>0.000</td>\n",
       "      <td>0.000</td>\n",
       "      <td>62fff845e7929eb2587b530b69ae2f93</td>\n",
       "      <td>2020-09-17T18:15:38.772Z</td>\n",
       "      <td>5f63a7ca31a8c6681c9dfd88</td>\n",
       "    </tr>\n",
       "  </tbody>\n",
       "</table>\n",
       "</div>"
      ],
      "text/plain": [
       "   region  stateNumberCode  ...               lastRefresh                        id\n",
       "0       6               48  ...  2020-09-17T18:15:38.772Z  5f63a7ca31a8c6681c9dfd79\n",
       "1       5               18  ...  2020-09-17T18:15:38.771Z  5f63a7ca31a8c6681c9dfd81\n",
       "2       7               19  ...  2020-09-17T18:15:38.772Z  5f63a7ca31a8c6681c9dfd84\n",
       "3       2               36  ...  2021-01-19T17:38:38.392Z  5f63a7ca31a8c6681c9dfd87\n",
       "4       7               19  ...  2020-09-17T18:15:38.772Z  5f63a7ca31a8c6681c9dfd88\n",
       "\n",
       "[5 rows x 30 columns]"
      ]
     },
     "execution_count": 3,
     "metadata": {},
     "output_type": "execute_result"
    }
   ],
   "source": [
    "#Import data and see the headers\n",
    "df = pd.read_csv(r\"HazardMitigationAssistanceProjects - HazardMitigationAssistanceProjects.csv\")\n",
    "df.head()"
   ]
  },
  {
   "cell_type": "code",
   "execution_count": 4,
   "metadata": {},
   "outputs": [
    {
     "data": {
      "text/plain": [
       "(29628, 30)"
      ]
     },
     "execution_count": 4,
     "metadata": {},
     "output_type": "execute_result"
    }
   ],
   "source": [
    "# How big is this dataset?\n",
    "df.shape"
   ]
  },
  {
   "cell_type": "code",
   "execution_count": 5,
   "metadata": {
    "scrolled": true
   },
   "outputs": [
    {
     "name": "stdout",
     "output_type": "stream",
     "text": [
      "<class 'pandas.core.frame.DataFrame'>\n",
      "RangeIndex: 29628 entries, 0 to 29627\n",
      "Data columns (total 30 columns):\n",
      "region                       29628 non-null int64\n",
      "stateNumberCode              29628 non-null int64\n",
      "state                        29628 non-null object\n",
      "countyCode                   27586 non-null float64\n",
      "county                       27586 non-null object\n",
      "programArea                  29628 non-null object\n",
      "projectIdentifier            29628 non-null object\n",
      "projectType                  29301 non-null object\n",
      "projectTitle                 29450 non-null object\n",
      "projectCounties              27859 non-null object\n",
      "numberOfProperties           29628 non-null int64\n",
      "numberOfFinalProperties      29628 non-null int64\n",
      "status                       29628 non-null object\n",
      "subgrantee                   29133 non-null object\n",
      "costSharePercentage          29608 non-null float64\n",
      "projectAmount                29608 non-null float64\n",
      "federalShareObligated        29628 non-null float64\n",
      "programFy                    29628 non-null int64\n",
      "dateInitiallyApproved        22686 non-null object\n",
      "dateApproved                 29347 non-null object\n",
      "dateClosed                   20393 non-null object\n",
      "granteeTribalIndicator       22692 non-null float64\n",
      "grantee                      22692 non-null object\n",
      "disasterNumber               22942 non-null float64\n",
      "benefitCostRatio             29628 non-null float64\n",
      "netValueBenefits             24707 non-null float64\n",
      "subgranteeTribalIndicator    22692 non-null float64\n",
      "hash                         29628 non-null object\n",
      "lastRefresh                  29628 non-null object\n",
      "id                           29628 non-null object\n",
      "dtypes: float64(9), int64(5), object(16)\n",
      "memory usage: 6.8+ MB\n"
     ]
    }
   ],
   "source": [
    "# Looking to make sure out df is the correct datatypes\n",
    "df.info()"
   ]
  },
  {
   "cell_type": "code",
   "execution_count": 6,
   "metadata": {
    "scrolled": true
   },
   "outputs": [
    {
     "name": "stdout",
     "output_type": "stream",
     "text": [
      "<class 'pandas.core.frame.DataFrame'>\n",
      "RangeIndex: 29628 entries, 0 to 29627\n",
      "Data columns (total 8 columns):\n",
      "region                    29628 non-null int64\n",
      "stateNumberCode           29628 non-null int64\n",
      "programArea               29628 non-null object\n",
      "projectAmount             29608 non-null float64\n",
      "programFy                 29628 non-null int64\n",
      "granteeTribalIndicator    22692 non-null float64\n",
      "benefitCostRatio          29628 non-null float64\n",
      "netValueBenefits          24707 non-null float64\n",
      "dtypes: float64(4), int64(3), object(1)\n",
      "memory usage: 1.8+ MB\n"
     ]
    }
   ],
   "source": [
    "df.drop(axis=1, columns=['subgranteeTribalIndicator', 'lastRefresh', \n",
    "                         'dateInitiallyApproved', 'dateApproved', \n",
    "                         'dateClosed', 'projectTitle', 'numberOfFinalProperties', 'subgrantee', \n",
    "                         'projectIdentifier', 'projectCounties', 'numberOfProperties',\n",
    "                        'status', 'costSharePercentage', 'federalShareObligated', 'grantee', \n",
    "                         'disasterNumber', 'hash', 'id', \n",
    "                         'state','county', 'countyCode', 'projectType'], inplace=True)\n",
    "df.info()"
   ]
  },
  {
   "cell_type": "code",
   "execution_count": 7,
   "metadata": {
    "scrolled": false
   },
   "outputs": [
    {
     "data": {
      "text/html": [
       "<div>\n",
       "<style scoped>\n",
       "    .dataframe tbody tr th:only-of-type {\n",
       "        vertical-align: middle;\n",
       "    }\n",
       "\n",
       "    .dataframe tbody tr th {\n",
       "        vertical-align: top;\n",
       "    }\n",
       "\n",
       "    .dataframe thead th {\n",
       "        text-align: right;\n",
       "    }\n",
       "</style>\n",
       "<table border=\"1\" class=\"dataframe\">\n",
       "  <thead>\n",
       "    <tr style=\"text-align: right;\">\n",
       "      <th></th>\n",
       "      <th>region</th>\n",
       "      <th>stateNumberCode</th>\n",
       "      <th>projectAmount</th>\n",
       "      <th>programFy</th>\n",
       "      <th>granteeTribalIndicator</th>\n",
       "      <th>benefitCostRatio</th>\n",
       "      <th>netValueBenefits</th>\n",
       "    </tr>\n",
       "  </thead>\n",
       "  <tbody>\n",
       "    <tr>\n",
       "      <td>count</td>\n",
       "      <td>29628.000</td>\n",
       "      <td>29628.000</td>\n",
       "      <td>29608.000</td>\n",
       "      <td>29628.000</td>\n",
       "      <td>22692.000</td>\n",
       "      <td>29628.000</td>\n",
       "      <td>24707.000</td>\n",
       "    </tr>\n",
       "    <tr>\n",
       "      <td>mean</td>\n",
       "      <td>5.170</td>\n",
       "      <td>27.841</td>\n",
       "      <td>815798.371</td>\n",
       "      <td>2006.716</td>\n",
       "      <td>0.012</td>\n",
       "      <td>171.556</td>\n",
       "      <td>9907805.571</td>\n",
       "    </tr>\n",
       "    <tr>\n",
       "      <td>std</td>\n",
       "      <td>2.420</td>\n",
       "      <td>17.182</td>\n",
       "      <td>8021291.971</td>\n",
       "      <td>7.576</td>\n",
       "      <td>0.107</td>\n",
       "      <td>20368.674</td>\n",
       "      <td>808951961.855</td>\n",
       "    </tr>\n",
       "    <tr>\n",
       "      <td>min</td>\n",
       "      <td>1.000</td>\n",
       "      <td>1.000</td>\n",
       "      <td>-1624776.000</td>\n",
       "      <td>1989.000</td>\n",
       "      <td>0.000</td>\n",
       "      <td>0.000</td>\n",
       "      <td>0.000</td>\n",
       "    </tr>\n",
       "    <tr>\n",
       "      <td>25%</td>\n",
       "      <td>4.000</td>\n",
       "      <td>12.000</td>\n",
       "      <td>37054.750</td>\n",
       "      <td>2001.000</td>\n",
       "      <td>0.000</td>\n",
       "      <td>0.000</td>\n",
       "      <td>0.000</td>\n",
       "    </tr>\n",
       "    <tr>\n",
       "      <td>50%</td>\n",
       "      <td>5.000</td>\n",
       "      <td>27.000</td>\n",
       "      <td>114895.500</td>\n",
       "      <td>2008.000</td>\n",
       "      <td>0.000</td>\n",
       "      <td>0.847</td>\n",
       "      <td>103985.000</td>\n",
       "    </tr>\n",
       "    <tr>\n",
       "      <td>75%</td>\n",
       "      <td>7.000</td>\n",
       "      <td>40.000</td>\n",
       "      <td>419440.250</td>\n",
       "      <td>2013.000</td>\n",
       "      <td>0.000</td>\n",
       "      <td>1.666</td>\n",
       "      <td>950061.000</td>\n",
       "    </tr>\n",
       "    <tr>\n",
       "      <td>max</td>\n",
       "      <td>10.000</td>\n",
       "      <td>78.000</td>\n",
       "      <td>729000000.000</td>\n",
       "      <td>2020.000</td>\n",
       "      <td>1.000</td>\n",
       "      <td>2479069.620</td>\n",
       "      <td>89843962103.000</td>\n",
       "    </tr>\n",
       "  </tbody>\n",
       "</table>\n",
       "</div>"
      ],
      "text/plain": [
       "         region  stateNumberCode  ...  benefitCostRatio  netValueBenefits\n",
       "count 29628.000        29628.000  ...         29628.000         24707.000\n",
       "mean      5.170           27.841  ...           171.556       9907805.571\n",
       "std       2.420           17.182  ...         20368.674     808951961.855\n",
       "min       1.000            1.000  ...             0.000             0.000\n",
       "25%       4.000           12.000  ...             0.000             0.000\n",
       "50%       5.000           27.000  ...             0.847        103985.000\n",
       "75%       7.000           40.000  ...             1.666        950061.000\n",
       "max      10.000           78.000  ...       2479069.620   89843962103.000\n",
       "\n",
       "[8 rows x 7 columns]"
      ]
     },
     "execution_count": 7,
     "metadata": {},
     "output_type": "execute_result"
    }
   ],
   "source": [
    "df.describe()"
   ]
  },
  {
   "cell_type": "code",
   "execution_count": 8,
   "metadata": {},
   "outputs": [
    {
     "data": {
      "text/plain": [
       "0        1\n",
       "1        1\n",
       "2        0\n",
       "3        0\n",
       "4        0\n",
       "        ..\n",
       "29623    1\n",
       "29624    0\n",
       "29625    1\n",
       "29626    0\n",
       "29627    0\n",
       "Name: Positive_ROI, Length: 29628, dtype: int32"
      ]
     },
     "execution_count": 8,
     "metadata": {},
     "output_type": "execute_result"
    }
   ],
   "source": [
    "# Bining the benefitCostRatio to be if above 1 or below 1 \n",
    "df['Positive_ROI']=(df['benefitCostRatio']>=1).astype(int)\n",
    "df['Positive_ROI']"
   ]
  },
  {
   "cell_type": "code",
   "execution_count": 9,
   "metadata": {
    "scrolled": true
   },
   "outputs": [
    {
     "data": {
      "text/html": [
       "<div>\n",
       "<style scoped>\n",
       "    .dataframe tbody tr th:only-of-type {\n",
       "        vertical-align: middle;\n",
       "    }\n",
       "\n",
       "    .dataframe tbody tr th {\n",
       "        vertical-align: top;\n",
       "    }\n",
       "\n",
       "    .dataframe thead th {\n",
       "        text-align: right;\n",
       "    }\n",
       "</style>\n",
       "<table border=\"1\" class=\"dataframe\">\n",
       "  <thead>\n",
       "    <tr style=\"text-align: right;\">\n",
       "      <th></th>\n",
       "      <th>region</th>\n",
       "      <th>stateNumberCode</th>\n",
       "      <th>programArea</th>\n",
       "      <th>projectAmount</th>\n",
       "      <th>programFy</th>\n",
       "      <th>granteeTribalIndicator</th>\n",
       "      <th>benefitCostRatio</th>\n",
       "      <th>netValueBenefits</th>\n",
       "      <th>Positive_ROI</th>\n",
       "    </tr>\n",
       "  </thead>\n",
       "  <tbody>\n",
       "    <tr>\n",
       "      <td>0</td>\n",
       "      <td>6</td>\n",
       "      <td>48</td>\n",
       "      <td>HMGP</td>\n",
       "      <td>402910.000</td>\n",
       "      <td>2011</td>\n",
       "      <td>0.000</td>\n",
       "      <td>4.041</td>\n",
       "      <td>2969310.000</td>\n",
       "      <td>1</td>\n",
       "    </tr>\n",
       "    <tr>\n",
       "      <td>1</td>\n",
       "      <td>5</td>\n",
       "      <td>18</td>\n",
       "      <td>HMGP</td>\n",
       "      <td>366071.000</td>\n",
       "      <td>2011</td>\n",
       "      <td>0.000</td>\n",
       "      <td>1.357</td>\n",
       "      <td>961452.000</td>\n",
       "      <td>1</td>\n",
       "    </tr>\n",
       "    <tr>\n",
       "      <td>2</td>\n",
       "      <td>7</td>\n",
       "      <td>19</td>\n",
       "      <td>HMGP</td>\n",
       "      <td>96965.000</td>\n",
       "      <td>2011</td>\n",
       "      <td>0.000</td>\n",
       "      <td>0.000</td>\n",
       "      <td>0.000</td>\n",
       "      <td>0</td>\n",
       "    </tr>\n",
       "    <tr>\n",
       "      <td>3</td>\n",
       "      <td>2</td>\n",
       "      <td>36</td>\n",
       "      <td>HMGP</td>\n",
       "      <td>5932500.000</td>\n",
       "      <td>2011</td>\n",
       "      <td>0.000</td>\n",
       "      <td>0.000</td>\n",
       "      <td>0.000</td>\n",
       "      <td>0</td>\n",
       "    </tr>\n",
       "    <tr>\n",
       "      <td>4</td>\n",
       "      <td>7</td>\n",
       "      <td>19</td>\n",
       "      <td>HMGP</td>\n",
       "      <td>34245.000</td>\n",
       "      <td>2011</td>\n",
       "      <td>0.000</td>\n",
       "      <td>0.000</td>\n",
       "      <td>0.000</td>\n",
       "      <td>0</td>\n",
       "    </tr>\n",
       "  </tbody>\n",
       "</table>\n",
       "</div>"
      ],
      "text/plain": [
       "   region  stateNumberCode  ... netValueBenefits  Positive_ROI\n",
       "0       6               48  ...      2969310.000             1\n",
       "1       5               18  ...       961452.000             1\n",
       "2       7               19  ...            0.000             0\n",
       "3       2               36  ...            0.000             0\n",
       "4       7               19  ...            0.000             0\n",
       "\n",
       "[5 rows x 9 columns]"
      ]
     },
     "execution_count": 9,
     "metadata": {},
     "output_type": "execute_result"
    }
   ],
   "source": [
    "df.head()\n",
    "# Now we have the Positive_ROI column"
   ]
  },
  {
   "cell_type": "code",
   "execution_count": 10,
   "metadata": {},
   "outputs": [
    {
     "data": {
      "text/plain": [
       "0   0.506\n",
       "1   0.494\n",
       "Name: Positive_ROI, dtype: float64"
      ]
     },
     "execution_count": 10,
     "metadata": {},
     "output_type": "execute_result"
    }
   ],
   "source": [
    "df['Positive_ROI'].value_counts(normalize=True)"
   ]
  },
  {
   "cell_type": "code",
   "execution_count": 11,
   "metadata": {},
   "outputs": [],
   "source": [
    "# Split the data into target and predictors\n",
    "#y = df['Positive_ROI']\n",
    "#X = df.drop(columns=['Positive_ROI'], axis=1)"
   ]
  },
  {
   "cell_type": "code",
   "execution_count": 12,
   "metadata": {
    "scrolled": true
   },
   "outputs": [
    {
     "data": {
      "text/plain": [
       "<matplotlib.axes._subplots.AxesSubplot at 0x2514293a470>"
      ]
     },
     "execution_count": 12,
     "metadata": {},
     "output_type": "execute_result"
    },
    {
     "data": {
      "image/png": "[encoded data removed]",
      "text/plain": [
       "<Figure size 432x288 with 1 Axes>"
      ]
     },
     "metadata": {
      "needs_background": "light"
     },
     "output_type": "display_data"
    }
   ],
   "source": [
    "sns.distplot(df['benefitCostRatio'])"
   ]
  },
  {
   "cell_type": "code",
   "execution_count": 13,
   "metadata": {
    "scrolled": false
   },
   "outputs": [
    {
     "data": {
      "text/plain": [
       "<matplotlib.axes._subplots.AxesSubplot at 0x25142a11e10>"
      ]
     },
     "execution_count": 13,
     "metadata": {},
     "output_type": "execute_result"
    },
    {
     "data": {
      "image/png": "[encoded data removed]",
      "text/plain": [
       "<Figure size 432x288 with 1 Axes>"
      ]
     },
     "metadata": {
      "needs_background": "light"
     },
     "output_type": "display_data"
    }
   ],
   "source": [
    "# Looks like projectAmount has outliers - Let's plot it\n",
    "sns.boxplot(x=df['projectAmount'])"
   ]
  },
  {
   "cell_type": "code",
   "execution_count": 14,
   "metadata": {
    "scrolled": true
   },
   "outputs": [
    {
     "data": {
      "text/plain": [
       "24154158163.54"
      ]
     },
     "execution_count": 14,
     "metadata": {},
     "output_type": "execute_result"
    }
   ],
   "source": [
    "df['projectAmount'].sum()"
   ]
  },
  {
   "cell_type": "code",
   "execution_count": 15,
   "metadata": {},
   "outputs": [
    {
     "data": {
      "text/plain": [
       "114895.5"
      ]
     },
     "execution_count": 15,
     "metadata": {},
     "output_type": "execute_result"
    }
   ],
   "source": [
    "df['projectAmount'].median()"
   ]
  },
  {
   "cell_type": "code",
   "execution_count": 16,
   "metadata": {
    "scrolled": true
   },
   "outputs": [
    {
     "data": {
      "text/plain": [
       "region                       0\n",
       "stateNumberCode              0\n",
       "programArea                  0\n",
       "projectAmount               20\n",
       "programFy                    0\n",
       "granteeTribalIndicator    6936\n",
       "benefitCostRatio             0\n",
       "netValueBenefits          4921\n",
       "Positive_ROI                 0\n",
       "dtype: int64"
      ]
     },
     "execution_count": 16,
     "metadata": {},
     "output_type": "execute_result"
    }
   ],
   "source": [
    "# Do we have nulls?\n",
    "df.isna().sum()"
   ]
  },
  {
   "cell_type": "code",
   "execution_count": 17,
   "metadata": {
    "scrolled": false
   },
   "outputs": [
    {
     "data": {
      "text/plain": [
       "40000.000      186\n",
       "50000.000      184\n",
       "100000.000     139\n",
       "20000.000      120\n",
       "25000.000      119\n",
       "              ... \n",
       "1252647.000      1\n",
       "840671.000       1\n",
       "40254.000        1\n",
       "31066.670        1\n",
       "573403.000       1\n",
       "Name: projectAmount, Length: 24108, dtype: int64"
      ]
     },
     "execution_count": 17,
     "metadata": {},
     "output_type": "execute_result"
    }
   ],
   "source": [
    "df['projectAmount'].fillna(0.0, axis = 0, inplace=True)\n",
    "df['projectAmount'].value_counts()"
   ]
  },
  {
   "cell_type": "code",
   "execution_count": 18,
   "metadata": {},
   "outputs": [
    {
     "data": {
      "text/plain": [
       "0.000          14662\n",
       "21420.000        318\n",
       "1.000            152\n",
       "276000.000        96\n",
       "175000.000        36\n",
       "               ...  \n",
       "775151.000         1\n",
       "387575.000         1\n",
       "1222617.000        1\n",
       "3624869.000        1\n",
       "16552.000          1\n",
       "Name: netValueBenefits, Length: 13097, dtype: int64"
      ]
     },
     "execution_count": 18,
     "metadata": {},
     "output_type": "execute_result"
    }
   ],
   "source": [
    "df['netValueBenefits'].fillna(0.0, axis = 0, inplace=True)\n",
    "df['netValueBenefits'].value_counts()"
   ]
  },
  {
   "cell_type": "code",
   "execution_count": 19,
   "metadata": {
    "scrolled": false
   },
   "outputs": [
    {
     "data": {
      "text/html": [
       "<div>\n",
       "<style scoped>\n",
       "    .dataframe tbody tr th:only-of-type {\n",
       "        vertical-align: middle;\n",
       "    }\n",
       "\n",
       "    .dataframe tbody tr th {\n",
       "        vertical-align: top;\n",
       "    }\n",
       "\n",
       "    .dataframe thead th {\n",
       "        text-align: right;\n",
       "    }\n",
       "</style>\n",
       "<table border=\"1\" class=\"dataframe\">\n",
       "  <thead>\n",
       "    <tr style=\"text-align: right;\">\n",
       "      <th></th>\n",
       "      <th>region</th>\n",
       "      <th>stateNumberCode</th>\n",
       "      <th>programArea</th>\n",
       "      <th>projectAmount</th>\n",
       "      <th>programFy</th>\n",
       "      <th>granteeTribalIndicator</th>\n",
       "      <th>benefitCostRatio</th>\n",
       "      <th>netValueBenefits</th>\n",
       "      <th>Positive_ROI</th>\n",
       "    </tr>\n",
       "  </thead>\n",
       "  <tbody>\n",
       "    <tr>\n",
       "      <td>3795</td>\n",
       "      <td>5</td>\n",
       "      <td>27</td>\n",
       "      <td>HMGP</td>\n",
       "      <td>-1624776.000</td>\n",
       "      <td>1997</td>\n",
       "      <td>nan</td>\n",
       "      <td>0.000</td>\n",
       "      <td>0.000</td>\n",
       "      <td>0</td>\n",
       "    </tr>\n",
       "    <tr>\n",
       "      <td>6134</td>\n",
       "      <td>1</td>\n",
       "      <td>25</td>\n",
       "      <td>HMGP</td>\n",
       "      <td>-110696.000</td>\n",
       "      <td>1991</td>\n",
       "      <td>nan</td>\n",
       "      <td>0.000</td>\n",
       "      <td>0.000</td>\n",
       "      <td>0</td>\n",
       "    </tr>\n",
       "    <tr>\n",
       "      <td>22833</td>\n",
       "      <td>5</td>\n",
       "      <td>26</td>\n",
       "      <td>HMGP</td>\n",
       "      <td>-36500.000</td>\n",
       "      <td>1998</td>\n",
       "      <td>nan</td>\n",
       "      <td>0.000</td>\n",
       "      <td>0.000</td>\n",
       "      <td>0</td>\n",
       "    </tr>\n",
       "  </tbody>\n",
       "</table>\n",
       "</div>"
      ],
      "text/plain": [
       "       region  stateNumberCode  ... netValueBenefits  Positive_ROI\n",
       "3795        5               27  ...            0.000             0\n",
       "6134        1               25  ...            0.000             0\n",
       "22833       5               26  ...            0.000             0\n",
       "\n",
       "[3 rows x 9 columns]"
      ]
     },
     "execution_count": 19,
     "metadata": {},
     "output_type": "execute_result"
    }
   ],
   "source": [
    "df[(df['projectAmount']<0)]"
   ]
  },
  {
   "cell_type": "code",
   "execution_count": 20,
   "metadata": {},
   "outputs": [],
   "source": [
    "# The outliers need to be addressed\n",
    "df = df[(df['projectAmount']>0)]"
   ]
  },
  {
   "cell_type": "code",
   "execution_count": 21,
   "metadata": {
    "scrolled": true
   },
   "outputs": [
    {
     "data": {
      "text/plain": [
       "0.000    29314\n",
       "1.000      262\n",
       "Name: granteeTribalIndicator, dtype: int64"
      ]
     },
     "execution_count": 21,
     "metadata": {},
     "output_type": "execute_result"
    }
   ],
   "source": [
    "df['granteeTribalIndicator'].fillna(0.0, axis = 0, inplace=True)\n",
    "df['granteeTribalIndicator'].value_counts()"
   ]
  },
  {
   "cell_type": "code",
   "execution_count": 22,
   "metadata": {
    "scrolled": true
   },
   "outputs": [
    {
     "data": {
      "text/plain": [
       "region                    0\n",
       "stateNumberCode           0\n",
       "programArea               0\n",
       "projectAmount             0\n",
       "programFy                 0\n",
       "granteeTribalIndicator    0\n",
       "benefitCostRatio          0\n",
       "netValueBenefits          0\n",
       "Positive_ROI              0\n",
       "dtype: int64"
      ]
     },
     "execution_count": 22,
     "metadata": {},
     "output_type": "execute_result"
    }
   ],
   "source": [
    "# Did we get all the nulls?\n",
    "df.isna().sum()"
   ]
  },
  {
   "cell_type": "code",
   "execution_count": 23,
   "metadata": {},
   "outputs": [],
   "source": [
    "df['benefitCostRatio'] = df['benefitCostRatio'].astype('int64')\n",
    "df['projectAmount'] = df['projectAmount'].astype('int64')\n",
    "df['netValueBenefits'] = df['netValueBenefits'].astype('int64')\n",
    "df['programFy'] = df['programFy'].astype('int64')\n",
    "#df['granteeTribalIndicator'] = df['granteeTribalIndicator'].astype('int64')"
   ]
  },
  {
   "cell_type": "code",
   "execution_count": 24,
   "metadata": {},
   "outputs": [
    {
     "data": {
      "text/plain": [
       "<matplotlib.axes._subplots.AxesSubplot at 0x25142b173c8>"
      ]
     },
     "execution_count": 24,
     "metadata": {},
     "output_type": "execute_result"
    },
    {
     "data": {
      "image/png": "[encoded data removed]",
      "text/plain": [
       "<Figure size 432x288 with 1 Axes>"
      ]
     },
     "metadata": {
      "needs_background": "light"
     },
     "output_type": "display_data"
    }
   ],
   "source": [
    "sns.distplot(df['benefitCostRatio'])"
   ]
  },
  {
   "cell_type": "markdown",
   "metadata": {},
   "source": [
    "## Vizualizations"
   ]
  },
  {
   "cell_type": "code",
   "execution_count": 25,
   "metadata": {},
   "outputs": [
    {
     "data": {
      "image/png": "[encoded data removed]",
      "text/plain": [
       "<Figure size 576x432 with 1 Axes>"
      ]
     },
     "metadata": {
      "needs_background": "light"
     },
     "output_type": "display_data"
    },
    {
     "data": {
      "image/png": "[encoded data removed]",
      "text/plain": [
       "<Figure size 576x432 with 1 Axes>"
      ]
     },
     "metadata": {
      "needs_background": "light"
     },
     "output_type": "display_data"
    },
    {
     "data": {
      "image/png": "[encoded data removed]",
      "text/plain": [
       "<Figure size 576x432 with 1 Axes>"
      ]
     },
     "metadata": {
      "needs_background": "light"
     },
     "output_type": "display_data"
    },
    {
     "data": {
      "image/png": "[encoded data removed]",
      "text/plain": [
       "<Figure size 576x432 with 1 Axes>"
      ]
     },
     "metadata": {
      "needs_background": "light"
     },
     "output_type": "display_data"
    },
    {
     "data": {
      "image/png": "[encoded data removed]",
      "text/plain": [
       "<Figure size 576x432 with 1 Axes>"
      ]
     },
     "metadata": {
      "needs_background": "light"
     },
     "output_type": "display_data"
    },
    {
     "data": {
      "image/png": "[encoded data removed]",
      "text/plain": [
       "<Figure size 576x432 with 1 Axes>"
      ]
     },
     "metadata": {
      "needs_background": "light"
     },
     "output_type": "display_data"
    },
    {
     "data": {
      "image/png": "[encoded data removed]",
      "text/plain": [
       "<Figure size 576x432 with 1 Axes>"
      ]
     },
     "metadata": {
      "needs_background": "light"
     },
     "output_type": "display_data"
    },
    {
     "data": {
      "image/png": "[encoded data removed]",
      "text/plain": [
       "<Figure size 576x432 with 1 Axes>"
      ]
     },
     "metadata": {
      "needs_background": "light"
     },
     "output_type": "display_data"
    },
    {
     "data": {
      "image/png": "[encoded data removed]",
      "text/plain": [
       "<Figure size 576x432 with 1 Axes>"
      ]
     },
     "metadata": {
      "needs_background": "light"
     },
     "output_type": "display_data"
    }
   ],
   "source": [
    "def scatterplot(col):\n",
    "    ax = plt.figure(figsize = (8,6))\n",
    "    ax = sns.scatterplot(x = df[col], y = df['projectAmount'])\n",
    "    ax.set_title('{} vs. Project Amount'.format(col), fontsize = 18)\n",
    "    ax.set_xlabel('{}'.format(col), fontsize = 14)\n",
    "    ax.set_ylabel('Project Amount', fontsize = 14);\n",
    "\n",
    "for col in df:\n",
    "\n",
    "    scatterplot(col)"
   ]
  },
  {
   "cell_type": "code",
   "execution_count": 26,
   "metadata": {},
   "outputs": [],
   "source": [
    "# Plotting Price with the categories:\n",
    "def categorical_plots(df):\n",
    "    for col in df.select_dtypes('category'):\n",
    "        fig, ax = plt.subplots(figsize=(10,6))\n",
    "        sns.barplot(x=col, y='projectAmount', data=df, palette=\"colorblind\")\n",
    "        ax.set_title(f\"{col} vs projectAmount\", fontsize=30)\n",
    "        plt.xticks(rotation=45)\n",
    "        plt.show()"
   ]
  },
  {
   "cell_type": "code",
   "execution_count": 27,
   "metadata": {},
   "outputs": [],
   "source": [
    "categorical_plots(df)"
   ]
  },
  {
   "cell_type": "markdown",
   "metadata": {},
   "source": [
    "As we can see from the following vizuals above SRL () are the most costly hazard mitigation area that is being spent on"
   ]
  },
  {
   "cell_type": "markdown",
   "metadata": {},
   "source": [
    "# EDA Raw Data"
   ]
  },
  {
   "cell_type": "code",
   "execution_count": 28,
   "metadata": {
    "scrolled": true
   },
   "outputs": [
    {
     "data": {
      "text/plain": [
       "4     8408\n",
       "6     4163\n",
       "5     2611\n",
       "9     2496\n",
       "7     2430\n",
       "2     2163\n",
       "3     2021\n",
       "1     1964\n",
       "8     1882\n",
       "10    1438\n",
       "Name: region, dtype: int64"
      ]
     },
     "execution_count": 28,
     "metadata": {},
     "output_type": "execute_result"
    }
   ],
   "source": [
    "df.region.value_counts()"
   ]
  },
  {
   "cell_type": "code",
   "execution_count": 29,
   "metadata": {
    "scrolled": true
   },
   "outputs": [
    {
     "name": "stdout",
     "output_type": "stream",
     "text": [
      "<class 'pandas.core.frame.DataFrame'>\n",
      "Int64Index: 29576 entries, 0 to 29627\n",
      "Data columns (total 9 columns):\n",
      "region                    29576 non-null int64\n",
      "stateNumberCode           29576 non-null int64\n",
      "programArea               29576 non-null object\n",
      "projectAmount             29576 non-null int64\n",
      "programFy                 29576 non-null int64\n",
      "granteeTribalIndicator    29576 non-null float64\n",
      "benefitCostRatio          29576 non-null int64\n",
      "netValueBenefits          29576 non-null int64\n",
      "Positive_ROI              29576 non-null int32\n",
      "dtypes: float64(1), int32(1), int64(6), object(1)\n",
      "memory usage: 2.1+ MB\n"
     ]
    }
   ],
   "source": [
    "df.info()"
   ]
  },
  {
   "cell_type": "code",
   "execution_count": 30,
   "metadata": {},
   "outputs": [
    {
     "data": {
      "text/plain": [
       "12    2633\n",
       "6     1858\n",
       "1     1646\n",
       "48    1232\n",
       "22    1155\n",
       "40    1153\n",
       "19     997\n",
       "13     940\n",
       "36     842\n",
       "28     842\n",
       "34     839\n",
       "21     735\n",
       "37     725\n",
       "46     615\n",
       "42     596\n",
       "53     590\n",
       "39     542\n",
       "29     539\n",
       "27     527\n",
       "55     522\n",
       "51     511\n",
       "38     504\n",
       "5      472\n",
       "31     456\n",
       "45     453\n",
       "50     448\n",
       "20     438\n",
       "47     434\n",
       "25     433\n",
       "26     417\n",
       "54     384\n",
       "17     372\n",
       "41     369\n",
       "72     353\n",
       "23     349\n",
       "24     339\n",
       "33     337\n",
       "8      270\n",
       "2      267\n",
       "9      265\n",
       "30     265\n",
       "18     231\n",
       "16     212\n",
       "4      162\n",
       "35     151\n",
       "10     144\n",
       "49     143\n",
       "44     132\n",
       "78     129\n",
       "15     112\n",
       "32     109\n",
       "56      85\n",
       "69      82\n",
       "66      75\n",
       "11      47\n",
       "60      45\n",
       "64      39\n",
       "68       7\n",
       "70       7\n",
       "Name: stateNumberCode, dtype: int64"
      ]
     },
     "execution_count": 30,
     "metadata": {},
     "output_type": "execute_result"
    }
   ],
   "source": [
    "df.stateNumberCode.value_counts()"
   ]
  },
  {
   "cell_type": "code",
   "execution_count": 31,
   "metadata": {
    "scrolled": true
   },
   "outputs": [
    {
     "data": {
      "text/plain": [
       "HMGP    22497\n",
       "PDM      3906\n",
       "FMA      2581\n",
       "LPDM      253\n",
       "SRL       241\n",
       "RFC        98\n",
       "Name: programArea, dtype: int64"
      ]
     },
     "execution_count": 31,
     "metadata": {},
     "output_type": "execute_result"
    }
   ],
   "source": [
    "# Very important category as it shows why the mitigation is being done\n",
    "df.programArea.value_counts()"
   ]
  },
  {
   "cell_type": "code",
   "execution_count": 32,
   "metadata": {},
   "outputs": [
    {
     "data": {
      "text/plain": [
       "Text(0.5, 1.0, 'Program Area vs. Project Amount')"
      ]
     },
     "execution_count": 32,
     "metadata": {},
     "output_type": "execute_result"
    },
    {
     "data": {
      "image/png": "[encoded data removed]",
      "text/plain": [
       "<Figure size 432x288 with 1 Axes>"
      ]
     },
     "metadata": {
      "needs_background": "light"
     },
     "output_type": "display_data"
    }
   ],
   "source": [
    "ax = sns.barplot(x=\"programArea\", y=\"projectAmount\", data=df)\n",
    "ax.set_title('Program Area vs. Project Amount', fontsize = 18)"
   ]
  },
  {
   "cell_type": "code",
   "execution_count": 33,
   "metadata": {
    "scrolled": false
   },
   "outputs": [
    {
     "data": {
      "text/plain": [
       "Text(0.5, 1.0, 'Program Area vs. Project Amount')"
      ]
     },
     "execution_count": 33,
     "metadata": {},
     "output_type": "execute_result"
    },
    {
     "data": {
      "image/png": "[encoded data removed]",
      "text/plain": [
       "<Figure size 432x288 with 1 Axes>"
      ]
     },
     "metadata": {
      "needs_background": "light"
     },
     "output_type": "display_data"
    }
   ],
   "source": [
    "# Add swarmplot on top -its taking a lot of time?\n",
    "ax = sns.barplot(x=\"programArea\", y=\"projectAmount\", data=df, estimator=np.median)\n",
    "sns.stripplot(x=\"programArea\", y=\"projectAmount\", data=df)\n",
    "ax.set_title('Program Area vs. Project Amount', fontsize = 18)"
   ]
  },
  {
   "cell_type": "code",
   "execution_count": 34,
   "metadata": {},
   "outputs": [],
   "source": [
    "# Analysis for visual: "
   ]
  },
  {
   "cell_type": "code",
   "execution_count": 35,
   "metadata": {},
   "outputs": [
    {
     "data": {
      "text/plain": [
       "40000      188\n",
       "50000      185\n",
       "100000     140\n",
       "25000      120\n",
       "20000      120\n",
       "          ... \n",
       "373756       1\n",
       "140286       1\n",
       "3200000      1\n",
       "23553        1\n",
       "65536        1\n",
       "Name: projectAmount, Length: 23949, dtype: int64"
      ]
     },
     "execution_count": 35,
     "metadata": {},
     "output_type": "execute_result"
    }
   ],
   "source": [
    "df.projectAmount.value_counts()"
   ]
  },
  {
   "cell_type": "code",
   "execution_count": 36,
   "metadata": {
    "scrolled": true
   },
   "outputs": [
    {
     "data": {
      "text/plain": [
       "2011    2311\n",
       "2017    1949\n",
       "2005    1860\n",
       "2008    1681\n",
       "2013    1370\n",
       "1998    1290\n",
       "2009    1285\n",
       "2010    1244\n",
       "2007    1187\n",
       "2004    1182\n",
       "2016    1116\n",
       "2001    1059\n",
       "2003     976\n",
       "2014     972\n",
       "2018     937\n",
       "2015     903\n",
       "1997     903\n",
       "1994     900\n",
       "1996     846\n",
       "2002     817\n",
       "2012     662\n",
       "1999     636\n",
       "2000     597\n",
       "2006     595\n",
       "2019     593\n",
       "1993     420\n",
       "1992     369\n",
       "1995     358\n",
       "1990     241\n",
       "1991     172\n",
       "1989     132\n",
       "2020      13\n",
       "Name: programFy, dtype: int64"
      ]
     },
     "execution_count": 36,
     "metadata": {},
     "output_type": "execute_result"
    }
   ],
   "source": [
    "df.programFy.value_counts()"
   ]
  },
  {
   "cell_type": "code",
   "execution_count": 37,
   "metadata": {
    "scrolled": true
   },
   "outputs": [
    {
     "data": {
      "text/plain": [
       "0       14965\n",
       "1        8400\n",
       "2        2109\n",
       "3        1157\n",
       "4         680\n",
       "        ...  \n",
       "56          1\n",
       "1080        1\n",
       "105         1\n",
       "121         1\n",
       "55          1\n",
       "Name: benefitCostRatio, Length: 120, dtype: int64"
      ]
     },
     "execution_count": 37,
     "metadata": {},
     "output_type": "execute_result"
    }
   ],
   "source": [
    "df.benefitCostRatio.value_counts()"
   ]
  },
  {
   "cell_type": "code",
   "execution_count": 38,
   "metadata": {},
   "outputs": [
    {
     "data": {
      "text/plain": [
       "0          14641\n",
       "21420        318\n",
       "1            152\n",
       "276000        96\n",
       "552000        36\n",
       "           ...  \n",
       "2159860        1\n",
       "54512          1\n",
       "7570666        1\n",
       "683239         1\n",
       "362649         1\n",
       "Name: netValueBenefits, Length: 13068, dtype: int64"
      ]
     },
     "execution_count": 38,
     "metadata": {},
     "output_type": "execute_result"
    }
   ],
   "source": [
    "df.netValueBenefits.value_counts()"
   ]
  },
  {
   "cell_type": "code",
   "execution_count": 39,
   "metadata": {},
   "outputs": [
    {
     "name": "stdout",
     "output_type": "stream",
     "text": [
      "<class 'pandas.core.frame.DataFrame'>\n",
      "Int64Index: 29576 entries, 0 to 29627\n",
      "Data columns (total 9 columns):\n",
      "region                    29576 non-null int64\n",
      "stateNumberCode           29576 non-null int64\n",
      "programArea               29576 non-null object\n",
      "projectAmount             29576 non-null int64\n",
      "programFy                 29576 non-null int64\n",
      "granteeTribalIndicator    29576 non-null float64\n",
      "benefitCostRatio          29576 non-null int64\n",
      "netValueBenefits          29576 non-null int64\n",
      "Positive_ROI              29576 non-null int32\n",
      "dtypes: float64(1), int32(1), int64(6), object(1)\n",
      "memory usage: 3.4+ MB\n"
     ]
    }
   ],
   "source": [
    "df.info()"
   ]
  },
  {
   "cell_type": "code",
   "execution_count": 40,
   "metadata": {
    "scrolled": false
   },
   "outputs": [
    {
     "name": "stdout",
     "output_type": "stream",
     "text": [
      "region 10\n",
      "stateNumberCode 59\n",
      "programArea 6\n",
      "projectAmount 23949\n",
      "programFy 32\n",
      "granteeTribalIndicator 2\n",
      "benefitCostRatio 120\n",
      "netValueBenefits 13068\n",
      "Positive_ROI 2\n"
     ]
    }
   ],
   "source": [
    "for col in df.columns:\n",
    "    print(col, df[col].nunique())"
   ]
  },
  {
   "cell_type": "code",
   "execution_count": 41,
   "metadata": {
    "scrolled": true
   },
   "outputs": [
    {
     "data": {
      "text/plain": [
       "<matplotlib.axes._subplots.AxesSubplot at 0x25143169048>"
      ]
     },
     "execution_count": 41,
     "metadata": {},
     "output_type": "execute_result"
    },
    {
     "data": {
      "image/png": "[encoded data removed]",
      "text/plain": [
       "<Figure size 432x288 with 1 Axes>"
      ]
     },
     "metadata": {
      "needs_background": "light"
     },
     "output_type": "display_data"
    }
   ],
   "source": [
    "sns.distplot(df['benefitCostRatio'])"
   ]
  },
  {
   "cell_type": "markdown",
   "metadata": {},
   "source": [
    "**From the distplot we can see that there is a large skew that needs to be addressed. We will further remove the extreme outliers in projectAmount.**"
   ]
  },
  {
   "cell_type": "code",
   "execution_count": 42,
   "metadata": {},
   "outputs": [
    {
     "data": {
      "text/plain": [
       "(29576, 9)"
      ]
     },
     "execution_count": 42,
     "metadata": {},
     "output_type": "execute_result"
    }
   ],
   "source": [
    "df.shape"
   ]
  },
  {
   "cell_type": "code",
   "execution_count": 43,
   "metadata": {},
   "outputs": [
    {
     "data": {
      "text/plain": [
       "Text(0.5, 1.0, 'Program Area vs. Project Amount')"
      ]
     },
     "execution_count": 43,
     "metadata": {},
     "output_type": "execute_result"
    },
    {
     "data": {
      "image/png": "[encoded data removed]",
      "text/plain": [
       "<Figure size 432x288 with 1 Axes>"
      ]
     },
     "metadata": {
      "needs_background": "light"
     },
     "output_type": "display_data"
    }
   ],
   "source": [
    "ax = sns.barplot(x=\"programArea\", y=\"projectAmount\", data=df, estimator=np.median)\n",
    "ax.set_title('Program Area vs. Project Amount', fontsize = 18)"
   ]
  },
  {
   "cell_type": "code",
   "execution_count": 44,
   "metadata": {},
   "outputs": [
    {
     "data": {
      "text/plain": [
       "Text(0.5, 1.0, 'Tribal Projects Program Amount')"
      ]
     },
     "execution_count": 44,
     "metadata": {},
     "output_type": "execute_result"
    },
    {
     "data": {
      "image/png": "[encoded data removed]",
      "text/plain": [
       "<Figure size 432x288 with 1 Axes>"
      ]
     },
     "metadata": {
      "needs_background": "light"
     },
     "output_type": "display_data"
    }
   ],
   "source": [
    "ax = sns.barplot(x=\"granteeTribalIndicator\", y=\"projectAmount\", data=df, estimator=np.median)\n",
    "ax.set_title('Tribal Projects Program Amount', fontsize = 18)"
   ]
  },
  {
   "cell_type": "code",
   "execution_count": 45,
   "metadata": {},
   "outputs": [],
   "source": [
    "df['region'] = df['region'].astype('category') \n",
    "df['stateNumberCode'] = df['stateNumberCode'].astype('category') \n",
    "df['programFy'] = df['programFy'].astype('category')"
   ]
  },
  {
   "cell_type": "code",
   "execution_count": 46,
   "metadata": {
    "scrolled": true
   },
   "outputs": [
    {
     "data": {
      "text/html": [
       "<div>\n",
       "<style scoped>\n",
       "    .dataframe tbody tr th:only-of-type {\n",
       "        vertical-align: middle;\n",
       "    }\n",
       "\n",
       "    .dataframe tbody tr th {\n",
       "        vertical-align: top;\n",
       "    }\n",
       "\n",
       "    .dataframe thead th {\n",
       "        text-align: right;\n",
       "    }\n",
       "</style>\n",
       "<table border=\"1\" class=\"dataframe\">\n",
       "  <thead>\n",
       "    <tr style=\"text-align: right;\">\n",
       "      <th></th>\n",
       "      <th>projectAmount</th>\n",
       "      <th>granteeTribalIndicator</th>\n",
       "      <th>benefitCostRatio</th>\n",
       "      <th>netValueBenefits</th>\n",
       "      <th>Positive_ROI</th>\n",
       "      <th>region_1</th>\n",
       "      <th>region_2</th>\n",
       "      <th>region_3</th>\n",
       "      <th>region_4</th>\n",
       "      <th>region_5</th>\n",
       "      <th>region_6</th>\n",
       "      <th>region_7</th>\n",
       "      <th>region_8</th>\n",
       "      <th>region_9</th>\n",
       "      <th>region_10</th>\n",
       "      <th>stateNumberCode_1</th>\n",
       "      <th>stateNumberCode_2</th>\n",
       "      <th>stateNumberCode_4</th>\n",
       "      <th>stateNumberCode_5</th>\n",
       "      <th>stateNumberCode_6</th>\n",
       "      <th>stateNumberCode_8</th>\n",
       "      <th>stateNumberCode_9</th>\n",
       "      <th>stateNumberCode_10</th>\n",
       "      <th>stateNumberCode_11</th>\n",
       "      <th>stateNumberCode_12</th>\n",
       "      <th>stateNumberCode_13</th>\n",
       "      <th>stateNumberCode_15</th>\n",
       "      <th>stateNumberCode_16</th>\n",
       "      <th>stateNumberCode_17</th>\n",
       "      <th>stateNumberCode_18</th>\n",
       "      <th>stateNumberCode_19</th>\n",
       "      <th>stateNumberCode_20</th>\n",
       "      <th>stateNumberCode_21</th>\n",
       "      <th>stateNumberCode_22</th>\n",
       "      <th>stateNumberCode_23</th>\n",
       "      <th>stateNumberCode_24</th>\n",
       "      <th>stateNumberCode_25</th>\n",
       "      <th>stateNumberCode_26</th>\n",
       "      <th>stateNumberCode_27</th>\n",
       "      <th>stateNumberCode_28</th>\n",
       "      <th>...</th>\n",
       "      <th>stateNumberCode_72</th>\n",
       "      <th>stateNumberCode_78</th>\n",
       "      <th>programArea_FMA</th>\n",
       "      <th>programArea_HMGP</th>\n",
       "      <th>programArea_LPDM</th>\n",
       "      <th>programArea_PDM</th>\n",
       "      <th>programArea_RFC</th>\n",
       "      <th>programArea_SRL</th>\n",
       "      <th>programFy_1989</th>\n",
       "      <th>programFy_1990</th>\n",
       "      <th>programFy_1991</th>\n",
       "      <th>programFy_1992</th>\n",
       "      <th>programFy_1993</th>\n",
       "      <th>programFy_1994</th>\n",
       "      <th>programFy_1995</th>\n",
       "      <th>programFy_1996</th>\n",
       "      <th>programFy_1997</th>\n",
       "      <th>programFy_1998</th>\n",
       "      <th>programFy_1999</th>\n",
       "      <th>programFy_2000</th>\n",
       "      <th>programFy_2001</th>\n",
       "      <th>programFy_2002</th>\n",
       "      <th>programFy_2003</th>\n",
       "      <th>programFy_2004</th>\n",
       "      <th>programFy_2005</th>\n",
       "      <th>programFy_2006</th>\n",
       "      <th>programFy_2007</th>\n",
       "      <th>programFy_2008</th>\n",
       "      <th>programFy_2009</th>\n",
       "      <th>programFy_2010</th>\n",
       "      <th>programFy_2011</th>\n",
       "      <th>programFy_2012</th>\n",
       "      <th>programFy_2013</th>\n",
       "      <th>programFy_2014</th>\n",
       "      <th>programFy_2015</th>\n",
       "      <th>programFy_2016</th>\n",
       "      <th>programFy_2017</th>\n",
       "      <th>programFy_2018</th>\n",
       "      <th>programFy_2019</th>\n",
       "      <th>programFy_2020</th>\n",
       "    </tr>\n",
       "  </thead>\n",
       "  <tbody>\n",
       "    <tr>\n",
       "      <td>0</td>\n",
       "      <td>402910</td>\n",
       "      <td>0.000</td>\n",
       "      <td>4</td>\n",
       "      <td>2969310</td>\n",
       "      <td>1</td>\n",
       "      <td>0</td>\n",
       "      <td>0</td>\n",
       "      <td>0</td>\n",
       "      <td>0</td>\n",
       "      <td>0</td>\n",
       "      <td>1</td>\n",
       "      <td>0</td>\n",
       "      <td>0</td>\n",
       "      <td>0</td>\n",
       "      <td>0</td>\n",
       "      <td>0</td>\n",
       "      <td>0</td>\n",
       "      <td>0</td>\n",
       "      <td>0</td>\n",
       "      <td>0</td>\n",
       "      <td>0</td>\n",
       "      <td>0</td>\n",
       "      <td>0</td>\n",
       "      <td>0</td>\n",
       "      <td>0</td>\n",
       "      <td>0</td>\n",
       "      <td>0</td>\n",
       "      <td>0</td>\n",
       "      <td>0</td>\n",
       "      <td>0</td>\n",
       "      <td>0</td>\n",
       "      <td>0</td>\n",
       "      <td>0</td>\n",
       "      <td>0</td>\n",
       "      <td>0</td>\n",
       "      <td>0</td>\n",
       "      <td>0</td>\n",
       "      <td>0</td>\n",
       "      <td>0</td>\n",
       "      <td>0</td>\n",
       "      <td>...</td>\n",
       "      <td>0</td>\n",
       "      <td>0</td>\n",
       "      <td>0</td>\n",
       "      <td>1</td>\n",
       "      <td>0</td>\n",
       "      <td>0</td>\n",
       "      <td>0</td>\n",
       "      <td>0</td>\n",
       "      <td>0</td>\n",
       "      <td>0</td>\n",
       "      <td>0</td>\n",
       "      <td>0</td>\n",
       "      <td>0</td>\n",
       "      <td>0</td>\n",
       "      <td>0</td>\n",
       "      <td>0</td>\n",
       "      <td>0</td>\n",
       "      <td>0</td>\n",
       "      <td>0</td>\n",
       "      <td>0</td>\n",
       "      <td>0</td>\n",
       "      <td>0</td>\n",
       "      <td>0</td>\n",
       "      <td>0</td>\n",
       "      <td>0</td>\n",
       "      <td>0</td>\n",
       "      <td>0</td>\n",
       "      <td>0</td>\n",
       "      <td>0</td>\n",
       "      <td>0</td>\n",
       "      <td>1</td>\n",
       "      <td>0</td>\n",
       "      <td>0</td>\n",
       "      <td>0</td>\n",
       "      <td>0</td>\n",
       "      <td>0</td>\n",
       "      <td>0</td>\n",
       "      <td>0</td>\n",
       "      <td>0</td>\n",
       "      <td>0</td>\n",
       "    </tr>\n",
       "    <tr>\n",
       "      <td>1</td>\n",
       "      <td>366071</td>\n",
       "      <td>0.000</td>\n",
       "      <td>1</td>\n",
       "      <td>961452</td>\n",
       "      <td>1</td>\n",
       "      <td>0</td>\n",
       "      <td>0</td>\n",
       "      <td>0</td>\n",
       "      <td>0</td>\n",
       "      <td>1</td>\n",
       "      <td>0</td>\n",
       "      <td>0</td>\n",
       "      <td>0</td>\n",
       "      <td>0</td>\n",
       "      <td>0</td>\n",
       "      <td>0</td>\n",
       "      <td>0</td>\n",
       "      <td>0</td>\n",
       "      <td>0</td>\n",
       "      <td>0</td>\n",
       "      <td>0</td>\n",
       "      <td>0</td>\n",
       "      <td>0</td>\n",
       "      <td>0</td>\n",
       "      <td>0</td>\n",
       "      <td>0</td>\n",
       "      <td>0</td>\n",
       "      <td>0</td>\n",
       "      <td>0</td>\n",
       "      <td>1</td>\n",
       "      <td>0</td>\n",
       "      <td>0</td>\n",
       "      <td>0</td>\n",
       "      <td>0</td>\n",
       "      <td>0</td>\n",
       "      <td>0</td>\n",
       "      <td>0</td>\n",
       "      <td>0</td>\n",
       "      <td>0</td>\n",
       "      <td>0</td>\n",
       "      <td>...</td>\n",
       "      <td>0</td>\n",
       "      <td>0</td>\n",
       "      <td>0</td>\n",
       "      <td>1</td>\n",
       "      <td>0</td>\n",
       "      <td>0</td>\n",
       "      <td>0</td>\n",
       "      <td>0</td>\n",
       "      <td>0</td>\n",
       "      <td>0</td>\n",
       "      <td>0</td>\n",
       "      <td>0</td>\n",
       "      <td>0</td>\n",
       "      <td>0</td>\n",
       "      <td>0</td>\n",
       "      <td>0</td>\n",
       "      <td>0</td>\n",
       "      <td>0</td>\n",
       "      <td>0</td>\n",
       "      <td>0</td>\n",
       "      <td>0</td>\n",
       "      <td>0</td>\n",
       "      <td>0</td>\n",
       "      <td>0</td>\n",
       "      <td>0</td>\n",
       "      <td>0</td>\n",
       "      <td>0</td>\n",
       "      <td>0</td>\n",
       "      <td>0</td>\n",
       "      <td>0</td>\n",
       "      <td>1</td>\n",
       "      <td>0</td>\n",
       "      <td>0</td>\n",
       "      <td>0</td>\n",
       "      <td>0</td>\n",
       "      <td>0</td>\n",
       "      <td>0</td>\n",
       "      <td>0</td>\n",
       "      <td>0</td>\n",
       "      <td>0</td>\n",
       "    </tr>\n",
       "    <tr>\n",
       "      <td>2</td>\n",
       "      <td>96965</td>\n",
       "      <td>0.000</td>\n",
       "      <td>0</td>\n",
       "      <td>0</td>\n",
       "      <td>0</td>\n",
       "      <td>0</td>\n",
       "      <td>0</td>\n",
       "      <td>0</td>\n",
       "      <td>0</td>\n",
       "      <td>0</td>\n",
       "      <td>0</td>\n",
       "      <td>1</td>\n",
       "      <td>0</td>\n",
       "      <td>0</td>\n",
       "      <td>0</td>\n",
       "      <td>0</td>\n",
       "      <td>0</td>\n",
       "      <td>0</td>\n",
       "      <td>0</td>\n",
       "      <td>0</td>\n",
       "      <td>0</td>\n",
       "      <td>0</td>\n",
       "      <td>0</td>\n",
       "      <td>0</td>\n",
       "      <td>0</td>\n",
       "      <td>0</td>\n",
       "      <td>0</td>\n",
       "      <td>0</td>\n",
       "      <td>0</td>\n",
       "      <td>0</td>\n",
       "      <td>1</td>\n",
       "      <td>0</td>\n",
       "      <td>0</td>\n",
       "      <td>0</td>\n",
       "      <td>0</td>\n",
       "      <td>0</td>\n",
       "      <td>0</td>\n",
       "      <td>0</td>\n",
       "      <td>0</td>\n",
       "      <td>0</td>\n",
       "      <td>...</td>\n",
       "      <td>0</td>\n",
       "      <td>0</td>\n",
       "      <td>0</td>\n",
       "      <td>1</td>\n",
       "      <td>0</td>\n",
       "      <td>0</td>\n",
       "      <td>0</td>\n",
       "      <td>0</td>\n",
       "      <td>0</td>\n",
       "      <td>0</td>\n",
       "      <td>0</td>\n",
       "      <td>0</td>\n",
       "      <td>0</td>\n",
       "      <td>0</td>\n",
       "      <td>0</td>\n",
       "      <td>0</td>\n",
       "      <td>0</td>\n",
       "      <td>0</td>\n",
       "      <td>0</td>\n",
       "      <td>0</td>\n",
       "      <td>0</td>\n",
       "      <td>0</td>\n",
       "      <td>0</td>\n",
       "      <td>0</td>\n",
       "      <td>0</td>\n",
       "      <td>0</td>\n",
       "      <td>0</td>\n",
       "      <td>0</td>\n",
       "      <td>0</td>\n",
       "      <td>0</td>\n",
       "      <td>1</td>\n",
       "      <td>0</td>\n",
       "      <td>0</td>\n",
       "      <td>0</td>\n",
       "      <td>0</td>\n",
       "      <td>0</td>\n",
       "      <td>0</td>\n",
       "      <td>0</td>\n",
       "      <td>0</td>\n",
       "      <td>0</td>\n",
       "    </tr>\n",
       "    <tr>\n",
       "      <td>3</td>\n",
       "      <td>5932500</td>\n",
       "      <td>0.000</td>\n",
       "      <td>0</td>\n",
       "      <td>0</td>\n",
       "      <td>0</td>\n",
       "      <td>0</td>\n",
       "      <td>1</td>\n",
       "      <td>0</td>\n",
       "      <td>0</td>\n",
       "      <td>0</td>\n",
       "      <td>0</td>\n",
       "      <td>0</td>\n",
       "      <td>0</td>\n",
       "      <td>0</td>\n",
       "      <td>0</td>\n",
       "      <td>0</td>\n",
       "      <td>0</td>\n",
       "      <td>0</td>\n",
       "      <td>0</td>\n",
       "      <td>0</td>\n",
       "      <td>0</td>\n",
       "      <td>0</td>\n",
       "      <td>0</td>\n",
       "      <td>0</td>\n",
       "      <td>0</td>\n",
       "      <td>0</td>\n",
       "      <td>0</td>\n",
       "      <td>0</td>\n",
       "      <td>0</td>\n",
       "      <td>0</td>\n",
       "      <td>0</td>\n",
       "      <td>0</td>\n",
       "      <td>0</td>\n",
       "      <td>0</td>\n",
       "      <td>0</td>\n",
       "      <td>0</td>\n",
       "      <td>0</td>\n",
       "      <td>0</td>\n",
       "      <td>0</td>\n",
       "      <td>0</td>\n",
       "      <td>...</td>\n",
       "      <td>0</td>\n",
       "      <td>0</td>\n",
       "      <td>0</td>\n",
       "      <td>1</td>\n",
       "      <td>0</td>\n",
       "      <td>0</td>\n",
       "      <td>0</td>\n",
       "      <td>0</td>\n",
       "      <td>0</td>\n",
       "      <td>0</td>\n",
       "      <td>0</td>\n",
       "      <td>0</td>\n",
       "      <td>0</td>\n",
       "      <td>0</td>\n",
       "      <td>0</td>\n",
       "      <td>0</td>\n",
       "      <td>0</td>\n",
       "      <td>0</td>\n",
       "      <td>0</td>\n",
       "      <td>0</td>\n",
       "      <td>0</td>\n",
       "      <td>0</td>\n",
       "      <td>0</td>\n",
       "      <td>0</td>\n",
       "      <td>0</td>\n",
       "      <td>0</td>\n",
       "      <td>0</td>\n",
       "      <td>0</td>\n",
       "      <td>0</td>\n",
       "      <td>0</td>\n",
       "      <td>1</td>\n",
       "      <td>0</td>\n",
       "      <td>0</td>\n",
       "      <td>0</td>\n",
       "      <td>0</td>\n",
       "      <td>0</td>\n",
       "      <td>0</td>\n",
       "      <td>0</td>\n",
       "      <td>0</td>\n",
       "      <td>0</td>\n",
       "    </tr>\n",
       "    <tr>\n",
       "      <td>4</td>\n",
       "      <td>34245</td>\n",
       "      <td>0.000</td>\n",
       "      <td>0</td>\n",
       "      <td>0</td>\n",
       "      <td>0</td>\n",
       "      <td>0</td>\n",
       "      <td>0</td>\n",
       "      <td>0</td>\n",
       "      <td>0</td>\n",
       "      <td>0</td>\n",
       "      <td>0</td>\n",
       "      <td>1</td>\n",
       "      <td>0</td>\n",
       "      <td>0</td>\n",
       "      <td>0</td>\n",
       "      <td>0</td>\n",
       "      <td>0</td>\n",
       "      <td>0</td>\n",
       "      <td>0</td>\n",
       "      <td>0</td>\n",
       "      <td>0</td>\n",
       "      <td>0</td>\n",
       "      <td>0</td>\n",
       "      <td>0</td>\n",
       "      <td>0</td>\n",
       "      <td>0</td>\n",
       "      <td>0</td>\n",
       "      <td>0</td>\n",
       "      <td>0</td>\n",
       "      <td>0</td>\n",
       "      <td>1</td>\n",
       "      <td>0</td>\n",
       "      <td>0</td>\n",
       "      <td>0</td>\n",
       "      <td>0</td>\n",
       "      <td>0</td>\n",
       "      <td>0</td>\n",
       "      <td>0</td>\n",
       "      <td>0</td>\n",
       "      <td>0</td>\n",
       "      <td>...</td>\n",
       "      <td>0</td>\n",
       "      <td>0</td>\n",
       "      <td>0</td>\n",
       "      <td>1</td>\n",
       "      <td>0</td>\n",
       "      <td>0</td>\n",
       "      <td>0</td>\n",
       "      <td>0</td>\n",
       "      <td>0</td>\n",
       "      <td>0</td>\n",
       "      <td>0</td>\n",
       "      <td>0</td>\n",
       "      <td>0</td>\n",
       "      <td>0</td>\n",
       "      <td>0</td>\n",
       "      <td>0</td>\n",
       "      <td>0</td>\n",
       "      <td>0</td>\n",
       "      <td>0</td>\n",
       "      <td>0</td>\n",
       "      <td>0</td>\n",
       "      <td>0</td>\n",
       "      <td>0</td>\n",
       "      <td>0</td>\n",
       "      <td>0</td>\n",
       "      <td>0</td>\n",
       "      <td>0</td>\n",
       "      <td>0</td>\n",
       "      <td>0</td>\n",
       "      <td>0</td>\n",
       "      <td>1</td>\n",
       "      <td>0</td>\n",
       "      <td>0</td>\n",
       "      <td>0</td>\n",
       "      <td>0</td>\n",
       "      <td>0</td>\n",
       "      <td>0</td>\n",
       "      <td>0</td>\n",
       "      <td>0</td>\n",
       "      <td>0</td>\n",
       "    </tr>\n",
       "    <tr>\n",
       "      <td>...</td>\n",
       "      <td>...</td>\n",
       "      <td>...</td>\n",
       "      <td>...</td>\n",
       "      <td>...</td>\n",
       "      <td>...</td>\n",
       "      <td>...</td>\n",
       "      <td>...</td>\n",
       "      <td>...</td>\n",
       "      <td>...</td>\n",
       "      <td>...</td>\n",
       "      <td>...</td>\n",
       "      <td>...</td>\n",
       "      <td>...</td>\n",
       "      <td>...</td>\n",
       "      <td>...</td>\n",
       "      <td>...</td>\n",
       "      <td>...</td>\n",
       "      <td>...</td>\n",
       "      <td>...</td>\n",
       "      <td>...</td>\n",
       "      <td>...</td>\n",
       "      <td>...</td>\n",
       "      <td>...</td>\n",
       "      <td>...</td>\n",
       "      <td>...</td>\n",
       "      <td>...</td>\n",
       "      <td>...</td>\n",
       "      <td>...</td>\n",
       "      <td>...</td>\n",
       "      <td>...</td>\n",
       "      <td>...</td>\n",
       "      <td>...</td>\n",
       "      <td>...</td>\n",
       "      <td>...</td>\n",
       "      <td>...</td>\n",
       "      <td>...</td>\n",
       "      <td>...</td>\n",
       "      <td>...</td>\n",
       "      <td>...</td>\n",
       "      <td>...</td>\n",
       "      <td>...</td>\n",
       "      <td>...</td>\n",
       "      <td>...</td>\n",
       "      <td>...</td>\n",
       "      <td>...</td>\n",
       "      <td>...</td>\n",
       "      <td>...</td>\n",
       "      <td>...</td>\n",
       "      <td>...</td>\n",
       "      <td>...</td>\n",
       "      <td>...</td>\n",
       "      <td>...</td>\n",
       "      <td>...</td>\n",
       "      <td>...</td>\n",
       "      <td>...</td>\n",
       "      <td>...</td>\n",
       "      <td>...</td>\n",
       "      <td>...</td>\n",
       "      <td>...</td>\n",
       "      <td>...</td>\n",
       "      <td>...</td>\n",
       "      <td>...</td>\n",
       "      <td>...</td>\n",
       "      <td>...</td>\n",
       "      <td>...</td>\n",
       "      <td>...</td>\n",
       "      <td>...</td>\n",
       "      <td>...</td>\n",
       "      <td>...</td>\n",
       "      <td>...</td>\n",
       "      <td>...</td>\n",
       "      <td>...</td>\n",
       "      <td>...</td>\n",
       "      <td>...</td>\n",
       "      <td>...</td>\n",
       "      <td>...</td>\n",
       "      <td>...</td>\n",
       "      <td>...</td>\n",
       "      <td>...</td>\n",
       "      <td>...</td>\n",
       "      <td>...</td>\n",
       "    </tr>\n",
       "    <tr>\n",
       "      <td>29623</td>\n",
       "      <td>423000</td>\n",
       "      <td>0.000</td>\n",
       "      <td>1</td>\n",
       "      <td>9391485</td>\n",
       "      <td>1</td>\n",
       "      <td>0</td>\n",
       "      <td>0</td>\n",
       "      <td>0</td>\n",
       "      <td>0</td>\n",
       "      <td>0</td>\n",
       "      <td>0</td>\n",
       "      <td>0</td>\n",
       "      <td>0</td>\n",
       "      <td>1</td>\n",
       "      <td>0</td>\n",
       "      <td>0</td>\n",
       "      <td>0</td>\n",
       "      <td>0</td>\n",
       "      <td>0</td>\n",
       "      <td>1</td>\n",
       "      <td>0</td>\n",
       "      <td>0</td>\n",
       "      <td>0</td>\n",
       "      <td>0</td>\n",
       "      <td>0</td>\n",
       "      <td>0</td>\n",
       "      <td>0</td>\n",
       "      <td>0</td>\n",
       "      <td>0</td>\n",
       "      <td>0</td>\n",
       "      <td>0</td>\n",
       "      <td>0</td>\n",
       "      <td>0</td>\n",
       "      <td>0</td>\n",
       "      <td>0</td>\n",
       "      <td>0</td>\n",
       "      <td>0</td>\n",
       "      <td>0</td>\n",
       "      <td>0</td>\n",
       "      <td>0</td>\n",
       "      <td>...</td>\n",
       "      <td>0</td>\n",
       "      <td>0</td>\n",
       "      <td>0</td>\n",
       "      <td>1</td>\n",
       "      <td>0</td>\n",
       "      <td>0</td>\n",
       "      <td>0</td>\n",
       "      <td>0</td>\n",
       "      <td>0</td>\n",
       "      <td>0</td>\n",
       "      <td>0</td>\n",
       "      <td>0</td>\n",
       "      <td>0</td>\n",
       "      <td>0</td>\n",
       "      <td>0</td>\n",
       "      <td>0</td>\n",
       "      <td>0</td>\n",
       "      <td>0</td>\n",
       "      <td>0</td>\n",
       "      <td>0</td>\n",
       "      <td>0</td>\n",
       "      <td>0</td>\n",
       "      <td>0</td>\n",
       "      <td>0</td>\n",
       "      <td>0</td>\n",
       "      <td>0</td>\n",
       "      <td>0</td>\n",
       "      <td>0</td>\n",
       "      <td>0</td>\n",
       "      <td>0</td>\n",
       "      <td>0</td>\n",
       "      <td>0</td>\n",
       "      <td>0</td>\n",
       "      <td>0</td>\n",
       "      <td>0</td>\n",
       "      <td>0</td>\n",
       "      <td>0</td>\n",
       "      <td>0</td>\n",
       "      <td>1</td>\n",
       "      <td>0</td>\n",
       "    </tr>\n",
       "    <tr>\n",
       "      <td>29624</td>\n",
       "      <td>1708540</td>\n",
       "      <td>0.000</td>\n",
       "      <td>0</td>\n",
       "      <td>0</td>\n",
       "      <td>0</td>\n",
       "      <td>0</td>\n",
       "      <td>0</td>\n",
       "      <td>0</td>\n",
       "      <td>1</td>\n",
       "      <td>0</td>\n",
       "      <td>0</td>\n",
       "      <td>0</td>\n",
       "      <td>0</td>\n",
       "      <td>0</td>\n",
       "      <td>0</td>\n",
       "      <td>0</td>\n",
       "      <td>0</td>\n",
       "      <td>0</td>\n",
       "      <td>0</td>\n",
       "      <td>0</td>\n",
       "      <td>0</td>\n",
       "      <td>0</td>\n",
       "      <td>0</td>\n",
       "      <td>0</td>\n",
       "      <td>0</td>\n",
       "      <td>0</td>\n",
       "      <td>0</td>\n",
       "      <td>0</td>\n",
       "      <td>0</td>\n",
       "      <td>0</td>\n",
       "      <td>0</td>\n",
       "      <td>0</td>\n",
       "      <td>0</td>\n",
       "      <td>0</td>\n",
       "      <td>0</td>\n",
       "      <td>0</td>\n",
       "      <td>0</td>\n",
       "      <td>0</td>\n",
       "      <td>0</td>\n",
       "      <td>0</td>\n",
       "      <td>...</td>\n",
       "      <td>0</td>\n",
       "      <td>0</td>\n",
       "      <td>0</td>\n",
       "      <td>1</td>\n",
       "      <td>0</td>\n",
       "      <td>0</td>\n",
       "      <td>0</td>\n",
       "      <td>0</td>\n",
       "      <td>0</td>\n",
       "      <td>0</td>\n",
       "      <td>0</td>\n",
       "      <td>0</td>\n",
       "      <td>0</td>\n",
       "      <td>0</td>\n",
       "      <td>0</td>\n",
       "      <td>0</td>\n",
       "      <td>0</td>\n",
       "      <td>0</td>\n",
       "      <td>0</td>\n",
       "      <td>0</td>\n",
       "      <td>0</td>\n",
       "      <td>0</td>\n",
       "      <td>0</td>\n",
       "      <td>0</td>\n",
       "      <td>0</td>\n",
       "      <td>0</td>\n",
       "      <td>0</td>\n",
       "      <td>0</td>\n",
       "      <td>0</td>\n",
       "      <td>0</td>\n",
       "      <td>0</td>\n",
       "      <td>0</td>\n",
       "      <td>0</td>\n",
       "      <td>0</td>\n",
       "      <td>0</td>\n",
       "      <td>0</td>\n",
       "      <td>0</td>\n",
       "      <td>1</td>\n",
       "      <td>0</td>\n",
       "      <td>0</td>\n",
       "    </tr>\n",
       "    <tr>\n",
       "      <td>29625</td>\n",
       "      <td>2882727</td>\n",
       "      <td>0.000</td>\n",
       "      <td>1</td>\n",
       "      <td>2927736</td>\n",
       "      <td>1</td>\n",
       "      <td>0</td>\n",
       "      <td>1</td>\n",
       "      <td>0</td>\n",
       "      <td>0</td>\n",
       "      <td>0</td>\n",
       "      <td>0</td>\n",
       "      <td>0</td>\n",
       "      <td>0</td>\n",
       "      <td>0</td>\n",
       "      <td>0</td>\n",
       "      <td>0</td>\n",
       "      <td>0</td>\n",
       "      <td>0</td>\n",
       "      <td>0</td>\n",
       "      <td>0</td>\n",
       "      <td>0</td>\n",
       "      <td>0</td>\n",
       "      <td>0</td>\n",
       "      <td>0</td>\n",
       "      <td>0</td>\n",
       "      <td>0</td>\n",
       "      <td>0</td>\n",
       "      <td>0</td>\n",
       "      <td>0</td>\n",
       "      <td>0</td>\n",
       "      <td>0</td>\n",
       "      <td>0</td>\n",
       "      <td>0</td>\n",
       "      <td>0</td>\n",
       "      <td>0</td>\n",
       "      <td>0</td>\n",
       "      <td>0</td>\n",
       "      <td>0</td>\n",
       "      <td>0</td>\n",
       "      <td>0</td>\n",
       "      <td>...</td>\n",
       "      <td>0</td>\n",
       "      <td>0</td>\n",
       "      <td>0</td>\n",
       "      <td>1</td>\n",
       "      <td>0</td>\n",
       "      <td>0</td>\n",
       "      <td>0</td>\n",
       "      <td>0</td>\n",
       "      <td>0</td>\n",
       "      <td>0</td>\n",
       "      <td>0</td>\n",
       "      <td>0</td>\n",
       "      <td>0</td>\n",
       "      <td>0</td>\n",
       "      <td>0</td>\n",
       "      <td>0</td>\n",
       "      <td>0</td>\n",
       "      <td>0</td>\n",
       "      <td>0</td>\n",
       "      <td>0</td>\n",
       "      <td>0</td>\n",
       "      <td>0</td>\n",
       "      <td>0</td>\n",
       "      <td>0</td>\n",
       "      <td>0</td>\n",
       "      <td>0</td>\n",
       "      <td>0</td>\n",
       "      <td>0</td>\n",
       "      <td>0</td>\n",
       "      <td>0</td>\n",
       "      <td>0</td>\n",
       "      <td>0</td>\n",
       "      <td>0</td>\n",
       "      <td>0</td>\n",
       "      <td>0</td>\n",
       "      <td>0</td>\n",
       "      <td>0</td>\n",
       "      <td>0</td>\n",
       "      <td>1</td>\n",
       "      <td>0</td>\n",
       "    </tr>\n",
       "    <tr>\n",
       "      <td>29626</td>\n",
       "      <td>21000</td>\n",
       "      <td>0.000</td>\n",
       "      <td>0</td>\n",
       "      <td>0</td>\n",
       "      <td>0</td>\n",
       "      <td>0</td>\n",
       "      <td>0</td>\n",
       "      <td>0</td>\n",
       "      <td>0</td>\n",
       "      <td>0</td>\n",
       "      <td>0</td>\n",
       "      <td>1</td>\n",
       "      <td>0</td>\n",
       "      <td>0</td>\n",
       "      <td>0</td>\n",
       "      <td>0</td>\n",
       "      <td>0</td>\n",
       "      <td>0</td>\n",
       "      <td>0</td>\n",
       "      <td>0</td>\n",
       "      <td>0</td>\n",
       "      <td>0</td>\n",
       "      <td>0</td>\n",
       "      <td>0</td>\n",
       "      <td>0</td>\n",
       "      <td>0</td>\n",
       "      <td>0</td>\n",
       "      <td>0</td>\n",
       "      <td>0</td>\n",
       "      <td>0</td>\n",
       "      <td>0</td>\n",
       "      <td>0</td>\n",
       "      <td>0</td>\n",
       "      <td>0</td>\n",
       "      <td>0</td>\n",
       "      <td>0</td>\n",
       "      <td>0</td>\n",
       "      <td>0</td>\n",
       "      <td>0</td>\n",
       "      <td>0</td>\n",
       "      <td>...</td>\n",
       "      <td>0</td>\n",
       "      <td>0</td>\n",
       "      <td>0</td>\n",
       "      <td>1</td>\n",
       "      <td>0</td>\n",
       "      <td>0</td>\n",
       "      <td>0</td>\n",
       "      <td>0</td>\n",
       "      <td>0</td>\n",
       "      <td>0</td>\n",
       "      <td>0</td>\n",
       "      <td>0</td>\n",
       "      <td>0</td>\n",
       "      <td>0</td>\n",
       "      <td>0</td>\n",
       "      <td>0</td>\n",
       "      <td>0</td>\n",
       "      <td>0</td>\n",
       "      <td>0</td>\n",
       "      <td>0</td>\n",
       "      <td>0</td>\n",
       "      <td>0</td>\n",
       "      <td>0</td>\n",
       "      <td>0</td>\n",
       "      <td>0</td>\n",
       "      <td>0</td>\n",
       "      <td>0</td>\n",
       "      <td>0</td>\n",
       "      <td>0</td>\n",
       "      <td>0</td>\n",
       "      <td>0</td>\n",
       "      <td>0</td>\n",
       "      <td>0</td>\n",
       "      <td>0</td>\n",
       "      <td>0</td>\n",
       "      <td>0</td>\n",
       "      <td>0</td>\n",
       "      <td>0</td>\n",
       "      <td>1</td>\n",
       "      <td>0</td>\n",
       "    </tr>\n",
       "    <tr>\n",
       "      <td>29627</td>\n",
       "      <td>58216</td>\n",
       "      <td>0.000</td>\n",
       "      <td>0</td>\n",
       "      <td>61869</td>\n",
       "      <td>0</td>\n",
       "      <td>0</td>\n",
       "      <td>0</td>\n",
       "      <td>0</td>\n",
       "      <td>1</td>\n",
       "      <td>0</td>\n",
       "      <td>0</td>\n",
       "      <td>0</td>\n",
       "      <td>0</td>\n",
       "      <td>0</td>\n",
       "      <td>0</td>\n",
       "      <td>1</td>\n",
       "      <td>0</td>\n",
       "      <td>0</td>\n",
       "      <td>0</td>\n",
       "      <td>0</td>\n",
       "      <td>0</td>\n",
       "      <td>0</td>\n",
       "      <td>0</td>\n",
       "      <td>0</td>\n",
       "      <td>0</td>\n",
       "      <td>0</td>\n",
       "      <td>0</td>\n",
       "      <td>0</td>\n",
       "      <td>0</td>\n",
       "      <td>0</td>\n",
       "      <td>0</td>\n",
       "      <td>0</td>\n",
       "      <td>0</td>\n",
       "      <td>0</td>\n",
       "      <td>0</td>\n",
       "      <td>0</td>\n",
       "      <td>0</td>\n",
       "      <td>0</td>\n",
       "      <td>0</td>\n",
       "      <td>0</td>\n",
       "      <td>...</td>\n",
       "      <td>0</td>\n",
       "      <td>0</td>\n",
       "      <td>0</td>\n",
       "      <td>1</td>\n",
       "      <td>0</td>\n",
       "      <td>0</td>\n",
       "      <td>0</td>\n",
       "      <td>0</td>\n",
       "      <td>0</td>\n",
       "      <td>0</td>\n",
       "      <td>0</td>\n",
       "      <td>0</td>\n",
       "      <td>0</td>\n",
       "      <td>0</td>\n",
       "      <td>0</td>\n",
       "      <td>0</td>\n",
       "      <td>0</td>\n",
       "      <td>0</td>\n",
       "      <td>0</td>\n",
       "      <td>0</td>\n",
       "      <td>0</td>\n",
       "      <td>0</td>\n",
       "      <td>0</td>\n",
       "      <td>0</td>\n",
       "      <td>0</td>\n",
       "      <td>0</td>\n",
       "      <td>0</td>\n",
       "      <td>0</td>\n",
       "      <td>0</td>\n",
       "      <td>0</td>\n",
       "      <td>0</td>\n",
       "      <td>0</td>\n",
       "      <td>0</td>\n",
       "      <td>0</td>\n",
       "      <td>0</td>\n",
       "      <td>0</td>\n",
       "      <td>0</td>\n",
       "      <td>0</td>\n",
       "      <td>1</td>\n",
       "      <td>0</td>\n",
       "    </tr>\n",
       "  </tbody>\n",
       "</table>\n",
       "<p>29576 rows × 112 columns</p>\n",
       "</div>"
      ],
      "text/plain": [
       "       projectAmount  granteeTribalIndicator  ...  programFy_2019  programFy_2020\n",
       "0             402910                   0.000  ...               0               0\n",
       "1             366071                   0.000  ...               0               0\n",
       "2              96965                   0.000  ...               0               0\n",
       "3            5932500                   0.000  ...               0               0\n",
       "4              34245                   0.000  ...               0               0\n",
       "...              ...                     ...  ...             ...             ...\n",
       "29623         423000                   0.000  ...               1               0\n",
       "29624        1708540                   0.000  ...               0               0\n",
       "29625        2882727                   0.000  ...               1               0\n",
       "29626          21000                   0.000  ...               1               0\n",
       "29627          58216                   0.000  ...               1               0\n",
       "\n",
       "[29576 rows x 112 columns]"
      ]
     },
     "execution_count": 46,
     "metadata": {},
     "output_type": "execute_result"
    }
   ],
   "source": [
    "pd.get_dummies(df)"
   ]
  },
  {
   "cell_type": "code",
   "execution_count": 47,
   "metadata": {
    "scrolled": false
   },
   "outputs": [
    {
     "data": {
      "image/png": "[encoded data removed]",
      "text/plain": [
       "<Figure size 720x432 with 1 Axes>"
      ]
     },
     "metadata": {
      "needs_background": "light"
     },
     "output_type": "display_data"
    },
    {
     "data": {
      "image/png": "[encoded data removed]",
      "text/plain": [
       "<Figure size 720x432 with 1 Axes>"
      ]
     },
     "metadata": {
      "needs_background": "light"
     },
     "output_type": "display_data"
    },
    {
     "data": {
      "image/png": "[encoded data removed]",
      "text/plain": [
       "<Figure size 720x432 with 1 Axes>"
      ]
     },
     "metadata": {
      "needs_background": "light"
     },
     "output_type": "display_data"
    }
   ],
   "source": [
    "categorical_plots(df)"
   ]
  },
  {
   "cell_type": "code",
   "execution_count": 48,
   "metadata": {},
   "outputs": [],
   "source": [
    "## Notes: We could use these categorical plots in PP to show raw data information"
   ]
  },
  {
   "cell_type": "code",
   "execution_count": 49,
   "metadata": {
    "scrolled": true
   },
   "outputs": [
    {
     "data": {
      "image/png": "[encoded data removed]",
      "text/plain": [
       "<Figure size 576x720 with 1 Axes>"
      ]
     },
     "metadata": {
      "needs_background": "light"
     },
     "output_type": "display_data"
    }
   ],
   "source": [
    "# Initialize the figure with a logarithmic x axis\n",
    "f, ax = plt.subplots(figsize=(8, 10))\n",
    "\n",
    "# Plot the orbital period with horizontal boxes\n",
    "sns.boxplot(x=\"projectAmount\", y=\"programArea\", data=df,\n",
    "            width=0.7, palette=\"colorblind\")\n",
    "\n",
    "# Add in points to show each observation\n",
    "sns.stripplot(x=\"projectAmount\", y=\"programArea\", data=df,\n",
    "              size=2, linewidth=0)\n",
    "\n",
    "# Tweak the visual presentation\n",
    "ax.xaxis.grid(True)\n",
    "ax.set(ylabel=\"Program Area\")\n",
    "ax.set(xlabel=\"Project Amount\")\n",
    "ax.set(title=\"Program Amount by Program Area\")\n",
    "sns.despine(left=True)\n",
    "\n",
    "# https://seaborn.pydata.org/examples/horizontal_boxplot.html"
   ]
  },
  {
   "cell_type": "code",
   "execution_count": 50,
   "metadata": {},
   "outputs": [],
   "source": [
    "## Notes: "
   ]
  },
  {
   "cell_type": "code",
   "execution_count": 51,
   "metadata": {
    "scrolled": true
   },
   "outputs": [
    {
     "data": {
      "image/png": "[encoded data removed]",
      "text/plain": [
       "<Figure size 576x720 with 1 Axes>"
      ]
     },
     "metadata": {
      "needs_background": "light"
     },
     "output_type": "display_data"
    }
   ],
   "source": [
    "# Initialize the figure with a logarithmic x axis\n",
    "f, ax = plt.subplots(figsize=(8, 10))\n",
    "\n",
    "# Plot the orbital period with horizontal boxes\n",
    "sns.boxplot(x=\"benefitCostRatio\", y=\"programArea\", data=df,\n",
    "            width=0.7, palette=\"colorblind\")\n",
    "\n",
    "# Add in points to show each observation\n",
    "sns.stripplot(x=\"benefitCostRatio\", y=\"programArea\", data=df,\n",
    "              size=2, linewidth=0)\n",
    "\n",
    "# Tweak the visual presentation\n",
    "ax.xaxis.grid(True)\n",
    "ax.set(ylabel=\"Program Area\")\n",
    "ax.set(xlabel=\"Benefit Cost Ratio\")\n",
    "ax.set(title=\"Program ROI Benefit Cost Ratio\")\n",
    "sns.despine(left=True)\n",
    "\n",
    "# https://seaborn.pydata.org/examples/horizontal_boxplot.html"
   ]
  },
  {
   "cell_type": "code",
   "execution_count": 52,
   "metadata": {},
   "outputs": [],
   "source": [
    "## Notes: Extreme values in HMGP"
   ]
  },
  {
   "cell_type": "code",
   "execution_count": 53,
   "metadata": {},
   "outputs": [],
   "source": [
    "# The outliers need to be addressed\n",
    "df = df[(df['benefitCostRatio']<5000)]"
   ]
  },
  {
   "cell_type": "code",
   "execution_count": 54,
   "metadata": {
    "scrolled": false
   },
   "outputs": [
    {
     "data": {
      "image/png": "[encoded data removed]",
      "text/plain": [
       "<Figure size 432x288 with 1 Axes>"
      ]
     },
     "metadata": {
      "needs_background": "light"
     },
     "output_type": "display_data"
    }
   ],
   "source": [
    "ax = sns.lineplot(x=\"programFy\", y=\"projectAmount\",\n",
    "             data=df)\n",
    "\n",
    "# Tweak the visual presentation\n",
    "ax.xaxis.grid(True)\n",
    "ax.set(ylabel=\"Program Amount\")\n",
    "ax.set(xlabel=\"Fiscal Year\")\n",
    "ax.set(title=\"Program Amount by Fiscal Year\")\n",
    "sns.despine(left=True)"
   ]
  },
  {
   "cell_type": "code",
   "execution_count": 55,
   "metadata": {},
   "outputs": [],
   "source": [
    "## Notes: Spikes in 2013 & 2016"
   ]
  },
  {
   "cell_type": "code",
   "execution_count": 56,
   "metadata": {
    "scrolled": true
   },
   "outputs": [
    {
     "data": {
      "image/png": "[encoded data removed]",
      "text/plain": [
       "<Figure size 432x288 with 1 Axes>"
      ]
     },
     "metadata": {
      "needs_background": "light"
     },
     "output_type": "display_data"
    }
   ],
   "source": [
    "ax = sns.lineplot(x=\"programFy\", y=\"benefitCostRatio\",\n",
    "             data=df)\n",
    "\n",
    "# Tweak the visual presentation\n",
    "ax.xaxis.grid(True)\n",
    "ax.set(ylabel=\"Benefit Cost Ratio\")\n",
    "ax.set(xlabel=\"Fiscal Year\")\n",
    "ax.set(title=\"Benefit Cost Ratio by Fiscal Year\")\n",
    "sns.despine(left=True)"
   ]
  },
  {
   "cell_type": "code",
   "execution_count": 57,
   "metadata": {},
   "outputs": [],
   "source": [
    "## Notes: Ben Cost Ratio spike in 1993? Unsure why but interesting that it stays low after that"
   ]
  },
  {
   "cell_type": "code",
   "execution_count": 58,
   "metadata": {
    "scrolled": false
   },
   "outputs": [
    {
     "data": {
      "image/png": "[encoded data removed]",
      "text/plain": [
       "<Figure size 576x720 with 1 Axes>"
      ]
     },
     "metadata": {
      "needs_background": "light"
     },
     "output_type": "display_data"
    }
   ],
   "source": [
    "# Initialize the figure with a logarithmic x axis\n",
    "f, ax = plt.subplots(figsize=(8, 10))\n",
    "\n",
    "# Plot the orbital period with horizontal boxes\n",
    "sns.boxplot(x=\"projectAmount\", y=\"region\", data=df,\n",
    "            width=0.7, palette=\"colorblind\")\n",
    "\n",
    "# Add in points to show each observation\n",
    "sns.stripplot(x=\"projectAmount\", y=\"region\", data=df,\n",
    "              size=2, linewidth=0)\n",
    "\n",
    "# Tweak the visual presentation\n",
    "ax.xaxis.grid(True)\n",
    "ax.set(ylabel=\"Region\")\n",
    "ax.set(xlabel=\"Project Amount\")\n",
    "ax.set(title=\"Program Amount by Region\")\n",
    "sns.despine(left=True)\n",
    "\n",
    "# https://seaborn.pydata.org/examples/horizontal_boxplot.html"
   ]
  },
  {
   "cell_type": "code",
   "execution_count": 59,
   "metadata": {},
   "outputs": [],
   "source": [
    "## Notes: Extreme values in regions 6, 2, 8"
   ]
  },
  {
   "cell_type": "code",
   "execution_count": 60,
   "metadata": {},
   "outputs": [],
   "source": [
    "#sns.distplot(x='projectAmount, col=\"Positive_ROI\", kde=True)"
   ]
  },
  {
   "cell_type": "code",
   "execution_count": 61,
   "metadata": {},
   "outputs": [
    {
     "data": {
      "image/png": "[encoded data removed]",
      "text/plain": [
       "<Figure size 441.875x360 with 1 Axes>"
      ]
     },
     "metadata": {
      "needs_background": "light"
     },
     "output_type": "display_data"
    }
   ],
   "source": [
    "ax = sns.catplot(x=\"projectAmount\", y=\"programArea\", hue=\"Positive_ROI\",\n",
    "            kind=\"violin\", split=True, pallete=\"colorblind\", data=df)\n",
    "plt.title('Program ROI', fontsize=(20))\n",
    "plt.show()"
   ]
  },
  {
   "cell_type": "code",
   "execution_count": 62,
   "metadata": {},
   "outputs": [],
   "source": [
    "## Notes: Violin plot may not be best to visualize Program ROI"
   ]
  },
  {
   "cell_type": "code",
   "execution_count": 63,
   "metadata": {
    "scrolled": true
   },
   "outputs": [
    {
     "data": {
      "image/png": "[encoded data removed]",
      "text/plain": [
       "<Figure size 1008x576 with 1 Axes>"
      ]
     },
     "metadata": {
      "needs_background": "light"
     },
     "output_type": "display_data"
    }
   ],
   "source": [
    "#Plot region vs. ROI\n",
    "plt.figure(figsize=(14, 8))\n",
    "ax = sns.countplot(y=df['region'], hue=df['Positive_ROI'], palette=\"colorblind\")\n",
    "plt.legend(loc='center right')\n",
    "ax.legend(title=\"ROI\")\n",
    "plt.title('Region ROI', fontsize=(20))\n",
    "plt.show()\n",
    "# 0.0 = Not profitable & 1.0 = Profitable"
   ]
  },
  {
   "cell_type": "code",
   "execution_count": 64,
   "metadata": {},
   "outputs": [],
   "source": [
    "## Notes: Region 4 has most program counts\n",
    "# Let's turn this sideways"
   ]
  },
  {
   "cell_type": "code",
   "execution_count": 65,
   "metadata": {
    "scrolled": true
   },
   "outputs": [
    {
     "data": {
      "image/png": "[encoded data removed]",
      "text/plain": [
       "<Figure size 1008x576 with 1 Axes>"
      ]
     },
     "metadata": {
      "needs_background": "light"
     },
     "output_type": "display_data"
    }
   ],
   "source": [
    "#Plot region vs. ROI\n",
    "plt.figure(figsize=(14, 8))\n",
    "ax = sns.countplot(x=df['region'], hue=df['Positive_ROI'], palette=\"colorblind\")\n",
    "plt.legend(loc='center right')\n",
    "ax.legend(title=\"ROI\")\n",
    "plt.title('Region ROI', fontsize=(20))\n",
    "plt.show()\n",
    "# 0.0 = Not profitable & 1.0 = Profitable"
   ]
  },
  {
   "cell_type": "code",
   "execution_count": 66,
   "metadata": {},
   "outputs": [],
   "source": [
    "## Notes: Much easier to see the results\n",
    "# Add to PP"
   ]
  },
  {
   "cell_type": "code",
   "execution_count": 67,
   "metadata": {
    "scrolled": true
   },
   "outputs": [
    {
     "data": {
      "image/png": "[encoded data removed]",
      "text/plain": [
       "<Figure size 1008x576 with 1 Axes>"
      ]
     },
     "metadata": {
      "needs_background": "light"
     },
     "output_type": "display_data"
    }
   ],
   "source": [
    "# Plot tribal indicator projects vs. ROI\n",
    "plt.figure(figsize=(14, 8))\n",
    "ax = sns.countplot(x=df['granteeTribalIndicator'], hue=df['Positive_ROI'], palette=\"colorblind\")\n",
    "plt.legend(loc='center right')\n",
    "\n",
    "# Tweak the visual presentation\n",
    "ax.xaxis.grid(True)\n",
    "ax.set(ylabel=\"Tribal Grantee Programs\")\n",
    "ax.set(title=\"Tribal Grantee Programs\")\n",
    "sns.despine(left=True)\n",
    "plt.show()\n",
    "# 0.0 = Not profitable & 1.0 = Profitable"
   ]
  },
  {
   "cell_type": "code",
   "execution_count": 68,
   "metadata": {},
   "outputs": [],
   "source": [
    "## Note this shows us the data viz for tribal groups but not many programs in tribal so hard to vizualize"
   ]
  },
  {
   "cell_type": "code",
   "execution_count": 69,
   "metadata": {},
   "outputs": [],
   "source": [
    "# Dropping the tribal indicator as there aren't \n",
    "# that many tribal projects in our dataset to use for modeling\n",
    "df.drop(columns=['granteeTribalIndicator'], inplace=True)"
   ]
  },
  {
   "cell_type": "code",
   "execution_count": 70,
   "metadata": {
    "scrolled": false
   },
   "outputs": [
    {
     "data": {
      "image/png": "[encoded data removed]",
      "text/plain": [
       "<Figure size 1008x576 with 1 Axes>"
      ]
     },
     "metadata": {
      "needs_background": "light"
     },
     "output_type": "display_data"
    }
   ],
   "source": [
    "#Plot stateNumberCode vs. ROI\n",
    "plt.figure(figsize=(14, 8))\n",
    "sns.countplot(y=df['stateNumberCode'], hue=df['Positive_ROI'], palette=\"colorblind\")\n",
    "plt.legend(loc='center right')\n",
    "plt.show()\n",
    "# 0.0 = Not profitable & 1.0 = Profitable"
   ]
  },
  {
   "cell_type": "code",
   "execution_count": 71,
   "metadata": {},
   "outputs": [],
   "source": [
    "# It is very hard to viz the states information as there are many.\n",
    "# A map would be good to make to viz this"
   ]
  },
  {
   "cell_type": "code",
   "execution_count": 72,
   "metadata": {
    "scrolled": true
   },
   "outputs": [
    {
     "ename": "NameError",
     "evalue": "name 'y' is not defined",
     "output_type": "error",
     "traceback": [
      "\u001b[1;31m---------------------------------------------------------------------------\u001b[0m",
      "\u001b[1;31mNameError\u001b[0m                                 Traceback (most recent call last)",
      "\u001b[1;32m<ipython-input-72-c5db88824a5b>\u001b[0m in \u001b[0;36m<module>\u001b[1;34m\u001b[0m\n\u001b[0;32m      3\u001b[0m \u001b[0msns\u001b[0m\u001b[1;33m.\u001b[0m\u001b[0mcountplot\u001b[0m\u001b[1;33m(\u001b[0m\u001b[0mx\u001b[0m\u001b[1;33m=\u001b[0m\u001b[0mdf\u001b[0m\u001b[1;33m[\u001b[0m\u001b[1;34m'programArea'\u001b[0m\u001b[1;33m]\u001b[0m\u001b[1;33m,\u001b[0m \u001b[0mhue\u001b[0m\u001b[1;33m=\u001b[0m\u001b[0mdf\u001b[0m\u001b[1;33m[\u001b[0m\u001b[1;34m'Positive_ROI'\u001b[0m\u001b[1;33m]\u001b[0m\u001b[1;33m,\u001b[0m \u001b[0mpalette\u001b[0m\u001b[1;33m=\u001b[0m\u001b[1;34m\"colorblind\"\u001b[0m\u001b[1;33m)\u001b[0m\u001b[1;33m\u001b[0m\u001b[1;33m\u001b[0m\u001b[0m\n\u001b[0;32m      4\u001b[0m \u001b[0mplt\u001b[0m\u001b[1;33m.\u001b[0m\u001b[0mlegend\u001b[0m\u001b[1;33m(\u001b[0m\u001b[0mloc\u001b[0m\u001b[1;33m=\u001b[0m\u001b[1;34m'center right'\u001b[0m\u001b[1;33m)\u001b[0m\u001b[1;33m\u001b[0m\u001b[1;33m\u001b[0m\u001b[0m\n\u001b[1;32m----> 5\u001b[1;33m \u001b[1;32mfor\u001b[0m \u001b[0mindex\u001b[0m\u001b[1;33m,\u001b[0m \u001b[0mvalue\u001b[0m \u001b[1;32min\u001b[0m \u001b[0menumerate\u001b[0m\u001b[1;33m(\u001b[0m\u001b[0my\u001b[0m\u001b[1;33m)\u001b[0m\u001b[1;33m:\u001b[0m\u001b[1;33m\u001b[0m\u001b[1;33m\u001b[0m\u001b[0m\n\u001b[0m\u001b[0;32m      6\u001b[0m     \u001b[0mplt\u001b[0m\u001b[1;33m.\u001b[0m\u001b[0mtext\u001b[0m\u001b[1;33m(\u001b[0m\u001b[0mvalue\u001b[0m\u001b[1;33m,\u001b[0m \u001b[0mindex\u001b[0m\u001b[1;33m,\u001b[0m \u001b[0mstr\u001b[0m\u001b[1;33m(\u001b[0m\u001b[0mvalue\u001b[0m\u001b[1;33m)\u001b[0m\u001b[1;33m)\u001b[0m\u001b[1;33m\u001b[0m\u001b[1;33m\u001b[0m\u001b[0m\n\u001b[0;32m      7\u001b[0m \u001b[0mplt\u001b[0m\u001b[1;33m.\u001b[0m\u001b[0mshow\u001b[0m\u001b[1;33m(\u001b[0m\u001b[1;33m)\u001b[0m\u001b[1;33m\u001b[0m\u001b[1;33m\u001b[0m\u001b[0m\n",
      "\u001b[1;31mNameError\u001b[0m: name 'y' is not defined"
     ]
    },
    {
     "data": {
      "image/png": "[encoded data removed]",
      "text/plain": [
       "<Figure size 1008x144 with 1 Axes>"
      ]
     },
     "metadata": {
      "needs_background": "light"
     },
     "output_type": "display_data"
    }
   ],
   "source": [
    "#Plot programArea vs. ROI\n",
    "plt.figure(figsize=(14, 2))\n",
    "sns.countplot(x=df['programArea'], hue=df['Positive_ROI'], palette=\"colorblind\")\n",
    "plt.legend(loc='center right')\n",
    "for index, value in enumerate(y):\n",
    "    plt.text(value, index, str(value))\n",
    "plt.show()\n",
    "# 0.0 = Not profitable & 1.0 = Profitable"
   ]
  },
  {
   "cell_type": "code",
   "execution_count": null,
   "metadata": {},
   "outputs": [],
   "source": [
    "## Notes: Need to come back to find out the issue on this"
   ]
  },
  {
   "cell_type": "code",
   "execution_count": null,
   "metadata": {
    "scrolled": false
   },
   "outputs": [],
   "source": [
    "#Plot programFy vs. ROI\n",
    "plt.figure(figsize=(14, 8))\n",
    "ax = sns.countplot(x=df['programFy'], hue=df['Positive_ROI'], palette=\"colorblind\")\n",
    "plt.legend(loc='center right')\n",
    "plt.xticks(rotation=45)\n",
    "\n",
    "# Tweak the visual presentation\n",
    "ax.xaxis.grid(True)\n",
    "ax.set(ylabel=\"Count\")\n",
    "ax.set(xlabel=\"Fiscal Year\")\n",
    "ax.set(title=\"ROI by Fiscal Year\")\n",
    "sns.despine(left=True)\n",
    "\n",
    "plt.show()\n",
    "# 0.0 = Not profitable & 1.0 = Profitable"
   ]
  },
  {
   "cell_type": "code",
   "execution_count": null,
   "metadata": {},
   "outputs": [],
   "source": [
    "# This vizual can show us the trends in ROI over fiscal year\n",
    "# Use for PP"
   ]
  },
  {
   "cell_type": "markdown",
   "metadata": {},
   "source": [
    "# Outlier Removal"
   ]
  },
  {
   "cell_type": "code",
   "execution_count": null,
   "metadata": {},
   "outputs": [],
   "source": [
    "# After researching outlier removal \n",
    "# and exploring our data it is best to do IQR type outlier removal methods\n",
    "\n",
    "def outliersiqr(data):\n",
    "    q1 = np.percentile(data, 25)\n",
    "    q3 = np.percentile(data, 75)\n",
    "    iqr = q3 - q1\n",
    "    threshold = iqr * 1.5\n",
    "    outliers = (data < q1 - threshold) | (data > q3 + threshold)\n",
    "    outliers = pd.Series(outliers, index=data.index)\n",
    "    return outliers"
   ]
  },
  {
   "cell_type": "code",
   "execution_count": null,
   "metadata": {},
   "outputs": [],
   "source": [
    "# Function to make an outlier column which we will then remove outliers from\n",
    "def outlierscolumn(df, columns, verbose=True):\n",
    "    new_df = df.copy()\n",
    "    for col in columns:\n",
    "        outliers = outliersiqr(new_df[col])\n",
    "        if verbose:\n",
    "            print(f'{outliers.sum()} outliers found in {col}')\n",
    "        new_df[f'{col}_outliers'] = outliers\n",
    "    return new_df"
   ]
  },
  {
   "cell_type": "code",
   "execution_count": null,
   "metadata": {},
   "outputs": [],
   "source": [
    "# Feeding in the numerical columns for identifying outliers\n",
    "num_cols = list(df.select_dtypes('number').columns)\n",
    "\n",
    "# Saving the new dataframe with outlier columns added\n",
    "df2 = outlierscolumn(df, num_cols)"
   ]
  },
  {
   "cell_type": "code",
   "execution_count": null,
   "metadata": {},
   "outputs": [],
   "source": [
    "df2.head()"
   ]
  },
  {
   "cell_type": "code",
   "execution_count": null,
   "metadata": {},
   "outputs": [],
   "source": [
    "# Creating a list of the outlier columns\n",
    "outliercols = []\n",
    "for col in df2.columns:\n",
    "    if 'outliers' in col:\n",
    "        outliercols.append(col)\n",
    "outliercols"
   ]
  },
  {
   "cell_type": "code",
   "execution_count": null,
   "metadata": {},
   "outputs": [],
   "source": [
    "# Filtering the outliers out of my dataframe and returning only the entries\n",
    "# that are not outliers for any of the features\n",
    "for col in outliercols:\n",
    "    df2 = df2[(df2[col]==False)]\n",
    "df2.shape"
   ]
  },
  {
   "cell_type": "code",
   "execution_count": null,
   "metadata": {},
   "outputs": [],
   "source": [
    "# Dropping the outlier columns that were added\n",
    "for col in outliercols:\n",
    "    df2.drop(columns=[col], axis=1, inplace=True)"
   ]
  },
  {
   "cell_type": "code",
   "execution_count": null,
   "metadata": {},
   "outputs": [],
   "source": [
    "df2.info()"
   ]
  },
  {
   "cell_type": "code",
   "execution_count": null,
   "metadata": {},
   "outputs": [],
   "source": [
    "df=df2"
   ]
  },
  {
   "cell_type": "code",
   "execution_count": null,
   "metadata": {},
   "outputs": [],
   "source": [
    "df.info()"
   ]
  },
  {
   "cell_type": "code",
   "execution_count": null,
   "metadata": {},
   "outputs": [],
   "source": [
    "sns.distplot(df['projectAmount'], bins='auto')"
   ]
  },
  {
   "cell_type": "code",
   "execution_count": null,
   "metadata": {},
   "outputs": [],
   "source": [
    "df.shape"
   ]
  },
  {
   "cell_type": "code",
   "execution_count": null,
   "metadata": {
    "scrolled": true
   },
   "outputs": [],
   "source": [
    "sns.distplot(df['benefitCostRatio'])"
   ]
  },
  {
   "cell_type": "code",
   "execution_count": null,
   "metadata": {},
   "outputs": [],
   "source": [
    "# We've now removed all of the extreme outliers in benefit cost ratio"
   ]
  },
  {
   "cell_type": "markdown",
   "metadata": {},
   "source": [
    "# EDA After Outlier Removal"
   ]
  },
  {
   "cell_type": "code",
   "execution_count": null,
   "metadata": {},
   "outputs": [],
   "source": [
    "ax = sns.barplot(x=\"programArea\", y=\"projectAmount\", data=df, estimator=np.median)\n",
    "ax.set_title('Program Area vs. Project Amount', fontsize = 18)"
   ]
  },
  {
   "cell_type": "code",
   "execution_count": null,
   "metadata": {},
   "outputs": [],
   "source": [
    "# Initialize the figure with a logarithmic x axis\n",
    "#f, ax = plt.subplots(figsize=(8, 10))\n",
    "\n",
    "# Plot the orbital period with horizontal boxes\n",
    "sns.barplot(y=\"projectAmount\", x=\"programArea\", data=df,\n",
    "            palette=\"colorblind\", estimator=np.median)\n",
    "\n",
    "# Add in points to show each observation\n",
    "sns.stripplot(y=\"projectAmount\", x=\"programArea\", data=df,\n",
    "              size=2, linewidth=0)\n",
    "\n",
    "# Tweak the visual presentation\n",
    "ax.xaxis.grid(True)\n",
    "ax.set(ylabel=\"Program Area\")\n",
    "ax.set(xlabel=\"Project Amount\")\n",
    "ax.set(title=\"Program Amount by Program Area\")\n",
    "sns.despine(left=True)\n",
    "\n",
    "# https://seaborn.pydata.org/examples/horizontal_boxplot.html"
   ]
  },
  {
   "cell_type": "code",
   "execution_count": null,
   "metadata": {},
   "outputs": [],
   "source": [
    "## Note: This is a start on this vizual but very hard to vizualize with the points there\n",
    "# Will try to get the swarmplot to work"
   ]
  },
  {
   "cell_type": "code",
   "execution_count": null,
   "metadata": {
    "scrolled": true
   },
   "outputs": [],
   "source": [
    "# Plot the orbital period with horizontal boxes\n",
    "ax = sns.barplot(y=\"benefitCostRatio\", x=\"programArea\", data=df,\n",
    "            palette=\"colorblind\")\n",
    "\n",
    "# Tweak the visual presentation\n",
    "ax.xaxis.grid(True)\n",
    "ax.set(ylabel=\"Program Area\")\n",
    "ax.set(xlabel=\"Benefit Cost Ratio\")\n",
    "ax.set(title=\"Program ROI Benefit Cost Ratio\")\n",
    "#sns.despine(left=True)\n",
    "\n",
    "# https://seaborn.pydata.org/examples/horizontal_boxplot.html"
   ]
  },
  {
   "cell_type": "code",
   "execution_count": null,
   "metadata": {},
   "outputs": [],
   "source": [
    "## Note: Need to add in the median line"
   ]
  },
  {
   "cell_type": "code",
   "execution_count": null,
   "metadata": {
    "scrolled": true
   },
   "outputs": [],
   "source": [
    "ax = sns.lineplot(x=\"programFy\", y=\"projectAmount\",\n",
    "             data=df)\n",
    "\n",
    "# Tweak the visual presentation\n",
    "ax.xaxis.grid(True)\n",
    "ax.set(ylabel=\"Program Amount\")\n",
    "ax.set(xlabel=\"Fiscal Year\")\n",
    "ax.set(title=\"Program Amount by Fiscal Year\")\n",
    "sns.despine(left=True)"
   ]
  },
  {
   "cell_type": "code",
   "execution_count": null,
   "metadata": {},
   "outputs": [],
   "source": [
    "## Note: Amount by year\n",
    "# Will add to PP\n",
    "# Question from James about light red area"
   ]
  },
  {
   "cell_type": "code",
   "execution_count": null,
   "metadata": {
    "scrolled": true
   },
   "outputs": [],
   "source": [
    "ax = sns.lineplot(x=\"programFy\", y=\"benefitCostRatio\",\n",
    "             data=df)\n",
    "\n",
    "# Tweak the visual presentation\n",
    "ax.xaxis.grid(True)\n",
    "ax.set(ylabel=\"Benefit Cost Ratio\")\n",
    "ax.set(xlabel=\"Fiscal Year\")\n",
    "ax.set(title=\"Benefit Cost Ratio by Fiscal Year\")\n",
    "sns.despine(left=True)"
   ]
  },
  {
   "cell_type": "code",
   "execution_count": null,
   "metadata": {},
   "outputs": [],
   "source": [
    "## Note: Benefit Cost Ratio goes down after 2016\n",
    "# Will add to PP"
   ]
  },
  {
   "cell_type": "code",
   "execution_count": null,
   "metadata": {
    "scrolled": false
   },
   "outputs": [],
   "source": [
    "# Initialize the figure with a logarithmic x axis\n",
    "f, ax = plt.subplots(figsize=(8, 10))\n",
    "\n",
    "# Plot the orbital period with horizontal boxes\n",
    "sns.boxplot(x=\"projectAmount\", y=\"region\", data=df,\n",
    "            width=0.7, palette=\"colorblind\")\n",
    "\n",
    "# Add in points to show each observation\n",
    "sns.stripplot(x=\"projectAmount\", y=\"region\", data=df,\n",
    "              size=2, linewidth=0)\n",
    "\n",
    "# Tweak the visual presentation\n",
    "ax.xaxis.grid(True)\n",
    "ax.set(ylabel=\"Region\")\n",
    "ax.set(xlabel=\"Project Amount\")\n",
    "ax.set(title=\"Program Amount by Region\")\n",
    "sns.despine(left=True)\n",
    "\n",
    "# https://seaborn.pydata.org/examples/horizontal_boxplot.html"
   ]
  },
  {
   "cell_type": "code",
   "execution_count": null,
   "metadata": {},
   "outputs": [],
   "source": [
    "## Note: May ve nire helpful to see this vizual with a bar and swarm plot"
   ]
  },
  {
   "cell_type": "code",
   "execution_count": null,
   "metadata": {
    "scrolled": true
   },
   "outputs": [],
   "source": [
    "# Initialize the figure with a logarithmic x axis\n",
    "f, ax = plt.subplots(figsize=(8, 10))\n",
    "\n",
    "# Plot the orbital period with horizontal boxes\n",
    "sns.barplot(x=\"projectAmount\", y=\"region\", data=df,\n",
    "            palette=\"colorblind\")\n",
    "\n",
    "# Add in points to show each observation\n",
    "sns.swarmplot(x=\"projectAmount\", y=\"region\", data=df,\n",
    "              size=2, linewidth=0)\n",
    "\n",
    "# Tweak the visual presentation\n",
    "ax.xaxis.grid(True)\n",
    "ax.set(ylabel=\"Region\")\n",
    "ax.set(xlabel=\"Project Amount\")\n",
    "ax.set(title=\"Program Amount by Region\")\n",
    "sns.despine(left=True)\n",
    "\n",
    "# https://seaborn.pydata.org/examples/horizontal_boxplot.html"
   ]
  },
  {
   "cell_type": "code",
   "execution_count": null,
   "metadata": {},
   "outputs": [],
   "source": [
    "## Note: Takes a very long time to load but should distribution withouth covering up our barplot too much\n",
    "# Will add to PP"
   ]
  },
  {
   "cell_type": "code",
   "execution_count": null,
   "metadata": {
    "scrolled": true
   },
   "outputs": [],
   "source": [
    "ax = sns.catplot(x=\"projectAmount\", y=\"region\", hue=\"Positive_ROI\",\n",
    "            kind=\"violin\", split=True, pallete=\"colorblind\", data=df)\n",
    "plt.title('Program Area ROI by Program Amount', fontsize=(20))\n",
    "\n",
    "# Tweak the visual presentation\n",
    "ax.set(ylabel=\"Region\")\n",
    "ax.set(xlabel=\"Project Amount\")\n",
    "sns.despine(left=True)\n",
    "\n",
    "plt.show()"
   ]
  },
  {
   "cell_type": "code",
   "execution_count": null,
   "metadata": {},
   "outputs": [],
   "source": [
    "## Note: We will also want to make this in case we want to use but the barplot/swarmplot if possible"
   ]
  },
  {
   "cell_type": "code",
   "execution_count": null,
   "metadata": {
    "scrolled": true
   },
   "outputs": [],
   "source": [
    "# Initialize the figure with a logarithmic x axis\n",
    "f, ax = plt.subplots(figsize=(8, 10))\n",
    "\n",
    "# Plot the orbital period with horizontal boxes\n",
    "sns.boxplot(x=\"benefitCostRatio\", y=\"region\", data=df,\n",
    "            width=0.7, palette=\"colorblind\")\n",
    "\n",
    "# Add in points to show each observation\n",
    "sns.stripplot(x=\"benefitCostRatio\", y=\"region\", data=df,\n",
    "              size=2, linewidth=0)\n",
    "\n",
    "# Tweak the visual presentation\n",
    "ax.xaxis.grid(True)\n",
    "ax.set(ylabel=\"Region\")\n",
    "ax.set(xlabel=\"Benefit Cost Ratio\")\n",
    "ax.set(title=\"Region ROI by Benefit Cost Ratio\")\n",
    "sns.despine(left=True)\n",
    "\n",
    "# https://seaborn.pydata.org/examples/horizontal_boxplot.html"
   ]
  },
  {
   "cell_type": "code",
   "execution_count": null,
   "metadata": {},
   "outputs": [],
   "source": [
    "## Note: Something is going wrong here that I need to figure out why\n",
    "# The reason for this may be because the benefit cost ratio is binned to be from 0, 1, 2"
   ]
  },
  {
   "cell_type": "code",
   "execution_count": null,
   "metadata": {
    "scrolled": true
   },
   "outputs": [],
   "source": [
    "ax = sns.catplot(x=\"projectAmount\", y=\"programArea\", hue=\"Positive_ROI\",\n",
    "            kind=\"violin\", split=True, pallete=\"colorblind\", data=df)\n",
    "plt.title('Program Area ROI by Program Amount', fontsize=(20))\n",
    "\n",
    "# Tweak the visual presentation\n",
    "ax.set(ylabel=\"Program Area\")\n",
    "ax.set(xlabel=\"Project Amount\")\n",
    "sns.despine(left=True)\n",
    "\n",
    "plt.show()"
   ]
  },
  {
   "cell_type": "code",
   "execution_count": null,
   "metadata": {},
   "outputs": [],
   "source": [
    "## Violin plot may not be best to convey the message, we will try to make bar/swarm"
   ]
  },
  {
   "cell_type": "code",
   "execution_count": null,
   "metadata": {},
   "outputs": [],
   "source": [
    "# Initialize the figure with a logarithmic x axis\n",
    "f, ax = plt.subplots(figsize=(8, 10))\n",
    "\n",
    "# Plot the orbital period with horizontal boxes\n",
    "sns.barplot(x=\"projectAmount\", y=\"programArea\", data=df,\n",
    "            palette=\"colorblind\")\n",
    "\n",
    "# Add in points to show each observation\n",
    "sns.swarmplot(x=\"projectAmount\", y=\"programArea\", data=df,\n",
    "              size=2, linewidth=0)\n",
    "\n",
    "# Tweak the visual presentation\n",
    "ax.xaxis.grid(True)\n",
    "ax.set(ylabel=\"Program Area\")\n",
    "ax.set(xlabel=\"Project Amount\")\n",
    "ax.set(title=\"Program Amount by Program Area\")\n",
    "sns.despine(left=True)\n",
    "\n",
    "# https://seaborn.pydata.org/examples/horizontal_boxplot.html"
   ]
  },
  {
   "cell_type": "code",
   "execution_count": null,
   "metadata": {},
   "outputs": [],
   "source": [
    "#Plot region vs. ROI\n",
    "plt.figure(figsize=(14, 8))\n",
    "ax = sns.countplot(x=df2['region'], hue=df2['Positive_ROI'], palette=\"colorblind\")\n",
    "plt.legend(loc='center right')\n",
    "ax.legend(title=\"ROI\")\n",
    "plt.title('Region ROI', fontsize=(20))\n",
    "plt.show()\n",
    "# 0.0 = Not profitable & 1.0 = Profitable"
   ]
  },
  {
   "cell_type": "code",
   "execution_count": null,
   "metadata": {},
   "outputs": [],
   "source": [
    "#Plot stateNumberCode vs. ROI\n",
    "plt.figure(figsize=(14, 8))\n",
    "sns.countplot(x=df2['stateNumberCode'], hue=df2['Positive_ROI'], palette=\"colorblind\")\n",
    "plt.legend(loc='center right')\n",
    "plt.show()\n",
    "# 0.0 = Not profitable & 1.0 = Profitable"
   ]
  },
  {
   "cell_type": "code",
   "execution_count": null,
   "metadata": {
    "scrolled": true
   },
   "outputs": [],
   "source": [
    "#Plot programArea vs. ROI\n",
    "plt.figure(figsize=(14, 8))\n",
    "sns.countplot(data=df2, y='programArea', hue='Positive_ROI', palette=\"colorblind\")\n",
    "plt.legend(loc='center right')\n",
    "plt.show()\n",
    "# 0.0 = Not profitable & 1.0 = Profitable"
   ]
  },
  {
   "cell_type": "code",
   "execution_count": null,
   "metadata": {},
   "outputs": [],
   "source": [
    "#Plot programFy vs. ROI\n",
    "plt.figure(figsize=(14, 8))\n",
    "sns.countplot(y=df2['programFy'], hue=df2['Positive_ROI'], palette=\"colorblind\")\n",
    "plt.legend(loc='center right')\n",
    "plt.show()\n",
    "# 0.0 = Not profitable & 1.0 = Profitable"
   ]
  },
  {
   "cell_type": "code",
   "execution_count": null,
   "metadata": {},
   "outputs": [],
   "source": [
    "# The outliers need to be addressed\n",
    "df = df[(df['projectAmount']<500000)]"
   ]
  },
  {
   "cell_type": "code",
   "execution_count": null,
   "metadata": {},
   "outputs": [],
   "source": [
    "plt.figure(figsize=(20, 8))\n",
    "ax = sns.distplot(df['projectAmount'], bins='auto')\n",
    "plt.title('Project Amount', fontsize=(20))\n",
    "ax.set(xlabel=\"Project Amount\")\n",
    "plt.show()"
   ]
  },
  {
   "cell_type": "code",
   "execution_count": null,
   "metadata": {},
   "outputs": [],
   "source": [
    "# Initialize the figure with a logarithmic x axis\n",
    "f, ax = plt.subplots(figsize=(8, 10))\n",
    "\n",
    "# Plot the orbital period with horizontal boxes\n",
    "sns.boxplot(x=\"benefitCostRatio\", y=\"region\", data=df,\n",
    "            width=0.7, palette=\"colorblind\")\n",
    "\n",
    "# Add in points to show each observation\n",
    "sns.stripplot(x=\"benefitCostRatio\", y=\"region\", data=df,\n",
    "              size=2, linewidth=0)\n",
    "\n",
    "# Tweak the visual presentation\n",
    "ax.xaxis.grid(True)\n",
    "ax.set(ylabel=\"Region\")\n",
    "ax.set(xlabel=\"Project Amount\")\n",
    "ax.set(title=\"Program Amount by Region\")\n",
    "sns.despine(left=True)\n",
    "\n",
    "# https://seaborn.pydata.org/examples/horizontal_boxplot.html"
   ]
  },
  {
   "cell_type": "code",
   "execution_count": null,
   "metadata": {
    "scrolled": false
   },
   "outputs": [],
   "source": [
    "df = pd.get_dummies(df)"
   ]
  },
  {
   "cell_type": "code",
   "execution_count": null,
   "metadata": {},
   "outputs": [],
   "source": [
    "df.drop(columns=['benefitCostRatio'], inplace=True)"
   ]
  },
  {
   "cell_type": "code",
   "execution_count": null,
   "metadata": {},
   "outputs": [],
   "source": [
    "df.head()"
   ]
  },
  {
   "cell_type": "markdown",
   "metadata": {},
   "source": [
    "# Logistic Model #1"
   ]
  },
  {
   "cell_type": "markdown",
   "metadata": {},
   "source": [
    "### Supervised Machine Learning Algorithm that can be used for Classification or Regression. Used to predict the categorical dependent variable with the help of independent variables."
   ]
  },
  {
   "cell_type": "code",
   "execution_count": null,
   "metadata": {},
   "outputs": [],
   "source": [
    "#Split features and target\n",
    "X = df.drop(columns=['Positive_ROI'], axis=1)\n",
    "y = df['Positive_ROI']\n",
    "\n",
    "# Normalizing the data\n",
    "X = X.apply(lambda x : (x - x.min()) /(x.max() - x.min()), axis=0)\n",
    "X.head()\n",
    "\n",
    "#Split the data into train and test sets\n",
    "X_train, X_test, y_train, y_test = train_test_split(X, y, test_size=.20, random_state=123)\n",
    "    \n",
    "#Scale the data\n",
    "scaler = StandardScaler()\n",
    "X_train = scaler.fit_transform(X_train)\n",
    "X_test = scaler.transform(X_test)"
   ]
  },
  {
   "cell_type": "code",
   "execution_count": null,
   "metadata": {},
   "outputs": [],
   "source": [
    "#Create function to easily build models and display results\n",
    "def build_model(classifier, X_train, X_test, y_train,  y_test):\n",
    "    '''Build classification model, returning classification report, train and test accuracy, and confusion matrix.\n",
    "    \n",
    "    Keyword arguments: \n",
    "    classifier -- classification algorithm\n",
    "    predictors -- X, features\n",
    "    labels -- y, target\n",
    "    '''\n",
    "    \n",
    "    #Create variables that can be called outside function\n",
    "    #build_model.X_train = X_train\n",
    "    #build_model.X_test = X_test\n",
    "    #build_model.y_train = y_train\n",
    "    #build_model.y_test = y_test\n",
    "    \n",
    "    #Fit model\n",
    "    classifier.fit(X_train, y_train)\n",
    "    #score = np.mean(cross_val_score(classifier, X, y, cv=5, scoring='recall'))\n",
    "\n",
    "    #Create predictions\n",
    "    y_hat_train = classifier.predict(X_train)\n",
    "    y_hat_test = classifier.predict(X_test)\n",
    "    \n",
    "    #Create variables that can be called outside function\n",
    "    #build_model.y_hat_train = y_hat_train\n",
    "    #build_model.y_hat_test = y_hat_test\n",
    "    \n",
    "    #Print classification report\n",
    "    print('Train Classification Report\\n', classification_report(y_train, y_hat_train))\n",
    "    print('Test Classification Report\\n', classification_report(y_test, y_hat_test))\n",
    "    \n",
    "    print('Train Accuracy:', round(accuracy_score(y_train, y_hat_train), 3))\n",
    "    print('Test Accuracy:', round(accuracy_score(y_test, y_hat_test), 3))\n",
    "    #print('Cross Validation Recall', round(score, 3))\n",
    "    \n",
    "    #Create a results dataframe\n",
    "    #results = pd.DataFrame([[str(model), round(accuracy_score(y_train, y_hat_train), 3), \n",
    "     #                        round(accuracy_score(y_test, y_hat_test), 3), round(score, 3)]], \n",
    "      #                    columns=['Model', 'Train_Accuracy', 'Test_Accuracy', 'Cross_Val_Recall'])\n",
    "    #build_model.results = results\n",
    "    \n",
    "    #Plot Confusion Matrices\n",
    "    fig, axes = plt.subplots(nrows=1, ncols=2, figsize=(14, 8))\n",
    "    plot_confusion_matrix(classifier, X_train, y_train,\n",
    "                     cmap=plt.cm.Blues, ax=axes[0], normalize='true')\n",
    "    fig.suptitle('Train & Test Confusion Matrices', fontsize=16);\n",
    "    \n",
    "    plot_confusion_matrix(classifier, X_test, y_test,\n",
    "                     cmap=plt.cm.Blues, ax=axes[1], normalize='true')\n",
    "    plt.subplots_adjust(wspace=0.4)\n",
    "    return classifier    "
   ]
  },
  {
   "cell_type": "code",
   "execution_count": null,
   "metadata": {
    "scrolled": true
   },
   "outputs": [],
   "source": [
    "log_reg = LogisticRegression()\n",
    "build_model(log_reg, X_train, X_test, y_train,  y_test)"
   ]
  },
  {
   "cell_type": "markdown",
   "metadata": {},
   "source": [
    "## Results:\n",
    "- Train Accuracy: 0.946\n",
    "- Test Accuracy: 0.944"
   ]
  },
  {
   "cell_type": "code",
   "execution_count": null,
   "metadata": {
    "scrolled": true
   },
   "outputs": [],
   "source": [
    "features = '+'.join(df.drop('Positive_ROI', axis = 1).columns)\n",
    "formula = 'Positive_ROI ~' + features\n",
    "model1 = smf.ols(formula, df).fit()\n",
    "model1.summary()"
   ]
  },
  {
   "cell_type": "code",
   "execution_count": null,
   "metadata": {
    "scrolled": false
   },
   "outputs": [],
   "source": [
    "model1.params"
   ]
  },
  {
   "cell_type": "markdown",
   "metadata": {},
   "source": [
    "### We can see that we have some columns/features that are highly correlated including projectAmount, which is used to calculate the Positive ROI and netValueBenefits which has the same issue of correlation. Because of this we will delete these two columns"
   ]
  },
  {
   "cell_type": "markdown",
   "metadata": {},
   "source": [
    "# Logistic Model #2"
   ]
  },
  {
   "cell_type": "code",
   "execution_count": null,
   "metadata": {},
   "outputs": [],
   "source": [
    "df.drop(columns=['projectAmount', 'netValueBenefits'], inplace=True)"
   ]
  },
  {
   "cell_type": "code",
   "execution_count": null,
   "metadata": {},
   "outputs": [],
   "source": [
    "df.head()"
   ]
  },
  {
   "cell_type": "code",
   "execution_count": null,
   "metadata": {
    "scrolled": false
   },
   "outputs": [],
   "source": [
    "# QQ plot to see if our data is linear\n",
    "fig1 = plt.figure(figsize = (12,6))\n",
    "fig1 = sm.graphics.qqplot(model1.resid,fit=True, line='45');"
   ]
  },
  {
   "cell_type": "code",
   "execution_count": null,
   "metadata": {},
   "outputs": [],
   "source": [
    "# Coment on qq plot\n",
    "# R-squared .4"
   ]
  },
  {
   "cell_type": "code",
   "execution_count": null,
   "metadata": {},
   "outputs": [],
   "source": [
    "log_reg_2 = LogisticRegression()\n",
    "build_model(log_reg, X_train, X_test, y_train,  y_test)"
   ]
  },
  {
   "cell_type": "code",
   "execution_count": null,
   "metadata": {},
   "outputs": [],
   "source": [
    "features = '+'.join(df.drop('Positive_ROI', axis = 1).columns)\n",
    "formula = 'Positive_ROI ~' + features\n",
    "model1 = smf.ols(formula, df).fit()\n",
    "model1.summary()"
   ]
  },
  {
   "cell_type": "code",
   "execution_count": null,
   "metadata": {
    "scrolled": false
   },
   "outputs": [],
   "source": [
    "model1.params"
   ]
  },
  {
   "cell_type": "markdown",
   "metadata": {},
   "source": [
    "**To note in our first logistic regression model we can see that regions 1, 2, 3, and 4 are the strongest intercepts.**"
   ]
  },
  {
   "cell_type": "code",
   "execution_count": null,
   "metadata": {
    "scrolled": true
   },
   "outputs": [],
   "source": [
    "log_reg = LogisticRegression()\n",
    "build_model(log_reg, X_train, X_test, y_train,  y_test)"
   ]
  },
  {
   "cell_type": "markdown",
   "metadata": {},
   "source": [
    "**No changes have occurred because the only thing that we have changed is removing two variables that were highly correlated to our target.**"
   ]
  },
  {
   "cell_type": "markdown",
   "metadata": {},
   "source": [
    "# Baye's Classification Model"
   ]
  },
  {
   "cell_type": "markdown",
   "metadata": {},
   "source": [
    "## Classifies based on conditional probabilities of finding certain features"
   ]
  },
  {
   "cell_type": "code",
   "execution_count": null,
   "metadata": {},
   "outputs": [],
   "source": [
    "bayesmodel = GaussianNB()\n",
    "build_model(bayesmodel, X_train, X_test, y_train,  y_test)"
   ]
  },
  {
   "cell_type": "markdown",
   "metadata": {},
   "source": [
    "# Multinomial Bayes Model"
   ]
  },
  {
   "cell_type": "markdown",
   "metadata": {},
   "source": [
    "## Classifies based on conditional probabilities, splits based on Gini/entropy\n"
   ]
  },
  {
   "cell_type": "code",
   "execution_count": null,
   "metadata": {},
   "outputs": [],
   "source": [
    "descisionmodel = DecisionTreeClassifier()\n",
    "build_model(descisionmodel, X_train, X_test, y_train,  y_test)"
   ]
  },
  {
   "cell_type": "markdown",
   "metadata": {},
   "source": [
    "# Random Forest Model"
   ]
  },
  {
   "cell_type": "markdown",
   "metadata": {},
   "source": [
    "## Uses multiple decision trees to create a \"forest\"; each tree uses a random set of sample features"
   ]
  },
  {
   "cell_type": "code",
   "execution_count": null,
   "metadata": {},
   "outputs": [],
   "source": [
    "randomforestmodel = RandomForestClassifier()\n",
    "build_model(randomforestmodel, X_train, X_test, y_train,  y_test)"
   ]
  },
  {
   "cell_type": "markdown",
   "metadata": {},
   "source": [
    "# XGBoost Model\n"
   ]
  },
  {
   "cell_type": "markdown",
   "metadata": {},
   "source": [
    "## Stands for “Extreme Gradient Boosting”. XGBoost is an implementation of gradient boosted decision trees designed for speed and performance."
   ]
  },
  {
   "cell_type": "code",
   "execution_count": null,
   "metadata": {},
   "outputs": [],
   "source": [
    "xgboostmodel = xgboost.XGBClassifier()\n",
    "build_model(xgboostmodel, X_train, X_test, y_train,  y_test)"
   ]
  },
  {
   "cell_type": "markdown",
   "metadata": {},
   "source": [
    "# Conclusions"
   ]
  },
  {
   "cell_type": "markdown",
   "metadata": {},
   "source": [
    "- More funds should be allocated to hazard mitigation in all categories as natural disasters and subsequently recovery are increasing"
   ]
  },
  {
   "cell_type": "markdown",
   "metadata": {},
   "source": [
    "**Less common Natural Disaster Preparedness**\n",
    "\n",
    "- The costs of COVID-19 surpass all categories of natural disaster recovery costs**\n",
    "\n",
    "- Volcanoes were second highest cost even though they are less common natural disaster**\n"
   ]
  }
 ],
 "metadata": {
  "kernelspec": {
   "display_name": "Python [conda env:learn-env] *",
   "language": "python",
   "name": "conda-env-learn-env-py"
  },
  "language_info": {
   "codemirror_mode": {
    "name": "ipython",
    "version": 3
   },
   "file_extension": ".py",
   "mimetype": "text/x-python",
   "name": "python",
   "nbconvert_exporter": "python",
   "pygments_lexer": "ipython3",
   "version": "3.6.9"
  },
  "toc": {
   "base_numbering": 1,
   "nav_menu": {},
   "number_sections": false,
   "sideBar": true,
   "skip_h1_title": false,
   "title_cell": "Table of Contents",
   "title_sidebar": "Contents",
   "toc_cell": false,
   "toc_position": {
    "height": "calc(100% - 180px)",
    "left": "10px",
    "top": "150px",
    "width": "219.188px"
   },
   "toc_section_display": true,
   "toc_window_display": true
  }
 },
 "nbformat": 4,
 "nbformat_minor": 2
}
