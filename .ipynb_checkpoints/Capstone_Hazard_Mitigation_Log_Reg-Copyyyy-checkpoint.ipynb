{
 "cells": [
  {
   "cell_type": "markdown",
   "metadata": {},
   "source": [
    "# Capstone - FEMA Hazard Mitigation Regression Analysis"
   ]
  },
  {
   "cell_type": "markdown",
   "metadata": {},
   "source": [
    "**By Rachel Beery**"
   ]
  },
  {
   "cell_type": "markdown",
   "metadata": {},
   "source": [
    "**For my capstone I want to study community resilency and predict hazard mitigation success. I will be using the OpenFEMA datasets. My project will use supervised learning linear regression modeling to predict hazard mitigation success.**"
   ]
  },
  {
   "cell_type": "markdown",
   "metadata": {},
   "source": [
    "**In this project we are using a regression analysis model to understand the ROI of hazard mitigation costs in USD. By understanding these patterns we will then provide recommendations on how to better allocate hazard mitigation funds in the future.**"
   ]
  },
  {
   "cell_type": "markdown",
   "metadata": {},
   "source": [
    "Source: https://www.fema.gov/about/openfema/data-sets"
   ]
  },
  {
   "cell_type": "markdown",
   "metadata": {},
   "source": [
    "### Goals: \n",
    "- Make a linear regression to see if there is a pattern overtime in hazard mitigation.\n",
    "- Make a linear regression to see if there is a pattern overtime in recovery funds.\n",
    "- Somehow bring these two together to see if certain hazard mitigation had more ROI\n",
    "- Make categoricals for years"
   ]
  },
  {
   "cell_type": "markdown",
   "metadata": {},
   "source": [
    "# Data Exploration and Cleaning"
   ]
  },
  {
   "cell_type": "code",
   "execution_count": 1,
   "metadata": {},
   "outputs": [],
   "source": [
    "# We will begin by importing all of the packages we anticipate to use\n",
    "import pandas as pd\n",
    "import pandas.tseries  \n",
    "import numpy as np  \n",
    "\n",
    "import statsmodels.api as sm \n",
    "import itertools\n",
    "\n",
    "import matplotlib.pyplot as plt   \n",
    "from matplotlib.pylab import rcParams \n",
    "%matplotlib inline\n",
    "import matplotlib.ticker as mtick\n",
    "plt.style.use('ggplot') \n",
    "import plotly.express as px\n",
    "import plotly.figure_factory as ff \n",
    "import plotly.graph_objects as go \n",
    "import seaborn as sns  \n",
    "\n",
    "from statsmodels.tsa.arima_model import ARMA\n",
    "from statsmodels.tsa.statespace.sarimax import SARIMAX\n",
    "\n",
    "import warnings\n",
    "warnings.filterwarnings('ignore') \n",
    "\n",
    "import math\n",
    "import scipy.stats as stats\n",
    "\n",
    "from sklearn.preprocessing import StandardScaler\n",
    "import statsmodels.api as sm\n",
    "from scipy import stats\n",
    "import statsmodels.formula.api as smf\n",
    "from statsmodels.stats.outliers_influence import variance_inflation_factor\n",
    "\n",
    "from sklearn.model_selection import train_test_split\n",
    "from sklearn.metrics import mean_squared_error, make_scorer\n",
    "from sklearn.metrics import roc_auc_score\n",
    "from sklearn.model_selection import cross_val_score\n",
    "from sklearn.metrics import r2_score\n",
    "from sklearn.linear_model import LinearRegression, LogisticRegression, LogisticRegressionCV\n",
    "# CV - why not importing\n",
    "\n",
    "from sklearn.feature_selection import VarianceThreshold, SelectFromModel\n",
    "linreg = LinearRegression()\n",
    "\n",
    "from sklearn.model_selection import GridSearchCV, cross_val_score\n",
    "from sklearn.preprocessing import StandardScaler, MinMaxScaler\n",
    "from sklearn.neighbors import KNeighborsClassifier\n",
    "from sklearn.linear_model import LogisticRegression\n",
    "from sklearn.model_selection import train_test_split\n",
    "from sklearn.ensemble import RandomForestClassifier, AdaBoostClassifier, GradientBoostingClassifier\n",
    "from sklearn.pipeline import Pipeline\n",
    "from sklearn.metrics import classification_report, confusion_matrix, precision_score, accuracy_score, recall_score, f1_score, roc_curve, auc\n",
    "from sklearn.preprocessing import OneHotEncoder\n",
    "from sklearn.metrics import plot_confusion_matrix\n",
    "from sklearn.naive_bayes import MultinomialNB\n",
    "from sklearn.tree import DecisionTreeClassifier\n",
    "import xgboost"
   ]
  },
  {
   "cell_type": "code",
   "execution_count": 2,
   "metadata": {},
   "outputs": [],
   "source": [
    "# Setting the display defaults\n",
    "pd.set_option('display.max_columns', 0)\n",
    "# pd.set_option('display.max_rows',)\n",
    "\n",
    "# Turning off scientific notation in pandas\n",
    "pd.set_option('display.float_format', lambda x: '%.3f' % x)"
   ]
  },
  {
   "cell_type": "code",
   "execution_count": 3,
   "metadata": {
    "scrolled": true
   },
   "outputs": [
    {
     "data": {
      "text/html": [
       "<div>\n",
       "<style scoped>\n",
       "    .dataframe tbody tr th:only-of-type {\n",
       "        vertical-align: middle;\n",
       "    }\n",
       "\n",
       "    .dataframe tbody tr th {\n",
       "        vertical-align: top;\n",
       "    }\n",
       "\n",
       "    .dataframe thead th {\n",
       "        text-align: right;\n",
       "    }\n",
       "</style>\n",
       "<table border=\"1\" class=\"dataframe\">\n",
       "  <thead>\n",
       "    <tr style=\"text-align: right;\">\n",
       "      <th></th>\n",
       "      <th>region</th>\n",
       "      <th>stateNumberCode</th>\n",
       "      <th>state</th>\n",
       "      <th>countyCode</th>\n",
       "      <th>county</th>\n",
       "      <th>programArea</th>\n",
       "      <th>projectIdentifier</th>\n",
       "      <th>projectType</th>\n",
       "      <th>projectTitle</th>\n",
       "      <th>projectCounties</th>\n",
       "      <th>numberOfProperties</th>\n",
       "      <th>numberOfFinalProperties</th>\n",
       "      <th>status</th>\n",
       "      <th>subgrantee</th>\n",
       "      <th>costSharePercentage</th>\n",
       "      <th>projectAmount</th>\n",
       "      <th>federalShareObligated</th>\n",
       "      <th>programFy</th>\n",
       "      <th>dateInitiallyApproved</th>\n",
       "      <th>dateApproved</th>\n",
       "      <th>dateClosed</th>\n",
       "      <th>granteeTribalIndicator</th>\n",
       "      <th>grantee</th>\n",
       "      <th>disasterNumber</th>\n",
       "      <th>benefitCostRatio</th>\n",
       "      <th>netValueBenefits</th>\n",
       "      <th>subgranteeTribalIndicator</th>\n",
       "      <th>hash</th>\n",
       "      <th>lastRefresh</th>\n",
       "      <th>id</th>\n",
       "    </tr>\n",
       "  </thead>\n",
       "  <tbody>\n",
       "    <tr>\n",
       "      <td>0</td>\n",
       "      <td>6</td>\n",
       "      <td>48</td>\n",
       "      <td>Texas</td>\n",
       "      <td>167.000</td>\n",
       "      <td>Galveston</td>\n",
       "      <td>HMGP</td>\n",
       "      <td>DR-1999-0061-R</td>\n",
       "      <td>400.1: Utility Protective Measures (Electric, ...</td>\n",
       "      <td>UTMB Elevation of Electrical Services Bldg 9</td>\n",
       "      <td>GALVESTON</td>\n",
       "      <td>0</td>\n",
       "      <td>0</td>\n",
       "      <td>Closed</td>\n",
       "      <td>UNIVERSITY OF TEXAS MEDICAL BRANCH</td>\n",
       "      <td>0.750</td>\n",
       "      <td>402910.000</td>\n",
       "      <td>302181.820</td>\n",
       "      <td>2011</td>\n",
       "      <td>2013-12-10T05:00:00.000Z</td>\n",
       "      <td>2020-02-06T05:00:00.000Z</td>\n",
       "      <td>2020-02-06T05:00:00.000Z</td>\n",
       "      <td>0.000</td>\n",
       "      <td>Statewide</td>\n",
       "      <td>1999.000</td>\n",
       "      <td>4.041</td>\n",
       "      <td>2969310.000</td>\n",
       "      <td>0.000</td>\n",
       "      <td>a959dc8cb69df0bd7f236b2021101501</td>\n",
       "      <td>2020-09-17T18:15:38.772Z</td>\n",
       "      <td>5f63a7ca31a8c6681c9dfd79</td>\n",
       "    </tr>\n",
       "    <tr>\n",
       "      <td>1</td>\n",
       "      <td>5</td>\n",
       "      <td>18</td>\n",
       "      <td>Indiana</td>\n",
       "      <td>21.000</td>\n",
       "      <td>Clay</td>\n",
       "      <td>HMGP</td>\n",
       "      <td>DR-1997-0014-R</td>\n",
       "      <td>200.1: Acquisition of Private Real Property (S...</td>\n",
       "      <td>City of Brazil Phase 2</td>\n",
       "      <td>CLAY</td>\n",
       "      <td>13</td>\n",
       "      <td>6</td>\n",
       "      <td>Closed</td>\n",
       "      <td>Brazil</td>\n",
       "      <td>0.620</td>\n",
       "      <td>366071.000</td>\n",
       "      <td>227383.000</td>\n",
       "      <td>2011</td>\n",
       "      <td>2013-04-09T04:00:00.000Z</td>\n",
       "      <td>2019-11-25T05:00:00.000Z</td>\n",
       "      <td>2019-11-25T05:00:00.000Z</td>\n",
       "      <td>0.000</td>\n",
       "      <td>Statewide</td>\n",
       "      <td>1997.000</td>\n",
       "      <td>1.357</td>\n",
       "      <td>961452.000</td>\n",
       "      <td>0.000</td>\n",
       "      <td>cb8464b16e232b502ef9c8a3d385752b</td>\n",
       "      <td>2020-09-17T18:15:38.771Z</td>\n",
       "      <td>5f63a7ca31a8c6681c9dfd81</td>\n",
       "    </tr>\n",
       "    <tr>\n",
       "      <td>2</td>\n",
       "      <td>7</td>\n",
       "      <td>19</td>\n",
       "      <td>Iowa</td>\n",
       "      <td>153.000</td>\n",
       "      <td>Polk</td>\n",
       "      <td>HMGP</td>\n",
       "      <td>DR-1998-0022-P</td>\n",
       "      <td>91.1: Local Multihazard Mitigation Plan</td>\n",
       "      <td>Polk Countywide Multi-Jurisdiction Multi-Hazar...</td>\n",
       "      <td>POLK</td>\n",
       "      <td>0</td>\n",
       "      <td>0</td>\n",
       "      <td>Closed</td>\n",
       "      <td>Polk (County)</td>\n",
       "      <td>0.750</td>\n",
       "      <td>96965.000</td>\n",
       "      <td>72724.000</td>\n",
       "      <td>2011</td>\n",
       "      <td>2012-05-10T04:00:00.000Z</td>\n",
       "      <td>2015-07-28T04:00:00.000Z</td>\n",
       "      <td>2015-07-29T04:00:00.000Z</td>\n",
       "      <td>0.000</td>\n",
       "      <td>Statewide</td>\n",
       "      <td>1998.000</td>\n",
       "      <td>0.000</td>\n",
       "      <td>0.000</td>\n",
       "      <td>0.000</td>\n",
       "      <td>bd467ece18ecc6c8a40b824175b7f029</td>\n",
       "      <td>2020-09-17T18:15:38.772Z</td>\n",
       "      <td>5f63a7ca31a8c6681c9dfd84</td>\n",
       "    </tr>\n",
       "    <tr>\n",
       "      <td>3</td>\n",
       "      <td>2</td>\n",
       "      <td>36</td>\n",
       "      <td>New York</td>\n",
       "      <td>83.000</td>\n",
       "      <td>Rensselaer</td>\n",
       "      <td>HMGP</td>\n",
       "      <td>DR-4020-0064-F</td>\n",
       "      <td>600.1: Warning Systems (as a Component of a Pl...</td>\n",
       "      <td>Canal Flood Warning System</td>\n",
       "      <td>OSWEGO; ONTARIO; SARATOGA; SCHENECTADY; SCHOHA...</td>\n",
       "      <td>0</td>\n",
       "      <td>0</td>\n",
       "      <td>Closed</td>\n",
       "      <td>THRUWY AUTH/NYS CANAL CORP</td>\n",
       "      <td>1.000</td>\n",
       "      <td>5932500.000</td>\n",
       "      <td>5932500.000</td>\n",
       "      <td>2011</td>\n",
       "      <td>2013-11-12T05:00:00.000Z</td>\n",
       "      <td>2014-11-07T05:00:00.000Z</td>\n",
       "      <td>2018-01-24T05:00:00.000Z</td>\n",
       "      <td>0.000</td>\n",
       "      <td>Statewide</td>\n",
       "      <td>4020.000</td>\n",
       "      <td>0.000</td>\n",
       "      <td>0.000</td>\n",
       "      <td>0.000</td>\n",
       "      <td>ab6774d20b7cd64215ded6135377cc1e</td>\n",
       "      <td>2021-01-19T17:38:38.392Z</td>\n",
       "      <td>5f63a7ca31a8c6681c9dfd87</td>\n",
       "    </tr>\n",
       "    <tr>\n",
       "      <td>4</td>\n",
       "      <td>7</td>\n",
       "      <td>19</td>\n",
       "      <td>Iowa</td>\n",
       "      <td>141.000</td>\n",
       "      <td>O'Brien</td>\n",
       "      <td>HMGP</td>\n",
       "      <td>DR-1998-0013-F</td>\n",
       "      <td>600.1: Warning Systems (as a Component of a Pl...</td>\n",
       "      <td>Sheldon Outdoor Warning Sirens Project</td>\n",
       "      <td>O'BRIEN</td>\n",
       "      <td>0</td>\n",
       "      <td>0</td>\n",
       "      <td>Closed</td>\n",
       "      <td>Sheldon</td>\n",
       "      <td>0.750</td>\n",
       "      <td>34245.000</td>\n",
       "      <td>25683.000</td>\n",
       "      <td>2011</td>\n",
       "      <td>2012-05-03T04:00:00.000Z</td>\n",
       "      <td>2012-05-03T04:00:00.000Z</td>\n",
       "      <td>2013-09-26T04:00:00.000Z</td>\n",
       "      <td>0.000</td>\n",
       "      <td>Statewide</td>\n",
       "      <td>1998.000</td>\n",
       "      <td>0.000</td>\n",
       "      <td>0.000</td>\n",
       "      <td>0.000</td>\n",
       "      <td>62fff845e7929eb2587b530b69ae2f93</td>\n",
       "      <td>2020-09-17T18:15:38.772Z</td>\n",
       "      <td>5f63a7ca31a8c6681c9dfd88</td>\n",
       "    </tr>\n",
       "  </tbody>\n",
       "</table>\n",
       "</div>"
      ],
      "text/plain": [
       "   region  stateNumberCode  ...               lastRefresh                        id\n",
       "0       6               48  ...  2020-09-17T18:15:38.772Z  5f63a7ca31a8c6681c9dfd79\n",
       "1       5               18  ...  2020-09-17T18:15:38.771Z  5f63a7ca31a8c6681c9dfd81\n",
       "2       7               19  ...  2020-09-17T18:15:38.772Z  5f63a7ca31a8c6681c9dfd84\n",
       "3       2               36  ...  2021-01-19T17:38:38.392Z  5f63a7ca31a8c6681c9dfd87\n",
       "4       7               19  ...  2020-09-17T18:15:38.772Z  5f63a7ca31a8c6681c9dfd88\n",
       "\n",
       "[5 rows x 30 columns]"
      ]
     },
     "execution_count": 3,
     "metadata": {},
     "output_type": "execute_result"
    }
   ],
   "source": [
    "#Import data and see the headers\n",
    "df = pd.read_csv(r\"HazardMitigationAssistanceProjects - HazardMitigationAssistanceProjects.csv\")\n",
    "df.head()"
   ]
  },
  {
   "cell_type": "code",
   "execution_count": 4,
   "metadata": {},
   "outputs": [],
   "source": [
    "# Subgrantee consider keeping as it (Subgrantee add  university column etc.)\n",
    "# Leave costSharePercentage"
   ]
  },
  {
   "cell_type": "code",
   "execution_count": 5,
   "metadata": {},
   "outputs": [
    {
     "data": {
      "text/plain": [
       "(29628, 30)"
      ]
     },
     "execution_count": 5,
     "metadata": {},
     "output_type": "execute_result"
    }
   ],
   "source": [
    "# How big is this dataset?\n",
    "df.shape"
   ]
  },
  {
   "cell_type": "code",
   "execution_count": 6,
   "metadata": {
    "scrolled": true
   },
   "outputs": [
    {
     "name": "stdout",
     "output_type": "stream",
     "text": [
      "<class 'pandas.core.frame.DataFrame'>\n",
      "RangeIndex: 29628 entries, 0 to 29627\n",
      "Data columns (total 30 columns):\n",
      "region                       29628 non-null int64\n",
      "stateNumberCode              29628 non-null int64\n",
      "state                        29628 non-null object\n",
      "countyCode                   27586 non-null float64\n",
      "county                       27586 non-null object\n",
      "programArea                  29628 non-null object\n",
      "projectIdentifier            29628 non-null object\n",
      "projectType                  29301 non-null object\n",
      "projectTitle                 29450 non-null object\n",
      "projectCounties              27859 non-null object\n",
      "numberOfProperties           29628 non-null int64\n",
      "numberOfFinalProperties      29628 non-null int64\n",
      "status                       29628 non-null object\n",
      "subgrantee                   29133 non-null object\n",
      "costSharePercentage          29608 non-null float64\n",
      "projectAmount                29608 non-null float64\n",
      "federalShareObligated        29628 non-null float64\n",
      "programFy                    29628 non-null int64\n",
      "dateInitiallyApproved        22686 non-null object\n",
      "dateApproved                 29347 non-null object\n",
      "dateClosed                   20393 non-null object\n",
      "granteeTribalIndicator       22692 non-null float64\n",
      "grantee                      22692 non-null object\n",
      "disasterNumber               22942 non-null float64\n",
      "benefitCostRatio             29628 non-null float64\n",
      "netValueBenefits             24707 non-null float64\n",
      "subgranteeTribalIndicator    22692 non-null float64\n",
      "hash                         29628 non-null object\n",
      "lastRefresh                  29628 non-null object\n",
      "id                           29628 non-null object\n",
      "dtypes: float64(9), int64(5), object(16)\n",
      "memory usage: 6.8+ MB\n"
     ]
    }
   ],
   "source": [
    "# Looking to make sure out df is the correct datatypes\n",
    "df.info()"
   ]
  },
  {
   "cell_type": "code",
   "execution_count": 7,
   "metadata": {
    "scrolled": true
   },
   "outputs": [
    {
     "name": "stdout",
     "output_type": "stream",
     "text": [
      "<class 'pandas.core.frame.DataFrame'>\n",
      "RangeIndex: 29628 entries, 0 to 29627\n",
      "Data columns (total 7 columns):\n",
      "region              29628 non-null int64\n",
      "stateNumberCode     29628 non-null int64\n",
      "programArea         29628 non-null object\n",
      "projectAmount       29608 non-null float64\n",
      "programFy           29628 non-null int64\n",
      "benefitCostRatio    29628 non-null float64\n",
      "netValueBenefits    24707 non-null float64\n",
      "dtypes: float64(3), int64(3), object(1)\n",
      "memory usage: 1.6+ MB\n"
     ]
    }
   ],
   "source": [
    "df.drop(axis=1, columns=['subgranteeTribalIndicator', 'lastRefresh', \n",
    "                         'granteeTribalIndicator', 'dateInitiallyApproved', 'dateApproved', \n",
    "                         'dateClosed', 'projectTitle', 'numberOfFinalProperties', 'subgrantee', \n",
    "                         'projectIdentifier', 'projectCounties', 'numberOfProperties',\n",
    "                        'status', 'costSharePercentage', 'federalShareObligated', 'grantee', \n",
    "                         'disasterNumber', 'hash', 'id', \n",
    "                         'state','county', 'countyCode', 'projectType'], inplace=True)\n",
    "df.info()"
   ]
  },
  {
   "cell_type": "code",
   "execution_count": 8,
   "metadata": {
    "scrolled": true
   },
   "outputs": [],
   "source": [
    "#df['countyCode'].fillna(0.0, axis = 0, inplace=True)\n",
    "#df['countyCode'].value_counts()"
   ]
  },
  {
   "cell_type": "code",
   "execution_count": 9,
   "metadata": {
    "scrolled": false
   },
   "outputs": [],
   "source": [
    "#df['countyCode'] = df['countyCode'].astype('int64')"
   ]
  },
  {
   "cell_type": "code",
   "execution_count": 10,
   "metadata": {
    "scrolled": false
   },
   "outputs": [
    {
     "data": {
      "text/html": [
       "<div>\n",
       "<style scoped>\n",
       "    .dataframe tbody tr th:only-of-type {\n",
       "        vertical-align: middle;\n",
       "    }\n",
       "\n",
       "    .dataframe tbody tr th {\n",
       "        vertical-align: top;\n",
       "    }\n",
       "\n",
       "    .dataframe thead th {\n",
       "        text-align: right;\n",
       "    }\n",
       "</style>\n",
       "<table border=\"1\" class=\"dataframe\">\n",
       "  <thead>\n",
       "    <tr style=\"text-align: right;\">\n",
       "      <th></th>\n",
       "      <th>region</th>\n",
       "      <th>stateNumberCode</th>\n",
       "      <th>projectAmount</th>\n",
       "      <th>programFy</th>\n",
       "      <th>benefitCostRatio</th>\n",
       "      <th>netValueBenefits</th>\n",
       "    </tr>\n",
       "  </thead>\n",
       "  <tbody>\n",
       "    <tr>\n",
       "      <td>count</td>\n",
       "      <td>29628.000</td>\n",
       "      <td>29628.000</td>\n",
       "      <td>29608.000</td>\n",
       "      <td>29628.000</td>\n",
       "      <td>29628.000</td>\n",
       "      <td>24707.000</td>\n",
       "    </tr>\n",
       "    <tr>\n",
       "      <td>mean</td>\n",
       "      <td>5.170</td>\n",
       "      <td>27.841</td>\n",
       "      <td>815798.371</td>\n",
       "      <td>2006.716</td>\n",
       "      <td>171.556</td>\n",
       "      <td>9907805.571</td>\n",
       "    </tr>\n",
       "    <tr>\n",
       "      <td>std</td>\n",
       "      <td>2.420</td>\n",
       "      <td>17.182</td>\n",
       "      <td>8021291.971</td>\n",
       "      <td>7.576</td>\n",
       "      <td>20368.674</td>\n",
       "      <td>808951961.855</td>\n",
       "    </tr>\n",
       "    <tr>\n",
       "      <td>min</td>\n",
       "      <td>1.000</td>\n",
       "      <td>1.000</td>\n",
       "      <td>-1624776.000</td>\n",
       "      <td>1989.000</td>\n",
       "      <td>0.000</td>\n",
       "      <td>0.000</td>\n",
       "    </tr>\n",
       "    <tr>\n",
       "      <td>25%</td>\n",
       "      <td>4.000</td>\n",
       "      <td>12.000</td>\n",
       "      <td>37054.750</td>\n",
       "      <td>2001.000</td>\n",
       "      <td>0.000</td>\n",
       "      <td>0.000</td>\n",
       "    </tr>\n",
       "    <tr>\n",
       "      <td>50%</td>\n",
       "      <td>5.000</td>\n",
       "      <td>27.000</td>\n",
       "      <td>114895.500</td>\n",
       "      <td>2008.000</td>\n",
       "      <td>0.847</td>\n",
       "      <td>103985.000</td>\n",
       "    </tr>\n",
       "    <tr>\n",
       "      <td>75%</td>\n",
       "      <td>7.000</td>\n",
       "      <td>40.000</td>\n",
       "      <td>419440.250</td>\n",
       "      <td>2013.000</td>\n",
       "      <td>1.666</td>\n",
       "      <td>950061.000</td>\n",
       "    </tr>\n",
       "    <tr>\n",
       "      <td>max</td>\n",
       "      <td>10.000</td>\n",
       "      <td>78.000</td>\n",
       "      <td>729000000.000</td>\n",
       "      <td>2020.000</td>\n",
       "      <td>2479069.620</td>\n",
       "      <td>89843962103.000</td>\n",
       "    </tr>\n",
       "  </tbody>\n",
       "</table>\n",
       "</div>"
      ],
      "text/plain": [
       "         region  stateNumberCode  ...  benefitCostRatio  netValueBenefits\n",
       "count 29628.000        29628.000  ...         29628.000         24707.000\n",
       "mean      5.170           27.841  ...           171.556       9907805.571\n",
       "std       2.420           17.182  ...         20368.674     808951961.855\n",
       "min       1.000            1.000  ...             0.000             0.000\n",
       "25%       4.000           12.000  ...             0.000             0.000\n",
       "50%       5.000           27.000  ...             0.847        103985.000\n",
       "75%       7.000           40.000  ...             1.666        950061.000\n",
       "max      10.000           78.000  ...       2479069.620   89843962103.000\n",
       "\n",
       "[8 rows x 6 columns]"
      ]
     },
     "execution_count": 10,
     "metadata": {},
     "output_type": "execute_result"
    }
   ],
   "source": [
    "df.describe()"
   ]
  },
  {
   "cell_type": "code",
   "execution_count": 11,
   "metadata": {},
   "outputs": [
    {
     "data": {
      "text/plain": [
       "0        1\n",
       "1        1\n",
       "2        0\n",
       "3        0\n",
       "4        0\n",
       "        ..\n",
       "29623    1\n",
       "29624    0\n",
       "29625    1\n",
       "29626    0\n",
       "29627    0\n",
       "Name: Positive_ROI, Length: 29628, dtype: int32"
      ]
     },
     "execution_count": 11,
     "metadata": {},
     "output_type": "execute_result"
    }
   ],
   "source": [
    "# Bining the benefitCostRatio to be if above 1 or below 1 \n",
    "df['Positive_ROI']=(df['benefitCostRatio']>=1).astype(int)\n",
    "df['Positive_ROI']"
   ]
  },
  {
   "cell_type": "code",
   "execution_count": 12,
   "metadata": {
    "scrolled": true
   },
   "outputs": [
    {
     "data": {
      "text/html": [
       "<div>\n",
       "<style scoped>\n",
       "    .dataframe tbody tr th:only-of-type {\n",
       "        vertical-align: middle;\n",
       "    }\n",
       "\n",
       "    .dataframe tbody tr th {\n",
       "        vertical-align: top;\n",
       "    }\n",
       "\n",
       "    .dataframe thead th {\n",
       "        text-align: right;\n",
       "    }\n",
       "</style>\n",
       "<table border=\"1\" class=\"dataframe\">\n",
       "  <thead>\n",
       "    <tr style=\"text-align: right;\">\n",
       "      <th></th>\n",
       "      <th>region</th>\n",
       "      <th>stateNumberCode</th>\n",
       "      <th>programArea</th>\n",
       "      <th>projectAmount</th>\n",
       "      <th>programFy</th>\n",
       "      <th>benefitCostRatio</th>\n",
       "      <th>netValueBenefits</th>\n",
       "      <th>Positive_ROI</th>\n",
       "    </tr>\n",
       "  </thead>\n",
       "  <tbody>\n",
       "    <tr>\n",
       "      <td>0</td>\n",
       "      <td>6</td>\n",
       "      <td>48</td>\n",
       "      <td>HMGP</td>\n",
       "      <td>402910.000</td>\n",
       "      <td>2011</td>\n",
       "      <td>4.041</td>\n",
       "      <td>2969310.000</td>\n",
       "      <td>1</td>\n",
       "    </tr>\n",
       "    <tr>\n",
       "      <td>1</td>\n",
       "      <td>5</td>\n",
       "      <td>18</td>\n",
       "      <td>HMGP</td>\n",
       "      <td>366071.000</td>\n",
       "      <td>2011</td>\n",
       "      <td>1.357</td>\n",
       "      <td>961452.000</td>\n",
       "      <td>1</td>\n",
       "    </tr>\n",
       "    <tr>\n",
       "      <td>2</td>\n",
       "      <td>7</td>\n",
       "      <td>19</td>\n",
       "      <td>HMGP</td>\n",
       "      <td>96965.000</td>\n",
       "      <td>2011</td>\n",
       "      <td>0.000</td>\n",
       "      <td>0.000</td>\n",
       "      <td>0</td>\n",
       "    </tr>\n",
       "    <tr>\n",
       "      <td>3</td>\n",
       "      <td>2</td>\n",
       "      <td>36</td>\n",
       "      <td>HMGP</td>\n",
       "      <td>5932500.000</td>\n",
       "      <td>2011</td>\n",
       "      <td>0.000</td>\n",
       "      <td>0.000</td>\n",
       "      <td>0</td>\n",
       "    </tr>\n",
       "    <tr>\n",
       "      <td>4</td>\n",
       "      <td>7</td>\n",
       "      <td>19</td>\n",
       "      <td>HMGP</td>\n",
       "      <td>34245.000</td>\n",
       "      <td>2011</td>\n",
       "      <td>0.000</td>\n",
       "      <td>0.000</td>\n",
       "      <td>0</td>\n",
       "    </tr>\n",
       "  </tbody>\n",
       "</table>\n",
       "</div>"
      ],
      "text/plain": [
       "   region  stateNumberCode  ... netValueBenefits  Positive_ROI\n",
       "0       6               48  ...      2969310.000             1\n",
       "1       5               18  ...       961452.000             1\n",
       "2       7               19  ...            0.000             0\n",
       "3       2               36  ...            0.000             0\n",
       "4       7               19  ...            0.000             0\n",
       "\n",
       "[5 rows x 8 columns]"
      ]
     },
     "execution_count": 12,
     "metadata": {},
     "output_type": "execute_result"
    }
   ],
   "source": [
    "df.head()"
   ]
  },
  {
   "cell_type": "code",
   "execution_count": 13,
   "metadata": {},
   "outputs": [
    {
     "data": {
      "text/plain": [
       "0   0.506\n",
       "1   0.494\n",
       "Name: Positive_ROI, dtype: float64"
      ]
     },
     "execution_count": 13,
     "metadata": {},
     "output_type": "execute_result"
    }
   ],
   "source": [
    "df['Positive_ROI'].value_counts(normalize=True)"
   ]
  },
  {
   "cell_type": "code",
   "execution_count": 14,
   "metadata": {},
   "outputs": [],
   "source": [
    "# Split the data into target and predictors\n",
    "y = df['Positive_ROI']\n",
    "X = df.drop(columns=['Positive_ROI'], axis=1)"
   ]
  },
  {
   "cell_type": "code",
   "execution_count": 15,
   "metadata": {},
   "outputs": [],
   "source": [
    "# Using this as a target\n",
    "# Using logistic regression to directly answer what returns a pos ROI"
   ]
  },
  {
   "cell_type": "code",
   "execution_count": 16,
   "metadata": {},
   "outputs": [],
   "source": [
    "# Forcast demand with a times series possibly"
   ]
  },
  {
   "cell_type": "code",
   "execution_count": 17,
   "metadata": {
    "scrolled": true
   },
   "outputs": [
    {
     "data": {
      "text/plain": [
       "<matplotlib.axes._subplots.AxesSubplot at 0x1320b5a5eb8>"
      ]
     },
     "execution_count": 17,
     "metadata": {},
     "output_type": "execute_result"
    },
    {
     "data": {
      "image/png": "[encoded data removed]",
      "text/plain": [
       "<Figure size 432x288 with 1 Axes>"
      ]
     },
     "metadata": {
      "needs_background": "light"
     },
     "output_type": "display_data"
    }
   ],
   "source": [
    "sns.distplot(df['benefitCostRatio'])"
   ]
  },
  {
   "cell_type": "code",
   "execution_count": 18,
   "metadata": {
    "scrolled": false
   },
   "outputs": [
    {
     "data": {
      "text/plain": [
       "<matplotlib.axes._subplots.AxesSubplot at 0x1320b72acf8>"
      ]
     },
     "execution_count": 18,
     "metadata": {},
     "output_type": "execute_result"
    },
    {
     "data": {
      "image/png": "[encoded data removed]",
      "text/plain": [
       "<Figure size 432x288 with 1 Axes>"
      ]
     },
     "metadata": {
      "needs_background": "light"
     },
     "output_type": "display_data"
    }
   ],
   "source": [
    "# Looks like projectAmount has outliers - Let's plot it\n",
    "sns.boxplot(x=df['projectAmount'])"
   ]
  },
  {
   "cell_type": "code",
   "execution_count": 19,
   "metadata": {
    "scrolled": true
   },
   "outputs": [
    {
     "data": {
      "text/plain": [
       "24154158163.54"
      ]
     },
     "execution_count": 19,
     "metadata": {},
     "output_type": "execute_result"
    }
   ],
   "source": [
    "df['projectAmount'].sum()"
   ]
  },
  {
   "cell_type": "code",
   "execution_count": 20,
   "metadata": {},
   "outputs": [
    {
     "data": {
      "text/plain": [
       "114895.5"
      ]
     },
     "execution_count": 20,
     "metadata": {},
     "output_type": "execute_result"
    }
   ],
   "source": [
    "df['projectAmount'].median()"
   ]
  },
  {
   "cell_type": "code",
   "execution_count": 21,
   "metadata": {
    "scrolled": true
   },
   "outputs": [
    {
     "data": {
      "text/plain": [
       "region                 0\n",
       "stateNumberCode        0\n",
       "programArea            0\n",
       "projectAmount         20\n",
       "programFy              0\n",
       "benefitCostRatio       0\n",
       "netValueBenefits    4921\n",
       "Positive_ROI           0\n",
       "dtype: int64"
      ]
     },
     "execution_count": 21,
     "metadata": {},
     "output_type": "execute_result"
    }
   ],
   "source": [
    "# Do we have nulls?\n",
    "df.isna().sum()"
   ]
  },
  {
   "cell_type": "code",
   "execution_count": 22,
   "metadata": {
    "scrolled": false
   },
   "outputs": [
    {
     "data": {
      "text/plain": [
       "40000.000      186\n",
       "50000.000      184\n",
       "100000.000     139\n",
       "20000.000      120\n",
       "25000.000      119\n",
       "              ... \n",
       "1252647.000      1\n",
       "840671.000       1\n",
       "40254.000        1\n",
       "31066.670        1\n",
       "573403.000       1\n",
       "Name: projectAmount, Length: 24108, dtype: int64"
      ]
     },
     "execution_count": 22,
     "metadata": {},
     "output_type": "execute_result"
    }
   ],
   "source": [
    "df['projectAmount'].fillna(0.0, axis = 0, inplace=True)\n",
    "df['projectAmount'].value_counts()"
   ]
  },
  {
   "cell_type": "code",
   "execution_count": 23,
   "metadata": {},
   "outputs": [
    {
     "data": {
      "text/plain": [
       "0.000          14662\n",
       "21420.000        318\n",
       "1.000            152\n",
       "276000.000        96\n",
       "175000.000        36\n",
       "               ...  \n",
       "775151.000         1\n",
       "387575.000         1\n",
       "1222617.000        1\n",
       "3624869.000        1\n",
       "16552.000          1\n",
       "Name: netValueBenefits, Length: 13097, dtype: int64"
      ]
     },
     "execution_count": 23,
     "metadata": {},
     "output_type": "execute_result"
    }
   ],
   "source": [
    "df['netValueBenefits'].fillna(0.0, axis = 0, inplace=True)\n",
    "df['netValueBenefits'].value_counts()"
   ]
  },
  {
   "cell_type": "code",
   "execution_count": 24,
   "metadata": {
    "scrolled": false
   },
   "outputs": [
    {
     "data": {
      "text/html": [
       "<div>\n",
       "<style scoped>\n",
       "    .dataframe tbody tr th:only-of-type {\n",
       "        vertical-align: middle;\n",
       "    }\n",
       "\n",
       "    .dataframe tbody tr th {\n",
       "        vertical-align: top;\n",
       "    }\n",
       "\n",
       "    .dataframe thead th {\n",
       "        text-align: right;\n",
       "    }\n",
       "</style>\n",
       "<table border=\"1\" class=\"dataframe\">\n",
       "  <thead>\n",
       "    <tr style=\"text-align: right;\">\n",
       "      <th></th>\n",
       "      <th>region</th>\n",
       "      <th>stateNumberCode</th>\n",
       "      <th>programArea</th>\n",
       "      <th>projectAmount</th>\n",
       "      <th>programFy</th>\n",
       "      <th>benefitCostRatio</th>\n",
       "      <th>netValueBenefits</th>\n",
       "      <th>Positive_ROI</th>\n",
       "    </tr>\n",
       "  </thead>\n",
       "  <tbody>\n",
       "    <tr>\n",
       "      <td>3795</td>\n",
       "      <td>5</td>\n",
       "      <td>27</td>\n",
       "      <td>HMGP</td>\n",
       "      <td>-1624776.000</td>\n",
       "      <td>1997</td>\n",
       "      <td>0.000</td>\n",
       "      <td>0.000</td>\n",
       "      <td>0</td>\n",
       "    </tr>\n",
       "    <tr>\n",
       "      <td>6134</td>\n",
       "      <td>1</td>\n",
       "      <td>25</td>\n",
       "      <td>HMGP</td>\n",
       "      <td>-110696.000</td>\n",
       "      <td>1991</td>\n",
       "      <td>0.000</td>\n",
       "      <td>0.000</td>\n",
       "      <td>0</td>\n",
       "    </tr>\n",
       "    <tr>\n",
       "      <td>22833</td>\n",
       "      <td>5</td>\n",
       "      <td>26</td>\n",
       "      <td>HMGP</td>\n",
       "      <td>-36500.000</td>\n",
       "      <td>1998</td>\n",
       "      <td>0.000</td>\n",
       "      <td>0.000</td>\n",
       "      <td>0</td>\n",
       "    </tr>\n",
       "  </tbody>\n",
       "</table>\n",
       "</div>"
      ],
      "text/plain": [
       "       region  stateNumberCode  ... netValueBenefits  Positive_ROI\n",
       "3795        5               27  ...            0.000             0\n",
       "6134        1               25  ...            0.000             0\n",
       "22833       5               26  ...            0.000             0\n",
       "\n",
       "[3 rows x 8 columns]"
      ]
     },
     "execution_count": 24,
     "metadata": {},
     "output_type": "execute_result"
    }
   ],
   "source": [
    "df[(df['projectAmount']<0)]"
   ]
  },
  {
   "cell_type": "code",
   "execution_count": 25,
   "metadata": {},
   "outputs": [],
   "source": [
    "# The outliers need to be addressed\n",
    "df = df[(df['projectAmount']>0)]"
   ]
  },
  {
   "cell_type": "code",
   "execution_count": 26,
   "metadata": {},
   "outputs": [
    {
     "data": {
      "text/plain": [
       "region              0\n",
       "stateNumberCode     0\n",
       "programArea         0\n",
       "projectAmount       0\n",
       "programFy           0\n",
       "benefitCostRatio    0\n",
       "netValueBenefits    0\n",
       "Positive_ROI        0\n",
       "dtype: int64"
      ]
     },
     "execution_count": 26,
     "metadata": {},
     "output_type": "execute_result"
    }
   ],
   "source": [
    "# Did we get all the nulls?\n",
    "df.isna().sum()"
   ]
  },
  {
   "cell_type": "code",
   "execution_count": 27,
   "metadata": {},
   "outputs": [],
   "source": [
    "df['benefitCostRatio'] = df['benefitCostRatio'].astype('int64')\n",
    "df['projectAmount'] = df['projectAmount'].astype('int64')\n",
    "df['netValueBenefits'] = df['netValueBenefits'].astype('int64')\n",
    "df['programFy'] = df['programFy'].astype('int64')"
   ]
  },
  {
   "cell_type": "markdown",
   "metadata": {},
   "source": [
    "## Vizualizations"
   ]
  },
  {
   "cell_type": "code",
   "execution_count": 28,
   "metadata": {},
   "outputs": [
    {
     "data": {
      "image/png": "[encoded data removed]",
      "text/plain": [
       "<Figure size 576x432 with 1 Axes>"
      ]
     },
     "metadata": {
      "needs_background": "light"
     },
     "output_type": "display_data"
    },
    {
     "data": {
      "image/png": "[encoded data removed]",
      "text/plain": [
       "<Figure size 576x432 with 1 Axes>"
      ]
     },
     "metadata": {
      "needs_background": "light"
     },
     "output_type": "display_data"
    },
    {
     "data": {
      "image/png": "[encoded data removed]",
      "text/plain": [
       "<Figure size 576x432 with 1 Axes>"
      ]
     },
     "metadata": {
      "needs_background": "light"
     },
     "output_type": "display_data"
    },
    {
     "data": {
      "image/png": "[encoded data removed]",
      "text/plain": [
       "<Figure size 576x432 with 1 Axes>"
      ]
     },
     "metadata": {
      "needs_background": "light"
     },
     "output_type": "display_data"
    },
    {
     "data": {
      "image/png": "[encoded data removed]",
      "text/plain": [
       "<Figure size 576x432 with 1 Axes>"
      ]
     },
     "metadata": {
      "needs_background": "light"
     },
     "output_type": "display_data"
    },
    {
     "data": {
      "image/png": "[encoded data removed]",
      "text/plain": [
       "<Figure size 576x432 with 1 Axes>"
      ]
     },
     "metadata": {
      "needs_background": "light"
     },
     "output_type": "display_data"
    },
    {
     "data": {
      "image/png": "[encoded data removed]",
      "text/plain": [
       "<Figure size 576x432 with 1 Axes>"
      ]
     },
     "metadata": {
      "needs_background": "light"
     },
     "output_type": "display_data"
    },
    {
     "data": {
      "image/png": "[encoded data removed]",
      "text/plain": [
       "<Figure size 576x432 with 1 Axes>"
      ]
     },
     "metadata": {
      "needs_background": "light"
     },
     "output_type": "display_data"
    }
   ],
   "source": [
    "def scatterplot(col):\n",
    "    ax = plt.figure(figsize = (8,6))\n",
    "    ax = sns.scatterplot(x = df[col], y = df['projectAmount'])\n",
    "    ax.set_title('{} vs. Project Amount'.format(col), fontsize = 18)\n",
    "    ax.set_xlabel('{}'.format(col), fontsize = 14)\n",
    "    ax.set_ylabel('Project Amount', fontsize = 14);\n",
    "\n",
    "for col in df:\n",
    "\n",
    "    scatterplot(col)"
   ]
  },
  {
   "cell_type": "code",
   "execution_count": 29,
   "metadata": {},
   "outputs": [],
   "source": [
    "# Plotting Price with the categories:\n",
    "def categorical_plots(df):\n",
    "    for col in df.select_dtypes('category'):\n",
    "        fig, ax = plt.subplots(figsize=(10,6))\n",
    "        sns.barplot(x=col, y='projectAmount', data=df, palette=\"colorblind\")\n",
    "        ax.set_title(f\"{col} vs projectAmount\", fontsize=30)\n",
    "        plt.xticks(rotation=45)\n",
    "        plt.show()"
   ]
  },
  {
   "cell_type": "code",
   "execution_count": 30,
   "metadata": {},
   "outputs": [],
   "source": [
    "categorical_plots(df)"
   ]
  },
  {
   "cell_type": "markdown",
   "metadata": {},
   "source": [
    "As we can see from the following vizuals above SRL () are the most costly hazard mitigation area that is being spent on"
   ]
  },
  {
   "cell_type": "markdown",
   "metadata": {},
   "source": [
    "# Outlier Removal"
   ]
  },
  {
   "cell_type": "code",
   "execution_count": 31,
   "metadata": {},
   "outputs": [],
   "source": [
    "# After researching outlier removal \n",
    "# and exploring our data it is best to do IQR type outlier removal methods\n",
    "\n",
    "def outliersiqr(data):\n",
    "    q1 = np.percentile(data, 25)\n",
    "    q3 = np.percentile(data, 75)\n",
    "    iqr = q3 - q1\n",
    "    threshold = iqr * 1.5\n",
    "    outliers = (data < q1 - threshold) | (data > q3 + threshold)\n",
    "    outliers = pd.Series(outliers, index=data.index)\n",
    "    return outliers"
   ]
  },
  {
   "cell_type": "code",
   "execution_count": 32,
   "metadata": {},
   "outputs": [],
   "source": [
    "# Function to make an outlier column which we will then remove outliers from\n",
    "def outlierscolumn(df, columns, verbose=True):\n",
    "    new_df = df.copy()\n",
    "    for col in columns:\n",
    "        outliers = outliersiqr(new_df[col])\n",
    "        if verbose:\n",
    "            print(f'{outliers.sum()} outliers found in {col}')\n",
    "        new_df[f'{col}_outliers'] = outliers\n",
    "    return new_df"
   ]
  },
  {
   "cell_type": "code",
   "execution_count": 33,
   "metadata": {},
   "outputs": [
    {
     "name": "stdout",
     "output_type": "stream",
     "text": [
      "0 outliers found in region\n",
      "0 outliers found in stateNumberCode\n",
      "3833 outliers found in projectAmount\n",
      "0 outliers found in programFy\n",
      "4102 outliers found in benefitCostRatio\n",
      "4561 outliers found in netValueBenefits\n",
      "0 outliers found in Positive_ROI\n"
     ]
    }
   ],
   "source": [
    "# Feeding in the numerical columns for identifying outliers\n",
    "num_cols = list(df.select_dtypes('number').columns)\n",
    "\n",
    "# Saving the new dataframe with outlier columns added\n",
    "df2 = outlierscolumn(df, num_cols)"
   ]
  },
  {
   "cell_type": "code",
   "execution_count": 34,
   "metadata": {
    "scrolled": true
   },
   "outputs": [
    {
     "data": {
      "text/html": [
       "<div>\n",
       "<style scoped>\n",
       "    .dataframe tbody tr th:only-of-type {\n",
       "        vertical-align: middle;\n",
       "    }\n",
       "\n",
       "    .dataframe tbody tr th {\n",
       "        vertical-align: top;\n",
       "    }\n",
       "\n",
       "    .dataframe thead th {\n",
       "        text-align: right;\n",
       "    }\n",
       "</style>\n",
       "<table border=\"1\" class=\"dataframe\">\n",
       "  <thead>\n",
       "    <tr style=\"text-align: right;\">\n",
       "      <th></th>\n",
       "      <th>region</th>\n",
       "      <th>stateNumberCode</th>\n",
       "      <th>programArea</th>\n",
       "      <th>projectAmount</th>\n",
       "      <th>programFy</th>\n",
       "      <th>benefitCostRatio</th>\n",
       "      <th>netValueBenefits</th>\n",
       "      <th>Positive_ROI</th>\n",
       "      <th>region_outliers</th>\n",
       "      <th>stateNumberCode_outliers</th>\n",
       "      <th>projectAmount_outliers</th>\n",
       "      <th>programFy_outliers</th>\n",
       "      <th>benefitCostRatio_outliers</th>\n",
       "      <th>netValueBenefits_outliers</th>\n",
       "      <th>Positive_ROI_outliers</th>\n",
       "    </tr>\n",
       "  </thead>\n",
       "  <tbody>\n",
       "    <tr>\n",
       "      <td>0</td>\n",
       "      <td>6</td>\n",
       "      <td>48</td>\n",
       "      <td>HMGP</td>\n",
       "      <td>402910</td>\n",
       "      <td>2011</td>\n",
       "      <td>4</td>\n",
       "      <td>2969310</td>\n",
       "      <td>1</td>\n",
       "      <td>False</td>\n",
       "      <td>False</td>\n",
       "      <td>False</td>\n",
       "      <td>False</td>\n",
       "      <td>True</td>\n",
       "      <td>True</td>\n",
       "      <td>False</td>\n",
       "    </tr>\n",
       "    <tr>\n",
       "      <td>1</td>\n",
       "      <td>5</td>\n",
       "      <td>18</td>\n",
       "      <td>HMGP</td>\n",
       "      <td>366071</td>\n",
       "      <td>2011</td>\n",
       "      <td>1</td>\n",
       "      <td>961452</td>\n",
       "      <td>1</td>\n",
       "      <td>False</td>\n",
       "      <td>False</td>\n",
       "      <td>False</td>\n",
       "      <td>False</td>\n",
       "      <td>False</td>\n",
       "      <td>False</td>\n",
       "      <td>False</td>\n",
       "    </tr>\n",
       "    <tr>\n",
       "      <td>2</td>\n",
       "      <td>7</td>\n",
       "      <td>19</td>\n",
       "      <td>HMGP</td>\n",
       "      <td>96965</td>\n",
       "      <td>2011</td>\n",
       "      <td>0</td>\n",
       "      <td>0</td>\n",
       "      <td>0</td>\n",
       "      <td>False</td>\n",
       "      <td>False</td>\n",
       "      <td>False</td>\n",
       "      <td>False</td>\n",
       "      <td>False</td>\n",
       "      <td>False</td>\n",
       "      <td>False</td>\n",
       "    </tr>\n",
       "    <tr>\n",
       "      <td>3</td>\n",
       "      <td>2</td>\n",
       "      <td>36</td>\n",
       "      <td>HMGP</td>\n",
       "      <td>5932500</td>\n",
       "      <td>2011</td>\n",
       "      <td>0</td>\n",
       "      <td>0</td>\n",
       "      <td>0</td>\n",
       "      <td>False</td>\n",
       "      <td>False</td>\n",
       "      <td>True</td>\n",
       "      <td>False</td>\n",
       "      <td>False</td>\n",
       "      <td>False</td>\n",
       "      <td>False</td>\n",
       "    </tr>\n",
       "    <tr>\n",
       "      <td>4</td>\n",
       "      <td>7</td>\n",
       "      <td>19</td>\n",
       "      <td>HMGP</td>\n",
       "      <td>34245</td>\n",
       "      <td>2011</td>\n",
       "      <td>0</td>\n",
       "      <td>0</td>\n",
       "      <td>0</td>\n",
       "      <td>False</td>\n",
       "      <td>False</td>\n",
       "      <td>False</td>\n",
       "      <td>False</td>\n",
       "      <td>False</td>\n",
       "      <td>False</td>\n",
       "      <td>False</td>\n",
       "    </tr>\n",
       "  </tbody>\n",
       "</table>\n",
       "</div>"
      ],
      "text/plain": [
       "   region  stateNumberCode  ... netValueBenefits_outliers  Positive_ROI_outliers\n",
       "0       6               48  ...                      True                  False\n",
       "1       5               18  ...                     False                  False\n",
       "2       7               19  ...                     False                  False\n",
       "3       2               36  ...                     False                  False\n",
       "4       7               19  ...                     False                  False\n",
       "\n",
       "[5 rows x 15 columns]"
      ]
     },
     "execution_count": 34,
     "metadata": {},
     "output_type": "execute_result"
    }
   ],
   "source": [
    "df2.head()"
   ]
  },
  {
   "cell_type": "code",
   "execution_count": 35,
   "metadata": {},
   "outputs": [
    {
     "data": {
      "text/plain": [
       "['region_outliers',\n",
       " 'stateNumberCode_outliers',\n",
       " 'projectAmount_outliers',\n",
       " 'programFy_outliers',\n",
       " 'benefitCostRatio_outliers',\n",
       " 'netValueBenefits_outliers',\n",
       " 'Positive_ROI_outliers']"
      ]
     },
     "execution_count": 35,
     "metadata": {},
     "output_type": "execute_result"
    }
   ],
   "source": [
    "# Creating a list of the outlier columns\n",
    "outliercols = []\n",
    "for col in df2.columns:\n",
    "    if 'outliers' in col:\n",
    "        outliercols.append(col)\n",
    "outliercols"
   ]
  },
  {
   "cell_type": "code",
   "execution_count": 36,
   "metadata": {},
   "outputs": [
    {
     "data": {
      "text/plain": [
       "(29576, 15)"
      ]
     },
     "execution_count": 36,
     "metadata": {},
     "output_type": "execute_result"
    }
   ],
   "source": [
    "df2.shape"
   ]
  },
  {
   "cell_type": "code",
   "execution_count": 37,
   "metadata": {},
   "outputs": [],
   "source": [
    "# Dropping columns that are either continous or boolean (yes or no, has or doesn't have)\n",
    "#df2= df2.drop(columns=['region_outliers', 'stateNumberCode_outliers', 'programFy_outliers'])"
   ]
  },
  {
   "cell_type": "code",
   "execution_count": 38,
   "metadata": {},
   "outputs": [
    {
     "data": {
      "text/plain": [
       "['region_outliers',\n",
       " 'stateNumberCode_outliers',\n",
       " 'projectAmount_outliers',\n",
       " 'programFy_outliers',\n",
       " 'benefitCostRatio_outliers',\n",
       " 'netValueBenefits_outliers',\n",
       " 'Positive_ROI_outliers']"
      ]
     },
     "execution_count": 38,
     "metadata": {},
     "output_type": "execute_result"
    }
   ],
   "source": [
    "# Creating a list of the outlier columns\n",
    "outliercols = []\n",
    "for col in df2.columns:\n",
    "    if 'outliers' in col:\n",
    "        outliercols.append(col)\n",
    "outliercols"
   ]
  },
  {
   "cell_type": "code",
   "execution_count": 39,
   "metadata": {},
   "outputs": [
    {
     "data": {
      "text/plain": [
       "(21860, 15)"
      ]
     },
     "execution_count": 39,
     "metadata": {},
     "output_type": "execute_result"
    }
   ],
   "source": [
    "# Filtering the outliers out of my dataframe and returning only the entries\n",
    "# that are not outliers for any of the features\n",
    "for col in outliercols:\n",
    "    df2 = df2[(df2[col]==False)]\n",
    "df2.shape"
   ]
  },
  {
   "cell_type": "code",
   "execution_count": 40,
   "metadata": {},
   "outputs": [],
   "source": [
    "# Dropping the outlier columns that were added\n",
    "for col in outliercols:\n",
    "    df2.drop(columns=[col], axis=1, inplace=True)"
   ]
  },
  {
   "cell_type": "code",
   "execution_count": 41,
   "metadata": {
    "scrolled": true
   },
   "outputs": [
    {
     "name": "stdout",
     "output_type": "stream",
     "text": [
      "<class 'pandas.core.frame.DataFrame'>\n",
      "Int64Index: 21860 entries, 1 to 29627\n",
      "Data columns (total 8 columns):\n",
      "region              21860 non-null int64\n",
      "stateNumberCode     21860 non-null int64\n",
      "programArea         21860 non-null object\n",
      "projectAmount       21860 non-null int64\n",
      "programFy           21860 non-null int64\n",
      "benefitCostRatio    21860 non-null int64\n",
      "netValueBenefits    21860 non-null int64\n",
      "Positive_ROI        21860 non-null int32\n",
      "dtypes: int32(1), int64(6), object(1)\n",
      "memory usage: 1.4+ MB\n"
     ]
    }
   ],
   "source": [
    "df2.info()"
   ]
  },
  {
   "cell_type": "code",
   "execution_count": 42,
   "metadata": {},
   "outputs": [],
   "source": [
    "df=df2"
   ]
  },
  {
   "cell_type": "code",
   "execution_count": 43,
   "metadata": {},
   "outputs": [
    {
     "name": "stdout",
     "output_type": "stream",
     "text": [
      "<class 'pandas.core.frame.DataFrame'>\n",
      "Int64Index: 21860 entries, 1 to 29627\n",
      "Data columns (total 8 columns):\n",
      "region              21860 non-null int64\n",
      "stateNumberCode     21860 non-null int64\n",
      "programArea         21860 non-null object\n",
      "projectAmount       21860 non-null int64\n",
      "programFy           21860 non-null int64\n",
      "benefitCostRatio    21860 non-null int64\n",
      "netValueBenefits    21860 non-null int64\n",
      "Positive_ROI        21860 non-null int32\n",
      "dtypes: int32(1), int64(6), object(1)\n",
      "memory usage: 1.4+ MB\n"
     ]
    }
   ],
   "source": [
    "df.info()"
   ]
  },
  {
   "cell_type": "code",
   "execution_count": 44,
   "metadata": {
    "scrolled": true
   },
   "outputs": [
    {
     "data": {
      "text/plain": [
       "4     5906\n",
       "6     2800\n",
       "5     2097\n",
       "7     1776\n",
       "1     1704\n",
       "9     1689\n",
       "3     1657\n",
       "8     1580\n",
       "2     1545\n",
       "10    1106\n",
       "Name: region, dtype: int64"
      ]
     },
     "execution_count": 44,
     "metadata": {},
     "output_type": "execute_result"
    }
   ],
   "source": [
    "df.region.value_counts()"
   ]
  },
  {
   "cell_type": "code",
   "execution_count": 45,
   "metadata": {},
   "outputs": [
    {
     "data": {
      "text/plain": [
       "12    1493\n",
       "6     1242\n",
       "1     1175\n",
       "40     940\n",
       "13     794\n",
       "19     788\n",
       "48     777\n",
       "36     662\n",
       "28     653\n",
       "22     627\n",
       "21     585\n",
       "34     572\n",
       "46     564\n",
       "37     557\n",
       "42     505\n",
       "55     463\n",
       "39     445\n",
       "51     429\n",
       "27     428\n",
       "53     423\n",
       "38     410\n",
       "50     401\n",
       "31     380\n",
       "25     373\n",
       "26     339\n",
       "20     329\n",
       "47     325\n",
       "45     324\n",
       "5      320\n",
       "23     310\n",
       "33     303\n",
       "24     300\n",
       "41     282\n",
       "29     279\n",
       "54     278\n",
       "72     252\n",
       "17     241\n",
       "30     233\n",
       "2      204\n",
       "8      199\n",
       "16     197\n",
       "9      197\n",
       "18     181\n",
       "35     136\n",
       "4      135\n",
       "44     120\n",
       "10     109\n",
       "49     102\n",
       "15      85\n",
       "32      81\n",
       "56      72\n",
       "78      59\n",
       "69      51\n",
       "11      36\n",
       "64      31\n",
       "66      30\n",
       "60      22\n",
       "70       7\n",
       "68       5\n",
       "Name: stateNumberCode, dtype: int64"
      ]
     },
     "execution_count": 45,
     "metadata": {},
     "output_type": "execute_result"
    }
   ],
   "source": [
    "df.stateNumberCode.value_counts()"
   ]
  },
  {
   "cell_type": "code",
   "execution_count": 46,
   "metadata": {
    "scrolled": true
   },
   "outputs": [
    {
     "data": {
      "text/plain": [
       "HMGP    16109\n",
       "PDM      3209\n",
       "FMA      2106\n",
       "LPDM      196\n",
       "SRL       163\n",
       "RFC        77\n",
       "Name: programArea, dtype: int64"
      ]
     },
     "execution_count": 46,
     "metadata": {},
     "output_type": "execute_result"
    }
   ],
   "source": [
    "# Very important category as it shows why the mitigation is being done\n",
    "df.programArea.value_counts()"
   ]
  },
  {
   "cell_type": "code",
   "execution_count": 47,
   "metadata": {},
   "outputs": [
    {
     "data": {
      "text/plain": [
       "Text(0.5, 1.0, 'Program Area vs. Project Amount')"
      ]
     },
     "execution_count": 47,
     "metadata": {},
     "output_type": "execute_result"
    },
    {
     "data": {
      "image/png": "[encoded data removed]",
      "text/plain": [
       "<Figure size 432x288 with 1 Axes>"
      ]
     },
     "metadata": {
      "needs_background": "light"
     },
     "output_type": "display_data"
    }
   ],
   "source": [
    "ax = sns.barplot(x=\"programArea\", y=\"projectAmount\", data=df)\n",
    "ax.set_title('Program Area vs. Project Amount', fontsize = 18)"
   ]
  },
  {
   "cell_type": "code",
   "execution_count": 48,
   "metadata": {
    "scrolled": true
   },
   "outputs": [
    {
     "data": {
      "text/plain": [
       "Text(0.5, 1.0, 'Program Area vs. Project Amount')"
      ]
     },
     "execution_count": 48,
     "metadata": {},
     "output_type": "execute_result"
    },
    {
     "data": {
      "image/png": "[encoded data removed]",
      "text/plain": [
       "<Figure size 432x288 with 1 Axes>"
      ]
     },
     "metadata": {
      "needs_background": "light"
     },
     "output_type": "display_data"
    }
   ],
   "source": [
    "ax = sns.barplot(x=\"programArea\", y=\"projectAmount\", data=df, estimator=np.median)\n",
    "ax.set_title('Program Area vs. Project Amount', fontsize = 18)"
   ]
  },
  {
   "cell_type": "code",
   "execution_count": 49,
   "metadata": {},
   "outputs": [],
   "source": [
    "#df.projectIdentifier.value_counts()"
   ]
  },
  {
   "cell_type": "code",
   "execution_count": 50,
   "metadata": {},
   "outputs": [
    {
     "data": {
      "text/plain": [
       "40000     184\n",
       "50000     179\n",
       "100000    128\n",
       "25000     119\n",
       "20000     116\n",
       "         ... \n",
       "93047       1\n",
       "2748        1\n",
       "206832      1\n",
       "98400       1\n",
       "65536       1\n",
       "Name: projectAmount, Length: 16969, dtype: int64"
      ]
     },
     "execution_count": 50,
     "metadata": {},
     "output_type": "execute_result"
    }
   ],
   "source": [
    "df.projectAmount.value_counts()"
   ]
  },
  {
   "cell_type": "code",
   "execution_count": 51,
   "metadata": {
    "scrolled": true
   },
   "outputs": [
    {
     "data": {
      "text/plain": [
       "2011    1665\n",
       "2005    1299\n",
       "2017    1215\n",
       "2008    1107\n",
       "1998    1061\n",
       "2013     993\n",
       "2007     990\n",
       "2010     955\n",
       "2009     938\n",
       "2001     820\n",
       "2004     806\n",
       "2003     779\n",
       "2016     777\n",
       "2014     765\n",
       "1997     719\n",
       "2002     702\n",
       "2015     700\n",
       "2018     695\n",
       "1996     665\n",
       "1994     606\n",
       "2000     518\n",
       "2019     508\n",
       "1999     502\n",
       "2012     494\n",
       "2006     408\n",
       "1995     273\n",
       "1993     268\n",
       "1992     215\n",
       "1990     162\n",
       "1991     147\n",
       "1989      97\n",
       "2020      11\n",
       "Name: programFy, dtype: int64"
      ]
     },
     "execution_count": 51,
     "metadata": {},
     "output_type": "execute_result"
    }
   ],
   "source": [
    "df.programFy.value_counts()"
   ]
  },
  {
   "cell_type": "code",
   "execution_count": 52,
   "metadata": {},
   "outputs": [],
   "source": [
    "df = df[(df['projectAmount']>1998)]"
   ]
  },
  {
   "cell_type": "code",
   "execution_count": 53,
   "metadata": {
    "scrolled": true
   },
   "outputs": [
    {
     "data": {
      "text/plain": [
       "0    14049\n",
       "1     6234\n",
       "2     1342\n",
       "Name: benefitCostRatio, dtype: int64"
      ]
     },
     "execution_count": 53,
     "metadata": {},
     "output_type": "execute_result"
    }
   ],
   "source": [
    "df.benefitCostRatio.value_counts()"
   ]
  },
  {
   "cell_type": "code",
   "execution_count": 54,
   "metadata": {},
   "outputs": [
    {
     "data": {
      "text/plain": [
       "0         13795\n",
       "21420       311\n",
       "1           140\n",
       "276000       82\n",
       "175000       35\n",
       "          ...  \n",
       "372320        1\n",
       "124214        1\n",
       "105785        1\n",
       "48445         1\n",
       "215137        1\n",
       "Name: netValueBenefits, Length: 6608, dtype: int64"
      ]
     },
     "execution_count": 54,
     "metadata": {},
     "output_type": "execute_result"
    }
   ],
   "source": [
    "df.netValueBenefits.value_counts()"
   ]
  },
  {
   "cell_type": "code",
   "execution_count": 55,
   "metadata": {},
   "outputs": [
    {
     "name": "stdout",
     "output_type": "stream",
     "text": [
      "<class 'pandas.core.frame.DataFrame'>\n",
      "Int64Index: 21625 entries, 1 to 29627\n",
      "Data columns (total 8 columns):\n",
      "region              21625 non-null int64\n",
      "stateNumberCode     21625 non-null int64\n",
      "programArea         21625 non-null object\n",
      "projectAmount       21625 non-null int64\n",
      "programFy           21625 non-null int64\n",
      "benefitCostRatio    21625 non-null int64\n",
      "netValueBenefits    21625 non-null int64\n",
      "Positive_ROI        21625 non-null int32\n",
      "dtypes: int32(1), int64(6), object(1)\n",
      "memory usage: 1.4+ MB\n"
     ]
    }
   ],
   "source": [
    "df.info()"
   ]
  },
  {
   "cell_type": "markdown",
   "metadata": {},
   "source": [
    "# One Hot Encoding and EDA"
   ]
  },
  {
   "cell_type": "code",
   "execution_count": 56,
   "metadata": {
    "scrolled": true
   },
   "outputs": [
    {
     "name": "stdout",
     "output_type": "stream",
     "text": [
      "region 10\n",
      "stateNumberCode 59\n",
      "programArea 6\n",
      "projectAmount 16763\n",
      "programFy 32\n",
      "benefitCostRatio 3\n",
      "netValueBenefits 6608\n",
      "Positive_ROI 2\n"
     ]
    }
   ],
   "source": [
    "for col in df.columns:\n",
    "    print(col, df[col].nunique())"
   ]
  },
  {
   "cell_type": "code",
   "execution_count": 57,
   "metadata": {},
   "outputs": [],
   "source": [
    "df['region'] = df['region'].astype('category') \n",
    "df['stateNumberCode'] = df['stateNumberCode'].astype('category') \n",
    "df['programFy'] = df['programFy'].astype('category')"
   ]
  },
  {
   "cell_type": "code",
   "execution_count": 58,
   "metadata": {
    "scrolled": true
   },
   "outputs": [
    {
     "data": {
      "text/html": [
       "<div>\n",
       "<style scoped>\n",
       "    .dataframe tbody tr th:only-of-type {\n",
       "        vertical-align: middle;\n",
       "    }\n",
       "\n",
       "    .dataframe tbody tr th {\n",
       "        vertical-align: top;\n",
       "    }\n",
       "\n",
       "    .dataframe thead th {\n",
       "        text-align: right;\n",
       "    }\n",
       "</style>\n",
       "<table border=\"1\" class=\"dataframe\">\n",
       "  <thead>\n",
       "    <tr style=\"text-align: right;\">\n",
       "      <th></th>\n",
       "      <th>projectAmount</th>\n",
       "      <th>benefitCostRatio</th>\n",
       "      <th>netValueBenefits</th>\n",
       "      <th>Positive_ROI</th>\n",
       "      <th>region_1</th>\n",
       "      <th>region_2</th>\n",
       "      <th>region_3</th>\n",
       "      <th>region_4</th>\n",
       "      <th>region_5</th>\n",
       "      <th>region_6</th>\n",
       "      <th>region_7</th>\n",
       "      <th>region_8</th>\n",
       "      <th>region_9</th>\n",
       "      <th>region_10</th>\n",
       "      <th>stateNumberCode_1</th>\n",
       "      <th>stateNumberCode_2</th>\n",
       "      <th>stateNumberCode_4</th>\n",
       "      <th>stateNumberCode_5</th>\n",
       "      <th>stateNumberCode_6</th>\n",
       "      <th>stateNumberCode_8</th>\n",
       "      <th>stateNumberCode_9</th>\n",
       "      <th>stateNumberCode_10</th>\n",
       "      <th>stateNumberCode_11</th>\n",
       "      <th>stateNumberCode_12</th>\n",
       "      <th>stateNumberCode_13</th>\n",
       "      <th>stateNumberCode_15</th>\n",
       "      <th>stateNumberCode_16</th>\n",
       "      <th>stateNumberCode_17</th>\n",
       "      <th>stateNumberCode_18</th>\n",
       "      <th>stateNumberCode_19</th>\n",
       "      <th>stateNumberCode_20</th>\n",
       "      <th>stateNumberCode_21</th>\n",
       "      <th>stateNumberCode_22</th>\n",
       "      <th>stateNumberCode_23</th>\n",
       "      <th>stateNumberCode_24</th>\n",
       "      <th>stateNumberCode_25</th>\n",
       "      <th>stateNumberCode_26</th>\n",
       "      <th>stateNumberCode_27</th>\n",
       "      <th>stateNumberCode_28</th>\n",
       "      <th>stateNumberCode_29</th>\n",
       "      <th>...</th>\n",
       "      <th>stateNumberCode_72</th>\n",
       "      <th>stateNumberCode_78</th>\n",
       "      <th>programArea_FMA</th>\n",
       "      <th>programArea_HMGP</th>\n",
       "      <th>programArea_LPDM</th>\n",
       "      <th>programArea_PDM</th>\n",
       "      <th>programArea_RFC</th>\n",
       "      <th>programArea_SRL</th>\n",
       "      <th>programFy_1989</th>\n",
       "      <th>programFy_1990</th>\n",
       "      <th>programFy_1991</th>\n",
       "      <th>programFy_1992</th>\n",
       "      <th>programFy_1993</th>\n",
       "      <th>programFy_1994</th>\n",
       "      <th>programFy_1995</th>\n",
       "      <th>programFy_1996</th>\n",
       "      <th>programFy_1997</th>\n",
       "      <th>programFy_1998</th>\n",
       "      <th>programFy_1999</th>\n",
       "      <th>programFy_2000</th>\n",
       "      <th>programFy_2001</th>\n",
       "      <th>programFy_2002</th>\n",
       "      <th>programFy_2003</th>\n",
       "      <th>programFy_2004</th>\n",
       "      <th>programFy_2005</th>\n",
       "      <th>programFy_2006</th>\n",
       "      <th>programFy_2007</th>\n",
       "      <th>programFy_2008</th>\n",
       "      <th>programFy_2009</th>\n",
       "      <th>programFy_2010</th>\n",
       "      <th>programFy_2011</th>\n",
       "      <th>programFy_2012</th>\n",
       "      <th>programFy_2013</th>\n",
       "      <th>programFy_2014</th>\n",
       "      <th>programFy_2015</th>\n",
       "      <th>programFy_2016</th>\n",
       "      <th>programFy_2017</th>\n",
       "      <th>programFy_2018</th>\n",
       "      <th>programFy_2019</th>\n",
       "      <th>programFy_2020</th>\n",
       "    </tr>\n",
       "  </thead>\n",
       "  <tbody>\n",
       "    <tr>\n",
       "      <td>1</td>\n",
       "      <td>366071</td>\n",
       "      <td>1</td>\n",
       "      <td>961452</td>\n",
       "      <td>1</td>\n",
       "      <td>0</td>\n",
       "      <td>0</td>\n",
       "      <td>0</td>\n",
       "      <td>0</td>\n",
       "      <td>1</td>\n",
       "      <td>0</td>\n",
       "      <td>0</td>\n",
       "      <td>0</td>\n",
       "      <td>0</td>\n",
       "      <td>0</td>\n",
       "      <td>0</td>\n",
       "      <td>0</td>\n",
       "      <td>0</td>\n",
       "      <td>0</td>\n",
       "      <td>0</td>\n",
       "      <td>0</td>\n",
       "      <td>0</td>\n",
       "      <td>0</td>\n",
       "      <td>0</td>\n",
       "      <td>0</td>\n",
       "      <td>0</td>\n",
       "      <td>0</td>\n",
       "      <td>0</td>\n",
       "      <td>0</td>\n",
       "      <td>1</td>\n",
       "      <td>0</td>\n",
       "      <td>0</td>\n",
       "      <td>0</td>\n",
       "      <td>0</td>\n",
       "      <td>0</td>\n",
       "      <td>0</td>\n",
       "      <td>0</td>\n",
       "      <td>0</td>\n",
       "      <td>0</td>\n",
       "      <td>0</td>\n",
       "      <td>0</td>\n",
       "      <td>...</td>\n",
       "      <td>0</td>\n",
       "      <td>0</td>\n",
       "      <td>0</td>\n",
       "      <td>1</td>\n",
       "      <td>0</td>\n",
       "      <td>0</td>\n",
       "      <td>0</td>\n",
       "      <td>0</td>\n",
       "      <td>0</td>\n",
       "      <td>0</td>\n",
       "      <td>0</td>\n",
       "      <td>0</td>\n",
       "      <td>0</td>\n",
       "      <td>0</td>\n",
       "      <td>0</td>\n",
       "      <td>0</td>\n",
       "      <td>0</td>\n",
       "      <td>0</td>\n",
       "      <td>0</td>\n",
       "      <td>0</td>\n",
       "      <td>0</td>\n",
       "      <td>0</td>\n",
       "      <td>0</td>\n",
       "      <td>0</td>\n",
       "      <td>0</td>\n",
       "      <td>0</td>\n",
       "      <td>0</td>\n",
       "      <td>0</td>\n",
       "      <td>0</td>\n",
       "      <td>0</td>\n",
       "      <td>1</td>\n",
       "      <td>0</td>\n",
       "      <td>0</td>\n",
       "      <td>0</td>\n",
       "      <td>0</td>\n",
       "      <td>0</td>\n",
       "      <td>0</td>\n",
       "      <td>0</td>\n",
       "      <td>0</td>\n",
       "      <td>0</td>\n",
       "    </tr>\n",
       "    <tr>\n",
       "      <td>2</td>\n",
       "      <td>96965</td>\n",
       "      <td>0</td>\n",
       "      <td>0</td>\n",
       "      <td>0</td>\n",
       "      <td>0</td>\n",
       "      <td>0</td>\n",
       "      <td>0</td>\n",
       "      <td>0</td>\n",
       "      <td>0</td>\n",
       "      <td>0</td>\n",
       "      <td>1</td>\n",
       "      <td>0</td>\n",
       "      <td>0</td>\n",
       "      <td>0</td>\n",
       "      <td>0</td>\n",
       "      <td>0</td>\n",
       "      <td>0</td>\n",
       "      <td>0</td>\n",
       "      <td>0</td>\n",
       "      <td>0</td>\n",
       "      <td>0</td>\n",
       "      <td>0</td>\n",
       "      <td>0</td>\n",
       "      <td>0</td>\n",
       "      <td>0</td>\n",
       "      <td>0</td>\n",
       "      <td>0</td>\n",
       "      <td>0</td>\n",
       "      <td>0</td>\n",
       "      <td>1</td>\n",
       "      <td>0</td>\n",
       "      <td>0</td>\n",
       "      <td>0</td>\n",
       "      <td>0</td>\n",
       "      <td>0</td>\n",
       "      <td>0</td>\n",
       "      <td>0</td>\n",
       "      <td>0</td>\n",
       "      <td>0</td>\n",
       "      <td>0</td>\n",
       "      <td>...</td>\n",
       "      <td>0</td>\n",
       "      <td>0</td>\n",
       "      <td>0</td>\n",
       "      <td>1</td>\n",
       "      <td>0</td>\n",
       "      <td>0</td>\n",
       "      <td>0</td>\n",
       "      <td>0</td>\n",
       "      <td>0</td>\n",
       "      <td>0</td>\n",
       "      <td>0</td>\n",
       "      <td>0</td>\n",
       "      <td>0</td>\n",
       "      <td>0</td>\n",
       "      <td>0</td>\n",
       "      <td>0</td>\n",
       "      <td>0</td>\n",
       "      <td>0</td>\n",
       "      <td>0</td>\n",
       "      <td>0</td>\n",
       "      <td>0</td>\n",
       "      <td>0</td>\n",
       "      <td>0</td>\n",
       "      <td>0</td>\n",
       "      <td>0</td>\n",
       "      <td>0</td>\n",
       "      <td>0</td>\n",
       "      <td>0</td>\n",
       "      <td>0</td>\n",
       "      <td>0</td>\n",
       "      <td>1</td>\n",
       "      <td>0</td>\n",
       "      <td>0</td>\n",
       "      <td>0</td>\n",
       "      <td>0</td>\n",
       "      <td>0</td>\n",
       "      <td>0</td>\n",
       "      <td>0</td>\n",
       "      <td>0</td>\n",
       "      <td>0</td>\n",
       "    </tr>\n",
       "    <tr>\n",
       "      <td>4</td>\n",
       "      <td>34245</td>\n",
       "      <td>0</td>\n",
       "      <td>0</td>\n",
       "      <td>0</td>\n",
       "      <td>0</td>\n",
       "      <td>0</td>\n",
       "      <td>0</td>\n",
       "      <td>0</td>\n",
       "      <td>0</td>\n",
       "      <td>0</td>\n",
       "      <td>1</td>\n",
       "      <td>0</td>\n",
       "      <td>0</td>\n",
       "      <td>0</td>\n",
       "      <td>0</td>\n",
       "      <td>0</td>\n",
       "      <td>0</td>\n",
       "      <td>0</td>\n",
       "      <td>0</td>\n",
       "      <td>0</td>\n",
       "      <td>0</td>\n",
       "      <td>0</td>\n",
       "      <td>0</td>\n",
       "      <td>0</td>\n",
       "      <td>0</td>\n",
       "      <td>0</td>\n",
       "      <td>0</td>\n",
       "      <td>0</td>\n",
       "      <td>0</td>\n",
       "      <td>1</td>\n",
       "      <td>0</td>\n",
       "      <td>0</td>\n",
       "      <td>0</td>\n",
       "      <td>0</td>\n",
       "      <td>0</td>\n",
       "      <td>0</td>\n",
       "      <td>0</td>\n",
       "      <td>0</td>\n",
       "      <td>0</td>\n",
       "      <td>0</td>\n",
       "      <td>...</td>\n",
       "      <td>0</td>\n",
       "      <td>0</td>\n",
       "      <td>0</td>\n",
       "      <td>1</td>\n",
       "      <td>0</td>\n",
       "      <td>0</td>\n",
       "      <td>0</td>\n",
       "      <td>0</td>\n",
       "      <td>0</td>\n",
       "      <td>0</td>\n",
       "      <td>0</td>\n",
       "      <td>0</td>\n",
       "      <td>0</td>\n",
       "      <td>0</td>\n",
       "      <td>0</td>\n",
       "      <td>0</td>\n",
       "      <td>0</td>\n",
       "      <td>0</td>\n",
       "      <td>0</td>\n",
       "      <td>0</td>\n",
       "      <td>0</td>\n",
       "      <td>0</td>\n",
       "      <td>0</td>\n",
       "      <td>0</td>\n",
       "      <td>0</td>\n",
       "      <td>0</td>\n",
       "      <td>0</td>\n",
       "      <td>0</td>\n",
       "      <td>0</td>\n",
       "      <td>0</td>\n",
       "      <td>1</td>\n",
       "      <td>0</td>\n",
       "      <td>0</td>\n",
       "      <td>0</td>\n",
       "      <td>0</td>\n",
       "      <td>0</td>\n",
       "      <td>0</td>\n",
       "      <td>0</td>\n",
       "      <td>0</td>\n",
       "      <td>0</td>\n",
       "    </tr>\n",
       "    <tr>\n",
       "      <td>9</td>\n",
       "      <td>25609</td>\n",
       "      <td>0</td>\n",
       "      <td>0</td>\n",
       "      <td>0</td>\n",
       "      <td>0</td>\n",
       "      <td>0</td>\n",
       "      <td>0</td>\n",
       "      <td>0</td>\n",
       "      <td>0</td>\n",
       "      <td>0</td>\n",
       "      <td>0</td>\n",
       "      <td>1</td>\n",
       "      <td>0</td>\n",
       "      <td>0</td>\n",
       "      <td>0</td>\n",
       "      <td>0</td>\n",
       "      <td>0</td>\n",
       "      <td>0</td>\n",
       "      <td>0</td>\n",
       "      <td>0</td>\n",
       "      <td>0</td>\n",
       "      <td>0</td>\n",
       "      <td>0</td>\n",
       "      <td>0</td>\n",
       "      <td>0</td>\n",
       "      <td>0</td>\n",
       "      <td>0</td>\n",
       "      <td>0</td>\n",
       "      <td>0</td>\n",
       "      <td>0</td>\n",
       "      <td>0</td>\n",
       "      <td>0</td>\n",
       "      <td>0</td>\n",
       "      <td>0</td>\n",
       "      <td>0</td>\n",
       "      <td>0</td>\n",
       "      <td>0</td>\n",
       "      <td>0</td>\n",
       "      <td>0</td>\n",
       "      <td>0</td>\n",
       "      <td>...</td>\n",
       "      <td>0</td>\n",
       "      <td>0</td>\n",
       "      <td>0</td>\n",
       "      <td>1</td>\n",
       "      <td>0</td>\n",
       "      <td>0</td>\n",
       "      <td>0</td>\n",
       "      <td>0</td>\n",
       "      <td>0</td>\n",
       "      <td>0</td>\n",
       "      <td>0</td>\n",
       "      <td>0</td>\n",
       "      <td>0</td>\n",
       "      <td>0</td>\n",
       "      <td>0</td>\n",
       "      <td>0</td>\n",
       "      <td>0</td>\n",
       "      <td>0</td>\n",
       "      <td>0</td>\n",
       "      <td>0</td>\n",
       "      <td>0</td>\n",
       "      <td>0</td>\n",
       "      <td>0</td>\n",
       "      <td>0</td>\n",
       "      <td>0</td>\n",
       "      <td>0</td>\n",
       "      <td>0</td>\n",
       "      <td>0</td>\n",
       "      <td>0</td>\n",
       "      <td>0</td>\n",
       "      <td>1</td>\n",
       "      <td>0</td>\n",
       "      <td>0</td>\n",
       "      <td>0</td>\n",
       "      <td>0</td>\n",
       "      <td>0</td>\n",
       "      <td>0</td>\n",
       "      <td>0</td>\n",
       "      <td>0</td>\n",
       "      <td>0</td>\n",
       "    </tr>\n",
       "    <tr>\n",
       "      <td>10</td>\n",
       "      <td>109900</td>\n",
       "      <td>0</td>\n",
       "      <td>108817</td>\n",
       "      <td>0</td>\n",
       "      <td>0</td>\n",
       "      <td>1</td>\n",
       "      <td>0</td>\n",
       "      <td>0</td>\n",
       "      <td>0</td>\n",
       "      <td>0</td>\n",
       "      <td>0</td>\n",
       "      <td>0</td>\n",
       "      <td>0</td>\n",
       "      <td>0</td>\n",
       "      <td>0</td>\n",
       "      <td>0</td>\n",
       "      <td>0</td>\n",
       "      <td>0</td>\n",
       "      <td>0</td>\n",
       "      <td>0</td>\n",
       "      <td>0</td>\n",
       "      <td>0</td>\n",
       "      <td>0</td>\n",
       "      <td>0</td>\n",
       "      <td>0</td>\n",
       "      <td>0</td>\n",
       "      <td>0</td>\n",
       "      <td>0</td>\n",
       "      <td>0</td>\n",
       "      <td>0</td>\n",
       "      <td>0</td>\n",
       "      <td>0</td>\n",
       "      <td>0</td>\n",
       "      <td>0</td>\n",
       "      <td>0</td>\n",
       "      <td>0</td>\n",
       "      <td>0</td>\n",
       "      <td>0</td>\n",
       "      <td>0</td>\n",
       "      <td>0</td>\n",
       "      <td>...</td>\n",
       "      <td>0</td>\n",
       "      <td>0</td>\n",
       "      <td>0</td>\n",
       "      <td>1</td>\n",
       "      <td>0</td>\n",
       "      <td>0</td>\n",
       "      <td>0</td>\n",
       "      <td>0</td>\n",
       "      <td>0</td>\n",
       "      <td>0</td>\n",
       "      <td>0</td>\n",
       "      <td>0</td>\n",
       "      <td>0</td>\n",
       "      <td>0</td>\n",
       "      <td>0</td>\n",
       "      <td>0</td>\n",
       "      <td>0</td>\n",
       "      <td>0</td>\n",
       "      <td>0</td>\n",
       "      <td>0</td>\n",
       "      <td>0</td>\n",
       "      <td>0</td>\n",
       "      <td>0</td>\n",
       "      <td>0</td>\n",
       "      <td>0</td>\n",
       "      <td>0</td>\n",
       "      <td>0</td>\n",
       "      <td>0</td>\n",
       "      <td>0</td>\n",
       "      <td>0</td>\n",
       "      <td>1</td>\n",
       "      <td>0</td>\n",
       "      <td>0</td>\n",
       "      <td>0</td>\n",
       "      <td>0</td>\n",
       "      <td>0</td>\n",
       "      <td>0</td>\n",
       "      <td>0</td>\n",
       "      <td>0</td>\n",
       "      <td>0</td>\n",
       "    </tr>\n",
       "    <tr>\n",
       "      <td>...</td>\n",
       "      <td>...</td>\n",
       "      <td>...</td>\n",
       "      <td>...</td>\n",
       "      <td>...</td>\n",
       "      <td>...</td>\n",
       "      <td>...</td>\n",
       "      <td>...</td>\n",
       "      <td>...</td>\n",
       "      <td>...</td>\n",
       "      <td>...</td>\n",
       "      <td>...</td>\n",
       "      <td>...</td>\n",
       "      <td>...</td>\n",
       "      <td>...</td>\n",
       "      <td>...</td>\n",
       "      <td>...</td>\n",
       "      <td>...</td>\n",
       "      <td>...</td>\n",
       "      <td>...</td>\n",
       "      <td>...</td>\n",
       "      <td>...</td>\n",
       "      <td>...</td>\n",
       "      <td>...</td>\n",
       "      <td>...</td>\n",
       "      <td>...</td>\n",
       "      <td>...</td>\n",
       "      <td>...</td>\n",
       "      <td>...</td>\n",
       "      <td>...</td>\n",
       "      <td>...</td>\n",
       "      <td>...</td>\n",
       "      <td>...</td>\n",
       "      <td>...</td>\n",
       "      <td>...</td>\n",
       "      <td>...</td>\n",
       "      <td>...</td>\n",
       "      <td>...</td>\n",
       "      <td>...</td>\n",
       "      <td>...</td>\n",
       "      <td>...</td>\n",
       "      <td>...</td>\n",
       "      <td>...</td>\n",
       "      <td>...</td>\n",
       "      <td>...</td>\n",
       "      <td>...</td>\n",
       "      <td>...</td>\n",
       "      <td>...</td>\n",
       "      <td>...</td>\n",
       "      <td>...</td>\n",
       "      <td>...</td>\n",
       "      <td>...</td>\n",
       "      <td>...</td>\n",
       "      <td>...</td>\n",
       "      <td>...</td>\n",
       "      <td>...</td>\n",
       "      <td>...</td>\n",
       "      <td>...</td>\n",
       "      <td>...</td>\n",
       "      <td>...</td>\n",
       "      <td>...</td>\n",
       "      <td>...</td>\n",
       "      <td>...</td>\n",
       "      <td>...</td>\n",
       "      <td>...</td>\n",
       "      <td>...</td>\n",
       "      <td>...</td>\n",
       "      <td>...</td>\n",
       "      <td>...</td>\n",
       "      <td>...</td>\n",
       "      <td>...</td>\n",
       "      <td>...</td>\n",
       "      <td>...</td>\n",
       "      <td>...</td>\n",
       "      <td>...</td>\n",
       "      <td>...</td>\n",
       "      <td>...</td>\n",
       "      <td>...</td>\n",
       "      <td>...</td>\n",
       "      <td>...</td>\n",
       "      <td>...</td>\n",
       "      <td>...</td>\n",
       "    </tr>\n",
       "    <tr>\n",
       "      <td>29619</td>\n",
       "      <td>356900</td>\n",
       "      <td>0</td>\n",
       "      <td>0</td>\n",
       "      <td>0</td>\n",
       "      <td>0</td>\n",
       "      <td>0</td>\n",
       "      <td>0</td>\n",
       "      <td>0</td>\n",
       "      <td>1</td>\n",
       "      <td>0</td>\n",
       "      <td>0</td>\n",
       "      <td>0</td>\n",
       "      <td>0</td>\n",
       "      <td>0</td>\n",
       "      <td>0</td>\n",
       "      <td>0</td>\n",
       "      <td>0</td>\n",
       "      <td>0</td>\n",
       "      <td>0</td>\n",
       "      <td>0</td>\n",
       "      <td>0</td>\n",
       "      <td>0</td>\n",
       "      <td>0</td>\n",
       "      <td>0</td>\n",
       "      <td>0</td>\n",
       "      <td>0</td>\n",
       "      <td>0</td>\n",
       "      <td>0</td>\n",
       "      <td>0</td>\n",
       "      <td>0</td>\n",
       "      <td>0</td>\n",
       "      <td>0</td>\n",
       "      <td>0</td>\n",
       "      <td>0</td>\n",
       "      <td>0</td>\n",
       "      <td>0</td>\n",
       "      <td>0</td>\n",
       "      <td>0</td>\n",
       "      <td>0</td>\n",
       "      <td>0</td>\n",
       "      <td>...</td>\n",
       "      <td>0</td>\n",
       "      <td>0</td>\n",
       "      <td>0</td>\n",
       "      <td>1</td>\n",
       "      <td>0</td>\n",
       "      <td>0</td>\n",
       "      <td>0</td>\n",
       "      <td>0</td>\n",
       "      <td>0</td>\n",
       "      <td>0</td>\n",
       "      <td>0</td>\n",
       "      <td>0</td>\n",
       "      <td>0</td>\n",
       "      <td>0</td>\n",
       "      <td>0</td>\n",
       "      <td>0</td>\n",
       "      <td>0</td>\n",
       "      <td>0</td>\n",
       "      <td>0</td>\n",
       "      <td>0</td>\n",
       "      <td>0</td>\n",
       "      <td>0</td>\n",
       "      <td>0</td>\n",
       "      <td>0</td>\n",
       "      <td>0</td>\n",
       "      <td>0</td>\n",
       "      <td>0</td>\n",
       "      <td>0</td>\n",
       "      <td>0</td>\n",
       "      <td>0</td>\n",
       "      <td>0</td>\n",
       "      <td>0</td>\n",
       "      <td>0</td>\n",
       "      <td>0</td>\n",
       "      <td>0</td>\n",
       "      <td>0</td>\n",
       "      <td>0</td>\n",
       "      <td>0</td>\n",
       "      <td>1</td>\n",
       "      <td>0</td>\n",
       "    </tr>\n",
       "    <tr>\n",
       "      <td>29620</td>\n",
       "      <td>25000</td>\n",
       "      <td>0</td>\n",
       "      <td>0</td>\n",
       "      <td>0</td>\n",
       "      <td>0</td>\n",
       "      <td>0</td>\n",
       "      <td>0</td>\n",
       "      <td>0</td>\n",
       "      <td>0</td>\n",
       "      <td>0</td>\n",
       "      <td>1</td>\n",
       "      <td>0</td>\n",
       "      <td>0</td>\n",
       "      <td>0</td>\n",
       "      <td>0</td>\n",
       "      <td>0</td>\n",
       "      <td>0</td>\n",
       "      <td>0</td>\n",
       "      <td>0</td>\n",
       "      <td>0</td>\n",
       "      <td>0</td>\n",
       "      <td>0</td>\n",
       "      <td>0</td>\n",
       "      <td>0</td>\n",
       "      <td>0</td>\n",
       "      <td>0</td>\n",
       "      <td>0</td>\n",
       "      <td>0</td>\n",
       "      <td>0</td>\n",
       "      <td>0</td>\n",
       "      <td>0</td>\n",
       "      <td>0</td>\n",
       "      <td>0</td>\n",
       "      <td>0</td>\n",
       "      <td>0</td>\n",
       "      <td>0</td>\n",
       "      <td>0</td>\n",
       "      <td>0</td>\n",
       "      <td>0</td>\n",
       "      <td>1</td>\n",
       "      <td>...</td>\n",
       "      <td>0</td>\n",
       "      <td>0</td>\n",
       "      <td>0</td>\n",
       "      <td>1</td>\n",
       "      <td>0</td>\n",
       "      <td>0</td>\n",
       "      <td>0</td>\n",
       "      <td>0</td>\n",
       "      <td>0</td>\n",
       "      <td>0</td>\n",
       "      <td>0</td>\n",
       "      <td>0</td>\n",
       "      <td>0</td>\n",
       "      <td>0</td>\n",
       "      <td>0</td>\n",
       "      <td>0</td>\n",
       "      <td>0</td>\n",
       "      <td>0</td>\n",
       "      <td>0</td>\n",
       "      <td>0</td>\n",
       "      <td>0</td>\n",
       "      <td>0</td>\n",
       "      <td>0</td>\n",
       "      <td>0</td>\n",
       "      <td>0</td>\n",
       "      <td>0</td>\n",
       "      <td>0</td>\n",
       "      <td>0</td>\n",
       "      <td>0</td>\n",
       "      <td>0</td>\n",
       "      <td>0</td>\n",
       "      <td>0</td>\n",
       "      <td>0</td>\n",
       "      <td>0</td>\n",
       "      <td>0</td>\n",
       "      <td>0</td>\n",
       "      <td>0</td>\n",
       "      <td>0</td>\n",
       "      <td>1</td>\n",
       "      <td>0</td>\n",
       "    </tr>\n",
       "    <tr>\n",
       "      <td>29622</td>\n",
       "      <td>8720</td>\n",
       "      <td>0</td>\n",
       "      <td>0</td>\n",
       "      <td>0</td>\n",
       "      <td>0</td>\n",
       "      <td>0</td>\n",
       "      <td>0</td>\n",
       "      <td>1</td>\n",
       "      <td>0</td>\n",
       "      <td>0</td>\n",
       "      <td>0</td>\n",
       "      <td>0</td>\n",
       "      <td>0</td>\n",
       "      <td>0</td>\n",
       "      <td>1</td>\n",
       "      <td>0</td>\n",
       "      <td>0</td>\n",
       "      <td>0</td>\n",
       "      <td>0</td>\n",
       "      <td>0</td>\n",
       "      <td>0</td>\n",
       "      <td>0</td>\n",
       "      <td>0</td>\n",
       "      <td>0</td>\n",
       "      <td>0</td>\n",
       "      <td>0</td>\n",
       "      <td>0</td>\n",
       "      <td>0</td>\n",
       "      <td>0</td>\n",
       "      <td>0</td>\n",
       "      <td>0</td>\n",
       "      <td>0</td>\n",
       "      <td>0</td>\n",
       "      <td>0</td>\n",
       "      <td>0</td>\n",
       "      <td>0</td>\n",
       "      <td>0</td>\n",
       "      <td>0</td>\n",
       "      <td>0</td>\n",
       "      <td>0</td>\n",
       "      <td>...</td>\n",
       "      <td>0</td>\n",
       "      <td>0</td>\n",
       "      <td>0</td>\n",
       "      <td>1</td>\n",
       "      <td>0</td>\n",
       "      <td>0</td>\n",
       "      <td>0</td>\n",
       "      <td>0</td>\n",
       "      <td>0</td>\n",
       "      <td>0</td>\n",
       "      <td>0</td>\n",
       "      <td>0</td>\n",
       "      <td>0</td>\n",
       "      <td>0</td>\n",
       "      <td>0</td>\n",
       "      <td>0</td>\n",
       "      <td>0</td>\n",
       "      <td>0</td>\n",
       "      <td>0</td>\n",
       "      <td>0</td>\n",
       "      <td>0</td>\n",
       "      <td>0</td>\n",
       "      <td>0</td>\n",
       "      <td>0</td>\n",
       "      <td>0</td>\n",
       "      <td>0</td>\n",
       "      <td>0</td>\n",
       "      <td>0</td>\n",
       "      <td>0</td>\n",
       "      <td>0</td>\n",
       "      <td>0</td>\n",
       "      <td>0</td>\n",
       "      <td>0</td>\n",
       "      <td>0</td>\n",
       "      <td>0</td>\n",
       "      <td>0</td>\n",
       "      <td>0</td>\n",
       "      <td>0</td>\n",
       "      <td>1</td>\n",
       "      <td>0</td>\n",
       "    </tr>\n",
       "    <tr>\n",
       "      <td>29626</td>\n",
       "      <td>21000</td>\n",
       "      <td>0</td>\n",
       "      <td>0</td>\n",
       "      <td>0</td>\n",
       "      <td>0</td>\n",
       "      <td>0</td>\n",
       "      <td>0</td>\n",
       "      <td>0</td>\n",
       "      <td>0</td>\n",
       "      <td>0</td>\n",
       "      <td>1</td>\n",
       "      <td>0</td>\n",
       "      <td>0</td>\n",
       "      <td>0</td>\n",
       "      <td>0</td>\n",
       "      <td>0</td>\n",
       "      <td>0</td>\n",
       "      <td>0</td>\n",
       "      <td>0</td>\n",
       "      <td>0</td>\n",
       "      <td>0</td>\n",
       "      <td>0</td>\n",
       "      <td>0</td>\n",
       "      <td>0</td>\n",
       "      <td>0</td>\n",
       "      <td>0</td>\n",
       "      <td>0</td>\n",
       "      <td>0</td>\n",
       "      <td>0</td>\n",
       "      <td>0</td>\n",
       "      <td>0</td>\n",
       "      <td>0</td>\n",
       "      <td>0</td>\n",
       "      <td>0</td>\n",
       "      <td>0</td>\n",
       "      <td>0</td>\n",
       "      <td>0</td>\n",
       "      <td>0</td>\n",
       "      <td>0</td>\n",
       "      <td>1</td>\n",
       "      <td>...</td>\n",
       "      <td>0</td>\n",
       "      <td>0</td>\n",
       "      <td>0</td>\n",
       "      <td>1</td>\n",
       "      <td>0</td>\n",
       "      <td>0</td>\n",
       "      <td>0</td>\n",
       "      <td>0</td>\n",
       "      <td>0</td>\n",
       "      <td>0</td>\n",
       "      <td>0</td>\n",
       "      <td>0</td>\n",
       "      <td>0</td>\n",
       "      <td>0</td>\n",
       "      <td>0</td>\n",
       "      <td>0</td>\n",
       "      <td>0</td>\n",
       "      <td>0</td>\n",
       "      <td>0</td>\n",
       "      <td>0</td>\n",
       "      <td>0</td>\n",
       "      <td>0</td>\n",
       "      <td>0</td>\n",
       "      <td>0</td>\n",
       "      <td>0</td>\n",
       "      <td>0</td>\n",
       "      <td>0</td>\n",
       "      <td>0</td>\n",
       "      <td>0</td>\n",
       "      <td>0</td>\n",
       "      <td>0</td>\n",
       "      <td>0</td>\n",
       "      <td>0</td>\n",
       "      <td>0</td>\n",
       "      <td>0</td>\n",
       "      <td>0</td>\n",
       "      <td>0</td>\n",
       "      <td>0</td>\n",
       "      <td>1</td>\n",
       "      <td>0</td>\n",
       "    </tr>\n",
       "    <tr>\n",
       "      <td>29627</td>\n",
       "      <td>58216</td>\n",
       "      <td>0</td>\n",
       "      <td>61869</td>\n",
       "      <td>0</td>\n",
       "      <td>0</td>\n",
       "      <td>0</td>\n",
       "      <td>0</td>\n",
       "      <td>1</td>\n",
       "      <td>0</td>\n",
       "      <td>0</td>\n",
       "      <td>0</td>\n",
       "      <td>0</td>\n",
       "      <td>0</td>\n",
       "      <td>0</td>\n",
       "      <td>1</td>\n",
       "      <td>0</td>\n",
       "      <td>0</td>\n",
       "      <td>0</td>\n",
       "      <td>0</td>\n",
       "      <td>0</td>\n",
       "      <td>0</td>\n",
       "      <td>0</td>\n",
       "      <td>0</td>\n",
       "      <td>0</td>\n",
       "      <td>0</td>\n",
       "      <td>0</td>\n",
       "      <td>0</td>\n",
       "      <td>0</td>\n",
       "      <td>0</td>\n",
       "      <td>0</td>\n",
       "      <td>0</td>\n",
       "      <td>0</td>\n",
       "      <td>0</td>\n",
       "      <td>0</td>\n",
       "      <td>0</td>\n",
       "      <td>0</td>\n",
       "      <td>0</td>\n",
       "      <td>0</td>\n",
       "      <td>0</td>\n",
       "      <td>0</td>\n",
       "      <td>...</td>\n",
       "      <td>0</td>\n",
       "      <td>0</td>\n",
       "      <td>0</td>\n",
       "      <td>1</td>\n",
       "      <td>0</td>\n",
       "      <td>0</td>\n",
       "      <td>0</td>\n",
       "      <td>0</td>\n",
       "      <td>0</td>\n",
       "      <td>0</td>\n",
       "      <td>0</td>\n",
       "      <td>0</td>\n",
       "      <td>0</td>\n",
       "      <td>0</td>\n",
       "      <td>0</td>\n",
       "      <td>0</td>\n",
       "      <td>0</td>\n",
       "      <td>0</td>\n",
       "      <td>0</td>\n",
       "      <td>0</td>\n",
       "      <td>0</td>\n",
       "      <td>0</td>\n",
       "      <td>0</td>\n",
       "      <td>0</td>\n",
       "      <td>0</td>\n",
       "      <td>0</td>\n",
       "      <td>0</td>\n",
       "      <td>0</td>\n",
       "      <td>0</td>\n",
       "      <td>0</td>\n",
       "      <td>0</td>\n",
       "      <td>0</td>\n",
       "      <td>0</td>\n",
       "      <td>0</td>\n",
       "      <td>0</td>\n",
       "      <td>0</td>\n",
       "      <td>0</td>\n",
       "      <td>0</td>\n",
       "      <td>1</td>\n",
       "      <td>0</td>\n",
       "    </tr>\n",
       "  </tbody>\n",
       "</table>\n",
       "<p>21625 rows × 111 columns</p>\n",
       "</div>"
      ],
      "text/plain": [
       "       projectAmount  benefitCostRatio  ...  programFy_2019  programFy_2020\n",
       "1             366071                 1  ...               0               0\n",
       "2              96965                 0  ...               0               0\n",
       "4              34245                 0  ...               0               0\n",
       "9              25609                 0  ...               0               0\n",
       "10            109900                 0  ...               0               0\n",
       "...              ...               ...  ...             ...             ...\n",
       "29619         356900                 0  ...               1               0\n",
       "29620          25000                 0  ...               1               0\n",
       "29622           8720                 0  ...               1               0\n",
       "29626          21000                 0  ...               1               0\n",
       "29627          58216                 0  ...               1               0\n",
       "\n",
       "[21625 rows x 111 columns]"
      ]
     },
     "execution_count": 58,
     "metadata": {},
     "output_type": "execute_result"
    }
   ],
   "source": [
    "pd.get_dummies(df)"
   ]
  },
  {
   "cell_type": "code",
   "execution_count": 59,
   "metadata": {
    "scrolled": true
   },
   "outputs": [
    {
     "data": {
      "image/png": "[encoded data removed]",
      "text/plain": [
       "<Figure size 720x432 with 1 Axes>"
      ]
     },
     "metadata": {
      "needs_background": "light"
     },
     "output_type": "display_data"
    },
    {
     "data": {
      "image/png": "[encoded data removed]",
      "text/plain": [
       "<Figure size 720x432 with 1 Axes>"
      ]
     },
     "metadata": {
      "needs_background": "light"
     },
     "output_type": "display_data"
    },
    {
     "data": {
      "image/png": "[encoded data removed]",
      "text/plain": [
       "<Figure size 720x432 with 1 Axes>"
      ]
     },
     "metadata": {
      "needs_background": "light"
     },
     "output_type": "display_data"
    }
   ],
   "source": [
    "categorical_plots(df)"
   ]
  },
  {
   "cell_type": "code",
   "execution_count": 60,
   "metadata": {
    "scrolled": true
   },
   "outputs": [
    {
     "data": {
      "image/png": "[encoded data removed]",
      "text/plain": [
       "<Figure size 1008x576 with 1 Axes>"
      ]
     },
     "metadata": {
      "needs_background": "light"
     },
     "output_type": "display_data"
    }
   ],
   "source": [
    "#Plot region vs. ROI\n",
    "plt.figure(figsize=(14, 8))\n",
    "sns.countplot(y=df2['region'], hue=df2['Positive_ROI'], palette=\"colorblind\")\n",
    "plt.legend(loc='center right')\n",
    "plt.show()\n",
    "# 0.0 = Not profitable & 1.0 = Profitable"
   ]
  },
  {
   "cell_type": "code",
   "execution_count": 61,
   "metadata": {
    "scrolled": true
   },
   "outputs": [
    {
     "data": {
      "image/png": "[encoded data removed]",
      "text/plain": [
       "<Figure size 1008x576 with 1 Axes>"
      ]
     },
     "metadata": {
      "needs_background": "light"
     },
     "output_type": "display_data"
    }
   ],
   "source": [
    "#Plot stateNumberCode vs. ROI\n",
    "plt.figure(figsize=(14, 8))\n",
    "sns.countplot(y=df2['stateNumberCode'], hue=df2['Positive_ROI'], palette=\"colorblind\")\n",
    "plt.legend(loc='center right')\n",
    "plt.show()\n",
    "# 0.0 = Not profitable & 1.0 = Profitable"
   ]
  },
  {
   "cell_type": "code",
   "execution_count": 62,
   "metadata": {},
   "outputs": [
    {
     "data": {
      "image/png": "[encoded data removed]",
      "text/plain": [
       "<Figure size 1008x576 with 1 Axes>"
      ]
     },
     "metadata": {
      "needs_background": "light"
     },
     "output_type": "display_data"
    }
   ],
   "source": [
    "#Plot programArea vs. ROI\n",
    "plt.figure(figsize=(14, 8))\n",
    "sns.countplot(y=df2['programArea'], hue=df2['Positive_ROI'], palette=\"colorblind\")\n",
    "plt.legend(loc='center right')\n",
    "plt.show()\n",
    "# 0.0 = Not profitable & 1.0 = Profitable"
   ]
  },
  {
   "cell_type": "code",
   "execution_count": 63,
   "metadata": {},
   "outputs": [
    {
     "data": {
      "image/png": "[encoded data removed]",
      "text/plain": [
       "<Figure size 1008x576 with 1 Axes>"
      ]
     },
     "metadata": {
      "needs_background": "light"
     },
     "output_type": "display_data"
    }
   ],
   "source": [
    "#Plot programFy vs. ROI\n",
    "plt.figure(figsize=(14, 8))\n",
    "sns.countplot(y=df2['programFy'], hue=df2['Positive_ROI'], palette=\"colorblind\")\n",
    "plt.legend(loc='center right')\n",
    "plt.show()\n",
    "# 0.0 = Not profitable & 1.0 = Profitable"
   ]
  },
  {
   "cell_type": "code",
   "execution_count": 64,
   "metadata": {
    "scrolled": false
   },
   "outputs": [],
   "source": [
    "df2 = pd.get_dummies(df)"
   ]
  },
  {
   "cell_type": "code",
   "execution_count": 65,
   "metadata": {},
   "outputs": [],
   "source": [
    "df2.drop(columns=['benefitCostRatio'], inplace=True)"
   ]
  },
  {
   "cell_type": "code",
   "execution_count": 66,
   "metadata": {},
   "outputs": [],
   "source": [
    "df=df2"
   ]
  },
  {
   "cell_type": "markdown",
   "metadata": {},
   "source": [
    "# Logistic Model #1"
   ]
  },
  {
   "cell_type": "code",
   "execution_count": 67,
   "metadata": {},
   "outputs": [],
   "source": [
    "#Split features and target\n",
    "X = df.drop(columns=['Positive_ROI'], axis=1)\n",
    "y = df['Positive_ROI']\n",
    "\n",
    "# Normalizing the data\n",
    "X = X.apply(lambda x : (x - x.min()) /(x.max() - x.min()), axis=0)\n",
    "X.head()\n",
    "\n",
    "#Split the data into train and test sets\n",
    "X_train, X_test, y_train, y_test = train_test_split(X, y, test_size=.20, random_state=123)\n",
    "    \n",
    "#Scale the data\n",
    "scaler = StandardScaler()\n",
    "X_train = scaler.fit_transform(X_train)\n",
    "X_test = scaler.transform(X_test)"
   ]
  },
  {
   "cell_type": "code",
   "execution_count": 68,
   "metadata": {},
   "outputs": [
    {
     "data": {
      "text/plain": [
       "LogisticRegression(C=1000000000000.0, fit_intercept=False, solver='liblinear')"
      ]
     },
     "execution_count": 68,
     "metadata": {},
     "output_type": "execute_result"
    }
   ],
   "source": [
    "# Instantiate the model\n",
    "logreg = LogisticRegression(fit_intercept=False, C=1e12, solver='liblinear')\n",
    "\n",
    "# Fit the model\n",
    "logreg.fit(X_train, y_train)"
   ]
  },
  {
   "cell_type": "code",
   "execution_count": 69,
   "metadata": {},
   "outputs": [],
   "source": [
    "# Generate predictions\n",
    "y_hat_train = logreg.predict(X_train)\n",
    "y_hat_test = logreg.predict(X_test)"
   ]
  },
  {
   "cell_type": "code",
   "execution_count": 70,
   "metadata": {},
   "outputs": [
    {
     "name": "stdout",
     "output_type": "stream",
     "text": [
      "0    16381\n",
      "1      919\n",
      "Name: Positive_ROI, dtype: int64\n",
      "------------------------------------\n",
      "0   0.947\n",
      "1   0.053\n",
      "Name: Positive_ROI, dtype: float64\n"
     ]
    }
   ],
   "source": [
    "# We could subtract the two columns. If values or equal, difference will be zero. Then count number of zeros.\n",
    "residuals = np.abs(y_train - y_hat_train)\n",
    "print(pd.Series(residuals).value_counts())\n",
    "print('------------------------------------')\n",
    "print(pd.Series(residuals).value_counts(normalize=True))\n",
    "# 194 correct, ~ 85% accuracy"
   ]
  },
  {
   "cell_type": "code",
   "execution_count": 71,
   "metadata": {},
   "outputs": [
    {
     "name": "stdout",
     "output_type": "stream",
     "text": [
      "0    4085\n",
      "1     240\n",
      "Name: Positive_ROI, dtype: int64\n",
      "------------------------------------\n",
      "0   0.945\n",
      "1   0.055\n",
      "Name: Positive_ROI, dtype: float64\n"
     ]
    }
   ],
   "source": [
    "# We could subtract the two columns. If values or equal, difference will be zero. Then count number of zeros.\n",
    "residuals = np.abs(y_test - y_hat_test)\n",
    "print(pd.Series(residuals).value_counts())\n",
    "print('------------------------------------')\n",
    "print(pd.Series(residuals).value_counts(normalize=True))\n",
    "# 62 correct, ~ 82% accuracy"
   ]
  },
  {
   "cell_type": "code",
   "execution_count": 72,
   "metadata": {},
   "outputs": [],
   "source": [
    "#Create function to easily build models and display results\n",
    "def build_model(classifier, X_train, X_test, y_train,  y_test):\n",
    "    '''Build classification model, returning classification report, train and test accuracy, and confusion matrix.\n",
    "    \n",
    "    Keyword arguments: \n",
    "    classifier -- classification algorithm\n",
    "    predictors -- X, features\n",
    "    labels -- y, target\n",
    "    '''\n",
    "    \n",
    "    #Create variables that can be called outside function\n",
    "    #build_model.X_train = X_train\n",
    "    #build_model.X_test = X_test\n",
    "    #build_model.y_train = y_train\n",
    "    #build_model.y_test = y_test\n",
    "    \n",
    "    #Fit model\n",
    "    classifier.fit(X_train, y_train)\n",
    "    #score = np.mean(cross_val_score(classifier, X, y, cv=5, scoring='recall'))\n",
    "\n",
    "    #Create predictions\n",
    "    y_hat_train = classifier.predict(X_train)\n",
    "    y_hat_test = classifier.predict(X_test)\n",
    "    \n",
    "    #Create variables that can be called outside function\n",
    "    #build_model.y_hat_train = y_hat_train\n",
    "    #build_model.y_hat_test = y_hat_test\n",
    "    \n",
    "    #Print classification report\n",
    "    print('Train Classification Report\\n', classification_report(y_train, y_hat_train))\n",
    "    print('Test Classification Report\\n', classification_report(y_test, y_hat_test))\n",
    "    \n",
    "    print('Train Accuracy:', round(accuracy_score(y_train, y_hat_train), 3))\n",
    "    print('Test Accuracy:', round(accuracy_score(y_test, y_hat_test), 3))\n",
    "    #print('Cross Validation Recall', round(score, 3))\n",
    "    \n",
    "    #Create a results dataframe\n",
    "    #results = pd.DataFrame([[str(model), round(accuracy_score(y_train, y_hat_train), 3), \n",
    "     #                        round(accuracy_score(y_test, y_hat_test), 3), round(score, 3)]], \n",
    "      #                    columns=['Model', 'Train_Accuracy', 'Test_Accuracy', 'Cross_Val_Recall'])\n",
    "    #build_model.results = results\n",
    "    \n",
    "    #Plot Confusion Matrices\n",
    "    fig, axes = plt.subplots(nrows=1, ncols=2, figsize=(14, 8))\n",
    "    plot_confusion_matrix(classifier, X_train, y_train,\n",
    "                     cmap=plt.cm.Blues, ax=axes[0], normalize='true')\n",
    "    fig.suptitle('Train & Test Confusion Matrices', fontsize=16);\n",
    "    \n",
    "    plot_confusion_matrix(classifier, X_test, y_test,\n",
    "                     cmap=plt.cm.Blues, ax=axes[1], normalize='true')\n",
    "    plt.subplots_adjust(wspace=0.4)\n",
    "    return classifier    "
   ]
  },
  {
   "cell_type": "code",
   "execution_count": 73,
   "metadata": {
    "scrolled": true
   },
   "outputs": [
    {
     "name": "stdout",
     "output_type": "stream",
     "text": [
      "Train Classification Report\n",
      "               precision    recall  f1-score   support\n",
      "\n",
      "           0       0.94      0.98      0.96     11302\n",
      "           1       0.96      0.88      0.92      5998\n",
      "\n",
      "    accuracy                           0.95     17300\n",
      "   macro avg       0.95      0.93      0.94     17300\n",
      "weighted avg       0.95      0.95      0.95     17300\n",
      "\n",
      "Test Classification Report\n",
      "               precision    recall  f1-score   support\n",
      "\n",
      "           0       0.94      0.98      0.96      2747\n",
      "           1       0.96      0.88      0.92      1578\n",
      "\n",
      "    accuracy                           0.94      4325\n",
      "   macro avg       0.95      0.93      0.94      4325\n",
      "weighted avg       0.94      0.94      0.94      4325\n",
      "\n",
      "Train Accuracy: 0.946\n",
      "Test Accuracy: 0.944\n"
     ]
    },
    {
     "data": {
      "text/plain": [
       "LogisticRegression()"
      ]
     },
     "execution_count": 73,
     "metadata": {},
     "output_type": "execute_result"
    },
    {
     "data": {
      "image/png": "[encoded data removed]",
      "text/plain": [
       "<Figure size 1008x576 with 4 Axes>"
      ]
     },
     "metadata": {
      "needs_background": "light"
     },
     "output_type": "display_data"
    }
   ],
   "source": [
    "log_reg = LogisticRegression()\n",
    "build_model(log_reg, X_train, X_test, y_train,  y_test)"
   ]
  },
  {
   "cell_type": "markdown",
   "metadata": {},
   "source": [
    "## Results:\n",
    "- Train Accuracy: 0.946\n",
    "- Test Accuracy: 0.944"
   ]
  },
  {
   "cell_type": "code",
   "execution_count": 74,
   "metadata": {
    "scrolled": true
   },
   "outputs": [
    {
     "data": {
      "text/html": [
       "<table class=\"simpletable\">\n",
       "<caption>OLS Regression Results</caption>\n",
       "<tr>\n",
       "  <th>Dep. Variable:</th>      <td>Positive_ROI</td>   <th>  R-squared:         </th> <td>   0.499</td> \n",
       "</tr>\n",
       "<tr>\n",
       "  <th>Model:</th>                   <td>OLS</td>       <th>  Adj. R-squared:    </th> <td>   0.497</td> \n",
       "</tr>\n",
       "<tr>\n",
       "  <th>Method:</th>             <td>Least Squares</td>  <th>  F-statistic:       </th> <td>   223.3</td> \n",
       "</tr>\n",
       "<tr>\n",
       "  <th>Date:</th>             <td>Wed, 17 Feb 2021</td> <th>  Prob (F-statistic):</th>  <td>  0.00</td>  \n",
       "</tr>\n",
       "<tr>\n",
       "  <th>Time:</th>                 <td>14:49:03</td>     <th>  Log-Likelihood:    </th> <td> -7207.9</td> \n",
       "</tr>\n",
       "<tr>\n",
       "  <th>No. Observations:</th>      <td> 21625</td>      <th>  AIC:               </th> <td>1.461e+04</td>\n",
       "</tr>\n",
       "<tr>\n",
       "  <th>Df Residuals:</th>          <td> 21528</td>      <th>  BIC:               </th> <td>1.538e+04</td>\n",
       "</tr>\n",
       "<tr>\n",
       "  <th>Df Model:</th>              <td>    96</td>      <th>                     </th>     <td> </td>    \n",
       "</tr>\n",
       "<tr>\n",
       "  <th>Covariance Type:</th>      <td>nonrobust</td>    <th>                     </th>     <td> </td>    \n",
       "</tr>\n",
       "</table>\n",
       "<table class=\"simpletable\">\n",
       "<tr>\n",
       "           <td></td>             <th>coef</th>     <th>std err</th>      <th>t</th>      <th>P>|t|</th>  <th>[0.025</th>    <th>0.975]</th>  \n",
       "</tr>\n",
       "<tr>\n",
       "  <th>Intercept</th>          <td>    0.1965</td> <td>    0.008</td> <td>   23.605</td> <td> 0.000</td> <td>    0.180</td> <td>    0.213</td>\n",
       "</tr>\n",
       "<tr>\n",
       "  <th>projectAmount</th>      <td>-2.585e-07</td> <td> 1.45e-08</td> <td>  -17.876</td> <td> 0.000</td> <td>-2.87e-07</td> <td> -2.3e-07</td>\n",
       "</tr>\n",
       "<tr>\n",
       "  <th>netValueBenefits</th>   <td> 1.044e-06</td> <td>    1e-08</td> <td>  103.988</td> <td> 0.000</td> <td> 1.02e-06</td> <td> 1.06e-06</td>\n",
       "</tr>\n",
       "<tr>\n",
       "  <th>region_1</th>           <td>    0.0898</td> <td>    0.008</td> <td>   11.617</td> <td> 0.000</td> <td>    0.075</td> <td>    0.105</td>\n",
       "</tr>\n",
       "<tr>\n",
       "  <th>region_2</th>           <td>    0.0090</td> <td>    0.010</td> <td>    0.879</td> <td> 0.379</td> <td>   -0.011</td> <td>    0.029</td>\n",
       "</tr>\n",
       "<tr>\n",
       "  <th>region_3</th>           <td>   -0.0061</td> <td>    0.010</td> <td>   -0.600</td> <td> 0.549</td> <td>   -0.026</td> <td>    0.014</td>\n",
       "</tr>\n",
       "<tr>\n",
       "  <th>region_4</th>           <td>    0.0161</td> <td>    0.005</td> <td>    3.012</td> <td> 0.003</td> <td>    0.006</td> <td>    0.027</td>\n",
       "</tr>\n",
       "<tr>\n",
       "  <th>region_5</th>           <td>   -0.0250</td> <td>    0.007</td> <td>   -3.601</td> <td> 0.000</td> <td>   -0.039</td> <td>   -0.011</td>\n",
       "</tr>\n",
       "<tr>\n",
       "  <th>region_6</th>           <td>   -0.0206</td> <td>    0.007</td> <td>   -2.906</td> <td> 0.004</td> <td>   -0.034</td> <td>   -0.007</td>\n",
       "</tr>\n",
       "<tr>\n",
       "  <th>region_7</th>           <td>   -0.0366</td> <td>    0.007</td> <td>   -5.004</td> <td> 0.000</td> <td>   -0.051</td> <td>   -0.022</td>\n",
       "</tr>\n",
       "<tr>\n",
       "  <th>region_8</th>           <td>    0.0147</td> <td>    0.009</td> <td>    1.611</td> <td> 0.107</td> <td>   -0.003</td> <td>    0.033</td>\n",
       "</tr>\n",
       "<tr>\n",
       "  <th>region_9</th>           <td>    0.1287</td> <td>    0.020</td> <td>    6.332</td> <td> 0.000</td> <td>    0.089</td> <td>    0.169</td>\n",
       "</tr>\n",
       "<tr>\n",
       "  <th>region_10</th>          <td>    0.0266</td> <td>    0.008</td> <td>    3.168</td> <td> 0.002</td> <td>    0.010</td> <td>    0.043</td>\n",
       "</tr>\n",
       "<tr>\n",
       "  <th>stateNumberCode_1</th>  <td>    0.1812</td> <td>    0.010</td> <td>   17.313</td> <td> 0.000</td> <td>    0.161</td> <td>    0.202</td>\n",
       "</tr>\n",
       "<tr>\n",
       "  <th>stateNumberCode_2</th>  <td>   -0.0183</td> <td>    0.020</td> <td>   -0.898</td> <td> 0.369</td> <td>   -0.058</td> <td>    0.022</td>\n",
       "</tr>\n",
       "<tr>\n",
       "  <th>stateNumberCode_4</th>  <td>   -0.1380</td> <td>    0.035</td> <td>   -3.969</td> <td> 0.000</td> <td>   -0.206</td> <td>   -0.070</td>\n",
       "</tr>\n",
       "<tr>\n",
       "  <th>stateNumberCode_5</th>  <td>    0.0353</td> <td>    0.017</td> <td>    2.061</td> <td> 0.039</td> <td>    0.002</td> <td>    0.069</td>\n",
       "</tr>\n",
       "<tr>\n",
       "  <th>stateNumberCode_6</th>  <td>   -0.1314</td> <td>    0.025</td> <td>   -5.362</td> <td> 0.000</td> <td>   -0.179</td> <td>   -0.083</td>\n",
       "</tr>\n",
       "<tr>\n",
       "  <th>stateNumberCode_8</th>  <td>   -0.0781</td> <td>    0.023</td> <td>   -3.456</td> <td> 0.001</td> <td>   -0.122</td> <td>   -0.034</td>\n",
       "</tr>\n",
       "<tr>\n",
       "  <th>stateNumberCode_9</th>  <td>   -0.1121</td> <td>    0.022</td> <td>   -5.084</td> <td> 0.000</td> <td>   -0.155</td> <td>   -0.069</td>\n",
       "</tr>\n",
       "<tr>\n",
       "  <th>stateNumberCode_10</th> <td>    0.0378</td> <td>    0.030</td> <td>    1.270</td> <td> 0.204</td> <td>   -0.021</td> <td>    0.096</td>\n",
       "</tr>\n",
       "<tr>\n",
       "  <th>stateNumberCode_11</th> <td>   -0.0756</td> <td>    0.049</td> <td>   -1.545</td> <td> 0.122</td> <td>   -0.172</td> <td>    0.020</td>\n",
       "</tr>\n",
       "<tr>\n",
       "  <th>stateNumberCode_12</th> <td>    0.2585</td> <td>    0.010</td> <td>   27.179</td> <td> 0.000</td> <td>    0.240</td> <td>    0.277</td>\n",
       "</tr>\n",
       "<tr>\n",
       "  <th>stateNumberCode_13</th> <td>   -0.1737</td> <td>    0.012</td> <td>  -14.578</td> <td> 0.000</td> <td>   -0.197</td> <td>   -0.150</td>\n",
       "</tr>\n",
       "<tr>\n",
       "  <th>stateNumberCode_15</th> <td>   -0.1116</td> <td>    0.040</td> <td>   -2.762</td> <td> 0.006</td> <td>   -0.191</td> <td>   -0.032</td>\n",
       "</tr>\n",
       "<tr>\n",
       "  <th>stateNumberCode_16</th> <td>    0.0578</td> <td>    0.021</td> <td>    2.807</td> <td> 0.005</td> <td>    0.017</td> <td>    0.098</td>\n",
       "</tr>\n",
       "<tr>\n",
       "  <th>stateNumberCode_17</th> <td>   -0.0619</td> <td>    0.020</td> <td>   -3.129</td> <td> 0.002</td> <td>   -0.101</td> <td>   -0.023</td>\n",
       "</tr>\n",
       "<tr>\n",
       "  <th>stateNumberCode_18</th> <td>    0.0300</td> <td>    0.022</td> <td>    1.332</td> <td> 0.183</td> <td>   -0.014</td> <td>    0.074</td>\n",
       "</tr>\n",
       "<tr>\n",
       "  <th>stateNumberCode_19</th> <td>   -0.0247</td> <td>    0.012</td> <td>   -2.056</td> <td> 0.040</td> <td>   -0.048</td> <td>   -0.001</td>\n",
       "</tr>\n",
       "<tr>\n",
       "  <th>stateNumberCode_20</th> <td>   -0.0034</td> <td>    0.016</td> <td>   -0.207</td> <td> 0.836</td> <td>   -0.035</td> <td>    0.029</td>\n",
       "</tr>\n",
       "<tr>\n",
       "  <th>stateNumberCode_21</th> <td>   -0.0628</td> <td>    0.013</td> <td>   -4.658</td> <td> 0.000</td> <td>   -0.089</td> <td>   -0.036</td>\n",
       "</tr>\n",
       "<tr>\n",
       "  <th>stateNumberCode_22</th> <td>    0.1138</td> <td>    0.014</td> <td>    8.266</td> <td> 0.000</td> <td>    0.087</td> <td>    0.141</td>\n",
       "</tr>\n",
       "<tr>\n",
       "  <th>stateNumberCode_23</th> <td>    0.2079</td> <td>    0.019</td> <td>   11.172</td> <td> 0.000</td> <td>    0.171</td> <td>    0.244</td>\n",
       "</tr>\n",
       "<tr>\n",
       "  <th>stateNumberCode_24</th> <td>    0.0490</td> <td>    0.020</td> <td>    2.463</td> <td> 0.014</td> <td>    0.010</td> <td>    0.088</td>\n",
       "</tr>\n",
       "<tr>\n",
       "  <th>stateNumberCode_25</th> <td>   -0.0382</td> <td>    0.017</td> <td>   -2.275</td> <td> 0.023</td> <td>   -0.071</td> <td>   -0.005</td>\n",
       "</tr>\n",
       "<tr>\n",
       "  <th>stateNumberCode_26</th> <td>   -0.0007</td> <td>    0.017</td> <td>   -0.042</td> <td> 0.966</td> <td>   -0.035</td> <td>    0.033</td>\n",
       "</tr>\n",
       "<tr>\n",
       "  <th>stateNumberCode_27</th> <td>   -0.0104</td> <td>    0.016</td> <td>   -0.670</td> <td> 0.503</td> <td>   -0.041</td> <td>    0.020</td>\n",
       "</tr>\n",
       "<tr>\n",
       "  <th>stateNumberCode_28</th> <td>   -0.0945</td> <td>    0.013</td> <td>   -7.158</td> <td> 0.000</td> <td>   -0.120</td> <td>   -0.069</td>\n",
       "</tr>\n",
       "<tr>\n",
       "  <th>stateNumberCode_29</th> <td>    0.0462</td> <td>    0.017</td> <td>    2.642</td> <td> 0.008</td> <td>    0.012</td> <td>    0.080</td>\n",
       "</tr>\n",
       "<tr>\n",
       "  <th>stateNumberCode_30</th> <td>    0.0639</td> <td>    0.021</td> <td>    3.029</td> <td> 0.002</td> <td>    0.023</td> <td>    0.105</td>\n",
       "</tr>\n",
       "<tr>\n",
       "  <th>stateNumberCode_31</th> <td>   -0.0547</td> <td>    0.015</td> <td>   -3.543</td> <td> 0.000</td> <td>   -0.085</td> <td>   -0.024</td>\n",
       "</tr>\n",
       "<tr>\n",
       "  <th>stateNumberCode_32</th> <td>   -0.1267</td> <td>    0.041</td> <td>   -3.081</td> <td> 0.002</td> <td>   -0.207</td> <td>   -0.046</td>\n",
       "</tr>\n",
       "<tr>\n",
       "  <th>stateNumberCode_33</th> <td>    0.1240</td> <td>    0.018</td> <td>    6.755</td> <td> 0.000</td> <td>    0.088</td> <td>    0.160</td>\n",
       "</tr>\n",
       "<tr>\n",
       "  <th>stateNumberCode_34</th> <td>    0.1061</td> <td>    0.017</td> <td>    6.368</td> <td> 0.000</td> <td>    0.073</td> <td>    0.139</td>\n",
       "</tr>\n",
       "<tr>\n",
       "  <th>stateNumberCode_35</th> <td>   -0.0534</td> <td>    0.025</td> <td>   -2.133</td> <td> 0.033</td> <td>   -0.102</td> <td>   -0.004</td>\n",
       "</tr>\n",
       "<tr>\n",
       "  <th>stateNumberCode_36</th> <td>    0.0527</td> <td>    0.015</td> <td>    3.513</td> <td> 0.000</td> <td>    0.023</td> <td>    0.082</td>\n",
       "</tr>\n",
       "<tr>\n",
       "  <th>stateNumberCode_37</th> <td>   -0.0092</td> <td>    0.014</td> <td>   -0.668</td> <td> 0.504</td> <td>   -0.036</td> <td>    0.018</td>\n",
       "</tr>\n",
       "<tr>\n",
       "  <th>stateNumberCode_38</th> <td>    0.0154</td> <td>    0.017</td> <td>    0.900</td> <td> 0.368</td> <td>   -0.018</td> <td>    0.049</td>\n",
       "</tr>\n",
       "<tr>\n",
       "  <th>stateNumberCode_39</th> <td>    0.0261</td> <td>    0.015</td> <td>    1.707</td> <td> 0.088</td> <td>   -0.004</td> <td>    0.056</td>\n",
       "</tr>\n",
       "<tr>\n",
       "  <th>stateNumberCode_40</th> <td>   -0.1074</td> <td>    0.012</td> <td>   -9.049</td> <td> 0.000</td> <td>   -0.131</td> <td>   -0.084</td>\n",
       "</tr>\n",
       "<tr>\n",
       "  <th>stateNumberCode_41</th> <td>    0.0548</td> <td>    0.018</td> <td>    3.066</td> <td> 0.002</td> <td>    0.020</td> <td>    0.090</td>\n",
       "</tr>\n",
       "<tr>\n",
       "  <th>stateNumberCode_42</th> <td>   -0.0078</td> <td>    0.017</td> <td>   -0.459</td> <td> 0.646</td> <td>   -0.041</td> <td>    0.025</td>\n",
       "</tr>\n",
       "<tr>\n",
       "  <th>stateNumberCode_44</th> <td>   -0.1049</td> <td>    0.027</td> <td>   -3.833</td> <td> 0.000</td> <td>   -0.159</td> <td>   -0.051</td>\n",
       "</tr>\n",
       "<tr>\n",
       "  <th>stateNumberCode_45</th> <td>    0.0171</td> <td>    0.018</td> <td>    0.977</td> <td> 0.328</td> <td>   -0.017</td> <td>    0.051</td>\n",
       "</tr>\n",
       "<tr>\n",
       "  <th>stateNumberCode_46</th> <td>    0.1106</td> <td>    0.016</td> <td>    7.082</td> <td> 0.000</td> <td>    0.080</td> <td>    0.141</td>\n",
       "</tr>\n",
       "<tr>\n",
       "  <th>stateNumberCode_47</th> <td>   -0.1006</td> <td>    0.017</td> <td>   -5.807</td> <td> 0.000</td> <td>   -0.135</td> <td>   -0.067</td>\n",
       "</tr>\n",
       "<tr>\n",
       "  <th>stateNumberCode_48</th> <td>   -0.0088</td> <td>    0.012</td> <td>   -0.720</td> <td> 0.471</td> <td>   -0.033</td> <td>    0.015</td>\n",
       "</tr>\n",
       "<tr>\n",
       "  <th>stateNumberCode_49</th> <td>   -0.0277</td> <td>    0.030</td> <td>   -0.926</td> <td> 0.355</td> <td>   -0.086</td> <td>    0.031</td>\n",
       "</tr>\n",
       "<tr>\n",
       "  <th>stateNumberCode_50</th> <td>    0.0131</td> <td>    0.017</td> <td>    0.791</td> <td> 0.429</td> <td>   -0.019</td> <td>    0.046</td>\n",
       "</tr>\n",
       "<tr>\n",
       "  <th>stateNumberCode_51</th> <td>   -0.0473</td> <td>    0.018</td> <td>   -2.675</td> <td> 0.007</td> <td>   -0.082</td> <td>   -0.013</td>\n",
       "</tr>\n",
       "<tr>\n",
       "  <th>stateNumberCode_53</th> <td>   -0.0678</td> <td>    0.015</td> <td>   -4.383</td> <td> 0.000</td> <td>   -0.098</td> <td>   -0.037</td>\n",
       "</tr>\n",
       "<tr>\n",
       "  <th>stateNumberCode_54</th> <td>    0.0378</td> <td>    0.020</td> <td>    1.846</td> <td> 0.065</td> <td>   -0.002</td> <td>    0.078</td>\n",
       "</tr>\n",
       "<tr>\n",
       "  <th>stateNumberCode_55</th> <td>   -0.0081</td> <td>    0.015</td> <td>   -0.536</td> <td> 0.592</td> <td>   -0.038</td> <td>    0.021</td>\n",
       "</tr>\n",
       "<tr>\n",
       "  <th>stateNumberCode_56</th> <td>   -0.0695</td> <td>    0.035</td> <td>   -1.986</td> <td> 0.047</td> <td>   -0.138</td> <td>   -0.001</td>\n",
       "</tr>\n",
       "<tr>\n",
       "  <th>stateNumberCode_60</th> <td>   -0.1322</td> <td>    0.069</td> <td>   -1.914</td> <td> 0.056</td> <td>   -0.268</td> <td>    0.003</td>\n",
       "</tr>\n",
       "<tr>\n",
       "  <th>stateNumberCode_64</th> <td>    0.0978</td> <td>    0.061</td> <td>    1.612</td> <td> 0.107</td> <td>   -0.021</td> <td>    0.217</td>\n",
       "</tr>\n",
       "<tr>\n",
       "  <th>stateNumberCode_66</th> <td>    0.0622</td> <td>    0.060</td> <td>    1.031</td> <td> 0.303</td> <td>   -0.056</td> <td>    0.181</td>\n",
       "</tr>\n",
       "<tr>\n",
       "  <th>stateNumberCode_68</th> <td>    0.0020</td> <td>    0.139</td> <td>    0.014</td> <td> 0.989</td> <td>   -0.270</td> <td>    0.274</td>\n",
       "</tr>\n",
       "<tr>\n",
       "  <th>stateNumberCode_69</th> <td>    0.1009</td> <td>    0.048</td> <td>    2.081</td> <td> 0.037</td> <td>    0.006</td> <td>    0.196</td>\n",
       "</tr>\n",
       "<tr>\n",
       "  <th>stateNumberCode_70</th> <td>    0.5057</td> <td>    0.121</td> <td>    4.196</td> <td> 0.000</td> <td>    0.269</td> <td>    0.742</td>\n",
       "</tr>\n",
       "<tr>\n",
       "  <th>stateNumberCode_72</th> <td>   -0.0968</td> <td>    0.020</td> <td>   -4.840</td> <td> 0.000</td> <td>   -0.136</td> <td>   -0.058</td>\n",
       "</tr>\n",
       "<tr>\n",
       "  <th>stateNumberCode_78</th> <td>   -0.0530</td> <td>    0.036</td> <td>   -1.480</td> <td> 0.139</td> <td>   -0.123</td> <td>    0.017</td>\n",
       "</tr>\n",
       "<tr>\n",
       "  <th>programArea_FMA</th>    <td>    0.0387</td> <td>    0.011</td> <td>    3.623</td> <td> 0.000</td> <td>    0.018</td> <td>    0.060</td>\n",
       "</tr>\n",
       "<tr>\n",
       "  <th>programArea_HMGP</th>   <td>    0.0459</td> <td>    0.009</td> <td>    5.321</td> <td> 0.000</td> <td>    0.029</td> <td>    0.063</td>\n",
       "</tr>\n",
       "<tr>\n",
       "  <th>programArea_LPDM</th>   <td>    0.2091</td> <td>    0.022</td> <td>    9.317</td> <td> 0.000</td> <td>    0.165</td> <td>    0.253</td>\n",
       "</tr>\n",
       "<tr>\n",
       "  <th>programArea_PDM</th>    <td>   -0.1027</td> <td>    0.010</td> <td>  -10.226</td> <td> 0.000</td> <td>   -0.122</td> <td>   -0.083</td>\n",
       "</tr>\n",
       "<tr>\n",
       "  <th>programArea_RFC</th>    <td>   -0.0062</td> <td>    0.034</td> <td>   -0.181</td> <td> 0.856</td> <td>   -0.073</td> <td>    0.061</td>\n",
       "</tr>\n",
       "<tr>\n",
       "  <th>programArea_SRL</th>    <td>    0.0117</td> <td>    0.024</td> <td>    0.484</td> <td> 0.629</td> <td>   -0.036</td> <td>    0.059</td>\n",
       "</tr>\n",
       "<tr>\n",
       "  <th>programFy_1989</th>     <td>   -0.0064</td> <td>    0.034</td> <td>   -0.187</td> <td> 0.852</td> <td>   -0.074</td> <td>    0.061</td>\n",
       "</tr>\n",
       "<tr>\n",
       "  <th>programFy_1990</th>     <td>    0.1655</td> <td>    0.027</td> <td>    6.179</td> <td> 0.000</td> <td>    0.113</td> <td>    0.218</td>\n",
       "</tr>\n",
       "<tr>\n",
       "  <th>programFy_1991</th>     <td>    0.0034</td> <td>    0.029</td> <td>    0.118</td> <td> 0.906</td> <td>   -0.054</td> <td>    0.061</td>\n",
       "</tr>\n",
       "<tr>\n",
       "  <th>programFy_1992</th>     <td>    0.1529</td> <td>    0.024</td> <td>    6.474</td> <td> 0.000</td> <td>    0.107</td> <td>    0.199</td>\n",
       "</tr>\n",
       "<tr>\n",
       "  <th>programFy_1993</th>     <td>    0.1359</td> <td>    0.021</td> <td>    6.499</td> <td> 0.000</td> <td>    0.095</td> <td>    0.177</td>\n",
       "</tr>\n",
       "<tr>\n",
       "  <th>programFy_1994</th>     <td>    0.1614</td> <td>    0.015</td> <td>   10.705</td> <td> 0.000</td> <td>    0.132</td> <td>    0.191</td>\n",
       "</tr>\n",
       "<tr>\n",
       "  <th>programFy_1995</th>     <td>    0.0320</td> <td>    0.022</td> <td>    1.473</td> <td> 0.141</td> <td>   -0.011</td> <td>    0.075</td>\n",
       "</tr>\n",
       "<tr>\n",
       "  <th>programFy_1996</th>     <td>    0.1003</td> <td>    0.014</td> <td>    7.174</td> <td> 0.000</td> <td>    0.073</td> <td>    0.128</td>\n",
       "</tr>\n",
       "<tr>\n",
       "  <th>programFy_1997</th>     <td>    0.1210</td> <td>    0.013</td> <td>    9.034</td> <td> 0.000</td> <td>    0.095</td> <td>    0.147</td>\n",
       "</tr>\n",
       "<tr>\n",
       "  <th>programFy_1998</th>     <td>    0.0866</td> <td>    0.011</td> <td>    7.652</td> <td> 0.000</td> <td>    0.064</td> <td>    0.109</td>\n",
       "</tr>\n",
       "<tr>\n",
       "  <th>programFy_1999</th>     <td>    0.0561</td> <td>    0.016</td> <td>    3.569</td> <td> 0.000</td> <td>    0.025</td> <td>    0.087</td>\n",
       "</tr>\n",
       "<tr>\n",
       "  <th>programFy_2000</th>     <td>    0.0053</td> <td>    0.015</td> <td>    0.343</td> <td> 0.731</td> <td>   -0.025</td> <td>    0.036</td>\n",
       "</tr>\n",
       "<tr>\n",
       "  <th>programFy_2001</th>     <td>    0.0206</td> <td>    0.013</td> <td>    1.615</td> <td> 0.106</td> <td>   -0.004</td> <td>    0.046</td>\n",
       "</tr>\n",
       "<tr>\n",
       "  <th>programFy_2002</th>     <td>   -0.0356</td> <td>    0.014</td> <td>   -2.592</td> <td> 0.010</td> <td>   -0.063</td> <td>   -0.009</td>\n",
       "</tr>\n",
       "<tr>\n",
       "  <th>programFy_2003</th>     <td>   -0.0314</td> <td>    0.013</td> <td>   -2.431</td> <td> 0.015</td> <td>   -0.057</td> <td>   -0.006</td>\n",
       "</tr>\n",
       "<tr>\n",
       "  <th>programFy_2004</th>     <td>    0.0079</td> <td>    0.013</td> <td>    0.618</td> <td> 0.536</td> <td>   -0.017</td> <td>    0.033</td>\n",
       "</tr>\n",
       "<tr>\n",
       "  <th>programFy_2005</th>     <td>   -0.0660</td> <td>    0.011</td> <td>   -5.982</td> <td> 0.000</td> <td>   -0.088</td> <td>   -0.044</td>\n",
       "</tr>\n",
       "<tr>\n",
       "  <th>programFy_2006</th>     <td>   -0.0165</td> <td>    0.017</td> <td>   -0.969</td> <td> 0.332</td> <td>   -0.050</td> <td>    0.017</td>\n",
       "</tr>\n",
       "<tr>\n",
       "  <th>programFy_2007</th>     <td>   -0.0464</td> <td>    0.012</td> <td>   -3.962</td> <td> 0.000</td> <td>   -0.069</td> <td>   -0.023</td>\n",
       "</tr>\n",
       "<tr>\n",
       "  <th>programFy_2008</th>     <td>   -0.0476</td> <td>    0.011</td> <td>   -4.220</td> <td> 0.000</td> <td>   -0.070</td> <td>   -0.025</td>\n",
       "</tr>\n",
       "<tr>\n",
       "  <th>programFy_2009</th>     <td>   -0.0762</td> <td>    0.012</td> <td>   -6.361</td> <td> 0.000</td> <td>   -0.100</td> <td>   -0.053</td>\n",
       "</tr>\n",
       "<tr>\n",
       "  <th>programFy_2010</th>     <td>   -0.0524</td> <td>    0.012</td> <td>   -4.475</td> <td> 0.000</td> <td>   -0.075</td> <td>   -0.029</td>\n",
       "</tr>\n",
       "<tr>\n",
       "  <th>programFy_2011</th>     <td>    0.0304</td> <td>    0.010</td> <td>    3.134</td> <td> 0.002</td> <td>    0.011</td> <td>    0.049</td>\n",
       "</tr>\n",
       "<tr>\n",
       "  <th>programFy_2012</th>     <td>   -0.0057</td> <td>    0.016</td> <td>   -0.362</td> <td> 0.718</td> <td>   -0.037</td> <td>    0.025</td>\n",
       "</tr>\n",
       "<tr>\n",
       "  <th>programFy_2013</th>     <td>   -0.0138</td> <td>    0.013</td> <td>   -1.074</td> <td> 0.283</td> <td>   -0.039</td> <td>    0.011</td>\n",
       "</tr>\n",
       "<tr>\n",
       "  <th>programFy_2014</th>     <td>    0.0020</td> <td>    0.013</td> <td>    0.156</td> <td> 0.876</td> <td>   -0.023</td> <td>    0.027</td>\n",
       "</tr>\n",
       "<tr>\n",
       "  <th>programFy_2015</th>     <td>   -0.0662</td> <td>    0.013</td> <td>   -4.973</td> <td> 0.000</td> <td>   -0.092</td> <td>   -0.040</td>\n",
       "</tr>\n",
       "<tr>\n",
       "  <th>programFy_2016</th>     <td>    0.0068</td> <td>    0.013</td> <td>    0.535</td> <td> 0.593</td> <td>   -0.018</td> <td>    0.032</td>\n",
       "</tr>\n",
       "<tr>\n",
       "  <th>programFy_2017</th>     <td>   -0.0026</td> <td>    0.011</td> <td>   -0.249</td> <td> 0.804</td> <td>   -0.023</td> <td>    0.018</td>\n",
       "</tr>\n",
       "<tr>\n",
       "  <th>programFy_2018</th>     <td>   -0.0514</td> <td>    0.013</td> <td>   -3.855</td> <td> 0.000</td> <td>   -0.078</td> <td>   -0.025</td>\n",
       "</tr>\n",
       "<tr>\n",
       "  <th>programFy_2019</th>     <td>   -0.1438</td> <td>    0.015</td> <td>   -9.314</td> <td> 0.000</td> <td>   -0.174</td> <td>   -0.114</td>\n",
       "</tr>\n",
       "<tr>\n",
       "  <th>programFy_2020</th>     <td>   -0.2297</td> <td>    0.099</td> <td>   -2.317</td> <td> 0.021</td> <td>   -0.424</td> <td>   -0.035</td>\n",
       "</tr>\n",
       "</table>\n",
       "<table class=\"simpletable\">\n",
       "<tr>\n",
       "  <th>Omnibus:</th>       <td>1161.886</td> <th>  Durbin-Watson:     </th> <td>   1.824</td> \n",
       "</tr>\n",
       "<tr>\n",
       "  <th>Prob(Omnibus):</th>  <td> 0.000</td>  <th>  Jarque-Bera (JB):  </th> <td>1357.553</td> \n",
       "</tr>\n",
       "<tr>\n",
       "  <th>Skew:</th>           <td> 0.612</td>  <th>  Prob(JB):          </th> <td>1.63e-295</td>\n",
       "</tr>\n",
       "<tr>\n",
       "  <th>Kurtosis:</th>       <td> 2.917</td>  <th>  Cond. No.          </th> <td>4.73e+18</td> \n",
       "</tr>\n",
       "</table><br/><br/>Warnings:<br/>[1] Standard Errors assume that the covariance matrix of the errors is correctly specified.<br/>[2] The smallest eigenvalue is 1.41e-22. This might indicate that there are<br/>strong multicollinearity problems or that the design matrix is singular."
      ],
      "text/plain": [
       "<class 'statsmodels.iolib.summary.Summary'>\n",
       "\"\"\"\n",
       "                            OLS Regression Results                            \n",
       "==============================================================================\n",
       "Dep. Variable:           Positive_ROI   R-squared:                       0.499\n",
       "Model:                            OLS   Adj. R-squared:                  0.497\n",
       "Method:                 Least Squares   F-statistic:                     223.3\n",
       "Date:                Wed, 17 Feb 2021   Prob (F-statistic):               0.00\n",
       "Time:                        14:49:03   Log-Likelihood:                -7207.9\n",
       "No. Observations:               21625   AIC:                         1.461e+04\n",
       "Df Residuals:                   21528   BIC:                         1.538e+04\n",
       "Df Model:                          96                                         \n",
       "Covariance Type:            nonrobust                                         \n",
       "======================================================================================\n",
       "                         coef    std err          t      P>|t|      [0.025      0.975]\n",
       "--------------------------------------------------------------------------------------\n",
       "Intercept              0.1965      0.008     23.605      0.000       0.180       0.213\n",
       "projectAmount      -2.585e-07   1.45e-08    -17.876      0.000   -2.87e-07    -2.3e-07\n",
       "netValueBenefits    1.044e-06      1e-08    103.988      0.000    1.02e-06    1.06e-06\n",
       "region_1               0.0898      0.008     11.617      0.000       0.075       0.105\n",
       "region_2               0.0090      0.010      0.879      0.379      -0.011       0.029\n",
       "region_3              -0.0061      0.010     -0.600      0.549      -0.026       0.014\n",
       "region_4               0.0161      0.005      3.012      0.003       0.006       0.027\n",
       "region_5              -0.0250      0.007     -3.601      0.000      -0.039      -0.011\n",
       "region_6              -0.0206      0.007     -2.906      0.004      -0.034      -0.007\n",
       "region_7              -0.0366      0.007     -5.004      0.000      -0.051      -0.022\n",
       "region_8               0.0147      0.009      1.611      0.107      -0.003       0.033\n",
       "region_9               0.1287      0.020      6.332      0.000       0.089       0.169\n",
       "region_10              0.0266      0.008      3.168      0.002       0.010       0.043\n",
       "stateNumberCode_1      0.1812      0.010     17.313      0.000       0.161       0.202\n",
       "stateNumberCode_2     -0.0183      0.020     -0.898      0.369      -0.058       0.022\n",
       "stateNumberCode_4     -0.1380      0.035     -3.969      0.000      -0.206      -0.070\n",
       "stateNumberCode_5      0.0353      0.017      2.061      0.039       0.002       0.069\n",
       "stateNumberCode_6     -0.1314      0.025     -5.362      0.000      -0.179      -0.083\n",
       "stateNumberCode_8     -0.0781      0.023     -3.456      0.001      -0.122      -0.034\n",
       "stateNumberCode_9     -0.1121      0.022     -5.084      0.000      -0.155      -0.069\n",
       "stateNumberCode_10     0.0378      0.030      1.270      0.204      -0.021       0.096\n",
       "stateNumberCode_11    -0.0756      0.049     -1.545      0.122      -0.172       0.020\n",
       "stateNumberCode_12     0.2585      0.010     27.179      0.000       0.240       0.277\n",
       "stateNumberCode_13    -0.1737      0.012    -14.578      0.000      -0.197      -0.150\n",
       "stateNumberCode_15    -0.1116      0.040     -2.762      0.006      -0.191      -0.032\n",
       "stateNumberCode_16     0.0578      0.021      2.807      0.005       0.017       0.098\n",
       "stateNumberCode_17    -0.0619      0.020     -3.129      0.002      -0.101      -0.023\n",
       "stateNumberCode_18     0.0300      0.022      1.332      0.183      -0.014       0.074\n",
       "stateNumberCode_19    -0.0247      0.012     -2.056      0.040      -0.048      -0.001\n",
       "stateNumberCode_20    -0.0034      0.016     -0.207      0.836      -0.035       0.029\n",
       "stateNumberCode_21    -0.0628      0.013     -4.658      0.000      -0.089      -0.036\n",
       "stateNumberCode_22     0.1138      0.014      8.266      0.000       0.087       0.141\n",
       "stateNumberCode_23     0.2079      0.019     11.172      0.000       0.171       0.244\n",
       "stateNumberCode_24     0.0490      0.020      2.463      0.014       0.010       0.088\n",
       "stateNumberCode_25    -0.0382      0.017     -2.275      0.023      -0.071      -0.005\n",
       "stateNumberCode_26    -0.0007      0.017     -0.042      0.966      -0.035       0.033\n",
       "stateNumberCode_27    -0.0104      0.016     -0.670      0.503      -0.041       0.020\n",
       "stateNumberCode_28    -0.0945      0.013     -7.158      0.000      -0.120      -0.069\n",
       "stateNumberCode_29     0.0462      0.017      2.642      0.008       0.012       0.080\n",
       "stateNumberCode_30     0.0639      0.021      3.029      0.002       0.023       0.105\n",
       "stateNumberCode_31    -0.0547      0.015     -3.543      0.000      -0.085      -0.024\n",
       "stateNumberCode_32    -0.1267      0.041     -3.081      0.002      -0.207      -0.046\n",
       "stateNumberCode_33     0.1240      0.018      6.755      0.000       0.088       0.160\n",
       "stateNumberCode_34     0.1061      0.017      6.368      0.000       0.073       0.139\n",
       "stateNumberCode_35    -0.0534      0.025     -2.133      0.033      -0.102      -0.004\n",
       "stateNumberCode_36     0.0527      0.015      3.513      0.000       0.023       0.082\n",
       "stateNumberCode_37    -0.0092      0.014     -0.668      0.504      -0.036       0.018\n",
       "stateNumberCode_38     0.0154      0.017      0.900      0.368      -0.018       0.049\n",
       "stateNumberCode_39     0.0261      0.015      1.707      0.088      -0.004       0.056\n",
       "stateNumberCode_40    -0.1074      0.012     -9.049      0.000      -0.131      -0.084\n",
       "stateNumberCode_41     0.0548      0.018      3.066      0.002       0.020       0.090\n",
       "stateNumberCode_42    -0.0078      0.017     -0.459      0.646      -0.041       0.025\n",
       "stateNumberCode_44    -0.1049      0.027     -3.833      0.000      -0.159      -0.051\n",
       "stateNumberCode_45     0.0171      0.018      0.977      0.328      -0.017       0.051\n",
       "stateNumberCode_46     0.1106      0.016      7.082      0.000       0.080       0.141\n",
       "stateNumberCode_47    -0.1006      0.017     -5.807      0.000      -0.135      -0.067\n",
       "stateNumberCode_48    -0.0088      0.012     -0.720      0.471      -0.033       0.015\n",
       "stateNumberCode_49    -0.0277      0.030     -0.926      0.355      -0.086       0.031\n",
       "stateNumberCode_50     0.0131      0.017      0.791      0.429      -0.019       0.046\n",
       "stateNumberCode_51    -0.0473      0.018     -2.675      0.007      -0.082      -0.013\n",
       "stateNumberCode_53    -0.0678      0.015     -4.383      0.000      -0.098      -0.037\n",
       "stateNumberCode_54     0.0378      0.020      1.846      0.065      -0.002       0.078\n",
       "stateNumberCode_55    -0.0081      0.015     -0.536      0.592      -0.038       0.021\n",
       "stateNumberCode_56    -0.0695      0.035     -1.986      0.047      -0.138      -0.001\n",
       "stateNumberCode_60    -0.1322      0.069     -1.914      0.056      -0.268       0.003\n",
       "stateNumberCode_64     0.0978      0.061      1.612      0.107      -0.021       0.217\n",
       "stateNumberCode_66     0.0622      0.060      1.031      0.303      -0.056       0.181\n",
       "stateNumberCode_68     0.0020      0.139      0.014      0.989      -0.270       0.274\n",
       "stateNumberCode_69     0.1009      0.048      2.081      0.037       0.006       0.196\n",
       "stateNumberCode_70     0.5057      0.121      4.196      0.000       0.269       0.742\n",
       "stateNumberCode_72    -0.0968      0.020     -4.840      0.000      -0.136      -0.058\n",
       "stateNumberCode_78    -0.0530      0.036     -1.480      0.139      -0.123       0.017\n",
       "programArea_FMA        0.0387      0.011      3.623      0.000       0.018       0.060\n",
       "programArea_HMGP       0.0459      0.009      5.321      0.000       0.029       0.063\n",
       "programArea_LPDM       0.2091      0.022      9.317      0.000       0.165       0.253\n",
       "programArea_PDM       -0.1027      0.010    -10.226      0.000      -0.122      -0.083\n",
       "programArea_RFC       -0.0062      0.034     -0.181      0.856      -0.073       0.061\n",
       "programArea_SRL        0.0117      0.024      0.484      0.629      -0.036       0.059\n",
       "programFy_1989        -0.0064      0.034     -0.187      0.852      -0.074       0.061\n",
       "programFy_1990         0.1655      0.027      6.179      0.000       0.113       0.218\n",
       "programFy_1991         0.0034      0.029      0.118      0.906      -0.054       0.061\n",
       "programFy_1992         0.1529      0.024      6.474      0.000       0.107       0.199\n",
       "programFy_1993         0.1359      0.021      6.499      0.000       0.095       0.177\n",
       "programFy_1994         0.1614      0.015     10.705      0.000       0.132       0.191\n",
       "programFy_1995         0.0320      0.022      1.473      0.141      -0.011       0.075\n",
       "programFy_1996         0.1003      0.014      7.174      0.000       0.073       0.128\n",
       "programFy_1997         0.1210      0.013      9.034      0.000       0.095       0.147\n",
       "programFy_1998         0.0866      0.011      7.652      0.000       0.064       0.109\n",
       "programFy_1999         0.0561      0.016      3.569      0.000       0.025       0.087\n",
       "programFy_2000         0.0053      0.015      0.343      0.731      -0.025       0.036\n",
       "programFy_2001         0.0206      0.013      1.615      0.106      -0.004       0.046\n",
       "programFy_2002        -0.0356      0.014     -2.592      0.010      -0.063      -0.009\n",
       "programFy_2003        -0.0314      0.013     -2.431      0.015      -0.057      -0.006\n",
       "programFy_2004         0.0079      0.013      0.618      0.536      -0.017       0.033\n",
       "programFy_2005        -0.0660      0.011     -5.982      0.000      -0.088      -0.044\n",
       "programFy_2006        -0.0165      0.017     -0.969      0.332      -0.050       0.017\n",
       "programFy_2007        -0.0464      0.012     -3.962      0.000      -0.069      -0.023\n",
       "programFy_2008        -0.0476      0.011     -4.220      0.000      -0.070      -0.025\n",
       "programFy_2009        -0.0762      0.012     -6.361      0.000      -0.100      -0.053\n",
       "programFy_2010        -0.0524      0.012     -4.475      0.000      -0.075      -0.029\n",
       "programFy_2011         0.0304      0.010      3.134      0.002       0.011       0.049\n",
       "programFy_2012        -0.0057      0.016     -0.362      0.718      -0.037       0.025\n",
       "programFy_2013        -0.0138      0.013     -1.074      0.283      -0.039       0.011\n",
       "programFy_2014         0.0020      0.013      0.156      0.876      -0.023       0.027\n",
       "programFy_2015        -0.0662      0.013     -4.973      0.000      -0.092      -0.040\n",
       "programFy_2016         0.0068      0.013      0.535      0.593      -0.018       0.032\n",
       "programFy_2017        -0.0026      0.011     -0.249      0.804      -0.023       0.018\n",
       "programFy_2018        -0.0514      0.013     -3.855      0.000      -0.078      -0.025\n",
       "programFy_2019        -0.1438      0.015     -9.314      0.000      -0.174      -0.114\n",
       "programFy_2020        -0.2297      0.099     -2.317      0.021      -0.424      -0.035\n",
       "==============================================================================\n",
       "Omnibus:                     1161.886   Durbin-Watson:                   1.824\n",
       "Prob(Omnibus):                  0.000   Jarque-Bera (JB):             1357.553\n",
       "Skew:                           0.612   Prob(JB):                    1.63e-295\n",
       "Kurtosis:                       2.917   Cond. No.                     4.73e+18\n",
       "==============================================================================\n",
       "\n",
       "Warnings:\n",
       "[1] Standard Errors assume that the covariance matrix of the errors is correctly specified.\n",
       "[2] The smallest eigenvalue is 1.41e-22. This might indicate that there are\n",
       "strong multicollinearity problems or that the design matrix is singular.\n",
       "\"\"\""
      ]
     },
     "execution_count": 74,
     "metadata": {},
     "output_type": "execute_result"
    }
   ],
   "source": [
    "features = '+'.join(df.drop('Positive_ROI', axis = 1).columns)\n",
    "formula = 'Positive_ROI ~' + features\n",
    "model1 = smf.ols(formula, df).fit()\n",
    "model1.summary()"
   ]
  },
  {
   "cell_type": "code",
   "execution_count": 75,
   "metadata": {
    "scrolled": false
   },
   "outputs": [
    {
     "data": {
      "text/plain": [
       "Intercept           0.197\n",
       "projectAmount      -0.000\n",
       "netValueBenefits    0.000\n",
       "region_1            0.090\n",
       "region_2            0.009\n",
       "                    ...  \n",
       "programFy_2016      0.007\n",
       "programFy_2017     -0.003\n",
       "programFy_2018     -0.051\n",
       "programFy_2019     -0.144\n",
       "programFy_2020     -0.230\n",
       "Length: 110, dtype: float64"
      ]
     },
     "execution_count": 75,
     "metadata": {},
     "output_type": "execute_result"
    }
   ],
   "source": [
    "model1.params"
   ]
  },
  {
   "cell_type": "markdown",
   "metadata": {},
   "source": [
    "### We can see that we have some columns/features that are highly correlated including projectAmount, which is used to calculate the Positive ROI and netValueBenefits which has the same issue of correlation. Because of this we will delete these two columns"
   ]
  },
  {
   "cell_type": "code",
   "execution_count": 76,
   "metadata": {},
   "outputs": [],
   "source": [
    "df.drop(columns=['projectAmount', 'netValueBenefits'], inplace=True)"
   ]
  },
  {
   "cell_type": "code",
   "execution_count": 77,
   "metadata": {
    "scrolled": false
   },
   "outputs": [
    {
     "data": {
      "text/plain": [
       "<Figure size 864x432 with 0 Axes>"
      ]
     },
     "metadata": {},
     "output_type": "display_data"
    },
    {
     "data": {
      "image/png": "[encoded data removed]",
      "text/plain": [
       "<Figure size 432x288 with 1 Axes>"
      ]
     },
     "metadata": {
      "needs_background": "light"
     },
     "output_type": "display_data"
    }
   ],
   "source": [
    "# QQ plot to see if our data is linear\n",
    "fig1 = plt.figure(figsize = (12,6))\n",
    "fig1 = sm.graphics.qqplot(model1.resid,fit=True, line='45');"
   ]
  },
  {
   "cell_type": "code",
   "execution_count": 78,
   "metadata": {},
   "outputs": [],
   "source": [
    "# Coment on qq plot\n",
    "# R-squared .4"
   ]
  },
  {
   "cell_type": "code",
   "execution_count": 79,
   "metadata": {},
   "outputs": [
    {
     "name": "stdout",
     "output_type": "stream",
     "text": [
      "Train Classification Report\n",
      "               precision    recall  f1-score   support\n",
      "\n",
      "           0       0.94      0.98      0.96     11302\n",
      "           1       0.96      0.88      0.92      5998\n",
      "\n",
      "    accuracy                           0.95     17300\n",
      "   macro avg       0.95      0.93      0.94     17300\n",
      "weighted avg       0.95      0.95      0.95     17300\n",
      "\n",
      "Test Classification Report\n",
      "               precision    recall  f1-score   support\n",
      "\n",
      "           0       0.94      0.98      0.96      2747\n",
      "           1       0.96      0.88      0.92      1578\n",
      "\n",
      "    accuracy                           0.94      4325\n",
      "   macro avg       0.95      0.93      0.94      4325\n",
      "weighted avg       0.94      0.94      0.94      4325\n",
      "\n",
      "Train Accuracy: 0.946\n",
      "Test Accuracy: 0.944\n"
     ]
    },
    {
     "data": {
      "text/plain": [
       "LogisticRegression()"
      ]
     },
     "execution_count": 79,
     "metadata": {},
     "output_type": "execute_result"
    },
    {
     "data": {
      "image/png": "[encoded data removed]",
      "text/plain": [
       "<Figure size 1008x576 with 4 Axes>"
      ]
     },
     "metadata": {
      "needs_background": "light"
     },
     "output_type": "display_data"
    }
   ],
   "source": [
    "log_reg_2 = LogisticRegression()\n",
    "build_model(log_reg, X_train, X_test, y_train,  y_test)"
   ]
  },
  {
   "cell_type": "code",
   "execution_count": 80,
   "metadata": {},
   "outputs": [
    {
     "data": {
      "text/html": [
       "<table class=\"simpletable\">\n",
       "<caption>OLS Regression Results</caption>\n",
       "<tr>\n",
       "  <th>Dep. Variable:</th>      <td>Positive_ROI</td>   <th>  R-squared:         </th> <td>   0.188</td> \n",
       "</tr>\n",
       "<tr>\n",
       "  <th>Model:</th>                   <td>OLS</td>       <th>  Adj. R-squared:    </th> <td>   0.185</td> \n",
       "</tr>\n",
       "<tr>\n",
       "  <th>Method:</th>             <td>Least Squares</td>  <th>  F-statistic:       </th> <td>   53.16</td> \n",
       "</tr>\n",
       "<tr>\n",
       "  <th>Date:</th>             <td>Wed, 17 Feb 2021</td> <th>  Prob (F-statistic):</th>  <td>  0.00</td>  \n",
       "</tr>\n",
       "<tr>\n",
       "  <th>Time:</th>                 <td>14:49:06</td>     <th>  Log-Likelihood:    </th> <td> -12423.</td> \n",
       "</tr>\n",
       "<tr>\n",
       "  <th>No. Observations:</th>      <td> 21625</td>      <th>  AIC:               </th> <td>2.504e+04</td>\n",
       "</tr>\n",
       "<tr>\n",
       "  <th>Df Residuals:</th>          <td> 21530</td>      <th>  BIC:               </th> <td>2.580e+04</td>\n",
       "</tr>\n",
       "<tr>\n",
       "  <th>Df Model:</th>              <td>    94</td>      <th>                     </th>     <td> </td>    \n",
       "</tr>\n",
       "<tr>\n",
       "  <th>Covariance Type:</th>      <td>nonrobust</td>    <th>                     </th>     <td> </td>    \n",
       "</tr>\n",
       "</table>\n",
       "<table class=\"simpletable\">\n",
       "<tr>\n",
       "           <td></td>             <th>coef</th>     <th>std err</th>      <th>t</th>      <th>P>|t|</th>  <th>[0.025</th>    <th>0.975]</th>  \n",
       "</tr>\n",
       "<tr>\n",
       "  <th>Intercept</th>          <td> 8.154e+11</td> <td> 5.14e+11</td> <td>    1.585</td> <td> 0.113</td> <td>-1.93e+11</td> <td> 1.82e+12</td>\n",
       "</tr>\n",
       "<tr>\n",
       "  <th>region_1</th>           <td> 3.355e+11</td> <td> 4.95e+11</td> <td>    0.678</td> <td> 0.498</td> <td>-6.35e+11</td> <td> 1.31e+12</td>\n",
       "</tr>\n",
       "<tr>\n",
       "  <th>region_2</th>           <td> 2.364e+11</td> <td> 9.63e+11</td> <td>    0.246</td> <td> 0.806</td> <td>-1.65e+12</td> <td> 2.12e+12</td>\n",
       "</tr>\n",
       "<tr>\n",
       "  <th>region_3</th>           <td> 2.156e+11</td> <td> 2.11e+11</td> <td>    1.020</td> <td> 0.308</td> <td>-1.99e+11</td> <td>  6.3e+11</td>\n",
       "</tr>\n",
       "<tr>\n",
       "  <th>region_4</th>           <td> 1.002e+11</td> <td> 1.02e+11</td> <td>    0.979</td> <td> 0.327</td> <td>   -1e+11</td> <td> 3.01e+11</td>\n",
       "</tr>\n",
       "<tr>\n",
       "  <th>region_5</th>           <td> 4.954e+10</td> <td> 1.54e+11</td> <td>    0.322</td> <td> 0.747</td> <td>-2.52e+11</td> <td> 3.51e+11</td>\n",
       "</tr>\n",
       "<tr>\n",
       "  <th>region_6</th>           <td>-4.116e+11</td> <td> 3.37e+11</td> <td>   -1.221</td> <td> 0.222</td> <td>-1.07e+12</td> <td> 2.49e+11</td>\n",
       "</tr>\n",
       "<tr>\n",
       "  <th>region_7</th>           <td> 3.946e+11</td> <td> 9.24e+11</td> <td>    0.427</td> <td> 0.669</td> <td>-1.42e+12</td> <td>  2.2e+12</td>\n",
       "</tr>\n",
       "<tr>\n",
       "  <th>region_8</th>           <td> 1.867e+11</td> <td> 4.57e+11</td> <td>    0.409</td> <td> 0.683</td> <td>-7.09e+11</td> <td> 1.08e+12</td>\n",
       "</tr>\n",
       "<tr>\n",
       "  <th>region_9</th>           <td> 6.194e+10</td> <td> 1.71e+11</td> <td>    0.362</td> <td> 0.717</td> <td>-2.73e+11</td> <td> 3.97e+11</td>\n",
       "</tr>\n",
       "<tr>\n",
       "  <th>region_10</th>          <td> 5.493e+10</td> <td> 1.43e+11</td> <td>    0.383</td> <td> 0.702</td> <td>-2.26e+11</td> <td> 3.36e+11</td>\n",
       "</tr>\n",
       "<tr>\n",
       "  <th>stateNumberCode_1</th>  <td>-3.295e+10</td> <td> 1.89e+11</td> <td>   -0.174</td> <td> 0.862</td> <td>-4.04e+11</td> <td> 3.38e+11</td>\n",
       "</tr>\n",
       "<tr>\n",
       "  <th>stateNumberCode_2</th>  <td> 1.229e+10</td> <td>  3.8e+10</td> <td>    0.323</td> <td> 0.747</td> <td>-6.23e+10</td> <td> 8.69e+10</td>\n",
       "</tr>\n",
       "<tr>\n",
       "  <th>stateNumberCode_4</th>  <td> 5.284e+09</td> <td> 4.77e+10</td> <td>    0.111</td> <td> 0.912</td> <td>-8.83e+10</td> <td> 9.89e+10</td>\n",
       "</tr>\n",
       "<tr>\n",
       "  <th>stateNumberCode_5</th>  <td> 4.788e+11</td> <td> 3.15e+11</td> <td>    1.521</td> <td> 0.128</td> <td>-1.38e+11</td> <td>  1.1e+12</td>\n",
       "</tr>\n",
       "<tr>\n",
       "  <th>stateNumberCode_6</th>  <td> 5.284e+09</td> <td> 4.77e+10</td> <td>    0.111</td> <td> 0.912</td> <td>-8.83e+10</td> <td> 9.89e+10</td>\n",
       "</tr>\n",
       "<tr>\n",
       "  <th>stateNumberCode_8</th>  <td>-1.195e+11</td> <td>    4e+11</td> <td>   -0.299</td> <td> 0.765</td> <td>-9.04e+11</td> <td> 6.65e+11</td>\n",
       "</tr>\n",
       "<tr>\n",
       "  <th>stateNumberCode_9</th>  <td>-2.683e+11</td> <td> 4.42e+11</td> <td>   -0.607</td> <td> 0.544</td> <td>-1.13e+12</td> <td> 5.98e+11</td>\n",
       "</tr>\n",
       "<tr>\n",
       "  <th>stateNumberCode_10</th> <td>-1.484e+11</td> <td>  2.6e+11</td> <td>   -0.572</td> <td> 0.567</td> <td>-6.57e+11</td> <td>  3.6e+11</td>\n",
       "</tr>\n",
       "<tr>\n",
       "  <th>stateNumberCode_11</th> <td>-1.484e+11</td> <td>  2.6e+11</td> <td>   -0.572</td> <td> 0.567</td> <td>-6.57e+11</td> <td>  3.6e+11</td>\n",
       "</tr>\n",
       "<tr>\n",
       "  <th>stateNumberCode_12</th> <td>-3.295e+10</td> <td> 1.89e+11</td> <td>   -0.174</td> <td> 0.862</td> <td>-4.04e+11</td> <td> 3.38e+11</td>\n",
       "</tr>\n",
       "<tr>\n",
       "  <th>stateNumberCode_13</th> <td>-3.295e+10</td> <td> 1.89e+11</td> <td>   -0.174</td> <td> 0.862</td> <td>-4.04e+11</td> <td> 3.38e+11</td>\n",
       "</tr>\n",
       "<tr>\n",
       "  <th>stateNumberCode_15</th> <td> 5.284e+09</td> <td> 4.77e+10</td> <td>    0.111</td> <td> 0.912</td> <td>-8.83e+10</td> <td> 9.89e+10</td>\n",
       "</tr>\n",
       "<tr>\n",
       "  <th>stateNumberCode_16</th> <td> 1.229e+10</td> <td>  3.8e+10</td> <td>    0.323</td> <td> 0.747</td> <td>-6.23e+10</td> <td> 8.69e+10</td>\n",
       "</tr>\n",
       "<tr>\n",
       "  <th>stateNumberCode_17</th> <td> 1.769e+10</td> <td> 5.32e+10</td> <td>    0.332</td> <td> 0.740</td> <td>-8.67e+10</td> <td> 1.22e+11</td>\n",
       "</tr>\n",
       "<tr>\n",
       "  <th>stateNumberCode_18</th> <td> 1.769e+10</td> <td> 5.32e+10</td> <td>    0.332</td> <td> 0.740</td> <td>-8.67e+10</td> <td> 1.22e+11</td>\n",
       "</tr>\n",
       "<tr>\n",
       "  <th>stateNumberCode_19</th> <td>-3.274e+11</td> <td> 9.09e+11</td> <td>   -0.360</td> <td> 0.719</td> <td>-2.11e+12</td> <td> 1.45e+12</td>\n",
       "</tr>\n",
       "<tr>\n",
       "  <th>stateNumberCode_20</th> <td>-3.274e+11</td> <td> 9.09e+11</td> <td>   -0.360</td> <td> 0.719</td> <td>-2.11e+12</td> <td> 1.45e+12</td>\n",
       "</tr>\n",
       "<tr>\n",
       "  <th>stateNumberCode_21</th> <td>-3.295e+10</td> <td> 1.89e+11</td> <td>   -0.174</td> <td> 0.862</td> <td>-4.04e+11</td> <td> 3.38e+11</td>\n",
       "</tr>\n",
       "<tr>\n",
       "  <th>stateNumberCode_22</th> <td> 4.788e+11</td> <td> 3.15e+11</td> <td>    1.521</td> <td> 0.128</td> <td>-1.38e+11</td> <td>  1.1e+12</td>\n",
       "</tr>\n",
       "<tr>\n",
       "  <th>stateNumberCode_23</th> <td>-2.683e+11</td> <td> 4.42e+11</td> <td>   -0.607</td> <td> 0.544</td> <td>-1.13e+12</td> <td> 5.98e+11</td>\n",
       "</tr>\n",
       "<tr>\n",
       "  <th>stateNumberCode_24</th> <td>-1.484e+11</td> <td>  2.6e+11</td> <td>   -0.572</td> <td> 0.567</td> <td>-6.57e+11</td> <td>  3.6e+11</td>\n",
       "</tr>\n",
       "<tr>\n",
       "  <th>stateNumberCode_25</th> <td>-2.683e+11</td> <td> 4.42e+11</td> <td>   -0.607</td> <td> 0.544</td> <td>-1.13e+12</td> <td> 5.98e+11</td>\n",
       "</tr>\n",
       "<tr>\n",
       "  <th>stateNumberCode_26</th> <td> 1.769e+10</td> <td> 5.32e+10</td> <td>    0.332</td> <td> 0.740</td> <td>-8.67e+10</td> <td> 1.22e+11</td>\n",
       "</tr>\n",
       "<tr>\n",
       "  <th>stateNumberCode_27</th> <td> 1.769e+10</td> <td> 5.32e+10</td> <td>    0.332</td> <td> 0.740</td> <td>-8.67e+10</td> <td> 1.22e+11</td>\n",
       "</tr>\n",
       "<tr>\n",
       "  <th>stateNumberCode_28</th> <td>-3.295e+10</td> <td> 1.89e+11</td> <td>   -0.174</td> <td> 0.862</td> <td>-4.04e+11</td> <td> 3.38e+11</td>\n",
       "</tr>\n",
       "<tr>\n",
       "  <th>stateNumberCode_29</th> <td>-3.274e+11</td> <td> 9.09e+11</td> <td>   -0.360</td> <td> 0.719</td> <td>-2.11e+12</td> <td> 1.45e+12</td>\n",
       "</tr>\n",
       "<tr>\n",
       "  <th>stateNumberCode_30</th> <td>-1.195e+11</td> <td>    4e+11</td> <td>   -0.299</td> <td> 0.765</td> <td>-9.04e+11</td> <td> 6.65e+11</td>\n",
       "</tr>\n",
       "<tr>\n",
       "  <th>stateNumberCode_31</th> <td>-3.274e+11</td> <td> 9.09e+11</td> <td>   -0.360</td> <td> 0.719</td> <td>-2.11e+12</td> <td> 1.45e+12</td>\n",
       "</tr>\n",
       "<tr>\n",
       "  <th>stateNumberCode_32</th> <td> 5.284e+09</td> <td> 4.77e+10</td> <td>    0.111</td> <td> 0.912</td> <td>-8.83e+10</td> <td> 9.89e+10</td>\n",
       "</tr>\n",
       "<tr>\n",
       "  <th>stateNumberCode_33</th> <td>-2.683e+11</td> <td> 4.42e+11</td> <td>   -0.607</td> <td> 0.544</td> <td>-1.13e+12</td> <td> 5.98e+11</td>\n",
       "</tr>\n",
       "<tr>\n",
       "  <th>stateNumberCode_34</th> <td>-1.692e+11</td> <td> 9.22e+11</td> <td>   -0.184</td> <td> 0.854</td> <td>-1.98e+12</td> <td> 1.64e+12</td>\n",
       "</tr>\n",
       "<tr>\n",
       "  <th>stateNumberCode_35</th> <td> 4.788e+11</td> <td> 3.15e+11</td> <td>    1.521</td> <td> 0.128</td> <td>-1.38e+11</td> <td>  1.1e+12</td>\n",
       "</tr>\n",
       "<tr>\n",
       "  <th>stateNumberCode_36</th> <td>-1.692e+11</td> <td> 9.22e+11</td> <td>   -0.184</td> <td> 0.854</td> <td>-1.98e+12</td> <td> 1.64e+12</td>\n",
       "</tr>\n",
       "<tr>\n",
       "  <th>stateNumberCode_37</th> <td>-3.295e+10</td> <td> 1.89e+11</td> <td>   -0.174</td> <td> 0.862</td> <td>-4.04e+11</td> <td> 3.38e+11</td>\n",
       "</tr>\n",
       "<tr>\n",
       "  <th>stateNumberCode_38</th> <td>-1.195e+11</td> <td>    4e+11</td> <td>   -0.299</td> <td> 0.765</td> <td>-9.04e+11</td> <td> 6.65e+11</td>\n",
       "</tr>\n",
       "<tr>\n",
       "  <th>stateNumberCode_39</th> <td> 1.769e+10</td> <td> 5.32e+10</td> <td>    0.332</td> <td> 0.740</td> <td>-8.67e+10</td> <td> 1.22e+11</td>\n",
       "</tr>\n",
       "<tr>\n",
       "  <th>stateNumberCode_40</th> <td> 4.788e+11</td> <td> 3.15e+11</td> <td>    1.521</td> <td> 0.128</td> <td>-1.38e+11</td> <td>  1.1e+12</td>\n",
       "</tr>\n",
       "<tr>\n",
       "  <th>stateNumberCode_41</th> <td> 1.229e+10</td> <td>  3.8e+10</td> <td>    0.323</td> <td> 0.747</td> <td>-6.23e+10</td> <td> 8.69e+10</td>\n",
       "</tr>\n",
       "<tr>\n",
       "  <th>stateNumberCode_42</th> <td>-1.484e+11</td> <td>  2.6e+11</td> <td>   -0.572</td> <td> 0.567</td> <td>-6.57e+11</td> <td>  3.6e+11</td>\n",
       "</tr>\n",
       "<tr>\n",
       "  <th>stateNumberCode_44</th> <td>-2.683e+11</td> <td> 4.42e+11</td> <td>   -0.607</td> <td> 0.544</td> <td>-1.13e+12</td> <td> 5.98e+11</td>\n",
       "</tr>\n",
       "<tr>\n",
       "  <th>stateNumberCode_45</th> <td>-3.295e+10</td> <td> 1.89e+11</td> <td>   -0.174</td> <td> 0.862</td> <td>-4.04e+11</td> <td> 3.38e+11</td>\n",
       "</tr>\n",
       "<tr>\n",
       "  <th>stateNumberCode_46</th> <td>-1.195e+11</td> <td>    4e+11</td> <td>   -0.299</td> <td> 0.765</td> <td>-9.04e+11</td> <td> 6.65e+11</td>\n",
       "</tr>\n",
       "<tr>\n",
       "  <th>stateNumberCode_47</th> <td>-3.295e+10</td> <td> 1.89e+11</td> <td>   -0.174</td> <td> 0.862</td> <td>-4.04e+11</td> <td> 3.38e+11</td>\n",
       "</tr>\n",
       "<tr>\n",
       "  <th>stateNumberCode_48</th> <td> 4.788e+11</td> <td> 3.15e+11</td> <td>    1.521</td> <td> 0.128</td> <td>-1.38e+11</td> <td>  1.1e+12</td>\n",
       "</tr>\n",
       "<tr>\n",
       "  <th>stateNumberCode_49</th> <td>-1.195e+11</td> <td>    4e+11</td> <td>   -0.299</td> <td> 0.765</td> <td>-9.04e+11</td> <td> 6.65e+11</td>\n",
       "</tr>\n",
       "<tr>\n",
       "  <th>stateNumberCode_50</th> <td>-2.683e+11</td> <td> 4.42e+11</td> <td>   -0.607</td> <td> 0.544</td> <td>-1.13e+12</td> <td> 5.98e+11</td>\n",
       "</tr>\n",
       "<tr>\n",
       "  <th>stateNumberCode_51</th> <td>-1.484e+11</td> <td>  2.6e+11</td> <td>   -0.572</td> <td> 0.567</td> <td>-6.57e+11</td> <td>  3.6e+11</td>\n",
       "</tr>\n",
       "<tr>\n",
       "  <th>stateNumberCode_53</th> <td> 1.229e+10</td> <td>  3.8e+10</td> <td>    0.323</td> <td> 0.747</td> <td>-6.23e+10</td> <td> 8.69e+10</td>\n",
       "</tr>\n",
       "<tr>\n",
       "  <th>stateNumberCode_54</th> <td>-1.484e+11</td> <td>  2.6e+11</td> <td>   -0.572</td> <td> 0.567</td> <td>-6.57e+11</td> <td>  3.6e+11</td>\n",
       "</tr>\n",
       "<tr>\n",
       "  <th>stateNumberCode_55</th> <td> 1.769e+10</td> <td> 5.32e+10</td> <td>    0.332</td> <td> 0.740</td> <td>-8.67e+10</td> <td> 1.22e+11</td>\n",
       "</tr>\n",
       "<tr>\n",
       "  <th>stateNumberCode_56</th> <td>-1.195e+11</td> <td>    4e+11</td> <td>   -0.299</td> <td> 0.765</td> <td>-9.04e+11</td> <td> 6.65e+11</td>\n",
       "</tr>\n",
       "<tr>\n",
       "  <th>stateNumberCode_60</th> <td> 5.284e+09</td> <td> 4.77e+10</td> <td>    0.111</td> <td> 0.912</td> <td>-8.83e+10</td> <td> 9.89e+10</td>\n",
       "</tr>\n",
       "<tr>\n",
       "  <th>stateNumberCode_64</th> <td> 5.284e+09</td> <td> 4.77e+10</td> <td>    0.111</td> <td> 0.912</td> <td>-8.83e+10</td> <td> 9.89e+10</td>\n",
       "</tr>\n",
       "<tr>\n",
       "  <th>stateNumberCode_66</th> <td> 5.284e+09</td> <td> 4.77e+10</td> <td>    0.111</td> <td> 0.912</td> <td>-8.83e+10</td> <td> 9.89e+10</td>\n",
       "</tr>\n",
       "<tr>\n",
       "  <th>stateNumberCode_68</th> <td> 5.284e+09</td> <td> 4.77e+10</td> <td>    0.111</td> <td> 0.912</td> <td>-8.83e+10</td> <td> 9.89e+10</td>\n",
       "</tr>\n",
       "<tr>\n",
       "  <th>stateNumberCode_69</th> <td> 5.284e+09</td> <td> 4.77e+10</td> <td>    0.111</td> <td> 0.912</td> <td>-8.83e+10</td> <td> 9.89e+10</td>\n",
       "</tr>\n",
       "<tr>\n",
       "  <th>stateNumberCode_70</th> <td> 5.284e+09</td> <td> 4.77e+10</td> <td>    0.111</td> <td> 0.912</td> <td>-8.83e+10</td> <td> 9.89e+10</td>\n",
       "</tr>\n",
       "<tr>\n",
       "  <th>stateNumberCode_72</th> <td>-1.692e+11</td> <td> 9.22e+11</td> <td>   -0.184</td> <td> 0.854</td> <td>-1.98e+12</td> <td> 1.64e+12</td>\n",
       "</tr>\n",
       "<tr>\n",
       "  <th>stateNumberCode_78</th> <td>-1.692e+11</td> <td> 9.22e+11</td> <td>   -0.184</td> <td> 0.854</td> <td>-1.98e+12</td> <td> 1.64e+12</td>\n",
       "</tr>\n",
       "<tr>\n",
       "  <th>programArea_FMA</th>    <td>-8.814e+11</td> <td> 4.09e+11</td> <td>   -2.157</td> <td> 0.031</td> <td>-1.68e+12</td> <td>-8.06e+10</td>\n",
       "</tr>\n",
       "<tr>\n",
       "  <th>programArea_HMGP</th>   <td>-8.814e+11</td> <td> 4.09e+11</td> <td>   -2.157</td> <td> 0.031</td> <td>-1.68e+12</td> <td>-8.06e+10</td>\n",
       "</tr>\n",
       "<tr>\n",
       "  <th>programArea_LPDM</th>   <td>-8.814e+11</td> <td> 4.09e+11</td> <td>   -2.157</td> <td> 0.031</td> <td>-1.68e+12</td> <td>-8.06e+10</td>\n",
       "</tr>\n",
       "<tr>\n",
       "  <th>programArea_PDM</th>    <td>-8.814e+11</td> <td> 4.09e+11</td> <td>   -2.157</td> <td> 0.031</td> <td>-1.68e+12</td> <td>-8.06e+10</td>\n",
       "</tr>\n",
       "<tr>\n",
       "  <th>programArea_RFC</th>    <td>-8.814e+11</td> <td> 4.09e+11</td> <td>   -2.157</td> <td> 0.031</td> <td>-1.68e+12</td> <td>-8.06e+10</td>\n",
       "</tr>\n",
       "<tr>\n",
       "  <th>programArea_SRL</th>    <td>-8.814e+11</td> <td> 4.09e+11</td> <td>   -2.157</td> <td> 0.031</td> <td>-1.68e+12</td> <td>-8.06e+10</td>\n",
       "</tr>\n",
       "<tr>\n",
       "  <th>programFy_1989</th>     <td>-1.177e+09</td> <td>  1.2e+11</td> <td>   -0.010</td> <td> 0.992</td> <td>-2.37e+11</td> <td> 2.35e+11</td>\n",
       "</tr>\n",
       "<tr>\n",
       "  <th>programFy_1990</th>     <td>-1.177e+09</td> <td>  1.2e+11</td> <td>   -0.010</td> <td> 0.992</td> <td>-2.37e+11</td> <td> 2.35e+11</td>\n",
       "</tr>\n",
       "<tr>\n",
       "  <th>programFy_1991</th>     <td>-1.177e+09</td> <td>  1.2e+11</td> <td>   -0.010</td> <td> 0.992</td> <td>-2.37e+11</td> <td> 2.35e+11</td>\n",
       "</tr>\n",
       "<tr>\n",
       "  <th>programFy_1992</th>     <td>-1.177e+09</td> <td>  1.2e+11</td> <td>   -0.010</td> <td> 0.992</td> <td>-2.37e+11</td> <td> 2.35e+11</td>\n",
       "</tr>\n",
       "<tr>\n",
       "  <th>programFy_1993</th>     <td>-1.177e+09</td> <td>  1.2e+11</td> <td>   -0.010</td> <td> 0.992</td> <td>-2.37e+11</td> <td> 2.35e+11</td>\n",
       "</tr>\n",
       "<tr>\n",
       "  <th>programFy_1994</th>     <td>-1.177e+09</td> <td>  1.2e+11</td> <td>   -0.010</td> <td> 0.992</td> <td>-2.37e+11</td> <td> 2.35e+11</td>\n",
       "</tr>\n",
       "<tr>\n",
       "  <th>programFy_1995</th>     <td>-1.177e+09</td> <td>  1.2e+11</td> <td>   -0.010</td> <td> 0.992</td> <td>-2.37e+11</td> <td> 2.35e+11</td>\n",
       "</tr>\n",
       "<tr>\n",
       "  <th>programFy_1996</th>     <td>-1.177e+09</td> <td>  1.2e+11</td> <td>   -0.010</td> <td> 0.992</td> <td>-2.37e+11</td> <td> 2.35e+11</td>\n",
       "</tr>\n",
       "<tr>\n",
       "  <th>programFy_1997</th>     <td>-1.177e+09</td> <td>  1.2e+11</td> <td>   -0.010</td> <td> 0.992</td> <td>-2.37e+11</td> <td> 2.35e+11</td>\n",
       "</tr>\n",
       "<tr>\n",
       "  <th>programFy_1998</th>     <td>-1.177e+09</td> <td>  1.2e+11</td> <td>   -0.010</td> <td> 0.992</td> <td>-2.37e+11</td> <td> 2.35e+11</td>\n",
       "</tr>\n",
       "<tr>\n",
       "  <th>programFy_1999</th>     <td>-1.177e+09</td> <td>  1.2e+11</td> <td>   -0.010</td> <td> 0.992</td> <td>-2.37e+11</td> <td> 2.35e+11</td>\n",
       "</tr>\n",
       "<tr>\n",
       "  <th>programFy_2000</th>     <td>-1.177e+09</td> <td>  1.2e+11</td> <td>   -0.010</td> <td> 0.992</td> <td>-2.37e+11</td> <td> 2.35e+11</td>\n",
       "</tr>\n",
       "<tr>\n",
       "  <th>programFy_2001</th>     <td>-1.177e+09</td> <td>  1.2e+11</td> <td>   -0.010</td> <td> 0.992</td> <td>-2.37e+11</td> <td> 2.35e+11</td>\n",
       "</tr>\n",
       "<tr>\n",
       "  <th>programFy_2002</th>     <td>-1.177e+09</td> <td>  1.2e+11</td> <td>   -0.010</td> <td> 0.992</td> <td>-2.37e+11</td> <td> 2.35e+11</td>\n",
       "</tr>\n",
       "<tr>\n",
       "  <th>programFy_2003</th>     <td>-1.177e+09</td> <td>  1.2e+11</td> <td>   -0.010</td> <td> 0.992</td> <td>-2.37e+11</td> <td> 2.35e+11</td>\n",
       "</tr>\n",
       "<tr>\n",
       "  <th>programFy_2004</th>     <td>-1.177e+09</td> <td>  1.2e+11</td> <td>   -0.010</td> <td> 0.992</td> <td>-2.37e+11</td> <td> 2.35e+11</td>\n",
       "</tr>\n",
       "<tr>\n",
       "  <th>programFy_2005</th>     <td>-1.177e+09</td> <td>  1.2e+11</td> <td>   -0.010</td> <td> 0.992</td> <td>-2.37e+11</td> <td> 2.35e+11</td>\n",
       "</tr>\n",
       "<tr>\n",
       "  <th>programFy_2006</th>     <td>-1.177e+09</td> <td>  1.2e+11</td> <td>   -0.010</td> <td> 0.992</td> <td>-2.37e+11</td> <td> 2.35e+11</td>\n",
       "</tr>\n",
       "<tr>\n",
       "  <th>programFy_2007</th>     <td>-1.177e+09</td> <td>  1.2e+11</td> <td>   -0.010</td> <td> 0.992</td> <td>-2.37e+11</td> <td> 2.35e+11</td>\n",
       "</tr>\n",
       "<tr>\n",
       "  <th>programFy_2008</th>     <td>-1.177e+09</td> <td>  1.2e+11</td> <td>   -0.010</td> <td> 0.992</td> <td>-2.37e+11</td> <td> 2.35e+11</td>\n",
       "</tr>\n",
       "<tr>\n",
       "  <th>programFy_2009</th>     <td>-1.177e+09</td> <td>  1.2e+11</td> <td>   -0.010</td> <td> 0.992</td> <td>-2.37e+11</td> <td> 2.35e+11</td>\n",
       "</tr>\n",
       "<tr>\n",
       "  <th>programFy_2010</th>     <td>-1.177e+09</td> <td>  1.2e+11</td> <td>   -0.010</td> <td> 0.992</td> <td>-2.37e+11</td> <td> 2.35e+11</td>\n",
       "</tr>\n",
       "<tr>\n",
       "  <th>programFy_2011</th>     <td>-1.177e+09</td> <td>  1.2e+11</td> <td>   -0.010</td> <td> 0.992</td> <td>-2.37e+11</td> <td> 2.35e+11</td>\n",
       "</tr>\n",
       "<tr>\n",
       "  <th>programFy_2012</th>     <td>-1.177e+09</td> <td>  1.2e+11</td> <td>   -0.010</td> <td> 0.992</td> <td>-2.37e+11</td> <td> 2.35e+11</td>\n",
       "</tr>\n",
       "<tr>\n",
       "  <th>programFy_2013</th>     <td>-1.177e+09</td> <td>  1.2e+11</td> <td>   -0.010</td> <td> 0.992</td> <td>-2.37e+11</td> <td> 2.35e+11</td>\n",
       "</tr>\n",
       "<tr>\n",
       "  <th>programFy_2014</th>     <td>-1.177e+09</td> <td>  1.2e+11</td> <td>   -0.010</td> <td> 0.992</td> <td>-2.37e+11</td> <td> 2.35e+11</td>\n",
       "</tr>\n",
       "<tr>\n",
       "  <th>programFy_2015</th>     <td>-1.177e+09</td> <td>  1.2e+11</td> <td>   -0.010</td> <td> 0.992</td> <td>-2.37e+11</td> <td> 2.35e+11</td>\n",
       "</tr>\n",
       "<tr>\n",
       "  <th>programFy_2016</th>     <td>-1.177e+09</td> <td>  1.2e+11</td> <td>   -0.010</td> <td> 0.992</td> <td>-2.37e+11</td> <td> 2.35e+11</td>\n",
       "</tr>\n",
       "<tr>\n",
       "  <th>programFy_2017</th>     <td>-1.177e+09</td> <td>  1.2e+11</td> <td>   -0.010</td> <td> 0.992</td> <td>-2.37e+11</td> <td> 2.35e+11</td>\n",
       "</tr>\n",
       "<tr>\n",
       "  <th>programFy_2018</th>     <td>-1.177e+09</td> <td>  1.2e+11</td> <td>   -0.010</td> <td> 0.992</td> <td>-2.37e+11</td> <td> 2.35e+11</td>\n",
       "</tr>\n",
       "<tr>\n",
       "  <th>programFy_2019</th>     <td>-1.177e+09</td> <td>  1.2e+11</td> <td>   -0.010</td> <td> 0.992</td> <td>-2.37e+11</td> <td> 2.35e+11</td>\n",
       "</tr>\n",
       "<tr>\n",
       "  <th>programFy_2020</th>     <td>-1.177e+09</td> <td>  1.2e+11</td> <td>   -0.010</td> <td> 0.992</td> <td>-2.37e+11</td> <td> 2.35e+11</td>\n",
       "</tr>\n",
       "</table>\n",
       "<table class=\"simpletable\">\n",
       "<tr>\n",
       "  <th>Omnibus:</th>       <td>5606.954</td> <th>  Durbin-Watson:     </th> <td>   1.829</td>\n",
       "</tr>\n",
       "<tr>\n",
       "  <th>Prob(Omnibus):</th>  <td> 0.000</td>  <th>  Jarque-Bera (JB):  </th> <td>1671.829</td>\n",
       "</tr>\n",
       "<tr>\n",
       "  <th>Skew:</th>           <td> 0.464</td>  <th>  Prob(JB):          </th> <td>    0.00</td>\n",
       "</tr>\n",
       "<tr>\n",
       "  <th>Kurtosis:</th>       <td> 2.002</td>  <th>  Cond. No.          </th> <td>9.87e+15</td>\n",
       "</tr>\n",
       "</table><br/><br/>Warnings:<br/>[1] Standard Errors assume that the covariance matrix of the errors is correctly specified.<br/>[2] The smallest eigenvalue is 4.07e-28. This might indicate that there are<br/>strong multicollinearity problems or that the design matrix is singular."
      ],
      "text/plain": [
       "<class 'statsmodels.iolib.summary.Summary'>\n",
       "\"\"\"\n",
       "                            OLS Regression Results                            \n",
       "==============================================================================\n",
       "Dep. Variable:           Positive_ROI   R-squared:                       0.188\n",
       "Model:                            OLS   Adj. R-squared:                  0.185\n",
       "Method:                 Least Squares   F-statistic:                     53.16\n",
       "Date:                Wed, 17 Feb 2021   Prob (F-statistic):               0.00\n",
       "Time:                        14:49:06   Log-Likelihood:                -12423.\n",
       "No. Observations:               21625   AIC:                         2.504e+04\n",
       "Df Residuals:                   21530   BIC:                         2.580e+04\n",
       "Df Model:                          94                                         \n",
       "Covariance Type:            nonrobust                                         \n",
       "======================================================================================\n",
       "                         coef    std err          t      P>|t|      [0.025      0.975]\n",
       "--------------------------------------------------------------------------------------\n",
       "Intercept           8.154e+11   5.14e+11      1.585      0.113   -1.93e+11    1.82e+12\n",
       "region_1            3.355e+11   4.95e+11      0.678      0.498   -6.35e+11    1.31e+12\n",
       "region_2            2.364e+11   9.63e+11      0.246      0.806   -1.65e+12    2.12e+12\n",
       "region_3            2.156e+11   2.11e+11      1.020      0.308   -1.99e+11     6.3e+11\n",
       "region_4            1.002e+11   1.02e+11      0.979      0.327      -1e+11    3.01e+11\n",
       "region_5            4.954e+10   1.54e+11      0.322      0.747   -2.52e+11    3.51e+11\n",
       "region_6           -4.116e+11   3.37e+11     -1.221      0.222   -1.07e+12    2.49e+11\n",
       "region_7            3.946e+11   9.24e+11      0.427      0.669   -1.42e+12     2.2e+12\n",
       "region_8            1.867e+11   4.57e+11      0.409      0.683   -7.09e+11    1.08e+12\n",
       "region_9            6.194e+10   1.71e+11      0.362      0.717   -2.73e+11    3.97e+11\n",
       "region_10           5.493e+10   1.43e+11      0.383      0.702   -2.26e+11    3.36e+11\n",
       "stateNumberCode_1  -3.295e+10   1.89e+11     -0.174      0.862   -4.04e+11    3.38e+11\n",
       "stateNumberCode_2   1.229e+10    3.8e+10      0.323      0.747   -6.23e+10    8.69e+10\n",
       "stateNumberCode_4   5.284e+09   4.77e+10      0.111      0.912   -8.83e+10    9.89e+10\n",
       "stateNumberCode_5   4.788e+11   3.15e+11      1.521      0.128   -1.38e+11     1.1e+12\n",
       "stateNumberCode_6   5.284e+09   4.77e+10      0.111      0.912   -8.83e+10    9.89e+10\n",
       "stateNumberCode_8  -1.195e+11      4e+11     -0.299      0.765   -9.04e+11    6.65e+11\n",
       "stateNumberCode_9  -2.683e+11   4.42e+11     -0.607      0.544   -1.13e+12    5.98e+11\n",
       "stateNumberCode_10 -1.484e+11    2.6e+11     -0.572      0.567   -6.57e+11     3.6e+11\n",
       "stateNumberCode_11 -1.484e+11    2.6e+11     -0.572      0.567   -6.57e+11     3.6e+11\n",
       "stateNumberCode_12 -3.295e+10   1.89e+11     -0.174      0.862   -4.04e+11    3.38e+11\n",
       "stateNumberCode_13 -3.295e+10   1.89e+11     -0.174      0.862   -4.04e+11    3.38e+11\n",
       "stateNumberCode_15  5.284e+09   4.77e+10      0.111      0.912   -8.83e+10    9.89e+10\n",
       "stateNumberCode_16  1.229e+10    3.8e+10      0.323      0.747   -6.23e+10    8.69e+10\n",
       "stateNumberCode_17  1.769e+10   5.32e+10      0.332      0.740   -8.67e+10    1.22e+11\n",
       "stateNumberCode_18  1.769e+10   5.32e+10      0.332      0.740   -8.67e+10    1.22e+11\n",
       "stateNumberCode_19 -3.274e+11   9.09e+11     -0.360      0.719   -2.11e+12    1.45e+12\n",
       "stateNumberCode_20 -3.274e+11   9.09e+11     -0.360      0.719   -2.11e+12    1.45e+12\n",
       "stateNumberCode_21 -3.295e+10   1.89e+11     -0.174      0.862   -4.04e+11    3.38e+11\n",
       "stateNumberCode_22  4.788e+11   3.15e+11      1.521      0.128   -1.38e+11     1.1e+12\n",
       "stateNumberCode_23 -2.683e+11   4.42e+11     -0.607      0.544   -1.13e+12    5.98e+11\n",
       "stateNumberCode_24 -1.484e+11    2.6e+11     -0.572      0.567   -6.57e+11     3.6e+11\n",
       "stateNumberCode_25 -2.683e+11   4.42e+11     -0.607      0.544   -1.13e+12    5.98e+11\n",
       "stateNumberCode_26  1.769e+10   5.32e+10      0.332      0.740   -8.67e+10    1.22e+11\n",
       "stateNumberCode_27  1.769e+10   5.32e+10      0.332      0.740   -8.67e+10    1.22e+11\n",
       "stateNumberCode_28 -3.295e+10   1.89e+11     -0.174      0.862   -4.04e+11    3.38e+11\n",
       "stateNumberCode_29 -3.274e+11   9.09e+11     -0.360      0.719   -2.11e+12    1.45e+12\n",
       "stateNumberCode_30 -1.195e+11      4e+11     -0.299      0.765   -9.04e+11    6.65e+11\n",
       "stateNumberCode_31 -3.274e+11   9.09e+11     -0.360      0.719   -2.11e+12    1.45e+12\n",
       "stateNumberCode_32  5.284e+09   4.77e+10      0.111      0.912   -8.83e+10    9.89e+10\n",
       "stateNumberCode_33 -2.683e+11   4.42e+11     -0.607      0.544   -1.13e+12    5.98e+11\n",
       "stateNumberCode_34 -1.692e+11   9.22e+11     -0.184      0.854   -1.98e+12    1.64e+12\n",
       "stateNumberCode_35  4.788e+11   3.15e+11      1.521      0.128   -1.38e+11     1.1e+12\n",
       "stateNumberCode_36 -1.692e+11   9.22e+11     -0.184      0.854   -1.98e+12    1.64e+12\n",
       "stateNumberCode_37 -3.295e+10   1.89e+11     -0.174      0.862   -4.04e+11    3.38e+11\n",
       "stateNumberCode_38 -1.195e+11      4e+11     -0.299      0.765   -9.04e+11    6.65e+11\n",
       "stateNumberCode_39  1.769e+10   5.32e+10      0.332      0.740   -8.67e+10    1.22e+11\n",
       "stateNumberCode_40  4.788e+11   3.15e+11      1.521      0.128   -1.38e+11     1.1e+12\n",
       "stateNumberCode_41  1.229e+10    3.8e+10      0.323      0.747   -6.23e+10    8.69e+10\n",
       "stateNumberCode_42 -1.484e+11    2.6e+11     -0.572      0.567   -6.57e+11     3.6e+11\n",
       "stateNumberCode_44 -2.683e+11   4.42e+11     -0.607      0.544   -1.13e+12    5.98e+11\n",
       "stateNumberCode_45 -3.295e+10   1.89e+11     -0.174      0.862   -4.04e+11    3.38e+11\n",
       "stateNumberCode_46 -1.195e+11      4e+11     -0.299      0.765   -9.04e+11    6.65e+11\n",
       "stateNumberCode_47 -3.295e+10   1.89e+11     -0.174      0.862   -4.04e+11    3.38e+11\n",
       "stateNumberCode_48  4.788e+11   3.15e+11      1.521      0.128   -1.38e+11     1.1e+12\n",
       "stateNumberCode_49 -1.195e+11      4e+11     -0.299      0.765   -9.04e+11    6.65e+11\n",
       "stateNumberCode_50 -2.683e+11   4.42e+11     -0.607      0.544   -1.13e+12    5.98e+11\n",
       "stateNumberCode_51 -1.484e+11    2.6e+11     -0.572      0.567   -6.57e+11     3.6e+11\n",
       "stateNumberCode_53  1.229e+10    3.8e+10      0.323      0.747   -6.23e+10    8.69e+10\n",
       "stateNumberCode_54 -1.484e+11    2.6e+11     -0.572      0.567   -6.57e+11     3.6e+11\n",
       "stateNumberCode_55  1.769e+10   5.32e+10      0.332      0.740   -8.67e+10    1.22e+11\n",
       "stateNumberCode_56 -1.195e+11      4e+11     -0.299      0.765   -9.04e+11    6.65e+11\n",
       "stateNumberCode_60  5.284e+09   4.77e+10      0.111      0.912   -8.83e+10    9.89e+10\n",
       "stateNumberCode_64  5.284e+09   4.77e+10      0.111      0.912   -8.83e+10    9.89e+10\n",
       "stateNumberCode_66  5.284e+09   4.77e+10      0.111      0.912   -8.83e+10    9.89e+10\n",
       "stateNumberCode_68  5.284e+09   4.77e+10      0.111      0.912   -8.83e+10    9.89e+10\n",
       "stateNumberCode_69  5.284e+09   4.77e+10      0.111      0.912   -8.83e+10    9.89e+10\n",
       "stateNumberCode_70  5.284e+09   4.77e+10      0.111      0.912   -8.83e+10    9.89e+10\n",
       "stateNumberCode_72 -1.692e+11   9.22e+11     -0.184      0.854   -1.98e+12    1.64e+12\n",
       "stateNumberCode_78 -1.692e+11   9.22e+11     -0.184      0.854   -1.98e+12    1.64e+12\n",
       "programArea_FMA    -8.814e+11   4.09e+11     -2.157      0.031   -1.68e+12   -8.06e+10\n",
       "programArea_HMGP   -8.814e+11   4.09e+11     -2.157      0.031   -1.68e+12   -8.06e+10\n",
       "programArea_LPDM   -8.814e+11   4.09e+11     -2.157      0.031   -1.68e+12   -8.06e+10\n",
       "programArea_PDM    -8.814e+11   4.09e+11     -2.157      0.031   -1.68e+12   -8.06e+10\n",
       "programArea_RFC    -8.814e+11   4.09e+11     -2.157      0.031   -1.68e+12   -8.06e+10\n",
       "programArea_SRL    -8.814e+11   4.09e+11     -2.157      0.031   -1.68e+12   -8.06e+10\n",
       "programFy_1989     -1.177e+09    1.2e+11     -0.010      0.992   -2.37e+11    2.35e+11\n",
       "programFy_1990     -1.177e+09    1.2e+11     -0.010      0.992   -2.37e+11    2.35e+11\n",
       "programFy_1991     -1.177e+09    1.2e+11     -0.010      0.992   -2.37e+11    2.35e+11\n",
       "programFy_1992     -1.177e+09    1.2e+11     -0.010      0.992   -2.37e+11    2.35e+11\n",
       "programFy_1993     -1.177e+09    1.2e+11     -0.010      0.992   -2.37e+11    2.35e+11\n",
       "programFy_1994     -1.177e+09    1.2e+11     -0.010      0.992   -2.37e+11    2.35e+11\n",
       "programFy_1995     -1.177e+09    1.2e+11     -0.010      0.992   -2.37e+11    2.35e+11\n",
       "programFy_1996     -1.177e+09    1.2e+11     -0.010      0.992   -2.37e+11    2.35e+11\n",
       "programFy_1997     -1.177e+09    1.2e+11     -0.010      0.992   -2.37e+11    2.35e+11\n",
       "programFy_1998     -1.177e+09    1.2e+11     -0.010      0.992   -2.37e+11    2.35e+11\n",
       "programFy_1999     -1.177e+09    1.2e+11     -0.010      0.992   -2.37e+11    2.35e+11\n",
       "programFy_2000     -1.177e+09    1.2e+11     -0.010      0.992   -2.37e+11    2.35e+11\n",
       "programFy_2001     -1.177e+09    1.2e+11     -0.010      0.992   -2.37e+11    2.35e+11\n",
       "programFy_2002     -1.177e+09    1.2e+11     -0.010      0.992   -2.37e+11    2.35e+11\n",
       "programFy_2003     -1.177e+09    1.2e+11     -0.010      0.992   -2.37e+11    2.35e+11\n",
       "programFy_2004     -1.177e+09    1.2e+11     -0.010      0.992   -2.37e+11    2.35e+11\n",
       "programFy_2005     -1.177e+09    1.2e+11     -0.010      0.992   -2.37e+11    2.35e+11\n",
       "programFy_2006     -1.177e+09    1.2e+11     -0.010      0.992   -2.37e+11    2.35e+11\n",
       "programFy_2007     -1.177e+09    1.2e+11     -0.010      0.992   -2.37e+11    2.35e+11\n",
       "programFy_2008     -1.177e+09    1.2e+11     -0.010      0.992   -2.37e+11    2.35e+11\n",
       "programFy_2009     -1.177e+09    1.2e+11     -0.010      0.992   -2.37e+11    2.35e+11\n",
       "programFy_2010     -1.177e+09    1.2e+11     -0.010      0.992   -2.37e+11    2.35e+11\n",
       "programFy_2011     -1.177e+09    1.2e+11     -0.010      0.992   -2.37e+11    2.35e+11\n",
       "programFy_2012     -1.177e+09    1.2e+11     -0.010      0.992   -2.37e+11    2.35e+11\n",
       "programFy_2013     -1.177e+09    1.2e+11     -0.010      0.992   -2.37e+11    2.35e+11\n",
       "programFy_2014     -1.177e+09    1.2e+11     -0.010      0.992   -2.37e+11    2.35e+11\n",
       "programFy_2015     -1.177e+09    1.2e+11     -0.010      0.992   -2.37e+11    2.35e+11\n",
       "programFy_2016     -1.177e+09    1.2e+11     -0.010      0.992   -2.37e+11    2.35e+11\n",
       "programFy_2017     -1.177e+09    1.2e+11     -0.010      0.992   -2.37e+11    2.35e+11\n",
       "programFy_2018     -1.177e+09    1.2e+11     -0.010      0.992   -2.37e+11    2.35e+11\n",
       "programFy_2019     -1.177e+09    1.2e+11     -0.010      0.992   -2.37e+11    2.35e+11\n",
       "programFy_2020     -1.177e+09    1.2e+11     -0.010      0.992   -2.37e+11    2.35e+11\n",
       "==============================================================================\n",
       "Omnibus:                     5606.954   Durbin-Watson:                   1.829\n",
       "Prob(Omnibus):                  0.000   Jarque-Bera (JB):             1671.829\n",
       "Skew:                           0.464   Prob(JB):                         0.00\n",
       "Kurtosis:                       2.002   Cond. No.                     9.87e+15\n",
       "==============================================================================\n",
       "\n",
       "Warnings:\n",
       "[1] Standard Errors assume that the covariance matrix of the errors is correctly specified.\n",
       "[2] The smallest eigenvalue is 4.07e-28. This might indicate that there are\n",
       "strong multicollinearity problems or that the design matrix is singular.\n",
       "\"\"\""
      ]
     },
     "execution_count": 80,
     "metadata": {},
     "output_type": "execute_result"
    }
   ],
   "source": [
    "features = '+'.join(df.drop('Positive_ROI', axis = 1).columns)\n",
    "formula = 'Positive_ROI ~' + features\n",
    "model1 = smf.ols(formula, df).fit()\n",
    "model1.summary()"
   ]
  },
  {
   "cell_type": "code",
   "execution_count": 81,
   "metadata": {},
   "outputs": [
    {
     "data": {
      "text/plain": [
       "Intercept        815365233934.503\n",
       "region_1         335517379774.905\n",
       "region_2         236448061399.623\n",
       "region_3         215620148309.314\n",
       "region_4         100170283643.978\n",
       "                       ...       \n",
       "programFy_2016    -1177066291.384\n",
       "programFy_2017    -1177066291.381\n",
       "programFy_2018    -1177066291.489\n",
       "programFy_2019    -1177066291.637\n",
       "programFy_2020    -1177066291.791\n",
       "Length: 108, dtype: float64"
      ]
     },
     "execution_count": 81,
     "metadata": {},
     "output_type": "execute_result"
    }
   ],
   "source": [
    "model1.params"
   ]
  },
  {
   "cell_type": "code",
   "execution_count": null,
   "metadata": {},
   "outputs": [],
   "source": []
  },
  {
   "cell_type": "code",
   "execution_count": null,
   "metadata": {},
   "outputs": [],
   "source": []
  },
  {
   "cell_type": "code",
   "execution_count": 82,
   "metadata": {
    "scrolled": true
   },
   "outputs": [
    {
     "ename": "KeyError",
     "evalue": "'benefitCostRatio'",
     "output_type": "error",
     "traceback": [
      "\u001b[1;31m---------------------------------------------------------------------------\u001b[0m",
      "\u001b[1;31mKeyError\u001b[0m                                  Traceback (most recent call last)",
      "\u001b[1;32m~\\Anaconda3\\envs\\learn-env\\lib\\site-packages\\pandas\\core\\indexes\\base.py\u001b[0m in \u001b[0;36mget_loc\u001b[1;34m(self, key, method, tolerance)\u001b[0m\n\u001b[0;32m   2896\u001b[0m             \u001b[1;32mtry\u001b[0m\u001b[1;33m:\u001b[0m\u001b[1;33m\u001b[0m\u001b[1;33m\u001b[0m\u001b[0m\n\u001b[1;32m-> 2897\u001b[1;33m                 \u001b[1;32mreturn\u001b[0m \u001b[0mself\u001b[0m\u001b[1;33m.\u001b[0m\u001b[0m_engine\u001b[0m\u001b[1;33m.\u001b[0m\u001b[0mget_loc\u001b[0m\u001b[1;33m(\u001b[0m\u001b[0mkey\u001b[0m\u001b[1;33m)\u001b[0m\u001b[1;33m\u001b[0m\u001b[1;33m\u001b[0m\u001b[0m\n\u001b[0m\u001b[0;32m   2898\u001b[0m             \u001b[1;32mexcept\u001b[0m \u001b[0mKeyError\u001b[0m\u001b[1;33m:\u001b[0m\u001b[1;33m\u001b[0m\u001b[1;33m\u001b[0m\u001b[0m\n",
      "\u001b[1;32mpandas\\_libs\\index.pyx\u001b[0m in \u001b[0;36mpandas._libs.index.IndexEngine.get_loc\u001b[1;34m()\u001b[0m\n",
      "\u001b[1;32mpandas\\_libs\\index.pyx\u001b[0m in \u001b[0;36mpandas._libs.index.IndexEngine.get_loc\u001b[1;34m()\u001b[0m\n",
      "\u001b[1;32mpandas\\_libs\\hashtable_class_helper.pxi\u001b[0m in \u001b[0;36mpandas._libs.hashtable.PyObjectHashTable.get_item\u001b[1;34m()\u001b[0m\n",
      "\u001b[1;32mpandas\\_libs\\hashtable_class_helper.pxi\u001b[0m in \u001b[0;36mpandas._libs.hashtable.PyObjectHashTable.get_item\u001b[1;34m()\u001b[0m\n",
      "\u001b[1;31mKeyError\u001b[0m: 'benefitCostRatio'",
      "\nDuring handling of the above exception, another exception occurred:\n",
      "\u001b[1;31mKeyError\u001b[0m                                  Traceback (most recent call last)",
      "\u001b[1;32m<ipython-input-82-6938e5b8d659>\u001b[0m in \u001b[0;36m<module>\u001b[1;34m\u001b[0m\n\u001b[0;32m      1\u001b[0m \u001b[0mfig\u001b[0m\u001b[1;33m,\u001b[0m \u001b[0max\u001b[0m \u001b[1;33m=\u001b[0m \u001b[0mplt\u001b[0m\u001b[1;33m.\u001b[0m\u001b[0msubplots\u001b[0m\u001b[1;33m(\u001b[0m\u001b[0mfigsize\u001b[0m\u001b[1;33m=\u001b[0m\u001b[1;33m(\u001b[0m\u001b[1;36m10\u001b[0m\u001b[1;33m,\u001b[0m\u001b[1;36m6\u001b[0m\u001b[1;33m)\u001b[0m\u001b[1;33m)\u001b[0m\u001b[1;33m\u001b[0m\u001b[1;33m\u001b[0m\u001b[0m\n\u001b[1;32m----> 2\u001b[1;33m \u001b[0msns\u001b[0m\u001b[1;33m.\u001b[0m\u001b[0mdistplot\u001b[0m\u001b[1;33m(\u001b[0m\u001b[0mdf\u001b[0m\u001b[1;33m[\u001b[0m\u001b[1;34m'benefitCostRatio'\u001b[0m\u001b[1;33m]\u001b[0m\u001b[1;33m,\u001b[0m \u001b[0mbins\u001b[0m\u001b[1;33m=\u001b[0m\u001b[1;34m'auto'\u001b[0m\u001b[1;33m)\u001b[0m\u001b[1;33m\u001b[0m\u001b[1;33m\u001b[0m\u001b[0m\n\u001b[0m",
      "\u001b[1;32m~\\Anaconda3\\envs\\learn-env\\lib\\site-packages\\pandas\\core\\frame.py\u001b[0m in \u001b[0;36m__getitem__\u001b[1;34m(self, key)\u001b[0m\n\u001b[0;32m   2978\u001b[0m             \u001b[1;32mif\u001b[0m \u001b[0mself\u001b[0m\u001b[1;33m.\u001b[0m\u001b[0mcolumns\u001b[0m\u001b[1;33m.\u001b[0m\u001b[0mnlevels\u001b[0m \u001b[1;33m>\u001b[0m \u001b[1;36m1\u001b[0m\u001b[1;33m:\u001b[0m\u001b[1;33m\u001b[0m\u001b[1;33m\u001b[0m\u001b[0m\n\u001b[0;32m   2979\u001b[0m                 \u001b[1;32mreturn\u001b[0m \u001b[0mself\u001b[0m\u001b[1;33m.\u001b[0m\u001b[0m_getitem_multilevel\u001b[0m\u001b[1;33m(\u001b[0m\u001b[0mkey\u001b[0m\u001b[1;33m)\u001b[0m\u001b[1;33m\u001b[0m\u001b[1;33m\u001b[0m\u001b[0m\n\u001b[1;32m-> 2980\u001b[1;33m             \u001b[0mindexer\u001b[0m \u001b[1;33m=\u001b[0m \u001b[0mself\u001b[0m\u001b[1;33m.\u001b[0m\u001b[0mcolumns\u001b[0m\u001b[1;33m.\u001b[0m\u001b[0mget_loc\u001b[0m\u001b[1;33m(\u001b[0m\u001b[0mkey\u001b[0m\u001b[1;33m)\u001b[0m\u001b[1;33m\u001b[0m\u001b[1;33m\u001b[0m\u001b[0m\n\u001b[0m\u001b[0;32m   2981\u001b[0m             \u001b[1;32mif\u001b[0m \u001b[0mis_integer\u001b[0m\u001b[1;33m(\u001b[0m\u001b[0mindexer\u001b[0m\u001b[1;33m)\u001b[0m\u001b[1;33m:\u001b[0m\u001b[1;33m\u001b[0m\u001b[1;33m\u001b[0m\u001b[0m\n\u001b[0;32m   2982\u001b[0m                 \u001b[0mindexer\u001b[0m \u001b[1;33m=\u001b[0m \u001b[1;33m[\u001b[0m\u001b[0mindexer\u001b[0m\u001b[1;33m]\u001b[0m\u001b[1;33m\u001b[0m\u001b[1;33m\u001b[0m\u001b[0m\n",
      "\u001b[1;32m~\\Anaconda3\\envs\\learn-env\\lib\\site-packages\\pandas\\core\\indexes\\base.py\u001b[0m in \u001b[0;36mget_loc\u001b[1;34m(self, key, method, tolerance)\u001b[0m\n\u001b[0;32m   2897\u001b[0m                 \u001b[1;32mreturn\u001b[0m \u001b[0mself\u001b[0m\u001b[1;33m.\u001b[0m\u001b[0m_engine\u001b[0m\u001b[1;33m.\u001b[0m\u001b[0mget_loc\u001b[0m\u001b[1;33m(\u001b[0m\u001b[0mkey\u001b[0m\u001b[1;33m)\u001b[0m\u001b[1;33m\u001b[0m\u001b[1;33m\u001b[0m\u001b[0m\n\u001b[0;32m   2898\u001b[0m             \u001b[1;32mexcept\u001b[0m \u001b[0mKeyError\u001b[0m\u001b[1;33m:\u001b[0m\u001b[1;33m\u001b[0m\u001b[1;33m\u001b[0m\u001b[0m\n\u001b[1;32m-> 2899\u001b[1;33m                 \u001b[1;32mreturn\u001b[0m \u001b[0mself\u001b[0m\u001b[1;33m.\u001b[0m\u001b[0m_engine\u001b[0m\u001b[1;33m.\u001b[0m\u001b[0mget_loc\u001b[0m\u001b[1;33m(\u001b[0m\u001b[0mself\u001b[0m\u001b[1;33m.\u001b[0m\u001b[0m_maybe_cast_indexer\u001b[0m\u001b[1;33m(\u001b[0m\u001b[0mkey\u001b[0m\u001b[1;33m)\u001b[0m\u001b[1;33m)\u001b[0m\u001b[1;33m\u001b[0m\u001b[1;33m\u001b[0m\u001b[0m\n\u001b[0m\u001b[0;32m   2900\u001b[0m         \u001b[0mindexer\u001b[0m \u001b[1;33m=\u001b[0m \u001b[0mself\u001b[0m\u001b[1;33m.\u001b[0m\u001b[0mget_indexer\u001b[0m\u001b[1;33m(\u001b[0m\u001b[1;33m[\u001b[0m\u001b[0mkey\u001b[0m\u001b[1;33m]\u001b[0m\u001b[1;33m,\u001b[0m \u001b[0mmethod\u001b[0m\u001b[1;33m=\u001b[0m\u001b[0mmethod\u001b[0m\u001b[1;33m,\u001b[0m \u001b[0mtolerance\u001b[0m\u001b[1;33m=\u001b[0m\u001b[0mtolerance\u001b[0m\u001b[1;33m)\u001b[0m\u001b[1;33m\u001b[0m\u001b[1;33m\u001b[0m\u001b[0m\n\u001b[0;32m   2901\u001b[0m         \u001b[1;32mif\u001b[0m \u001b[0mindexer\u001b[0m\u001b[1;33m.\u001b[0m\u001b[0mndim\u001b[0m \u001b[1;33m>\u001b[0m \u001b[1;36m1\u001b[0m \u001b[1;32mor\u001b[0m \u001b[0mindexer\u001b[0m\u001b[1;33m.\u001b[0m\u001b[0msize\u001b[0m \u001b[1;33m>\u001b[0m \u001b[1;36m1\u001b[0m\u001b[1;33m:\u001b[0m\u001b[1;33m\u001b[0m\u001b[1;33m\u001b[0m\u001b[0m\n",
      "\u001b[1;32mpandas\\_libs\\index.pyx\u001b[0m in \u001b[0;36mpandas._libs.index.IndexEngine.get_loc\u001b[1;34m()\u001b[0m\n",
      "\u001b[1;32mpandas\\_libs\\index.pyx\u001b[0m in \u001b[0;36mpandas._libs.index.IndexEngine.get_loc\u001b[1;34m()\u001b[0m\n",
      "\u001b[1;32mpandas\\_libs\\hashtable_class_helper.pxi\u001b[0m in \u001b[0;36mpandas._libs.hashtable.PyObjectHashTable.get_item\u001b[1;34m()\u001b[0m\n",
      "\u001b[1;32mpandas\\_libs\\hashtable_class_helper.pxi\u001b[0m in \u001b[0;36mpandas._libs.hashtable.PyObjectHashTable.get_item\u001b[1;34m()\u001b[0m\n",
      "\u001b[1;31mKeyError\u001b[0m: 'benefitCostRatio'"
     ]
    },
    {
     "data": {
      "image/png": "[encoded data removed]",
      "text/plain": [
       "<Figure size 720x432 with 1 Axes>"
      ]
     },
     "metadata": {
      "needs_background": "light"
     },
     "output_type": "display_data"
    }
   ],
   "source": [
    "fig, ax = plt.subplots(figsize=(10,6))\n",
    "sns.distplot(df['benefitCostRatio'], bins='auto')"
   ]
  },
  {
   "cell_type": "code",
   "execution_count": null,
   "metadata": {
    "scrolled": true
   },
   "outputs": [],
   "source": [
    "df.hist(figsize = (14,14));"
   ]
  },
  {
   "cell_type": "code",
   "execution_count": null,
   "metadata": {},
   "outputs": [],
   "source": [
    "# Creating a function that will create a joint plot to vizualize linearity against our target price\n",
    "def jointplot(df, col, target = 'benefitCostRatio'):\n",
    "    g = sns.jointplot(data = df, x = col, y = target, kind = 'reg')\n",
    "    plt.suptitle(f\"{col} vs. {target}\");\n",
    "    return g\n",
    "\n",
    "for col in df.columns:\n",
    "    try:\n",
    "        jointplot(df, col)\n",
    "    except: \n",
    "        print(col)"
   ]
  },
  {
   "cell_type": "code",
   "execution_count": null,
   "metadata": {
    "scrolled": false
   },
   "outputs": [],
   "source": [
    "# Function to make vizuals to show normality\n",
    "def normalityplots (df, column):\n",
    "    plt.figure(figsize = (12,4))\n",
    "    plt.subplot(1,2,1)\n",
    "    df[column].hist(bins = 30)\n",
    "    plt.subplot(1,2,2)\n",
    "    stats.probplot(df[column], dist = 'norm', plot = plt)\n",
    "    plt.title('{}'.format(column))\n",
    "    plt.show()\n",
    "\n",
    "# Now let's see the results of the outlier removal\n",
    "for column in df.columns:\n",
    "    try: \n",
    "        normalityplots(df, column)\n",
    "    except: \n",
    "        print(column)"
   ]
  },
  {
   "cell_type": "code",
   "execution_count": null,
   "metadata": {},
   "outputs": [],
   "source": [
    "def model_fun(df, target='benefitCostRatio', test_size=0.25):\n",
    "    X = df.drop([target], axis=1)\n",
    "    y = df[[target]]    \n",
    "# Defining training test data\n",
    "    X_train, X_test, y_train, y_test = train_test_split(X, y, \n",
    "                                                        test_size=test_size, \n",
    "                                                        random_state=123)\n",
    "# Defining df with the split data\n",
    "    df_train = pd.concat([y_train, X_train], axis=1)\n",
    "    df_test = pd.concat([y_test, X_test], axis=1) \n",
    "# Getting the categorical columns\n",
    "    cat_cols = df_train.select_dtypes('category').columns\n",
    "# Making the model summary\n",
    "    features = '+'.join(df_train.drop(columns=target).columns)\n",
    "# Looping through categoricals to make the formula\n",
    "    for col in cat_cols:\n",
    "        features = features.replace(col,f'C({col})')   \n",
    "    formula = target + '~' + features\n",
    "    model = smf.ols(formula, df_train).fit()\n",
    "# QQ plot of the residuals for normality\n",
    "    fig, axes = plt.subplots(ncols=2, figsize=(20, 5))\n",
    "    sm.graphics.qqplot(model.resid, fit=True, line='45', ax=axes[0])\n",
    "    axes[0].set_title('QQ Plot of Residuals', fontsize=20)\n",
    "# Homoscedasticity of Residuals\n",
    "    ax=axes[1]\n",
    "    ax.scatter(df_train['benefitCostRatio'], model.resid)\n",
    "    ax.axhline(0, color='red')\n",
    "    axes[1].set_title('Homoscedasticity of Residuals', fontsize=20)\n",
    "    plt.show();\n",
    "# Getting the predicted y values from the model\n",
    "    y_predicted = model.predict(X_test)\n",
    "    \n",
    "# Plotting a scatterplot of the training vs original test data prices e\n",
    "    plt.figure(figsize=(20,5))\n",
    "    g = sns.scatterplot(range(len(y_predicted[:200])), y_predicted[:200], \n",
    "                        label='Predicted Prices')\n",
    "    g = sns.scatterplot(range(len(y_test[:200])), y_test.benefitCostRatio[:200], \n",
    "                        label='Actual Prices')\n",
    "\n",
    "# Visual titles, labels, and legends of the plots\n",
    "    plt.title('Comparison of predicted vs actual price', \n",
    "              fontdict={'fontsize':20})\n",
    "    plt.xlabel('Values')\n",
    "    plt.ylabel('Amount')\n",
    "    plt.legend()\n",
    "    plt.show();\n",
    "# Generating the r2 for the test data to compare to the train data \n",
    "    r2_test = r2_score(y_test, y_predicted)\n",
    "    print('Model test data R2 score:', r2_test)\n",
    "# Displaying everything\n",
    "    display(model.summary())\n",
    "    return model"
   ]
  },
  {
   "cell_type": "code",
   "execution_count": null,
   "metadata": {},
   "outputs": [],
   "source": [
    "functionmodel1 = model_fun(df)"
   ]
  },
  {
   "cell_type": "markdown",
   "metadata": {},
   "source": [
    "# Hypertuning"
   ]
  },
  {
   "cell_type": "markdown",
   "metadata": {},
   "source": [
    "## Low p-value removal"
   ]
  },
  {
   "cell_type": "code",
   "execution_count": null,
   "metadata": {},
   "outputs": [],
   "source": [
    "# Function to identify the insignificant p-values\n",
    "def bad_pvalues(model, verbose=True):\n",
    "    \n",
    "#     Pulling out the p-values and identifying the ones above .05\n",
    "    pvalues = model.pvalues\n",
    "    bad_features = pvalues[pvalues > .05]\n",
    "    \n",
    "#     Excluding the intercept in case it has a high p-value\n",
    "    if 'Intercept' in bad_features:\n",
    "        bad_features.remove('Intercept')\n",
    "        \n",
    "#      Printing a statement of the bad p-values\n",
    "    if verbose:\n",
    "        print(f'{len(bad_features)} bad p-values to be reviewed:\\n' \n",
    "              + f'{bad_features}')\n",
    "    return bad_features"
   ]
  },
  {
   "cell_type": "code",
   "execution_count": null,
   "metadata": {
    "scrolled": true
   },
   "outputs": [],
   "source": [
    "model2_bad_pvals = bad_pvalues(model1)"
   ]
  },
  {
   "cell_type": "code",
   "execution_count": null,
   "metadata": {},
   "outputs": [],
   "source": [
    "# We can see from the low values that month has many low p-value features\n",
    "df3 = df2.copy()\n",
    "df3.drop(columns=(['programFy', 'stateNumberCode']), inplace=True)\n",
    "df3.shape"
   ]
  },
  {
   "cell_type": "code",
   "execution_count": null,
   "metadata": {},
   "outputs": [],
   "source": [
    "# Model summary to see the changes if significant\n",
    "functionmodel3 = model_fun(df3)"
   ]
  },
  {
   "cell_type": "markdown",
   "metadata": {},
   "source": [
    "# Model #2"
   ]
  },
  {
   "cell_type": "code",
   "execution_count": null,
   "metadata": {},
   "outputs": [],
   "source": [
    "# Model summary to see the changes if significant\n",
    "functionmodel2 = model_fun(df2)"
   ]
  },
  {
   "cell_type": "markdown",
   "metadata": {},
   "source": [
    "# Model #3"
   ]
  },
  {
   "cell_type": "markdown",
   "metadata": {},
   "source": [
    "## Multicolinearity Column/Feature Removal"
   ]
  },
  {
   "cell_type": "code",
   "execution_count": null,
   "metadata": {
    "scrolled": false
   },
   "outputs": [],
   "source": [
    "# Creating a heat map again to see our new data\n",
    "corr3 = df3.iloc[:,2:] \n",
    "corr3.corr().abs().style.background_gradient(cmap='Reds')"
   ]
  },
  {
   "cell_type": "markdown",
   "metadata": {},
   "source": [
    "### Limiting the project Amount to 400,000"
   ]
  },
  {
   "cell_type": "code",
   "execution_count": null,
   "metadata": {},
   "outputs": [],
   "source": [
    "df = df[(df['projectAmount']<400000)]"
   ]
  },
  {
   "cell_type": "code",
   "execution_count": null,
   "metadata": {},
   "outputs": [],
   "source": [
    "# Model summary to see the changes if significant\n",
    "functionmodel3 = model_fun(df3)"
   ]
  },
  {
   "cell_type": "markdown",
   "metadata": {},
   "source": [
    "# Model #4"
   ]
  },
  {
   "cell_type": "markdown",
   "metadata": {},
   "source": [
    "## Removing more extreme outliers"
   ]
  },
  {
   "cell_type": "code",
   "execution_count": null,
   "metadata": {},
   "outputs": [],
   "source": [
    "def outliersiqr(data):\n",
    "    q1 = np.percentile(data, 25)\n",
    "    q3 = np.percentile(data, 75)\n",
    "    iqr = q3 - q1\n",
    "    threshold = iqr * 1.5\n",
    "    outliers = (data < q1 - threshold) | (data > q3 + threshold)\n",
    "    outliers = pd.Series(outliers, index=data.index)\n",
    "    return outliers"
   ]
  },
  {
   "cell_type": "code",
   "execution_count": null,
   "metadata": {},
   "outputs": [],
   "source": [
    "# Feeding in the numerical columns for identifying outliers\n",
    "num_cols = list(df3.select_dtypes('number').columns)\n",
    "\n",
    "# Saving the new dataframe with outlier columns added\n",
    "df4 = outlierscolumn(df3, num_cols)"
   ]
  },
  {
   "cell_type": "code",
   "execution_count": null,
   "metadata": {},
   "outputs": [],
   "source": [
    "df4.head()"
   ]
  },
  {
   "cell_type": "code",
   "execution_count": null,
   "metadata": {
    "scrolled": true
   },
   "outputs": [],
   "source": [
    "# Creating a list of the outlier columns\n",
    "outliercols = []\n",
    "for col in df4.columns:\n",
    "    if 'outliers' in col:\n",
    "        outliercols.append(col)\n",
    "outliercols"
   ]
  },
  {
   "cell_type": "code",
   "execution_count": null,
   "metadata": {},
   "outputs": [],
   "source": [
    "# Creating a list of the outlier columns\n",
    "outliercols = []\n",
    "for col in df4.columns:\n",
    "    if 'outliers' in col:\n",
    "        outliercols.append(col)\n",
    "outliercols"
   ]
  },
  {
   "cell_type": "code",
   "execution_count": null,
   "metadata": {},
   "outputs": [],
   "source": [
    "# Filtering the outliers out of my dataframe and returning only the entries\n",
    "# that are not outliers for any of the features\n",
    "for col in outliercols:\n",
    "    df4 = df4[(df4[col]==False)]\n",
    "df4.shape"
   ]
  },
  {
   "cell_type": "code",
   "execution_count": null,
   "metadata": {},
   "outputs": [],
   "source": [
    "# Dropping the outlier columns that were added\n",
    "for col in outliercols:\n",
    "    df4.drop(columns=[col], axis=1, inplace=True)"
   ]
  },
  {
   "cell_type": "code",
   "execution_count": null,
   "metadata": {
    "scrolled": true
   },
   "outputs": [],
   "source": [
    "df4.info()"
   ]
  },
  {
   "cell_type": "code",
   "execution_count": null,
   "metadata": {
    "scrolled": false
   },
   "outputs": [],
   "source": [
    "# Model summary to see the changes if significant\n",
    "functionmodel4 = model_fun(df4)"
   ]
  },
  {
   "cell_type": "markdown",
   "metadata": {},
   "source": [
    "**Even though we have signifcantly reduced the size of our dataset we have created a better model to work off of**"
   ]
  },
  {
   "cell_type": "code",
   "execution_count": null,
   "metadata": {
    "scrolled": true
   },
   "outputs": [],
   "source": [
    "functionmodel4.params"
   ]
  },
  {
   "cell_type": "markdown",
   "metadata": {},
   "source": [
    "**Region is the largest determing factor in program cost while program areas are the least effective to the model**"
   ]
  },
  {
   "cell_type": "code",
   "execution_count": null,
   "metadata": {},
   "outputs": [],
   "source": [
    "# Convert the coefficient series to a sorted dataframe\n",
    "\n",
    "coeffs_df = functionmodel4.params.to_frame()\n",
    "coeffs_df.columns = ['coefficients']\n",
    "coeffs_df = coeffs_df.sort_values('coefficients', ascending = False)\n",
    "coeffs_df.style.background_gradient(cmap = 'Reds').set_caption('Coefficients')"
   ]
  },
  {
   "cell_type": "code",
   "execution_count": null,
   "metadata": {
    "scrolled": true
   },
   "outputs": [],
   "source": [
    "# Setting a figure size and plotting\n",
    "fig, ax = plt.subplots(figsize=(12,8))\n",
    "sns.barplot(x='region', y='projectAmount', data=df4, palette=\"colorblind\")\n",
    "\n",
    "# Formatting the y-axis ticks to show as money\n",
    "fmt_money = '${x:,.0f}'\n",
    "tick_money = mtick.StrMethodFormatter(fmt_money)\n",
    "ax.yaxis.set_major_formatter(tick_money)\n",
    "\n",
    "# Setting title and labels\n",
    "ax.set_xlabel('Region', fontsize=15)\n",
    "ax.set_ylabel('Project Amount', fontsize=15)\n",
    "ax.set_title('Project Amount by Region', fontsize=20);"
   ]
  },
  {
   "cell_type": "code",
   "execution_count": null,
   "metadata": {
    "scrolled": false
   },
   "outputs": [],
   "source": [
    "fig, ax = plt.subplots(figsize=(12,8))\n",
    "sns.lineplot(df4['region'], df4['projectAmount'])\n",
    "\n",
    "# Formatting the y-axis ticks to show as money\n",
    "fmt_money = '${x:,.0f}'\n",
    "tick_money = mtick.StrMethodFormatter(fmt_money)\n",
    "ax.yaxis.set_major_formatter(tick_money)"
   ]
  },
  {
   "cell_type": "code",
   "execution_count": null,
   "metadata": {},
   "outputs": [],
   "source": [
    "# Vizual to show that program area was the most closely correlated to increase in project amount\n",
    "# Setting a figure size and plotting\n",
    "fig, ax = plt.subplots(figsize=(12,8))\n",
    "sns.barplot(x='programArea', y='projectAmount', data=df4, palette=\"colorblind\")\n",
    "\n",
    "# Formatting the y-axis ticks to show as money\n",
    "fmt_money = '${x:,.0f}'\n",
    "tick_money = mtick.StrMethodFormatter(fmt_money)\n",
    "ax.yaxis.set_major_formatter(tick_money)\n",
    "\n",
    "# Setting title and labels\n",
    "ax.set_xlabel('Program Area', fontsize=15)\n",
    "ax.set_ylabel('Project Amount', fontsize=15)\n",
    "ax.set_title('Project Amount by Program Area', fontsize=20);"
   ]
  },
  {
   "cell_type": "code",
   "execution_count": null,
   "metadata": {},
   "outputs": [],
   "source": [
    "# Vizual to show that program area was the most closely correlated to increase in project amount\n",
    "# Setting a figure size and plotting\n",
    "fig, ax = plt.subplots(figsize=(12,8))\n",
    "sns.barplot(x='region', y='projectAmount', data=df4, palette=\"colorblind\")\n",
    "\n",
    "# Formatting the y-axis ticks to show as money\n",
    "fmt_money = '${x:,.0f}'\n",
    "tick_money = mtick.StrMethodFormatter(fmt_money)\n",
    "ax.yaxis.set_major_formatter(tick_money)\n",
    "\n",
    "# Setting title and labels\n",
    "ax.set_xlabel('Region', fontsize=15)\n",
    "ax.set_ylabel('Project Amount', fontsize=15)\n",
    "ax.set_title('Project Amount by Region', fontsize=20);"
   ]
  },
  {
   "cell_type": "markdown",
   "metadata": {},
   "source": [
    "# EDA/Visuals for Presentation"
   ]
  },
  {
   "cell_type": "code",
   "execution_count": null,
   "metadata": {},
   "outputs": [],
   "source": [
    "def scatterplot(col):\n",
    "    ax = plt.figure(figsize = (8,6))\n",
    "    ax = sns.scatterplot(x = df[col], y = df['projectAmount'])\n",
    "    ax.set_title('{} vs. Project Amount'.format(col), fontsize = 18)\n",
    "    ax.set_xlabel('{}'.format(col), fontsize = 14)\n",
    "    ax.set_ylabel('Project Amount', fontsize = 14);\n",
    "\n",
    "for col in df:\n",
    "\n",
    "    scatterplot(col)"
   ]
  },
  {
   "cell_type": "code",
   "execution_count": null,
   "metadata": {},
   "outputs": [],
   "source": [
    "# Plotting Price with the categories:\n",
    "def categorical_plots(df):\n",
    "    for col in df.select_dtypes('category'):\n",
    "        fig, ax = plt.subplots(figsize=(10,6))\n",
    "        sns.barplot(x=col, y='projectAmount', data=df, palette=\"colorblind\")\n",
    "        ax.set_title(f\"{col} vs projectAmount\", fontsize=30)\n",
    "        plt.xticks(rotation=45)\n",
    "        plt.show()"
   ]
  },
  {
   "cell_type": "code",
   "execution_count": null,
   "metadata": {
    "scrolled": true
   },
   "outputs": [],
   "source": [
    "categorical_plots(df)"
   ]
  },
  {
   "cell_type": "markdown",
   "metadata": {},
   "source": [
    "# Conclusions"
   ]
  },
  {
   "cell_type": "markdown",
   "metadata": {},
   "source": [
    "- More funds should be allocated to hazard mitigation in all categories as natural disasters and subsequently recovery are increasing"
   ]
  },
  {
   "cell_type": "markdown",
   "metadata": {},
   "source": [
    "**Less common Natural Disaster Preparedness**\n",
    "\n",
    "- The costs of COVID-19 surpass all categories of natural disaster recovery costs**\n",
    "\n",
    "- Volcanoes were second highest cost even though they are less common natural disaster**\n"
   ]
  }
 ],
 "metadata": {
  "kernelspec": {
   "display_name": "Python [conda env:learn-env] *",
   "language": "python",
   "name": "conda-env-learn-env-py"
  },
  "language_info": {
   "codemirror_mode": {
    "name": "ipython",
    "version": 3
   },
   "file_extension": ".py",
   "mimetype": "text/x-python",
   "name": "python",
   "nbconvert_exporter": "python",
   "pygments_lexer": "ipython3",
   "version": "3.6.9"
  },
  "toc": {
   "base_numbering": 1,
   "nav_menu": {},
   "number_sections": false,
   "sideBar": true,
   "skip_h1_title": false,
   "title_cell": "Table of Contents",
   "title_sidebar": "Contents",
   "toc_cell": false,
   "toc_position": {
    "height": "calc(100% - 180px)",
    "left": "10px",
    "top": "150px",
    "width": "176.188px"
   },
   "toc_section_display": true,
   "toc_window_display": true
  }
 },
 "nbformat": 4,
 "nbformat_minor": 2
}
