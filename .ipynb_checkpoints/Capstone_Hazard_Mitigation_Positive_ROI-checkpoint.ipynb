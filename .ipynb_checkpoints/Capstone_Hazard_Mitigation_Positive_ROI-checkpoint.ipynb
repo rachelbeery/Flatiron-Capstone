{
 "cells": [
  {
   "cell_type": "markdown",
   "metadata": {},
   "source": [
    "# Capstone - FEMA Hazard Mitigation Regression Analysis"
   ]
  },
  {
   "cell_type": "markdown",
   "metadata": {},
   "source": [
    "**By Rachel Beery**"
   ]
  },
  {
   "cell_type": "markdown",
   "metadata": {},
   "source": [
    "**For my capstone I want to study community resilency and predict hazard mitigation success. I will be using the OpenFEMA datasets. My project will use supervised learning linear regression modeling to predict hazard mitigation success.**"
   ]
  },
  {
   "cell_type": "markdown",
   "metadata": {},
   "source": [
    "**In this project we are using a regression analysis model to understand the ROI of hazard mitigation costs in USD. By understanding these patterns we will then provide recommendations on how to better allocate hazard mitigation funds in the future.**"
   ]
  },
  {
   "cell_type": "markdown",
   "metadata": {},
   "source": [
    "Source: https://www.fema.gov/about/openfema/data-sets"
   ]
  },
  {
   "cell_type": "markdown",
   "metadata": {},
   "source": [
    "### Goals: \n",
    "- Make a logistic regression to see what features yield the highest ROI in recovery funding. "
   ]
  },
  {
   "cell_type": "markdown",
   "metadata": {},
   "source": [
    "# Data Exploration and Cleaning"
   ]
  },
  {
   "cell_type": "code",
   "execution_count": 1,
   "metadata": {},
   "outputs": [],
   "source": [
    "# We will begin by importing all of the packages we anticipate to use\n",
    "import pandas as pd\n",
    "import pandas.tseries  \n",
    "import numpy as np  \n",
    "\n",
    "import statsmodels.api as sm \n",
    "import itertools\n",
    "\n",
    "import matplotlib.pyplot as plt   \n",
    "from matplotlib.pylab import rcParams \n",
    "%matplotlib inline\n",
    "import matplotlib.ticker as mtick\n",
    "plt.style.use('ggplot') \n",
    "import plotly.express as px\n",
    "import plotly.figure_factory as ff \n",
    "import plotly.graph_objects as go \n",
    "import seaborn as sns  \n",
    "\n",
    "from statsmodels.tsa.arima_model import ARMA\n",
    "from statsmodels.tsa.statespace.sarimax import SARIMAX\n",
    "\n",
    "import warnings\n",
    "warnings.filterwarnings('ignore') \n",
    "\n",
    "import math\n",
    "import scipy.stats as stats\n",
    "\n",
    "from sklearn.preprocessing import StandardScaler\n",
    "import statsmodels.api as sm\n",
    "from scipy import stats\n",
    "import statsmodels.formula.api as smf\n",
    "from statsmodels.stats.outliers_influence import variance_inflation_factor\n",
    "\n",
    "from sklearn.model_selection import train_test_split\n",
    "from sklearn.metrics import mean_squared_error, make_scorer\n",
    "from sklearn.metrics import roc_auc_score\n",
    "from sklearn.model_selection import cross_val_score\n",
    "from sklearn.metrics import r2_score\n",
    "from sklearn.linear_model import LinearRegression, LogisticRegression, LogisticRegressionCV\n",
    "# CV - why not importing\n",
    "\n",
    "from sklearn.feature_selection import VarianceThreshold, SelectFromModel\n",
    "linreg = LinearRegression()\n",
    "\n",
    "from sklearn.model_selection import GridSearchCV, cross_val_score\n",
    "from sklearn.preprocessing import StandardScaler, MinMaxScaler\n",
    "from sklearn.neighbors import KNeighborsClassifier\n",
    "from sklearn.linear_model import LogisticRegression\n",
    "from sklearn.model_selection import train_test_split\n",
    "from sklearn.ensemble import RandomForestClassifier, AdaBoostClassifier, GradientBoostingClassifier\n",
    "from sklearn.pipeline import Pipeline\n",
    "from sklearn.metrics import classification_report, confusion_matrix, precision_score, accuracy_score, recall_score, f1_score, roc_curve, auc\n",
    "from sklearn.preprocessing import OneHotEncoder\n",
    "from sklearn.metrics import plot_confusion_matrix\n",
    "from sklearn.naive_bayes import GaussianNB, MultinomialNB\n",
    "from sklearn.tree import DecisionTreeClassifier\n",
    "import xgboost"
   ]
  },
  {
   "cell_type": "code",
   "execution_count": 2,
   "metadata": {},
   "outputs": [],
   "source": [
    "# Setting the display defaults\n",
    "pd.set_option('display.max_columns', 0)\n",
    "# pd.set_option('display.max_rows',)\n",
    "\n",
    "# Turning off scientific notation in pandas\n",
    "pd.set_option('display.float_format', lambda x: '%.3f' % x)"
   ]
  },
  {
   "cell_type": "code",
   "execution_count": 3,
   "metadata": {
    "scrolled": true
   },
   "outputs": [
    {
     "data": {
      "text/html": [
       "<div>\n",
       "<style scoped>\n",
       "    .dataframe tbody tr th:only-of-type {\n",
       "        vertical-align: middle;\n",
       "    }\n",
       "\n",
       "    .dataframe tbody tr th {\n",
       "        vertical-align: top;\n",
       "    }\n",
       "\n",
       "    .dataframe thead th {\n",
       "        text-align: right;\n",
       "    }\n",
       "</style>\n",
       "<table border=\"1\" class=\"dataframe\">\n",
       "  <thead>\n",
       "    <tr style=\"text-align: right;\">\n",
       "      <th></th>\n",
       "      <th>region</th>\n",
       "      <th>stateNumberCode</th>\n",
       "      <th>state</th>\n",
       "      <th>countyCode</th>\n",
       "      <th>county</th>\n",
       "      <th>programArea</th>\n",
       "      <th>projectIdentifier</th>\n",
       "      <th>projectType</th>\n",
       "      <th>projectTitle</th>\n",
       "      <th>projectCounties</th>\n",
       "      <th>numberOfProperties</th>\n",
       "      <th>numberOfFinalProperties</th>\n",
       "      <th>status</th>\n",
       "      <th>subgrantee</th>\n",
       "      <th>costSharePercentage</th>\n",
       "      <th>projectAmount</th>\n",
       "      <th>federalShareObligated</th>\n",
       "      <th>programFy</th>\n",
       "      <th>dateInitiallyApproved</th>\n",
       "      <th>dateApproved</th>\n",
       "      <th>dateClosed</th>\n",
       "      <th>granteeTribalIndicator</th>\n",
       "      <th>grantee</th>\n",
       "      <th>disasterNumber</th>\n",
       "      <th>benefitCostRatio</th>\n",
       "      <th>netValueBenefits</th>\n",
       "      <th>subgranteeTribalIndicator</th>\n",
       "      <th>hash</th>\n",
       "      <th>lastRefresh</th>\n",
       "      <th>id</th>\n",
       "    </tr>\n",
       "  </thead>\n",
       "  <tbody>\n",
       "    <tr>\n",
       "      <td>0</td>\n",
       "      <td>6</td>\n",
       "      <td>48</td>\n",
       "      <td>Texas</td>\n",
       "      <td>167.000</td>\n",
       "      <td>Galveston</td>\n",
       "      <td>HMGP</td>\n",
       "      <td>DR-1999-0061-R</td>\n",
       "      <td>400.1: Utility Protective Measures (Electric, ...</td>\n",
       "      <td>UTMB Elevation of Electrical Services Bldg 9</td>\n",
       "      <td>GALVESTON</td>\n",
       "      <td>0</td>\n",
       "      <td>0</td>\n",
       "      <td>Closed</td>\n",
       "      <td>UNIVERSITY OF TEXAS MEDICAL BRANCH</td>\n",
       "      <td>0.750</td>\n",
       "      <td>402910.000</td>\n",
       "      <td>302181.820</td>\n",
       "      <td>2011</td>\n",
       "      <td>2013-12-10T05:00:00.000Z</td>\n",
       "      <td>2020-02-06T05:00:00.000Z</td>\n",
       "      <td>2020-02-06T05:00:00.000Z</td>\n",
       "      <td>0.000</td>\n",
       "      <td>Statewide</td>\n",
       "      <td>1999.000</td>\n",
       "      <td>4.041</td>\n",
       "      <td>2969310.000</td>\n",
       "      <td>0.000</td>\n",
       "      <td>a959dc8cb69df0bd7f236b2021101501</td>\n",
       "      <td>2020-09-17T18:15:38.772Z</td>\n",
       "      <td>5f63a7ca31a8c6681c9dfd79</td>\n",
       "    </tr>\n",
       "    <tr>\n",
       "      <td>1</td>\n",
       "      <td>5</td>\n",
       "      <td>18</td>\n",
       "      <td>Indiana</td>\n",
       "      <td>21.000</td>\n",
       "      <td>Clay</td>\n",
       "      <td>HMGP</td>\n",
       "      <td>DR-1997-0014-R</td>\n",
       "      <td>200.1: Acquisition of Private Real Property (S...</td>\n",
       "      <td>City of Brazil Phase 2</td>\n",
       "      <td>CLAY</td>\n",
       "      <td>13</td>\n",
       "      <td>6</td>\n",
       "      <td>Closed</td>\n",
       "      <td>Brazil</td>\n",
       "      <td>0.620</td>\n",
       "      <td>366071.000</td>\n",
       "      <td>227383.000</td>\n",
       "      <td>2011</td>\n",
       "      <td>2013-04-09T04:00:00.000Z</td>\n",
       "      <td>2019-11-25T05:00:00.000Z</td>\n",
       "      <td>2019-11-25T05:00:00.000Z</td>\n",
       "      <td>0.000</td>\n",
       "      <td>Statewide</td>\n",
       "      <td>1997.000</td>\n",
       "      <td>1.357</td>\n",
       "      <td>961452.000</td>\n",
       "      <td>0.000</td>\n",
       "      <td>cb8464b16e232b502ef9c8a3d385752b</td>\n",
       "      <td>2020-09-17T18:15:38.771Z</td>\n",
       "      <td>5f63a7ca31a8c6681c9dfd81</td>\n",
       "    </tr>\n",
       "    <tr>\n",
       "      <td>2</td>\n",
       "      <td>7</td>\n",
       "      <td>19</td>\n",
       "      <td>Iowa</td>\n",
       "      <td>153.000</td>\n",
       "      <td>Polk</td>\n",
       "      <td>HMGP</td>\n",
       "      <td>DR-1998-0022-P</td>\n",
       "      <td>91.1: Local Multihazard Mitigation Plan</td>\n",
       "      <td>Polk Countywide Multi-Jurisdiction Multi-Hazar...</td>\n",
       "      <td>POLK</td>\n",
       "      <td>0</td>\n",
       "      <td>0</td>\n",
       "      <td>Closed</td>\n",
       "      <td>Polk (County)</td>\n",
       "      <td>0.750</td>\n",
       "      <td>96965.000</td>\n",
       "      <td>72724.000</td>\n",
       "      <td>2011</td>\n",
       "      <td>2012-05-10T04:00:00.000Z</td>\n",
       "      <td>2015-07-28T04:00:00.000Z</td>\n",
       "      <td>2015-07-29T04:00:00.000Z</td>\n",
       "      <td>0.000</td>\n",
       "      <td>Statewide</td>\n",
       "      <td>1998.000</td>\n",
       "      <td>0.000</td>\n",
       "      <td>0.000</td>\n",
       "      <td>0.000</td>\n",
       "      <td>bd467ece18ecc6c8a40b824175b7f029</td>\n",
       "      <td>2020-09-17T18:15:38.772Z</td>\n",
       "      <td>5f63a7ca31a8c6681c9dfd84</td>\n",
       "    </tr>\n",
       "    <tr>\n",
       "      <td>3</td>\n",
       "      <td>2</td>\n",
       "      <td>36</td>\n",
       "      <td>New York</td>\n",
       "      <td>83.000</td>\n",
       "      <td>Rensselaer</td>\n",
       "      <td>HMGP</td>\n",
       "      <td>DR-4020-0064-F</td>\n",
       "      <td>600.1: Warning Systems (as a Component of a Pl...</td>\n",
       "      <td>Canal Flood Warning System</td>\n",
       "      <td>OSWEGO; ONTARIO; SARATOGA; SCHENECTADY; SCHOHA...</td>\n",
       "      <td>0</td>\n",
       "      <td>0</td>\n",
       "      <td>Closed</td>\n",
       "      <td>THRUWY AUTH/NYS CANAL CORP</td>\n",
       "      <td>1.000</td>\n",
       "      <td>5932500.000</td>\n",
       "      <td>5932500.000</td>\n",
       "      <td>2011</td>\n",
       "      <td>2013-11-12T05:00:00.000Z</td>\n",
       "      <td>2014-11-07T05:00:00.000Z</td>\n",
       "      <td>2018-01-24T05:00:00.000Z</td>\n",
       "      <td>0.000</td>\n",
       "      <td>Statewide</td>\n",
       "      <td>4020.000</td>\n",
       "      <td>0.000</td>\n",
       "      <td>0.000</td>\n",
       "      <td>0.000</td>\n",
       "      <td>ab6774d20b7cd64215ded6135377cc1e</td>\n",
       "      <td>2021-01-19T17:38:38.392Z</td>\n",
       "      <td>5f63a7ca31a8c6681c9dfd87</td>\n",
       "    </tr>\n",
       "    <tr>\n",
       "      <td>4</td>\n",
       "      <td>7</td>\n",
       "      <td>19</td>\n",
       "      <td>Iowa</td>\n",
       "      <td>141.000</td>\n",
       "      <td>O'Brien</td>\n",
       "      <td>HMGP</td>\n",
       "      <td>DR-1998-0013-F</td>\n",
       "      <td>600.1: Warning Systems (as a Component of a Pl...</td>\n",
       "      <td>Sheldon Outdoor Warning Sirens Project</td>\n",
       "      <td>O'BRIEN</td>\n",
       "      <td>0</td>\n",
       "      <td>0</td>\n",
       "      <td>Closed</td>\n",
       "      <td>Sheldon</td>\n",
       "      <td>0.750</td>\n",
       "      <td>34245.000</td>\n",
       "      <td>25683.000</td>\n",
       "      <td>2011</td>\n",
       "      <td>2012-05-03T04:00:00.000Z</td>\n",
       "      <td>2012-05-03T04:00:00.000Z</td>\n",
       "      <td>2013-09-26T04:00:00.000Z</td>\n",
       "      <td>0.000</td>\n",
       "      <td>Statewide</td>\n",
       "      <td>1998.000</td>\n",
       "      <td>0.000</td>\n",
       "      <td>0.000</td>\n",
       "      <td>0.000</td>\n",
       "      <td>62fff845e7929eb2587b530b69ae2f93</td>\n",
       "      <td>2020-09-17T18:15:38.772Z</td>\n",
       "      <td>5f63a7ca31a8c6681c9dfd88</td>\n",
       "    </tr>\n",
       "  </tbody>\n",
       "</table>\n",
       "</div>"
      ],
      "text/plain": [
       "   region  stateNumberCode  ...               lastRefresh                        id\n",
       "0       6               48  ...  2020-09-17T18:15:38.772Z  5f63a7ca31a8c6681c9dfd79\n",
       "1       5               18  ...  2020-09-17T18:15:38.771Z  5f63a7ca31a8c6681c9dfd81\n",
       "2       7               19  ...  2020-09-17T18:15:38.772Z  5f63a7ca31a8c6681c9dfd84\n",
       "3       2               36  ...  2021-01-19T17:38:38.392Z  5f63a7ca31a8c6681c9dfd87\n",
       "4       7               19  ...  2020-09-17T18:15:38.772Z  5f63a7ca31a8c6681c9dfd88\n",
       "\n",
       "[5 rows x 30 columns]"
      ]
     },
     "execution_count": 3,
     "metadata": {},
     "output_type": "execute_result"
    }
   ],
   "source": [
    "#Import data and see the headers\n",
    "df = pd.read_csv(r\"HazardMitigationAssistanceProjects - HazardMitigationAssistanceProjects.csv\")\n",
    "df.head()"
   ]
  },
  {
   "cell_type": "code",
   "execution_count": 4,
   "metadata": {},
   "outputs": [],
   "source": [
    "# Subgrantee consider keeping as it (Subgrantee add  university column etc.)\n",
    "# Leave costSharePercentage"
   ]
  },
  {
   "cell_type": "code",
   "execution_count": 5,
   "metadata": {},
   "outputs": [
    {
     "data": {
      "text/plain": [
       "(29628, 30)"
      ]
     },
     "execution_count": 5,
     "metadata": {},
     "output_type": "execute_result"
    }
   ],
   "source": [
    "# How big is this dataset?\n",
    "df.shape"
   ]
  },
  {
   "cell_type": "code",
   "execution_count": 6,
   "metadata": {
    "scrolled": true
   },
   "outputs": [
    {
     "name": "stdout",
     "output_type": "stream",
     "text": [
      "<class 'pandas.core.frame.DataFrame'>\n",
      "RangeIndex: 29628 entries, 0 to 29627\n",
      "Data columns (total 30 columns):\n",
      "region                       29628 non-null int64\n",
      "stateNumberCode              29628 non-null int64\n",
      "state                        29628 non-null object\n",
      "countyCode                   27586 non-null float64\n",
      "county                       27586 non-null object\n",
      "programArea                  29628 non-null object\n",
      "projectIdentifier            29628 non-null object\n",
      "projectType                  29301 non-null object\n",
      "projectTitle                 29450 non-null object\n",
      "projectCounties              27859 non-null object\n",
      "numberOfProperties           29628 non-null int64\n",
      "numberOfFinalProperties      29628 non-null int64\n",
      "status                       29628 non-null object\n",
      "subgrantee                   29133 non-null object\n",
      "costSharePercentage          29608 non-null float64\n",
      "projectAmount                29608 non-null float64\n",
      "federalShareObligated        29628 non-null float64\n",
      "programFy                    29628 non-null int64\n",
      "dateInitiallyApproved        22686 non-null object\n",
      "dateApproved                 29347 non-null object\n",
      "dateClosed                   20393 non-null object\n",
      "granteeTribalIndicator       22692 non-null float64\n",
      "grantee                      22692 non-null object\n",
      "disasterNumber               22942 non-null float64\n",
      "benefitCostRatio             29628 non-null float64\n",
      "netValueBenefits             24707 non-null float64\n",
      "subgranteeTribalIndicator    22692 non-null float64\n",
      "hash                         29628 non-null object\n",
      "lastRefresh                  29628 non-null object\n",
      "id                           29628 non-null object\n",
      "dtypes: float64(9), int64(5), object(16)\n",
      "memory usage: 6.8+ MB\n"
     ]
    }
   ],
   "source": [
    "# Looking to make sure out df is the correct datatypes\n",
    "df.info()"
   ]
  },
  {
   "cell_type": "code",
   "execution_count": 7,
   "metadata": {
    "scrolled": true
   },
   "outputs": [
    {
     "name": "stdout",
     "output_type": "stream",
     "text": [
      "<class 'pandas.core.frame.DataFrame'>\n",
      "RangeIndex: 29628 entries, 0 to 29627\n",
      "Data columns (total 8 columns):\n",
      "region                    29628 non-null int64\n",
      "stateNumberCode           29628 non-null int64\n",
      "programArea               29628 non-null object\n",
      "projectAmount             29608 non-null float64\n",
      "programFy                 29628 non-null int64\n",
      "granteeTribalIndicator    22692 non-null float64\n",
      "benefitCostRatio          29628 non-null float64\n",
      "netValueBenefits          24707 non-null float64\n",
      "dtypes: float64(4), int64(3), object(1)\n",
      "memory usage: 1.8+ MB\n"
     ]
    }
   ],
   "source": [
    "df.drop(axis=1, columns=['subgranteeTribalIndicator', 'lastRefresh', \n",
    "                         'dateInitiallyApproved', 'dateApproved', \n",
    "                         'dateClosed', 'projectTitle', 'numberOfFinalProperties', 'subgrantee', \n",
    "                         'projectIdentifier', 'projectCounties', 'numberOfProperties',\n",
    "                        'status', 'costSharePercentage', 'federalShareObligated', 'grantee', \n",
    "                         'disasterNumber', 'hash', 'id', \n",
    "                         'state','county', 'countyCode', 'projectType'], inplace=True)\n",
    "df.info()"
   ]
  },
  {
   "cell_type": "code",
   "execution_count": 8,
   "metadata": {
    "scrolled": true
   },
   "outputs": [],
   "source": [
    "#df['countyCode'].fillna(0.0, axis = 0, inplace=True)\n",
    "#df['countyCode'].value_counts()"
   ]
  },
  {
   "cell_type": "code",
   "execution_count": 9,
   "metadata": {
    "scrolled": false
   },
   "outputs": [],
   "source": [
    "#df['countyCode'] = df['countyCode'].astype('int64')"
   ]
  },
  {
   "cell_type": "code",
   "execution_count": 10,
   "metadata": {
    "scrolled": false
   },
   "outputs": [
    {
     "data": {
      "text/html": [
       "<div>\n",
       "<style scoped>\n",
       "    .dataframe tbody tr th:only-of-type {\n",
       "        vertical-align: middle;\n",
       "    }\n",
       "\n",
       "    .dataframe tbody tr th {\n",
       "        vertical-align: top;\n",
       "    }\n",
       "\n",
       "    .dataframe thead th {\n",
       "        text-align: right;\n",
       "    }\n",
       "</style>\n",
       "<table border=\"1\" class=\"dataframe\">\n",
       "  <thead>\n",
       "    <tr style=\"text-align: right;\">\n",
       "      <th></th>\n",
       "      <th>region</th>\n",
       "      <th>stateNumberCode</th>\n",
       "      <th>projectAmount</th>\n",
       "      <th>programFy</th>\n",
       "      <th>granteeTribalIndicator</th>\n",
       "      <th>benefitCostRatio</th>\n",
       "      <th>netValueBenefits</th>\n",
       "    </tr>\n",
       "  </thead>\n",
       "  <tbody>\n",
       "    <tr>\n",
       "      <td>count</td>\n",
       "      <td>29628.000</td>\n",
       "      <td>29628.000</td>\n",
       "      <td>29608.000</td>\n",
       "      <td>29628.000</td>\n",
       "      <td>22692.000</td>\n",
       "      <td>29628.000</td>\n",
       "      <td>24707.000</td>\n",
       "    </tr>\n",
       "    <tr>\n",
       "      <td>mean</td>\n",
       "      <td>5.170</td>\n",
       "      <td>27.841</td>\n",
       "      <td>815798.371</td>\n",
       "      <td>2006.716</td>\n",
       "      <td>0.012</td>\n",
       "      <td>171.556</td>\n",
       "      <td>9907805.571</td>\n",
       "    </tr>\n",
       "    <tr>\n",
       "      <td>std</td>\n",
       "      <td>2.420</td>\n",
       "      <td>17.182</td>\n",
       "      <td>8021291.971</td>\n",
       "      <td>7.576</td>\n",
       "      <td>0.107</td>\n",
       "      <td>20368.674</td>\n",
       "      <td>808951961.855</td>\n",
       "    </tr>\n",
       "    <tr>\n",
       "      <td>min</td>\n",
       "      <td>1.000</td>\n",
       "      <td>1.000</td>\n",
       "      <td>-1624776.000</td>\n",
       "      <td>1989.000</td>\n",
       "      <td>0.000</td>\n",
       "      <td>0.000</td>\n",
       "      <td>0.000</td>\n",
       "    </tr>\n",
       "    <tr>\n",
       "      <td>25%</td>\n",
       "      <td>4.000</td>\n",
       "      <td>12.000</td>\n",
       "      <td>37054.750</td>\n",
       "      <td>2001.000</td>\n",
       "      <td>0.000</td>\n",
       "      <td>0.000</td>\n",
       "      <td>0.000</td>\n",
       "    </tr>\n",
       "    <tr>\n",
       "      <td>50%</td>\n",
       "      <td>5.000</td>\n",
       "      <td>27.000</td>\n",
       "      <td>114895.500</td>\n",
       "      <td>2008.000</td>\n",
       "      <td>0.000</td>\n",
       "      <td>0.847</td>\n",
       "      <td>103985.000</td>\n",
       "    </tr>\n",
       "    <tr>\n",
       "      <td>75%</td>\n",
       "      <td>7.000</td>\n",
       "      <td>40.000</td>\n",
       "      <td>419440.250</td>\n",
       "      <td>2013.000</td>\n",
       "      <td>0.000</td>\n",
       "      <td>1.666</td>\n",
       "      <td>950061.000</td>\n",
       "    </tr>\n",
       "    <tr>\n",
       "      <td>max</td>\n",
       "      <td>10.000</td>\n",
       "      <td>78.000</td>\n",
       "      <td>729000000.000</td>\n",
       "      <td>2020.000</td>\n",
       "      <td>1.000</td>\n",
       "      <td>2479069.620</td>\n",
       "      <td>89843962103.000</td>\n",
       "    </tr>\n",
       "  </tbody>\n",
       "</table>\n",
       "</div>"
      ],
      "text/plain": [
       "         region  stateNumberCode  ...  benefitCostRatio  netValueBenefits\n",
       "count 29628.000        29628.000  ...         29628.000         24707.000\n",
       "mean      5.170           27.841  ...           171.556       9907805.571\n",
       "std       2.420           17.182  ...         20368.674     808951961.855\n",
       "min       1.000            1.000  ...             0.000             0.000\n",
       "25%       4.000           12.000  ...             0.000             0.000\n",
       "50%       5.000           27.000  ...             0.847        103985.000\n",
       "75%       7.000           40.000  ...             1.666        950061.000\n",
       "max      10.000           78.000  ...       2479069.620   89843962103.000\n",
       "\n",
       "[8 rows x 7 columns]"
      ]
     },
     "execution_count": 10,
     "metadata": {},
     "output_type": "execute_result"
    }
   ],
   "source": [
    "df.describe()"
   ]
  },
  {
   "cell_type": "code",
   "execution_count": 11,
   "metadata": {},
   "outputs": [
    {
     "data": {
      "text/plain": [
       "0        1\n",
       "1        1\n",
       "2        0\n",
       "3        0\n",
       "4        0\n",
       "        ..\n",
       "29623    1\n",
       "29624    0\n",
       "29625    1\n",
       "29626    0\n",
       "29627    0\n",
       "Name: Positive_ROI, Length: 29628, dtype: int32"
      ]
     },
     "execution_count": 11,
     "metadata": {},
     "output_type": "execute_result"
    }
   ],
   "source": [
    "# Bining the benefitCostRatio to be if above 1 or below 1 \n",
    "df['Positive_ROI']=(df['benefitCostRatio']>=1).astype(int)\n",
    "df['Positive_ROI']"
   ]
  },
  {
   "cell_type": "code",
   "execution_count": 12,
   "metadata": {
    "scrolled": true
   },
   "outputs": [
    {
     "data": {
      "text/html": [
       "<div>\n",
       "<style scoped>\n",
       "    .dataframe tbody tr th:only-of-type {\n",
       "        vertical-align: middle;\n",
       "    }\n",
       "\n",
       "    .dataframe tbody tr th {\n",
       "        vertical-align: top;\n",
       "    }\n",
       "\n",
       "    .dataframe thead th {\n",
       "        text-align: right;\n",
       "    }\n",
       "</style>\n",
       "<table border=\"1\" class=\"dataframe\">\n",
       "  <thead>\n",
       "    <tr style=\"text-align: right;\">\n",
       "      <th></th>\n",
       "      <th>region</th>\n",
       "      <th>stateNumberCode</th>\n",
       "      <th>programArea</th>\n",
       "      <th>projectAmount</th>\n",
       "      <th>programFy</th>\n",
       "      <th>granteeTribalIndicator</th>\n",
       "      <th>benefitCostRatio</th>\n",
       "      <th>netValueBenefits</th>\n",
       "      <th>Positive_ROI</th>\n",
       "    </tr>\n",
       "  </thead>\n",
       "  <tbody>\n",
       "    <tr>\n",
       "      <td>0</td>\n",
       "      <td>6</td>\n",
       "      <td>48</td>\n",
       "      <td>HMGP</td>\n",
       "      <td>402910.000</td>\n",
       "      <td>2011</td>\n",
       "      <td>0.000</td>\n",
       "      <td>4.041</td>\n",
       "      <td>2969310.000</td>\n",
       "      <td>1</td>\n",
       "    </tr>\n",
       "    <tr>\n",
       "      <td>1</td>\n",
       "      <td>5</td>\n",
       "      <td>18</td>\n",
       "      <td>HMGP</td>\n",
       "      <td>366071.000</td>\n",
       "      <td>2011</td>\n",
       "      <td>0.000</td>\n",
       "      <td>1.357</td>\n",
       "      <td>961452.000</td>\n",
       "      <td>1</td>\n",
       "    </tr>\n",
       "    <tr>\n",
       "      <td>2</td>\n",
       "      <td>7</td>\n",
       "      <td>19</td>\n",
       "      <td>HMGP</td>\n",
       "      <td>96965.000</td>\n",
       "      <td>2011</td>\n",
       "      <td>0.000</td>\n",
       "      <td>0.000</td>\n",
       "      <td>0.000</td>\n",
       "      <td>0</td>\n",
       "    </tr>\n",
       "    <tr>\n",
       "      <td>3</td>\n",
       "      <td>2</td>\n",
       "      <td>36</td>\n",
       "      <td>HMGP</td>\n",
       "      <td>5932500.000</td>\n",
       "      <td>2011</td>\n",
       "      <td>0.000</td>\n",
       "      <td>0.000</td>\n",
       "      <td>0.000</td>\n",
       "      <td>0</td>\n",
       "    </tr>\n",
       "    <tr>\n",
       "      <td>4</td>\n",
       "      <td>7</td>\n",
       "      <td>19</td>\n",
       "      <td>HMGP</td>\n",
       "      <td>34245.000</td>\n",
       "      <td>2011</td>\n",
       "      <td>0.000</td>\n",
       "      <td>0.000</td>\n",
       "      <td>0.000</td>\n",
       "      <td>0</td>\n",
       "    </tr>\n",
       "  </tbody>\n",
       "</table>\n",
       "</div>"
      ],
      "text/plain": [
       "   region  stateNumberCode  ... netValueBenefits  Positive_ROI\n",
       "0       6               48  ...      2969310.000             1\n",
       "1       5               18  ...       961452.000             1\n",
       "2       7               19  ...            0.000             0\n",
       "3       2               36  ...            0.000             0\n",
       "4       7               19  ...            0.000             0\n",
       "\n",
       "[5 rows x 9 columns]"
      ]
     },
     "execution_count": 12,
     "metadata": {},
     "output_type": "execute_result"
    }
   ],
   "source": [
    "df.head()"
   ]
  },
  {
   "cell_type": "code",
   "execution_count": 13,
   "metadata": {},
   "outputs": [
    {
     "data": {
      "text/plain": [
       "0   0.506\n",
       "1   0.494\n",
       "Name: Positive_ROI, dtype: float64"
      ]
     },
     "execution_count": 13,
     "metadata": {},
     "output_type": "execute_result"
    }
   ],
   "source": [
    "df['Positive_ROI'].value_counts(normalize=True)"
   ]
  },
  {
   "cell_type": "code",
   "execution_count": 14,
   "metadata": {},
   "outputs": [],
   "source": [
    "# Split the data into target and predictors\n",
    "y = df['Positive_ROI']\n",
    "X = df.drop(columns=['Positive_ROI'], axis=1)"
   ]
  },
  {
   "cell_type": "code",
   "execution_count": 15,
   "metadata": {},
   "outputs": [],
   "source": [
    "# Using this as a target\n",
    "# Using logistic regression to directly answer what returns a pos ROI"
   ]
  },
  {
   "cell_type": "code",
   "execution_count": 16,
   "metadata": {},
   "outputs": [],
   "source": [
    "# Forcast demand with a times series possibly"
   ]
  },
  {
   "cell_type": "code",
   "execution_count": 17,
   "metadata": {
    "scrolled": true
   },
   "outputs": [
    {
     "data": {
      "text/plain": [
       "<matplotlib.axes._subplots.AxesSubplot at 0x1ce19674eb8>"
      ]
     },
     "execution_count": 17,
     "metadata": {},
     "output_type": "execute_result"
    },
    {
     "data": {
      "image/png": "[encoded data removed]",
      "text/plain": [
       "<Figure size 432x288 with 1 Axes>"
      ]
     },
     "metadata": {
      "needs_background": "light"
     },
     "output_type": "display_data"
    }
   ],
   "source": [
    "sns.distplot(df['benefitCostRatio'])"
   ]
  },
  {
   "cell_type": "code",
   "execution_count": 18,
   "metadata": {
    "scrolled": false
   },
   "outputs": [
    {
     "data": {
      "text/plain": [
       "<matplotlib.axes._subplots.AxesSubplot at 0x1ce19b3cac8>"
      ]
     },
     "execution_count": 18,
     "metadata": {},
     "output_type": "execute_result"
    },
    {
     "data": {
      "image/png": "[encoded data removed]",
      "text/plain": [
       "<Figure size 432x288 with 1 Axes>"
      ]
     },
     "metadata": {
      "needs_background": "light"
     },
     "output_type": "display_data"
    }
   ],
   "source": [
    "# Looks like projectAmount has outliers - Let's plot it\n",
    "sns.boxplot(x=df['projectAmount'])"
   ]
  },
  {
   "cell_type": "code",
   "execution_count": 19,
   "metadata": {
    "scrolled": true
   },
   "outputs": [
    {
     "data": {
      "text/plain": [
       "24154158163.54"
      ]
     },
     "execution_count": 19,
     "metadata": {},
     "output_type": "execute_result"
    }
   ],
   "source": [
    "df['projectAmount'].sum()"
   ]
  },
  {
   "cell_type": "code",
   "execution_count": 20,
   "metadata": {},
   "outputs": [
    {
     "data": {
      "text/plain": [
       "114895.5"
      ]
     },
     "execution_count": 20,
     "metadata": {},
     "output_type": "execute_result"
    }
   ],
   "source": [
    "df['projectAmount'].median()"
   ]
  },
  {
   "cell_type": "code",
   "execution_count": 21,
   "metadata": {
    "scrolled": true
   },
   "outputs": [
    {
     "data": {
      "text/plain": [
       "region                       0\n",
       "stateNumberCode              0\n",
       "programArea                  0\n",
       "projectAmount               20\n",
       "programFy                    0\n",
       "granteeTribalIndicator    6936\n",
       "benefitCostRatio             0\n",
       "netValueBenefits          4921\n",
       "Positive_ROI                 0\n",
       "dtype: int64"
      ]
     },
     "execution_count": 21,
     "metadata": {},
     "output_type": "execute_result"
    }
   ],
   "source": [
    "# Do we have nulls?\n",
    "df.isna().sum()"
   ]
  },
  {
   "cell_type": "code",
   "execution_count": 22,
   "metadata": {
    "scrolled": false
   },
   "outputs": [
    {
     "data": {
      "text/plain": [
       "40000.000      186\n",
       "50000.000      184\n",
       "100000.000     139\n",
       "20000.000      120\n",
       "25000.000      119\n",
       "              ... \n",
       "1252647.000      1\n",
       "840671.000       1\n",
       "40254.000        1\n",
       "31066.670        1\n",
       "573403.000       1\n",
       "Name: projectAmount, Length: 24108, dtype: int64"
      ]
     },
     "execution_count": 22,
     "metadata": {},
     "output_type": "execute_result"
    }
   ],
   "source": [
    "df['projectAmount'].fillna(0.0, axis = 0, inplace=True)\n",
    "df['projectAmount'].value_counts()"
   ]
  },
  {
   "cell_type": "code",
   "execution_count": 23,
   "metadata": {},
   "outputs": [
    {
     "data": {
      "text/plain": [
       "0.000          14662\n",
       "21420.000        318\n",
       "1.000            152\n",
       "276000.000        96\n",
       "175000.000        36\n",
       "               ...  \n",
       "775151.000         1\n",
       "387575.000         1\n",
       "1222617.000        1\n",
       "3624869.000        1\n",
       "16552.000          1\n",
       "Name: netValueBenefits, Length: 13097, dtype: int64"
      ]
     },
     "execution_count": 23,
     "metadata": {},
     "output_type": "execute_result"
    }
   ],
   "source": [
    "df['netValueBenefits'].fillna(0.0, axis = 0, inplace=True)\n",
    "df['netValueBenefits'].value_counts()"
   ]
  },
  {
   "cell_type": "code",
   "execution_count": 24,
   "metadata": {
    "scrolled": false
   },
   "outputs": [
    {
     "data": {
      "text/html": [
       "<div>\n",
       "<style scoped>\n",
       "    .dataframe tbody tr th:only-of-type {\n",
       "        vertical-align: middle;\n",
       "    }\n",
       "\n",
       "    .dataframe tbody tr th {\n",
       "        vertical-align: top;\n",
       "    }\n",
       "\n",
       "    .dataframe thead th {\n",
       "        text-align: right;\n",
       "    }\n",
       "</style>\n",
       "<table border=\"1\" class=\"dataframe\">\n",
       "  <thead>\n",
       "    <tr style=\"text-align: right;\">\n",
       "      <th></th>\n",
       "      <th>region</th>\n",
       "      <th>stateNumberCode</th>\n",
       "      <th>programArea</th>\n",
       "      <th>projectAmount</th>\n",
       "      <th>programFy</th>\n",
       "      <th>granteeTribalIndicator</th>\n",
       "      <th>benefitCostRatio</th>\n",
       "      <th>netValueBenefits</th>\n",
       "      <th>Positive_ROI</th>\n",
       "    </tr>\n",
       "  </thead>\n",
       "  <tbody>\n",
       "    <tr>\n",
       "      <td>3795</td>\n",
       "      <td>5</td>\n",
       "      <td>27</td>\n",
       "      <td>HMGP</td>\n",
       "      <td>-1624776.000</td>\n",
       "      <td>1997</td>\n",
       "      <td>nan</td>\n",
       "      <td>0.000</td>\n",
       "      <td>0.000</td>\n",
       "      <td>0</td>\n",
       "    </tr>\n",
       "    <tr>\n",
       "      <td>6134</td>\n",
       "      <td>1</td>\n",
       "      <td>25</td>\n",
       "      <td>HMGP</td>\n",
       "      <td>-110696.000</td>\n",
       "      <td>1991</td>\n",
       "      <td>nan</td>\n",
       "      <td>0.000</td>\n",
       "      <td>0.000</td>\n",
       "      <td>0</td>\n",
       "    </tr>\n",
       "    <tr>\n",
       "      <td>22833</td>\n",
       "      <td>5</td>\n",
       "      <td>26</td>\n",
       "      <td>HMGP</td>\n",
       "      <td>-36500.000</td>\n",
       "      <td>1998</td>\n",
       "      <td>nan</td>\n",
       "      <td>0.000</td>\n",
       "      <td>0.000</td>\n",
       "      <td>0</td>\n",
       "    </tr>\n",
       "  </tbody>\n",
       "</table>\n",
       "</div>"
      ],
      "text/plain": [
       "       region  stateNumberCode  ... netValueBenefits  Positive_ROI\n",
       "3795        5               27  ...            0.000             0\n",
       "6134        1               25  ...            0.000             0\n",
       "22833       5               26  ...            0.000             0\n",
       "\n",
       "[3 rows x 9 columns]"
      ]
     },
     "execution_count": 24,
     "metadata": {},
     "output_type": "execute_result"
    }
   ],
   "source": [
    "df[(df['projectAmount']<0)]"
   ]
  },
  {
   "cell_type": "code",
   "execution_count": 25,
   "metadata": {},
   "outputs": [],
   "source": [
    "# The outliers need to be addressed\n",
    "df = df[(df['projectAmount']>0)]"
   ]
  },
  {
   "cell_type": "code",
   "execution_count": 26,
   "metadata": {
    "scrolled": true
   },
   "outputs": [],
   "source": [
    "#df['granteeTribalIndicator'].fillna(0.0, axis = 0, inplace=True)\n",
    "#df['granteeTribalIndicator'].value_counts()"
   ]
  },
  {
   "cell_type": "code",
   "execution_count": 27,
   "metadata": {},
   "outputs": [
    {
     "data": {
      "text/plain": [
       "region                       0\n",
       "stateNumberCode              0\n",
       "programArea                  0\n",
       "projectAmount                0\n",
       "programFy                    0\n",
       "granteeTribalIndicator    6911\n",
       "benefitCostRatio             0\n",
       "netValueBenefits             0\n",
       "Positive_ROI                 0\n",
       "dtype: int64"
      ]
     },
     "execution_count": 27,
     "metadata": {},
     "output_type": "execute_result"
    }
   ],
   "source": [
    "# Did we get all the nulls?\n",
    "df.isna().sum()"
   ]
  },
  {
   "cell_type": "code",
   "execution_count": 28,
   "metadata": {},
   "outputs": [],
   "source": [
    "df['benefitCostRatio'] = df['benefitCostRatio'].astype('int64')\n",
    "df['projectAmount'] = df['projectAmount'].astype('int64')\n",
    "df['netValueBenefits'] = df['netValueBenefits'].astype('int64')\n",
    "df['programFy'] = df['programFy'].astype('int64')\n",
    "#df['granteeTribalIndicator'] = df['granteeTribalIndicator'].astype('int64')"
   ]
  },
  {
   "cell_type": "markdown",
   "metadata": {},
   "source": [
    "## Vizualizations"
   ]
  },
  {
   "cell_type": "code",
   "execution_count": 29,
   "metadata": {},
   "outputs": [
    {
     "data": {
      "image/png": "[encoded data removed]",
      "text/plain": [
       "<Figure size 576x432 with 1 Axes>"
      ]
     },
     "metadata": {
      "needs_background": "light"
     },
     "output_type": "display_data"
    },
    {
     "data": {
      "image/png": "[encoded data removed]",
      "text/plain": [
       "<Figure size 576x432 with 1 Axes>"
      ]
     },
     "metadata": {
      "needs_background": "light"
     },
     "output_type": "display_data"
    },
    {
     "data": {
      "image/png": "[encoded data removed]",
      "text/plain": [
       "<Figure size 576x432 with 1 Axes>"
      ]
     },
     "metadata": {
      "needs_background": "light"
     },
     "output_type": "display_data"
    },
    {
     "data": {
      "image/png": "[encoded data removed]",
      "text/plain": [
       "<Figure size 576x432 with 1 Axes>"
      ]
     },
     "metadata": {
      "needs_background": "light"
     },
     "output_type": "display_data"
    },
    {
     "data": {
      "image/png": "[encoded data removed]",
      "text/plain": [
       "<Figure size 576x432 with 1 Axes>"
      ]
     },
     "metadata": {
      "needs_background": "light"
     },
     "output_type": "display_data"
    },
    {
     "data": {
      "image/png": "[encoded data removed]",
      "text/plain": [
       "<Figure size 576x432 with 1 Axes>"
      ]
     },
     "metadata": {
      "needs_background": "light"
     },
     "output_type": "display_data"
    },
    {
     "data": {
      "image/png": "[encoded data removed]",
      "text/plain": [
       "<Figure size 576x432 with 1 Axes>"
      ]
     },
     "metadata": {
      "needs_background": "light"
     },
     "output_type": "display_data"
    },
    {
     "data": {
      "image/png": "[encoded data removed]",
      "text/plain": [
       "<Figure size 576x432 with 1 Axes>"
      ]
     },
     "metadata": {
      "needs_background": "light"
     },
     "output_type": "display_data"
    },
    {
     "data": {
      "image/png": "[encoded data removed]",
      "text/plain": [
       "<Figure size 576x432 with 1 Axes>"
      ]
     },
     "metadata": {
      "needs_background": "light"
     },
     "output_type": "display_data"
    }
   ],
   "source": [
    "def scatterplot(col):\n",
    "    ax = plt.figure(figsize = (8,6))\n",
    "    ax = sns.scatterplot(x = df[col], y = df['projectAmount'])\n",
    "    ax.set_title('{} vs. Project Amount'.format(col), fontsize = 18)\n",
    "    ax.set_xlabel('{}'.format(col), fontsize = 14)\n",
    "    ax.set_ylabel('Project Amount', fontsize = 14);\n",
    "\n",
    "for col in df:\n",
    "\n",
    "    scatterplot(col)"
   ]
  },
  {
   "cell_type": "code",
   "execution_count": 30,
   "metadata": {},
   "outputs": [],
   "source": [
    "# Plotting Price with the categories:\n",
    "def categorical_plots(df):\n",
    "    for col in df.select_dtypes('category'):\n",
    "        fig, ax = plt.subplots(figsize=(10,6))\n",
    "        sns.barplot(x=col, y='projectAmount', data=df, palette=\"colorblind\")\n",
    "        ax.set_title(f\"{col} vs projectAmount\", fontsize=30)\n",
    "        plt.xticks(rotation=45)\n",
    "        plt.show()"
   ]
  },
  {
   "cell_type": "code",
   "execution_count": 31,
   "metadata": {},
   "outputs": [],
   "source": [
    "categorical_plots(df)"
   ]
  },
  {
   "cell_type": "markdown",
   "metadata": {},
   "source": [
    "As we can see from the following vizuals above SRL () are the most costly hazard mitigation area that is being spent on"
   ]
  },
  {
   "cell_type": "markdown",
   "metadata": {},
   "source": [
    "# Outlier Removal"
   ]
  },
  {
   "cell_type": "code",
   "execution_count": 32,
   "metadata": {},
   "outputs": [],
   "source": [
    "# After researching outlier removal \n",
    "# and exploring our data it is best to do IQR type outlier removal methods\n",
    "\n",
    "def outliersiqr(data):\n",
    "    q1 = np.percentile(data, 25)\n",
    "    q3 = np.percentile(data, 75)\n",
    "    iqr = q3 - q1\n",
    "    threshold = iqr * 1.5\n",
    "    outliers = (data < q1 - threshold) | (data > q3 + threshold)\n",
    "    outliers = pd.Series(outliers, index=data.index)\n",
    "    return outliers"
   ]
  },
  {
   "cell_type": "code",
   "execution_count": 33,
   "metadata": {},
   "outputs": [],
   "source": [
    "# Function to make an outlier column which we will then remove outliers from\n",
    "def outlierscolumn(df, columns, verbose=True):\n",
    "    new_df = df.copy()\n",
    "    for col in columns:\n",
    "        outliers = outliersiqr(new_df[col])\n",
    "        if verbose:\n",
    "            print(f'{outliers.sum()} outliers found in {col}')\n",
    "        new_df[f'{col}_outliers'] = outliers\n",
    "    return new_df"
   ]
  },
  {
   "cell_type": "code",
   "execution_count": 34,
   "metadata": {},
   "outputs": [
    {
     "name": "stdout",
     "output_type": "stream",
     "text": [
      "0 outliers found in region\n",
      "0 outliers found in stateNumberCode\n",
      "3833 outliers found in projectAmount\n",
      "0 outliers found in programFy\n",
      "0 outliers found in granteeTribalIndicator\n",
      "4102 outliers found in benefitCostRatio\n",
      "4561 outliers found in netValueBenefits\n",
      "0 outliers found in Positive_ROI\n"
     ]
    }
   ],
   "source": [
    "# Feeding in the numerical columns for identifying outliers\n",
    "num_cols = list(df.select_dtypes('number').columns)\n",
    "\n",
    "# Saving the new dataframe with outlier columns added\n",
    "df2 = outlierscolumn(df, num_cols)"
   ]
  },
  {
   "cell_type": "code",
   "execution_count": 35,
   "metadata": {
    "scrolled": true
   },
   "outputs": [
    {
     "data": {
      "text/html": [
       "<div>\n",
       "<style scoped>\n",
       "    .dataframe tbody tr th:only-of-type {\n",
       "        vertical-align: middle;\n",
       "    }\n",
       "\n",
       "    .dataframe tbody tr th {\n",
       "        vertical-align: top;\n",
       "    }\n",
       "\n",
       "    .dataframe thead th {\n",
       "        text-align: right;\n",
       "    }\n",
       "</style>\n",
       "<table border=\"1\" class=\"dataframe\">\n",
       "  <thead>\n",
       "    <tr style=\"text-align: right;\">\n",
       "      <th></th>\n",
       "      <th>region</th>\n",
       "      <th>stateNumberCode</th>\n",
       "      <th>programArea</th>\n",
       "      <th>projectAmount</th>\n",
       "      <th>programFy</th>\n",
       "      <th>granteeTribalIndicator</th>\n",
       "      <th>benefitCostRatio</th>\n",
       "      <th>netValueBenefits</th>\n",
       "      <th>Positive_ROI</th>\n",
       "      <th>region_outliers</th>\n",
       "      <th>stateNumberCode_outliers</th>\n",
       "      <th>projectAmount_outliers</th>\n",
       "      <th>programFy_outliers</th>\n",
       "      <th>granteeTribalIndicator_outliers</th>\n",
       "      <th>benefitCostRatio_outliers</th>\n",
       "      <th>netValueBenefits_outliers</th>\n",
       "      <th>Positive_ROI_outliers</th>\n",
       "    </tr>\n",
       "  </thead>\n",
       "  <tbody>\n",
       "    <tr>\n",
       "      <td>0</td>\n",
       "      <td>6</td>\n",
       "      <td>48</td>\n",
       "      <td>HMGP</td>\n",
       "      <td>402910</td>\n",
       "      <td>2011</td>\n",
       "      <td>0.000</td>\n",
       "      <td>4</td>\n",
       "      <td>2969310</td>\n",
       "      <td>1</td>\n",
       "      <td>False</td>\n",
       "      <td>False</td>\n",
       "      <td>False</td>\n",
       "      <td>False</td>\n",
       "      <td>False</td>\n",
       "      <td>True</td>\n",
       "      <td>True</td>\n",
       "      <td>False</td>\n",
       "    </tr>\n",
       "    <tr>\n",
       "      <td>1</td>\n",
       "      <td>5</td>\n",
       "      <td>18</td>\n",
       "      <td>HMGP</td>\n",
       "      <td>366071</td>\n",
       "      <td>2011</td>\n",
       "      <td>0.000</td>\n",
       "      <td>1</td>\n",
       "      <td>961452</td>\n",
       "      <td>1</td>\n",
       "      <td>False</td>\n",
       "      <td>False</td>\n",
       "      <td>False</td>\n",
       "      <td>False</td>\n",
       "      <td>False</td>\n",
       "      <td>False</td>\n",
       "      <td>False</td>\n",
       "      <td>False</td>\n",
       "    </tr>\n",
       "    <tr>\n",
       "      <td>2</td>\n",
       "      <td>7</td>\n",
       "      <td>19</td>\n",
       "      <td>HMGP</td>\n",
       "      <td>96965</td>\n",
       "      <td>2011</td>\n",
       "      <td>0.000</td>\n",
       "      <td>0</td>\n",
       "      <td>0</td>\n",
       "      <td>0</td>\n",
       "      <td>False</td>\n",
       "      <td>False</td>\n",
       "      <td>False</td>\n",
       "      <td>False</td>\n",
       "      <td>False</td>\n",
       "      <td>False</td>\n",
       "      <td>False</td>\n",
       "      <td>False</td>\n",
       "    </tr>\n",
       "    <tr>\n",
       "      <td>3</td>\n",
       "      <td>2</td>\n",
       "      <td>36</td>\n",
       "      <td>HMGP</td>\n",
       "      <td>5932500</td>\n",
       "      <td>2011</td>\n",
       "      <td>0.000</td>\n",
       "      <td>0</td>\n",
       "      <td>0</td>\n",
       "      <td>0</td>\n",
       "      <td>False</td>\n",
       "      <td>False</td>\n",
       "      <td>True</td>\n",
       "      <td>False</td>\n",
       "      <td>False</td>\n",
       "      <td>False</td>\n",
       "      <td>False</td>\n",
       "      <td>False</td>\n",
       "    </tr>\n",
       "    <tr>\n",
       "      <td>4</td>\n",
       "      <td>7</td>\n",
       "      <td>19</td>\n",
       "      <td>HMGP</td>\n",
       "      <td>34245</td>\n",
       "      <td>2011</td>\n",
       "      <td>0.000</td>\n",
       "      <td>0</td>\n",
       "      <td>0</td>\n",
       "      <td>0</td>\n",
       "      <td>False</td>\n",
       "      <td>False</td>\n",
       "      <td>False</td>\n",
       "      <td>False</td>\n",
       "      <td>False</td>\n",
       "      <td>False</td>\n",
       "      <td>False</td>\n",
       "      <td>False</td>\n",
       "    </tr>\n",
       "  </tbody>\n",
       "</table>\n",
       "</div>"
      ],
      "text/plain": [
       "   region  stateNumberCode  ... netValueBenefits_outliers  Positive_ROI_outliers\n",
       "0       6               48  ...                      True                  False\n",
       "1       5               18  ...                     False                  False\n",
       "2       7               19  ...                     False                  False\n",
       "3       2               36  ...                     False                  False\n",
       "4       7               19  ...                     False                  False\n",
       "\n",
       "[5 rows x 17 columns]"
      ]
     },
     "execution_count": 35,
     "metadata": {},
     "output_type": "execute_result"
    }
   ],
   "source": [
    "df2.head()"
   ]
  },
  {
   "cell_type": "code",
   "execution_count": 36,
   "metadata": {},
   "outputs": [
    {
     "data": {
      "text/plain": [
       "['region_outliers',\n",
       " 'stateNumberCode_outliers',\n",
       " 'projectAmount_outliers',\n",
       " 'programFy_outliers',\n",
       " 'granteeTribalIndicator_outliers',\n",
       " 'benefitCostRatio_outliers',\n",
       " 'netValueBenefits_outliers',\n",
       " 'Positive_ROI_outliers']"
      ]
     },
     "execution_count": 36,
     "metadata": {},
     "output_type": "execute_result"
    }
   ],
   "source": [
    "# Creating a list of the outlier columns\n",
    "outliercols = []\n",
    "for col in df2.columns:\n",
    "    if 'outliers' in col:\n",
    "        outliercols.append(col)\n",
    "outliercols"
   ]
  },
  {
   "cell_type": "code",
   "execution_count": 37,
   "metadata": {},
   "outputs": [
    {
     "data": {
      "text/plain": [
       "(29576, 17)"
      ]
     },
     "execution_count": 37,
     "metadata": {},
     "output_type": "execute_result"
    }
   ],
   "source": [
    "df2.shape"
   ]
  },
  {
   "cell_type": "code",
   "execution_count": 38,
   "metadata": {},
   "outputs": [],
   "source": [
    "# Dropping columns that are either continous or boolean (yes or no, has or doesn't have)\n",
    "#df2= df2.drop(columns=['region_outliers', 'stateNumberCode_outliers', 'programFy_outliers'])"
   ]
  },
  {
   "cell_type": "code",
   "execution_count": 39,
   "metadata": {},
   "outputs": [
    {
     "data": {
      "text/plain": [
       "['region_outliers',\n",
       " 'stateNumberCode_outliers',\n",
       " 'projectAmount_outliers',\n",
       " 'programFy_outliers',\n",
       " 'granteeTribalIndicator_outliers',\n",
       " 'benefitCostRatio_outliers',\n",
       " 'netValueBenefits_outliers',\n",
       " 'Positive_ROI_outliers']"
      ]
     },
     "execution_count": 39,
     "metadata": {},
     "output_type": "execute_result"
    }
   ],
   "source": [
    "# Creating a list of the outlier columns\n",
    "outliercols = []\n",
    "for col in df2.columns:\n",
    "    if 'outliers' in col:\n",
    "        outliercols.append(col)\n",
    "outliercols"
   ]
  },
  {
   "cell_type": "code",
   "execution_count": 40,
   "metadata": {},
   "outputs": [
    {
     "data": {
      "text/plain": [
       "(21860, 17)"
      ]
     },
     "execution_count": 40,
     "metadata": {},
     "output_type": "execute_result"
    }
   ],
   "source": [
    "# Filtering the outliers out of my dataframe and returning only the entries\n",
    "# that are not outliers for any of the features\n",
    "for col in outliercols:\n",
    "    df2 = df2[(df2[col]==False)]\n",
    "df2.shape"
   ]
  },
  {
   "cell_type": "code",
   "execution_count": 41,
   "metadata": {},
   "outputs": [],
   "source": [
    "# Dropping the outlier columns that were added\n",
    "for col in outliercols:\n",
    "    df2.drop(columns=[col], axis=1, inplace=True)"
   ]
  },
  {
   "cell_type": "code",
   "execution_count": 42,
   "metadata": {
    "scrolled": true
   },
   "outputs": [
    {
     "name": "stdout",
     "output_type": "stream",
     "text": [
      "<class 'pandas.core.frame.DataFrame'>\n",
      "Int64Index: 21860 entries, 1 to 29627\n",
      "Data columns (total 9 columns):\n",
      "region                    21860 non-null int64\n",
      "stateNumberCode           21860 non-null int64\n",
      "programArea               21860 non-null object\n",
      "projectAmount             21860 non-null int64\n",
      "programFy                 21860 non-null int64\n",
      "granteeTribalIndicator    16466 non-null float64\n",
      "benefitCostRatio          21860 non-null int64\n",
      "netValueBenefits          21860 non-null int64\n",
      "Positive_ROI              21860 non-null int32\n",
      "dtypes: float64(1), int32(1), int64(6), object(1)\n",
      "memory usage: 1.6+ MB\n"
     ]
    }
   ],
   "source": [
    "df2.info()"
   ]
  },
  {
   "cell_type": "code",
   "execution_count": 43,
   "metadata": {},
   "outputs": [],
   "source": [
    "df=df2"
   ]
  },
  {
   "cell_type": "code",
   "execution_count": 44,
   "metadata": {},
   "outputs": [
    {
     "name": "stdout",
     "output_type": "stream",
     "text": [
      "<class 'pandas.core.frame.DataFrame'>\n",
      "Int64Index: 21860 entries, 1 to 29627\n",
      "Data columns (total 9 columns):\n",
      "region                    21860 non-null int64\n",
      "stateNumberCode           21860 non-null int64\n",
      "programArea               21860 non-null object\n",
      "projectAmount             21860 non-null int64\n",
      "programFy                 21860 non-null int64\n",
      "granteeTribalIndicator    16466 non-null float64\n",
      "benefitCostRatio          21860 non-null int64\n",
      "netValueBenefits          21860 non-null int64\n",
      "Positive_ROI              21860 non-null int32\n",
      "dtypes: float64(1), int32(1), int64(6), object(1)\n",
      "memory usage: 1.6+ MB\n"
     ]
    }
   ],
   "source": [
    "df.info()"
   ]
  },
  {
   "cell_type": "code",
   "execution_count": 45,
   "metadata": {
    "scrolled": true
   },
   "outputs": [
    {
     "data": {
      "text/plain": [
       "4     5906\n",
       "6     2800\n",
       "5     2097\n",
       "7     1776\n",
       "1     1704\n",
       "9     1689\n",
       "3     1657\n",
       "8     1580\n",
       "2     1545\n",
       "10    1106\n",
       "Name: region, dtype: int64"
      ]
     },
     "execution_count": 45,
     "metadata": {},
     "output_type": "execute_result"
    }
   ],
   "source": [
    "df.region.value_counts()"
   ]
  },
  {
   "cell_type": "code",
   "execution_count": 46,
   "metadata": {},
   "outputs": [
    {
     "data": {
      "text/plain": [
       "12    1493\n",
       "6     1242\n",
       "1     1175\n",
       "40     940\n",
       "13     794\n",
       "19     788\n",
       "48     777\n",
       "36     662\n",
       "28     653\n",
       "22     627\n",
       "21     585\n",
       "34     572\n",
       "46     564\n",
       "37     557\n",
       "42     505\n",
       "55     463\n",
       "39     445\n",
       "51     429\n",
       "27     428\n",
       "53     423\n",
       "38     410\n",
       "50     401\n",
       "31     380\n",
       "25     373\n",
       "26     339\n",
       "20     329\n",
       "47     325\n",
       "45     324\n",
       "5      320\n",
       "23     310\n",
       "33     303\n",
       "24     300\n",
       "41     282\n",
       "29     279\n",
       "54     278\n",
       "72     252\n",
       "17     241\n",
       "30     233\n",
       "2      204\n",
       "8      199\n",
       "16     197\n",
       "9      197\n",
       "18     181\n",
       "35     136\n",
       "4      135\n",
       "44     120\n",
       "10     109\n",
       "49     102\n",
       "15      85\n",
       "32      81\n",
       "56      72\n",
       "78      59\n",
       "69      51\n",
       "11      36\n",
       "64      31\n",
       "66      30\n",
       "60      22\n",
       "70       7\n",
       "68       5\n",
       "Name: stateNumberCode, dtype: int64"
      ]
     },
     "execution_count": 46,
     "metadata": {},
     "output_type": "execute_result"
    }
   ],
   "source": [
    "df.stateNumberCode.value_counts()"
   ]
  },
  {
   "cell_type": "code",
   "execution_count": 47,
   "metadata": {
    "scrolled": true
   },
   "outputs": [
    {
     "data": {
      "text/plain": [
       "HMGP    16109\n",
       "PDM      3209\n",
       "FMA      2106\n",
       "LPDM      196\n",
       "SRL       163\n",
       "RFC        77\n",
       "Name: programArea, dtype: int64"
      ]
     },
     "execution_count": 47,
     "metadata": {},
     "output_type": "execute_result"
    }
   ],
   "source": [
    "# Very important category as it shows why the mitigation is being done\n",
    "df.programArea.value_counts()"
   ]
  },
  {
   "cell_type": "code",
   "execution_count": 48,
   "metadata": {},
   "outputs": [
    {
     "data": {
      "text/plain": [
       "Text(0.5, 1.0, 'Program Area vs. Project Amount')"
      ]
     },
     "execution_count": 48,
     "metadata": {},
     "output_type": "execute_result"
    },
    {
     "data": {
      "image/png": "[encoded data removed]",
      "text/plain": [
       "<Figure size 432x288 with 1 Axes>"
      ]
     },
     "metadata": {
      "needs_background": "light"
     },
     "output_type": "display_data"
    }
   ],
   "source": [
    "ax = sns.barplot(x=\"programArea\", y=\"projectAmount\", data=df)\n",
    "ax.set_title('Program Area vs. Project Amount', fontsize = 18)"
   ]
  },
  {
   "cell_type": "code",
   "execution_count": 49,
   "metadata": {
    "scrolled": true
   },
   "outputs": [
    {
     "data": {
      "text/plain": [
       "Text(0.5, 1.0, 'Program Area vs. Project Amount')"
      ]
     },
     "execution_count": 49,
     "metadata": {},
     "output_type": "execute_result"
    },
    {
     "data": {
      "image/png": "[encoded data removed]",
      "text/plain": [
       "<Figure size 432x288 with 1 Axes>"
      ]
     },
     "metadata": {
      "needs_background": "light"
     },
     "output_type": "display_data"
    }
   ],
   "source": [
    "ax = sns.barplot(x=\"programArea\", y=\"projectAmount\", data=df, estimator=np.median)\n",
    "ax.set_title('Program Area vs. Project Amount', fontsize = 18)"
   ]
  },
  {
   "cell_type": "code",
   "execution_count": 50,
   "metadata": {},
   "outputs": [],
   "source": [
    "#df.projectIdentifier.value_counts()"
   ]
  },
  {
   "cell_type": "code",
   "execution_count": 51,
   "metadata": {},
   "outputs": [
    {
     "data": {
      "text/plain": [
       "40000     184\n",
       "50000     179\n",
       "100000    128\n",
       "25000     119\n",
       "20000     116\n",
       "         ... \n",
       "93047       1\n",
       "2748        1\n",
       "206832      1\n",
       "98400       1\n",
       "65536       1\n",
       "Name: projectAmount, Length: 16969, dtype: int64"
      ]
     },
     "execution_count": 51,
     "metadata": {},
     "output_type": "execute_result"
    }
   ],
   "source": [
    "df.projectAmount.value_counts()"
   ]
  },
  {
   "cell_type": "code",
   "execution_count": 52,
   "metadata": {
    "scrolled": true
   },
   "outputs": [
    {
     "data": {
      "text/plain": [
       "2011    1665\n",
       "2005    1299\n",
       "2017    1215\n",
       "2008    1107\n",
       "1998    1061\n",
       "2013     993\n",
       "2007     990\n",
       "2010     955\n",
       "2009     938\n",
       "2001     820\n",
       "2004     806\n",
       "2003     779\n",
       "2016     777\n",
       "2014     765\n",
       "1997     719\n",
       "2002     702\n",
       "2015     700\n",
       "2018     695\n",
       "1996     665\n",
       "1994     606\n",
       "2000     518\n",
       "2019     508\n",
       "1999     502\n",
       "2012     494\n",
       "2006     408\n",
       "1995     273\n",
       "1993     268\n",
       "1992     215\n",
       "1990     162\n",
       "1991     147\n",
       "1989      97\n",
       "2020      11\n",
       "Name: programFy, dtype: int64"
      ]
     },
     "execution_count": 52,
     "metadata": {},
     "output_type": "execute_result"
    }
   ],
   "source": [
    "df.programFy.value_counts()"
   ]
  },
  {
   "cell_type": "code",
   "execution_count": 53,
   "metadata": {},
   "outputs": [],
   "source": [
    "df = df[(df['projectAmount']>1998)]"
   ]
  },
  {
   "cell_type": "code",
   "execution_count": 54,
   "metadata": {
    "scrolled": true
   },
   "outputs": [
    {
     "data": {
      "text/plain": [
       "0    14049\n",
       "1     6234\n",
       "2     1342\n",
       "Name: benefitCostRatio, dtype: int64"
      ]
     },
     "execution_count": 54,
     "metadata": {},
     "output_type": "execute_result"
    }
   ],
   "source": [
    "df.benefitCostRatio.value_counts()"
   ]
  },
  {
   "cell_type": "code",
   "execution_count": 55,
   "metadata": {},
   "outputs": [
    {
     "data": {
      "text/plain": [
       "0         13795\n",
       "21420       311\n",
       "1           140\n",
       "276000       82\n",
       "175000       35\n",
       "          ...  \n",
       "372320        1\n",
       "124214        1\n",
       "105785        1\n",
       "48445         1\n",
       "215137        1\n",
       "Name: netValueBenefits, Length: 6608, dtype: int64"
      ]
     },
     "execution_count": 55,
     "metadata": {},
     "output_type": "execute_result"
    }
   ],
   "source": [
    "df.netValueBenefits.value_counts()"
   ]
  },
  {
   "cell_type": "code",
   "execution_count": 56,
   "metadata": {},
   "outputs": [
    {
     "name": "stdout",
     "output_type": "stream",
     "text": [
      "<class 'pandas.core.frame.DataFrame'>\n",
      "Int64Index: 21625 entries, 1 to 29627\n",
      "Data columns (total 9 columns):\n",
      "region                    21625 non-null int64\n",
      "stateNumberCode           21625 non-null int64\n",
      "programArea               21625 non-null object\n",
      "projectAmount             21625 non-null int64\n",
      "programFy                 21625 non-null int64\n",
      "granteeTribalIndicator    16337 non-null float64\n",
      "benefitCostRatio          21625 non-null int64\n",
      "netValueBenefits          21625 non-null int64\n",
      "Positive_ROI              21625 non-null int32\n",
      "dtypes: float64(1), int32(1), int64(6), object(1)\n",
      "memory usage: 1.6+ MB\n"
     ]
    }
   ],
   "source": [
    "df.info()"
   ]
  },
  {
   "cell_type": "markdown",
   "metadata": {},
   "source": [
    "# One Hot Encoding and EDA"
   ]
  },
  {
   "cell_type": "code",
   "execution_count": 57,
   "metadata": {
    "scrolled": true
   },
   "outputs": [
    {
     "name": "stdout",
     "output_type": "stream",
     "text": [
      "region 10\n",
      "stateNumberCode 59\n",
      "programArea 6\n",
      "projectAmount 16763\n",
      "programFy 32\n",
      "granteeTribalIndicator 2\n",
      "benefitCostRatio 3\n",
      "netValueBenefits 6608\n",
      "Positive_ROI 2\n"
     ]
    }
   ],
   "source": [
    "for col in df.columns:\n",
    "    print(col, df[col].nunique())"
   ]
  },
  {
   "cell_type": "code",
   "execution_count": 58,
   "metadata": {
    "scrolled": true
   },
   "outputs": [
    {
     "data": {
      "text/plain": [
       "<matplotlib.axes._subplots.AxesSubplot at 0x1ce19ff7b00>"
      ]
     },
     "execution_count": 58,
     "metadata": {},
     "output_type": "execute_result"
    },
    {
     "data": {
      "image/png": "[encoded data removed]",
      "text/plain": [
       "<Figure size 432x288 with 1 Axes>"
      ]
     },
     "metadata": {
      "needs_background": "light"
     },
     "output_type": "display_data"
    }
   ],
   "source": [
    "sns.distplot(df['projectAmount'], bins='auto')"
   ]
  },
  {
   "cell_type": "markdown",
   "metadata": {},
   "source": [
    "**From the distplot we can see that there is a large skew that needs to be addressed. We will further remove the extreme outliers in projectAmount.**"
   ]
  },
  {
   "cell_type": "code",
   "execution_count": 59,
   "metadata": {},
   "outputs": [
    {
     "data": {
      "text/plain": [
       "(21625, 9)"
      ]
     },
     "execution_count": 59,
     "metadata": {},
     "output_type": "execute_result"
    }
   ],
   "source": [
    "df.shape"
   ]
  },
  {
   "cell_type": "code",
   "execution_count": 60,
   "metadata": {},
   "outputs": [],
   "source": [
    "# The outliers need to be addressed\n",
    "df = df[(df['projectAmount']<500000)]"
   ]
  },
  {
   "cell_type": "code",
   "execution_count": 61,
   "metadata": {
    "scrolled": true
   },
   "outputs": [
    {
     "data": {
      "text/plain": [
       "<matplotlib.axes._subplots.AxesSubplot at 0x1ce19d01748>"
      ]
     },
     "execution_count": 61,
     "metadata": {},
     "output_type": "execute_result"
    },
    {
     "data": {
      "image/png": "[encoded data removed]",
      "text/plain": [
       "<Figure size 432x288 with 1 Axes>"
      ]
     },
     "metadata": {
      "needs_background": "light"
     },
     "output_type": "display_data"
    }
   ],
   "source": [
    "sns.distplot(df['projectAmount'], bins='auto')"
   ]
  },
  {
   "cell_type": "code",
   "execution_count": 62,
   "metadata": {},
   "outputs": [
    {
     "data": {
      "text/plain": [
       "(19721, 9)"
      ]
     },
     "execution_count": 62,
     "metadata": {},
     "output_type": "execute_result"
    }
   ],
   "source": [
    "df.shape"
   ]
  },
  {
   "cell_type": "code",
   "execution_count": 63,
   "metadata": {},
   "outputs": [],
   "source": [
    "df['region'] = df['region'].astype('category') \n",
    "df['stateNumberCode'] = df['stateNumberCode'].astype('category') \n",
    "df['programFy'] = df['programFy'].astype('category')"
   ]
  },
  {
   "cell_type": "code",
   "execution_count": 64,
   "metadata": {
    "scrolled": true
   },
   "outputs": [
    {
     "data": {
      "text/html": [
       "<div>\n",
       "<style scoped>\n",
       "    .dataframe tbody tr th:only-of-type {\n",
       "        vertical-align: middle;\n",
       "    }\n",
       "\n",
       "    .dataframe tbody tr th {\n",
       "        vertical-align: top;\n",
       "    }\n",
       "\n",
       "    .dataframe thead th {\n",
       "        text-align: right;\n",
       "    }\n",
       "</style>\n",
       "<table border=\"1\" class=\"dataframe\">\n",
       "  <thead>\n",
       "    <tr style=\"text-align: right;\">\n",
       "      <th></th>\n",
       "      <th>projectAmount</th>\n",
       "      <th>granteeTribalIndicator</th>\n",
       "      <th>benefitCostRatio</th>\n",
       "      <th>netValueBenefits</th>\n",
       "      <th>Positive_ROI</th>\n",
       "      <th>region_1</th>\n",
       "      <th>region_2</th>\n",
       "      <th>region_3</th>\n",
       "      <th>region_4</th>\n",
       "      <th>region_5</th>\n",
       "      <th>region_6</th>\n",
       "      <th>region_7</th>\n",
       "      <th>region_8</th>\n",
       "      <th>region_9</th>\n",
       "      <th>region_10</th>\n",
       "      <th>stateNumberCode_1</th>\n",
       "      <th>stateNumberCode_2</th>\n",
       "      <th>stateNumberCode_4</th>\n",
       "      <th>stateNumberCode_5</th>\n",
       "      <th>stateNumberCode_6</th>\n",
       "      <th>stateNumberCode_8</th>\n",
       "      <th>stateNumberCode_9</th>\n",
       "      <th>stateNumberCode_10</th>\n",
       "      <th>stateNumberCode_11</th>\n",
       "      <th>stateNumberCode_12</th>\n",
       "      <th>stateNumberCode_13</th>\n",
       "      <th>stateNumberCode_15</th>\n",
       "      <th>stateNumberCode_16</th>\n",
       "      <th>stateNumberCode_17</th>\n",
       "      <th>stateNumberCode_18</th>\n",
       "      <th>stateNumberCode_19</th>\n",
       "      <th>stateNumberCode_20</th>\n",
       "      <th>stateNumberCode_21</th>\n",
       "      <th>stateNumberCode_22</th>\n",
       "      <th>stateNumberCode_23</th>\n",
       "      <th>stateNumberCode_24</th>\n",
       "      <th>stateNumberCode_25</th>\n",
       "      <th>stateNumberCode_26</th>\n",
       "      <th>stateNumberCode_27</th>\n",
       "      <th>stateNumberCode_28</th>\n",
       "      <th>...</th>\n",
       "      <th>stateNumberCode_72</th>\n",
       "      <th>stateNumberCode_78</th>\n",
       "      <th>programArea_FMA</th>\n",
       "      <th>programArea_HMGP</th>\n",
       "      <th>programArea_LPDM</th>\n",
       "      <th>programArea_PDM</th>\n",
       "      <th>programArea_RFC</th>\n",
       "      <th>programArea_SRL</th>\n",
       "      <th>programFy_1989</th>\n",
       "      <th>programFy_1990</th>\n",
       "      <th>programFy_1991</th>\n",
       "      <th>programFy_1992</th>\n",
       "      <th>programFy_1993</th>\n",
       "      <th>programFy_1994</th>\n",
       "      <th>programFy_1995</th>\n",
       "      <th>programFy_1996</th>\n",
       "      <th>programFy_1997</th>\n",
       "      <th>programFy_1998</th>\n",
       "      <th>programFy_1999</th>\n",
       "      <th>programFy_2000</th>\n",
       "      <th>programFy_2001</th>\n",
       "      <th>programFy_2002</th>\n",
       "      <th>programFy_2003</th>\n",
       "      <th>programFy_2004</th>\n",
       "      <th>programFy_2005</th>\n",
       "      <th>programFy_2006</th>\n",
       "      <th>programFy_2007</th>\n",
       "      <th>programFy_2008</th>\n",
       "      <th>programFy_2009</th>\n",
       "      <th>programFy_2010</th>\n",
       "      <th>programFy_2011</th>\n",
       "      <th>programFy_2012</th>\n",
       "      <th>programFy_2013</th>\n",
       "      <th>programFy_2014</th>\n",
       "      <th>programFy_2015</th>\n",
       "      <th>programFy_2016</th>\n",
       "      <th>programFy_2017</th>\n",
       "      <th>programFy_2018</th>\n",
       "      <th>programFy_2019</th>\n",
       "      <th>programFy_2020</th>\n",
       "    </tr>\n",
       "  </thead>\n",
       "  <tbody>\n",
       "    <tr>\n",
       "      <td>1</td>\n",
       "      <td>366071</td>\n",
       "      <td>0.000</td>\n",
       "      <td>1</td>\n",
       "      <td>961452</td>\n",
       "      <td>1</td>\n",
       "      <td>0</td>\n",
       "      <td>0</td>\n",
       "      <td>0</td>\n",
       "      <td>0</td>\n",
       "      <td>1</td>\n",
       "      <td>0</td>\n",
       "      <td>0</td>\n",
       "      <td>0</td>\n",
       "      <td>0</td>\n",
       "      <td>0</td>\n",
       "      <td>0</td>\n",
       "      <td>0</td>\n",
       "      <td>0</td>\n",
       "      <td>0</td>\n",
       "      <td>0</td>\n",
       "      <td>0</td>\n",
       "      <td>0</td>\n",
       "      <td>0</td>\n",
       "      <td>0</td>\n",
       "      <td>0</td>\n",
       "      <td>0</td>\n",
       "      <td>0</td>\n",
       "      <td>0</td>\n",
       "      <td>0</td>\n",
       "      <td>1</td>\n",
       "      <td>0</td>\n",
       "      <td>0</td>\n",
       "      <td>0</td>\n",
       "      <td>0</td>\n",
       "      <td>0</td>\n",
       "      <td>0</td>\n",
       "      <td>0</td>\n",
       "      <td>0</td>\n",
       "      <td>0</td>\n",
       "      <td>0</td>\n",
       "      <td>...</td>\n",
       "      <td>0</td>\n",
       "      <td>0</td>\n",
       "      <td>0</td>\n",
       "      <td>1</td>\n",
       "      <td>0</td>\n",
       "      <td>0</td>\n",
       "      <td>0</td>\n",
       "      <td>0</td>\n",
       "      <td>0</td>\n",
       "      <td>0</td>\n",
       "      <td>0</td>\n",
       "      <td>0</td>\n",
       "      <td>0</td>\n",
       "      <td>0</td>\n",
       "      <td>0</td>\n",
       "      <td>0</td>\n",
       "      <td>0</td>\n",
       "      <td>0</td>\n",
       "      <td>0</td>\n",
       "      <td>0</td>\n",
       "      <td>0</td>\n",
       "      <td>0</td>\n",
       "      <td>0</td>\n",
       "      <td>0</td>\n",
       "      <td>0</td>\n",
       "      <td>0</td>\n",
       "      <td>0</td>\n",
       "      <td>0</td>\n",
       "      <td>0</td>\n",
       "      <td>0</td>\n",
       "      <td>1</td>\n",
       "      <td>0</td>\n",
       "      <td>0</td>\n",
       "      <td>0</td>\n",
       "      <td>0</td>\n",
       "      <td>0</td>\n",
       "      <td>0</td>\n",
       "      <td>0</td>\n",
       "      <td>0</td>\n",
       "      <td>0</td>\n",
       "    </tr>\n",
       "    <tr>\n",
       "      <td>2</td>\n",
       "      <td>96965</td>\n",
       "      <td>0.000</td>\n",
       "      <td>0</td>\n",
       "      <td>0</td>\n",
       "      <td>0</td>\n",
       "      <td>0</td>\n",
       "      <td>0</td>\n",
       "      <td>0</td>\n",
       "      <td>0</td>\n",
       "      <td>0</td>\n",
       "      <td>0</td>\n",
       "      <td>1</td>\n",
       "      <td>0</td>\n",
       "      <td>0</td>\n",
       "      <td>0</td>\n",
       "      <td>0</td>\n",
       "      <td>0</td>\n",
       "      <td>0</td>\n",
       "      <td>0</td>\n",
       "      <td>0</td>\n",
       "      <td>0</td>\n",
       "      <td>0</td>\n",
       "      <td>0</td>\n",
       "      <td>0</td>\n",
       "      <td>0</td>\n",
       "      <td>0</td>\n",
       "      <td>0</td>\n",
       "      <td>0</td>\n",
       "      <td>0</td>\n",
       "      <td>0</td>\n",
       "      <td>1</td>\n",
       "      <td>0</td>\n",
       "      <td>0</td>\n",
       "      <td>0</td>\n",
       "      <td>0</td>\n",
       "      <td>0</td>\n",
       "      <td>0</td>\n",
       "      <td>0</td>\n",
       "      <td>0</td>\n",
       "      <td>0</td>\n",
       "      <td>...</td>\n",
       "      <td>0</td>\n",
       "      <td>0</td>\n",
       "      <td>0</td>\n",
       "      <td>1</td>\n",
       "      <td>0</td>\n",
       "      <td>0</td>\n",
       "      <td>0</td>\n",
       "      <td>0</td>\n",
       "      <td>0</td>\n",
       "      <td>0</td>\n",
       "      <td>0</td>\n",
       "      <td>0</td>\n",
       "      <td>0</td>\n",
       "      <td>0</td>\n",
       "      <td>0</td>\n",
       "      <td>0</td>\n",
       "      <td>0</td>\n",
       "      <td>0</td>\n",
       "      <td>0</td>\n",
       "      <td>0</td>\n",
       "      <td>0</td>\n",
       "      <td>0</td>\n",
       "      <td>0</td>\n",
       "      <td>0</td>\n",
       "      <td>0</td>\n",
       "      <td>0</td>\n",
       "      <td>0</td>\n",
       "      <td>0</td>\n",
       "      <td>0</td>\n",
       "      <td>0</td>\n",
       "      <td>1</td>\n",
       "      <td>0</td>\n",
       "      <td>0</td>\n",
       "      <td>0</td>\n",
       "      <td>0</td>\n",
       "      <td>0</td>\n",
       "      <td>0</td>\n",
       "      <td>0</td>\n",
       "      <td>0</td>\n",
       "      <td>0</td>\n",
       "    </tr>\n",
       "    <tr>\n",
       "      <td>4</td>\n",
       "      <td>34245</td>\n",
       "      <td>0.000</td>\n",
       "      <td>0</td>\n",
       "      <td>0</td>\n",
       "      <td>0</td>\n",
       "      <td>0</td>\n",
       "      <td>0</td>\n",
       "      <td>0</td>\n",
       "      <td>0</td>\n",
       "      <td>0</td>\n",
       "      <td>0</td>\n",
       "      <td>1</td>\n",
       "      <td>0</td>\n",
       "      <td>0</td>\n",
       "      <td>0</td>\n",
       "      <td>0</td>\n",
       "      <td>0</td>\n",
       "      <td>0</td>\n",
       "      <td>0</td>\n",
       "      <td>0</td>\n",
       "      <td>0</td>\n",
       "      <td>0</td>\n",
       "      <td>0</td>\n",
       "      <td>0</td>\n",
       "      <td>0</td>\n",
       "      <td>0</td>\n",
       "      <td>0</td>\n",
       "      <td>0</td>\n",
       "      <td>0</td>\n",
       "      <td>0</td>\n",
       "      <td>1</td>\n",
       "      <td>0</td>\n",
       "      <td>0</td>\n",
       "      <td>0</td>\n",
       "      <td>0</td>\n",
       "      <td>0</td>\n",
       "      <td>0</td>\n",
       "      <td>0</td>\n",
       "      <td>0</td>\n",
       "      <td>0</td>\n",
       "      <td>...</td>\n",
       "      <td>0</td>\n",
       "      <td>0</td>\n",
       "      <td>0</td>\n",
       "      <td>1</td>\n",
       "      <td>0</td>\n",
       "      <td>0</td>\n",
       "      <td>0</td>\n",
       "      <td>0</td>\n",
       "      <td>0</td>\n",
       "      <td>0</td>\n",
       "      <td>0</td>\n",
       "      <td>0</td>\n",
       "      <td>0</td>\n",
       "      <td>0</td>\n",
       "      <td>0</td>\n",
       "      <td>0</td>\n",
       "      <td>0</td>\n",
       "      <td>0</td>\n",
       "      <td>0</td>\n",
       "      <td>0</td>\n",
       "      <td>0</td>\n",
       "      <td>0</td>\n",
       "      <td>0</td>\n",
       "      <td>0</td>\n",
       "      <td>0</td>\n",
       "      <td>0</td>\n",
       "      <td>0</td>\n",
       "      <td>0</td>\n",
       "      <td>0</td>\n",
       "      <td>0</td>\n",
       "      <td>1</td>\n",
       "      <td>0</td>\n",
       "      <td>0</td>\n",
       "      <td>0</td>\n",
       "      <td>0</td>\n",
       "      <td>0</td>\n",
       "      <td>0</td>\n",
       "      <td>0</td>\n",
       "      <td>0</td>\n",
       "      <td>0</td>\n",
       "    </tr>\n",
       "    <tr>\n",
       "      <td>9</td>\n",
       "      <td>25609</td>\n",
       "      <td>0.000</td>\n",
       "      <td>0</td>\n",
       "      <td>0</td>\n",
       "      <td>0</td>\n",
       "      <td>0</td>\n",
       "      <td>0</td>\n",
       "      <td>0</td>\n",
       "      <td>0</td>\n",
       "      <td>0</td>\n",
       "      <td>0</td>\n",
       "      <td>0</td>\n",
       "      <td>1</td>\n",
       "      <td>0</td>\n",
       "      <td>0</td>\n",
       "      <td>0</td>\n",
       "      <td>0</td>\n",
       "      <td>0</td>\n",
       "      <td>0</td>\n",
       "      <td>0</td>\n",
       "      <td>0</td>\n",
       "      <td>0</td>\n",
       "      <td>0</td>\n",
       "      <td>0</td>\n",
       "      <td>0</td>\n",
       "      <td>0</td>\n",
       "      <td>0</td>\n",
       "      <td>0</td>\n",
       "      <td>0</td>\n",
       "      <td>0</td>\n",
       "      <td>0</td>\n",
       "      <td>0</td>\n",
       "      <td>0</td>\n",
       "      <td>0</td>\n",
       "      <td>0</td>\n",
       "      <td>0</td>\n",
       "      <td>0</td>\n",
       "      <td>0</td>\n",
       "      <td>0</td>\n",
       "      <td>0</td>\n",
       "      <td>...</td>\n",
       "      <td>0</td>\n",
       "      <td>0</td>\n",
       "      <td>0</td>\n",
       "      <td>1</td>\n",
       "      <td>0</td>\n",
       "      <td>0</td>\n",
       "      <td>0</td>\n",
       "      <td>0</td>\n",
       "      <td>0</td>\n",
       "      <td>0</td>\n",
       "      <td>0</td>\n",
       "      <td>0</td>\n",
       "      <td>0</td>\n",
       "      <td>0</td>\n",
       "      <td>0</td>\n",
       "      <td>0</td>\n",
       "      <td>0</td>\n",
       "      <td>0</td>\n",
       "      <td>0</td>\n",
       "      <td>0</td>\n",
       "      <td>0</td>\n",
       "      <td>0</td>\n",
       "      <td>0</td>\n",
       "      <td>0</td>\n",
       "      <td>0</td>\n",
       "      <td>0</td>\n",
       "      <td>0</td>\n",
       "      <td>0</td>\n",
       "      <td>0</td>\n",
       "      <td>0</td>\n",
       "      <td>1</td>\n",
       "      <td>0</td>\n",
       "      <td>0</td>\n",
       "      <td>0</td>\n",
       "      <td>0</td>\n",
       "      <td>0</td>\n",
       "      <td>0</td>\n",
       "      <td>0</td>\n",
       "      <td>0</td>\n",
       "      <td>0</td>\n",
       "    </tr>\n",
       "    <tr>\n",
       "      <td>10</td>\n",
       "      <td>109900</td>\n",
       "      <td>0.000</td>\n",
       "      <td>0</td>\n",
       "      <td>108817</td>\n",
       "      <td>0</td>\n",
       "      <td>0</td>\n",
       "      <td>1</td>\n",
       "      <td>0</td>\n",
       "      <td>0</td>\n",
       "      <td>0</td>\n",
       "      <td>0</td>\n",
       "      <td>0</td>\n",
       "      <td>0</td>\n",
       "      <td>0</td>\n",
       "      <td>0</td>\n",
       "      <td>0</td>\n",
       "      <td>0</td>\n",
       "      <td>0</td>\n",
       "      <td>0</td>\n",
       "      <td>0</td>\n",
       "      <td>0</td>\n",
       "      <td>0</td>\n",
       "      <td>0</td>\n",
       "      <td>0</td>\n",
       "      <td>0</td>\n",
       "      <td>0</td>\n",
       "      <td>0</td>\n",
       "      <td>0</td>\n",
       "      <td>0</td>\n",
       "      <td>0</td>\n",
       "      <td>0</td>\n",
       "      <td>0</td>\n",
       "      <td>0</td>\n",
       "      <td>0</td>\n",
       "      <td>0</td>\n",
       "      <td>0</td>\n",
       "      <td>0</td>\n",
       "      <td>0</td>\n",
       "      <td>0</td>\n",
       "      <td>0</td>\n",
       "      <td>...</td>\n",
       "      <td>0</td>\n",
       "      <td>0</td>\n",
       "      <td>0</td>\n",
       "      <td>1</td>\n",
       "      <td>0</td>\n",
       "      <td>0</td>\n",
       "      <td>0</td>\n",
       "      <td>0</td>\n",
       "      <td>0</td>\n",
       "      <td>0</td>\n",
       "      <td>0</td>\n",
       "      <td>0</td>\n",
       "      <td>0</td>\n",
       "      <td>0</td>\n",
       "      <td>0</td>\n",
       "      <td>0</td>\n",
       "      <td>0</td>\n",
       "      <td>0</td>\n",
       "      <td>0</td>\n",
       "      <td>0</td>\n",
       "      <td>0</td>\n",
       "      <td>0</td>\n",
       "      <td>0</td>\n",
       "      <td>0</td>\n",
       "      <td>0</td>\n",
       "      <td>0</td>\n",
       "      <td>0</td>\n",
       "      <td>0</td>\n",
       "      <td>0</td>\n",
       "      <td>0</td>\n",
       "      <td>1</td>\n",
       "      <td>0</td>\n",
       "      <td>0</td>\n",
       "      <td>0</td>\n",
       "      <td>0</td>\n",
       "      <td>0</td>\n",
       "      <td>0</td>\n",
       "      <td>0</td>\n",
       "      <td>0</td>\n",
       "      <td>0</td>\n",
       "    </tr>\n",
       "    <tr>\n",
       "      <td>...</td>\n",
       "      <td>...</td>\n",
       "      <td>...</td>\n",
       "      <td>...</td>\n",
       "      <td>...</td>\n",
       "      <td>...</td>\n",
       "      <td>...</td>\n",
       "      <td>...</td>\n",
       "      <td>...</td>\n",
       "      <td>...</td>\n",
       "      <td>...</td>\n",
       "      <td>...</td>\n",
       "      <td>...</td>\n",
       "      <td>...</td>\n",
       "      <td>...</td>\n",
       "      <td>...</td>\n",
       "      <td>...</td>\n",
       "      <td>...</td>\n",
       "      <td>...</td>\n",
       "      <td>...</td>\n",
       "      <td>...</td>\n",
       "      <td>...</td>\n",
       "      <td>...</td>\n",
       "      <td>...</td>\n",
       "      <td>...</td>\n",
       "      <td>...</td>\n",
       "      <td>...</td>\n",
       "      <td>...</td>\n",
       "      <td>...</td>\n",
       "      <td>...</td>\n",
       "      <td>...</td>\n",
       "      <td>...</td>\n",
       "      <td>...</td>\n",
       "      <td>...</td>\n",
       "      <td>...</td>\n",
       "      <td>...</td>\n",
       "      <td>...</td>\n",
       "      <td>...</td>\n",
       "      <td>...</td>\n",
       "      <td>...</td>\n",
       "      <td>...</td>\n",
       "      <td>...</td>\n",
       "      <td>...</td>\n",
       "      <td>...</td>\n",
       "      <td>...</td>\n",
       "      <td>...</td>\n",
       "      <td>...</td>\n",
       "      <td>...</td>\n",
       "      <td>...</td>\n",
       "      <td>...</td>\n",
       "      <td>...</td>\n",
       "      <td>...</td>\n",
       "      <td>...</td>\n",
       "      <td>...</td>\n",
       "      <td>...</td>\n",
       "      <td>...</td>\n",
       "      <td>...</td>\n",
       "      <td>...</td>\n",
       "      <td>...</td>\n",
       "      <td>...</td>\n",
       "      <td>...</td>\n",
       "      <td>...</td>\n",
       "      <td>...</td>\n",
       "      <td>...</td>\n",
       "      <td>...</td>\n",
       "      <td>...</td>\n",
       "      <td>...</td>\n",
       "      <td>...</td>\n",
       "      <td>...</td>\n",
       "      <td>...</td>\n",
       "      <td>...</td>\n",
       "      <td>...</td>\n",
       "      <td>...</td>\n",
       "      <td>...</td>\n",
       "      <td>...</td>\n",
       "      <td>...</td>\n",
       "      <td>...</td>\n",
       "      <td>...</td>\n",
       "      <td>...</td>\n",
       "      <td>...</td>\n",
       "      <td>...</td>\n",
       "      <td>...</td>\n",
       "    </tr>\n",
       "    <tr>\n",
       "      <td>29619</td>\n",
       "      <td>356900</td>\n",
       "      <td>0.000</td>\n",
       "      <td>0</td>\n",
       "      <td>0</td>\n",
       "      <td>0</td>\n",
       "      <td>0</td>\n",
       "      <td>0</td>\n",
       "      <td>0</td>\n",
       "      <td>0</td>\n",
       "      <td>1</td>\n",
       "      <td>0</td>\n",
       "      <td>0</td>\n",
       "      <td>0</td>\n",
       "      <td>0</td>\n",
       "      <td>0</td>\n",
       "      <td>0</td>\n",
       "      <td>0</td>\n",
       "      <td>0</td>\n",
       "      <td>0</td>\n",
       "      <td>0</td>\n",
       "      <td>0</td>\n",
       "      <td>0</td>\n",
       "      <td>0</td>\n",
       "      <td>0</td>\n",
       "      <td>0</td>\n",
       "      <td>0</td>\n",
       "      <td>0</td>\n",
       "      <td>0</td>\n",
       "      <td>0</td>\n",
       "      <td>0</td>\n",
       "      <td>0</td>\n",
       "      <td>0</td>\n",
       "      <td>0</td>\n",
       "      <td>0</td>\n",
       "      <td>0</td>\n",
       "      <td>0</td>\n",
       "      <td>0</td>\n",
       "      <td>0</td>\n",
       "      <td>0</td>\n",
       "      <td>0</td>\n",
       "      <td>...</td>\n",
       "      <td>0</td>\n",
       "      <td>0</td>\n",
       "      <td>0</td>\n",
       "      <td>1</td>\n",
       "      <td>0</td>\n",
       "      <td>0</td>\n",
       "      <td>0</td>\n",
       "      <td>0</td>\n",
       "      <td>0</td>\n",
       "      <td>0</td>\n",
       "      <td>0</td>\n",
       "      <td>0</td>\n",
       "      <td>0</td>\n",
       "      <td>0</td>\n",
       "      <td>0</td>\n",
       "      <td>0</td>\n",
       "      <td>0</td>\n",
       "      <td>0</td>\n",
       "      <td>0</td>\n",
       "      <td>0</td>\n",
       "      <td>0</td>\n",
       "      <td>0</td>\n",
       "      <td>0</td>\n",
       "      <td>0</td>\n",
       "      <td>0</td>\n",
       "      <td>0</td>\n",
       "      <td>0</td>\n",
       "      <td>0</td>\n",
       "      <td>0</td>\n",
       "      <td>0</td>\n",
       "      <td>0</td>\n",
       "      <td>0</td>\n",
       "      <td>0</td>\n",
       "      <td>0</td>\n",
       "      <td>0</td>\n",
       "      <td>0</td>\n",
       "      <td>0</td>\n",
       "      <td>0</td>\n",
       "      <td>1</td>\n",
       "      <td>0</td>\n",
       "    </tr>\n",
       "    <tr>\n",
       "      <td>29620</td>\n",
       "      <td>25000</td>\n",
       "      <td>0.000</td>\n",
       "      <td>0</td>\n",
       "      <td>0</td>\n",
       "      <td>0</td>\n",
       "      <td>0</td>\n",
       "      <td>0</td>\n",
       "      <td>0</td>\n",
       "      <td>0</td>\n",
       "      <td>0</td>\n",
       "      <td>0</td>\n",
       "      <td>1</td>\n",
       "      <td>0</td>\n",
       "      <td>0</td>\n",
       "      <td>0</td>\n",
       "      <td>0</td>\n",
       "      <td>0</td>\n",
       "      <td>0</td>\n",
       "      <td>0</td>\n",
       "      <td>0</td>\n",
       "      <td>0</td>\n",
       "      <td>0</td>\n",
       "      <td>0</td>\n",
       "      <td>0</td>\n",
       "      <td>0</td>\n",
       "      <td>0</td>\n",
       "      <td>0</td>\n",
       "      <td>0</td>\n",
       "      <td>0</td>\n",
       "      <td>0</td>\n",
       "      <td>0</td>\n",
       "      <td>0</td>\n",
       "      <td>0</td>\n",
       "      <td>0</td>\n",
       "      <td>0</td>\n",
       "      <td>0</td>\n",
       "      <td>0</td>\n",
       "      <td>0</td>\n",
       "      <td>0</td>\n",
       "      <td>0</td>\n",
       "      <td>...</td>\n",
       "      <td>0</td>\n",
       "      <td>0</td>\n",
       "      <td>0</td>\n",
       "      <td>1</td>\n",
       "      <td>0</td>\n",
       "      <td>0</td>\n",
       "      <td>0</td>\n",
       "      <td>0</td>\n",
       "      <td>0</td>\n",
       "      <td>0</td>\n",
       "      <td>0</td>\n",
       "      <td>0</td>\n",
       "      <td>0</td>\n",
       "      <td>0</td>\n",
       "      <td>0</td>\n",
       "      <td>0</td>\n",
       "      <td>0</td>\n",
       "      <td>0</td>\n",
       "      <td>0</td>\n",
       "      <td>0</td>\n",
       "      <td>0</td>\n",
       "      <td>0</td>\n",
       "      <td>0</td>\n",
       "      <td>0</td>\n",
       "      <td>0</td>\n",
       "      <td>0</td>\n",
       "      <td>0</td>\n",
       "      <td>0</td>\n",
       "      <td>0</td>\n",
       "      <td>0</td>\n",
       "      <td>0</td>\n",
       "      <td>0</td>\n",
       "      <td>0</td>\n",
       "      <td>0</td>\n",
       "      <td>0</td>\n",
       "      <td>0</td>\n",
       "      <td>0</td>\n",
       "      <td>0</td>\n",
       "      <td>1</td>\n",
       "      <td>0</td>\n",
       "    </tr>\n",
       "    <tr>\n",
       "      <td>29622</td>\n",
       "      <td>8720</td>\n",
       "      <td>0.000</td>\n",
       "      <td>0</td>\n",
       "      <td>0</td>\n",
       "      <td>0</td>\n",
       "      <td>0</td>\n",
       "      <td>0</td>\n",
       "      <td>0</td>\n",
       "      <td>1</td>\n",
       "      <td>0</td>\n",
       "      <td>0</td>\n",
       "      <td>0</td>\n",
       "      <td>0</td>\n",
       "      <td>0</td>\n",
       "      <td>0</td>\n",
       "      <td>1</td>\n",
       "      <td>0</td>\n",
       "      <td>0</td>\n",
       "      <td>0</td>\n",
       "      <td>0</td>\n",
       "      <td>0</td>\n",
       "      <td>0</td>\n",
       "      <td>0</td>\n",
       "      <td>0</td>\n",
       "      <td>0</td>\n",
       "      <td>0</td>\n",
       "      <td>0</td>\n",
       "      <td>0</td>\n",
       "      <td>0</td>\n",
       "      <td>0</td>\n",
       "      <td>0</td>\n",
       "      <td>0</td>\n",
       "      <td>0</td>\n",
       "      <td>0</td>\n",
       "      <td>0</td>\n",
       "      <td>0</td>\n",
       "      <td>0</td>\n",
       "      <td>0</td>\n",
       "      <td>0</td>\n",
       "      <td>0</td>\n",
       "      <td>...</td>\n",
       "      <td>0</td>\n",
       "      <td>0</td>\n",
       "      <td>0</td>\n",
       "      <td>1</td>\n",
       "      <td>0</td>\n",
       "      <td>0</td>\n",
       "      <td>0</td>\n",
       "      <td>0</td>\n",
       "      <td>0</td>\n",
       "      <td>0</td>\n",
       "      <td>0</td>\n",
       "      <td>0</td>\n",
       "      <td>0</td>\n",
       "      <td>0</td>\n",
       "      <td>0</td>\n",
       "      <td>0</td>\n",
       "      <td>0</td>\n",
       "      <td>0</td>\n",
       "      <td>0</td>\n",
       "      <td>0</td>\n",
       "      <td>0</td>\n",
       "      <td>0</td>\n",
       "      <td>0</td>\n",
       "      <td>0</td>\n",
       "      <td>0</td>\n",
       "      <td>0</td>\n",
       "      <td>0</td>\n",
       "      <td>0</td>\n",
       "      <td>0</td>\n",
       "      <td>0</td>\n",
       "      <td>0</td>\n",
       "      <td>0</td>\n",
       "      <td>0</td>\n",
       "      <td>0</td>\n",
       "      <td>0</td>\n",
       "      <td>0</td>\n",
       "      <td>0</td>\n",
       "      <td>0</td>\n",
       "      <td>1</td>\n",
       "      <td>0</td>\n",
       "    </tr>\n",
       "    <tr>\n",
       "      <td>29626</td>\n",
       "      <td>21000</td>\n",
       "      <td>0.000</td>\n",
       "      <td>0</td>\n",
       "      <td>0</td>\n",
       "      <td>0</td>\n",
       "      <td>0</td>\n",
       "      <td>0</td>\n",
       "      <td>0</td>\n",
       "      <td>0</td>\n",
       "      <td>0</td>\n",
       "      <td>0</td>\n",
       "      <td>1</td>\n",
       "      <td>0</td>\n",
       "      <td>0</td>\n",
       "      <td>0</td>\n",
       "      <td>0</td>\n",
       "      <td>0</td>\n",
       "      <td>0</td>\n",
       "      <td>0</td>\n",
       "      <td>0</td>\n",
       "      <td>0</td>\n",
       "      <td>0</td>\n",
       "      <td>0</td>\n",
       "      <td>0</td>\n",
       "      <td>0</td>\n",
       "      <td>0</td>\n",
       "      <td>0</td>\n",
       "      <td>0</td>\n",
       "      <td>0</td>\n",
       "      <td>0</td>\n",
       "      <td>0</td>\n",
       "      <td>0</td>\n",
       "      <td>0</td>\n",
       "      <td>0</td>\n",
       "      <td>0</td>\n",
       "      <td>0</td>\n",
       "      <td>0</td>\n",
       "      <td>0</td>\n",
       "      <td>0</td>\n",
       "      <td>0</td>\n",
       "      <td>...</td>\n",
       "      <td>0</td>\n",
       "      <td>0</td>\n",
       "      <td>0</td>\n",
       "      <td>1</td>\n",
       "      <td>0</td>\n",
       "      <td>0</td>\n",
       "      <td>0</td>\n",
       "      <td>0</td>\n",
       "      <td>0</td>\n",
       "      <td>0</td>\n",
       "      <td>0</td>\n",
       "      <td>0</td>\n",
       "      <td>0</td>\n",
       "      <td>0</td>\n",
       "      <td>0</td>\n",
       "      <td>0</td>\n",
       "      <td>0</td>\n",
       "      <td>0</td>\n",
       "      <td>0</td>\n",
       "      <td>0</td>\n",
       "      <td>0</td>\n",
       "      <td>0</td>\n",
       "      <td>0</td>\n",
       "      <td>0</td>\n",
       "      <td>0</td>\n",
       "      <td>0</td>\n",
       "      <td>0</td>\n",
       "      <td>0</td>\n",
       "      <td>0</td>\n",
       "      <td>0</td>\n",
       "      <td>0</td>\n",
       "      <td>0</td>\n",
       "      <td>0</td>\n",
       "      <td>0</td>\n",
       "      <td>0</td>\n",
       "      <td>0</td>\n",
       "      <td>0</td>\n",
       "      <td>0</td>\n",
       "      <td>1</td>\n",
       "      <td>0</td>\n",
       "    </tr>\n",
       "    <tr>\n",
       "      <td>29627</td>\n",
       "      <td>58216</td>\n",
       "      <td>0.000</td>\n",
       "      <td>0</td>\n",
       "      <td>61869</td>\n",
       "      <td>0</td>\n",
       "      <td>0</td>\n",
       "      <td>0</td>\n",
       "      <td>0</td>\n",
       "      <td>1</td>\n",
       "      <td>0</td>\n",
       "      <td>0</td>\n",
       "      <td>0</td>\n",
       "      <td>0</td>\n",
       "      <td>0</td>\n",
       "      <td>0</td>\n",
       "      <td>1</td>\n",
       "      <td>0</td>\n",
       "      <td>0</td>\n",
       "      <td>0</td>\n",
       "      <td>0</td>\n",
       "      <td>0</td>\n",
       "      <td>0</td>\n",
       "      <td>0</td>\n",
       "      <td>0</td>\n",
       "      <td>0</td>\n",
       "      <td>0</td>\n",
       "      <td>0</td>\n",
       "      <td>0</td>\n",
       "      <td>0</td>\n",
       "      <td>0</td>\n",
       "      <td>0</td>\n",
       "      <td>0</td>\n",
       "      <td>0</td>\n",
       "      <td>0</td>\n",
       "      <td>0</td>\n",
       "      <td>0</td>\n",
       "      <td>0</td>\n",
       "      <td>0</td>\n",
       "      <td>0</td>\n",
       "      <td>0</td>\n",
       "      <td>...</td>\n",
       "      <td>0</td>\n",
       "      <td>0</td>\n",
       "      <td>0</td>\n",
       "      <td>1</td>\n",
       "      <td>0</td>\n",
       "      <td>0</td>\n",
       "      <td>0</td>\n",
       "      <td>0</td>\n",
       "      <td>0</td>\n",
       "      <td>0</td>\n",
       "      <td>0</td>\n",
       "      <td>0</td>\n",
       "      <td>0</td>\n",
       "      <td>0</td>\n",
       "      <td>0</td>\n",
       "      <td>0</td>\n",
       "      <td>0</td>\n",
       "      <td>0</td>\n",
       "      <td>0</td>\n",
       "      <td>0</td>\n",
       "      <td>0</td>\n",
       "      <td>0</td>\n",
       "      <td>0</td>\n",
       "      <td>0</td>\n",
       "      <td>0</td>\n",
       "      <td>0</td>\n",
       "      <td>0</td>\n",
       "      <td>0</td>\n",
       "      <td>0</td>\n",
       "      <td>0</td>\n",
       "      <td>0</td>\n",
       "      <td>0</td>\n",
       "      <td>0</td>\n",
       "      <td>0</td>\n",
       "      <td>0</td>\n",
       "      <td>0</td>\n",
       "      <td>0</td>\n",
       "      <td>0</td>\n",
       "      <td>1</td>\n",
       "      <td>0</td>\n",
       "    </tr>\n",
       "  </tbody>\n",
       "</table>\n",
       "<p>19721 rows × 112 columns</p>\n",
       "</div>"
      ],
      "text/plain": [
       "       projectAmount  granteeTribalIndicator  ...  programFy_2019  programFy_2020\n",
       "1             366071                   0.000  ...               0               0\n",
       "2              96965                   0.000  ...               0               0\n",
       "4              34245                   0.000  ...               0               0\n",
       "9              25609                   0.000  ...               0               0\n",
       "10            109900                   0.000  ...               0               0\n",
       "...              ...                     ...  ...             ...             ...\n",
       "29619         356900                   0.000  ...               1               0\n",
       "29620          25000                   0.000  ...               1               0\n",
       "29622           8720                   0.000  ...               1               0\n",
       "29626          21000                   0.000  ...               1               0\n",
       "29627          58216                   0.000  ...               1               0\n",
       "\n",
       "[19721 rows x 112 columns]"
      ]
     },
     "execution_count": 64,
     "metadata": {},
     "output_type": "execute_result"
    }
   ],
   "source": [
    "pd.get_dummies(df)"
   ]
  },
  {
   "cell_type": "code",
   "execution_count": 65,
   "metadata": {
    "scrolled": true
   },
   "outputs": [
    {
     "data": {
      "image/png": "[encoded data removed]",
      "text/plain": [
       "<Figure size 720x432 with 1 Axes>"
      ]
     },
     "metadata": {
      "needs_background": "light"
     },
     "output_type": "display_data"
    },
    {
     "data": {
      "image/png": "[encoded data removed]",
      "text/plain": [
       "<Figure size 720x432 with 1 Axes>"
      ]
     },
     "metadata": {
      "needs_background": "light"
     },
     "output_type": "display_data"
    },
    {
     "data": {
      "image/png": "[encoded data removed]",
      "text/plain": [
       "<Figure size 720x432 with 1 Axes>"
      ]
     },
     "metadata": {
      "needs_background": "light"
     },
     "output_type": "display_data"
    }
   ],
   "source": [
    "categorical_plots(df)"
   ]
  },
  {
   "cell_type": "code",
   "execution_count": 66,
   "metadata": {
    "scrolled": false
   },
   "outputs": [
    {
     "data": {
      "image/png": "[encoded data removed]",
      "text/plain": [
       "<Figure size 576x720 with 1 Axes>"
      ]
     },
     "metadata": {
      "needs_background": "light"
     },
     "output_type": "display_data"
    }
   ],
   "source": [
    "# Initialize the figure with a logarithmic x axis\n",
    "f, ax = plt.subplots(figsize=(8, 10))\n",
    "\n",
    "# Plot the orbital period with horizontal boxes\n",
    "sns.boxplot(x=\"projectAmount\", y=\"programArea\", data=df,\n",
    "            width=0.7, palette=\"colorblind\")\n",
    "\n",
    "# Add in points to show each observation\n",
    "sns.stripplot(x=\"projectAmount\", y=\"programArea\", data=df,\n",
    "              size=2, linewidth=0)\n",
    "\n",
    "# Tweak the visual presentation\n",
    "ax.xaxis.grid(True)\n",
    "ax.set(ylabel=\"Program Area\")\n",
    "ax.set(xlabel=\"Project Amount\")\n",
    "sns.despine(left=True)\n",
    "\n",
    "# https://seaborn.pydata.org/examples/horizontal_boxplot.html"
   ]
  },
  {
   "cell_type": "code",
   "execution_count": 67,
   "metadata": {},
   "outputs": [],
   "source": [
    "#sns.distplot(x='projectAmount, col=\"Positive_ROI\", kde=True)"
   ]
  },
  {
   "cell_type": "code",
   "execution_count": 68,
   "metadata": {},
   "outputs": [
    {
     "data": {
      "text/plain": [
       "<seaborn.axisgrid.FacetGrid at 0x1ce1a8377b8>"
      ]
     },
     "execution_count": 68,
     "metadata": {},
     "output_type": "execute_result"
    },
    {
     "data": {
      "image/png": "[encoded data removed]",
      "text/plain": [
       "<Figure size 441.875x360 with 1 Axes>"
      ]
     },
     "metadata": {
      "needs_background": "light"
     },
     "output_type": "display_data"
    }
   ],
   "source": [
    "sns.catplot(x=\"projectAmount\", y=\"programArea\", hue=\"Positive_ROI\",\n",
    "            kind=\"violin\", split=True, pallete=\"colorblind\", data=df)"
   ]
  },
  {
   "cell_type": "code",
   "execution_count": null,
   "metadata": {},
   "outputs": [],
   "source": []
  },
  {
   "cell_type": "code",
   "execution_count": null,
   "metadata": {},
   "outputs": [],
   "source": []
  },
  {
   "cell_type": "code",
   "execution_count": 69,
   "metadata": {
    "scrolled": false
   },
   "outputs": [
    {
     "data": {
      "image/png": "[encoded data removed]",
      "text/plain": [
       "<Figure size 1008x576 with 1 Axes>"
      ]
     },
     "metadata": {
      "needs_background": "light"
     },
     "output_type": "display_data"
    }
   ],
   "source": [
    "#Plot region vs. ROI\n",
    "plt.figure(figsize=(14, 8))\n",
    "sns.countplot(y=df2['region'], hue=df2['Positive_ROI'], palette=\"colorblind\")\n",
    "plt.legend(loc='center right')\n",
    "plt.show()\n",
    "# 0.0 = Not profitable & 1.0 = Profitable"
   ]
  },
  {
   "cell_type": "code",
   "execution_count": 70,
   "metadata": {},
   "outputs": [
    {
     "data": {
      "image/png": "[encoded data removed]",
      "text/plain": [
       "<Figure size 1008x576 with 1 Axes>"
      ]
     },
     "metadata": {
      "needs_background": "light"
     },
     "output_type": "display_data"
    }
   ],
   "source": [
    "# Plot tribal indicator projects vs. ROI\n",
    "plt.figure(figsize=(14, 8))\n",
    "sns.countplot(y=df2['granteeTribalIndicator'], hue=df2['Positive_ROI'], palette=\"colorblind\")\n",
    "plt.legend(loc='center right')\n",
    "plt.show()\n",
    "# 0.0 = Not profitable & 1.0 = Profitable"
   ]
  },
  {
   "cell_type": "code",
   "execution_count": 71,
   "metadata": {},
   "outputs": [],
   "source": [
    "# Dropping the tribal indicator as there aren't \n",
    "# that many tribal projects in our dataset to use for modeling\n",
    "df.drop(columns=['granteeTribalIndicator'], inplace=True)"
   ]
  },
  {
   "cell_type": "code",
   "execution_count": 72,
   "metadata": {
    "scrolled": true
   },
   "outputs": [
    {
     "data": {
      "image/png": "[encoded data removed]",
      "text/plain": [
       "<Figure size 1008x576 with 1 Axes>"
      ]
     },
     "metadata": {
      "needs_background": "light"
     },
     "output_type": "display_data"
    }
   ],
   "source": [
    "#Plot stateNumberCode vs. ROI\n",
    "plt.figure(figsize=(14, 8))\n",
    "sns.countplot(y=df2['stateNumberCode'], hue=df2['Positive_ROI'], palette=\"colorblind\")\n",
    "plt.legend(loc='center right')\n",
    "plt.show()\n",
    "# 0.0 = Not profitable & 1.0 = Profitable"
   ]
  },
  {
   "cell_type": "code",
   "execution_count": 73,
   "metadata": {},
   "outputs": [
    {
     "data": {
      "image/png": "[encoded data removed]",
      "text/plain": [
       "<Figure size 1008x576 with 1 Axes>"
      ]
     },
     "metadata": {
      "needs_background": "light"
     },
     "output_type": "display_data"
    }
   ],
   "source": [
    "#Plot programArea vs. ROI\n",
    "plt.figure(figsize=(14, 8))\n",
    "sns.countplot(y=df2['programArea'], hue=df2['Positive_ROI'], palette=\"colorblind\")\n",
    "plt.legend(loc='center right')\n",
    "plt.show()\n",
    "# 0.0 = Not profitable & 1.0 = Profitable"
   ]
  },
  {
   "cell_type": "code",
   "execution_count": 74,
   "metadata": {
    "scrolled": true
   },
   "outputs": [
    {
     "data": {
      "image/png": "[encoded data removed]",
      "text/plain": [
       "<Figure size 1008x576 with 1 Axes>"
      ]
     },
     "metadata": {
      "needs_background": "light"
     },
     "output_type": "display_data"
    }
   ],
   "source": [
    "#Plot programFy vs. ROI\n",
    "plt.figure(figsize=(14, 8))\n",
    "sns.countplot(y=df2['programFy'], hue=df2['Positive_ROI'], palette=\"colorblind\")\n",
    "plt.legend(loc='center right')\n",
    "plt.show()\n",
    "# 0.0 = Not profitable & 1.0 = Profitable"
   ]
  },
  {
   "cell_type": "code",
   "execution_count": 75,
   "metadata": {},
   "outputs": [],
   "source": [
    "# Vizual to show "
   ]
  },
  {
   "cell_type": "code",
   "execution_count": null,
   "metadata": {},
   "outputs": [],
   "source": []
  },
  {
   "cell_type": "code",
   "execution_count": null,
   "metadata": {},
   "outputs": [],
   "source": []
  },
  {
   "cell_type": "code",
   "execution_count": 76,
   "metadata": {
    "scrolled": false
   },
   "outputs": [],
   "source": [
    "df2 = pd.get_dummies(df)"
   ]
  },
  {
   "cell_type": "code",
   "execution_count": 77,
   "metadata": {},
   "outputs": [],
   "source": [
    "df2.drop(columns=['benefitCostRatio'], inplace=True)"
   ]
  },
  {
   "cell_type": "code",
   "execution_count": 78,
   "metadata": {},
   "outputs": [],
   "source": [
    "df=df2"
   ]
  },
  {
   "cell_type": "code",
   "execution_count": 79,
   "metadata": {},
   "outputs": [
    {
     "data": {
      "text/html": [
       "<div>\n",
       "<style scoped>\n",
       "    .dataframe tbody tr th:only-of-type {\n",
       "        vertical-align: middle;\n",
       "    }\n",
       "\n",
       "    .dataframe tbody tr th {\n",
       "        vertical-align: top;\n",
       "    }\n",
       "\n",
       "    .dataframe thead th {\n",
       "        text-align: right;\n",
       "    }\n",
       "</style>\n",
       "<table border=\"1\" class=\"dataframe\">\n",
       "  <thead>\n",
       "    <tr style=\"text-align: right;\">\n",
       "      <th></th>\n",
       "      <th>projectAmount</th>\n",
       "      <th>netValueBenefits</th>\n",
       "      <th>Positive_ROI</th>\n",
       "      <th>region_1</th>\n",
       "      <th>region_2</th>\n",
       "      <th>region_3</th>\n",
       "      <th>region_4</th>\n",
       "      <th>region_5</th>\n",
       "      <th>region_6</th>\n",
       "      <th>region_7</th>\n",
       "      <th>region_8</th>\n",
       "      <th>region_9</th>\n",
       "      <th>region_10</th>\n",
       "      <th>stateNumberCode_1</th>\n",
       "      <th>stateNumberCode_2</th>\n",
       "      <th>stateNumberCode_4</th>\n",
       "      <th>stateNumberCode_5</th>\n",
       "      <th>stateNumberCode_6</th>\n",
       "      <th>stateNumberCode_8</th>\n",
       "      <th>stateNumberCode_9</th>\n",
       "      <th>stateNumberCode_10</th>\n",
       "      <th>stateNumberCode_11</th>\n",
       "      <th>stateNumberCode_12</th>\n",
       "      <th>stateNumberCode_13</th>\n",
       "      <th>stateNumberCode_15</th>\n",
       "      <th>stateNumberCode_16</th>\n",
       "      <th>stateNumberCode_17</th>\n",
       "      <th>stateNumberCode_18</th>\n",
       "      <th>stateNumberCode_19</th>\n",
       "      <th>stateNumberCode_20</th>\n",
       "      <th>stateNumberCode_21</th>\n",
       "      <th>stateNumberCode_22</th>\n",
       "      <th>stateNumberCode_23</th>\n",
       "      <th>stateNumberCode_24</th>\n",
       "      <th>stateNumberCode_25</th>\n",
       "      <th>stateNumberCode_26</th>\n",
       "      <th>stateNumberCode_27</th>\n",
       "      <th>stateNumberCode_28</th>\n",
       "      <th>stateNumberCode_29</th>\n",
       "      <th>stateNumberCode_30</th>\n",
       "      <th>...</th>\n",
       "      <th>stateNumberCode_72</th>\n",
       "      <th>stateNumberCode_78</th>\n",
       "      <th>programArea_FMA</th>\n",
       "      <th>programArea_HMGP</th>\n",
       "      <th>programArea_LPDM</th>\n",
       "      <th>programArea_PDM</th>\n",
       "      <th>programArea_RFC</th>\n",
       "      <th>programArea_SRL</th>\n",
       "      <th>programFy_1989</th>\n",
       "      <th>programFy_1990</th>\n",
       "      <th>programFy_1991</th>\n",
       "      <th>programFy_1992</th>\n",
       "      <th>programFy_1993</th>\n",
       "      <th>programFy_1994</th>\n",
       "      <th>programFy_1995</th>\n",
       "      <th>programFy_1996</th>\n",
       "      <th>programFy_1997</th>\n",
       "      <th>programFy_1998</th>\n",
       "      <th>programFy_1999</th>\n",
       "      <th>programFy_2000</th>\n",
       "      <th>programFy_2001</th>\n",
       "      <th>programFy_2002</th>\n",
       "      <th>programFy_2003</th>\n",
       "      <th>programFy_2004</th>\n",
       "      <th>programFy_2005</th>\n",
       "      <th>programFy_2006</th>\n",
       "      <th>programFy_2007</th>\n",
       "      <th>programFy_2008</th>\n",
       "      <th>programFy_2009</th>\n",
       "      <th>programFy_2010</th>\n",
       "      <th>programFy_2011</th>\n",
       "      <th>programFy_2012</th>\n",
       "      <th>programFy_2013</th>\n",
       "      <th>programFy_2014</th>\n",
       "      <th>programFy_2015</th>\n",
       "      <th>programFy_2016</th>\n",
       "      <th>programFy_2017</th>\n",
       "      <th>programFy_2018</th>\n",
       "      <th>programFy_2019</th>\n",
       "      <th>programFy_2020</th>\n",
       "    </tr>\n",
       "  </thead>\n",
       "  <tbody>\n",
       "    <tr>\n",
       "      <td>1</td>\n",
       "      <td>366071</td>\n",
       "      <td>961452</td>\n",
       "      <td>1</td>\n",
       "      <td>0</td>\n",
       "      <td>0</td>\n",
       "      <td>0</td>\n",
       "      <td>0</td>\n",
       "      <td>1</td>\n",
       "      <td>0</td>\n",
       "      <td>0</td>\n",
       "      <td>0</td>\n",
       "      <td>0</td>\n",
       "      <td>0</td>\n",
       "      <td>0</td>\n",
       "      <td>0</td>\n",
       "      <td>0</td>\n",
       "      <td>0</td>\n",
       "      <td>0</td>\n",
       "      <td>0</td>\n",
       "      <td>0</td>\n",
       "      <td>0</td>\n",
       "      <td>0</td>\n",
       "      <td>0</td>\n",
       "      <td>0</td>\n",
       "      <td>0</td>\n",
       "      <td>0</td>\n",
       "      <td>0</td>\n",
       "      <td>1</td>\n",
       "      <td>0</td>\n",
       "      <td>0</td>\n",
       "      <td>0</td>\n",
       "      <td>0</td>\n",
       "      <td>0</td>\n",
       "      <td>0</td>\n",
       "      <td>0</td>\n",
       "      <td>0</td>\n",
       "      <td>0</td>\n",
       "      <td>0</td>\n",
       "      <td>0</td>\n",
       "      <td>0</td>\n",
       "      <td>...</td>\n",
       "      <td>0</td>\n",
       "      <td>0</td>\n",
       "      <td>0</td>\n",
       "      <td>1</td>\n",
       "      <td>0</td>\n",
       "      <td>0</td>\n",
       "      <td>0</td>\n",
       "      <td>0</td>\n",
       "      <td>0</td>\n",
       "      <td>0</td>\n",
       "      <td>0</td>\n",
       "      <td>0</td>\n",
       "      <td>0</td>\n",
       "      <td>0</td>\n",
       "      <td>0</td>\n",
       "      <td>0</td>\n",
       "      <td>0</td>\n",
       "      <td>0</td>\n",
       "      <td>0</td>\n",
       "      <td>0</td>\n",
       "      <td>0</td>\n",
       "      <td>0</td>\n",
       "      <td>0</td>\n",
       "      <td>0</td>\n",
       "      <td>0</td>\n",
       "      <td>0</td>\n",
       "      <td>0</td>\n",
       "      <td>0</td>\n",
       "      <td>0</td>\n",
       "      <td>0</td>\n",
       "      <td>1</td>\n",
       "      <td>0</td>\n",
       "      <td>0</td>\n",
       "      <td>0</td>\n",
       "      <td>0</td>\n",
       "      <td>0</td>\n",
       "      <td>0</td>\n",
       "      <td>0</td>\n",
       "      <td>0</td>\n",
       "      <td>0</td>\n",
       "    </tr>\n",
       "    <tr>\n",
       "      <td>2</td>\n",
       "      <td>96965</td>\n",
       "      <td>0</td>\n",
       "      <td>0</td>\n",
       "      <td>0</td>\n",
       "      <td>0</td>\n",
       "      <td>0</td>\n",
       "      <td>0</td>\n",
       "      <td>0</td>\n",
       "      <td>0</td>\n",
       "      <td>1</td>\n",
       "      <td>0</td>\n",
       "      <td>0</td>\n",
       "      <td>0</td>\n",
       "      <td>0</td>\n",
       "      <td>0</td>\n",
       "      <td>0</td>\n",
       "      <td>0</td>\n",
       "      <td>0</td>\n",
       "      <td>0</td>\n",
       "      <td>0</td>\n",
       "      <td>0</td>\n",
       "      <td>0</td>\n",
       "      <td>0</td>\n",
       "      <td>0</td>\n",
       "      <td>0</td>\n",
       "      <td>0</td>\n",
       "      <td>0</td>\n",
       "      <td>0</td>\n",
       "      <td>1</td>\n",
       "      <td>0</td>\n",
       "      <td>0</td>\n",
       "      <td>0</td>\n",
       "      <td>0</td>\n",
       "      <td>0</td>\n",
       "      <td>0</td>\n",
       "      <td>0</td>\n",
       "      <td>0</td>\n",
       "      <td>0</td>\n",
       "      <td>0</td>\n",
       "      <td>0</td>\n",
       "      <td>...</td>\n",
       "      <td>0</td>\n",
       "      <td>0</td>\n",
       "      <td>0</td>\n",
       "      <td>1</td>\n",
       "      <td>0</td>\n",
       "      <td>0</td>\n",
       "      <td>0</td>\n",
       "      <td>0</td>\n",
       "      <td>0</td>\n",
       "      <td>0</td>\n",
       "      <td>0</td>\n",
       "      <td>0</td>\n",
       "      <td>0</td>\n",
       "      <td>0</td>\n",
       "      <td>0</td>\n",
       "      <td>0</td>\n",
       "      <td>0</td>\n",
       "      <td>0</td>\n",
       "      <td>0</td>\n",
       "      <td>0</td>\n",
       "      <td>0</td>\n",
       "      <td>0</td>\n",
       "      <td>0</td>\n",
       "      <td>0</td>\n",
       "      <td>0</td>\n",
       "      <td>0</td>\n",
       "      <td>0</td>\n",
       "      <td>0</td>\n",
       "      <td>0</td>\n",
       "      <td>0</td>\n",
       "      <td>1</td>\n",
       "      <td>0</td>\n",
       "      <td>0</td>\n",
       "      <td>0</td>\n",
       "      <td>0</td>\n",
       "      <td>0</td>\n",
       "      <td>0</td>\n",
       "      <td>0</td>\n",
       "      <td>0</td>\n",
       "      <td>0</td>\n",
       "    </tr>\n",
       "    <tr>\n",
       "      <td>4</td>\n",
       "      <td>34245</td>\n",
       "      <td>0</td>\n",
       "      <td>0</td>\n",
       "      <td>0</td>\n",
       "      <td>0</td>\n",
       "      <td>0</td>\n",
       "      <td>0</td>\n",
       "      <td>0</td>\n",
       "      <td>0</td>\n",
       "      <td>1</td>\n",
       "      <td>0</td>\n",
       "      <td>0</td>\n",
       "      <td>0</td>\n",
       "      <td>0</td>\n",
       "      <td>0</td>\n",
       "      <td>0</td>\n",
       "      <td>0</td>\n",
       "      <td>0</td>\n",
       "      <td>0</td>\n",
       "      <td>0</td>\n",
       "      <td>0</td>\n",
       "      <td>0</td>\n",
       "      <td>0</td>\n",
       "      <td>0</td>\n",
       "      <td>0</td>\n",
       "      <td>0</td>\n",
       "      <td>0</td>\n",
       "      <td>0</td>\n",
       "      <td>1</td>\n",
       "      <td>0</td>\n",
       "      <td>0</td>\n",
       "      <td>0</td>\n",
       "      <td>0</td>\n",
       "      <td>0</td>\n",
       "      <td>0</td>\n",
       "      <td>0</td>\n",
       "      <td>0</td>\n",
       "      <td>0</td>\n",
       "      <td>0</td>\n",
       "      <td>0</td>\n",
       "      <td>...</td>\n",
       "      <td>0</td>\n",
       "      <td>0</td>\n",
       "      <td>0</td>\n",
       "      <td>1</td>\n",
       "      <td>0</td>\n",
       "      <td>0</td>\n",
       "      <td>0</td>\n",
       "      <td>0</td>\n",
       "      <td>0</td>\n",
       "      <td>0</td>\n",
       "      <td>0</td>\n",
       "      <td>0</td>\n",
       "      <td>0</td>\n",
       "      <td>0</td>\n",
       "      <td>0</td>\n",
       "      <td>0</td>\n",
       "      <td>0</td>\n",
       "      <td>0</td>\n",
       "      <td>0</td>\n",
       "      <td>0</td>\n",
       "      <td>0</td>\n",
       "      <td>0</td>\n",
       "      <td>0</td>\n",
       "      <td>0</td>\n",
       "      <td>0</td>\n",
       "      <td>0</td>\n",
       "      <td>0</td>\n",
       "      <td>0</td>\n",
       "      <td>0</td>\n",
       "      <td>0</td>\n",
       "      <td>1</td>\n",
       "      <td>0</td>\n",
       "      <td>0</td>\n",
       "      <td>0</td>\n",
       "      <td>0</td>\n",
       "      <td>0</td>\n",
       "      <td>0</td>\n",
       "      <td>0</td>\n",
       "      <td>0</td>\n",
       "      <td>0</td>\n",
       "    </tr>\n",
       "    <tr>\n",
       "      <td>9</td>\n",
       "      <td>25609</td>\n",
       "      <td>0</td>\n",
       "      <td>0</td>\n",
       "      <td>0</td>\n",
       "      <td>0</td>\n",
       "      <td>0</td>\n",
       "      <td>0</td>\n",
       "      <td>0</td>\n",
       "      <td>0</td>\n",
       "      <td>0</td>\n",
       "      <td>1</td>\n",
       "      <td>0</td>\n",
       "      <td>0</td>\n",
       "      <td>0</td>\n",
       "      <td>0</td>\n",
       "      <td>0</td>\n",
       "      <td>0</td>\n",
       "      <td>0</td>\n",
       "      <td>0</td>\n",
       "      <td>0</td>\n",
       "      <td>0</td>\n",
       "      <td>0</td>\n",
       "      <td>0</td>\n",
       "      <td>0</td>\n",
       "      <td>0</td>\n",
       "      <td>0</td>\n",
       "      <td>0</td>\n",
       "      <td>0</td>\n",
       "      <td>0</td>\n",
       "      <td>0</td>\n",
       "      <td>0</td>\n",
       "      <td>0</td>\n",
       "      <td>0</td>\n",
       "      <td>0</td>\n",
       "      <td>0</td>\n",
       "      <td>0</td>\n",
       "      <td>0</td>\n",
       "      <td>0</td>\n",
       "      <td>0</td>\n",
       "      <td>1</td>\n",
       "      <td>...</td>\n",
       "      <td>0</td>\n",
       "      <td>0</td>\n",
       "      <td>0</td>\n",
       "      <td>1</td>\n",
       "      <td>0</td>\n",
       "      <td>0</td>\n",
       "      <td>0</td>\n",
       "      <td>0</td>\n",
       "      <td>0</td>\n",
       "      <td>0</td>\n",
       "      <td>0</td>\n",
       "      <td>0</td>\n",
       "      <td>0</td>\n",
       "      <td>0</td>\n",
       "      <td>0</td>\n",
       "      <td>0</td>\n",
       "      <td>0</td>\n",
       "      <td>0</td>\n",
       "      <td>0</td>\n",
       "      <td>0</td>\n",
       "      <td>0</td>\n",
       "      <td>0</td>\n",
       "      <td>0</td>\n",
       "      <td>0</td>\n",
       "      <td>0</td>\n",
       "      <td>0</td>\n",
       "      <td>0</td>\n",
       "      <td>0</td>\n",
       "      <td>0</td>\n",
       "      <td>0</td>\n",
       "      <td>1</td>\n",
       "      <td>0</td>\n",
       "      <td>0</td>\n",
       "      <td>0</td>\n",
       "      <td>0</td>\n",
       "      <td>0</td>\n",
       "      <td>0</td>\n",
       "      <td>0</td>\n",
       "      <td>0</td>\n",
       "      <td>0</td>\n",
       "    </tr>\n",
       "    <tr>\n",
       "      <td>10</td>\n",
       "      <td>109900</td>\n",
       "      <td>108817</td>\n",
       "      <td>0</td>\n",
       "      <td>0</td>\n",
       "      <td>1</td>\n",
       "      <td>0</td>\n",
       "      <td>0</td>\n",
       "      <td>0</td>\n",
       "      <td>0</td>\n",
       "      <td>0</td>\n",
       "      <td>0</td>\n",
       "      <td>0</td>\n",
       "      <td>0</td>\n",
       "      <td>0</td>\n",
       "      <td>0</td>\n",
       "      <td>0</td>\n",
       "      <td>0</td>\n",
       "      <td>0</td>\n",
       "      <td>0</td>\n",
       "      <td>0</td>\n",
       "      <td>0</td>\n",
       "      <td>0</td>\n",
       "      <td>0</td>\n",
       "      <td>0</td>\n",
       "      <td>0</td>\n",
       "      <td>0</td>\n",
       "      <td>0</td>\n",
       "      <td>0</td>\n",
       "      <td>0</td>\n",
       "      <td>0</td>\n",
       "      <td>0</td>\n",
       "      <td>0</td>\n",
       "      <td>0</td>\n",
       "      <td>0</td>\n",
       "      <td>0</td>\n",
       "      <td>0</td>\n",
       "      <td>0</td>\n",
       "      <td>0</td>\n",
       "      <td>0</td>\n",
       "      <td>0</td>\n",
       "      <td>...</td>\n",
       "      <td>0</td>\n",
       "      <td>0</td>\n",
       "      <td>0</td>\n",
       "      <td>1</td>\n",
       "      <td>0</td>\n",
       "      <td>0</td>\n",
       "      <td>0</td>\n",
       "      <td>0</td>\n",
       "      <td>0</td>\n",
       "      <td>0</td>\n",
       "      <td>0</td>\n",
       "      <td>0</td>\n",
       "      <td>0</td>\n",
       "      <td>0</td>\n",
       "      <td>0</td>\n",
       "      <td>0</td>\n",
       "      <td>0</td>\n",
       "      <td>0</td>\n",
       "      <td>0</td>\n",
       "      <td>0</td>\n",
       "      <td>0</td>\n",
       "      <td>0</td>\n",
       "      <td>0</td>\n",
       "      <td>0</td>\n",
       "      <td>0</td>\n",
       "      <td>0</td>\n",
       "      <td>0</td>\n",
       "      <td>0</td>\n",
       "      <td>0</td>\n",
       "      <td>0</td>\n",
       "      <td>1</td>\n",
       "      <td>0</td>\n",
       "      <td>0</td>\n",
       "      <td>0</td>\n",
       "      <td>0</td>\n",
       "      <td>0</td>\n",
       "      <td>0</td>\n",
       "      <td>0</td>\n",
       "      <td>0</td>\n",
       "      <td>0</td>\n",
       "    </tr>\n",
       "  </tbody>\n",
       "</table>\n",
       "<p>5 rows × 110 columns</p>\n",
       "</div>"
      ],
      "text/plain": [
       "    projectAmount  netValueBenefits  ...  programFy_2019  programFy_2020\n",
       "1          366071            961452  ...               0               0\n",
       "2           96965                 0  ...               0               0\n",
       "4           34245                 0  ...               0               0\n",
       "9           25609                 0  ...               0               0\n",
       "10         109900            108817  ...               0               0\n",
       "\n",
       "[5 rows x 110 columns]"
      ]
     },
     "execution_count": 79,
     "metadata": {},
     "output_type": "execute_result"
    }
   ],
   "source": [
    "df.head()"
   ]
  },
  {
   "cell_type": "markdown",
   "metadata": {},
   "source": [
    "# Logistic Model #1"
   ]
  },
  {
   "cell_type": "markdown",
   "metadata": {},
   "source": [
    "### Supervised Machine Learning Algorithm that can be used for Classification or Regression. Used to predict the categorical dependent variable with the help of independent variables."
   ]
  },
  {
   "cell_type": "code",
   "execution_count": 80,
   "metadata": {},
   "outputs": [],
   "source": [
    "#Split features and target\n",
    "X = df.drop(columns=['Positive_ROI'], axis=1)\n",
    "y = df['Positive_ROI']\n",
    "\n",
    "# Normalizing the data\n",
    "X = X.apply(lambda x : (x - x.min()) /(x.max() - x.min()), axis=0)\n",
    "X.head()\n",
    "\n",
    "#Split the data into train and test sets\n",
    "X_train, X_test, y_train, y_test = train_test_split(X, y, test_size=.20, random_state=123)\n",
    "    \n",
    "#Scale the data\n",
    "scaler = StandardScaler()\n",
    "X_train = scaler.fit_transform(X_train)\n",
    "X_test = scaler.transform(X_test)"
   ]
  },
  {
   "cell_type": "code",
   "execution_count": 81,
   "metadata": {},
   "outputs": [],
   "source": [
    "#Create function to easily build models and display results\n",
    "def build_model(classifier, X_train, X_test, y_train,  y_test):\n",
    "    '''Build classification model, returning classification report, train and test accuracy, and confusion matrix.\n",
    "    \n",
    "    Keyword arguments: \n",
    "    classifier -- classification algorithm\n",
    "    predictors -- X, features\n",
    "    labels -- y, target\n",
    "    '''\n",
    "    \n",
    "    #Create variables that can be called outside function\n",
    "    #build_model.X_train = X_train\n",
    "    #build_model.X_test = X_test\n",
    "    #build_model.y_train = y_train\n",
    "    #build_model.y_test = y_test\n",
    "    \n",
    "    #Fit model\n",
    "    classifier.fit(X_train, y_train)\n",
    "    #score = np.mean(cross_val_score(classifier, X, y, cv=5, scoring='recall'))\n",
    "\n",
    "    #Create predictions\n",
    "    y_hat_train = classifier.predict(X_train)\n",
    "    y_hat_test = classifier.predict(X_test)\n",
    "    \n",
    "    #Create variables that can be called outside function\n",
    "    #build_model.y_hat_train = y_hat_train\n",
    "    #build_model.y_hat_test = y_hat_test\n",
    "    \n",
    "    #Print classification report\n",
    "    print('Train Classification Report\\n', classification_report(y_train, y_hat_train))\n",
    "    print('Test Classification Report\\n', classification_report(y_test, y_hat_test))\n",
    "    \n",
    "    print('Train Accuracy:', round(accuracy_score(y_train, y_hat_train), 3))\n",
    "    print('Test Accuracy:', round(accuracy_score(y_test, y_hat_test), 3))\n",
    "    #print('Cross Validation Recall', round(score, 3))\n",
    "    \n",
    "    #Create a results dataframe\n",
    "    #results = pd.DataFrame([[str(model), round(accuracy_score(y_train, y_hat_train), 3), \n",
    "     #                        round(accuracy_score(y_test, y_hat_test), 3), round(score, 3)]], \n",
    "      #                    columns=['Model', 'Train_Accuracy', 'Test_Accuracy', 'Cross_Val_Recall'])\n",
    "    #build_model.results = results\n",
    "    \n",
    "    #Plot Confusion Matrices\n",
    "    fig, axes = plt.subplots(nrows=1, ncols=2, figsize=(14, 8))\n",
    "    plot_confusion_matrix(classifier, X_train, y_train,\n",
    "                     cmap=plt.cm.Blues, ax=axes[0], normalize='true')\n",
    "    fig.suptitle('Train & Test Confusion Matrices', fontsize=16);\n",
    "    \n",
    "    plot_confusion_matrix(classifier, X_test, y_test,\n",
    "                     cmap=plt.cm.Blues, ax=axes[1], normalize='true')\n",
    "    plt.subplots_adjust(wspace=0.4)\n",
    "    return classifier    "
   ]
  },
  {
   "cell_type": "code",
   "execution_count": 82,
   "metadata": {
    "scrolled": true
   },
   "outputs": [
    {
     "name": "stdout",
     "output_type": "stream",
     "text": [
      "Train Classification Report\n",
      "               precision    recall  f1-score   support\n",
      "\n",
      "           0       0.95      0.98      0.96     10718\n",
      "           1       0.96      0.88      0.92      5058\n",
      "\n",
      "    accuracy                           0.95     15776\n",
      "   macro avg       0.95      0.93      0.94     15776\n",
      "weighted avg       0.95      0.95      0.95     15776\n",
      "\n",
      "Test Classification Report\n",
      "               precision    recall  f1-score   support\n",
      "\n",
      "           0       0.94      0.98      0.96      2617\n",
      "           1       0.96      0.88      0.92      1328\n",
      "\n",
      "    accuracy                           0.95      3945\n",
      "   macro avg       0.95      0.93      0.94      3945\n",
      "weighted avg       0.95      0.95      0.95      3945\n",
      "\n",
      "Train Accuracy: 0.95\n",
      "Test Accuracy: 0.947\n"
     ]
    },
    {
     "data": {
      "text/plain": [
       "LogisticRegression()"
      ]
     },
     "execution_count": 82,
     "metadata": {},
     "output_type": "execute_result"
    },
    {
     "data": {
      "image/png": "[encoded data removed]",
      "text/plain": [
       "<Figure size 1008x576 with 4 Axes>"
      ]
     },
     "metadata": {
      "needs_background": "light"
     },
     "output_type": "display_data"
    }
   ],
   "source": [
    "log_reg = LogisticRegression()\n",
    "build_model(log_reg, X_train, X_test, y_train,  y_test)"
   ]
  },
  {
   "cell_type": "markdown",
   "metadata": {},
   "source": [
    "## Results:\n",
    "- Train Accuracy: 0.946\n",
    "- Test Accuracy: 0.944"
   ]
  },
  {
   "cell_type": "code",
   "execution_count": 83,
   "metadata": {
    "scrolled": true
   },
   "outputs": [
    {
     "data": {
      "text/html": [
       "<table class=\"simpletable\">\n",
       "<caption>OLS Regression Results</caption>\n",
       "<tr>\n",
       "  <th>Dep. Variable:</th>      <td>Positive_ROI</td>   <th>  R-squared:         </th> <td>   0.492</td> \n",
       "</tr>\n",
       "<tr>\n",
       "  <th>Model:</th>                   <td>OLS</td>       <th>  Adj. R-squared:    </th> <td>   0.490</td> \n",
       "</tr>\n",
       "<tr>\n",
       "  <th>Method:</th>             <td>Least Squares</td>  <th>  F-statistic:       </th> <td>   198.2</td> \n",
       "</tr>\n",
       "<tr>\n",
       "  <th>Date:</th>             <td>Wed, 17 Feb 2021</td> <th>  Prob (F-statistic):</th>  <td>  0.00</td>  \n",
       "</tr>\n",
       "<tr>\n",
       "  <th>Time:</th>                 <td>22:37:26</td>     <th>  Log-Likelihood:    </th> <td> -6321.3</td> \n",
       "</tr>\n",
       "<tr>\n",
       "  <th>No. Observations:</th>      <td> 19721</td>      <th>  AIC:               </th> <td>1.284e+04</td>\n",
       "</tr>\n",
       "<tr>\n",
       "  <th>Df Residuals:</th>          <td> 19624</td>      <th>  BIC:               </th> <td>1.360e+04</td>\n",
       "</tr>\n",
       "<tr>\n",
       "  <th>Df Model:</th>              <td>    96</td>      <th>                     </th>     <td> </td>    \n",
       "</tr>\n",
       "<tr>\n",
       "  <th>Covariance Type:</th>      <td>nonrobust</td>    <th>                     </th>     <td> </td>    \n",
       "</tr>\n",
       "</table>\n",
       "<table class=\"simpletable\">\n",
       "<tr>\n",
       "           <td></td>             <th>coef</th>     <th>std err</th>      <th>t</th>      <th>P>|t|</th>  <th>[0.025</th>    <th>0.975]</th>  \n",
       "</tr>\n",
       "<tr>\n",
       "  <th>Intercept</th>          <td>    0.1715</td> <td>    0.009</td> <td>   19.207</td> <td> 0.000</td> <td>    0.154</td> <td>    0.189</td>\n",
       "</tr>\n",
       "<tr>\n",
       "  <th>projectAmount</th>      <td> -1.54e-07</td> <td> 2.45e-08</td> <td>   -6.288</td> <td> 0.000</td> <td>-2.02e-07</td> <td>-1.06e-07</td>\n",
       "</tr>\n",
       "<tr>\n",
       "  <th>netValueBenefits</th>   <td> 1.245e-06</td> <td> 1.32e-08</td> <td>   94.629</td> <td> 0.000</td> <td> 1.22e-06</td> <td> 1.27e-06</td>\n",
       "</tr>\n",
       "<tr>\n",
       "  <th>region_1</th>           <td>    0.0949</td> <td>    0.008</td> <td>   12.099</td> <td> 0.000</td> <td>    0.079</td> <td>    0.110</td>\n",
       "</tr>\n",
       "<tr>\n",
       "  <th>region_2</th>           <td>    0.0138</td> <td>    0.011</td> <td>    1.235</td> <td> 0.217</td> <td>   -0.008</td> <td>    0.036</td>\n",
       "</tr>\n",
       "<tr>\n",
       "  <th>region_3</th>           <td>   -0.0086</td> <td>    0.010</td> <td>   -0.830</td> <td> 0.407</td> <td>   -0.029</td> <td>    0.012</td>\n",
       "</tr>\n",
       "<tr>\n",
       "  <th>region_4</th>           <td>    0.0186</td> <td>    0.005</td> <td>    3.385</td> <td> 0.001</td> <td>    0.008</td> <td>    0.029</td>\n",
       "</tr>\n",
       "<tr>\n",
       "  <th>region_5</th>           <td>   -0.0326</td> <td>    0.007</td> <td>   -4.516</td> <td> 0.000</td> <td>   -0.047</td> <td>   -0.018</td>\n",
       "</tr>\n",
       "<tr>\n",
       "  <th>region_6</th>           <td>   -0.0245</td> <td>    0.007</td> <td>   -3.335</td> <td> 0.001</td> <td>   -0.039</td> <td>   -0.010</td>\n",
       "</tr>\n",
       "<tr>\n",
       "  <th>region_7</th>           <td>   -0.0402</td> <td>    0.008</td> <td>   -5.273</td> <td> 0.000</td> <td>   -0.055</td> <td>   -0.025</td>\n",
       "</tr>\n",
       "<tr>\n",
       "  <th>region_8</th>           <td>    0.0121</td> <td>    0.009</td> <td>    1.311</td> <td> 0.190</td> <td>   -0.006</td> <td>    0.030</td>\n",
       "</tr>\n",
       "<tr>\n",
       "  <th>region_9</th>           <td>    0.1142</td> <td>    0.020</td> <td>    5.582</td> <td> 0.000</td> <td>    0.074</td> <td>    0.154</td>\n",
       "</tr>\n",
       "<tr>\n",
       "  <th>region_10</th>          <td>    0.0237</td> <td>    0.009</td> <td>    2.760</td> <td> 0.006</td> <td>    0.007</td> <td>    0.041</td>\n",
       "</tr>\n",
       "<tr>\n",
       "  <th>stateNumberCode_1</th>  <td>    0.1910</td> <td>    0.011</td> <td>   18.018</td> <td> 0.000</td> <td>    0.170</td> <td>    0.212</td>\n",
       "</tr>\n",
       "<tr>\n",
       "  <th>stateNumberCode_2</th>  <td>   -0.0097</td> <td>    0.021</td> <td>   -0.464</td> <td> 0.643</td> <td>   -0.050</td> <td>    0.031</td>\n",
       "</tr>\n",
       "<tr>\n",
       "  <th>stateNumberCode_4</th>  <td>   -0.1230</td> <td>    0.035</td> <td>   -3.500</td> <td> 0.000</td> <td>   -0.192</td> <td>   -0.054</td>\n",
       "</tr>\n",
       "<tr>\n",
       "  <th>stateNumberCode_5</th>  <td>    0.0274</td> <td>    0.018</td> <td>    1.482</td> <td> 0.138</td> <td>   -0.009</td> <td>    0.064</td>\n",
       "</tr>\n",
       "<tr>\n",
       "  <th>stateNumberCode_6</th>  <td>   -0.1214</td> <td>    0.025</td> <td>   -4.897</td> <td> 0.000</td> <td>   -0.170</td> <td>   -0.073</td>\n",
       "</tr>\n",
       "<tr>\n",
       "  <th>stateNumberCode_8</th>  <td>   -0.0789</td> <td>    0.023</td> <td>   -3.447</td> <td> 0.001</td> <td>   -0.124</td> <td>   -0.034</td>\n",
       "</tr>\n",
       "<tr>\n",
       "  <th>stateNumberCode_9</th>  <td>   -0.1225</td> <td>    0.022</td> <td>   -5.479</td> <td> 0.000</td> <td>   -0.166</td> <td>   -0.079</td>\n",
       "</tr>\n",
       "<tr>\n",
       "  <th>stateNumberCode_10</th> <td>    0.0393</td> <td>    0.030</td> <td>    1.320</td> <td> 0.187</td> <td>   -0.019</td> <td>    0.098</td>\n",
       "</tr>\n",
       "<tr>\n",
       "  <th>stateNumberCode_11</th> <td>   -0.0677</td> <td>    0.048</td> <td>   -1.399</td> <td> 0.162</td> <td>   -0.163</td> <td>    0.027</td>\n",
       "</tr>\n",
       "<tr>\n",
       "  <th>stateNumberCode_12</th> <td>    0.2706</td> <td>    0.010</td> <td>   27.119</td> <td> 0.000</td> <td>    0.251</td> <td>    0.290</td>\n",
       "</tr>\n",
       "<tr>\n",
       "  <th>stateNumberCode_13</th> <td>   -0.1664</td> <td>    0.012</td> <td>  -13.585</td> <td> 0.000</td> <td>   -0.190</td> <td>   -0.142</td>\n",
       "</tr>\n",
       "<tr>\n",
       "  <th>stateNumberCode_15</th> <td>   -0.0980</td> <td>    0.042</td> <td>   -2.359</td> <td> 0.018</td> <td>   -0.179</td> <td>   -0.017</td>\n",
       "</tr>\n",
       "<tr>\n",
       "  <th>stateNumberCode_16</th> <td>    0.0595</td> <td>    0.021</td> <td>    2.881</td> <td> 0.004</td> <td>    0.019</td> <td>    0.100</td>\n",
       "</tr>\n",
       "<tr>\n",
       "  <th>stateNumberCode_17</th> <td>   -0.0600</td> <td>    0.021</td> <td>   -2.903</td> <td> 0.004</td> <td>   -0.101</td> <td>   -0.019</td>\n",
       "</tr>\n",
       "<tr>\n",
       "  <th>stateNumberCode_18</th> <td>    0.0019</td> <td>    0.024</td> <td>    0.078</td> <td> 0.938</td> <td>   -0.045</td> <td>    0.048</td>\n",
       "</tr>\n",
       "<tr>\n",
       "  <th>stateNumberCode_19</th> <td>   -0.0243</td> <td>    0.012</td> <td>   -1.955</td> <td> 0.051</td> <td>   -0.049</td> <td> 6.28e-05</td>\n",
       "</tr>\n",
       "<tr>\n",
       "  <th>stateNumberCode_20</th> <td>    0.0013</td> <td>    0.017</td> <td>    0.077</td> <td> 0.939</td> <td>   -0.032</td> <td>    0.035</td>\n",
       "</tr>\n",
       "<tr>\n",
       "  <th>stateNumberCode_21</th> <td>   -0.0746</td> <td>    0.014</td> <td>   -5.331</td> <td> 0.000</td> <td>   -0.102</td> <td>   -0.047</td>\n",
       "</tr>\n",
       "<tr>\n",
       "  <th>stateNumberCode_22</th> <td>    0.1087</td> <td>    0.015</td> <td>    7.253</td> <td> 0.000</td> <td>    0.079</td> <td>    0.138</td>\n",
       "</tr>\n",
       "<tr>\n",
       "  <th>stateNumberCode_23</th> <td>    0.2152</td> <td>    0.019</td> <td>   11.521</td> <td> 0.000</td> <td>    0.179</td> <td>    0.252</td>\n",
       "</tr>\n",
       "<tr>\n",
       "  <th>stateNumberCode_24</th> <td>    0.0510</td> <td>    0.020</td> <td>    2.538</td> <td> 0.011</td> <td>    0.012</td> <td>    0.090</td>\n",
       "</tr>\n",
       "<tr>\n",
       "  <th>stateNumberCode_25</th> <td>   -0.0392</td> <td>    0.018</td> <td>   -2.228</td> <td> 0.026</td> <td>   -0.074</td> <td>   -0.005</td>\n",
       "</tr>\n",
       "<tr>\n",
       "  <th>stateNumberCode_26</th> <td>    0.0081</td> <td>    0.018</td> <td>    0.459</td> <td> 0.646</td> <td>   -0.026</td> <td>    0.043</td>\n",
       "</tr>\n",
       "<tr>\n",
       "  <th>stateNumberCode_27</th> <td>   -0.0150</td> <td>    0.016</td> <td>   -0.934</td> <td> 0.350</td> <td>   -0.047</td> <td>    0.017</td>\n",
       "</tr>\n",
       "<tr>\n",
       "  <th>stateNumberCode_28</th> <td>   -0.0906</td> <td>    0.013</td> <td>   -6.807</td> <td> 0.000</td> <td>   -0.117</td> <td>   -0.065</td>\n",
       "</tr>\n",
       "<tr>\n",
       "  <th>stateNumberCode_29</th> <td>    0.0387</td> <td>    0.019</td> <td>    2.047</td> <td> 0.041</td> <td>    0.002</td> <td>    0.076</td>\n",
       "</tr>\n",
       "<tr>\n",
       "  <th>stateNumberCode_30</th> <td>    0.0695</td> <td>    0.021</td> <td>    3.316</td> <td> 0.001</td> <td>    0.028</td> <td>    0.111</td>\n",
       "</tr>\n",
       "<tr>\n",
       "  <th>stateNumberCode_31</th> <td>   -0.0559</td> <td>    0.016</td> <td>   -3.564</td> <td> 0.000</td> <td>   -0.087</td> <td>   -0.025</td>\n",
       "</tr>\n",
       "<tr>\n",
       "  <th>stateNumberCode_32</th> <td>   -0.1245</td> <td>    0.041</td> <td>   -3.009</td> <td> 0.003</td> <td>   -0.206</td> <td>   -0.043</td>\n",
       "</tr>\n",
       "<tr>\n",
       "  <th>stateNumberCode_33</th> <td>    0.1161</td> <td>    0.018</td> <td>    6.316</td> <td> 0.000</td> <td>    0.080</td> <td>    0.152</td>\n",
       "</tr>\n",
       "<tr>\n",
       "  <th>stateNumberCode_34</th> <td>    0.0983</td> <td>    0.018</td> <td>    5.552</td> <td> 0.000</td> <td>    0.064</td> <td>    0.133</td>\n",
       "</tr>\n",
       "<tr>\n",
       "  <th>stateNumberCode_35</th> <td>   -0.0469</td> <td>    0.025</td> <td>   -1.856</td> <td> 0.063</td> <td>   -0.096</td> <td>    0.003</td>\n",
       "</tr>\n",
       "<tr>\n",
       "  <th>stateNumberCode_36</th> <td>    0.0539</td> <td>    0.016</td> <td>    3.353</td> <td> 0.001</td> <td>    0.022</td> <td>    0.085</td>\n",
       "</tr>\n",
       "<tr>\n",
       "  <th>stateNumberCode_37</th> <td>   -0.0115</td> <td>    0.015</td> <td>   -0.791</td> <td> 0.429</td> <td>   -0.040</td> <td>    0.017</td>\n",
       "</tr>\n",
       "<tr>\n",
       "  <th>stateNumberCode_38</th> <td>    0.0170</td> <td>    0.018</td> <td>    0.968</td> <td> 0.333</td> <td>   -0.017</td> <td>    0.051</td>\n",
       "</tr>\n",
       "<tr>\n",
       "  <th>stateNumberCode_39</th> <td>    0.0359</td> <td>    0.016</td> <td>    2.224</td> <td> 0.026</td> <td>    0.004</td> <td>    0.068</td>\n",
       "</tr>\n",
       "<tr>\n",
       "  <th>stateNumberCode_40</th> <td>   -0.0972</td> <td>    0.012</td> <td>   -8.013</td> <td> 0.000</td> <td>   -0.121</td> <td>   -0.073</td>\n",
       "</tr>\n",
       "<tr>\n",
       "  <th>stateNumberCode_41</th> <td>    0.0498</td> <td>    0.018</td> <td>    2.695</td> <td> 0.007</td> <td>    0.014</td> <td>    0.086</td>\n",
       "</tr>\n",
       "<tr>\n",
       "  <th>stateNumberCode_42</th> <td>   -0.0142</td> <td>    0.018</td> <td>   -0.806</td> <td> 0.420</td> <td>   -0.049</td> <td>    0.020</td>\n",
       "</tr>\n",
       "<tr>\n",
       "  <th>stateNumberCode_44</th> <td>   -0.0951</td> <td>    0.028</td> <td>   -3.451</td> <td> 0.001</td> <td>   -0.149</td> <td>   -0.041</td>\n",
       "</tr>\n",
       "<tr>\n",
       "  <th>stateNumberCode_45</th> <td>    0.0113</td> <td>    0.018</td> <td>    0.625</td> <td> 0.532</td> <td>   -0.024</td> <td>    0.047</td>\n",
       "</tr>\n",
       "<tr>\n",
       "  <th>stateNumberCode_46</th> <td>    0.1079</td> <td>    0.016</td> <td>    6.882</td> <td> 0.000</td> <td>    0.077</td> <td>    0.139</td>\n",
       "</tr>\n",
       "<tr>\n",
       "  <th>stateNumberCode_47</th> <td>   -0.1113</td> <td>    0.018</td> <td>   -6.252</td> <td> 0.000</td> <td>   -0.146</td> <td>   -0.076</td>\n",
       "</tr>\n",
       "<tr>\n",
       "  <th>stateNumberCode_48</th> <td>   -0.0165</td> <td>    0.013</td> <td>   -1.273</td> <td> 0.203</td> <td>   -0.042</td> <td>    0.009</td>\n",
       "</tr>\n",
       "<tr>\n",
       "  <th>stateNumberCode_49</th> <td>   -0.0345</td> <td>    0.031</td> <td>   -1.125</td> <td> 0.261</td> <td>   -0.095</td> <td>    0.026</td>\n",
       "</tr>\n",
       "<tr>\n",
       "  <th>stateNumberCode_50</th> <td>    0.0203</td> <td>    0.017</td> <td>    1.207</td> <td> 0.227</td> <td>   -0.013</td> <td>    0.053</td>\n",
       "</tr>\n",
       "<tr>\n",
       "  <th>stateNumberCode_51</th> <td>   -0.0537</td> <td>    0.018</td> <td>   -2.945</td> <td> 0.003</td> <td>   -0.089</td> <td>   -0.018</td>\n",
       "</tr>\n",
       "<tr>\n",
       "  <th>stateNumberCode_53</th> <td>   -0.0760</td> <td>    0.016</td> <td>   -4.694</td> <td> 0.000</td> <td>   -0.108</td> <td>   -0.044</td>\n",
       "</tr>\n",
       "<tr>\n",
       "  <th>stateNumberCode_54</th> <td>    0.0368</td> <td>    0.022</td> <td>    1.682</td> <td> 0.093</td> <td>   -0.006</td> <td>    0.080</td>\n",
       "</tr>\n",
       "<tr>\n",
       "  <th>stateNumberCode_55</th> <td>   -0.0035</td> <td>    0.015</td> <td>   -0.224</td> <td> 0.823</td> <td>   -0.034</td> <td>    0.027</td>\n",
       "</tr>\n",
       "<tr>\n",
       "  <th>stateNumberCode_56</th> <td>   -0.0689</td> <td>    0.035</td> <td>   -1.965</td> <td> 0.049</td> <td>   -0.138</td> <td>   -0.000</td>\n",
       "</tr>\n",
       "<tr>\n",
       "  <th>stateNumberCode_60</th> <td>   -0.1413</td> <td>    0.075</td> <td>   -1.889</td> <td> 0.059</td> <td>   -0.288</td> <td>    0.005</td>\n",
       "</tr>\n",
       "<tr>\n",
       "  <th>stateNumberCode_64</th> <td>    0.0667</td> <td>    0.063</td> <td>    1.062</td> <td> 0.288</td> <td>   -0.056</td> <td>    0.190</td>\n",
       "</tr>\n",
       "<tr>\n",
       "  <th>stateNumberCode_66</th> <td>    0.0247</td> <td>    0.061</td> <td>    0.406</td> <td> 0.685</td> <td>   -0.094</td> <td>    0.144</td>\n",
       "</tr>\n",
       "<tr>\n",
       "  <th>stateNumberCode_68</th> <td>   -0.0146</td> <td>    0.137</td> <td>   -0.106</td> <td> 0.915</td> <td>   -0.284</td> <td>    0.255</td>\n",
       "</tr>\n",
       "<tr>\n",
       "  <th>stateNumberCode_69</th> <td>    0.1329</td> <td>    0.050</td> <td>    2.676</td> <td> 0.007</td> <td>    0.036</td> <td>    0.230</td>\n",
       "</tr>\n",
       "<tr>\n",
       "  <th>stateNumberCode_70</th> <td>    0.5129</td> <td>    0.119</td> <td>    4.294</td> <td> 0.000</td> <td>    0.279</td> <td>    0.747</td>\n",
       "</tr>\n",
       "<tr>\n",
       "  <th>stateNumberCode_72</th> <td>   -0.1087</td> <td>    0.021</td> <td>   -5.178</td> <td> 0.000</td> <td>   -0.150</td> <td>   -0.068</td>\n",
       "</tr>\n",
       "<tr>\n",
       "  <th>stateNumberCode_78</th> <td>   -0.0297</td> <td>    0.040</td> <td>   -0.737</td> <td> 0.461</td> <td>   -0.109</td> <td>    0.049</td>\n",
       "</tr>\n",
       "<tr>\n",
       "  <th>programArea_FMA</th>    <td>    0.0314</td> <td>    0.011</td> <td>    2.792</td> <td> 0.005</td> <td>    0.009</td> <td>    0.053</td>\n",
       "</tr>\n",
       "<tr>\n",
       "  <th>programArea_HMGP</th>   <td>    0.0466</td> <td>    0.009</td> <td>    5.066</td> <td> 0.000</td> <td>    0.029</td> <td>    0.065</td>\n",
       "</tr>\n",
       "<tr>\n",
       "  <th>programArea_LPDM</th>   <td>    0.2125</td> <td>    0.025</td> <td>    8.670</td> <td> 0.000</td> <td>    0.164</td> <td>    0.261</td>\n",
       "</tr>\n",
       "<tr>\n",
       "  <th>programArea_PDM</th>    <td>   -0.0969</td> <td>    0.011</td> <td>   -9.170</td> <td> 0.000</td> <td>   -0.118</td> <td>   -0.076</td>\n",
       "</tr>\n",
       "<tr>\n",
       "  <th>programArea_RFC</th>    <td>   -0.0334</td> <td>    0.036</td> <td>   -0.941</td> <td> 0.347</td> <td>   -0.103</td> <td>    0.036</td>\n",
       "</tr>\n",
       "<tr>\n",
       "  <th>programArea_SRL</th>    <td>    0.0112</td> <td>    0.027</td> <td>    0.420</td> <td> 0.675</td> <td>   -0.041</td> <td>    0.064</td>\n",
       "</tr>\n",
       "<tr>\n",
       "  <th>programFy_1989</th>     <td>    0.0007</td> <td>    0.035</td> <td>    0.021</td> <td> 0.983</td> <td>   -0.069</td> <td>    0.070</td>\n",
       "</tr>\n",
       "<tr>\n",
       "  <th>programFy_1990</th>     <td>    0.1577</td> <td>    0.028</td> <td>    5.708</td> <td> 0.000</td> <td>    0.104</td> <td>    0.212</td>\n",
       "</tr>\n",
       "<tr>\n",
       "  <th>programFy_1991</th>     <td>   -0.0032</td> <td>    0.030</td> <td>   -0.106</td> <td> 0.915</td> <td>   -0.063</td> <td>    0.056</td>\n",
       "</tr>\n",
       "<tr>\n",
       "  <th>programFy_1992</th>     <td>    0.1502</td> <td>    0.025</td> <td>    6.071</td> <td> 0.000</td> <td>    0.102</td> <td>    0.199</td>\n",
       "</tr>\n",
       "<tr>\n",
       "  <th>programFy_1993</th>     <td>    0.1505</td> <td>    0.022</td> <td>    6.778</td> <td> 0.000</td> <td>    0.107</td> <td>    0.194</td>\n",
       "</tr>\n",
       "<tr>\n",
       "  <th>programFy_1994</th>     <td>    0.1374</td> <td>    0.016</td> <td>    8.640</td> <td> 0.000</td> <td>    0.106</td> <td>    0.169</td>\n",
       "</tr>\n",
       "<tr>\n",
       "  <th>programFy_1995</th>     <td>    0.0327</td> <td>    0.023</td> <td>    1.451</td> <td> 0.147</td> <td>   -0.011</td> <td>    0.077</td>\n",
       "</tr>\n",
       "<tr>\n",
       "  <th>programFy_1996</th>     <td>    0.0932</td> <td>    0.015</td> <td>    6.386</td> <td> 0.000</td> <td>    0.065</td> <td>    0.122</td>\n",
       "</tr>\n",
       "<tr>\n",
       "  <th>programFy_1997</th>     <td>    0.1301</td> <td>    0.014</td> <td>    9.360</td> <td> 0.000</td> <td>    0.103</td> <td>    0.157</td>\n",
       "</tr>\n",
       "<tr>\n",
       "  <th>programFy_1998</th>     <td>    0.0861</td> <td>    0.012</td> <td>    7.456</td> <td> 0.000</td> <td>    0.063</td> <td>    0.109</td>\n",
       "</tr>\n",
       "<tr>\n",
       "  <th>programFy_1999</th>     <td>    0.0603</td> <td>    0.016</td> <td>    3.709</td> <td> 0.000</td> <td>    0.028</td> <td>    0.092</td>\n",
       "</tr>\n",
       "<tr>\n",
       "  <th>programFy_2000</th>     <td>    0.0040</td> <td>    0.016</td> <td>    0.254</td> <td> 0.800</td> <td>   -0.027</td> <td>    0.035</td>\n",
       "</tr>\n",
       "<tr>\n",
       "  <th>programFy_2001</th>     <td>    0.0195</td> <td>    0.013</td> <td>    1.470</td> <td> 0.142</td> <td>   -0.007</td> <td>    0.046</td>\n",
       "</tr>\n",
       "<tr>\n",
       "  <th>programFy_2002</th>     <td>   -0.0294</td> <td>    0.014</td> <td>   -2.109</td> <td> 0.035</td> <td>   -0.057</td> <td>   -0.002</td>\n",
       "</tr>\n",
       "<tr>\n",
       "  <th>programFy_2003</th>     <td>   -0.0276</td> <td>    0.013</td> <td>   -2.080</td> <td> 0.037</td> <td>   -0.054</td> <td>   -0.002</td>\n",
       "</tr>\n",
       "<tr>\n",
       "  <th>programFy_2004</th>     <td>    0.0101</td> <td>    0.013</td> <td>    0.767</td> <td> 0.443</td> <td>   -0.016</td> <td>    0.036</td>\n",
       "</tr>\n",
       "<tr>\n",
       "  <th>programFy_2005</th>     <td>   -0.0682</td> <td>    0.011</td> <td>   -5.993</td> <td> 0.000</td> <td>   -0.091</td> <td>   -0.046</td>\n",
       "</tr>\n",
       "<tr>\n",
       "  <th>programFy_2006</th>     <td>   -0.0152</td> <td>    0.017</td> <td>   -0.871</td> <td> 0.384</td> <td>   -0.049</td> <td>    0.019</td>\n",
       "</tr>\n",
       "<tr>\n",
       "  <th>programFy_2007</th>     <td>   -0.0446</td> <td>    0.012</td> <td>   -3.679</td> <td> 0.000</td> <td>   -0.068</td> <td>   -0.021</td>\n",
       "</tr>\n",
       "<tr>\n",
       "  <th>programFy_2008</th>     <td>   -0.0533</td> <td>    0.012</td> <td>   -4.500</td> <td> 0.000</td> <td>   -0.076</td> <td>   -0.030</td>\n",
       "</tr>\n",
       "<tr>\n",
       "  <th>programFy_2009</th>     <td>   -0.0728</td> <td>    0.012</td> <td>   -5.853</td> <td> 0.000</td> <td>   -0.097</td> <td>   -0.048</td>\n",
       "</tr>\n",
       "<tr>\n",
       "  <th>programFy_2010</th>     <td>   -0.0525</td> <td>    0.012</td> <td>   -4.349</td> <td> 0.000</td> <td>   -0.076</td> <td>   -0.029</td>\n",
       "</tr>\n",
       "<tr>\n",
       "  <th>programFy_2011</th>     <td>    0.0379</td> <td>    0.010</td> <td>    3.783</td> <td> 0.000</td> <td>    0.018</td> <td>    0.057</td>\n",
       "</tr>\n",
       "<tr>\n",
       "  <th>programFy_2012</th>     <td>   -0.0074</td> <td>    0.016</td> <td>   -0.449</td> <td> 0.653</td> <td>   -0.040</td> <td>    0.025</td>\n",
       "</tr>\n",
       "<tr>\n",
       "  <th>programFy_2013</th>     <td>   -0.0168</td> <td>    0.013</td> <td>   -1.270</td> <td> 0.204</td> <td>   -0.043</td> <td>    0.009</td>\n",
       "</tr>\n",
       "<tr>\n",
       "  <th>programFy_2014</th>     <td>    0.0032</td> <td>    0.013</td> <td>    0.242</td> <td> 0.809</td> <td>   -0.023</td> <td>    0.029</td>\n",
       "</tr>\n",
       "<tr>\n",
       "  <th>programFy_2015</th>     <td>   -0.0698</td> <td>    0.014</td> <td>   -5.118</td> <td> 0.000</td> <td>   -0.097</td> <td>   -0.043</td>\n",
       "</tr>\n",
       "<tr>\n",
       "  <th>programFy_2016</th>     <td>    0.0064</td> <td>    0.013</td> <td>    0.474</td> <td> 0.635</td> <td>   -0.020</td> <td>    0.033</td>\n",
       "</tr>\n",
       "<tr>\n",
       "  <th>programFy_2017</th>     <td>   -0.0050</td> <td>    0.011</td> <td>   -0.450</td> <td> 0.653</td> <td>   -0.027</td> <td>    0.017</td>\n",
       "</tr>\n",
       "<tr>\n",
       "  <th>programFy_2018</th>     <td>   -0.0519</td> <td>    0.014</td> <td>   -3.752</td> <td> 0.000</td> <td>   -0.079</td> <td>   -0.025</td>\n",
       "</tr>\n",
       "<tr>\n",
       "  <th>programFy_2019</th>     <td>   -0.1512</td> <td>    0.016</td> <td>   -9.479</td> <td> 0.000</td> <td>   -0.182</td> <td>   -0.120</td>\n",
       "</tr>\n",
       "<tr>\n",
       "  <th>programFy_2020</th>     <td>   -0.2397</td> <td>    0.103</td> <td>   -2.335</td> <td> 0.020</td> <td>   -0.441</td> <td>   -0.038</td>\n",
       "</tr>\n",
       "</table>\n",
       "<table class=\"simpletable\">\n",
       "<tr>\n",
       "  <th>Omnibus:</th>       <td>904.993</td> <th>  Durbin-Watson:     </th> <td>   1.818</td> \n",
       "</tr>\n",
       "<tr>\n",
       "  <th>Prob(Omnibus):</th> <td> 0.000</td>  <th>  Jarque-Bera (JB):  </th> <td>1038.391</td> \n",
       "</tr>\n",
       "<tr>\n",
       "  <th>Skew:</th>          <td> 0.538</td>  <th>  Prob(JB):          </th> <td>3.28e-226</td>\n",
       "</tr>\n",
       "<tr>\n",
       "  <th>Kurtosis:</th>      <td> 3.323</td>  <th>  Cond. No.          </th> <td>6.12e+18</td> \n",
       "</tr>\n",
       "</table><br/><br/>Warnings:<br/>[1] Standard Errors assume that the covariance matrix of the errors is correctly specified.<br/>[2] The smallest eigenvalue is 3.61e-23. This might indicate that there are<br/>strong multicollinearity problems or that the design matrix is singular."
      ],
      "text/plain": [
       "<class 'statsmodels.iolib.summary.Summary'>\n",
       "\"\"\"\n",
       "                            OLS Regression Results                            \n",
       "==============================================================================\n",
       "Dep. Variable:           Positive_ROI   R-squared:                       0.492\n",
       "Model:                            OLS   Adj. R-squared:                  0.490\n",
       "Method:                 Least Squares   F-statistic:                     198.2\n",
       "Date:                Wed, 17 Feb 2021   Prob (F-statistic):               0.00\n",
       "Time:                        22:37:26   Log-Likelihood:                -6321.3\n",
       "No. Observations:               19721   AIC:                         1.284e+04\n",
       "Df Residuals:                   19624   BIC:                         1.360e+04\n",
       "Df Model:                          96                                         \n",
       "Covariance Type:            nonrobust                                         \n",
       "======================================================================================\n",
       "                         coef    std err          t      P>|t|      [0.025      0.975]\n",
       "--------------------------------------------------------------------------------------\n",
       "Intercept              0.1715      0.009     19.207      0.000       0.154       0.189\n",
       "projectAmount       -1.54e-07   2.45e-08     -6.288      0.000   -2.02e-07   -1.06e-07\n",
       "netValueBenefits    1.245e-06   1.32e-08     94.629      0.000    1.22e-06    1.27e-06\n",
       "region_1               0.0949      0.008     12.099      0.000       0.079       0.110\n",
       "region_2               0.0138      0.011      1.235      0.217      -0.008       0.036\n",
       "region_3              -0.0086      0.010     -0.830      0.407      -0.029       0.012\n",
       "region_4               0.0186      0.005      3.385      0.001       0.008       0.029\n",
       "region_5              -0.0326      0.007     -4.516      0.000      -0.047      -0.018\n",
       "region_6              -0.0245      0.007     -3.335      0.001      -0.039      -0.010\n",
       "region_7              -0.0402      0.008     -5.273      0.000      -0.055      -0.025\n",
       "region_8               0.0121      0.009      1.311      0.190      -0.006       0.030\n",
       "region_9               0.1142      0.020      5.582      0.000       0.074       0.154\n",
       "region_10              0.0237      0.009      2.760      0.006       0.007       0.041\n",
       "stateNumberCode_1      0.1910      0.011     18.018      0.000       0.170       0.212\n",
       "stateNumberCode_2     -0.0097      0.021     -0.464      0.643      -0.050       0.031\n",
       "stateNumberCode_4     -0.1230      0.035     -3.500      0.000      -0.192      -0.054\n",
       "stateNumberCode_5      0.0274      0.018      1.482      0.138      -0.009       0.064\n",
       "stateNumberCode_6     -0.1214      0.025     -4.897      0.000      -0.170      -0.073\n",
       "stateNumberCode_8     -0.0789      0.023     -3.447      0.001      -0.124      -0.034\n",
       "stateNumberCode_9     -0.1225      0.022     -5.479      0.000      -0.166      -0.079\n",
       "stateNumberCode_10     0.0393      0.030      1.320      0.187      -0.019       0.098\n",
       "stateNumberCode_11    -0.0677      0.048     -1.399      0.162      -0.163       0.027\n",
       "stateNumberCode_12     0.2706      0.010     27.119      0.000       0.251       0.290\n",
       "stateNumberCode_13    -0.1664      0.012    -13.585      0.000      -0.190      -0.142\n",
       "stateNumberCode_15    -0.0980      0.042     -2.359      0.018      -0.179      -0.017\n",
       "stateNumberCode_16     0.0595      0.021      2.881      0.004       0.019       0.100\n",
       "stateNumberCode_17    -0.0600      0.021     -2.903      0.004      -0.101      -0.019\n",
       "stateNumberCode_18     0.0019      0.024      0.078      0.938      -0.045       0.048\n",
       "stateNumberCode_19    -0.0243      0.012     -1.955      0.051      -0.049    6.28e-05\n",
       "stateNumberCode_20     0.0013      0.017      0.077      0.939      -0.032       0.035\n",
       "stateNumberCode_21    -0.0746      0.014     -5.331      0.000      -0.102      -0.047\n",
       "stateNumberCode_22     0.1087      0.015      7.253      0.000       0.079       0.138\n",
       "stateNumberCode_23     0.2152      0.019     11.521      0.000       0.179       0.252\n",
       "stateNumberCode_24     0.0510      0.020      2.538      0.011       0.012       0.090\n",
       "stateNumberCode_25    -0.0392      0.018     -2.228      0.026      -0.074      -0.005\n",
       "stateNumberCode_26     0.0081      0.018      0.459      0.646      -0.026       0.043\n",
       "stateNumberCode_27    -0.0150      0.016     -0.934      0.350      -0.047       0.017\n",
       "stateNumberCode_28    -0.0906      0.013     -6.807      0.000      -0.117      -0.065\n",
       "stateNumberCode_29     0.0387      0.019      2.047      0.041       0.002       0.076\n",
       "stateNumberCode_30     0.0695      0.021      3.316      0.001       0.028       0.111\n",
       "stateNumberCode_31    -0.0559      0.016     -3.564      0.000      -0.087      -0.025\n",
       "stateNumberCode_32    -0.1245      0.041     -3.009      0.003      -0.206      -0.043\n",
       "stateNumberCode_33     0.1161      0.018      6.316      0.000       0.080       0.152\n",
       "stateNumberCode_34     0.0983      0.018      5.552      0.000       0.064       0.133\n",
       "stateNumberCode_35    -0.0469      0.025     -1.856      0.063      -0.096       0.003\n",
       "stateNumberCode_36     0.0539      0.016      3.353      0.001       0.022       0.085\n",
       "stateNumberCode_37    -0.0115      0.015     -0.791      0.429      -0.040       0.017\n",
       "stateNumberCode_38     0.0170      0.018      0.968      0.333      -0.017       0.051\n",
       "stateNumberCode_39     0.0359      0.016      2.224      0.026       0.004       0.068\n",
       "stateNumberCode_40    -0.0972      0.012     -8.013      0.000      -0.121      -0.073\n",
       "stateNumberCode_41     0.0498      0.018      2.695      0.007       0.014       0.086\n",
       "stateNumberCode_42    -0.0142      0.018     -0.806      0.420      -0.049       0.020\n",
       "stateNumberCode_44    -0.0951      0.028     -3.451      0.001      -0.149      -0.041\n",
       "stateNumberCode_45     0.0113      0.018      0.625      0.532      -0.024       0.047\n",
       "stateNumberCode_46     0.1079      0.016      6.882      0.000       0.077       0.139\n",
       "stateNumberCode_47    -0.1113      0.018     -6.252      0.000      -0.146      -0.076\n",
       "stateNumberCode_48    -0.0165      0.013     -1.273      0.203      -0.042       0.009\n",
       "stateNumberCode_49    -0.0345      0.031     -1.125      0.261      -0.095       0.026\n",
       "stateNumberCode_50     0.0203      0.017      1.207      0.227      -0.013       0.053\n",
       "stateNumberCode_51    -0.0537      0.018     -2.945      0.003      -0.089      -0.018\n",
       "stateNumberCode_53    -0.0760      0.016     -4.694      0.000      -0.108      -0.044\n",
       "stateNumberCode_54     0.0368      0.022      1.682      0.093      -0.006       0.080\n",
       "stateNumberCode_55    -0.0035      0.015     -0.224      0.823      -0.034       0.027\n",
       "stateNumberCode_56    -0.0689      0.035     -1.965      0.049      -0.138      -0.000\n",
       "stateNumberCode_60    -0.1413      0.075     -1.889      0.059      -0.288       0.005\n",
       "stateNumberCode_64     0.0667      0.063      1.062      0.288      -0.056       0.190\n",
       "stateNumberCode_66     0.0247      0.061      0.406      0.685      -0.094       0.144\n",
       "stateNumberCode_68    -0.0146      0.137     -0.106      0.915      -0.284       0.255\n",
       "stateNumberCode_69     0.1329      0.050      2.676      0.007       0.036       0.230\n",
       "stateNumberCode_70     0.5129      0.119      4.294      0.000       0.279       0.747\n",
       "stateNumberCode_72    -0.1087      0.021     -5.178      0.000      -0.150      -0.068\n",
       "stateNumberCode_78    -0.0297      0.040     -0.737      0.461      -0.109       0.049\n",
       "programArea_FMA        0.0314      0.011      2.792      0.005       0.009       0.053\n",
       "programArea_HMGP       0.0466      0.009      5.066      0.000       0.029       0.065\n",
       "programArea_LPDM       0.2125      0.025      8.670      0.000       0.164       0.261\n",
       "programArea_PDM       -0.0969      0.011     -9.170      0.000      -0.118      -0.076\n",
       "programArea_RFC       -0.0334      0.036     -0.941      0.347      -0.103       0.036\n",
       "programArea_SRL        0.0112      0.027      0.420      0.675      -0.041       0.064\n",
       "programFy_1989         0.0007      0.035      0.021      0.983      -0.069       0.070\n",
       "programFy_1990         0.1577      0.028      5.708      0.000       0.104       0.212\n",
       "programFy_1991        -0.0032      0.030     -0.106      0.915      -0.063       0.056\n",
       "programFy_1992         0.1502      0.025      6.071      0.000       0.102       0.199\n",
       "programFy_1993         0.1505      0.022      6.778      0.000       0.107       0.194\n",
       "programFy_1994         0.1374      0.016      8.640      0.000       0.106       0.169\n",
       "programFy_1995         0.0327      0.023      1.451      0.147      -0.011       0.077\n",
       "programFy_1996         0.0932      0.015      6.386      0.000       0.065       0.122\n",
       "programFy_1997         0.1301      0.014      9.360      0.000       0.103       0.157\n",
       "programFy_1998         0.0861      0.012      7.456      0.000       0.063       0.109\n",
       "programFy_1999         0.0603      0.016      3.709      0.000       0.028       0.092\n",
       "programFy_2000         0.0040      0.016      0.254      0.800      -0.027       0.035\n",
       "programFy_2001         0.0195      0.013      1.470      0.142      -0.007       0.046\n",
       "programFy_2002        -0.0294      0.014     -2.109      0.035      -0.057      -0.002\n",
       "programFy_2003        -0.0276      0.013     -2.080      0.037      -0.054      -0.002\n",
       "programFy_2004         0.0101      0.013      0.767      0.443      -0.016       0.036\n",
       "programFy_2005        -0.0682      0.011     -5.993      0.000      -0.091      -0.046\n",
       "programFy_2006        -0.0152      0.017     -0.871      0.384      -0.049       0.019\n",
       "programFy_2007        -0.0446      0.012     -3.679      0.000      -0.068      -0.021\n",
       "programFy_2008        -0.0533      0.012     -4.500      0.000      -0.076      -0.030\n",
       "programFy_2009        -0.0728      0.012     -5.853      0.000      -0.097      -0.048\n",
       "programFy_2010        -0.0525      0.012     -4.349      0.000      -0.076      -0.029\n",
       "programFy_2011         0.0379      0.010      3.783      0.000       0.018       0.057\n",
       "programFy_2012        -0.0074      0.016     -0.449      0.653      -0.040       0.025\n",
       "programFy_2013        -0.0168      0.013     -1.270      0.204      -0.043       0.009\n",
       "programFy_2014         0.0032      0.013      0.242      0.809      -0.023       0.029\n",
       "programFy_2015        -0.0698      0.014     -5.118      0.000      -0.097      -0.043\n",
       "programFy_2016         0.0064      0.013      0.474      0.635      -0.020       0.033\n",
       "programFy_2017        -0.0050      0.011     -0.450      0.653      -0.027       0.017\n",
       "programFy_2018        -0.0519      0.014     -3.752      0.000      -0.079      -0.025\n",
       "programFy_2019        -0.1512      0.016     -9.479      0.000      -0.182      -0.120\n",
       "programFy_2020        -0.2397      0.103     -2.335      0.020      -0.441      -0.038\n",
       "==============================================================================\n",
       "Omnibus:                      904.993   Durbin-Watson:                   1.818\n",
       "Prob(Omnibus):                  0.000   Jarque-Bera (JB):             1038.391\n",
       "Skew:                           0.538   Prob(JB):                    3.28e-226\n",
       "Kurtosis:                       3.323   Cond. No.                     6.12e+18\n",
       "==============================================================================\n",
       "\n",
       "Warnings:\n",
       "[1] Standard Errors assume that the covariance matrix of the errors is correctly specified.\n",
       "[2] The smallest eigenvalue is 3.61e-23. This might indicate that there are\n",
       "strong multicollinearity problems or that the design matrix is singular.\n",
       "\"\"\""
      ]
     },
     "execution_count": 83,
     "metadata": {},
     "output_type": "execute_result"
    }
   ],
   "source": [
    "features = '+'.join(df.drop('Positive_ROI', axis = 1).columns)\n",
    "formula = 'Positive_ROI ~' + features\n",
    "model1 = smf.ols(formula, df).fit()\n",
    "model1.summary()"
   ]
  },
  {
   "cell_type": "code",
   "execution_count": 84,
   "metadata": {
    "scrolled": false
   },
   "outputs": [
    {
     "data": {
      "text/plain": [
       "Intercept           0.171\n",
       "projectAmount      -0.000\n",
       "netValueBenefits    0.000\n",
       "region_1            0.095\n",
       "region_2            0.014\n",
       "                    ...  \n",
       "programFy_2016      0.006\n",
       "programFy_2017     -0.005\n",
       "programFy_2018     -0.052\n",
       "programFy_2019     -0.151\n",
       "programFy_2020     -0.240\n",
       "Length: 110, dtype: float64"
      ]
     },
     "execution_count": 84,
     "metadata": {},
     "output_type": "execute_result"
    }
   ],
   "source": [
    "model1.params"
   ]
  },
  {
   "cell_type": "markdown",
   "metadata": {},
   "source": [
    "### We can see that we have some columns/features that are highly correlated including projectAmount, which is used to calculate the Positive ROI and netValueBenefits which has the same issue of correlation. Because of this we will delete these two columns"
   ]
  },
  {
   "cell_type": "markdown",
   "metadata": {},
   "source": [
    "# Logistic Model #2"
   ]
  },
  {
   "cell_type": "code",
   "execution_count": 85,
   "metadata": {},
   "outputs": [],
   "source": [
    "df.drop(columns=['projectAmount', 'netValueBenefits'], inplace=True)"
   ]
  },
  {
   "cell_type": "code",
   "execution_count": 86,
   "metadata": {},
   "outputs": [
    {
     "data": {
      "text/html": [
       "<div>\n",
       "<style scoped>\n",
       "    .dataframe tbody tr th:only-of-type {\n",
       "        vertical-align: middle;\n",
       "    }\n",
       "\n",
       "    .dataframe tbody tr th {\n",
       "        vertical-align: top;\n",
       "    }\n",
       "\n",
       "    .dataframe thead th {\n",
       "        text-align: right;\n",
       "    }\n",
       "</style>\n",
       "<table border=\"1\" class=\"dataframe\">\n",
       "  <thead>\n",
       "    <tr style=\"text-align: right;\">\n",
       "      <th></th>\n",
       "      <th>Positive_ROI</th>\n",
       "      <th>region_1</th>\n",
       "      <th>region_2</th>\n",
       "      <th>region_3</th>\n",
       "      <th>region_4</th>\n",
       "      <th>region_5</th>\n",
       "      <th>region_6</th>\n",
       "      <th>region_7</th>\n",
       "      <th>region_8</th>\n",
       "      <th>region_9</th>\n",
       "      <th>region_10</th>\n",
       "      <th>stateNumberCode_1</th>\n",
       "      <th>stateNumberCode_2</th>\n",
       "      <th>stateNumberCode_4</th>\n",
       "      <th>stateNumberCode_5</th>\n",
       "      <th>stateNumberCode_6</th>\n",
       "      <th>stateNumberCode_8</th>\n",
       "      <th>stateNumberCode_9</th>\n",
       "      <th>stateNumberCode_10</th>\n",
       "      <th>stateNumberCode_11</th>\n",
       "      <th>stateNumberCode_12</th>\n",
       "      <th>stateNumberCode_13</th>\n",
       "      <th>stateNumberCode_15</th>\n",
       "      <th>stateNumberCode_16</th>\n",
       "      <th>stateNumberCode_17</th>\n",
       "      <th>stateNumberCode_18</th>\n",
       "      <th>stateNumberCode_19</th>\n",
       "      <th>stateNumberCode_20</th>\n",
       "      <th>stateNumberCode_21</th>\n",
       "      <th>stateNumberCode_22</th>\n",
       "      <th>stateNumberCode_23</th>\n",
       "      <th>stateNumberCode_24</th>\n",
       "      <th>stateNumberCode_25</th>\n",
       "      <th>stateNumberCode_26</th>\n",
       "      <th>stateNumberCode_27</th>\n",
       "      <th>stateNumberCode_28</th>\n",
       "      <th>stateNumberCode_29</th>\n",
       "      <th>stateNumberCode_30</th>\n",
       "      <th>stateNumberCode_31</th>\n",
       "      <th>stateNumberCode_32</th>\n",
       "      <th>...</th>\n",
       "      <th>stateNumberCode_72</th>\n",
       "      <th>stateNumberCode_78</th>\n",
       "      <th>programArea_FMA</th>\n",
       "      <th>programArea_HMGP</th>\n",
       "      <th>programArea_LPDM</th>\n",
       "      <th>programArea_PDM</th>\n",
       "      <th>programArea_RFC</th>\n",
       "      <th>programArea_SRL</th>\n",
       "      <th>programFy_1989</th>\n",
       "      <th>programFy_1990</th>\n",
       "      <th>programFy_1991</th>\n",
       "      <th>programFy_1992</th>\n",
       "      <th>programFy_1993</th>\n",
       "      <th>programFy_1994</th>\n",
       "      <th>programFy_1995</th>\n",
       "      <th>programFy_1996</th>\n",
       "      <th>programFy_1997</th>\n",
       "      <th>programFy_1998</th>\n",
       "      <th>programFy_1999</th>\n",
       "      <th>programFy_2000</th>\n",
       "      <th>programFy_2001</th>\n",
       "      <th>programFy_2002</th>\n",
       "      <th>programFy_2003</th>\n",
       "      <th>programFy_2004</th>\n",
       "      <th>programFy_2005</th>\n",
       "      <th>programFy_2006</th>\n",
       "      <th>programFy_2007</th>\n",
       "      <th>programFy_2008</th>\n",
       "      <th>programFy_2009</th>\n",
       "      <th>programFy_2010</th>\n",
       "      <th>programFy_2011</th>\n",
       "      <th>programFy_2012</th>\n",
       "      <th>programFy_2013</th>\n",
       "      <th>programFy_2014</th>\n",
       "      <th>programFy_2015</th>\n",
       "      <th>programFy_2016</th>\n",
       "      <th>programFy_2017</th>\n",
       "      <th>programFy_2018</th>\n",
       "      <th>programFy_2019</th>\n",
       "      <th>programFy_2020</th>\n",
       "    </tr>\n",
       "  </thead>\n",
       "  <tbody>\n",
       "    <tr>\n",
       "      <td>1</td>\n",
       "      <td>1</td>\n",
       "      <td>0</td>\n",
       "      <td>0</td>\n",
       "      <td>0</td>\n",
       "      <td>0</td>\n",
       "      <td>1</td>\n",
       "      <td>0</td>\n",
       "      <td>0</td>\n",
       "      <td>0</td>\n",
       "      <td>0</td>\n",
       "      <td>0</td>\n",
       "      <td>0</td>\n",
       "      <td>0</td>\n",
       "      <td>0</td>\n",
       "      <td>0</td>\n",
       "      <td>0</td>\n",
       "      <td>0</td>\n",
       "      <td>0</td>\n",
       "      <td>0</td>\n",
       "      <td>0</td>\n",
       "      <td>0</td>\n",
       "      <td>0</td>\n",
       "      <td>0</td>\n",
       "      <td>0</td>\n",
       "      <td>0</td>\n",
       "      <td>1</td>\n",
       "      <td>0</td>\n",
       "      <td>0</td>\n",
       "      <td>0</td>\n",
       "      <td>0</td>\n",
       "      <td>0</td>\n",
       "      <td>0</td>\n",
       "      <td>0</td>\n",
       "      <td>0</td>\n",
       "      <td>0</td>\n",
       "      <td>0</td>\n",
       "      <td>0</td>\n",
       "      <td>0</td>\n",
       "      <td>0</td>\n",
       "      <td>0</td>\n",
       "      <td>...</td>\n",
       "      <td>0</td>\n",
       "      <td>0</td>\n",
       "      <td>0</td>\n",
       "      <td>1</td>\n",
       "      <td>0</td>\n",
       "      <td>0</td>\n",
       "      <td>0</td>\n",
       "      <td>0</td>\n",
       "      <td>0</td>\n",
       "      <td>0</td>\n",
       "      <td>0</td>\n",
       "      <td>0</td>\n",
       "      <td>0</td>\n",
       "      <td>0</td>\n",
       "      <td>0</td>\n",
       "      <td>0</td>\n",
       "      <td>0</td>\n",
       "      <td>0</td>\n",
       "      <td>0</td>\n",
       "      <td>0</td>\n",
       "      <td>0</td>\n",
       "      <td>0</td>\n",
       "      <td>0</td>\n",
       "      <td>0</td>\n",
       "      <td>0</td>\n",
       "      <td>0</td>\n",
       "      <td>0</td>\n",
       "      <td>0</td>\n",
       "      <td>0</td>\n",
       "      <td>0</td>\n",
       "      <td>1</td>\n",
       "      <td>0</td>\n",
       "      <td>0</td>\n",
       "      <td>0</td>\n",
       "      <td>0</td>\n",
       "      <td>0</td>\n",
       "      <td>0</td>\n",
       "      <td>0</td>\n",
       "      <td>0</td>\n",
       "      <td>0</td>\n",
       "    </tr>\n",
       "    <tr>\n",
       "      <td>2</td>\n",
       "      <td>0</td>\n",
       "      <td>0</td>\n",
       "      <td>0</td>\n",
       "      <td>0</td>\n",
       "      <td>0</td>\n",
       "      <td>0</td>\n",
       "      <td>0</td>\n",
       "      <td>1</td>\n",
       "      <td>0</td>\n",
       "      <td>0</td>\n",
       "      <td>0</td>\n",
       "      <td>0</td>\n",
       "      <td>0</td>\n",
       "      <td>0</td>\n",
       "      <td>0</td>\n",
       "      <td>0</td>\n",
       "      <td>0</td>\n",
       "      <td>0</td>\n",
       "      <td>0</td>\n",
       "      <td>0</td>\n",
       "      <td>0</td>\n",
       "      <td>0</td>\n",
       "      <td>0</td>\n",
       "      <td>0</td>\n",
       "      <td>0</td>\n",
       "      <td>0</td>\n",
       "      <td>1</td>\n",
       "      <td>0</td>\n",
       "      <td>0</td>\n",
       "      <td>0</td>\n",
       "      <td>0</td>\n",
       "      <td>0</td>\n",
       "      <td>0</td>\n",
       "      <td>0</td>\n",
       "      <td>0</td>\n",
       "      <td>0</td>\n",
       "      <td>0</td>\n",
       "      <td>0</td>\n",
       "      <td>0</td>\n",
       "      <td>0</td>\n",
       "      <td>...</td>\n",
       "      <td>0</td>\n",
       "      <td>0</td>\n",
       "      <td>0</td>\n",
       "      <td>1</td>\n",
       "      <td>0</td>\n",
       "      <td>0</td>\n",
       "      <td>0</td>\n",
       "      <td>0</td>\n",
       "      <td>0</td>\n",
       "      <td>0</td>\n",
       "      <td>0</td>\n",
       "      <td>0</td>\n",
       "      <td>0</td>\n",
       "      <td>0</td>\n",
       "      <td>0</td>\n",
       "      <td>0</td>\n",
       "      <td>0</td>\n",
       "      <td>0</td>\n",
       "      <td>0</td>\n",
       "      <td>0</td>\n",
       "      <td>0</td>\n",
       "      <td>0</td>\n",
       "      <td>0</td>\n",
       "      <td>0</td>\n",
       "      <td>0</td>\n",
       "      <td>0</td>\n",
       "      <td>0</td>\n",
       "      <td>0</td>\n",
       "      <td>0</td>\n",
       "      <td>0</td>\n",
       "      <td>1</td>\n",
       "      <td>0</td>\n",
       "      <td>0</td>\n",
       "      <td>0</td>\n",
       "      <td>0</td>\n",
       "      <td>0</td>\n",
       "      <td>0</td>\n",
       "      <td>0</td>\n",
       "      <td>0</td>\n",
       "      <td>0</td>\n",
       "    </tr>\n",
       "    <tr>\n",
       "      <td>4</td>\n",
       "      <td>0</td>\n",
       "      <td>0</td>\n",
       "      <td>0</td>\n",
       "      <td>0</td>\n",
       "      <td>0</td>\n",
       "      <td>0</td>\n",
       "      <td>0</td>\n",
       "      <td>1</td>\n",
       "      <td>0</td>\n",
       "      <td>0</td>\n",
       "      <td>0</td>\n",
       "      <td>0</td>\n",
       "      <td>0</td>\n",
       "      <td>0</td>\n",
       "      <td>0</td>\n",
       "      <td>0</td>\n",
       "      <td>0</td>\n",
       "      <td>0</td>\n",
       "      <td>0</td>\n",
       "      <td>0</td>\n",
       "      <td>0</td>\n",
       "      <td>0</td>\n",
       "      <td>0</td>\n",
       "      <td>0</td>\n",
       "      <td>0</td>\n",
       "      <td>0</td>\n",
       "      <td>1</td>\n",
       "      <td>0</td>\n",
       "      <td>0</td>\n",
       "      <td>0</td>\n",
       "      <td>0</td>\n",
       "      <td>0</td>\n",
       "      <td>0</td>\n",
       "      <td>0</td>\n",
       "      <td>0</td>\n",
       "      <td>0</td>\n",
       "      <td>0</td>\n",
       "      <td>0</td>\n",
       "      <td>0</td>\n",
       "      <td>0</td>\n",
       "      <td>...</td>\n",
       "      <td>0</td>\n",
       "      <td>0</td>\n",
       "      <td>0</td>\n",
       "      <td>1</td>\n",
       "      <td>0</td>\n",
       "      <td>0</td>\n",
       "      <td>0</td>\n",
       "      <td>0</td>\n",
       "      <td>0</td>\n",
       "      <td>0</td>\n",
       "      <td>0</td>\n",
       "      <td>0</td>\n",
       "      <td>0</td>\n",
       "      <td>0</td>\n",
       "      <td>0</td>\n",
       "      <td>0</td>\n",
       "      <td>0</td>\n",
       "      <td>0</td>\n",
       "      <td>0</td>\n",
       "      <td>0</td>\n",
       "      <td>0</td>\n",
       "      <td>0</td>\n",
       "      <td>0</td>\n",
       "      <td>0</td>\n",
       "      <td>0</td>\n",
       "      <td>0</td>\n",
       "      <td>0</td>\n",
       "      <td>0</td>\n",
       "      <td>0</td>\n",
       "      <td>0</td>\n",
       "      <td>1</td>\n",
       "      <td>0</td>\n",
       "      <td>0</td>\n",
       "      <td>0</td>\n",
       "      <td>0</td>\n",
       "      <td>0</td>\n",
       "      <td>0</td>\n",
       "      <td>0</td>\n",
       "      <td>0</td>\n",
       "      <td>0</td>\n",
       "    </tr>\n",
       "    <tr>\n",
       "      <td>9</td>\n",
       "      <td>0</td>\n",
       "      <td>0</td>\n",
       "      <td>0</td>\n",
       "      <td>0</td>\n",
       "      <td>0</td>\n",
       "      <td>0</td>\n",
       "      <td>0</td>\n",
       "      <td>0</td>\n",
       "      <td>1</td>\n",
       "      <td>0</td>\n",
       "      <td>0</td>\n",
       "      <td>0</td>\n",
       "      <td>0</td>\n",
       "      <td>0</td>\n",
       "      <td>0</td>\n",
       "      <td>0</td>\n",
       "      <td>0</td>\n",
       "      <td>0</td>\n",
       "      <td>0</td>\n",
       "      <td>0</td>\n",
       "      <td>0</td>\n",
       "      <td>0</td>\n",
       "      <td>0</td>\n",
       "      <td>0</td>\n",
       "      <td>0</td>\n",
       "      <td>0</td>\n",
       "      <td>0</td>\n",
       "      <td>0</td>\n",
       "      <td>0</td>\n",
       "      <td>0</td>\n",
       "      <td>0</td>\n",
       "      <td>0</td>\n",
       "      <td>0</td>\n",
       "      <td>0</td>\n",
       "      <td>0</td>\n",
       "      <td>0</td>\n",
       "      <td>0</td>\n",
       "      <td>1</td>\n",
       "      <td>0</td>\n",
       "      <td>0</td>\n",
       "      <td>...</td>\n",
       "      <td>0</td>\n",
       "      <td>0</td>\n",
       "      <td>0</td>\n",
       "      <td>1</td>\n",
       "      <td>0</td>\n",
       "      <td>0</td>\n",
       "      <td>0</td>\n",
       "      <td>0</td>\n",
       "      <td>0</td>\n",
       "      <td>0</td>\n",
       "      <td>0</td>\n",
       "      <td>0</td>\n",
       "      <td>0</td>\n",
       "      <td>0</td>\n",
       "      <td>0</td>\n",
       "      <td>0</td>\n",
       "      <td>0</td>\n",
       "      <td>0</td>\n",
       "      <td>0</td>\n",
       "      <td>0</td>\n",
       "      <td>0</td>\n",
       "      <td>0</td>\n",
       "      <td>0</td>\n",
       "      <td>0</td>\n",
       "      <td>0</td>\n",
       "      <td>0</td>\n",
       "      <td>0</td>\n",
       "      <td>0</td>\n",
       "      <td>0</td>\n",
       "      <td>0</td>\n",
       "      <td>1</td>\n",
       "      <td>0</td>\n",
       "      <td>0</td>\n",
       "      <td>0</td>\n",
       "      <td>0</td>\n",
       "      <td>0</td>\n",
       "      <td>0</td>\n",
       "      <td>0</td>\n",
       "      <td>0</td>\n",
       "      <td>0</td>\n",
       "    </tr>\n",
       "    <tr>\n",
       "      <td>10</td>\n",
       "      <td>0</td>\n",
       "      <td>0</td>\n",
       "      <td>1</td>\n",
       "      <td>0</td>\n",
       "      <td>0</td>\n",
       "      <td>0</td>\n",
       "      <td>0</td>\n",
       "      <td>0</td>\n",
       "      <td>0</td>\n",
       "      <td>0</td>\n",
       "      <td>0</td>\n",
       "      <td>0</td>\n",
       "      <td>0</td>\n",
       "      <td>0</td>\n",
       "      <td>0</td>\n",
       "      <td>0</td>\n",
       "      <td>0</td>\n",
       "      <td>0</td>\n",
       "      <td>0</td>\n",
       "      <td>0</td>\n",
       "      <td>0</td>\n",
       "      <td>0</td>\n",
       "      <td>0</td>\n",
       "      <td>0</td>\n",
       "      <td>0</td>\n",
       "      <td>0</td>\n",
       "      <td>0</td>\n",
       "      <td>0</td>\n",
       "      <td>0</td>\n",
       "      <td>0</td>\n",
       "      <td>0</td>\n",
       "      <td>0</td>\n",
       "      <td>0</td>\n",
       "      <td>0</td>\n",
       "      <td>0</td>\n",
       "      <td>0</td>\n",
       "      <td>0</td>\n",
       "      <td>0</td>\n",
       "      <td>0</td>\n",
       "      <td>0</td>\n",
       "      <td>...</td>\n",
       "      <td>0</td>\n",
       "      <td>0</td>\n",
       "      <td>0</td>\n",
       "      <td>1</td>\n",
       "      <td>0</td>\n",
       "      <td>0</td>\n",
       "      <td>0</td>\n",
       "      <td>0</td>\n",
       "      <td>0</td>\n",
       "      <td>0</td>\n",
       "      <td>0</td>\n",
       "      <td>0</td>\n",
       "      <td>0</td>\n",
       "      <td>0</td>\n",
       "      <td>0</td>\n",
       "      <td>0</td>\n",
       "      <td>0</td>\n",
       "      <td>0</td>\n",
       "      <td>0</td>\n",
       "      <td>0</td>\n",
       "      <td>0</td>\n",
       "      <td>0</td>\n",
       "      <td>0</td>\n",
       "      <td>0</td>\n",
       "      <td>0</td>\n",
       "      <td>0</td>\n",
       "      <td>0</td>\n",
       "      <td>0</td>\n",
       "      <td>0</td>\n",
       "      <td>0</td>\n",
       "      <td>1</td>\n",
       "      <td>0</td>\n",
       "      <td>0</td>\n",
       "      <td>0</td>\n",
       "      <td>0</td>\n",
       "      <td>0</td>\n",
       "      <td>0</td>\n",
       "      <td>0</td>\n",
       "      <td>0</td>\n",
       "      <td>0</td>\n",
       "    </tr>\n",
       "  </tbody>\n",
       "</table>\n",
       "<p>5 rows × 108 columns</p>\n",
       "</div>"
      ],
      "text/plain": [
       "    Positive_ROI  region_1  ...  programFy_2019  programFy_2020\n",
       "1              1         0  ...               0               0\n",
       "2              0         0  ...               0               0\n",
       "4              0         0  ...               0               0\n",
       "9              0         0  ...               0               0\n",
       "10             0         0  ...               0               0\n",
       "\n",
       "[5 rows x 108 columns]"
      ]
     },
     "execution_count": 86,
     "metadata": {},
     "output_type": "execute_result"
    }
   ],
   "source": [
    "df.head()"
   ]
  },
  {
   "cell_type": "code",
   "execution_count": 87,
   "metadata": {
    "scrolled": false
   },
   "outputs": [
    {
     "data": {
      "text/plain": [
       "<Figure size 864x432 with 0 Axes>"
      ]
     },
     "metadata": {},
     "output_type": "display_data"
    },
    {
     "data": {
      "image/png": "[encoded data removed]",
      "text/plain": [
       "<Figure size 432x288 with 1 Axes>"
      ]
     },
     "metadata": {
      "needs_background": "light"
     },
     "output_type": "display_data"
    }
   ],
   "source": [
    "# QQ plot to see if our data is linear\n",
    "fig1 = plt.figure(figsize = (12,6))\n",
    "fig1 = sm.graphics.qqplot(model1.resid,fit=True, line='45');"
   ]
  },
  {
   "cell_type": "code",
   "execution_count": 88,
   "metadata": {},
   "outputs": [],
   "source": [
    "# Coment on qq plot\n",
    "# R-squared .4"
   ]
  },
  {
   "cell_type": "code",
   "execution_count": 89,
   "metadata": {},
   "outputs": [
    {
     "name": "stdout",
     "output_type": "stream",
     "text": [
      "Train Classification Report\n",
      "               precision    recall  f1-score   support\n",
      "\n",
      "           0       0.95      0.98      0.96     10718\n",
      "           1       0.96      0.88      0.92      5058\n",
      "\n",
      "    accuracy                           0.95     15776\n",
      "   macro avg       0.95      0.93      0.94     15776\n",
      "weighted avg       0.95      0.95      0.95     15776\n",
      "\n",
      "Test Classification Report\n",
      "               precision    recall  f1-score   support\n",
      "\n",
      "           0       0.94      0.98      0.96      2617\n",
      "           1       0.96      0.88      0.92      1328\n",
      "\n",
      "    accuracy                           0.95      3945\n",
      "   macro avg       0.95      0.93      0.94      3945\n",
      "weighted avg       0.95      0.95      0.95      3945\n",
      "\n",
      "Train Accuracy: 0.95\n",
      "Test Accuracy: 0.947\n"
     ]
    },
    {
     "data": {
      "text/plain": [
       "LogisticRegression()"
      ]
     },
     "execution_count": 89,
     "metadata": {},
     "output_type": "execute_result"
    },
    {
     "data": {
      "image/png": "[encoded data removed]",
      "text/plain": [
       "<Figure size 1008x576 with 4 Axes>"
      ]
     },
     "metadata": {
      "needs_background": "light"
     },
     "output_type": "display_data"
    }
   ],
   "source": [
    "log_reg_2 = LogisticRegression()\n",
    "build_model(log_reg, X_train, X_test, y_train,  y_test)"
   ]
  },
  {
   "cell_type": "code",
   "execution_count": 90,
   "metadata": {},
   "outputs": [
    {
     "data": {
      "text/html": [
       "<table class=\"simpletable\">\n",
       "<caption>OLS Regression Results</caption>\n",
       "<tr>\n",
       "  <th>Dep. Variable:</th>      <td>Positive_ROI</td>   <th>  R-squared:         </th> <td>   0.208</td> \n",
       "</tr>\n",
       "<tr>\n",
       "  <th>Model:</th>                   <td>OLS</td>       <th>  Adj. R-squared:    </th> <td>   0.204</td> \n",
       "</tr>\n",
       "<tr>\n",
       "  <th>Method:</th>             <td>Least Squares</td>  <th>  F-statistic:       </th> <td>   54.76</td> \n",
       "</tr>\n",
       "<tr>\n",
       "  <th>Date:</th>             <td>Wed, 17 Feb 2021</td> <th>  Prob (F-statistic):</th>  <td>  0.00</td>  \n",
       "</tr>\n",
       "<tr>\n",
       "  <th>Time:</th>                 <td>22:37:29</td>     <th>  Log-Likelihood:    </th> <td> -10709.</td> \n",
       "</tr>\n",
       "<tr>\n",
       "  <th>No. Observations:</th>      <td> 19721</td>      <th>  AIC:               </th> <td>2.161e+04</td>\n",
       "</tr>\n",
       "<tr>\n",
       "  <th>Df Residuals:</th>          <td> 19626</td>      <th>  BIC:               </th> <td>2.236e+04</td>\n",
       "</tr>\n",
       "<tr>\n",
       "  <th>Df Model:</th>              <td>    94</td>      <th>                     </th>     <td> </td>    \n",
       "</tr>\n",
       "<tr>\n",
       "  <th>Covariance Type:</th>      <td>nonrobust</td>    <th>                     </th>     <td> </td>    \n",
       "</tr>\n",
       "</table>\n",
       "<table class=\"simpletable\">\n",
       "<tr>\n",
       "           <td></td>             <th>coef</th>     <th>std err</th>      <th>t</th>      <th>P>|t|</th>  <th>[0.025</th>    <th>0.975]</th>  \n",
       "</tr>\n",
       "<tr>\n",
       "  <th>Intercept</th>          <td> 1.783e+11</td> <td> 5.55e+11</td> <td>    0.321</td> <td> 0.748</td> <td> -9.1e+11</td> <td> 1.27e+12</td>\n",
       "</tr>\n",
       "<tr>\n",
       "  <th>region_1</th>           <td> -6.86e+10</td> <td> 1.06e+11</td> <td>   -0.650</td> <td> 0.516</td> <td>-2.76e+11</td> <td> 1.38e+11</td>\n",
       "</tr>\n",
       "<tr>\n",
       "  <th>region_2</th>           <td> 5.319e+11</td> <td>    4e+11</td> <td>    1.329</td> <td> 0.184</td> <td>-2.53e+11</td> <td> 1.32e+12</td>\n",
       "</tr>\n",
       "<tr>\n",
       "  <th>region_3</th>           <td>-3.004e+11</td> <td> 3.34e+11</td> <td>   -0.899</td> <td> 0.368</td> <td>-9.55e+11</td> <td> 3.54e+11</td>\n",
       "</tr>\n",
       "<tr>\n",
       "  <th>region_4</th>           <td> 2.187e+11</td> <td> 1.71e+11</td> <td>    1.277</td> <td> 0.202</td> <td>-1.17e+11</td> <td> 5.54e+11</td>\n",
       "</tr>\n",
       "<tr>\n",
       "  <th>region_5</th>           <td>-2.267e+11</td> <td> 2.97e+11</td> <td>   -0.765</td> <td> 0.444</td> <td>-8.08e+11</td> <td> 3.54e+11</td>\n",
       "</tr>\n",
       "<tr>\n",
       "  <th>region_6</th>           <td>-7.285e+10</td> <td> 1.16e+11</td> <td>   -0.631</td> <td> 0.528</td> <td>-2.99e+11</td> <td> 1.54e+11</td>\n",
       "</tr>\n",
       "<tr>\n",
       "  <th>region_7</th>           <td>-7.896e+11</td> <td> 7.08e+11</td> <td>   -1.115</td> <td> 0.265</td> <td>-2.18e+12</td> <td> 5.99e+11</td>\n",
       "</tr>\n",
       "<tr>\n",
       "  <th>region_8</th>           <td>-4.387e+11</td> <td> 3.34e+11</td> <td>   -1.312</td> <td> 0.190</td> <td>-1.09e+12</td> <td> 2.17e+11</td>\n",
       "</tr>\n",
       "<tr>\n",
       "  <th>region_9</th>           <td>-1.303e+11</td> <td> 1.51e+11</td> <td>   -0.863</td> <td> 0.388</td> <td>-4.26e+11</td> <td> 1.65e+11</td>\n",
       "</tr>\n",
       "<tr>\n",
       "  <th>region_10</th>          <td>-1.325e+11</td> <td> 1.29e+11</td> <td>   -1.026</td> <td> 0.305</td> <td>-3.85e+11</td> <td> 1.21e+11</td>\n",
       "</tr>\n",
       "<tr>\n",
       "  <th>stateNumberCode_1</th>  <td>-3.677e+11</td> <td> 2.18e+11</td> <td>   -1.685</td> <td> 0.092</td> <td>-7.96e+11</td> <td> 6.01e+10</td>\n",
       "</tr>\n",
       "<tr>\n",
       "  <th>stateNumberCode_2</th>  <td>-1.661e+10</td> <td> 4.42e+10</td> <td>   -0.376</td> <td> 0.707</td> <td>-1.03e+11</td> <td>    7e+10</td>\n",
       "</tr>\n",
       "<tr>\n",
       "  <th>stateNumberCode_4</th>  <td>-1.882e+10</td> <td> 1.37e+10</td> <td>   -1.369</td> <td> 0.171</td> <td>-4.58e+10</td> <td> 8.12e+09</td>\n",
       "</tr>\n",
       "<tr>\n",
       "  <th>stateNumberCode_5</th>  <td>-7.621e+10</td> <td>  8.9e+10</td> <td>   -0.856</td> <td> 0.392</td> <td>-2.51e+11</td> <td> 9.82e+10</td>\n",
       "</tr>\n",
       "<tr>\n",
       "  <th>stateNumberCode_6</th>  <td>-1.882e+10</td> <td> 1.37e+10</td> <td>   -1.369</td> <td> 0.171</td> <td>-4.58e+10</td> <td> 8.12e+09</td>\n",
       "</tr>\n",
       "<tr>\n",
       "  <th>stateNumberCode_8</th>  <td> 2.896e+11</td> <td> 3.05e+11</td> <td>    0.949</td> <td> 0.342</td> <td>-3.08e+11</td> <td> 8.88e+11</td>\n",
       "</tr>\n",
       "<tr>\n",
       "  <th>stateNumberCode_9</th>  <td>-8.047e+10</td> <td> 1.86e+11</td> <td>   -0.433</td> <td> 0.665</td> <td>-4.45e+11</td> <td> 2.84e+11</td>\n",
       "</tr>\n",
       "<tr>\n",
       "  <th>stateNumberCode_10</th> <td> 1.513e+11</td> <td> 3.02e+11</td> <td>    0.502</td> <td> 0.616</td> <td> -4.4e+11</td> <td> 7.42e+11</td>\n",
       "</tr>\n",
       "<tr>\n",
       "  <th>stateNumberCode_11</th> <td> 1.513e+11</td> <td> 3.02e+11</td> <td>    0.502</td> <td> 0.616</td> <td> -4.4e+11</td> <td> 7.42e+11</td>\n",
       "</tr>\n",
       "<tr>\n",
       "  <th>stateNumberCode_12</th> <td>-3.677e+11</td> <td> 2.18e+11</td> <td>   -1.685</td> <td> 0.092</td> <td>-7.96e+11</td> <td> 6.01e+10</td>\n",
       "</tr>\n",
       "<tr>\n",
       "  <th>stateNumberCode_13</th> <td>-3.677e+11</td> <td> 2.18e+11</td> <td>   -1.685</td> <td> 0.092</td> <td>-7.96e+11</td> <td> 6.01e+10</td>\n",
       "</tr>\n",
       "<tr>\n",
       "  <th>stateNumberCode_15</th> <td>-1.882e+10</td> <td> 1.37e+10</td> <td>   -1.369</td> <td> 0.171</td> <td>-4.58e+10</td> <td> 8.12e+09</td>\n",
       "</tr>\n",
       "<tr>\n",
       "  <th>stateNumberCode_16</th> <td>-1.661e+10</td> <td> 4.42e+10</td> <td>   -0.376</td> <td> 0.707</td> <td>-1.03e+11</td> <td>    7e+10</td>\n",
       "</tr>\n",
       "<tr>\n",
       "  <th>stateNumberCode_17</th> <td> 7.767e+10</td> <td> 2.87e+11</td> <td>    0.271</td> <td> 0.786</td> <td>-4.84e+11</td> <td>  6.4e+11</td>\n",
       "</tr>\n",
       "<tr>\n",
       "  <th>stateNumberCode_18</th> <td> 7.767e+10</td> <td> 2.87e+11</td> <td>    0.271</td> <td> 0.786</td> <td>-4.84e+11</td> <td>  6.4e+11</td>\n",
       "</tr>\n",
       "<tr>\n",
       "  <th>stateNumberCode_19</th> <td> 6.406e+11</td> <td> 7.04e+11</td> <td>    0.910</td> <td> 0.363</td> <td>-7.39e+11</td> <td> 2.02e+12</td>\n",
       "</tr>\n",
       "<tr>\n",
       "  <th>stateNumberCode_20</th> <td> 6.406e+11</td> <td> 7.04e+11</td> <td>    0.910</td> <td> 0.363</td> <td>-7.39e+11</td> <td> 2.02e+12</td>\n",
       "</tr>\n",
       "<tr>\n",
       "  <th>stateNumberCode_21</th> <td>-3.677e+11</td> <td> 2.18e+11</td> <td>   -1.685</td> <td> 0.092</td> <td>-7.96e+11</td> <td> 6.01e+10</td>\n",
       "</tr>\n",
       "<tr>\n",
       "  <th>stateNumberCode_22</th> <td>-7.621e+10</td> <td>  8.9e+10</td> <td>   -0.856</td> <td> 0.392</td> <td>-2.51e+11</td> <td> 9.82e+10</td>\n",
       "</tr>\n",
       "<tr>\n",
       "  <th>stateNumberCode_23</th> <td>-8.047e+10</td> <td> 1.86e+11</td> <td>   -0.433</td> <td> 0.665</td> <td>-4.45e+11</td> <td> 2.84e+11</td>\n",
       "</tr>\n",
       "<tr>\n",
       "  <th>stateNumberCode_24</th> <td> 1.513e+11</td> <td> 3.02e+11</td> <td>    0.502</td> <td> 0.616</td> <td> -4.4e+11</td> <td> 7.42e+11</td>\n",
       "</tr>\n",
       "<tr>\n",
       "  <th>stateNumberCode_25</th> <td>-8.047e+10</td> <td> 1.86e+11</td> <td>   -0.433</td> <td> 0.665</td> <td>-4.45e+11</td> <td> 2.84e+11</td>\n",
       "</tr>\n",
       "<tr>\n",
       "  <th>stateNumberCode_26</th> <td> 7.767e+10</td> <td> 2.87e+11</td> <td>    0.271</td> <td> 0.786</td> <td>-4.84e+11</td> <td>  6.4e+11</td>\n",
       "</tr>\n",
       "<tr>\n",
       "  <th>stateNumberCode_27</th> <td> 7.767e+10</td> <td> 2.87e+11</td> <td>    0.271</td> <td> 0.786</td> <td>-4.84e+11</td> <td>  6.4e+11</td>\n",
       "</tr>\n",
       "<tr>\n",
       "  <th>stateNumberCode_28</th> <td>-3.677e+11</td> <td> 2.18e+11</td> <td>   -1.685</td> <td> 0.092</td> <td>-7.96e+11</td> <td> 6.01e+10</td>\n",
       "</tr>\n",
       "<tr>\n",
       "  <th>stateNumberCode_29</th> <td> 6.406e+11</td> <td> 7.04e+11</td> <td>    0.910</td> <td> 0.363</td> <td>-7.39e+11</td> <td> 2.02e+12</td>\n",
       "</tr>\n",
       "<tr>\n",
       "  <th>stateNumberCode_30</th> <td> 2.896e+11</td> <td> 3.05e+11</td> <td>    0.949</td> <td> 0.342</td> <td>-3.08e+11</td> <td> 8.88e+11</td>\n",
       "</tr>\n",
       "<tr>\n",
       "  <th>stateNumberCode_31</th> <td> 6.406e+11</td> <td> 7.04e+11</td> <td>    0.910</td> <td> 0.363</td> <td>-7.39e+11</td> <td> 2.02e+12</td>\n",
       "</tr>\n",
       "<tr>\n",
       "  <th>stateNumberCode_32</th> <td>-1.882e+10</td> <td> 1.37e+10</td> <td>   -1.369</td> <td> 0.171</td> <td>-4.58e+10</td> <td> 8.12e+09</td>\n",
       "</tr>\n",
       "<tr>\n",
       "  <th>stateNumberCode_33</th> <td>-8.047e+10</td> <td> 1.86e+11</td> <td>   -0.433</td> <td> 0.665</td> <td>-4.45e+11</td> <td> 2.84e+11</td>\n",
       "</tr>\n",
       "<tr>\n",
       "  <th>stateNumberCode_34</th> <td> -6.81e+11</td> <td> 3.79e+11</td> <td>   -1.798</td> <td> 0.072</td> <td>-1.42e+12</td> <td> 6.14e+10</td>\n",
       "</tr>\n",
       "<tr>\n",
       "  <th>stateNumberCode_35</th> <td>-7.621e+10</td> <td>  8.9e+10</td> <td>   -0.856</td> <td> 0.392</td> <td>-2.51e+11</td> <td> 9.82e+10</td>\n",
       "</tr>\n",
       "<tr>\n",
       "  <th>stateNumberCode_36</th> <td> -6.81e+11</td> <td> 3.79e+11</td> <td>   -1.798</td> <td> 0.072</td> <td>-1.42e+12</td> <td> 6.14e+10</td>\n",
       "</tr>\n",
       "<tr>\n",
       "  <th>stateNumberCode_37</th> <td>-3.677e+11</td> <td> 2.18e+11</td> <td>   -1.685</td> <td> 0.092</td> <td>-7.96e+11</td> <td> 6.01e+10</td>\n",
       "</tr>\n",
       "<tr>\n",
       "  <th>stateNumberCode_38</th> <td> 2.896e+11</td> <td> 3.05e+11</td> <td>    0.949</td> <td> 0.342</td> <td>-3.08e+11</td> <td> 8.88e+11</td>\n",
       "</tr>\n",
       "<tr>\n",
       "  <th>stateNumberCode_39</th> <td> 7.767e+10</td> <td> 2.87e+11</td> <td>    0.271</td> <td> 0.786</td> <td>-4.84e+11</td> <td>  6.4e+11</td>\n",
       "</tr>\n",
       "<tr>\n",
       "  <th>stateNumberCode_40</th> <td>-7.621e+10</td> <td>  8.9e+10</td> <td>   -0.856</td> <td> 0.392</td> <td>-2.51e+11</td> <td> 9.82e+10</td>\n",
       "</tr>\n",
       "<tr>\n",
       "  <th>stateNumberCode_41</th> <td>-1.661e+10</td> <td> 4.42e+10</td> <td>   -0.376</td> <td> 0.707</td> <td>-1.03e+11</td> <td>    7e+10</td>\n",
       "</tr>\n",
       "<tr>\n",
       "  <th>stateNumberCode_42</th> <td> 1.513e+11</td> <td> 3.02e+11</td> <td>    0.502</td> <td> 0.616</td> <td> -4.4e+11</td> <td> 7.42e+11</td>\n",
       "</tr>\n",
       "<tr>\n",
       "  <th>stateNumberCode_44</th> <td>-8.047e+10</td> <td> 1.86e+11</td> <td>   -0.433</td> <td> 0.665</td> <td>-4.45e+11</td> <td> 2.84e+11</td>\n",
       "</tr>\n",
       "<tr>\n",
       "  <th>stateNumberCode_45</th> <td>-3.677e+11</td> <td> 2.18e+11</td> <td>   -1.685</td> <td> 0.092</td> <td>-7.96e+11</td> <td> 6.01e+10</td>\n",
       "</tr>\n",
       "<tr>\n",
       "  <th>stateNumberCode_46</th> <td> 2.896e+11</td> <td> 3.05e+11</td> <td>    0.949</td> <td> 0.342</td> <td>-3.08e+11</td> <td> 8.88e+11</td>\n",
       "</tr>\n",
       "<tr>\n",
       "  <th>stateNumberCode_47</th> <td>-3.677e+11</td> <td> 2.18e+11</td> <td>   -1.685</td> <td> 0.092</td> <td>-7.96e+11</td> <td> 6.01e+10</td>\n",
       "</tr>\n",
       "<tr>\n",
       "  <th>stateNumberCode_48</th> <td>-7.621e+10</td> <td>  8.9e+10</td> <td>   -0.856</td> <td> 0.392</td> <td>-2.51e+11</td> <td> 9.82e+10</td>\n",
       "</tr>\n",
       "<tr>\n",
       "  <th>stateNumberCode_49</th> <td> 2.896e+11</td> <td> 3.05e+11</td> <td>    0.949</td> <td> 0.342</td> <td>-3.08e+11</td> <td> 8.88e+11</td>\n",
       "</tr>\n",
       "<tr>\n",
       "  <th>stateNumberCode_50</th> <td>-8.047e+10</td> <td> 1.86e+11</td> <td>   -0.433</td> <td> 0.665</td> <td>-4.45e+11</td> <td> 2.84e+11</td>\n",
       "</tr>\n",
       "<tr>\n",
       "  <th>stateNumberCode_51</th> <td> 1.513e+11</td> <td> 3.02e+11</td> <td>    0.502</td> <td> 0.616</td> <td> -4.4e+11</td> <td> 7.42e+11</td>\n",
       "</tr>\n",
       "<tr>\n",
       "  <th>stateNumberCode_53</th> <td>-1.661e+10</td> <td> 4.42e+10</td> <td>   -0.376</td> <td> 0.707</td> <td>-1.03e+11</td> <td>    7e+10</td>\n",
       "</tr>\n",
       "<tr>\n",
       "  <th>stateNumberCode_54</th> <td> 1.513e+11</td> <td> 3.02e+11</td> <td>    0.502</td> <td> 0.616</td> <td> -4.4e+11</td> <td> 7.42e+11</td>\n",
       "</tr>\n",
       "<tr>\n",
       "  <th>stateNumberCode_55</th> <td> 7.767e+10</td> <td> 2.87e+11</td> <td>    0.271</td> <td> 0.786</td> <td>-4.84e+11</td> <td>  6.4e+11</td>\n",
       "</tr>\n",
       "<tr>\n",
       "  <th>stateNumberCode_56</th> <td> 2.896e+11</td> <td> 3.05e+11</td> <td>    0.949</td> <td> 0.342</td> <td>-3.08e+11</td> <td> 8.88e+11</td>\n",
       "</tr>\n",
       "<tr>\n",
       "  <th>stateNumberCode_60</th> <td>-1.882e+10</td> <td> 1.37e+10</td> <td>   -1.369</td> <td> 0.171</td> <td>-4.58e+10</td> <td> 8.12e+09</td>\n",
       "</tr>\n",
       "<tr>\n",
       "  <th>stateNumberCode_64</th> <td>-1.882e+10</td> <td> 1.37e+10</td> <td>   -1.369</td> <td> 0.171</td> <td>-4.58e+10</td> <td> 8.12e+09</td>\n",
       "</tr>\n",
       "<tr>\n",
       "  <th>stateNumberCode_66</th> <td>-1.882e+10</td> <td> 1.37e+10</td> <td>   -1.369</td> <td> 0.171</td> <td>-4.58e+10</td> <td> 8.12e+09</td>\n",
       "</tr>\n",
       "<tr>\n",
       "  <th>stateNumberCode_68</th> <td>-1.882e+10</td> <td> 1.37e+10</td> <td>   -1.369</td> <td> 0.171</td> <td>-4.58e+10</td> <td> 8.12e+09</td>\n",
       "</tr>\n",
       "<tr>\n",
       "  <th>stateNumberCode_69</th> <td>-1.882e+10</td> <td> 1.37e+10</td> <td>   -1.369</td> <td> 0.171</td> <td>-4.58e+10</td> <td> 8.12e+09</td>\n",
       "</tr>\n",
       "<tr>\n",
       "  <th>stateNumberCode_70</th> <td>-1.882e+10</td> <td> 1.37e+10</td> <td>   -1.369</td> <td> 0.171</td> <td>-4.58e+10</td> <td> 8.12e+09</td>\n",
       "</tr>\n",
       "<tr>\n",
       "  <th>stateNumberCode_72</th> <td> -6.81e+11</td> <td> 3.79e+11</td> <td>   -1.798</td> <td> 0.072</td> <td>-1.42e+12</td> <td> 6.14e+10</td>\n",
       "</tr>\n",
       "<tr>\n",
       "  <th>stateNumberCode_78</th> <td> -6.81e+11</td> <td> 3.79e+11</td> <td>   -1.798</td> <td> 0.072</td> <td>-1.42e+12</td> <td> 6.14e+10</td>\n",
       "</tr>\n",
       "<tr>\n",
       "  <th>programArea_FMA</th>    <td> 1.241e+11</td> <td> 4.65e+11</td> <td>    0.267</td> <td> 0.790</td> <td>-7.87e+11</td> <td> 1.04e+12</td>\n",
       "</tr>\n",
       "<tr>\n",
       "  <th>programArea_HMGP</th>   <td> 1.241e+11</td> <td> 4.65e+11</td> <td>    0.267</td> <td> 0.790</td> <td>-7.87e+11</td> <td> 1.04e+12</td>\n",
       "</tr>\n",
       "<tr>\n",
       "  <th>programArea_LPDM</th>   <td> 1.241e+11</td> <td> 4.65e+11</td> <td>    0.267</td> <td> 0.790</td> <td>-7.87e+11</td> <td> 1.04e+12</td>\n",
       "</tr>\n",
       "<tr>\n",
       "  <th>programArea_PDM</th>    <td> 1.241e+11</td> <td> 4.65e+11</td> <td>    0.267</td> <td> 0.790</td> <td>-7.87e+11</td> <td> 1.04e+12</td>\n",
       "</tr>\n",
       "<tr>\n",
       "  <th>programArea_RFC</th>    <td> 1.241e+11</td> <td> 4.65e+11</td> <td>    0.267</td> <td> 0.790</td> <td>-7.87e+11</td> <td> 1.04e+12</td>\n",
       "</tr>\n",
       "<tr>\n",
       "  <th>programArea_SRL</th>    <td> 1.241e+11</td> <td> 4.65e+11</td> <td>    0.267</td> <td> 0.790</td> <td>-7.87e+11</td> <td> 1.04e+12</td>\n",
       "</tr>\n",
       "<tr>\n",
       "  <th>programFy_1989</th>     <td>-1.533e+11</td> <td> 1.72e+11</td> <td>   -0.889</td> <td> 0.374</td> <td>-4.91e+11</td> <td> 1.85e+11</td>\n",
       "</tr>\n",
       "<tr>\n",
       "  <th>programFy_1990</th>     <td>-1.533e+11</td> <td> 1.72e+11</td> <td>   -0.889</td> <td> 0.374</td> <td>-4.91e+11</td> <td> 1.85e+11</td>\n",
       "</tr>\n",
       "<tr>\n",
       "  <th>programFy_1991</th>     <td>-1.533e+11</td> <td> 1.72e+11</td> <td>   -0.889</td> <td> 0.374</td> <td>-4.91e+11</td> <td> 1.85e+11</td>\n",
       "</tr>\n",
       "<tr>\n",
       "  <th>programFy_1992</th>     <td>-1.533e+11</td> <td> 1.72e+11</td> <td>   -0.889</td> <td> 0.374</td> <td>-4.91e+11</td> <td> 1.85e+11</td>\n",
       "</tr>\n",
       "<tr>\n",
       "  <th>programFy_1993</th>     <td>-1.533e+11</td> <td> 1.72e+11</td> <td>   -0.889</td> <td> 0.374</td> <td>-4.91e+11</td> <td> 1.85e+11</td>\n",
       "</tr>\n",
       "<tr>\n",
       "  <th>programFy_1994</th>     <td>-1.533e+11</td> <td> 1.72e+11</td> <td>   -0.889</td> <td> 0.374</td> <td>-4.91e+11</td> <td> 1.85e+11</td>\n",
       "</tr>\n",
       "<tr>\n",
       "  <th>programFy_1995</th>     <td>-1.533e+11</td> <td> 1.72e+11</td> <td>   -0.889</td> <td> 0.374</td> <td>-4.91e+11</td> <td> 1.85e+11</td>\n",
       "</tr>\n",
       "<tr>\n",
       "  <th>programFy_1996</th>     <td>-1.533e+11</td> <td> 1.72e+11</td> <td>   -0.889</td> <td> 0.374</td> <td>-4.91e+11</td> <td> 1.85e+11</td>\n",
       "</tr>\n",
       "<tr>\n",
       "  <th>programFy_1997</th>     <td>-1.533e+11</td> <td> 1.72e+11</td> <td>   -0.889</td> <td> 0.374</td> <td>-4.91e+11</td> <td> 1.85e+11</td>\n",
       "</tr>\n",
       "<tr>\n",
       "  <th>programFy_1998</th>     <td>-1.533e+11</td> <td> 1.72e+11</td> <td>   -0.889</td> <td> 0.374</td> <td>-4.91e+11</td> <td> 1.85e+11</td>\n",
       "</tr>\n",
       "<tr>\n",
       "  <th>programFy_1999</th>     <td>-1.533e+11</td> <td> 1.72e+11</td> <td>   -0.889</td> <td> 0.374</td> <td>-4.91e+11</td> <td> 1.85e+11</td>\n",
       "</tr>\n",
       "<tr>\n",
       "  <th>programFy_2000</th>     <td>-1.533e+11</td> <td> 1.72e+11</td> <td>   -0.889</td> <td> 0.374</td> <td>-4.91e+11</td> <td> 1.85e+11</td>\n",
       "</tr>\n",
       "<tr>\n",
       "  <th>programFy_2001</th>     <td>-1.533e+11</td> <td> 1.72e+11</td> <td>   -0.889</td> <td> 0.374</td> <td>-4.91e+11</td> <td> 1.85e+11</td>\n",
       "</tr>\n",
       "<tr>\n",
       "  <th>programFy_2002</th>     <td>-1.533e+11</td> <td> 1.72e+11</td> <td>   -0.889</td> <td> 0.374</td> <td>-4.91e+11</td> <td> 1.85e+11</td>\n",
       "</tr>\n",
       "<tr>\n",
       "  <th>programFy_2003</th>     <td>-1.533e+11</td> <td> 1.72e+11</td> <td>   -0.889</td> <td> 0.374</td> <td>-4.91e+11</td> <td> 1.85e+11</td>\n",
       "</tr>\n",
       "<tr>\n",
       "  <th>programFy_2004</th>     <td>-1.533e+11</td> <td> 1.72e+11</td> <td>   -0.889</td> <td> 0.374</td> <td>-4.91e+11</td> <td> 1.85e+11</td>\n",
       "</tr>\n",
       "<tr>\n",
       "  <th>programFy_2005</th>     <td>-1.533e+11</td> <td> 1.72e+11</td> <td>   -0.889</td> <td> 0.374</td> <td>-4.91e+11</td> <td> 1.85e+11</td>\n",
       "</tr>\n",
       "<tr>\n",
       "  <th>programFy_2006</th>     <td>-1.533e+11</td> <td> 1.72e+11</td> <td>   -0.889</td> <td> 0.374</td> <td>-4.91e+11</td> <td> 1.85e+11</td>\n",
       "</tr>\n",
       "<tr>\n",
       "  <th>programFy_2007</th>     <td>-1.533e+11</td> <td> 1.72e+11</td> <td>   -0.889</td> <td> 0.374</td> <td>-4.91e+11</td> <td> 1.85e+11</td>\n",
       "</tr>\n",
       "<tr>\n",
       "  <th>programFy_2008</th>     <td>-1.533e+11</td> <td> 1.72e+11</td> <td>   -0.889</td> <td> 0.374</td> <td>-4.91e+11</td> <td> 1.85e+11</td>\n",
       "</tr>\n",
       "<tr>\n",
       "  <th>programFy_2009</th>     <td>-1.533e+11</td> <td> 1.72e+11</td> <td>   -0.889</td> <td> 0.374</td> <td>-4.91e+11</td> <td> 1.85e+11</td>\n",
       "</tr>\n",
       "<tr>\n",
       "  <th>programFy_2010</th>     <td>-1.533e+11</td> <td> 1.72e+11</td> <td>   -0.889</td> <td> 0.374</td> <td>-4.91e+11</td> <td> 1.85e+11</td>\n",
       "</tr>\n",
       "<tr>\n",
       "  <th>programFy_2011</th>     <td>-1.533e+11</td> <td> 1.72e+11</td> <td>   -0.889</td> <td> 0.374</td> <td>-4.91e+11</td> <td> 1.85e+11</td>\n",
       "</tr>\n",
       "<tr>\n",
       "  <th>programFy_2012</th>     <td>-1.533e+11</td> <td> 1.72e+11</td> <td>   -0.889</td> <td> 0.374</td> <td>-4.91e+11</td> <td> 1.85e+11</td>\n",
       "</tr>\n",
       "<tr>\n",
       "  <th>programFy_2013</th>     <td>-1.533e+11</td> <td> 1.72e+11</td> <td>   -0.889</td> <td> 0.374</td> <td>-4.91e+11</td> <td> 1.85e+11</td>\n",
       "</tr>\n",
       "<tr>\n",
       "  <th>programFy_2014</th>     <td>-1.533e+11</td> <td> 1.72e+11</td> <td>   -0.889</td> <td> 0.374</td> <td>-4.91e+11</td> <td> 1.85e+11</td>\n",
       "</tr>\n",
       "<tr>\n",
       "  <th>programFy_2015</th>     <td>-1.533e+11</td> <td> 1.72e+11</td> <td>   -0.889</td> <td> 0.374</td> <td>-4.91e+11</td> <td> 1.85e+11</td>\n",
       "</tr>\n",
       "<tr>\n",
       "  <th>programFy_2016</th>     <td>-1.533e+11</td> <td> 1.72e+11</td> <td>   -0.889</td> <td> 0.374</td> <td>-4.91e+11</td> <td> 1.85e+11</td>\n",
       "</tr>\n",
       "<tr>\n",
       "  <th>programFy_2017</th>     <td>-1.533e+11</td> <td> 1.72e+11</td> <td>   -0.889</td> <td> 0.374</td> <td>-4.91e+11</td> <td> 1.85e+11</td>\n",
       "</tr>\n",
       "<tr>\n",
       "  <th>programFy_2018</th>     <td>-1.533e+11</td> <td> 1.72e+11</td> <td>   -0.889</td> <td> 0.374</td> <td>-4.91e+11</td> <td> 1.85e+11</td>\n",
       "</tr>\n",
       "<tr>\n",
       "  <th>programFy_2019</th>     <td>-1.533e+11</td> <td> 1.72e+11</td> <td>   -0.889</td> <td> 0.374</td> <td>-4.91e+11</td> <td> 1.85e+11</td>\n",
       "</tr>\n",
       "<tr>\n",
       "  <th>programFy_2020</th>     <td>-1.533e+11</td> <td> 1.72e+11</td> <td>   -0.889</td> <td> 0.374</td> <td>-4.91e+11</td> <td> 1.85e+11</td>\n",
       "</tr>\n",
       "</table>\n",
       "<table class=\"simpletable\">\n",
       "<tr>\n",
       "  <th>Omnibus:</th>       <td>2577.223</td> <th>  Durbin-Watson:     </th> <td>   1.805</td>\n",
       "</tr>\n",
       "<tr>\n",
       "  <th>Prob(Omnibus):</th>  <td> 0.000</td>  <th>  Jarque-Bera (JB):  </th> <td>1464.962</td>\n",
       "</tr>\n",
       "<tr>\n",
       "  <th>Skew:</th>           <td> 0.531</td>  <th>  Prob(JB):          </th> <td>    0.00</td>\n",
       "</tr>\n",
       "<tr>\n",
       "  <th>Kurtosis:</th>       <td> 2.190</td>  <th>  Cond. No.          </th> <td>6.33e+15</td>\n",
       "</tr>\n",
       "</table><br/><br/>Warnings:<br/>[1] Standard Errors assume that the covariance matrix of the errors is correctly specified.<br/>[2] The smallest eigenvalue is  9e-28. This might indicate that there are<br/>strong multicollinearity problems or that the design matrix is singular."
      ],
      "text/plain": [
       "<class 'statsmodels.iolib.summary.Summary'>\n",
       "\"\"\"\n",
       "                            OLS Regression Results                            \n",
       "==============================================================================\n",
       "Dep. Variable:           Positive_ROI   R-squared:                       0.208\n",
       "Model:                            OLS   Adj. R-squared:                  0.204\n",
       "Method:                 Least Squares   F-statistic:                     54.76\n",
       "Date:                Wed, 17 Feb 2021   Prob (F-statistic):               0.00\n",
       "Time:                        22:37:29   Log-Likelihood:                -10709.\n",
       "No. Observations:               19721   AIC:                         2.161e+04\n",
       "Df Residuals:                   19626   BIC:                         2.236e+04\n",
       "Df Model:                          94                                         \n",
       "Covariance Type:            nonrobust                                         \n",
       "======================================================================================\n",
       "                         coef    std err          t      P>|t|      [0.025      0.975]\n",
       "--------------------------------------------------------------------------------------\n",
       "Intercept           1.783e+11   5.55e+11      0.321      0.748    -9.1e+11    1.27e+12\n",
       "region_1            -6.86e+10   1.06e+11     -0.650      0.516   -2.76e+11    1.38e+11\n",
       "region_2            5.319e+11      4e+11      1.329      0.184   -2.53e+11    1.32e+12\n",
       "region_3           -3.004e+11   3.34e+11     -0.899      0.368   -9.55e+11    3.54e+11\n",
       "region_4            2.187e+11   1.71e+11      1.277      0.202   -1.17e+11    5.54e+11\n",
       "region_5           -2.267e+11   2.97e+11     -0.765      0.444   -8.08e+11    3.54e+11\n",
       "region_6           -7.285e+10   1.16e+11     -0.631      0.528   -2.99e+11    1.54e+11\n",
       "region_7           -7.896e+11   7.08e+11     -1.115      0.265   -2.18e+12    5.99e+11\n",
       "region_8           -4.387e+11   3.34e+11     -1.312      0.190   -1.09e+12    2.17e+11\n",
       "region_9           -1.303e+11   1.51e+11     -0.863      0.388   -4.26e+11    1.65e+11\n",
       "region_10          -1.325e+11   1.29e+11     -1.026      0.305   -3.85e+11    1.21e+11\n",
       "stateNumberCode_1  -3.677e+11   2.18e+11     -1.685      0.092   -7.96e+11    6.01e+10\n",
       "stateNumberCode_2  -1.661e+10   4.42e+10     -0.376      0.707   -1.03e+11       7e+10\n",
       "stateNumberCode_4  -1.882e+10   1.37e+10     -1.369      0.171   -4.58e+10    8.12e+09\n",
       "stateNumberCode_5  -7.621e+10    8.9e+10     -0.856      0.392   -2.51e+11    9.82e+10\n",
       "stateNumberCode_6  -1.882e+10   1.37e+10     -1.369      0.171   -4.58e+10    8.12e+09\n",
       "stateNumberCode_8   2.896e+11   3.05e+11      0.949      0.342   -3.08e+11    8.88e+11\n",
       "stateNumberCode_9  -8.047e+10   1.86e+11     -0.433      0.665   -4.45e+11    2.84e+11\n",
       "stateNumberCode_10  1.513e+11   3.02e+11      0.502      0.616    -4.4e+11    7.42e+11\n",
       "stateNumberCode_11  1.513e+11   3.02e+11      0.502      0.616    -4.4e+11    7.42e+11\n",
       "stateNumberCode_12 -3.677e+11   2.18e+11     -1.685      0.092   -7.96e+11    6.01e+10\n",
       "stateNumberCode_13 -3.677e+11   2.18e+11     -1.685      0.092   -7.96e+11    6.01e+10\n",
       "stateNumberCode_15 -1.882e+10   1.37e+10     -1.369      0.171   -4.58e+10    8.12e+09\n",
       "stateNumberCode_16 -1.661e+10   4.42e+10     -0.376      0.707   -1.03e+11       7e+10\n",
       "stateNumberCode_17  7.767e+10   2.87e+11      0.271      0.786   -4.84e+11     6.4e+11\n",
       "stateNumberCode_18  7.767e+10   2.87e+11      0.271      0.786   -4.84e+11     6.4e+11\n",
       "stateNumberCode_19  6.406e+11   7.04e+11      0.910      0.363   -7.39e+11    2.02e+12\n",
       "stateNumberCode_20  6.406e+11   7.04e+11      0.910      0.363   -7.39e+11    2.02e+12\n",
       "stateNumberCode_21 -3.677e+11   2.18e+11     -1.685      0.092   -7.96e+11    6.01e+10\n",
       "stateNumberCode_22 -7.621e+10    8.9e+10     -0.856      0.392   -2.51e+11    9.82e+10\n",
       "stateNumberCode_23 -8.047e+10   1.86e+11     -0.433      0.665   -4.45e+11    2.84e+11\n",
       "stateNumberCode_24  1.513e+11   3.02e+11      0.502      0.616    -4.4e+11    7.42e+11\n",
       "stateNumberCode_25 -8.047e+10   1.86e+11     -0.433      0.665   -4.45e+11    2.84e+11\n",
       "stateNumberCode_26  7.767e+10   2.87e+11      0.271      0.786   -4.84e+11     6.4e+11\n",
       "stateNumberCode_27  7.767e+10   2.87e+11      0.271      0.786   -4.84e+11     6.4e+11\n",
       "stateNumberCode_28 -3.677e+11   2.18e+11     -1.685      0.092   -7.96e+11    6.01e+10\n",
       "stateNumberCode_29  6.406e+11   7.04e+11      0.910      0.363   -7.39e+11    2.02e+12\n",
       "stateNumberCode_30  2.896e+11   3.05e+11      0.949      0.342   -3.08e+11    8.88e+11\n",
       "stateNumberCode_31  6.406e+11   7.04e+11      0.910      0.363   -7.39e+11    2.02e+12\n",
       "stateNumberCode_32 -1.882e+10   1.37e+10     -1.369      0.171   -4.58e+10    8.12e+09\n",
       "stateNumberCode_33 -8.047e+10   1.86e+11     -0.433      0.665   -4.45e+11    2.84e+11\n",
       "stateNumberCode_34  -6.81e+11   3.79e+11     -1.798      0.072   -1.42e+12    6.14e+10\n",
       "stateNumberCode_35 -7.621e+10    8.9e+10     -0.856      0.392   -2.51e+11    9.82e+10\n",
       "stateNumberCode_36  -6.81e+11   3.79e+11     -1.798      0.072   -1.42e+12    6.14e+10\n",
       "stateNumberCode_37 -3.677e+11   2.18e+11     -1.685      0.092   -7.96e+11    6.01e+10\n",
       "stateNumberCode_38  2.896e+11   3.05e+11      0.949      0.342   -3.08e+11    8.88e+11\n",
       "stateNumberCode_39  7.767e+10   2.87e+11      0.271      0.786   -4.84e+11     6.4e+11\n",
       "stateNumberCode_40 -7.621e+10    8.9e+10     -0.856      0.392   -2.51e+11    9.82e+10\n",
       "stateNumberCode_41 -1.661e+10   4.42e+10     -0.376      0.707   -1.03e+11       7e+10\n",
       "stateNumberCode_42  1.513e+11   3.02e+11      0.502      0.616    -4.4e+11    7.42e+11\n",
       "stateNumberCode_44 -8.047e+10   1.86e+11     -0.433      0.665   -4.45e+11    2.84e+11\n",
       "stateNumberCode_45 -3.677e+11   2.18e+11     -1.685      0.092   -7.96e+11    6.01e+10\n",
       "stateNumberCode_46  2.896e+11   3.05e+11      0.949      0.342   -3.08e+11    8.88e+11\n",
       "stateNumberCode_47 -3.677e+11   2.18e+11     -1.685      0.092   -7.96e+11    6.01e+10\n",
       "stateNumberCode_48 -7.621e+10    8.9e+10     -0.856      0.392   -2.51e+11    9.82e+10\n",
       "stateNumberCode_49  2.896e+11   3.05e+11      0.949      0.342   -3.08e+11    8.88e+11\n",
       "stateNumberCode_50 -8.047e+10   1.86e+11     -0.433      0.665   -4.45e+11    2.84e+11\n",
       "stateNumberCode_51  1.513e+11   3.02e+11      0.502      0.616    -4.4e+11    7.42e+11\n",
       "stateNumberCode_53 -1.661e+10   4.42e+10     -0.376      0.707   -1.03e+11       7e+10\n",
       "stateNumberCode_54  1.513e+11   3.02e+11      0.502      0.616    -4.4e+11    7.42e+11\n",
       "stateNumberCode_55  7.767e+10   2.87e+11      0.271      0.786   -4.84e+11     6.4e+11\n",
       "stateNumberCode_56  2.896e+11   3.05e+11      0.949      0.342   -3.08e+11    8.88e+11\n",
       "stateNumberCode_60 -1.882e+10   1.37e+10     -1.369      0.171   -4.58e+10    8.12e+09\n",
       "stateNumberCode_64 -1.882e+10   1.37e+10     -1.369      0.171   -4.58e+10    8.12e+09\n",
       "stateNumberCode_66 -1.882e+10   1.37e+10     -1.369      0.171   -4.58e+10    8.12e+09\n",
       "stateNumberCode_68 -1.882e+10   1.37e+10     -1.369      0.171   -4.58e+10    8.12e+09\n",
       "stateNumberCode_69 -1.882e+10   1.37e+10     -1.369      0.171   -4.58e+10    8.12e+09\n",
       "stateNumberCode_70 -1.882e+10   1.37e+10     -1.369      0.171   -4.58e+10    8.12e+09\n",
       "stateNumberCode_72  -6.81e+11   3.79e+11     -1.798      0.072   -1.42e+12    6.14e+10\n",
       "stateNumberCode_78  -6.81e+11   3.79e+11     -1.798      0.072   -1.42e+12    6.14e+10\n",
       "programArea_FMA     1.241e+11   4.65e+11      0.267      0.790   -7.87e+11    1.04e+12\n",
       "programArea_HMGP    1.241e+11   4.65e+11      0.267      0.790   -7.87e+11    1.04e+12\n",
       "programArea_LPDM    1.241e+11   4.65e+11      0.267      0.790   -7.87e+11    1.04e+12\n",
       "programArea_PDM     1.241e+11   4.65e+11      0.267      0.790   -7.87e+11    1.04e+12\n",
       "programArea_RFC     1.241e+11   4.65e+11      0.267      0.790   -7.87e+11    1.04e+12\n",
       "programArea_SRL     1.241e+11   4.65e+11      0.267      0.790   -7.87e+11    1.04e+12\n",
       "programFy_1989     -1.533e+11   1.72e+11     -0.889      0.374   -4.91e+11    1.85e+11\n",
       "programFy_1990     -1.533e+11   1.72e+11     -0.889      0.374   -4.91e+11    1.85e+11\n",
       "programFy_1991     -1.533e+11   1.72e+11     -0.889      0.374   -4.91e+11    1.85e+11\n",
       "programFy_1992     -1.533e+11   1.72e+11     -0.889      0.374   -4.91e+11    1.85e+11\n",
       "programFy_1993     -1.533e+11   1.72e+11     -0.889      0.374   -4.91e+11    1.85e+11\n",
       "programFy_1994     -1.533e+11   1.72e+11     -0.889      0.374   -4.91e+11    1.85e+11\n",
       "programFy_1995     -1.533e+11   1.72e+11     -0.889      0.374   -4.91e+11    1.85e+11\n",
       "programFy_1996     -1.533e+11   1.72e+11     -0.889      0.374   -4.91e+11    1.85e+11\n",
       "programFy_1997     -1.533e+11   1.72e+11     -0.889      0.374   -4.91e+11    1.85e+11\n",
       "programFy_1998     -1.533e+11   1.72e+11     -0.889      0.374   -4.91e+11    1.85e+11\n",
       "programFy_1999     -1.533e+11   1.72e+11     -0.889      0.374   -4.91e+11    1.85e+11\n",
       "programFy_2000     -1.533e+11   1.72e+11     -0.889      0.374   -4.91e+11    1.85e+11\n",
       "programFy_2001     -1.533e+11   1.72e+11     -0.889      0.374   -4.91e+11    1.85e+11\n",
       "programFy_2002     -1.533e+11   1.72e+11     -0.889      0.374   -4.91e+11    1.85e+11\n",
       "programFy_2003     -1.533e+11   1.72e+11     -0.889      0.374   -4.91e+11    1.85e+11\n",
       "programFy_2004     -1.533e+11   1.72e+11     -0.889      0.374   -4.91e+11    1.85e+11\n",
       "programFy_2005     -1.533e+11   1.72e+11     -0.889      0.374   -4.91e+11    1.85e+11\n",
       "programFy_2006     -1.533e+11   1.72e+11     -0.889      0.374   -4.91e+11    1.85e+11\n",
       "programFy_2007     -1.533e+11   1.72e+11     -0.889      0.374   -4.91e+11    1.85e+11\n",
       "programFy_2008     -1.533e+11   1.72e+11     -0.889      0.374   -4.91e+11    1.85e+11\n",
       "programFy_2009     -1.533e+11   1.72e+11     -0.889      0.374   -4.91e+11    1.85e+11\n",
       "programFy_2010     -1.533e+11   1.72e+11     -0.889      0.374   -4.91e+11    1.85e+11\n",
       "programFy_2011     -1.533e+11   1.72e+11     -0.889      0.374   -4.91e+11    1.85e+11\n",
       "programFy_2012     -1.533e+11   1.72e+11     -0.889      0.374   -4.91e+11    1.85e+11\n",
       "programFy_2013     -1.533e+11   1.72e+11     -0.889      0.374   -4.91e+11    1.85e+11\n",
       "programFy_2014     -1.533e+11   1.72e+11     -0.889      0.374   -4.91e+11    1.85e+11\n",
       "programFy_2015     -1.533e+11   1.72e+11     -0.889      0.374   -4.91e+11    1.85e+11\n",
       "programFy_2016     -1.533e+11   1.72e+11     -0.889      0.374   -4.91e+11    1.85e+11\n",
       "programFy_2017     -1.533e+11   1.72e+11     -0.889      0.374   -4.91e+11    1.85e+11\n",
       "programFy_2018     -1.533e+11   1.72e+11     -0.889      0.374   -4.91e+11    1.85e+11\n",
       "programFy_2019     -1.533e+11   1.72e+11     -0.889      0.374   -4.91e+11    1.85e+11\n",
       "programFy_2020     -1.533e+11   1.72e+11     -0.889      0.374   -4.91e+11    1.85e+11\n",
       "==============================================================================\n",
       "Omnibus:                     2577.223   Durbin-Watson:                   1.805\n",
       "Prob(Omnibus):                  0.000   Jarque-Bera (JB):             1464.962\n",
       "Skew:                           0.531   Prob(JB):                         0.00\n",
       "Kurtosis:                       2.190   Cond. No.                     6.33e+15\n",
       "==============================================================================\n",
       "\n",
       "Warnings:\n",
       "[1] Standard Errors assume that the covariance matrix of the errors is correctly specified.\n",
       "[2] The smallest eigenvalue is  9e-28. This might indicate that there are\n",
       "strong multicollinearity problems or that the design matrix is singular.\n",
       "\"\"\""
      ]
     },
     "execution_count": 90,
     "metadata": {},
     "output_type": "execute_result"
    }
   ],
   "source": [
    "features = '+'.join(df.drop('Positive_ROI', axis = 1).columns)\n",
    "formula = 'Positive_ROI ~' + features\n",
    "model1 = smf.ols(formula, df).fit()\n",
    "model1.summary()"
   ]
  },
  {
   "cell_type": "code",
   "execution_count": 91,
   "metadata": {
    "scrolled": false
   },
   "outputs": [
    {
     "data": {
      "text/plain": [
       "Intercept         178259268796.756\n",
       "region_1          -68603246594.460\n",
       "region_2          531891806705.496\n",
       "region_3         -300377666572.195\n",
       "region_4          218657375172.626\n",
       "                        ...       \n",
       "programFy_2016   -153277002297.421\n",
       "programFy_2017   -153277002297.422\n",
       "programFy_2018   -153277002297.525\n",
       "programFy_2019   -153277002297.671\n",
       "programFy_2020   -153277002297.808\n",
       "Length: 108, dtype: float64"
      ]
     },
     "execution_count": 91,
     "metadata": {},
     "output_type": "execute_result"
    }
   ],
   "source": [
    "model1.params"
   ]
  },
  {
   "cell_type": "markdown",
   "metadata": {},
   "source": [
    "**To note in our first logistic regression model we can see that regions 1, 2, 3, and 4 are the strongest intercepts.**"
   ]
  },
  {
   "cell_type": "code",
   "execution_count": 92,
   "metadata": {
    "scrolled": true
   },
   "outputs": [
    {
     "name": "stdout",
     "output_type": "stream",
     "text": [
      "Train Classification Report\n",
      "               precision    recall  f1-score   support\n",
      "\n",
      "           0       0.95      0.98      0.96     10718\n",
      "           1       0.96      0.88      0.92      5058\n",
      "\n",
      "    accuracy                           0.95     15776\n",
      "   macro avg       0.95      0.93      0.94     15776\n",
      "weighted avg       0.95      0.95      0.95     15776\n",
      "\n",
      "Test Classification Report\n",
      "               precision    recall  f1-score   support\n",
      "\n",
      "           0       0.94      0.98      0.96      2617\n",
      "           1       0.96      0.88      0.92      1328\n",
      "\n",
      "    accuracy                           0.95      3945\n",
      "   macro avg       0.95      0.93      0.94      3945\n",
      "weighted avg       0.95      0.95      0.95      3945\n",
      "\n",
      "Train Accuracy: 0.95\n",
      "Test Accuracy: 0.947\n"
     ]
    },
    {
     "data": {
      "text/plain": [
       "LogisticRegression()"
      ]
     },
     "execution_count": 92,
     "metadata": {},
     "output_type": "execute_result"
    },
    {
     "data": {
      "image/png": "[encoded data removed]",
      "text/plain": [
       "<Figure size 1008x576 with 4 Axes>"
      ]
     },
     "metadata": {
      "needs_background": "light"
     },
     "output_type": "display_data"
    }
   ],
   "source": [
    "log_reg = LogisticRegression()\n",
    "build_model(log_reg, X_train, X_test, y_train,  y_test)"
   ]
  },
  {
   "cell_type": "markdown",
   "metadata": {},
   "source": [
    "**No changes have occurred because the only thing that we have changed is removing two variables that were highly correlated to our target.**"
   ]
  },
  {
   "cell_type": "markdown",
   "metadata": {},
   "source": [
    "# Baye's Classification Model"
   ]
  },
  {
   "cell_type": "markdown",
   "metadata": {},
   "source": [
    "## Classifies based on conditional probabilities of finding certain features"
   ]
  },
  {
   "cell_type": "code",
   "execution_count": 93,
   "metadata": {},
   "outputs": [
    {
     "name": "stdout",
     "output_type": "stream",
     "text": [
      "Train Classification Report\n",
      "               precision    recall  f1-score   support\n",
      "\n",
      "           0       0.92      0.72      0.81     10718\n",
      "           1       0.59      0.87      0.70      5058\n",
      "\n",
      "    accuracy                           0.77     15776\n",
      "   macro avg       0.76      0.79      0.76     15776\n",
      "weighted avg       0.81      0.77      0.77     15776\n",
      "\n",
      "Test Classification Report\n",
      "               precision    recall  f1-score   support\n",
      "\n",
      "           0       0.90      0.71      0.80      2617\n",
      "           1       0.60      0.85      0.70      1328\n",
      "\n",
      "    accuracy                           0.76      3945\n",
      "   macro avg       0.75      0.78      0.75      3945\n",
      "weighted avg       0.80      0.76      0.77      3945\n",
      "\n",
      "Train Accuracy: 0.767\n",
      "Test Accuracy: 0.759\n"
     ]
    },
    {
     "data": {
      "text/plain": [
       "GaussianNB()"
      ]
     },
     "execution_count": 93,
     "metadata": {},
     "output_type": "execute_result"
    },
    {
     "data": {
      "image/png": "[encoded data removed]",
      "text/plain": [
       "<Figure size 1008x576 with 4 Axes>"
      ]
     },
     "metadata": {
      "needs_background": "light"
     },
     "output_type": "display_data"
    }
   ],
   "source": [
    "bayesmodel = GaussianNB()\n",
    "build_model(bayesmodel, X_train, X_test, y_train,  y_test)"
   ]
  },
  {
   "cell_type": "markdown",
   "metadata": {},
   "source": [
    "# Multinomial Bayes Model"
   ]
  },
  {
   "cell_type": "markdown",
   "metadata": {},
   "source": [
    "## What is it?"
   ]
  },
  {
   "cell_type": "code",
   "execution_count": 95,
   "metadata": {},
   "outputs": [
    {
     "ename": "TypeError",
     "evalue": "build_model() missing 2 required positional arguments: 'y_train' and 'y_test'",
     "output_type": "error",
     "traceback": [
      "\u001b[1;31m---------------------------------------------------------------------------\u001b[0m",
      "\u001b[1;31mTypeError\u001b[0m                                 Traceback (most recent call last)",
      "\u001b[1;32m<ipython-input-95-57a4a6575962>\u001b[0m in \u001b[0;36m<module>\u001b[1;34m\u001b[0m\n\u001b[1;32m----> 1\u001b[1;33m \u001b[0mmultinomialbayesmodel\u001b[0m \u001b[1;33m=\u001b[0m \u001b[0mbuild_model\u001b[0m\u001b[1;33m(\u001b[0m\u001b[0mMultinomialNB\u001b[0m\u001b[1;33m(\u001b[0m\u001b[1;33m)\u001b[0m\u001b[1;33m,\u001b[0m \u001b[0mX\u001b[0m\u001b[1;33m,\u001b[0m \u001b[0my\u001b[0m\u001b[1;33m)\u001b[0m\u001b[1;33m\u001b[0m\u001b[1;33m\u001b[0m\u001b[0m\n\u001b[0m\u001b[0;32m      2\u001b[0m \u001b[0mmultinomialmodel_results\u001b[0m \u001b[1;33m=\u001b[0m \u001b[0mbuild_model\u001b[0m\u001b[1;33m.\u001b[0m\u001b[0mresults\u001b[0m\u001b[1;33m\u001b[0m\u001b[1;33m\u001b[0m\u001b[0m\n",
      "\u001b[1;31mTypeError\u001b[0m: build_model() missing 2 required positional arguments: 'y_train' and 'y_test'"
     ]
    }
   ],
   "source": [
    "multinomialbayesmodel = build_model(MultinomialNB(), X, y)\n",
    "multinomialmodel_results = build_model.results"
   ]
  },
  {
   "cell_type": "markdown",
   "metadata": {},
   "source": [
    "# Decision Tree Model"
   ]
  },
  {
   "cell_type": "markdown",
   "metadata": {},
   "source": [
    "## Classifies based on conditional probabilities, splits based on Gini/entropy\n"
   ]
  },
  {
   "cell_type": "code",
   "execution_count": 96,
   "metadata": {},
   "outputs": [
    {
     "ename": "TypeError",
     "evalue": "build_model() missing 2 required positional arguments: 'y_train' and 'y_test'",
     "output_type": "error",
     "traceback": [
      "\u001b[1;31m---------------------------------------------------------------------------\u001b[0m",
      "\u001b[1;31mTypeError\u001b[0m                                 Traceback (most recent call last)",
      "\u001b[1;32m<ipython-input-96-15f07e81707d>\u001b[0m in \u001b[0;36m<module>\u001b[1;34m\u001b[0m\n\u001b[1;32m----> 1\u001b[1;33m \u001b[0mdescisionmodel\u001b[0m \u001b[1;33m=\u001b[0m \u001b[0mbuild_model\u001b[0m\u001b[1;33m(\u001b[0m\u001b[0mDecisionTreeClassifier\u001b[0m\u001b[1;33m(\u001b[0m\u001b[0mrandom_state\u001b[0m\u001b[1;33m=\u001b[0m\u001b[1;36m123\u001b[0m\u001b[1;33m)\u001b[0m\u001b[1;33m,\u001b[0m \u001b[0mX\u001b[0m\u001b[1;33m,\u001b[0m \u001b[0my\u001b[0m\u001b[1;33m)\u001b[0m\u001b[1;33m\u001b[0m\u001b[1;33m\u001b[0m\u001b[0m\n\u001b[0m\u001b[0;32m      2\u001b[0m \u001b[0mdecisionmodel_results\u001b[0m \u001b[1;33m=\u001b[0m \u001b[0mbuild_model\u001b[0m\u001b[1;33m.\u001b[0m\u001b[0mresults\u001b[0m\u001b[1;33m\u001b[0m\u001b[1;33m\u001b[0m\u001b[0m\n",
      "\u001b[1;31mTypeError\u001b[0m: build_model() missing 2 required positional arguments: 'y_train' and 'y_test'"
     ]
    }
   ],
   "source": [
    "descisionmodel = build_model(DecisionTreeClassifier(random_state=123), X, y)\n",
    "decisionmodel_results = build_model.results"
   ]
  },
  {
   "cell_type": "markdown",
   "metadata": {},
   "source": [
    "# Random Forest Model"
   ]
  },
  {
   "cell_type": "markdown",
   "metadata": {},
   "source": [
    "## Uses multiple decision trees to create a \"forest\"; each tree uses a random set of sample features"
   ]
  },
  {
   "cell_type": "code",
   "execution_count": 97,
   "metadata": {},
   "outputs": [
    {
     "ename": "TypeError",
     "evalue": "build_model() missing 2 required positional arguments: 'y_train' and 'y_test'",
     "output_type": "error",
     "traceback": [
      "\u001b[1;31m---------------------------------------------------------------------------\u001b[0m",
      "\u001b[1;31mTypeError\u001b[0m                                 Traceback (most recent call last)",
      "\u001b[1;32m<ipython-input-97-31c0d38647a0>\u001b[0m in \u001b[0;36m<module>\u001b[1;34m\u001b[0m\n\u001b[1;32m----> 1\u001b[1;33m \u001b[0mrandomforestmodel\u001b[0m \u001b[1;33m=\u001b[0m \u001b[0mbuild_model\u001b[0m\u001b[1;33m(\u001b[0m\u001b[0mRandomForestClassifier\u001b[0m\u001b[1;33m(\u001b[0m\u001b[0mrandom_state\u001b[0m\u001b[1;33m=\u001b[0m\u001b[1;36m123\u001b[0m\u001b[1;33m)\u001b[0m\u001b[1;33m,\u001b[0m \u001b[0mX\u001b[0m\u001b[1;33m,\u001b[0m \u001b[0my\u001b[0m\u001b[1;33m)\u001b[0m\u001b[1;33m\u001b[0m\u001b[1;33m\u001b[0m\u001b[0m\n\u001b[0m\u001b[0;32m      2\u001b[0m \u001b[0mrandomforestmodel_results\u001b[0m \u001b[1;33m=\u001b[0m \u001b[0mbuild_model\u001b[0m\u001b[1;33m.\u001b[0m\u001b[0mresults\u001b[0m\u001b[1;33m\u001b[0m\u001b[1;33m\u001b[0m\u001b[0m\n",
      "\u001b[1;31mTypeError\u001b[0m: build_model() missing 2 required positional arguments: 'y_train' and 'y_test'"
     ]
    }
   ],
   "source": [
    "randomforestmodel = build_model(RandomForestClassifier(random_state=123), X, y)\n",
    "randomforestmodel_results = build_model.results"
   ]
  },
  {
   "cell_type": "markdown",
   "metadata": {},
   "source": [
    "# XGBoost Model\n"
   ]
  },
  {
   "cell_type": "markdown",
   "metadata": {},
   "source": [
    "## Stands for “Extreme Gradient Boosting”. XGBoost is an implementation of gradient boosted decision trees designed for speed and performance."
   ]
  },
  {
   "cell_type": "code",
   "execution_count": 98,
   "metadata": {},
   "outputs": [
    {
     "ename": "TypeError",
     "evalue": "build_model() missing 2 required positional arguments: 'y_train' and 'y_test'",
     "output_type": "error",
     "traceback": [
      "\u001b[1;31m---------------------------------------------------------------------------\u001b[0m",
      "\u001b[1;31mTypeError\u001b[0m                                 Traceback (most recent call last)",
      "\u001b[1;32m<ipython-input-98-5a94576bad50>\u001b[0m in \u001b[0;36m<module>\u001b[1;34m\u001b[0m\n\u001b[1;32m----> 1\u001b[1;33m \u001b[0mxgboostmodel\u001b[0m \u001b[1;33m=\u001b[0m \u001b[0mbuild_model\u001b[0m\u001b[1;33m(\u001b[0m\u001b[0mxgboost\u001b[0m\u001b[1;33m.\u001b[0m\u001b[0mXGBClassifier\u001b[0m\u001b[1;33m(\u001b[0m\u001b[0mrandom_state\u001b[0m\u001b[1;33m=\u001b[0m\u001b[1;36m123\u001b[0m\u001b[1;33m)\u001b[0m\u001b[1;33m,\u001b[0m \u001b[0mX\u001b[0m\u001b[1;33m,\u001b[0m \u001b[0my\u001b[0m\u001b[1;33m)\u001b[0m\u001b[1;33m\u001b[0m\u001b[1;33m\u001b[0m\u001b[0m\n\u001b[0m\u001b[0;32m      2\u001b[0m \u001b[0mxgboostmodel9_results\u001b[0m \u001b[1;33m=\u001b[0m \u001b[0mbuild_model\u001b[0m\u001b[1;33m.\u001b[0m\u001b[0mresults\u001b[0m\u001b[1;33m\u001b[0m\u001b[1;33m\u001b[0m\u001b[0m\n",
      "\u001b[1;31mTypeError\u001b[0m: build_model() missing 2 required positional arguments: 'y_train' and 'y_test'"
     ]
    }
   ],
   "source": [
    "xgboostmodel = build_model(xgboost.XGBClassifier(random_state=123), X, y)\n",
    "xgboostmodel9_results = build_model.results"
   ]
  },
  {
   "cell_type": "markdown",
   "metadata": {},
   "source": [
    "# Hyptertuning with an XGBoost Model"
   ]
  },
  {
   "cell_type": "code",
   "execution_count": null,
   "metadata": {},
   "outputs": [],
   "source": [
    "param_grid = {\n",
    "    \"learning_rate\": [0.1],\n",
    "    'max_depth': [1, 2, 3],\n",
    "    'n_estimators': [50, 100],\n",
    "    'scale_pos_weight': [5]\n",
    "}"
   ]
  },
  {
   "cell_type": "code",
   "execution_count": null,
   "metadata": {},
   "outputs": [],
   "source": [
    "grid_clf = GridSearchCV(xgboost.XGBClassifier(random_state=123), param_grid=param_grid, scoring='recall', \n",
    "                        cv=3, n_jobs=1, return_train_score=True)\n",
    "grid_clf.fit(build_model.X_train, build_model.y_train)\n",
    "\n",
    "best_parameters = grid_clf.best_params_\n",
    "\n",
    "print(\"Grid Search found the following parameters: \")\n",
    "for param_name in sorted(best_parameters.keys()):\n",
    "    print(\"%s: %r\" % (param_name, best_parameters[param_name]))\n",
    "    \n",
    "# Mean training score\n",
    "gs_training_score = np.mean(grid_clf.cv_results_['mean_train_score'])\n",
    "\n",
    "# Mean test score\n",
    "gs_testing_score = grid_clf.score(build_model.X_test, build_model.y_test)\n",
    "\n",
    "print(f\"Mean Training Score: {gs_training_score :.2%}\")\n",
    "print(f\"Mean Test Score: {gs_testing_score :.2%}\")\n",
    "print(\"Best Parameter Combination Found During Grid Search:\")\n",
    "grid_clf.best_params_"
   ]
  },
  {
   "cell_type": "code",
   "execution_count": null,
   "metadata": {},
   "outputs": [],
   "source": [
    "xgboosttuningmodel = build_model(xgboost.XGBClassifier(learning_rate=0.1, max_depth=2, n_estimators=50, \n",
    "                                          scale_pos_weight=5, random_state=123), X, y)\n",
    "xgboosttuningmodel_results = build_model.results"
   ]
  },
  {
   "cell_type": "markdown",
   "metadata": {},
   "source": [
    "# Final Findings"
   ]
  },
  {
   "cell_type": "code",
   "execution_count": null,
   "metadata": {},
   "outputs": [],
   "source": [
    "### Comments on final findings and best model..."
   ]
  },
  {
   "cell_type": "code",
   "execution_count": 94,
   "metadata": {},
   "outputs": [
    {
     "ename": "NameError",
     "evalue": "name 'target' is not defined",
     "output_type": "error",
     "traceback": [
      "\u001b[1;31m---------------------------------------------------------------------------\u001b[0m",
      "\u001b[1;31mNameError\u001b[0m                                 Traceback (most recent call last)",
      "\u001b[1;32m<ipython-input-94-fec54b04c1e6>\u001b[0m in \u001b[0;36m<module>\u001b[1;34m\u001b[0m\n\u001b[0;32m      1\u001b[0m \u001b[1;31m#def model_fun(df, target='benefitCostRatio', test_size=0.25):\u001b[0m\u001b[1;33m\u001b[0m\u001b[1;33m\u001b[0m\u001b[1;33m\u001b[0m\u001b[0m\n\u001b[1;32m----> 2\u001b[1;33m \u001b[0mX\u001b[0m \u001b[1;33m=\u001b[0m \u001b[0mdf\u001b[0m\u001b[1;33m.\u001b[0m\u001b[0mdrop\u001b[0m\u001b[1;33m(\u001b[0m\u001b[1;33m[\u001b[0m\u001b[0mtarget\u001b[0m\u001b[1;33m]\u001b[0m\u001b[1;33m,\u001b[0m \u001b[0maxis\u001b[0m\u001b[1;33m=\u001b[0m\u001b[1;36m1\u001b[0m\u001b[1;33m)\u001b[0m\u001b[1;33m\u001b[0m\u001b[1;33m\u001b[0m\u001b[0m\n\u001b[0m\u001b[0;32m      3\u001b[0m \u001b[0my\u001b[0m \u001b[1;33m=\u001b[0m \u001b[0mdf\u001b[0m\u001b[1;33m[\u001b[0m\u001b[1;33m[\u001b[0m\u001b[0mtarget\u001b[0m\u001b[1;33m]\u001b[0m\u001b[1;33m]\u001b[0m\u001b[1;33m\u001b[0m\u001b[1;33m\u001b[0m\u001b[0m\n\u001b[0;32m      4\u001b[0m \u001b[1;31m# Defining training test data\u001b[0m\u001b[1;33m\u001b[0m\u001b[1;33m\u001b[0m\u001b[1;33m\u001b[0m\u001b[0m\n\u001b[0;32m      5\u001b[0m X_train, X_test, y_train, y_test = train_test_split(X, y, \n",
      "\u001b[1;31mNameError\u001b[0m: name 'target' is not defined"
     ]
    }
   ],
   "source": [
    "#def model_fun(df, target='benefitCostRatio', test_size=0.25):\n",
    "X = df.drop([target], axis=1)\n",
    "y = df[[target]]    \n",
    "# Defining training test data\n",
    "X_train, X_test, y_train, y_test = train_test_split(X, y, \n",
    "                                                    test_size=test_size, \n",
    "                                                    random_state=123)\n",
    "# Defining df with the split data\n",
    "df_train = pd.concat([y_train, X_train], axis=1)\n",
    "df_test = pd.concat([y_test, X_test], axis=1) \n",
    "# Getting the categorical columns\n",
    "cat_cols = df_train.select_dtypes('category').columns\n",
    "# Making the model summary\n",
    "features = '+'.join(df_train.drop(columns=target).columns)\n",
    "# Looping through categoricals to make the formula\n",
    "for col in cat_cols:\n",
    "    features = features.replace(col,f'C({col})')   \n",
    "    formula = target + '~' + features\n",
    "    model = smf.ols(formula, df_train).fit()\n",
    "# QQ plot of the residuals for normality\n",
    "    fig, axes = plt.subplots(ncols=2, figsize=(20, 5))\n",
    "    sm.graphics.qqplot(model.resid, fit=True, line='45', ax=axes[0])\n",
    "    axes[0].set_title('QQ Plot of Residuals', fontsize=20)\n",
    "# Homoscedasticity of Residuals\n",
    "    ax=axes[1]\n",
    "    ax.scatter(df_train['benefitCostRatio'], model.resid)\n",
    "    ax.axhline(0, color='red')\n",
    "    axes[1].set_title('Homoscedasticity of Residuals', fontsize=20)\n",
    "    plt.show();\n",
    "# Getting the predicted y values from the model\n",
    "    y_predicted = model.predict(X_test)\n",
    "    \n",
    "# Plotting a scatterplot of the training vs original test data prices e\n",
    "    plt.figure(figsize=(20,5))\n",
    "    g = sns.scatterplot(range(len(y_predicted[:200])), y_predicted[:200], \n",
    "                        label='Predicted Prices')\n",
    "    g = sns.scatterplot(range(len(y_test[:200])), y_test.benefitCostRatio[:200], \n",
    "                        label='Actual Prices')\n",
    "\n",
    "# Visual titles, labels, and legends of the plots\n",
    "    plt.title('Comparison of predicted vs actual price', \n",
    "              fontdict={'fontsize':20})\n",
    "    plt.xlabel('Values')\n",
    "    plt.ylabel('Amount')\n",
    "    plt.legend()\n",
    "    plt.show();\n",
    "# Generating the r2 for the test data to compare to the train data \n",
    "    r2_test = r2_score(y_test, y_predicted)\n",
    "    print('Model test data R2 score:', r2_test)\n",
    "# Displaying everything\n",
    "    display(model.summary())\n",
    "    return model"
   ]
  },
  {
   "cell_type": "code",
   "execution_count": null,
   "metadata": {},
   "outputs": [],
   "source": [
    "#functionmodel1 = model_fun(df)"
   ]
  },
  {
   "cell_type": "markdown",
   "metadata": {},
   "source": [
    "# Hypertuning & Supervised Changes"
   ]
  },
  {
   "cell_type": "code",
   "execution_count": null,
   "metadata": {},
   "outputs": [],
   "source": [
    "# We can see from the low values that month has many low p-value features\n",
    "df3 = df2.copy()\n",
    "df3.drop(columns=(['programFy', 'stateNumberCode']), inplace=True)\n",
    "df3.shape"
   ]
  },
  {
   "cell_type": "markdown",
   "metadata": {},
   "source": [
    "# Conclusions"
   ]
  },
  {
   "cell_type": "markdown",
   "metadata": {},
   "source": [
    "- More funds should be allocated to hazard mitigation in all categories as natural disasters and subsequently recovery are increasing"
   ]
  },
  {
   "cell_type": "markdown",
   "metadata": {},
   "source": [
    "**Less common Natural Disaster Preparedness**\n",
    "\n",
    "- The costs of COVID-19 surpass all categories of natural disaster recovery costs**\n",
    "\n",
    "- Volcanoes were second highest cost even though they are less common natural disaster**\n"
   ]
  }
 ],
 "metadata": {
  "kernelspec": {
   "display_name": "Python [conda env:learn-env] *",
   "language": "python",
   "name": "conda-env-learn-env-py"
  },
  "language_info": {
   "codemirror_mode": {
    "name": "ipython",
    "version": 3
   },
   "file_extension": ".py",
   "mimetype": "text/x-python",
   "name": "python",
   "nbconvert_exporter": "python",
   "pygments_lexer": "ipython3",
   "version": "3.6.9"
  },
  "toc": {
   "base_numbering": 1,
   "nav_menu": {},
   "number_sections": false,
   "sideBar": true,
   "skip_h1_title": false,
   "title_cell": "Table of Contents",
   "title_sidebar": "Contents",
   "toc_cell": false,
   "toc_position": {
    "height": "calc(100% - 180px)",
    "left": "10px",
    "top": "150px",
    "width": "219.188px"
   },
   "toc_section_display": true,
   "toc_window_display": true
  }
 },
 "nbformat": 4,
 "nbformat_minor": 2
}
